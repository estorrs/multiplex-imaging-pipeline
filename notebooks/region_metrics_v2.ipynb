{
 "cells": [
  {
   "cell_type": "code",
   "execution_count": 1,
   "id": "b0e0e3e7",
   "metadata": {},
   "outputs": [],
   "source": [
    "import math\n",
    "import os\n",
    "import shutil\n",
    "import pandas aqs pd\n",
    "import numpy as np\n",
    "import matplotlib.pyplot as plt\n",
    "import scanpy as sc\n",
    "import seaborn as sns\n",
    "import tifffile\n",
    "import torchvision.transforms.functional as TF\n",
    "import torch\n",
    "from pathlib import Path\n",
    "from collections import Counter\n",
    "\n",
    "from skimage.measure import regionprops_table, regionprops\n",
    "from skimage.morphology import label, binary_erosion\n",
    "from skimage.segmentation import expand_labels\n",
    "from skimage.exposure import rescale_intensity\n",
    "from einops import rearrange\n"
   ]
  },
  {
   "cell_type": "code",
   "execution_count": 2,
   "id": "70f2aaa3",
   "metadata": {},
   "outputs": [],
   "source": [
    "%load_ext autoreload"
   ]
  },
  {
   "cell_type": "code",
   "execution_count": 3,
   "id": "889cbd33",
   "metadata": {},
   "outputs": [],
   "source": [
    "%autoreload 2"
   ]
  },
  {
   "cell_type": "code",
   "execution_count": 4,
   "id": "7d29a7a5",
   "metadata": {},
   "outputs": [],
   "source": [
    "from mip.utils import listfiles, extract_ome_tiff, R_CHANNEL_MAPPING, make_pseudo, display_region"
   ]
  },
  {
   "cell_type": "markdown",
   "id": "8067b0fe",
   "metadata": {},
   "source": [
    "#### in house"
   ]
  },
  {
   "cell_type": "code",
   "execution_count": 5,
   "id": "4dab385a",
   "metadata": {},
   "outputs": [],
   "source": [
    "out_dir = '/diskmnt/Projects/Users/estorrs/multiplex_data/analysis/brca_dcis_v2/region_analysis_v3'\n",
    "Path(out_dir).mkdir(parents=True, exist_ok=True)"
   ]
  },
  {
   "cell_type": "code",
   "execution_count": 6,
   "id": "6818dc97",
   "metadata": {},
   "outputs": [],
   "source": [
    "name_map = {\n",
    "    'HT110B1_S1H4': 'HT110B1-S1H4',\n",
    "    'HT171B1-S1H9A1-4_left_05122023': 'HT171B1-S1H9A1-4_left_05122023',\n",
    "    'HT171B1-S1H9A1-4_right_05122023': 'HT171B1-S1H9A1-4_right_05122023',\n",
    "    'HT206B1_H1': 'HT206B1-H1',\n",
    "    'HT206B1_H1_06252022': 'HT206B1_H1_06252022',\n",
    "    'HT206B1_S1H2L4_20221028': 'HT206B1_S1H2L4',\n",
    "    'HT243B1-S1H4A4_04192023': 'HT243B1-S1H4A4_04192023',\n",
    "    'HT243B1-S1H4A4_left_05122023': 'HT243B1-S1H4A4_left_05122023',\n",
    "    'HT243B1-S1H4A4_right_05122023': 'HT243B1-S1H4A4_right_05122023',\n",
    "    'HT243B1_S1H4': 'HT243B1-S1H4',\n",
    "    'HT271B1-S1H6A5_04192023': 'HT271B1-S1H6A5_04192023',\n",
    "    'HT271B1-S1H6A5_left_05122023': 'HT271B1-S1H6A5_left_05122023',\n",
    "    'HT271B1-S1H6A5_right_05122023': 'HT271B1-S1H6A5_right_05122023',\n",
    "#     'HT271B1_S1H3A5_02172023': 'HT271B1_S1H3A5',\n",
    "    'HT297B1_H1_08042022': 'HT297B1-H1-08042022',\n",
    "    'HT305B1_S1H1': 'HT305B1-S1H1',\n",
    "    'HT308B1-S1H5A4_04192023': 'HT308B1-S1H5A4_04192023',\n",
    "    'HT308B1-S1H5A4_left_05122023': 'HT308B1-S1H5A4_left_05122023',\n",
    "    'HT308B1-S1H5A4_right_05122023': 'HT308B1-S1H5A4_right_05122023',\n",
    "    'HT323B1_H1A1': 'HT323B1-H1A1',\n",
    "    'HT323B1_H1A4': 'HT323B1-H1A4',\n",
    "    'HT323B1_H1_08042022': 'HT323B1-H1-08042022',\n",
    "    'HT323B1_H3': 'HT323B1-H3',\n",
    "    'HT339B1_H1A1': 'HT339B1-H1A1',\n",
    "    'HT339B1_H2A1': 'HT339B1-H2A1',\n",
    "    'HT339B1_H4A4': 'HT339B1-H4A4',\n",
    "    'HT365B1_S1H1_02132023': 'HT365B1_S1H1',\n",
    "    'HT397B1_H2A2': 'HT397B1-H2A2',\n",
    "    'HT397B1_H3A1': 'HT397B1-H3A1',\n",
    "    'HT397B1_S1H1A3U22_04122023': 'HT397B1_S1H1A3U22_04122023',\n",
    "    'HT397B1_S1H1A3U31_04062023': 'HT397B1_S1H1A3U31_04062023',\n",
    "    'HT397B1_U12_03172023': 'HT397B1_U12_03172023',\n",
    "    'HT397B1_U2_03162023': 'HT397B1_U2_03162023',\n",
    "    'HT480B1_S1H2_R001': 'HT480B1-S1H2-R001',\n",
    "    'HT480B1_S1H2_R002': 'HT480B1-S1H2-R002',\n",
    "    'HT565B1-H2_04262023': 'HT565B1-H2_04262023',\n",
    "    'HT342C1_Th1K4A1_section1_03042022': 'HT342C1_Th1K4A1_section1_03042022',\n",
    "    'HT342C1_Th1K4A1_section2_03042022': 'HT342C1_Th1K4A1_section2_03042022',\n",
    "    'HT347C1_Th1K2A1_section1_03042022': 'HT347C1_Th1K2A1_section1_03042022',\n",
    "    'HT347C1_Th1K2A1_section2_03042022': 'HT347C1_Th1K2A1_section2_03042022',\n",
    "    'HT413C1-K2_04262023': 'HT413C1-K2_04262023',\n",
    "    'HT488C1-Th1K1Fp1-U14_041823': 'HT488C1-Th1K1Fp1-U14_041823',\n",
    "    'HT488C1-Th1K1Fp1-U2_041323': 'HT488C1-Th1K1Fp1-U2_041323',\n",
    "    'HT553P1-H2_04262023': 'HT553P1-H2_04262023',\n",
    "    'HT427P1_S1H1A3_20221020': 'HT427P1_S1H1A3',\n",
    "}\n",
    "r_name_map = {v:k for k, v in name_map.items()}"
   ]
  },
  {
   "cell_type": "code",
   "execution_count": 7,
   "id": "0a7372b8",
   "metadata": {
    "scrolled": true
   },
   "outputs": [
    {
     "data": {
      "text/plain": [
       "['/diskmnt/Projects/Users/estorrs/multiplex_data/analysis/brca_dcis_v2/preprocessing/htan/region_mask/HT110B1_S1H4.tif',\n",
       " '/diskmnt/Projects/Users/estorrs/multiplex_data/analysis/brca_dcis_v2/preprocessing/htan/region_mask/HT171B1-S1H9A1-4_left_05122023.tif',\n",
       " '/diskmnt/Projects/Users/estorrs/multiplex_data/analysis/brca_dcis_v2/preprocessing/htan/region_mask/HT171B1-S1H9A1-4_right_05122023.tif',\n",
       " '/diskmnt/Projects/Users/estorrs/multiplex_data/analysis/brca_dcis_v2/preprocessing/htan/region_mask/HT206B1_H1.tif',\n",
       " '/diskmnt/Projects/Users/estorrs/multiplex_data/analysis/brca_dcis_v2/preprocessing/htan/region_mask/HT206B1_H1_06252022.tif',\n",
       " '/diskmnt/Projects/Users/estorrs/multiplex_data/analysis/brca_dcis_v2/preprocessing/htan/region_mask/HT206B1_S1H2L4_20221028.tif',\n",
       " '/diskmnt/Projects/Users/estorrs/multiplex_data/analysis/brca_dcis_v2/preprocessing/htan/region_mask/HT243B1-S1H4A4_04192023.tif',\n",
       " '/diskmnt/Projects/Users/estorrs/multiplex_data/analysis/brca_dcis_v2/preprocessing/htan/region_mask/HT243B1-S1H4A4_left_05122023.tif',\n",
       " '/diskmnt/Projects/Users/estorrs/multiplex_data/analysis/brca_dcis_v2/preprocessing/htan/region_mask/HT243B1-S1H4A4_right_05122023.tif',\n",
       " '/diskmnt/Projects/Users/estorrs/multiplex_data/analysis/brca_dcis_v2/preprocessing/htan/region_mask/HT243B1_S1H4.tif',\n",
       " '/diskmnt/Projects/Users/estorrs/multiplex_data/analysis/brca_dcis_v2/preprocessing/htan/region_mask/HT271B1-S1H6A5_04192023.tif',\n",
       " '/diskmnt/Projects/Users/estorrs/multiplex_data/analysis/brca_dcis_v2/preprocessing/htan/region_mask/HT271B1-S1H6A5_left_05122023.tif',\n",
       " '/diskmnt/Projects/Users/estorrs/multiplex_data/analysis/brca_dcis_v2/preprocessing/htan/region_mask/HT271B1-S1H6A5_right_05122023.tif',\n",
       " '/diskmnt/Projects/Users/estorrs/multiplex_data/analysis/brca_dcis_v2/preprocessing/htan/region_mask/HT271B1_S1H3A5_02172023.tif',\n",
       " '/diskmnt/Projects/Users/estorrs/multiplex_data/analysis/brca_dcis_v2/preprocessing/htan/region_mask/HT297B1_H1_08042022.tif',\n",
       " '/diskmnt/Projects/Users/estorrs/multiplex_data/analysis/brca_dcis_v2/preprocessing/htan/region_mask/HT305B1_S1H1.tif',\n",
       " '/diskmnt/Projects/Users/estorrs/multiplex_data/analysis/brca_dcis_v2/preprocessing/htan/region_mask/HT308B1-S1H5A4_04192023.tif',\n",
       " '/diskmnt/Projects/Users/estorrs/multiplex_data/analysis/brca_dcis_v2/preprocessing/htan/region_mask/HT308B1-S1H5A4_left_05122023.tif',\n",
       " '/diskmnt/Projects/Users/estorrs/multiplex_data/analysis/brca_dcis_v2/preprocessing/htan/region_mask/HT308B1-S1H5A4_right_05122023.tif',\n",
       " '/diskmnt/Projects/Users/estorrs/multiplex_data/analysis/brca_dcis_v2/preprocessing/htan/region_mask/HT323B1_H1A1.tif',\n",
       " '/diskmnt/Projects/Users/estorrs/multiplex_data/analysis/brca_dcis_v2/preprocessing/htan/region_mask/HT323B1_H1A4.tif',\n",
       " '/diskmnt/Projects/Users/estorrs/multiplex_data/analysis/brca_dcis_v2/preprocessing/htan/region_mask/HT323B1_H1_08042022.tif',\n",
       " '/diskmnt/Projects/Users/estorrs/multiplex_data/analysis/brca_dcis_v2/preprocessing/htan/region_mask/HT323B1_H3.tif',\n",
       " '/diskmnt/Projects/Users/estorrs/multiplex_data/analysis/brca_dcis_v2/preprocessing/htan/region_mask/HT339B1_H1A1.tif',\n",
       " '/diskmnt/Projects/Users/estorrs/multiplex_data/analysis/brca_dcis_v2/preprocessing/htan/region_mask/HT339B1_H2A1.tif',\n",
       " '/diskmnt/Projects/Users/estorrs/multiplex_data/analysis/brca_dcis_v2/preprocessing/htan/region_mask/HT339B1_H4A4.tif',\n",
       " '/diskmnt/Projects/Users/estorrs/multiplex_data/analysis/brca_dcis_v2/preprocessing/htan/region_mask/HT342C1_Th1K4A1_section1_03042022.tif',\n",
       " '/diskmnt/Projects/Users/estorrs/multiplex_data/analysis/brca_dcis_v2/preprocessing/htan/region_mask/HT342C1_Th1K4A1_section2_03042022.tif',\n",
       " '/diskmnt/Projects/Users/estorrs/multiplex_data/analysis/brca_dcis_v2/preprocessing/htan/region_mask/HT347C1_Th1K2A1_section1_03042022.tif',\n",
       " '/diskmnt/Projects/Users/estorrs/multiplex_data/analysis/brca_dcis_v2/preprocessing/htan/region_mask/HT347C1_Th1K2A1_section2_03042022.tif',\n",
       " '/diskmnt/Projects/Users/estorrs/multiplex_data/analysis/brca_dcis_v2/preprocessing/htan/region_mask/HT365B1_S1H1_02132023.tif',\n",
       " '/diskmnt/Projects/Users/estorrs/multiplex_data/analysis/brca_dcis_v2/preprocessing/htan/region_mask/HT397B1_H2A2.tif',\n",
       " '/diskmnt/Projects/Users/estorrs/multiplex_data/analysis/brca_dcis_v2/preprocessing/htan/region_mask/HT397B1_H3A1.tif',\n",
       " '/diskmnt/Projects/Users/estorrs/multiplex_data/analysis/brca_dcis_v2/preprocessing/htan/region_mask/HT397B1_S1H1A3U22_04122023.tif',\n",
       " '/diskmnt/Projects/Users/estorrs/multiplex_data/analysis/brca_dcis_v2/preprocessing/htan/region_mask/HT397B1_S1H1A3U31_04062023.tif',\n",
       " '/diskmnt/Projects/Users/estorrs/multiplex_data/analysis/brca_dcis_v2/preprocessing/htan/region_mask/HT397B1_U12_03172023.tif',\n",
       " '/diskmnt/Projects/Users/estorrs/multiplex_data/analysis/brca_dcis_v2/preprocessing/htan/region_mask/HT397B1_U2_03162023.tif',\n",
       " '/diskmnt/Projects/Users/estorrs/multiplex_data/analysis/brca_dcis_v2/preprocessing/htan/region_mask/HT413C1-K2_04262023.tif',\n",
       " '/diskmnt/Projects/Users/estorrs/multiplex_data/analysis/brca_dcis_v2/preprocessing/htan/region_mask/HT427P1_S1H1A3_20221020.tif',\n",
       " '/diskmnt/Projects/Users/estorrs/multiplex_data/analysis/brca_dcis_v2/preprocessing/htan/region_mask/HT480B1_S1H2_R001.tif',\n",
       " '/diskmnt/Projects/Users/estorrs/multiplex_data/analysis/brca_dcis_v2/preprocessing/htan/region_mask/HT480B1_S1H2_R002.tif',\n",
       " '/diskmnt/Projects/Users/estorrs/multiplex_data/analysis/brca_dcis_v2/preprocessing/htan/region_mask/HT488C1-Th1K1Fp1-U14_041823.tif',\n",
       " '/diskmnt/Projects/Users/estorrs/multiplex_data/analysis/brca_dcis_v2/preprocessing/htan/region_mask/HT488C1-Th1K1Fp1-U2_041323.tif',\n",
       " '/diskmnt/Projects/Users/estorrs/multiplex_data/analysis/brca_dcis_v2/preprocessing/htan/region_mask/HT553P1-H2_04262023.tif',\n",
       " '/diskmnt/Projects/Users/estorrs/multiplex_data/analysis/brca_dcis_v2/preprocessing/htan/region_mask/HT565B1-H2_04262023.tif']"
      ]
     },
     "execution_count": 7,
     "metadata": {},
     "output_type": "execute_result"
    }
   ],
   "source": [
    "mask_fps = sorted(listfiles('/diskmnt/Projects/Users/estorrs/multiplex_data/analysis/brca_dcis_v2/preprocessing/htan/region_mask',\n",
    "                         regex='tif$'))\n",
    "mask_fps"
   ]
  },
  {
   "cell_type": "code",
   "execution_count": 8,
   "id": "a3afad1c",
   "metadata": {
    "scrolled": true
   },
   "outputs": [],
   "source": [
    "adata_fps = sorted(listfiles('/diskmnt/Projects/Users/estorrs/multiplex_data/codex/htan',\n",
    "                         regex='level_4/.*h5ad$'))\n",
    "adata_fps = [fp for fp in adata_fps\n",
    "             if '.ome.tiff' not in fp\n",
    "             if 'cell_annotation' not in fp\n",
    "             if 'metacluster' not in fp\n",
    "             if 'spatial_features' not in fp]"
   ]
  },
  {
   "cell_type": "code",
   "execution_count": 9,
   "id": "e50ab5c2",
   "metadata": {
    "scrolled": true
   },
   "outputs": [
    {
     "data": {
      "text/plain": [
       "['HT110B1_S1H4',\n",
       " 'HT171B1-S1H9A1-4_left_05122023',\n",
       " 'HT171B1-S1H9A1-4_right_05122023',\n",
       " 'HT206B1_H1',\n",
       " 'HT206B1_H1_06252022',\n",
       " 'HT206B1_S1H2L4_20221028',\n",
       " 'HT243B1-S1H4A4_04192023',\n",
       " 'HT243B1-S1H4A4_left_05122023',\n",
       " 'HT243B1-S1H4A4_right_05122023',\n",
       " 'HT243B1_S1H4',\n",
       " 'HT271B1-S1H6A5_04192023',\n",
       " 'HT271B1-S1H6A5_left_05122023',\n",
       " 'HT271B1-S1H6A5_right_05122023',\n",
       " 'HT297B1_H1_08042022',\n",
       " 'HT305B1_S1H1',\n",
       " 'HT308B1-S1H5A4_04192023',\n",
       " 'HT308B1-S1H5A4_left_05122023',\n",
       " 'HT308B1-S1H5A4_right_05122023',\n",
       " 'HT323B1_H1A1',\n",
       " 'HT323B1_H1A4',\n",
       " 'HT323B1_H1_08042022',\n",
       " 'HT323B1_H3',\n",
       " 'HT339B1_H1A1',\n",
       " 'HT339B1_H2A1',\n",
       " 'HT339B1_H4A4',\n",
       " 'HT342C1_Th1K4A1_section1_03042022',\n",
       " 'HT342C1_Th1K4A1_section2_03042022',\n",
       " 'HT347C1_Th1K2A1_section1_03042022',\n",
       " 'HT347C1_Th1K2A1_section2_03042022',\n",
       " 'HT365B1_S1H1_02132023',\n",
       " 'HT397B1_H2A2',\n",
       " 'HT397B1_H3A1',\n",
       " 'HT397B1_S1H1A3U22_04122023',\n",
       " 'HT397B1_S1H1A3U31_04062023',\n",
       " 'HT397B1_U12_03172023',\n",
       " 'HT397B1_U2_03162023',\n",
       " 'HT413C1-K2_04262023',\n",
       " 'HT427P1_S1H1A3_20221020',\n",
       " 'HT480B1_S1H2_R001',\n",
       " 'HT480B1_S1H2_R002',\n",
       " 'HT488C1-Th1K1Fp1-U14_041823',\n",
       " 'HT488C1-Th1K1Fp1-U2_041323',\n",
       " 'HT553P1-H2_04262023',\n",
       " 'HT565B1-H2_04262023']"
      ]
     },
     "execution_count": 9,
     "metadata": {},
     "output_type": "execute_result"
    }
   ],
   "source": [
    "samples = sorted(name_map.keys())\n",
    "samples"
   ]
  },
  {
   "cell_type": "code",
   "execution_count": 10,
   "id": "b61903f1",
   "metadata": {
    "scrolled": true
   },
   "outputs": [
    {
     "data": {
      "text/plain": [
       "['/diskmnt/Projects/Users/estorrs/multiplex_data/codex/htan/bm/041523_BM_SN002_SN056_SN024/level_2/SN002_left_04152023.ome.tiff',\n",
       " '/diskmnt/Projects/Users/estorrs/multiplex_data/codex/htan/bm/041523_BM_SN002_SN056_SN024/level_2/SN002_right_04152023.ome.tiff',\n",
       " '/diskmnt/Projects/Users/estorrs/multiplex_data/codex/htan/bm/041523_BM_SN002_SN056_SN024/level_2/SN024_left_04152023.ome.tiff',\n",
       " '/diskmnt/Projects/Users/estorrs/multiplex_data/codex/htan/bm/041523_BM_SN002_SN056_SN024/level_2/SN024_right_04152023.ome.tiff',\n",
       " '/diskmnt/Projects/Users/estorrs/multiplex_data/codex/htan/bm/041523_BM_SN002_SN056_SN024/level_2/SN056_left_04152023.ome.tiff',\n",
       " '/diskmnt/Projects/Users/estorrs/multiplex_data/codex/htan/bm/041523_BM_SN002_SN056_SN024/level_2/SN056_right_04152023.ome.tiff',\n",
       " '/diskmnt/Projects/Users/estorrs/multiplex_data/codex/htan/bm/20230114_BoneMarrow_SN002_SN050/level_2/SN002_SN050.ome.tiff',\n",
       " '/diskmnt/Projects/Users/estorrs/multiplex_data/codex/htan/brca/021323_BRCA_HT365B1_S1H1/level_2/HT365B1_S1H1.ome.tiff',\n",
       " '/diskmnt/Projects/Users/estorrs/multiplex_data/codex/htan/brca/021723_BCRA_HT271B1_S1H3A5/level_2/HT271B1_S1H3A5.ome.tiff',\n",
       " '/diskmnt/Projects/Users/estorrs/multiplex_data/codex/htan/brca/031623_BRCA_HT397B1-U2/level_2/HT397B1_U2_03162023.ome.tiff',\n",
       " '/diskmnt/Projects/Users/estorrs/multiplex_data/codex/htan/brca/03172023_BRCA_HT397B1-U12/level_2/HT397B1_U12_03172023.ome.tiff',\n",
       " '/diskmnt/Projects/Users/estorrs/multiplex_data/codex/htan/brca/040623_BRCA_HT397B1-U31/level_2/HT397B1_S1H1A3U31_04062023.ome.tiff',\n",
       " '/diskmnt/Projects/Users/estorrs/multiplex_data/codex/htan/brca/041223_BRCA_HT397B1-S1H3A1-U22/level_2/HT397B1_S1H1A3U22_04122023.ome.tiff',\n",
       " '/diskmnt/Projects/Users/estorrs/multiplex_data/codex/htan/brca/041923_BRCA_HT171B1-S1H9A1-4_top_HT243B1-S1H4A4_HT271B1-S1H6A5_HT308B1-S1H5A4_btm/level_2/HT171B1-S1H9A1-4_04192023.ome.tiff',\n",
       " '/diskmnt/Projects/Users/estorrs/multiplex_data/codex/htan/brca/041923_BRCA_HT171B1-S1H9A1-4_top_HT243B1-S1H4A4_HT271B1-S1H6A5_HT308B1-S1H5A4_btm/level_2/HT243B1-S1H4A4_04192023.ome.tiff',\n",
       " '/diskmnt/Projects/Users/estorrs/multiplex_data/codex/htan/brca/041923_BRCA_HT171B1-S1H9A1-4_top_HT243B1-S1H4A4_HT271B1-S1H6A5_HT308B1-S1H5A4_btm/level_2/HT271B1-S1H6A5_04192023.ome.tiff',\n",
       " '/diskmnt/Projects/Users/estorrs/multiplex_data/codex/htan/brca/041923_BRCA_HT171B1-S1H9A1-4_top_HT243B1-S1H4A4_HT271B1-S1H6A5_HT308B1-S1H5A4_btm/level_2/HT308B1-S1H5A4_04192023.ome.tiff',\n",
       " '/diskmnt/Projects/Users/estorrs/multiplex_data/codex/htan/brca/042623_MULTIPLE_HTAN_HT413C1-K2_TOP_HT339B2-H1_HT553P1-H2_HT565B1-H2_BTM/level_2/HT339B2-H1_04262023.ome.tiff',\n",
       " '/diskmnt/Projects/Users/estorrs/multiplex_data/codex/htan/brca/042623_MULTIPLE_HTAN_HT413C1-K2_TOP_HT339B2-H1_HT553P1-H2_HT565B1-H2_BTM/level_2/HT413C1-K2_04262023.ome.tiff',\n",
       " '/diskmnt/Projects/Users/estorrs/multiplex_data/codex/htan/brca/042623_MULTIPLE_HTAN_HT413C1-K2_TOP_HT339B2-H1_HT553P1-H2_HT565B1-H2_BTM/level_2/HT553P1-H2_04262023.ome.tiff',\n",
       " '/diskmnt/Projects/Users/estorrs/multiplex_data/codex/htan/brca/042623_MULTIPLE_HTAN_HT413C1-K2_TOP_HT339B2-H1_HT553P1-H2_HT565B1-H2_BTM/level_2/HT565B1-H2_04262023.ome.tiff',\n",
       " '/diskmnt/Projects/Users/estorrs/multiplex_data/codex/htan/brca/051223_BRCA_HT171B1-S1H9A1-4_TOP_HT243B1-S1H4A4_HT271B1-S1H6A5_HT308B1-S1H5A4/level_2/HT171B1-S1H9A1-4_left_05122023.ome.tiff',\n",
       " '/diskmnt/Projects/Users/estorrs/multiplex_data/codex/htan/brca/051223_BRCA_HT171B1-S1H9A1-4_TOP_HT243B1-S1H4A4_HT271B1-S1H6A5_HT308B1-S1H5A4/level_2/HT171B1-S1H9A1-4_right_05122023.ome.tiff',\n",
       " '/diskmnt/Projects/Users/estorrs/multiplex_data/codex/htan/brca/051223_BRCA_HT171B1-S1H9A1-4_TOP_HT243B1-S1H4A4_HT271B1-S1H6A5_HT308B1-S1H5A4/level_2/HT243B1-S1H4A4_left_05122023.ome.tiff',\n",
       " '/diskmnt/Projects/Users/estorrs/multiplex_data/codex/htan/brca/051223_BRCA_HT171B1-S1H9A1-4_TOP_HT243B1-S1H4A4_HT271B1-S1H6A5_HT308B1-S1H5A4/level_2/HT243B1-S1H4A4_right_05122023.ome.tiff',\n",
       " '/diskmnt/Projects/Users/estorrs/multiplex_data/codex/htan/brca/051223_BRCA_HT171B1-S1H9A1-4_TOP_HT243B1-S1H4A4_HT271B1-S1H6A5_HT308B1-S1H5A4/level_2/HT271B1-S1H6A5_left_05122023.ome.tiff',\n",
       " '/diskmnt/Projects/Users/estorrs/multiplex_data/codex/htan/brca/051223_BRCA_HT171B1-S1H9A1-4_TOP_HT243B1-S1H4A4_HT271B1-S1H6A5_HT308B1-S1H5A4/level_2/HT271B1-S1H6A5_right_05122023.ome.tiff',\n",
       " '/diskmnt/Projects/Users/estorrs/multiplex_data/codex/htan/brca/051223_BRCA_HT171B1-S1H9A1-4_TOP_HT243B1-S1H4A4_HT271B1-S1H6A5_HT308B1-S1H5A4/level_2/HT308B1-S1H5A4_left_05122023.ome.tiff',\n",
       " '/diskmnt/Projects/Users/estorrs/multiplex_data/codex/htan/brca/051223_BRCA_HT171B1-S1H9A1-4_TOP_HT243B1-S1H4A4_HT271B1-S1H6A5_HT308B1-S1H5A4/level_2/HT308B1-S1H5A4_right_05122023.ome.tiff',\n",
       " '/diskmnt/Projects/Users/estorrs/multiplex_data/codex/htan/brca/20221118_BRCA_HT271B1_S1H3A5_HT171B1_S1H1A1-A4/level_2/HT171B1-S1H1A1.ome.tiff',\n",
       " '/diskmnt/Projects/Users/estorrs/multiplex_data/codex/htan/brca/20221118_BRCA_HT271B1_S1H3A5_HT171B1_S1H1A1-A4/level_2/HT171B1-S1H1A4.ome.tiff',\n",
       " '/diskmnt/Projects/Users/estorrs/multiplex_data/codex/htan/brca/20221118_BRCA_HT271B1_S1H3A5_HT171B1_S1H1A1-A4/level_2/HT271B1-S1H3A5.ome.tiff',\n",
       " '/diskmnt/Projects/Users/estorrs/multiplex_data/codex/htan/brca/20221122_BRCA_HT171B1_S1H1A1/level_2/HT171B1_S1H8A1_20221122.ome.tiff',\n",
       " '/diskmnt/Projects/Users/estorrs/multiplex_data/codex/htan/brca/20221202_BRCA_HT271B1_S1H3A5_HT171B1_S1H1A1-A4/level_2/HT171B1_S1H1A1.ome.tiff',\n",
       " '/diskmnt/Projects/Users/estorrs/multiplex_data/codex/htan/brca/20221202_BRCA_HT271B1_S1H3A5_HT171B1_S1H1A1-A4/level_2/HT171B1_S1H1A4.ome.tiff',\n",
       " '/diskmnt/Projects/Users/estorrs/multiplex_data/codex/htan/brca/20221202_BRCA_HT271B1_S1H3A5_HT171B1_S1H1A1-A4/level_2/HT271B1_S1H3A5.ome.tiff',\n",
       " '/diskmnt/Projects/Users/estorrs/multiplex_data/codex/htan/brca/20221205_BRCA_HT171B1_S1H1A4/level_2/HT171B1_20221205.ome.tiff',\n",
       " '/diskmnt/Projects/Users/estorrs/multiplex_data/codex/htan/brca/HT206B1-H1/level_2/HT206B1-H1.ome.tiff',\n",
       " '/diskmnt/Projects/Users/estorrs/multiplex_data/codex/htan/brca/HT206B1-S1H2L4_LRG_HT427P1_S1H1A3_SML_20221028/level_2/HT206B1_S1H2L4.ome.tiff',\n",
       " '/diskmnt/Projects/Users/estorrs/multiplex_data/codex/htan/brca/HT206B1-S1H2L4_LRG_HT427P1_S1H1A3_SML_20221028/level_2/HT427P1_S1H1A3.ome.tiff',\n",
       " '/diskmnt/Projects/Users/estorrs/multiplex_data/codex/htan/brca/HT206B1-S1H2L4_and_HT427P1_S1H1A3/level_2/HT206B1_S1H2L4.ome.tiff',\n",
       " '/diskmnt/Projects/Users/estorrs/multiplex_data/codex/htan/brca/HT206B1-S1H2L4_and_HT427P1_S1H1A3/level_2/HT427P1_S1H1A3.ome.tiff',\n",
       " '/diskmnt/Projects/Users/estorrs/multiplex_data/codex/htan/brca/HT206B1_H1_06252022/level_2/HT206B1_H1_06252022.ome.tiff',\n",
       " '/diskmnt/Projects/Users/estorrs/multiplex_data/codex/htan/brca/HT243B1-S1H4_HT110B1-S1H4_HT305B1-S1H1/level_2/HT110B1-S1H4.ome.tiff',\n",
       " '/diskmnt/Projects/Users/estorrs/multiplex_data/codex/htan/brca/HT243B1-S1H4_HT110B1-S1H4_HT305B1-S1H1/level_2/HT243B1-S1H4.ome.tiff',\n",
       " '/diskmnt/Projects/Users/estorrs/multiplex_data/codex/htan/brca/HT243B1-S1H4_HT110B1-S1H4_HT305B1-S1H1/level_2/HT305B1-S1H1.ome.tiff',\n",
       " '/diskmnt/Projects/Users/estorrs/multiplex_data/codex/htan/brca/HT297B1-H1-08042022/level_2/HT297B1-H1-08042022.ome.tiff',\n",
       " '/diskmnt/Projects/Users/estorrs/multiplex_data/codex/htan/brca/HT323B1-H1-08042022/level_2/HT323B1-H1-08042022.ome.tiff',\n",
       " '/diskmnt/Projects/Users/estorrs/multiplex_data/codex/htan/brca/HT323B1-H1A1/level_2/HT323B1-H1A1.ome.tiff',\n",
       " '/diskmnt/Projects/Users/estorrs/multiplex_data/codex/htan/brca/HT323B1-H1A4/level_2/HT323B1-H1A4.ome.tiff',\n",
       " '/diskmnt/Projects/Users/estorrs/multiplex_data/codex/htan/brca/HT323B1-H3/level_2/HT323B1-H3.ome.tiff',\n",
       " '/diskmnt/Projects/Users/estorrs/multiplex_data/codex/htan/brca/HT339B1-H1A1/level_2/HT339B1-H1A1.ome.tiff',\n",
       " '/diskmnt/Projects/Users/estorrs/multiplex_data/codex/htan/brca/HT339B1-H2A1/level_2/HT339B1-H2A1.ome.tiff',\n",
       " '/diskmnt/Projects/Users/estorrs/multiplex_data/codex/htan/brca/HT339B1-H4A4/level_2/HT339B1-H4A4.ome.tiff',\n",
       " '/diskmnt/Projects/Users/estorrs/multiplex_data/codex/htan/brca/HT397B1-H2A2/level_2/HT397B1-H2A2.ome.tiff',\n",
       " '/diskmnt/Projects/Users/estorrs/multiplex_data/codex/htan/brca/HT397B1-H3A1/level_2/HT397B1-H3A1.ome.tiff',\n",
       " '/diskmnt/Projects/Users/estorrs/multiplex_data/codex/htan/brca/HT480B1-S1H2_reg001/level_2/HT480B1-S1H2-R001.ome.tiff',\n",
       " '/diskmnt/Projects/Users/estorrs/multiplex_data/codex/htan/brca/HT480B1-S1H2_reg002/level_2/HT480B1-S1H2-R002.ome.tiff',\n",
       " '/diskmnt/Projects/Users/estorrs/multiplex_data/codex/htan/brca/Marrow_179_FormicAcid_EDTA_HT206B1_Ctrl/level_2/HT206B1_Ctrl.ome.tiff',\n",
       " '/diskmnt/Projects/Users/estorrs/multiplex_data/codex/htan/brca/MouseMarrow-179_BRCA-HT308B1/level_2/HT308B1.ome.tiff',\n",
       " '/diskmnt/Projects/Users/estorrs/multiplex_data/codex/htan/brca/test/level_2/test.ome.tiff',\n",
       " '/diskmnt/Projects/Users/estorrs/multiplex_data/codex/htan/crc/041323_CRC_HT488C1-Th1K1Fp1-U2/level_2/HT488C1-Th1K1Fp1-U2_041323.ome.tiff',\n",
       " '/diskmnt/Projects/Users/estorrs/multiplex_data/codex/htan/crc/041823_CRC_HT488C1-Th1K1Fp1-U14/level_2/HT488C1-Th1K1Fp1-U14_041823.ome.tiff',\n",
       " '/diskmnt/Projects/Users/estorrs/multiplex_data/codex/htan/crc/20230304_Liver_mCRC_SenNet_HT342C1_HT347C1/level_2/HT342C1_Th1K4A1_section1_03042022.ome.tiff',\n",
       " '/diskmnt/Projects/Users/estorrs/multiplex_data/codex/htan/crc/20230304_Liver_mCRC_SenNet_HT342C1_HT347C1/level_2/HT342C1_Th1K4A1_section2_03042022.ome.tiff',\n",
       " '/diskmnt/Projects/Users/estorrs/multiplex_data/codex/htan/crc/20230304_Liver_mCRC_SenNet_HT342C1_HT347C1/level_2/HT347C1_Th1K2A1_section1_03042022.ome.tiff',\n",
       " '/diskmnt/Projects/Users/estorrs/multiplex_data/codex/htan/crc/20230304_Liver_mCRC_SenNet_HT342C1_HT347C1/level_2/HT347C1_Th1K2A1_section2_03042022.ome.tiff',\n",
       " '/diskmnt/Projects/Users/estorrs/multiplex_data/codex/htan/crc/20230308_CRC_Primary_S15_1909_A3_Section3/level_2/S15_1909_A3_Section3_03082023.ome.tiff',\n",
       " '/diskmnt/Projects/Users/estorrs/multiplex_data/codex/htan/crc/20230309_CRC_Met_S15_1909_C2_Section3/level_2/S15_1909_C2_Section3_03092023.ome.tiff',\n",
       " '/diskmnt/Projects/Users/estorrs/multiplex_data/codex/htan/crc/CRC112/level_2/CRC112.ome.tiff',\n",
       " '/diskmnt/Projects/Users/estorrs/multiplex_data/codex/htan/liver/20230107_Liver_SN001H1/level_2/SN001H1.ome.tiff',\n",
       " '/diskmnt/Projects/Users/estorrs/multiplex_data/codex/htan/pdac/HT434P1-H1/level_2/HT434P1-H1.ome.tiff',\n",
       " '/diskmnt/Projects/Users/estorrs/multiplex_data/codex/htan/pdac/codex_processed_hu_pancreas_TrisEDTA/level_2/codex_processed_hu_pancreas_TrisEDTA_2020-10-08.ome.tiff',\n",
       " '/diskmnt/Projects/Users/estorrs/multiplex_data/codex/htan/pkd/01262023_PKD_K1301459/level_2/K1301459_3.ome.tiff',\n",
       " '/diskmnt/Projects/Users/estorrs/multiplex_data/codex/htan/pkd/01282023_PKD_K2200446_3PB/level_2/K2200446_3PB.ome.tiff',\n",
       " '/diskmnt/Projects/Users/estorrs/multiplex_data/codex/htan/pkd/02022023_PKD_K2200452_2PB/level_2/K2200452_2PB.ome.tiff',\n",
       " '/diskmnt/Projects/Users/estorrs/multiplex_data/codex/htan/pkd/02032023_PKD_K2200444_2PB/level_2/K2200444_2PB.ome.tiff',\n",
       " '/diskmnt/Projects/Users/estorrs/multiplex_data/codex/htan/pkd/02232023_PKD_mice_2_21d_2x38d/level_2/pkd_14519_38d_02232023.ome.tiff',\n",
       " '/diskmnt/Projects/Users/estorrs/multiplex_data/codex/htan/pkd/02232023_PKD_mice_2_21d_2x38d/level_2/pkd_14801_38d_02232023.ome.tiff',\n",
       " '/diskmnt/Projects/Users/estorrs/multiplex_data/codex/htan/pkd/02232023_PKD_mice_2_21d_2x38d/level_2/pkd_738_21d_02232023.ome.tiff',\n",
       " '/diskmnt/Projects/Users/estorrs/multiplex_data/codex/htan/pkd/02232023_PKD_mice_2_21d_2x38d/level_2/pkd_743_21d_02232023.ome.tiff',\n",
       " '/diskmnt/Projects/Users/estorrs/multiplex_data/codex/htan/pkd/031023_PKD_K2200487-2_TOP_K2200493-2_MID_K2200453-2_BTTM/level_2/K2200453_2_03012023.ome.tiff',\n",
       " '/diskmnt/Projects/Users/estorrs/multiplex_data/codex/htan/pkd/031023_PKD_K2200487-2_TOP_K2200493-2_MID_K2200453-2_BTTM/level_2/K2200487_2_03012023.ome.tiff',\n",
       " '/diskmnt/Projects/Users/estorrs/multiplex_data/codex/htan/pkd/031023_PKD_K2200487-2_TOP_K2200493-2_MID_K2200453-2_BTTM/level_2/K2200493_2_03012023.ome.tiff',\n",
       " '/diskmnt/Projects/Users/estorrs/multiplex_data/codex/htan/pkd/042023_PKD_K2200581-3_top_K2200591-2_mid_K2200609-2_btm/level_2/K2200581-3_04202023.ome.tiff',\n",
       " '/diskmnt/Projects/Users/estorrs/multiplex_data/codex/htan/pkd/042023_PKD_K2200581-3_top_K2200591-2_mid_K2200609-2_btm/level_2/K2200591-2_04202023.ome.tiff',\n",
       " '/diskmnt/Projects/Users/estorrs/multiplex_data/codex/htan/pkd/042023_PKD_K2200581-3_top_K2200591-2_mid_K2200609-2_btm/level_2/K2200609-2_04202023.ome.tiff',\n",
       " '/diskmnt/Projects/Users/estorrs/multiplex_data/codex/htan/pkd/042123_MousePKD_21d_TOP_28d_38d_38d_BTM/level_2/pkd_21d_04212023.ome.tiff',\n",
       " '/diskmnt/Projects/Users/estorrs/multiplex_data/codex/htan/pkd/042123_MousePKD_21d_TOP_28d_38d_38d_BTM/level_2/pkd_28d_04212023.ome.tiff',\n",
       " '/diskmnt/Projects/Users/estorrs/multiplex_data/codex/htan/pkd/042123_MousePKD_21d_TOP_28d_38d_38d_BTM/level_2/pkd_38d_s1_04212023.ome.tiff',\n",
       " '/diskmnt/Projects/Users/estorrs/multiplex_data/codex/htan/pkd/042123_MousePKD_21d_TOP_28d_38d_38d_BTM/level_2/pkd_38d_s2_04212023.ome.tiff',\n",
       " '/diskmnt/Projects/Users/estorrs/multiplex_data/codex/htan/pkd/042723_GUDMAP_E16.5_TOP_P1_P21_BTTM_MALE_LEFT_FEMALE_RIGHT/level_2/E16.5_female_section1_04272023.ome.tiff',\n",
       " '/diskmnt/Projects/Users/estorrs/multiplex_data/codex/htan/pkd/042723_GUDMAP_E16.5_TOP_P1_P21_BTTM_MALE_LEFT_FEMALE_RIGHT/level_2/E16.5_female_section2_04272023.ome.tiff',\n",
       " '/diskmnt/Projects/Users/estorrs/multiplex_data/codex/htan/pkd/042723_GUDMAP_E16.5_TOP_P1_P21_BTTM_MALE_LEFT_FEMALE_RIGHT/level_2/E16.5_male_section1_04272023.ome.tiff',\n",
       " '/diskmnt/Projects/Users/estorrs/multiplex_data/codex/htan/pkd/042723_GUDMAP_E16.5_TOP_P1_P21_BTTM_MALE_LEFT_FEMALE_RIGHT/level_2/E16.5_male_section2_04272023.ome.tiff',\n",
       " '/diskmnt/Projects/Users/estorrs/multiplex_data/codex/htan/pkd/042723_GUDMAP_E16.5_TOP_P1_P21_BTTM_MALE_LEFT_FEMALE_RIGHT/level_2/P1_female_section1_04272023.ome.tiff',\n",
       " '/diskmnt/Projects/Users/estorrs/multiplex_data/codex/htan/pkd/042723_GUDMAP_E16.5_TOP_P1_P21_BTTM_MALE_LEFT_FEMALE_RIGHT/level_2/P1_female_section2_04272023.ome.tiff',\n",
       " '/diskmnt/Projects/Users/estorrs/multiplex_data/codex/htan/pkd/042723_GUDMAP_E16.5_TOP_P1_P21_BTTM_MALE_LEFT_FEMALE_RIGHT/level_2/P1_male_section1_04272023.ome.tiff',\n",
       " '/diskmnt/Projects/Users/estorrs/multiplex_data/codex/htan/pkd/042723_GUDMAP_E16.5_TOP_P1_P21_BTTM_MALE_LEFT_FEMALE_RIGHT/level_2/P1_male_section2_04272023.ome.tiff',\n",
       " '/diskmnt/Projects/Users/estorrs/multiplex_data/codex/htan/pkd/042723_GUDMAP_E16.5_TOP_P1_P21_BTTM_MALE_LEFT_FEMALE_RIGHT/level_2/P21_male_04272023.ome.tiff',\n",
       " '/diskmnt/Projects/Users/estorrs/multiplex_data/codex/htan/pkd/042723_GUDMAP_E16.5_TOP_P1_P21_BTTM_MALE_LEFT_FEMALE_RIGHT/level_2/p21_female_04272023.ome.tiff',\n",
       " '/diskmnt/Projects/Users/estorrs/multiplex_data/codex/htan/pkd/20230120_PKD_K1301459_K200452_2PB_K2200446_4PB/level_2/20230120_PKD_K1301459.ome.tiff',\n",
       " '/diskmnt/Projects/Users/estorrs/multiplex_data/codex/htan/pkd/20230120_PKD_K1301459_K200452_2PB_K2200446_4PB/level_2/20230120_PKD_K200452_2PB.ome.tiff',\n",
       " '/diskmnt/Projects/Users/estorrs/multiplex_data/codex/htan/pkd/20230120_PKD_K1301459_K200452_2PB_K2200446_4PB/level_2/20230120_PKD_K2200446_4PB.ome.tiff',\n",
       " '/diskmnt/Projects/Users/estorrs/multiplex_data/codex/htan/pkd/K1301459_K2200452_2PB_K2200110-6/level_2/K1301459.ome.tiff',\n",
       " '/diskmnt/Projects/Users/estorrs/multiplex_data/codex/htan/pkd/K1301459_K2200452_2PB_K2200110-6/level_2/K2200110-6.ome.tiff',\n",
       " '/diskmnt/Projects/Users/estorrs/multiplex_data/codex/htan/pkd/K1301459_K2200452_2PB_K2200110-6/level_2/K2200452_2PB.ome.tiff',\n",
       " '/diskmnt/Projects/Users/estorrs/multiplex_data/codex/htan/pkd/Mouse_PKD_741/level_2/Mouse_PKD_741.ome.tiff']"
      ]
     },
     "execution_count": 10,
     "metadata": {},
     "output_type": "execute_result"
    }
   ],
   "source": [
    "ome_fps = sorted(listfiles('/diskmnt/Projects/Users/estorrs/multiplex_data/codex/htan',\n",
    "                         regex='level_2/[^/]+.ome.tiff$'))\n",
    "ome_fps"
   ]
  },
  {
   "cell_type": "code",
   "execution_count": 11,
   "id": "56a0614b",
   "metadata": {},
   "outputs": [
    {
     "data": {
      "text/plain": [
       "(44, 45, 108)"
      ]
     },
     "execution_count": 11,
     "metadata": {},
     "output_type": "execute_result"
    }
   ],
   "source": [
    "len(samples), len(mask_fps), len(ome_fps)"
   ]
  },
  {
   "cell_type": "code",
   "execution_count": 12,
   "id": "59213da2",
   "metadata": {
    "scrolled": true
   },
   "outputs": [
    {
     "name": "stdout",
     "output_type": "stream",
     "text": [
      "SN002_left_04152023\n",
      "SN002_right_04152023\n",
      "SN024_left_04152023\n",
      "SN024_right_04152023\n",
      "SN056_left_04152023\n",
      "SN056_right_04152023\n",
      "SN002_SN050\n",
      "HT271B1_S1H3A5\n",
      "HT171B1-S1H9A1-4_04192023\n",
      "HT339B2-H1_04262023\n",
      "HT171B1-S1H1A1\n",
      "HT171B1-S1H1A4\n",
      "HT271B1-S1H3A5\n",
      "HT171B1_S1H8A1_20221122\n",
      "HT171B1_S1H1A1\n",
      "HT171B1_S1H1A4\n",
      "HT271B1_S1H3A5\n",
      "HT171B1_20221205\n",
      "HT206B1_Ctrl\n",
      "HT308B1\n",
      "test\n",
      "S15_1909_A3_Section3_03082023\n",
      "S15_1909_C2_Section3_03092023\n",
      "CRC112\n",
      "SN001H1\n",
      "HT434P1-H1\n",
      "codex_processed_hu_pancreas_TrisEDTA_2020-10-08\n",
      "K1301459_3\n",
      "K2200446_3PB\n",
      "K2200452_2PB\n",
      "K2200444_2PB\n",
      "pkd_14519_38d_02232023\n",
      "pkd_14801_38d_02232023\n",
      "pkd_738_21d_02232023\n",
      "pkd_743_21d_02232023\n",
      "K2200453_2_03012023\n",
      "K2200487_2_03012023\n",
      "K2200493_2_03012023\n",
      "K2200581-3_04202023\n",
      "K2200591-2_04202023\n",
      "K2200609-2_04202023\n",
      "pkd_21d_04212023\n",
      "pkd_28d_04212023\n",
      "pkd_38d_s1_04212023\n",
      "pkd_38d_s2_04212023\n",
      "E16.5_female_section1_04272023\n",
      "E16.5_female_section2_04272023\n",
      "E16.5_male_section1_04272023\n",
      "E16.5_male_section2_04272023\n",
      "P1_female_section1_04272023\n",
      "P1_female_section2_04272023\n",
      "P1_male_section1_04272023\n",
      "P1_male_section2_04272023\n",
      "P21_male_04272023\n",
      "p21_female_04272023\n",
      "20230120_PKD_K1301459\n",
      "20230120_PKD_K200452_2PB\n",
      "20230120_PKD_K2200446_4PB\n",
      "K1301459\n",
      "K2200110-6\n",
      "K2200452_2PB\n",
      "Mouse_PKD_741\n"
     ]
    }
   ],
   "source": [
    "sample_to_mask = {}\n",
    "for fp in mask_fps:\n",
    "    s = fp.split('/')[-1].replace('.tif', '')\n",
    "    sample_to_mask[s] = fp\n",
    "    \n",
    "sample_to_adata = {}\n",
    "for fp in adata_fps:\n",
    "    s = fp.split('/')[-1].replace('.h5ad', '')\n",
    "    sample_to_adata[s] = fp\n",
    "    \n",
    "sample_to_ome = {}\n",
    "for fp in ome_fps:\n",
    "    s = fp.split('/')[-1].replace('.ome.tiff', '')\n",
    "    if s in r_name_map:\n",
    "        s = r_name_map[s]\n",
    "        sample_to_ome[s] = fp\n",
    "    else:\n",
    "        print(s)"
   ]
  },
  {
   "cell_type": "code",
   "execution_count": 13,
   "id": "a8ef66dd",
   "metadata": {},
   "outputs": [
    {
     "data": {
      "text/plain": [
       "44"
      ]
     },
     "execution_count": 13,
     "metadata": {},
     "output_type": "execute_result"
    }
   ],
   "source": [
    "a = set(sample_to_adata.keys())\n",
    "b = set(sample_to_mask.keys())\n",
    "c = set(sample_to_ome.keys())\n",
    "\n",
    "len(a.intersection(b).intersection(c))"
   ]
  },
  {
   "cell_type": "code",
   "execution_count": 14,
   "id": "67610d4f",
   "metadata": {},
   "outputs": [
    {
     "data": {
      "text/plain": [
       "'HT110B1_S1H4'"
      ]
     },
     "execution_count": 14,
     "metadata": {},
     "output_type": "execute_result"
    }
   ],
   "source": [
    "s = next(iter(sample_to_mask.keys()))\n",
    "s"
   ]
  },
  {
   "cell_type": "code",
   "execution_count": 15,
   "id": "8c4fe6e1",
   "metadata": {},
   "outputs": [
    {
     "data": {
      "text/plain": [
       "<matplotlib.image.AxesImage at 0x7f6589ccde10>"
      ]
     },
     "execution_count": 15,
     "metadata": {},
     "output_type": "execute_result"
    },
    {
     "data": {
      "image/png": "[encoded data removed]",
      "text/plain": [
       "<Figure size 432x288 with 1 Axes>"
      ]
     },
     "metadata": {
      "needs_background": "light"
     },
     "output_type": "display_data"
    }
   ],
   "source": [
    "mask = tifffile.imread(sample_to_mask[s])\n",
    "plt.imshow(mask)"
   ]
  },
  {
   "cell_type": "code",
   "execution_count": 16,
   "id": "fda82be8",
   "metadata": {},
   "outputs": [],
   "source": [
    "labeled = label(mask)\n",
    "props = regionprops(labeled)"
   ]
  },
  {
   "cell_type": "code",
   "execution_count": 17,
   "id": "50bc7a0a",
   "metadata": {},
   "outputs": [
    {
     "data": {
      "text/plain": [
       "AnnData object with n_obs × n_vars = 77651 × 26\n",
       "    obs: 'row', 'col', 'bbox-r1', 'bbox-c1', 'bbox-r2', 'bbox-c2', 'area', 'DAPI_intensity', 'CD8_intensity', 'CD138_intensity', 'CD4_intensity', 'cKit_intensity', 'Pan-Cytokeratin_intensity', 'GLUT1_intensity', 'Podoplanin_intensity', 'CK17_intensity', 'HLA-DR_intensity', 'GATA3_intensity', 'CD36_intensity', 'MGP_intensity', 'CK14_intensity', 'SMA_intensity', 'CD68_intensity', 'CD20_intensity', 'Vimentin_intensity', 'CD3e_intensity', 'CD163_intensity', 'Ki67_intensity', 'PR_intensity', 'ER_intensity', 'P16_intensity', 'CK19_intensity', 'P21 (D)_intensity', 'cell_type'\n",
       "    uns: 'gating_strategy', 'thresholds'\n",
       "    obsm: 'spatial'"
      ]
     },
     "execution_count": 17,
     "metadata": {},
     "output_type": "execute_result"
    }
   ],
   "source": [
    "a = sc.read_h5ad(sample_to_adata[s])\n",
    "a"
   ]
  },
  {
   "cell_type": "code",
   "execution_count": 18,
   "id": "5c773c4e",
   "metadata": {},
   "outputs": [
    {
     "data": {
      "text/plain": [
       "dict_keys(['DAPI', 'CD8', 'CD138', 'CD4', 'cKit', 'Pan-Cytokeratin', 'GLUT1', 'Podoplanin', 'CK17', 'HLA-DR', 'GATA3', 'CD36', 'MGP', 'CK14', 'SMA', 'CD68', 'CD20', 'Vimentin', 'CD3e', 'CD163', 'Ki67', 'PR', 'ER', 'P16', 'CK19', 'P21'])"
      ]
     },
     "execution_count": 18,
     "metadata": {},
     "output_type": "execute_result"
    }
   ],
   "source": [
    "channel_to_img = extract_ome_tiff(sample_to_ome[s])\n",
    "channel_to_img = {R_CHANNEL_MAPPING.get(k, k):v for k, v in channel_to_img.items()}\n",
    "channel_to_img.keys()"
   ]
  },
  {
   "cell_type": "code",
   "execution_count": 19,
   "id": "aa17ad8c",
   "metadata": {},
   "outputs": [
    {
     "data": {
      "image/png": "[encoded data removed]",
      "text/plain": [
       "<Figure size 432x288 with 1 Axes>"
      ]
     },
     "metadata": {
      "needs_background": "light"
     },
     "output_type": "display_data"
    }
   ],
   "source": [
    "sns.scatterplot(data=a.obs, x='col', y='row', hue='cell_type', s=.1)\n",
    "plt.axis('equal')\n",
    "plt.axis('off')\n",
    "plt.gca().invert_yaxis()"
   ]
  },
  {
   "cell_type": "code",
   "execution_count": 20,
   "id": "07a6beae",
   "metadata": {},
   "outputs": [],
   "source": [
    "def fast_expand_labels(labeled, dist, props=None):\n",
    "    if props is None:\n",
    "        props = regionprops(labeled)\n",
    "    new = np.zeros_like(labeled)\n",
    "    for prop in props:\n",
    "        r1, c1, r2, c2 = prop.bbox\n",
    "        r1, c1 = max(r1 - dist * 2, 0), max(c1 - dist * 2, 0)\n",
    "        r2, c2 = r2 + dist * 2, c2 + dist * 2\n",
    "        new[r1:r2, c1:c2][expand_labels(labeled[r1:r2, c1:c2], dist)==prop.label] = prop.label\n",
    "    return new\n",
    "\n",
    "def fast_shrink_labels(labeled, dist, props=None):\n",
    "    if props is None:\n",
    "        props = regionprops(labeled)\n",
    "    new = np.zeros_like(labeled)\n",
    "    for prop in props:\n",
    "        r1, c1, r2, c2 = prop.bbox\n",
    "        r1, c1 = max(r1 - dist * 2, 0), max(c1 - dist * 2, 0)\n",
    "        r2, c2 = r2 + dist * 2, c2 + dist * 2\n",
    "        \n",
    "        tile = labeled[r1:r2, c1:c2]==prop.label\n",
    "        for i in range(dist):\n",
    "            tile = binary_erosion(tile)\n",
    "        new[r1:r2, c1:c2][labeled[r1:r2, c1:c2]==prop.label] = 0\n",
    "        new[r1:r2, c1:c2][tile] = prop.label\n",
    "    return new"
   ]
  },
  {
   "cell_type": "code",
   "execution_count": 21,
   "id": "3ed87cd9",
   "metadata": {},
   "outputs": [],
   "source": [
    "def compute_polsby_popper(area, perimeter):\n",
    "    try:\n",
    "        return 4 * math.pi * area / perimeter ** 2\n",
    "    except ZeroDivisionError:\n",
    "        return math.nan\n",
    "\n",
    "def get_regionprops_df(labeled_img,\n",
    "                       feats=('label', 'bbox', 'area', 'perimeter', 'centroid')):\n",
    "    regions = regionprops_table(labeled_img, properties=feats)\n",
    "    region_df = pd.DataFrame(regions)\n",
    "    region_df = region_df.set_index('label')\n",
    "    region_df.columns = ['r1', 'c1', 'r2', 'c2', 'area', 'perimeter', 'row', 'col']\n",
    "    region_df['compactness'] = compute_polsby_popper(region_df['area'], region_df['perimeter'])\n",
    "    return region_df"
   ]
  },
  {
   "cell_type": "code",
   "execution_count": 22,
   "id": "5b46036e",
   "metadata": {},
   "outputs": [],
   "source": [
    "def get_morphology_masks(labeled_img, myoepi_dist=(20, 40), boundary_dist=150):\n",
    "    props = regionprops(labeled_img)\n",
    "\n",
    "    mask = labeled_img > 0\n",
    "    \n",
    "    ductal = fast_shrink_labels(labeled_img, myoepi_dist[0], props=props)\n",
    "    ductal_mask = ductal > 0\n",
    "\n",
    "    # myoepithelial\n",
    "    outer_labeled = fast_expand_labels(labeled_img, myoepi_dist[1], props=props)\n",
    "    myoepi_labeled = np.zeros_like(labeled_img)\n",
    "    outer_mask = outer_labeled>0\n",
    "    myoepi_mask = outer_mask ^ ductal_mask\n",
    "    myoepi_labeled[myoepi_mask] = outer_labeled[myoepi_mask]\n",
    "\n",
    "    # boundary\n",
    "    outer_labeled = fast_expand_labels(labeled_img, boundary_dist, props=props)\n",
    "    boundary_labeled = np.zeros_like(labeled_img)\n",
    "    outer_mask = outer_labeled>0\n",
    "    boundary_mask = outer_mask ^ mask\n",
    "    boundary_labeled[boundary_mask] = outer_labeled[boundary_mask]\n",
    "\n",
    "    labeled_dict = {\n",
    "        'region': labeled_img.astype(np.int16),\n",
    "        'ductal': ductal.astype(np.int16),\n",
    "        'myoepi': myoepi_labeled.astype(np.int16),\n",
    "        'boundary': boundary_labeled.astype(np.int16),\n",
    "        'expanded': outer_labeled.astype(np.int16),\n",
    "    }\n",
    "    mask_dict = {\n",
    "        'region': mask,\n",
    "        'ductal': ductal_mask,\n",
    "        'myoepi': myoepi_mask,\n",
    "        'boundary': boundary_mask,\n",
    "        'expanded': outer_mask\n",
    "    }\n",
    "\n",
    "    return labeled_dict, mask_dict"
   ]
  },
  {
   "cell_type": "code",
   "execution_count": 23,
   "id": "8ddc6255",
   "metadata": {},
   "outputs": [],
   "source": [
    "def calculate_annotation_fractions(adata, labeled, key):\n",
    "    pool = sorted(set(adata.obs[key]))\n",
    "    regions = []\n",
    "    for row, col in zip(adata.obs['row'], adata.obs['col']):\n",
    "        row, col = int(row), int(col)\n",
    "        regions.append(labeled[row, col])\n",
    "    regions = np.asarray(regions)\n",
    "    \n",
    "    data = []\n",
    "    for region in range(1, labeled.max() + 1, 1):\n",
    "        f = adata.obs[regions==region]\n",
    "        counts = Counter(f[key])\n",
    "        if f.shape[0]:\n",
    "            data.append([counts.get(cat, 0) / f.shape[0] for cat in pool])\n",
    "        else:\n",
    "            data.append([np.nan] * len(pool))\n",
    "    df = pd.DataFrame(data=data, columns=pool, index=list(range(1, labeled.max() + 1, 1)))\n",
    "    return df\n",
    "        "
   ]
  },
  {
   "cell_type": "code",
   "execution_count": 24,
   "id": "12eaa12e",
   "metadata": {},
   "outputs": [],
   "source": [
    "def calculate_marker_intensities(channel_to_img, labeled):\n",
    "    data, labels = [], []\n",
    "    channels = sorted(set(channel_to_img.keys()))\n",
    "    stacked = np.concatenate([np.expand_dims(channel_to_img[c], -1) for c in channels], axis=-1)\n",
    "    props = regionprops(labeled, intensity_image=stacked)\n",
    "    for prop in props:\n",
    "        labels.append(prop.label)\n",
    "        data.append(prop.intensity_mean.tolist())\n",
    "            \n",
    "    \n",
    "    df = pd.DataFrame(data=data, columns=channels, index=labels)\n",
    "    return df\n"
   ]
  },
  {
   "cell_type": "code",
   "execution_count": 25,
   "id": "ea3ffb93",
   "metadata": {},
   "outputs": [],
   "source": [
    "def calculate_marker_fractions(channel_to_img, adata, labeled):\n",
    "    data, labels = [], []\n",
    "    channels = [c.replace('_fraction', '') for c in adata.var.index.to_list()]\n",
    "    channel_to_thresh = {c:thresh for c, thresh in zip(channels, adata.uns['thresholds'])\n",
    "                if thresh > 0 and thresh not in [254., 255., 65534., 65535.]}\n",
    "    channels = sorted(set(channel_to_thresh.keys()))\n",
    "    stacked = np.concatenate([np.expand_dims(channel_to_img[c] >= channel_to_thresh[c], -1)\n",
    "                              for c in channels], axis=-1)\n",
    "    props = regionprops(labeled, intensity_image=stacked)\n",
    "    for p in props:\n",
    "        labels.append(p.label)\n",
    "        data.append(p.image_intensity.sum(axis=(0, 1)) / (p.image_intensity.shape[0] * p.image_intensity.shape[1]))\n",
    "\n",
    "    df = pd.DataFrame(data=data, columns=channels, index=labels)\n",
    "    return df\n"
   ]
  },
  {
   "cell_type": "code",
   "execution_count": 26,
   "id": "54bba224",
   "metadata": {},
   "outputs": [
    {
     "data": {
      "text/plain": [
       "['HT110B1_S1H4',\n",
       " 'HT171B1-S1H9A1-4_left_05122023',\n",
       " 'HT171B1-S1H9A1-4_right_05122023',\n",
       " 'HT206B1_H1',\n",
       " 'HT206B1_H1_06252022',\n",
       " 'HT206B1_S1H2L4_20221028',\n",
       " 'HT243B1-S1H4A4_04192023',\n",
       " 'HT243B1-S1H4A4_left_05122023',\n",
       " 'HT243B1-S1H4A4_right_05122023',\n",
       " 'HT243B1_S1H4',\n",
       " 'HT271B1-S1H6A5_04192023',\n",
       " 'HT271B1-S1H6A5_left_05122023',\n",
       " 'HT271B1-S1H6A5_right_05122023',\n",
       " 'HT297B1_H1_08042022',\n",
       " 'HT305B1_S1H1',\n",
       " 'HT308B1-S1H5A4_04192023',\n",
       " 'HT308B1-S1H5A4_left_05122023',\n",
       " 'HT308B1-S1H5A4_right_05122023',\n",
       " 'HT323B1_H1A1',\n",
       " 'HT323B1_H1A4',\n",
       " 'HT323B1_H1_08042022',\n",
       " 'HT323B1_H3',\n",
       " 'HT339B1_H1A1',\n",
       " 'HT339B1_H2A1',\n",
       " 'HT339B1_H4A4',\n",
       " 'HT342C1_Th1K4A1_section1_03042022',\n",
       " 'HT342C1_Th1K4A1_section2_03042022',\n",
       " 'HT347C1_Th1K2A1_section1_03042022',\n",
       " 'HT347C1_Th1K2A1_section2_03042022',\n",
       " 'HT365B1_S1H1_02132023',\n",
       " 'HT397B1_H2A2',\n",
       " 'HT397B1_H3A1',\n",
       " 'HT397B1_S1H1A3U22_04122023',\n",
       " 'HT397B1_S1H1A3U31_04062023',\n",
       " 'HT397B1_U12_03172023',\n",
       " 'HT397B1_U2_03162023',\n",
       " 'HT413C1-K2_04262023',\n",
       " 'HT427P1_S1H1A3_20221020',\n",
       " 'HT480B1_S1H2_R001',\n",
       " 'HT480B1_S1H2_R002',\n",
       " 'HT488C1-Th1K1Fp1-U14_041823',\n",
       " 'HT488C1-Th1K1Fp1-U2_041323',\n",
       " 'HT553P1-H2_04262023',\n",
       " 'HT565B1-H2_04262023']"
      ]
     },
     "execution_count": 26,
     "metadata": {},
     "output_type": "execute_result"
    }
   ],
   "source": [
    "samples"
   ]
  },
  {
   "cell_type": "code",
   "execution_count": 27,
   "id": "55f71544",
   "metadata": {},
   "outputs": [],
   "source": [
    "samples = [\n",
    "    'HT342C1_Th1K4A1_section1_03042022',\n",
    "    'HT342C1_Th1K4A1_section2_03042022',\n",
    "    'HT347C1_Th1K2A1_section1_03042022',\n",
    "    'HT347C1_Th1K2A1_section2_03042022',\n",
    "    'HT365B1_S1H1_02132023',\n",
    "    'HT397B1_H2A2',\n",
    "    'HT397B1_H3A1',\n",
    "    'HT397B1_S1H1A3U22_04122023',\n",
    "    'HT397B1_S1H1A3U31_04062023',\n",
    "    'HT397B1_U12_03172023',\n",
    "    'HT397B1_U2_03162023',\n",
    "    'HT413C1-K2_04262023',\n",
    "    'HT427P1_S1H1A3_20221020',\n",
    "    'HT480B1_S1H2_R001',\n",
    "    'HT480B1_S1H2_R002',\n",
    "    'HT488C1-Th1K1Fp1-U14_041823',\n",
    "    'HT488C1-Th1K1Fp1-U2_041323',\n",
    "    'HT553P1-H2_04262023',\n",
    "    'HT565B1-H2_04262023'\n",
    "]"
   ]
  },
  {
   "cell_type": "code",
   "execution_count": 28,
   "id": "469a42ce",
   "metadata": {},
   "outputs": [],
   "source": [
    "cmap = {\n",
    "    'Pan-Cytokeratin': (1., 0., 0.),\n",
    "    'SMA': (0., 1., 0.),\n",
    "    'DAPI': (0., 0., 1.),\n",
    "    'Podoplanin': (1., 1., 1.),\n",
    "}\n",
    "scale = .1"
   ]
  },
  {
   "cell_type": "code",
   "execution_count": 29,
   "id": "628864e0",
   "metadata": {},
   "outputs": [
    {
     "name": "stdout",
     "output_type": "stream",
     "text": [
      "HT342C1_Th1K4A1_section1_03042022\n",
      "HT342C1_Th1K4A1_section2_03042022\n",
      "HT347C1_Th1K2A1_section1_03042022\n",
      "HT347C1_Th1K2A1_section2_03042022\n",
      "HT365B1_S1H1_02132023\n",
      "HT397B1_H2A2\n",
      "HT397B1_H3A1\n",
      "HT397B1_S1H1A3U22_04122023\n",
      "HT397B1_S1H1A3U31_04062023\n",
      "HT397B1_U12_03172023\n",
      "HT397B1_U2_03162023\n",
      "HT413C1-K2_04262023\n",
      "HT427P1_S1H1A3_20221020\n",
      "HT480B1_S1H2_R001\n",
      "HT480B1_S1H2_R002\n",
      "HT488C1-Th1K1Fp1-U14_041823\n",
      "HT488C1-Th1K1Fp1-U2_041323\n",
      "HT553P1-H2_04262023\n",
      "HT565B1-H2_04262023\n"
     ]
    }
   ],
   "source": [
    "for s in samples:\n",
    "    print(s)\n",
    "    a = sc.read_h5ad(sample_to_adata[s])\n",
    "    mask = tifffile.imread(sample_to_mask[s])\n",
    "    channel_to_img = extract_ome_tiff(sample_to_ome[s])\n",
    "    channel_to_img = {R_CHANNEL_MAPPING.get(k, k):v for k, v in channel_to_img.items()}\n",
    "    \n",
    "    labeled = label(mask)\n",
    "    props = regionprops(labeled)\n",
    "    \n",
    "    labeled_dict, mask_dict = get_morphology_masks(labeled)\n",
    "    \n",
    "    type_to_table = {}\n",
    "    for k in labeled_dict.keys():\n",
    "        df_meta = get_regionprops_df(labeled_dict[k])\n",
    "\n",
    "        df_fracs = calculate_annotation_fractions(a, labeled_dict[k], 'cell_type')\n",
    "        df_fracs.columns = [f'cell_type_fraction_{c}' for c in df_fracs.columns]\n",
    "\n",
    "        df_marker_intensities = calculate_marker_intensities(channel_to_img, labeled_dict[k])\n",
    "        df_marker_intensities.columns = [f'marker_intensity_{c}' for c in df_marker_intensities.columns]\n",
    "\n",
    "        df_marker_fracs = calculate_marker_fractions(channel_to_img, a, labeled_dict[k])\n",
    "        df_marker_fracs.columns = [f'marker_fraction_{c}' for c in df_marker_fracs.columns]\n",
    "\n",
    "        combined = pd.merge(df_meta, df_fracs, left_index=True, right_index=True, how='left')\n",
    "        combined = pd.merge(combined, df_marker_intensities, left_index=True, right_index=True, how='left')\n",
    "        combined = pd.merge(combined, df_marker_fracs, left_index=True, right_index=True, how='left')\n",
    "        \n",
    "        type_to_table[k] = combined\n",
    "    \n",
    "    channel_to_img = {c:img for c, img in channel_to_img.items() if c in cmap}\n",
    "    channels = sorted(set(channel_to_img.keys()))\n",
    "    \n",
    "    # psuedo\n",
    "    pseudo = make_pseudo(channel_to_img, cmap=cmap, contrast_pct=95.)\n",
    "    pseudo *= 255.\n",
    "    pseudo = pseudo.astype(np.uint8)\n",
    "    x = torch.tensor(rearrange(pseudo, 'h w c -> c h w'))\n",
    "    x = TF.resize(x, size=(int(x.shape[-2] * scale), int(x.shape[-1] * scale)))\n",
    "    pseudo_thumbnail = rearrange(x.numpy(), 'c h w -> h w c')\n",
    "    \n",
    "    # labeled\n",
    "    thumbnails_labeled = {}\n",
    "    for k, img in labeled_dict.items():\n",
    "        labeled = torch.tensor(img)\n",
    "        labeled = labeled.unsqueeze(0)\n",
    "        labeled = TF.resize(labeled, size=(int(labeled.shape[-2] * scale), int(labeled.shape[-1] * scale)),\n",
    "                           antialias=False, interpolation=TF.InterpolationMode.NEAREST)\n",
    "        thumbnails_labeled[k] = labeled.squeeze().numpy()\n",
    "        \n",
    "    # masks\n",
    "    thumbnails_mask = {}\n",
    "    for k, img in mask_dict.items():\n",
    "        mask = torch.tensor(img)\n",
    "        mask = mask.unsqueeze(0)\n",
    "        mask = TF.resize(mask, size=(int(labeled.shape[-2] * scale), int(labeled.shape[-1] * scale)),\n",
    "                        antialias=False, interpolation=TF.InterpolationMode.NEAREST)\n",
    "        thumbnails_mask[k] = mask.squeeze().numpy()\n",
    "        \n",
    "    to_save = {\n",
    "        'images': {\n",
    "            'fullres':{\n",
    "                'labeled': labeled_dict,\n",
    "                'mask': mask_dict,\n",
    "                'pseudo': torch.tensor(pseudo)\n",
    "            },\n",
    "            'thumbnail': {\n",
    "                'labeled': thumbnails_labeled,\n",
    "                'mask': thumbnails_mask,\n",
    "                'pseudo': pseudo_thumbnail\n",
    "            }\n",
    "        },\n",
    "        'tables': type_to_table,\n",
    "    }\n",
    "\n",
    "    torch.save(to_save, os.path.join(out_dir, f'{s}_results.pt'))\n",
    "    "
   ]
  },
  {
   "cell_type": "code",
   "execution_count": 52,
   "id": "54b4abc2",
   "metadata": {},
   "outputs": [
    {
     "data": {
      "text/plain": [
       "1"
      ]
     },
     "execution_count": 52,
     "metadata": {},
     "output_type": "execute_result"
    }
   ],
   "source": []
  },
  {
   "cell_type": "code",
   "execution_count": null,
   "id": "d20f15d2",
   "metadata": {},
   "outputs": [],
   "source": []
  },
  {
   "cell_type": "markdown",
   "id": "ebccebb6",
   "metadata": {
    "heading_collapsed": true
   },
   "source": [
    "## Sandbox"
   ]
  },
  {
   "cell_type": "code",
   "execution_count": null,
   "id": "7711843e",
   "metadata": {
    "hidden": true
   },
   "outputs": [],
   "source": []
  },
  {
   "cell_type": "code",
   "execution_count": null,
   "id": "9108f408",
   "metadata": {
    "hidden": true
   },
   "outputs": [],
   "source": []
  },
  {
   "cell_type": "code",
   "execution_count": null,
   "id": "98e31fee",
   "metadata": {
    "hidden": true
   },
   "outputs": [],
   "source": []
  },
  {
   "cell_type": "code",
   "execution_count": null,
   "id": "08506e5c",
   "metadata": {
    "hidden": true
   },
   "outputs": [],
   "source": []
  },
  {
   "cell_type": "code",
   "execution_count": null,
   "id": "3211ce29",
   "metadata": {
    "hidden": true
   },
   "outputs": [],
   "source": []
  },
  {
   "cell_type": "code",
   "execution_count": null,
   "id": "67521e9c",
   "metadata": {
    "hidden": true
   },
   "outputs": [],
   "source": []
  },
  {
   "cell_type": "code",
   "execution_count": null,
   "id": "a238f57f",
   "metadata": {
    "hidden": true
   },
   "outputs": [],
   "source": []
  },
  {
   "cell_type": "code",
   "execution_count": 327,
   "id": "47239ef5",
   "metadata": {
    "hidden": true
   },
   "outputs": [
    {
     "data": {
      "text/plain": [
       "'/diskmnt/Projects/Users/estorrs/multiplex_data/analysis/brca_dcis_v2/preprocessing/htan/region_mask/HT271B1_S1H3A5_02172023.tif'"
      ]
     },
     "execution_count": 327,
     "metadata": {},
     "output_type": "execute_result"
    }
   ],
   "source": [
    "sample_to_mask['HT271B1_S1H3A5_02172023']"
   ]
  },
  {
   "cell_type": "code",
   "execution_count": 328,
   "id": "4afbdebd",
   "metadata": {
    "hidden": true
   },
   "outputs": [
    {
     "data": {
      "text/plain": [
       "'/diskmnt/Projects/Users/estorrs/multiplex_data/codex/htan/brca/021723_BCRA_HT271B1_S1H3A5/level_4/HT271B1_S1H3A5_02172023.h5ad'"
      ]
     },
     "execution_count": 328,
     "metadata": {},
     "output_type": "execute_result"
    }
   ],
   "source": [
    "sample_to_adata['HT271B1_S1H3A5_02172023']"
   ]
  },
  {
   "cell_type": "code",
   "execution_count": null,
   "id": "feef4d87",
   "metadata": {
    "hidden": true
   },
   "outputs": [],
   "source": [
    "combined = None\n",
    "for s, result in sample_to_results.items():\n",
    "    df = result['table'].copy()\n",
    "    df.index = [f'{s}_{x}' for x in df.index]\n",
    "    df.index.name = 'label'\n",
    "    df['sample'] = s\n",
    "    \n",
    "    df = df.transpose()\n",
    "    \n",
    "    if combined is None:\n",
    "        combined = df\n",
    "    else:\n",
    "        combined = pd.merge(combined, df, left_index=True, right_index=True, how='outer')\n",
    "combined = combined.transpose()\n",
    "combined.index.name = 'label'\n",
    "combined"
   ]
  },
  {
   "cell_type": "code",
   "execution_count": null,
   "id": "ec75efeb",
   "metadata": {
    "hidden": true
   },
   "outputs": [],
   "source": [
    "region_to_bbox = {reg:(r1, c1, r2, c2) for reg, r1, c1, r2, c2 in zip(\n",
    "                    combined.index.to_list(),\n",
    "                    combined['r1'], combined['c1'],\n",
    "                    combined['r2'], combined['c2'])}"
   ]
  },
  {
   "cell_type": "code",
   "execution_count": null,
   "id": "b0059770",
   "metadata": {
    "hidden": true
   },
   "outputs": [],
   "source": [
    "from einops import rearrange"
   ]
  },
  {
   "cell_type": "code",
   "execution_count": null,
   "id": "0541ef60",
   "metadata": {
    "hidden": true
   },
   "outputs": [],
   "source": [
    "cmap = {\n",
    "    'Pan-Cytokeratin': (1., 0., 0.),\n",
    "    'CD8a': (0., 1., 0.),\n",
    "    'DAPI': (0., 0., 1.),\n",
    "    'SMA': (1., 1., 1.),\n",
    "    'CD45': (1., 1., 0.),\n",
    "}"
   ]
  },
  {
   "cell_type": "code",
   "execution_count": null,
   "id": "e4707893",
   "metadata": {
    "hidden": true
   },
   "outputs": [],
   "source": [
    "scale = .1\n",
    "sample_to_thumbnails = {}\n",
    "\n",
    "for s, result in sample_to_results.items():\n",
    "    print(s)\n",
    "    channel_to_img = extract_ome_tiff(sample_to_ome[s])\n",
    "    channel_to_img = {c:img for c, img in channel_to_img.items() if c in cmap}\n",
    "    channels = sorted(set(channel_to_img.keys()))\n",
    "    \n",
    "    # psuedo\n",
    "    pseudo = make_pseudo(channel_to_img, cmap=cmap, contrast_pct=95.)\n",
    "    x = torch.tensor(rearrange(pseudo, 'h w c -> c h w'))\n",
    "    x = TF.resize(x, size=(int(x.shape[-2] * scale), int(x.shape[-1] * scale)))\n",
    "    pseudo_thumbnail = rearrange(x.numpy(), 'c h w -> h w c')\n",
    "    \n",
    "    # labeled\n",
    "    thumbnails_labeled = {}\n",
    "    for k, img in result['labeled_dict'].items():\n",
    "        labeled = torch.tensor(img)\n",
    "        labeled = labeled.unsqueeze(0)\n",
    "        labeled = TF.resize(labeled, size=(int(labeled.shape[-2] * scale), int(labeled.shape[-1] * scale)),\n",
    "                           antialias=False, interpolation=TF.InterpolationMode.NEAREST)\n",
    "        thumbnails_labeled[k] = labeled.squeeze().numpy()\n",
    "        \n",
    "    # masks\n",
    "    thumbnails_mask = {}\n",
    "    for k, img in result['mask_dict'].items():\n",
    "        mask = torch.tensor(img)\n",
    "        mask = mask.unsqueeze(0)\n",
    "        mask = TF.resize(mask, size=(int(labeled.shape[-2] * scale), int(labeled.shape[-1] * scale)),\n",
    "                        antialias=False, interpolation=TF.InterpolationMode.NEAREST)\n",
    "        thumbnails_mask[k] = mask.squeeze().numpy()\n",
    "        \n",
    "    to_save = {\n",
    "        'pseudo': {\n",
    "            'fullres': pseudo,\n",
    "            'thumbnail': pseudo_thumbnail\n",
    "        },\n",
    "        'labeled': thumbnails_labeled,\n",
    "        'mask': thumbnails_mask\n",
    "    }"
   ]
  },
  {
   "cell_type": "code",
   "execution_count": null,
   "id": "4035630e",
   "metadata": {
    "hidden": true
   },
   "outputs": [],
   "source": []
  },
  {
   "cell_type": "code",
   "execution_count": 311,
   "id": "edcaebf9",
   "metadata": {
    "hidden": true
   },
   "outputs": [],
   "source": [
    "region_to_bbox_thumbnail = {k:(int(r1 * scale), int(c1 * scale), int(r2 * scale), int(c2 * scale))\n",
    "                           for k, (r1, c1, r2, c2) in region_to_bbox.items()}"
   ]
  },
  {
   "cell_type": "code",
   "execution_count": 312,
   "id": "16ab4406",
   "metadata": {
    "hidden": true
   },
   "outputs": [],
   "source": [
    "ncols = 6\n",
    "nrows = (len(sample_to_thumbnails) // ncols) + 1"
   ]
  },
  {
   "cell_type": "code",
   "execution_count": 314,
   "id": "a01f67f2",
   "metadata": {
    "hidden": true
   },
   "outputs": [
    {
     "name": "stdout",
     "output_type": "stream",
     "text": [
      "Error in callback <function flush_figures at 0x7ff93c3914d0> (for post_execute):\n"
     ]
    },
    {
     "ename": "KeyboardInterrupt",
     "evalue": "",
     "output_type": "error",
     "traceback": [
      "\u001b[0;31m---------------------------------------------------------------------------\u001b[0m",
      "\u001b[0;31mKeyboardInterrupt\u001b[0m                         Traceback (most recent call last)",
      "\u001b[0;32m/diskmnt/Projects/Users/estorrs/miniconda3/envs/squidpy/lib/python3.7/site-packages/matplotlib_inline/backend_inline.py\u001b[0m in \u001b[0;36mflush_figures\u001b[0;34m()\u001b[0m\n\u001b[1;32m    119\u001b[0m         \u001b[0;31m# ignore the tracking, just draw and close all figures\u001b[0m\u001b[0;34m\u001b[0m\u001b[0;34m\u001b[0m\u001b[0;34m\u001b[0m\u001b[0m\n\u001b[1;32m    120\u001b[0m         \u001b[0;32mtry\u001b[0m\u001b[0;34m:\u001b[0m\u001b[0;34m\u001b[0m\u001b[0;34m\u001b[0m\u001b[0m\n\u001b[0;32m--> 121\u001b[0;31m             \u001b[0;32mreturn\u001b[0m \u001b[0mshow\u001b[0m\u001b[0;34m(\u001b[0m\u001b[0;32mTrue\u001b[0m\u001b[0;34m)\u001b[0m\u001b[0;34m\u001b[0m\u001b[0;34m\u001b[0m\u001b[0m\n\u001b[0m\u001b[1;32m    122\u001b[0m         \u001b[0;32mexcept\u001b[0m \u001b[0mException\u001b[0m \u001b[0;32mas\u001b[0m \u001b[0me\u001b[0m\u001b[0;34m:\u001b[0m\u001b[0;34m\u001b[0m\u001b[0;34m\u001b[0m\u001b[0m\n\u001b[1;32m    123\u001b[0m             \u001b[0;31m# safely show traceback if in IPython, else raise\u001b[0m\u001b[0;34m\u001b[0m\u001b[0;34m\u001b[0m\u001b[0;34m\u001b[0m\u001b[0m\n",
      "\u001b[0;32m/diskmnt/Projects/Users/estorrs/miniconda3/envs/squidpy/lib/python3.7/site-packages/matplotlib_inline/backend_inline.py\u001b[0m in \u001b[0;36mshow\u001b[0;34m(close, block)\u001b[0m\n\u001b[1;32m     41\u001b[0m             display(\n\u001b[1;32m     42\u001b[0m                 \u001b[0mfigure_manager\u001b[0m\u001b[0;34m.\u001b[0m\u001b[0mcanvas\u001b[0m\u001b[0;34m.\u001b[0m\u001b[0mfigure\u001b[0m\u001b[0;34m,\u001b[0m\u001b[0;34m\u001b[0m\u001b[0;34m\u001b[0m\u001b[0m\n\u001b[0;32m---> 43\u001b[0;31m                 \u001b[0mmetadata\u001b[0m\u001b[0;34m=\u001b[0m\u001b[0m_fetch_figure_metadata\u001b[0m\u001b[0;34m(\u001b[0m\u001b[0mfigure_manager\u001b[0m\u001b[0;34m.\u001b[0m\u001b[0mcanvas\u001b[0m\u001b[0;34m.\u001b[0m\u001b[0mfigure\u001b[0m\u001b[0;34m)\u001b[0m\u001b[0;34m\u001b[0m\u001b[0;34m\u001b[0m\u001b[0m\n\u001b[0m\u001b[1;32m     44\u001b[0m             )\n\u001b[1;32m     45\u001b[0m     \u001b[0;32mfinally\u001b[0m\u001b[0;34m:\u001b[0m\u001b[0;34m\u001b[0m\u001b[0;34m\u001b[0m\u001b[0m\n",
      "\u001b[0;32m/diskmnt/Projects/Users/estorrs/miniconda3/envs/squidpy/lib/python3.7/site-packages/IPython/core/display.py\u001b[0m in \u001b[0;36mdisplay\u001b[0;34m(include, exclude, metadata, transient, display_id, *objs, **kwargs)\u001b[0m\n\u001b[1;32m    318\u001b[0m             \u001b[0mpublish_display_data\u001b[0m\u001b[0;34m(\u001b[0m\u001b[0mdata\u001b[0m\u001b[0;34m=\u001b[0m\u001b[0mobj\u001b[0m\u001b[0;34m,\u001b[0m \u001b[0mmetadata\u001b[0m\u001b[0;34m=\u001b[0m\u001b[0mmetadata\u001b[0m\u001b[0;34m,\u001b[0m \u001b[0;34m**\u001b[0m\u001b[0mkwargs\u001b[0m\u001b[0;34m)\u001b[0m\u001b[0;34m\u001b[0m\u001b[0;34m\u001b[0m\u001b[0m\n\u001b[1;32m    319\u001b[0m         \u001b[0;32melse\u001b[0m\u001b[0;34m:\u001b[0m\u001b[0;34m\u001b[0m\u001b[0;34m\u001b[0m\u001b[0m\n\u001b[0;32m--> 320\u001b[0;31m             \u001b[0mformat_dict\u001b[0m\u001b[0;34m,\u001b[0m \u001b[0mmd_dict\u001b[0m \u001b[0;34m=\u001b[0m \u001b[0mformat\u001b[0m\u001b[0;34m(\u001b[0m\u001b[0mobj\u001b[0m\u001b[0;34m,\u001b[0m \u001b[0minclude\u001b[0m\u001b[0;34m=\u001b[0m\u001b[0minclude\u001b[0m\u001b[0;34m,\u001b[0m \u001b[0mexclude\u001b[0m\u001b[0;34m=\u001b[0m\u001b[0mexclude\u001b[0m\u001b[0;34m)\u001b[0m\u001b[0;34m\u001b[0m\u001b[0;34m\u001b[0m\u001b[0m\n\u001b[0m\u001b[1;32m    321\u001b[0m             \u001b[0;32mif\u001b[0m \u001b[0;32mnot\u001b[0m \u001b[0mformat_dict\u001b[0m\u001b[0;34m:\u001b[0m\u001b[0;34m\u001b[0m\u001b[0;34m\u001b[0m\u001b[0m\n\u001b[1;32m    322\u001b[0m                 \u001b[0;31m# nothing to display (e.g. _ipython_display_ took over)\u001b[0m\u001b[0;34m\u001b[0m\u001b[0;34m\u001b[0m\u001b[0;34m\u001b[0m\u001b[0m\n",
      "\u001b[0;32m/diskmnt/Projects/Users/estorrs/miniconda3/envs/squidpy/lib/python3.7/site-packages/IPython/core/formatters.py\u001b[0m in \u001b[0;36mformat\u001b[0;34m(self, obj, include, exclude)\u001b[0m\n\u001b[1;32m    178\u001b[0m             \u001b[0mmd\u001b[0m \u001b[0;34m=\u001b[0m \u001b[0;32mNone\u001b[0m\u001b[0;34m\u001b[0m\u001b[0;34m\u001b[0m\u001b[0m\n\u001b[1;32m    179\u001b[0m             \u001b[0;32mtry\u001b[0m\u001b[0;34m:\u001b[0m\u001b[0;34m\u001b[0m\u001b[0;34m\u001b[0m\u001b[0m\n\u001b[0;32m--> 180\u001b[0;31m                 \u001b[0mdata\u001b[0m \u001b[0;34m=\u001b[0m \u001b[0mformatter\u001b[0m\u001b[0;34m(\u001b[0m\u001b[0mobj\u001b[0m\u001b[0;34m)\u001b[0m\u001b[0;34m\u001b[0m\u001b[0;34m\u001b[0m\u001b[0m\n\u001b[0m\u001b[1;32m    181\u001b[0m             \u001b[0;32mexcept\u001b[0m\u001b[0;34m:\u001b[0m\u001b[0;34m\u001b[0m\u001b[0;34m\u001b[0m\u001b[0m\n\u001b[1;32m    182\u001b[0m                 \u001b[0;31m# FIXME: log the exception\u001b[0m\u001b[0;34m\u001b[0m\u001b[0;34m\u001b[0m\u001b[0;34m\u001b[0m\u001b[0m\n",
      "\u001b[0;32m/diskmnt/Projects/Users/estorrs/miniconda3/envs/squidpy/lib/python3.7/site-packages/decorator.py\u001b[0m in \u001b[0;36mfun\u001b[0;34m(*args, **kw)\u001b[0m\n\u001b[1;32m    230\u001b[0m             \u001b[0;32mif\u001b[0m \u001b[0;32mnot\u001b[0m \u001b[0mkwsyntax\u001b[0m\u001b[0;34m:\u001b[0m\u001b[0;34m\u001b[0m\u001b[0;34m\u001b[0m\u001b[0m\n\u001b[1;32m    231\u001b[0m                 \u001b[0margs\u001b[0m\u001b[0;34m,\u001b[0m \u001b[0mkw\u001b[0m \u001b[0;34m=\u001b[0m \u001b[0mfix\u001b[0m\u001b[0;34m(\u001b[0m\u001b[0margs\u001b[0m\u001b[0;34m,\u001b[0m \u001b[0mkw\u001b[0m\u001b[0;34m,\u001b[0m \u001b[0msig\u001b[0m\u001b[0;34m)\u001b[0m\u001b[0;34m\u001b[0m\u001b[0;34m\u001b[0m\u001b[0m\n\u001b[0;32m--> 232\u001b[0;31m             \u001b[0;32mreturn\u001b[0m \u001b[0mcaller\u001b[0m\u001b[0;34m(\u001b[0m\u001b[0mfunc\u001b[0m\u001b[0;34m,\u001b[0m \u001b[0;34m*\u001b[0m\u001b[0;34m(\u001b[0m\u001b[0mextras\u001b[0m \u001b[0;34m+\u001b[0m \u001b[0margs\u001b[0m\u001b[0;34m)\u001b[0m\u001b[0;34m,\u001b[0m \u001b[0;34m**\u001b[0m\u001b[0mkw\u001b[0m\u001b[0;34m)\u001b[0m\u001b[0;34m\u001b[0m\u001b[0;34m\u001b[0m\u001b[0m\n\u001b[0m\u001b[1;32m    233\u001b[0m     \u001b[0mfun\u001b[0m\u001b[0;34m.\u001b[0m\u001b[0m__name__\u001b[0m \u001b[0;34m=\u001b[0m \u001b[0mfunc\u001b[0m\u001b[0;34m.\u001b[0m\u001b[0m__name__\u001b[0m\u001b[0;34m\u001b[0m\u001b[0;34m\u001b[0m\u001b[0m\n\u001b[1;32m    234\u001b[0m     \u001b[0mfun\u001b[0m\u001b[0;34m.\u001b[0m\u001b[0m__doc__\u001b[0m \u001b[0;34m=\u001b[0m \u001b[0mfunc\u001b[0m\u001b[0;34m.\u001b[0m\u001b[0m__doc__\u001b[0m\u001b[0;34m\u001b[0m\u001b[0;34m\u001b[0m\u001b[0m\n",
      "\u001b[0;32m/diskmnt/Projects/Users/estorrs/miniconda3/envs/squidpy/lib/python3.7/site-packages/IPython/core/formatters.py\u001b[0m in \u001b[0;36mcatch_format_error\u001b[0;34m(method, self, *args, **kwargs)\u001b[0m\n\u001b[1;32m    222\u001b[0m     \u001b[0;34m\"\"\"show traceback on failed format call\"\"\"\u001b[0m\u001b[0;34m\u001b[0m\u001b[0;34m\u001b[0m\u001b[0m\n\u001b[1;32m    223\u001b[0m     \u001b[0;32mtry\u001b[0m\u001b[0;34m:\u001b[0m\u001b[0;34m\u001b[0m\u001b[0;34m\u001b[0m\u001b[0m\n\u001b[0;32m--> 224\u001b[0;31m         \u001b[0mr\u001b[0m \u001b[0;34m=\u001b[0m \u001b[0mmethod\u001b[0m\u001b[0;34m(\u001b[0m\u001b[0mself\u001b[0m\u001b[0;34m,\u001b[0m \u001b[0;34m*\u001b[0m\u001b[0margs\u001b[0m\u001b[0;34m,\u001b[0m \u001b[0;34m**\u001b[0m\u001b[0mkwargs\u001b[0m\u001b[0;34m)\u001b[0m\u001b[0;34m\u001b[0m\u001b[0;34m\u001b[0m\u001b[0m\n\u001b[0m\u001b[1;32m    225\u001b[0m     \u001b[0;32mexcept\u001b[0m \u001b[0mNotImplementedError\u001b[0m\u001b[0;34m:\u001b[0m\u001b[0;34m\u001b[0m\u001b[0;34m\u001b[0m\u001b[0m\n\u001b[1;32m    226\u001b[0m         \u001b[0;31m# don't warn on NotImplementedErrors\u001b[0m\u001b[0;34m\u001b[0m\u001b[0;34m\u001b[0m\u001b[0;34m\u001b[0m\u001b[0m\n",
      "\u001b[0;32m/diskmnt/Projects/Users/estorrs/miniconda3/envs/squidpy/lib/python3.7/site-packages/IPython/core/formatters.py\u001b[0m in \u001b[0;36m__call__\u001b[0;34m(self, obj)\u001b[0m\n\u001b[1;32m    339\u001b[0m                 \u001b[0;32mpass\u001b[0m\u001b[0;34m\u001b[0m\u001b[0;34m\u001b[0m\u001b[0m\n\u001b[1;32m    340\u001b[0m             \u001b[0;32melse\u001b[0m\u001b[0;34m:\u001b[0m\u001b[0;34m\u001b[0m\u001b[0;34m\u001b[0m\u001b[0m\n\u001b[0;32m--> 341\u001b[0;31m                 \u001b[0;32mreturn\u001b[0m \u001b[0mprinter\u001b[0m\u001b[0;34m(\u001b[0m\u001b[0mobj\u001b[0m\u001b[0;34m)\u001b[0m\u001b[0;34m\u001b[0m\u001b[0;34m\u001b[0m\u001b[0m\n\u001b[0m\u001b[1;32m    342\u001b[0m             \u001b[0;31m# Finally look for special method names\u001b[0m\u001b[0;34m\u001b[0m\u001b[0;34m\u001b[0m\u001b[0;34m\u001b[0m\u001b[0m\n\u001b[1;32m    343\u001b[0m             \u001b[0mmethod\u001b[0m \u001b[0;34m=\u001b[0m \u001b[0mget_real_method\u001b[0m\u001b[0;34m(\u001b[0m\u001b[0mobj\u001b[0m\u001b[0;34m,\u001b[0m \u001b[0mself\u001b[0m\u001b[0;34m.\u001b[0m\u001b[0mprint_method\u001b[0m\u001b[0;34m)\u001b[0m\u001b[0;34m\u001b[0m\u001b[0;34m\u001b[0m\u001b[0m\n",
      "\u001b[0;32m/diskmnt/Projects/Users/estorrs/miniconda3/envs/squidpy/lib/python3.7/site-packages/IPython/core/pylabtools.py\u001b[0m in \u001b[0;36mprint_figure\u001b[0;34m(fig, fmt, bbox_inches, base64, **kwargs)\u001b[0m\n\u001b[1;32m    149\u001b[0m         \u001b[0mFigureCanvasBase\u001b[0m\u001b[0;34m(\u001b[0m\u001b[0mfig\u001b[0m\u001b[0;34m)\u001b[0m\u001b[0;34m\u001b[0m\u001b[0;34m\u001b[0m\u001b[0m\n\u001b[1;32m    150\u001b[0m \u001b[0;34m\u001b[0m\u001b[0m\n\u001b[0;32m--> 151\u001b[0;31m     \u001b[0mfig\u001b[0m\u001b[0;34m.\u001b[0m\u001b[0mcanvas\u001b[0m\u001b[0;34m.\u001b[0m\u001b[0mprint_figure\u001b[0m\u001b[0;34m(\u001b[0m\u001b[0mbytes_io\u001b[0m\u001b[0;34m,\u001b[0m \u001b[0;34m**\u001b[0m\u001b[0mkw\u001b[0m\u001b[0;34m)\u001b[0m\u001b[0;34m\u001b[0m\u001b[0;34m\u001b[0m\u001b[0m\n\u001b[0m\u001b[1;32m    152\u001b[0m     \u001b[0mdata\u001b[0m \u001b[0;34m=\u001b[0m \u001b[0mbytes_io\u001b[0m\u001b[0;34m.\u001b[0m\u001b[0mgetvalue\u001b[0m\u001b[0;34m(\u001b[0m\u001b[0;34m)\u001b[0m\u001b[0;34m\u001b[0m\u001b[0;34m\u001b[0m\u001b[0m\n\u001b[1;32m    153\u001b[0m     \u001b[0;32mif\u001b[0m \u001b[0mfmt\u001b[0m \u001b[0;34m==\u001b[0m \u001b[0;34m'svg'\u001b[0m\u001b[0;34m:\u001b[0m\u001b[0;34m\u001b[0m\u001b[0;34m\u001b[0m\u001b[0m\n",
      "\u001b[0;32m/diskmnt/Projects/Users/estorrs/miniconda3/envs/squidpy/lib/python3.7/site-packages/matplotlib/backend_bases.py\u001b[0m in \u001b[0;36mprint_figure\u001b[0;34m(self, filename, dpi, facecolor, edgecolor, orientation, format, bbox_inches, pad_inches, bbox_extra_artists, backend, **kwargs)\u001b[0m\n\u001b[1;32m   2323\u001b[0m                         \u001b[0morientation\u001b[0m\u001b[0;34m=\u001b[0m\u001b[0morientation\u001b[0m\u001b[0;34m,\u001b[0m\u001b[0;34m\u001b[0m\u001b[0;34m\u001b[0m\u001b[0m\n\u001b[1;32m   2324\u001b[0m                         \u001b[0mbbox_inches_restore\u001b[0m\u001b[0;34m=\u001b[0m\u001b[0m_bbox_inches_restore\u001b[0m\u001b[0;34m,\u001b[0m\u001b[0;34m\u001b[0m\u001b[0;34m\u001b[0m\u001b[0m\n\u001b[0;32m-> 2325\u001b[0;31m                         **kwargs)\n\u001b[0m\u001b[1;32m   2326\u001b[0m             \u001b[0;32mfinally\u001b[0m\u001b[0;34m:\u001b[0m\u001b[0;34m\u001b[0m\u001b[0;34m\u001b[0m\u001b[0m\n\u001b[1;32m   2327\u001b[0m                 \u001b[0;32mif\u001b[0m \u001b[0mbbox_inches\u001b[0m \u001b[0;32mand\u001b[0m \u001b[0mrestore_bbox\u001b[0m\u001b[0;34m:\u001b[0m\u001b[0;34m\u001b[0m\u001b[0;34m\u001b[0m\u001b[0m\n",
      "\u001b[0;32m/diskmnt/Projects/Users/estorrs/miniconda3/envs/squidpy/lib/python3.7/site-packages/matplotlib/backend_bases.py\u001b[0m in \u001b[0;36mwrapper\u001b[0;34m(*args, **kwargs)\u001b[0m\n\u001b[1;32m   1646\u001b[0m             \u001b[0mkwargs\u001b[0m\u001b[0;34m.\u001b[0m\u001b[0mpop\u001b[0m\u001b[0;34m(\u001b[0m\u001b[0marg\u001b[0m\u001b[0;34m)\u001b[0m\u001b[0;34m\u001b[0m\u001b[0;34m\u001b[0m\u001b[0m\n\u001b[1;32m   1647\u001b[0m \u001b[0;34m\u001b[0m\u001b[0m\n\u001b[0;32m-> 1648\u001b[0;31m         \u001b[0;32mreturn\u001b[0m \u001b[0mfunc\u001b[0m\u001b[0;34m(\u001b[0m\u001b[0;34m*\u001b[0m\u001b[0margs\u001b[0m\u001b[0;34m,\u001b[0m \u001b[0;34m**\u001b[0m\u001b[0mkwargs\u001b[0m\u001b[0;34m)\u001b[0m\u001b[0;34m\u001b[0m\u001b[0;34m\u001b[0m\u001b[0m\n\u001b[0m\u001b[1;32m   1649\u001b[0m \u001b[0;34m\u001b[0m\u001b[0m\n\u001b[1;32m   1650\u001b[0m     \u001b[0;32mreturn\u001b[0m \u001b[0mwrapper\u001b[0m\u001b[0;34m\u001b[0m\u001b[0;34m\u001b[0m\u001b[0m\n",
      "\u001b[0;32m/diskmnt/Projects/Users/estorrs/miniconda3/envs/squidpy/lib/python3.7/site-packages/matplotlib/_api/deprecation.py\u001b[0m in \u001b[0;36mwrapper\u001b[0;34m(*inner_args, **inner_kwargs)\u001b[0m\n\u001b[1;32m    413\u001b[0m                          \u001b[0;32melse\u001b[0m \u001b[0mdeprecation_addendum\u001b[0m\u001b[0;34m,\u001b[0m\u001b[0;34m\u001b[0m\u001b[0;34m\u001b[0m\u001b[0m\n\u001b[1;32m    414\u001b[0m                 **kwargs)\n\u001b[0;32m--> 415\u001b[0;31m         \u001b[0;32mreturn\u001b[0m \u001b[0mfunc\u001b[0m\u001b[0;34m(\u001b[0m\u001b[0;34m*\u001b[0m\u001b[0minner_args\u001b[0m\u001b[0;34m,\u001b[0m \u001b[0;34m**\u001b[0m\u001b[0minner_kwargs\u001b[0m\u001b[0;34m)\u001b[0m\u001b[0;34m\u001b[0m\u001b[0;34m\u001b[0m\u001b[0m\n\u001b[0m\u001b[1;32m    416\u001b[0m \u001b[0;34m\u001b[0m\u001b[0m\n\u001b[1;32m    417\u001b[0m     \u001b[0mDECORATORS\u001b[0m\u001b[0;34m[\u001b[0m\u001b[0mwrapper\u001b[0m\u001b[0;34m]\u001b[0m \u001b[0;34m=\u001b[0m \u001b[0mdecorator\u001b[0m\u001b[0;34m\u001b[0m\u001b[0;34m\u001b[0m\u001b[0m\n",
      "\u001b[0;32m/diskmnt/Projects/Users/estorrs/miniconda3/envs/squidpy/lib/python3.7/site-packages/matplotlib/backends/backend_agg.py\u001b[0m in \u001b[0;36mprint_png\u001b[0;34m(self, filename_or_obj, metadata, pil_kwargs, *args)\u001b[0m\n\u001b[1;32m    538\u001b[0m             \u001b[0;34m*\u001b[0m\u001b[0mmetadata\u001b[0m\u001b[0;34m*\u001b[0m\u001b[0;34m,\u001b[0m \u001b[0mincluding\u001b[0m \u001b[0mthe\u001b[0m \u001b[0mdefault\u001b[0m \u001b[0;34m'Software'\u001b[0m \u001b[0mkey\u001b[0m\u001b[0;34m.\u001b[0m\u001b[0;34m\u001b[0m\u001b[0;34m\u001b[0m\u001b[0m\n\u001b[1;32m    539\u001b[0m         \"\"\"\n\u001b[0;32m--> 540\u001b[0;31m         \u001b[0mFigureCanvasAgg\u001b[0m\u001b[0;34m.\u001b[0m\u001b[0mdraw\u001b[0m\u001b[0;34m(\u001b[0m\u001b[0mself\u001b[0m\u001b[0;34m)\u001b[0m\u001b[0;34m\u001b[0m\u001b[0;34m\u001b[0m\u001b[0m\n\u001b[0m\u001b[1;32m    541\u001b[0m         mpl.image.imsave(\n\u001b[1;32m    542\u001b[0m             \u001b[0mfilename_or_obj\u001b[0m\u001b[0;34m,\u001b[0m \u001b[0mself\u001b[0m\u001b[0;34m.\u001b[0m\u001b[0mbuffer_rgba\u001b[0m\u001b[0;34m(\u001b[0m\u001b[0;34m)\u001b[0m\u001b[0;34m,\u001b[0m \u001b[0mformat\u001b[0m\u001b[0;34m=\u001b[0m\u001b[0;34m\"png\"\u001b[0m\u001b[0;34m,\u001b[0m \u001b[0morigin\u001b[0m\u001b[0;34m=\u001b[0m\u001b[0;34m\"upper\"\u001b[0m\u001b[0;34m,\u001b[0m\u001b[0;34m\u001b[0m\u001b[0;34m\u001b[0m\u001b[0m\n",
      "\u001b[0;32m/diskmnt/Projects/Users/estorrs/miniconda3/envs/squidpy/lib/python3.7/site-packages/matplotlib/backends/backend_agg.py\u001b[0m in \u001b[0;36mdraw\u001b[0;34m(self)\u001b[0m\n\u001b[1;32m    434\u001b[0m              (self.toolbar._wait_cursor_for_draw_cm() if self.toolbar\n\u001b[1;32m    435\u001b[0m               else nullcontext()):\n\u001b[0;32m--> 436\u001b[0;31m             \u001b[0mself\u001b[0m\u001b[0;34m.\u001b[0m\u001b[0mfigure\u001b[0m\u001b[0;34m.\u001b[0m\u001b[0mdraw\u001b[0m\u001b[0;34m(\u001b[0m\u001b[0mself\u001b[0m\u001b[0;34m.\u001b[0m\u001b[0mrenderer\u001b[0m\u001b[0;34m)\u001b[0m\u001b[0;34m\u001b[0m\u001b[0;34m\u001b[0m\u001b[0m\n\u001b[0m\u001b[1;32m    437\u001b[0m             \u001b[0;31m# A GUI class may be need to update a window using this draw, so\u001b[0m\u001b[0;34m\u001b[0m\u001b[0;34m\u001b[0m\u001b[0;34m\u001b[0m\u001b[0m\n\u001b[1;32m    438\u001b[0m             \u001b[0;31m# don't forget to call the superclass.\u001b[0m\u001b[0;34m\u001b[0m\u001b[0;34m\u001b[0m\u001b[0;34m\u001b[0m\u001b[0m\n",
      "\u001b[0;32m/diskmnt/Projects/Users/estorrs/miniconda3/envs/squidpy/lib/python3.7/site-packages/matplotlib/artist.py\u001b[0m in \u001b[0;36mdraw_wrapper\u001b[0;34m(artist, renderer, *args, **kwargs)\u001b[0m\n\u001b[1;32m     71\u001b[0m     \u001b[0;34m@\u001b[0m\u001b[0mwraps\u001b[0m\u001b[0;34m(\u001b[0m\u001b[0mdraw\u001b[0m\u001b[0;34m)\u001b[0m\u001b[0;34m\u001b[0m\u001b[0;34m\u001b[0m\u001b[0m\n\u001b[1;32m     72\u001b[0m     \u001b[0;32mdef\u001b[0m \u001b[0mdraw_wrapper\u001b[0m\u001b[0;34m(\u001b[0m\u001b[0martist\u001b[0m\u001b[0;34m,\u001b[0m \u001b[0mrenderer\u001b[0m\u001b[0;34m,\u001b[0m \u001b[0;34m*\u001b[0m\u001b[0margs\u001b[0m\u001b[0;34m,\u001b[0m \u001b[0;34m**\u001b[0m\u001b[0mkwargs\u001b[0m\u001b[0;34m)\u001b[0m\u001b[0;34m:\u001b[0m\u001b[0;34m\u001b[0m\u001b[0;34m\u001b[0m\u001b[0m\n\u001b[0;32m---> 73\u001b[0;31m         \u001b[0mresult\u001b[0m \u001b[0;34m=\u001b[0m \u001b[0mdraw\u001b[0m\u001b[0;34m(\u001b[0m\u001b[0martist\u001b[0m\u001b[0;34m,\u001b[0m \u001b[0mrenderer\u001b[0m\u001b[0;34m,\u001b[0m \u001b[0;34m*\u001b[0m\u001b[0margs\u001b[0m\u001b[0;34m,\u001b[0m \u001b[0;34m**\u001b[0m\u001b[0mkwargs\u001b[0m\u001b[0;34m)\u001b[0m\u001b[0;34m\u001b[0m\u001b[0;34m\u001b[0m\u001b[0m\n\u001b[0m\u001b[1;32m     74\u001b[0m         \u001b[0;32mif\u001b[0m \u001b[0mrenderer\u001b[0m\u001b[0;34m.\u001b[0m\u001b[0m_rasterizing\u001b[0m\u001b[0;34m:\u001b[0m\u001b[0;34m\u001b[0m\u001b[0;34m\u001b[0m\u001b[0m\n\u001b[1;32m     75\u001b[0m             \u001b[0mrenderer\u001b[0m\u001b[0;34m.\u001b[0m\u001b[0mstop_rasterizing\u001b[0m\u001b[0;34m(\u001b[0m\u001b[0;34m)\u001b[0m\u001b[0;34m\u001b[0m\u001b[0;34m\u001b[0m\u001b[0m\n",
      "\u001b[0;32m/diskmnt/Projects/Users/estorrs/miniconda3/envs/squidpy/lib/python3.7/site-packages/matplotlib/artist.py\u001b[0m in \u001b[0;36mdraw_wrapper\u001b[0;34m(artist, renderer)\u001b[0m\n\u001b[1;32m     48\u001b[0m                 \u001b[0mrenderer\u001b[0m\u001b[0;34m.\u001b[0m\u001b[0mstart_filter\u001b[0m\u001b[0;34m(\u001b[0m\u001b[0;34m)\u001b[0m\u001b[0;34m\u001b[0m\u001b[0;34m\u001b[0m\u001b[0m\n\u001b[1;32m     49\u001b[0m \u001b[0;34m\u001b[0m\u001b[0m\n\u001b[0;32m---> 50\u001b[0;31m             \u001b[0;32mreturn\u001b[0m \u001b[0mdraw\u001b[0m\u001b[0;34m(\u001b[0m\u001b[0martist\u001b[0m\u001b[0;34m,\u001b[0m \u001b[0mrenderer\u001b[0m\u001b[0;34m)\u001b[0m\u001b[0;34m\u001b[0m\u001b[0;34m\u001b[0m\u001b[0m\n\u001b[0m\u001b[1;32m     51\u001b[0m         \u001b[0;32mfinally\u001b[0m\u001b[0;34m:\u001b[0m\u001b[0;34m\u001b[0m\u001b[0;34m\u001b[0m\u001b[0m\n\u001b[1;32m     52\u001b[0m             \u001b[0;32mif\u001b[0m \u001b[0martist\u001b[0m\u001b[0;34m.\u001b[0m\u001b[0mget_agg_filter\u001b[0m\u001b[0;34m(\u001b[0m\u001b[0;34m)\u001b[0m \u001b[0;32mis\u001b[0m \u001b[0;32mnot\u001b[0m \u001b[0;32mNone\u001b[0m\u001b[0;34m:\u001b[0m\u001b[0;34m\u001b[0m\u001b[0;34m\u001b[0m\u001b[0m\n",
      "\u001b[0;32m/diskmnt/Projects/Users/estorrs/miniconda3/envs/squidpy/lib/python3.7/site-packages/matplotlib/figure.py\u001b[0m in \u001b[0;36mdraw\u001b[0;34m(self, renderer)\u001b[0m\n\u001b[1;32m   2836\u001b[0m             \u001b[0mself\u001b[0m\u001b[0;34m.\u001b[0m\u001b[0mpatch\u001b[0m\u001b[0;34m.\u001b[0m\u001b[0mdraw\u001b[0m\u001b[0;34m(\u001b[0m\u001b[0mrenderer\u001b[0m\u001b[0;34m)\u001b[0m\u001b[0;34m\u001b[0m\u001b[0;34m\u001b[0m\u001b[0m\n\u001b[1;32m   2837\u001b[0m             mimage._draw_list_compositing_images(\n\u001b[0;32m-> 2838\u001b[0;31m                 renderer, self, artists, self.suppressComposite)\n\u001b[0m\u001b[1;32m   2839\u001b[0m \u001b[0;34m\u001b[0m\u001b[0m\n\u001b[1;32m   2840\u001b[0m             \u001b[0;32mfor\u001b[0m \u001b[0msfig\u001b[0m \u001b[0;32min\u001b[0m \u001b[0mself\u001b[0m\u001b[0;34m.\u001b[0m\u001b[0msubfigs\u001b[0m\u001b[0;34m:\u001b[0m\u001b[0;34m\u001b[0m\u001b[0;34m\u001b[0m\u001b[0m\n",
      "\u001b[0;32m/diskmnt/Projects/Users/estorrs/miniconda3/envs/squidpy/lib/python3.7/site-packages/matplotlib/image.py\u001b[0m in \u001b[0;36m_draw_list_compositing_images\u001b[0;34m(renderer, parent, artists, suppress_composite)\u001b[0m\n\u001b[1;32m    130\u001b[0m     \u001b[0;32mif\u001b[0m \u001b[0mnot_composite\u001b[0m \u001b[0;32mor\u001b[0m \u001b[0;32mnot\u001b[0m \u001b[0mhas_images\u001b[0m\u001b[0;34m:\u001b[0m\u001b[0;34m\u001b[0m\u001b[0;34m\u001b[0m\u001b[0m\n\u001b[1;32m    131\u001b[0m         \u001b[0;32mfor\u001b[0m \u001b[0ma\u001b[0m \u001b[0;32min\u001b[0m \u001b[0martists\u001b[0m\u001b[0;34m:\u001b[0m\u001b[0;34m\u001b[0m\u001b[0;34m\u001b[0m\u001b[0m\n\u001b[0;32m--> 132\u001b[0;31m             \u001b[0ma\u001b[0m\u001b[0;34m.\u001b[0m\u001b[0mdraw\u001b[0m\u001b[0;34m(\u001b[0m\u001b[0mrenderer\u001b[0m\u001b[0;34m)\u001b[0m\u001b[0;34m\u001b[0m\u001b[0;34m\u001b[0m\u001b[0m\n\u001b[0m\u001b[1;32m    133\u001b[0m     \u001b[0;32melse\u001b[0m\u001b[0;34m:\u001b[0m\u001b[0;34m\u001b[0m\u001b[0;34m\u001b[0m\u001b[0m\n\u001b[1;32m    134\u001b[0m         \u001b[0;31m# Composite any adjacent images together\u001b[0m\u001b[0;34m\u001b[0m\u001b[0;34m\u001b[0m\u001b[0;34m\u001b[0m\u001b[0m\n",
      "\u001b[0;32m/diskmnt/Projects/Users/estorrs/miniconda3/envs/squidpy/lib/python3.7/site-packages/matplotlib/artist.py\u001b[0m in \u001b[0;36mdraw_wrapper\u001b[0;34m(artist, renderer)\u001b[0m\n\u001b[1;32m     48\u001b[0m                 \u001b[0mrenderer\u001b[0m\u001b[0;34m.\u001b[0m\u001b[0mstart_filter\u001b[0m\u001b[0;34m(\u001b[0m\u001b[0;34m)\u001b[0m\u001b[0;34m\u001b[0m\u001b[0;34m\u001b[0m\u001b[0m\n\u001b[1;32m     49\u001b[0m \u001b[0;34m\u001b[0m\u001b[0m\n\u001b[0;32m---> 50\u001b[0;31m             \u001b[0;32mreturn\u001b[0m \u001b[0mdraw\u001b[0m\u001b[0;34m(\u001b[0m\u001b[0martist\u001b[0m\u001b[0;34m,\u001b[0m \u001b[0mrenderer\u001b[0m\u001b[0;34m)\u001b[0m\u001b[0;34m\u001b[0m\u001b[0;34m\u001b[0m\u001b[0m\n\u001b[0m\u001b[1;32m     51\u001b[0m         \u001b[0;32mfinally\u001b[0m\u001b[0;34m:\u001b[0m\u001b[0;34m\u001b[0m\u001b[0;34m\u001b[0m\u001b[0m\n\u001b[1;32m     52\u001b[0m             \u001b[0;32mif\u001b[0m \u001b[0martist\u001b[0m\u001b[0;34m.\u001b[0m\u001b[0mget_agg_filter\u001b[0m\u001b[0;34m(\u001b[0m\u001b[0;34m)\u001b[0m \u001b[0;32mis\u001b[0m \u001b[0;32mnot\u001b[0m \u001b[0;32mNone\u001b[0m\u001b[0;34m:\u001b[0m\u001b[0;34m\u001b[0m\u001b[0;34m\u001b[0m\u001b[0m\n",
      "\u001b[0;32m/diskmnt/Projects/Users/estorrs/miniconda3/envs/squidpy/lib/python3.7/site-packages/matplotlib/axes/_base.py\u001b[0m in \u001b[0;36mdraw\u001b[0;34m(self, renderer)\u001b[0m\n\u001b[1;32m   3090\u001b[0m \u001b[0;34m\u001b[0m\u001b[0m\n\u001b[1;32m   3091\u001b[0m         mimage._draw_list_compositing_images(\n\u001b[0;32m-> 3092\u001b[0;31m             renderer, self, artists, self.figure.suppressComposite)\n\u001b[0m\u001b[1;32m   3093\u001b[0m \u001b[0;34m\u001b[0m\u001b[0m\n\u001b[1;32m   3094\u001b[0m         \u001b[0mrenderer\u001b[0m\u001b[0;34m.\u001b[0m\u001b[0mclose_group\u001b[0m\u001b[0;34m(\u001b[0m\u001b[0;34m'axes'\u001b[0m\u001b[0;34m)\u001b[0m\u001b[0;34m\u001b[0m\u001b[0;34m\u001b[0m\u001b[0m\n",
      "\u001b[0;32m/diskmnt/Projects/Users/estorrs/miniconda3/envs/squidpy/lib/python3.7/site-packages/matplotlib/image.py\u001b[0m in \u001b[0;36m_draw_list_compositing_images\u001b[0;34m(renderer, parent, artists, suppress_composite)\u001b[0m\n\u001b[1;32m    130\u001b[0m     \u001b[0;32mif\u001b[0m \u001b[0mnot_composite\u001b[0m \u001b[0;32mor\u001b[0m \u001b[0;32mnot\u001b[0m \u001b[0mhas_images\u001b[0m\u001b[0;34m:\u001b[0m\u001b[0;34m\u001b[0m\u001b[0;34m\u001b[0m\u001b[0m\n\u001b[1;32m    131\u001b[0m         \u001b[0;32mfor\u001b[0m \u001b[0ma\u001b[0m \u001b[0;32min\u001b[0m \u001b[0martists\u001b[0m\u001b[0;34m:\u001b[0m\u001b[0;34m\u001b[0m\u001b[0;34m\u001b[0m\u001b[0m\n\u001b[0;32m--> 132\u001b[0;31m             \u001b[0ma\u001b[0m\u001b[0;34m.\u001b[0m\u001b[0mdraw\u001b[0m\u001b[0;34m(\u001b[0m\u001b[0mrenderer\u001b[0m\u001b[0;34m)\u001b[0m\u001b[0;34m\u001b[0m\u001b[0;34m\u001b[0m\u001b[0m\n\u001b[0m\u001b[1;32m    133\u001b[0m     \u001b[0;32melse\u001b[0m\u001b[0;34m:\u001b[0m\u001b[0;34m\u001b[0m\u001b[0;34m\u001b[0m\u001b[0m\n\u001b[1;32m    134\u001b[0m         \u001b[0;31m# Composite any adjacent images together\u001b[0m\u001b[0;34m\u001b[0m\u001b[0;34m\u001b[0m\u001b[0;34m\u001b[0m\u001b[0m\n",
      "\u001b[0;32m/diskmnt/Projects/Users/estorrs/miniconda3/envs/squidpy/lib/python3.7/site-packages/matplotlib/artist.py\u001b[0m in \u001b[0;36mdraw_wrapper\u001b[0;34m(artist, renderer)\u001b[0m\n\u001b[1;32m     48\u001b[0m                 \u001b[0mrenderer\u001b[0m\u001b[0;34m.\u001b[0m\u001b[0mstart_filter\u001b[0m\u001b[0;34m(\u001b[0m\u001b[0;34m)\u001b[0m\u001b[0;34m\u001b[0m\u001b[0;34m\u001b[0m\u001b[0m\n\u001b[1;32m     49\u001b[0m \u001b[0;34m\u001b[0m\u001b[0m\n\u001b[0;32m---> 50\u001b[0;31m             \u001b[0;32mreturn\u001b[0m \u001b[0mdraw\u001b[0m\u001b[0;34m(\u001b[0m\u001b[0martist\u001b[0m\u001b[0;34m,\u001b[0m \u001b[0mrenderer\u001b[0m\u001b[0;34m)\u001b[0m\u001b[0;34m\u001b[0m\u001b[0;34m\u001b[0m\u001b[0m\n\u001b[0m\u001b[1;32m     51\u001b[0m         \u001b[0;32mfinally\u001b[0m\u001b[0;34m:\u001b[0m\u001b[0;34m\u001b[0m\u001b[0;34m\u001b[0m\u001b[0m\n\u001b[1;32m     52\u001b[0m             \u001b[0;32mif\u001b[0m \u001b[0martist\u001b[0m\u001b[0;34m.\u001b[0m\u001b[0mget_agg_filter\u001b[0m\u001b[0;34m(\u001b[0m\u001b[0;34m)\u001b[0m \u001b[0;32mis\u001b[0m \u001b[0;32mnot\u001b[0m \u001b[0;32mNone\u001b[0m\u001b[0;34m:\u001b[0m\u001b[0;34m\u001b[0m\u001b[0;34m\u001b[0m\u001b[0m\n",
      "\u001b[0;32m/diskmnt/Projects/Users/estorrs/miniconda3/envs/squidpy/lib/python3.7/site-packages/matplotlib/image.py\u001b[0m in \u001b[0;36mdraw\u001b[0;34m(self, renderer, *args, **kwargs)\u001b[0m\n\u001b[1;32m    645\u001b[0m         \u001b[0;32melse\u001b[0m\u001b[0;34m:\u001b[0m\u001b[0;34m\u001b[0m\u001b[0;34m\u001b[0m\u001b[0m\n\u001b[1;32m    646\u001b[0m             im, l, b, trans = self.make_image(\n\u001b[0;32m--> 647\u001b[0;31m                 renderer, renderer.get_image_magnification())\n\u001b[0m\u001b[1;32m    648\u001b[0m             \u001b[0;32mif\u001b[0m \u001b[0mim\u001b[0m \u001b[0;32mis\u001b[0m \u001b[0;32mnot\u001b[0m \u001b[0;32mNone\u001b[0m\u001b[0;34m:\u001b[0m\u001b[0;34m\u001b[0m\u001b[0;34m\u001b[0m\u001b[0m\n\u001b[1;32m    649\u001b[0m                 \u001b[0mrenderer\u001b[0m\u001b[0;34m.\u001b[0m\u001b[0mdraw_image\u001b[0m\u001b[0;34m(\u001b[0m\u001b[0mgc\u001b[0m\u001b[0;34m,\u001b[0m \u001b[0ml\u001b[0m\u001b[0;34m,\u001b[0m \u001b[0mb\u001b[0m\u001b[0;34m,\u001b[0m \u001b[0mim\u001b[0m\u001b[0;34m)\u001b[0m\u001b[0;34m\u001b[0m\u001b[0;34m\u001b[0m\u001b[0m\n",
      "\u001b[0;32m/diskmnt/Projects/Users/estorrs/miniconda3/envs/squidpy/lib/python3.7/site-packages/matplotlib/image.py\u001b[0m in \u001b[0;36mmake_image\u001b[0;34m(self, renderer, magnification, unsampled)\u001b[0m\n\u001b[1;32m    955\u001b[0m                 else self.figure.bbox)\n\u001b[1;32m    956\u001b[0m         return self._make_image(self._A, bbox, transformed_bbox, clip,\n\u001b[0;32m--> 957\u001b[0;31m                                 magnification, unsampled=unsampled)\n\u001b[0m\u001b[1;32m    958\u001b[0m \u001b[0;34m\u001b[0m\u001b[0m\n\u001b[1;32m    959\u001b[0m     \u001b[0;32mdef\u001b[0m \u001b[0m_check_unsampled_image\u001b[0m\u001b[0;34m(\u001b[0m\u001b[0mself\u001b[0m\u001b[0;34m)\u001b[0m\u001b[0;34m:\u001b[0m\u001b[0;34m\u001b[0m\u001b[0;34m\u001b[0m\u001b[0m\n",
      "\u001b[0;32m/diskmnt/Projects/Users/estorrs/miniconda3/envs/squidpy/lib/python3.7/site-packages/matplotlib/image.py\u001b[0m in \u001b[0;36m_make_image\u001b[0;34m(self, A, in_bbox, out_bbox, clip_bbox, magnification, unsampled, round_to_pixel_border)\u001b[0m\n\u001b[1;32m    551\u001b[0m                     \u001b[0mA\u001b[0m \u001b[0;34m=\u001b[0m \u001b[0mself\u001b[0m\u001b[0;34m.\u001b[0m\u001b[0mto_rgba\u001b[0m\u001b[0;34m(\u001b[0m\u001b[0mA\u001b[0m\u001b[0;34m)\u001b[0m\u001b[0;34m\u001b[0m\u001b[0;34m\u001b[0m\u001b[0m\n\u001b[1;32m    552\u001b[0m                 \u001b[0;32mif\u001b[0m \u001b[0mA\u001b[0m\u001b[0;34m.\u001b[0m\u001b[0mshape\u001b[0m\u001b[0;34m[\u001b[0m\u001b[0;36m2\u001b[0m\u001b[0;34m]\u001b[0m \u001b[0;34m==\u001b[0m \u001b[0;36m3\u001b[0m\u001b[0;34m:\u001b[0m\u001b[0;34m\u001b[0m\u001b[0;34m\u001b[0m\u001b[0m\n\u001b[0;32m--> 553\u001b[0;31m                     \u001b[0mA\u001b[0m \u001b[0;34m=\u001b[0m \u001b[0m_rgb_to_rgba\u001b[0m\u001b[0;34m(\u001b[0m\u001b[0mA\u001b[0m\u001b[0;34m)\u001b[0m\u001b[0;34m\u001b[0m\u001b[0;34m\u001b[0m\u001b[0m\n\u001b[0m\u001b[1;32m    554\u001b[0m                 \u001b[0malpha\u001b[0m \u001b[0;34m=\u001b[0m \u001b[0mself\u001b[0m\u001b[0;34m.\u001b[0m\u001b[0m_get_scalar_alpha\u001b[0m\u001b[0;34m(\u001b[0m\u001b[0;34m)\u001b[0m\u001b[0;34m\u001b[0m\u001b[0;34m\u001b[0m\u001b[0m\n\u001b[1;32m    555\u001b[0m                 output_alpha = _resample(  # resample alpha channel\n",
      "\u001b[0;32m/diskmnt/Projects/Users/estorrs/miniconda3/envs/squidpy/lib/python3.7/site-packages/matplotlib/image.py\u001b[0m in \u001b[0;36m_rgb_to_rgba\u001b[0;34m(A)\u001b[0m\n\u001b[1;32m    206\u001b[0m     \"\"\"\n\u001b[1;32m    207\u001b[0m     \u001b[0mrgba\u001b[0m \u001b[0;34m=\u001b[0m \u001b[0mnp\u001b[0m\u001b[0;34m.\u001b[0m\u001b[0mzeros\u001b[0m\u001b[0;34m(\u001b[0m\u001b[0;34m(\u001b[0m\u001b[0mA\u001b[0m\u001b[0;34m.\u001b[0m\u001b[0mshape\u001b[0m\u001b[0;34m[\u001b[0m\u001b[0;36m0\u001b[0m\u001b[0;34m]\u001b[0m\u001b[0;34m,\u001b[0m \u001b[0mA\u001b[0m\u001b[0;34m.\u001b[0m\u001b[0mshape\u001b[0m\u001b[0;34m[\u001b[0m\u001b[0;36m1\u001b[0m\u001b[0;34m]\u001b[0m\u001b[0;34m,\u001b[0m \u001b[0;36m4\u001b[0m\u001b[0;34m)\u001b[0m\u001b[0;34m,\u001b[0m \u001b[0mdtype\u001b[0m\u001b[0;34m=\u001b[0m\u001b[0mA\u001b[0m\u001b[0;34m.\u001b[0m\u001b[0mdtype\u001b[0m\u001b[0;34m)\u001b[0m\u001b[0;34m\u001b[0m\u001b[0;34m\u001b[0m\u001b[0m\n\u001b[0;32m--> 208\u001b[0;31m     \u001b[0mrgba\u001b[0m\u001b[0;34m[\u001b[0m\u001b[0;34m:\u001b[0m\u001b[0;34m,\u001b[0m \u001b[0;34m:\u001b[0m\u001b[0;34m,\u001b[0m \u001b[0;34m:\u001b[0m\u001b[0;36m3\u001b[0m\u001b[0;34m]\u001b[0m \u001b[0;34m=\u001b[0m \u001b[0mA\u001b[0m\u001b[0;34m\u001b[0m\u001b[0;34m\u001b[0m\u001b[0m\n\u001b[0m\u001b[1;32m    209\u001b[0m     \u001b[0;32mif\u001b[0m \u001b[0mrgba\u001b[0m\u001b[0;34m.\u001b[0m\u001b[0mdtype\u001b[0m \u001b[0;34m==\u001b[0m \u001b[0mnp\u001b[0m\u001b[0;34m.\u001b[0m\u001b[0muint8\u001b[0m\u001b[0;34m:\u001b[0m\u001b[0;34m\u001b[0m\u001b[0;34m\u001b[0m\u001b[0m\n\u001b[1;32m    210\u001b[0m         \u001b[0mrgba\u001b[0m\u001b[0;34m[\u001b[0m\u001b[0;34m:\u001b[0m\u001b[0;34m,\u001b[0m \u001b[0;34m:\u001b[0m\u001b[0;34m,\u001b[0m \u001b[0;36m3\u001b[0m\u001b[0;34m]\u001b[0m \u001b[0;34m=\u001b[0m \u001b[0;36m255\u001b[0m\u001b[0;34m\u001b[0m\u001b[0;34m\u001b[0m\u001b[0m\n",
      "\u001b[0;31mKeyboardInterrupt\u001b[0m: "
     ]
    }
   ],
   "source": [
    "fig, axs = plt.subplots(nrows=nrows if nrows > 1 else 2, ncols=ncols, figsize=(4 * ncols, 4 * nrows))\n",
    "stack = list(sample_to_thumbnails.items())\n",
    "for i in range(nrows):\n",
    "    for j in range(ncols):\n",
    "        ax = axs[i, j]\n",
    "        \n",
    "        if len(stack):\n",
    "            s, thumbnails = stack.pop(0)\n",
    "            labeled = thumbnails['pseudo']['fullres']\n",
    "            ax.imshow(labeled)\n",
    "            ax.set_title(s)\n",
    "        ax.axis('off')"
   ]
  },
  {
   "cell_type": "code",
   "execution_count": null,
   "id": "79a64759",
   "metadata": {
    "hidden": true
   },
   "outputs": [],
   "source": [
    "fig, axs = plt.subplots(nrows=nrows if nrows > 1 else 2, ncols=ncols, figsize=(4 * ncols, 4 * nrows))\n",
    "stack = list(sample_to_thumbnails.items())\n",
    "for i in range(nrows):\n",
    "    for j in range(ncols):\n",
    "        ax = axs[i, j]\n",
    "        \n",
    "        if len(stack):\n",
    "            s, thumbnails = stack.pop(0)\n",
    "            labeled = thumbnails['pseudo']['thumbnail']\n",
    "            ax.imshow(labeled)\n",
    "            ax.set_title(s)\n",
    "        ax.axis('off')"
   ]
  },
  {
   "cell_type": "code",
   "execution_count": 249,
   "id": "b24baf3d",
   "metadata": {
    "hidden": true
   },
   "outputs": [
    {
     "data": {
      "image/png": "[encoded data removed]",
      "text/plain": [
       "<Figure size 1728x288 with 12 Axes>"
      ]
     },
     "metadata": {
      "needs_background": "light"
     },
     "output_type": "display_data"
    }
   ],
   "source": [
    "fig, axs = plt.subplots(nrows=nrows if nrows > 1 else 2, ncols=ncols, figsize=(4 * ncols, 4 * nrows))\n",
    "stack = list(sample_to_thumbnails.items())\n",
    "for i in range(nrows):\n",
    "    for j in range(ncols):\n",
    "        ax = axs[i, j]\n",
    "        \n",
    "        if len(stack):\n",
    "            s, thumbnails = stack.pop(0)\n",
    "            labeled = thumbnails['mask']['region']\n",
    "            ax.imshow(labeled)\n",
    "            ax.set_title(s)\n",
    "        ax.axis('off')"
   ]
  },
  {
   "cell_type": "code",
   "execution_count": 293,
   "id": "4c1a49b0",
   "metadata": {
    "hidden": true
   },
   "outputs": [],
   "source": [
    "def display_legend(cmap, n=50):\n",
    "    fig, axs = plt.subplots(nrows=1, ncols=len(cmap))\n",
    "    for i, (name, c) in enumerate(cmap.items()):\n",
    "        ax = axs[i]\n",
    "        rect = np.zeros((n, n, 3), dtype=np.float32)\n",
    "        print(c)\n",
    "        rect[:, :] = c\n",
    "        ax.imshow(rect)\n",
    "        ax.set_title(name)\n",
    "        ax.set_xticks([])\n",
    "        ax.set_yticks([])\n",
    "        \n",
    "def get_display_image(s, labeled, region_to_bbox, vmax=None,\n",
    "                      color='region_grid_metrics_SMA_integrity', cmap='viridis', df=None):\n",
    "    if df is None:\n",
    "        df = combined\n",
    "\n",
    "    f = df[df['sample']==s]\n",
    "    f.index = [x.split('_')[-1] for x in f.index]\n",
    "    rbbox = {reg.split('_')[-1]:tup for reg, tup in region_to_bbox.items() if s in reg}\n",
    "    region_to_val = {reg:v\n",
    "                     for reg, v in zip(f.index, f[color])}\n",
    "    if region_to_val:\n",
    "        rgba = utils.display_region(labeled, region_to_val, rbbox, cmap=cmap, vmax=vmax)\n",
    "    else:\n",
    "        rgba = np.ones((labeled.shape[0], labeled.shape[1], 4))\n",
    "    return rgba\n",
    "        \n",
    "def show_regions(df, feat, cmap=None, vmax=None):\n",
    "    fig, axs = plt.subplots(nrows=nrows if nrows > 1 else 2, ncols=ncols, figsize=(4 * ncols, 4 * nrows))\n",
    "    stack = list(sample_to_thumbnails.items())\n",
    "    for i in range(nrows):\n",
    "        for j in range(ncols):\n",
    "            ax = axs[i, j]\n",
    "            if len(stack):\n",
    "                s, thumbnails = stack.pop(0)\n",
    "                labeled = thumbnails['labeled']['region']\n",
    "\n",
    "                img = get_display_image(s, labeled, region_to_bbox_thumbnail, color=feat, df=df, cmap=cmap)\n",
    "                ax.imshow(img)\n",
    "                ax.set_title(s)\n",
    "            ax.axis('off') \n",
    "    \n"
   ]
  },
  {
   "cell_type": "code",
   "execution_count": 294,
   "id": "1bda34e6",
   "metadata": {
    "hidden": true
   },
   "outputs": [
    {
     "data": {
      "image/png": "[encoded data removed]",
      "text/plain": [
       "<Figure size 1728x288 with 12 Axes>"
      ]
     },
     "metadata": {
      "needs_background": "light"
     },
     "output_type": "display_data"
    }
   ],
   "source": [
    "show_regions(combined, 'area')"
   ]
  },
  {
   "cell_type": "code",
   "execution_count": 296,
   "id": "ac4bb4c0",
   "metadata": {
    "hidden": true
   },
   "outputs": [
    {
     "data": {
      "image/png": "[encoded data removed]",
      "text/plain": [
       "<Figure size 1728x288 with 12 Axes>"
      ]
     },
     "metadata": {
      "needs_background": "light"
     },
     "output_type": "display_data"
    }
   ],
   "source": [
    "show_regions(combined, 'cell_type_fraction_CD8 T cell')"
   ]
  },
  {
   "cell_type": "code",
   "execution_count": null,
   "id": "ed2823e3",
   "metadata": {
    "hidden": true
   },
   "outputs": [],
   "source": []
  },
  {
   "cell_type": "code",
   "execution_count": null,
   "id": "4410e06f",
   "metadata": {
    "hidden": true
   },
   "outputs": [],
   "source": []
  },
  {
   "cell_type": "code",
   "execution_count": null,
   "id": "14dc5b19",
   "metadata": {
    "hidden": true
   },
   "outputs": [],
   "source": []
  },
  {
   "cell_type": "code",
   "execution_count": null,
   "id": "85a5cbbb",
   "metadata": {
    "hidden": true
   },
   "outputs": [],
   "source": []
  },
  {
   "cell_type": "code",
   "execution_count": null,
   "id": "77b0c501",
   "metadata": {
    "hidden": true
   },
   "outputs": [],
   "source": []
  },
  {
   "cell_type": "code",
   "execution_count": 295,
   "id": "96b19e17",
   "metadata": {
    "hidden": true
   },
   "outputs": [
    {
     "data": {
      "text/plain": [
       "['r1',\n",
       " 'c1',\n",
       " 'r2',\n",
       " 'c2',\n",
       " 'area',\n",
       " 'perimeter',\n",
       " 'row',\n",
       " 'col',\n",
       " 'compactness',\n",
       " 'cell_type_fraction_B cell',\n",
       " 'cell_type_fraction_CD8 T cell',\n",
       " 'cell_type_fraction_Epithelial',\n",
       " 'cell_type_fraction_Immune',\n",
       " 'cell_type_fraction_Macrophage - M1',\n",
       " 'cell_type_fraction_Stroma',\n",
       " 'cell_type_fraction_Unlabeled',\n",
       " 'marker_intensity_CD138',\n",
       " 'marker_intensity_CD163',\n",
       " 'marker_intensity_CD20',\n",
       " 'marker_intensity_CD36',\n",
       " 'marker_intensity_CD3e',\n",
       " 'marker_intensity_CD4',\n",
       " 'marker_intensity_CD68',\n",
       " 'marker_intensity_CD8',\n",
       " 'marker_intensity_CK14',\n",
       " 'marker_intensity_CK17',\n",
       " 'marker_intensity_CK19',\n",
       " 'marker_intensity_DAPI',\n",
       " 'marker_intensity_ER',\n",
       " 'marker_intensity_GATA3',\n",
       " 'marker_intensity_GLUT1',\n",
       " 'marker_intensity_HLA-DR',\n",
       " 'marker_intensity_Ki67',\n",
       " 'marker_intensity_MGP',\n",
       " 'marker_intensity_P16',\n",
       " 'marker_intensity_P21',\n",
       " 'marker_intensity_PR',\n",
       " 'marker_intensity_Pan-Cytokeratin',\n",
       " 'marker_intensity_Podoplanin',\n",
       " 'marker_intensity_SMA',\n",
       " 'marker_intensity_Vimentin',\n",
       " 'marker_intensity_cKit',\n",
       " 'marker_fraction_CD163',\n",
       " 'marker_fraction_CD20',\n",
       " 'marker_fraction_CD3e',\n",
       " 'marker_fraction_CD8',\n",
       " 'marker_fraction_CK17',\n",
       " 'marker_fraction_Pan-Cytokeratin',\n",
       " 'marker_fraction_Podoplanin',\n",
       " 'marker_fraction_SMA',\n",
       " 'sample',\n",
       " 'cell_type_fraction_CD4 T cell',\n",
       " 'cell_type_fraction_Endothelial',\n",
       " 'marker_intensity_BCA1',\n",
       " 'marker_intensity_Bap1',\n",
       " 'marker_intensity_CD11b',\n",
       " 'marker_intensity_CD31',\n",
       " 'marker_intensity_CD45',\n",
       " 'marker_intensity_CK5',\n",
       " 'marker_intensity_COX6c',\n",
       " 'marker_intensity_CTLA4',\n",
       " 'marker_intensity_E-cadherin',\n",
       " 'marker_intensity_GATA3 (D)',\n",
       " 'marker_intensity_Her2',\n",
       " 'marker_intensity_PLAT/tPA',\n",
       " 'marker_intensity_SLC39A6',\n",
       " 'marker_intensity_TFF1',\n",
       " 'marker_fraction_CD31',\n",
       " 'marker_fraction_CD4',\n",
       " 'marker_fraction_CK14',\n",
       " 'marker_fraction_CK5']"
      ]
     },
     "execution_count": 295,
     "metadata": {},
     "output_type": "execute_result"
    }
   ],
   "source": [
    "list(combined.columns)"
   ]
  },
  {
   "cell_type": "code",
   "execution_count": null,
   "id": "f96d62a0",
   "metadata": {
    "hidden": true
   },
   "outputs": [],
   "source": []
  },
  {
   "cell_type": "code",
   "execution_count": 178,
   "id": "672ea340",
   "metadata": {
    "hidden": true
   },
   "outputs": [],
   "source": [
    "labeled_dict, mask_dict = get_morphology_masks(labeled)"
   ]
  },
  {
   "cell_type": "code",
   "execution_count": 179,
   "id": "3b13418b",
   "metadata": {
    "hidden": true,
    "scrolled": true
   },
   "outputs": [
    {
     "data": {
      "text/html": [
       "<div>\n",
       "<style scoped>\n",
       "    .dataframe tbody tr th:only-of-type {\n",
       "        vertical-align: middle;\n",
       "    }\n",
       "\n",
       "    .dataframe tbody tr th {\n",
       "        vertical-align: top;\n",
       "    }\n",
       "\n",
       "    .dataframe thead th {\n",
       "        text-align: right;\n",
       "    }\n",
       "</style>\n",
       "<table border=\"1\" class=\"dataframe\">\n",
       "  <thead>\n",
       "    <tr style=\"text-align: right;\">\n",
       "      <th></th>\n",
       "      <th>r1</th>\n",
       "      <th>c1</th>\n",
       "      <th>r2</th>\n",
       "      <th>c2</th>\n",
       "      <th>area</th>\n",
       "      <th>perimeter</th>\n",
       "      <th>row</th>\n",
       "      <th>col</th>\n",
       "      <th>compactness</th>\n",
       "    </tr>\n",
       "    <tr>\n",
       "      <th>label</th>\n",
       "      <th></th>\n",
       "      <th></th>\n",
       "      <th></th>\n",
       "      <th></th>\n",
       "      <th></th>\n",
       "      <th></th>\n",
       "      <th></th>\n",
       "      <th></th>\n",
       "      <th></th>\n",
       "    </tr>\n",
       "  </thead>\n",
       "  <tbody>\n",
       "    <tr>\n",
       "      <th>1</th>\n",
       "      <td>13113</td>\n",
       "      <td>4569</td>\n",
       "      <td>13332</td>\n",
       "      <td>4678</td>\n",
       "      <td>15584</td>\n",
       "      <td>579.747258</td>\n",
       "      <td>13219.493134</td>\n",
       "      <td>4626.169725</td>\n",
       "      <td>0.582655</td>\n",
       "    </tr>\n",
       "    <tr>\n",
       "      <th>2</th>\n",
       "      <td>15628</td>\n",
       "      <td>5316</td>\n",
       "      <td>16169</td>\n",
       "      <td>5801</td>\n",
       "      <td>124527</td>\n",
       "      <td>2105.349422</td>\n",
       "      <td>15907.752656</td>\n",
       "      <td>5536.435737</td>\n",
       "      <td>0.353041</td>\n",
       "    </tr>\n",
       "    <tr>\n",
       "      <th>3</th>\n",
       "      <td>15648</td>\n",
       "      <td>6320</td>\n",
       "      <td>16080</td>\n",
       "      <td>6584</td>\n",
       "      <td>53376</td>\n",
       "      <td>1587.359523</td>\n",
       "      <td>15903.167697</td>\n",
       "      <td>6448.601038</td>\n",
       "      <td>0.266198</td>\n",
       "    </tr>\n",
       "    <tr>\n",
       "      <th>4</th>\n",
       "      <td>15910</td>\n",
       "      <td>5989</td>\n",
       "      <td>16143</td>\n",
       "      <td>6171</td>\n",
       "      <td>27860</td>\n",
       "      <td>911.327994</td>\n",
       "      <td>16024.476741</td>\n",
       "      <td>6075.884530</td>\n",
       "      <td>0.421543</td>\n",
       "    </tr>\n",
       "    <tr>\n",
       "      <th>5</th>\n",
       "      <td>15929</td>\n",
       "      <td>4968</td>\n",
       "      <td>16133</td>\n",
       "      <td>5059</td>\n",
       "      <td>11164</td>\n",
       "      <td>622.232539</td>\n",
       "      <td>16035.594411</td>\n",
       "      <td>5015.137854</td>\n",
       "      <td>0.362347</td>\n",
       "    </tr>\n",
       "    <tr>\n",
       "      <th>...</th>\n",
       "      <td>...</td>\n",
       "      <td>...</td>\n",
       "      <td>...</td>\n",
       "      <td>...</td>\n",
       "      <td>...</td>\n",
       "      <td>...</td>\n",
       "      <td>...</td>\n",
       "      <td>...</td>\n",
       "      <td>...</td>\n",
       "    </tr>\n",
       "    <tr>\n",
       "      <th>320</th>\n",
       "      <td>25056</td>\n",
       "      <td>13465</td>\n",
       "      <td>25218</td>\n",
       "      <td>13624</td>\n",
       "      <td>14792</td>\n",
       "      <td>553.102597</td>\n",
       "      <td>25145.204705</td>\n",
       "      <td>13541.869389</td>\n",
       "      <td>0.607611</td>\n",
       "    </tr>\n",
       "    <tr>\n",
       "      <th>321</th>\n",
       "      <td>25087</td>\n",
       "      <td>13223</td>\n",
       "      <td>25259</td>\n",
       "      <td>13426</td>\n",
       "      <td>20475</td>\n",
       "      <td>982.416306</td>\n",
       "      <td>25164.640147</td>\n",
       "      <td>13322.169817</td>\n",
       "      <td>0.266589</td>\n",
       "    </tr>\n",
       "    <tr>\n",
       "      <th>322</th>\n",
       "      <td>25147</td>\n",
       "      <td>13664</td>\n",
       "      <td>25343</td>\n",
       "      <td>13881</td>\n",
       "      <td>21915</td>\n",
       "      <td>853.872150</td>\n",
       "      <td>25245.763222</td>\n",
       "      <td>13756.266073</td>\n",
       "      <td>0.377716</td>\n",
       "    </tr>\n",
       "    <tr>\n",
       "      <th>323</th>\n",
       "      <td>25176</td>\n",
       "      <td>13844</td>\n",
       "      <td>25274</td>\n",
       "      <td>14106</td>\n",
       "      <td>16487</td>\n",
       "      <td>766.232539</td>\n",
       "      <td>25225.541578</td>\n",
       "      <td>13976.111603</td>\n",
       "      <td>0.352883</td>\n",
       "    </tr>\n",
       "    <tr>\n",
       "      <th>324</th>\n",
       "      <td>25394</td>\n",
       "      <td>13359</td>\n",
       "      <td>25586</td>\n",
       "      <td>13712</td>\n",
       "      <td>28129</td>\n",
       "      <td>1104.256926</td>\n",
       "      <td>25483.588965</td>\n",
       "      <td>13561.195777</td>\n",
       "      <td>0.289884</td>\n",
       "    </tr>\n",
       "  </tbody>\n",
       "</table>\n",
       "<p>324 rows × 9 columns</p>\n",
       "</div>"
      ],
      "text/plain": [
       "          r1     c1     r2     c2    area    perimeter           row  \\\n",
       "label                                                                  \n",
       "1      13113   4569  13332   4678   15584   579.747258  13219.493134   \n",
       "2      15628   5316  16169   5801  124527  2105.349422  15907.752656   \n",
       "3      15648   6320  16080   6584   53376  1587.359523  15903.167697   \n",
       "4      15910   5989  16143   6171   27860   911.327994  16024.476741   \n",
       "5      15929   4968  16133   5059   11164   622.232539  16035.594411   \n",
       "...      ...    ...    ...    ...     ...          ...           ...   \n",
       "320    25056  13465  25218  13624   14792   553.102597  25145.204705   \n",
       "321    25087  13223  25259  13426   20475   982.416306  25164.640147   \n",
       "322    25147  13664  25343  13881   21915   853.872150  25245.763222   \n",
       "323    25176  13844  25274  14106   16487   766.232539  25225.541578   \n",
       "324    25394  13359  25586  13712   28129  1104.256926  25483.588965   \n",
       "\n",
       "                col  compactness  \n",
       "label                             \n",
       "1       4626.169725     0.582655  \n",
       "2       5536.435737     0.353041  \n",
       "3       6448.601038     0.266198  \n",
       "4       6075.884530     0.421543  \n",
       "5       5015.137854     0.362347  \n",
       "...             ...          ...  \n",
       "320    13541.869389     0.607611  \n",
       "321    13322.169817     0.266589  \n",
       "322    13756.266073     0.377716  \n",
       "323    13976.111603     0.352883  \n",
       "324    13561.195777     0.289884  \n",
       "\n",
       "[324 rows x 9 columns]"
      ]
     },
     "execution_count": 179,
     "metadata": {},
     "output_type": "execute_result"
    }
   ],
   "source": [
    "df_meta = get_regionprops_df(labeled_dict['region'])\n",
    "df_meta"
   ]
  },
  {
   "cell_type": "code",
   "execution_count": 186,
   "id": "c19cbc6a",
   "metadata": {
    "hidden": true
   },
   "outputs": [
    {
     "data": {
      "text/html": [
       "<div>\n",
       "<style scoped>\n",
       "    .dataframe tbody tr th:only-of-type {\n",
       "        vertical-align: middle;\n",
       "    }\n",
       "\n",
       "    .dataframe tbody tr th {\n",
       "        vertical-align: top;\n",
       "    }\n",
       "\n",
       "    .dataframe thead th {\n",
       "        text-align: right;\n",
       "    }\n",
       "</style>\n",
       "<table border=\"1\" class=\"dataframe\">\n",
       "  <thead>\n",
       "    <tr style=\"text-align: right;\">\n",
       "      <th></th>\n",
       "      <th>cell_type_fraction_B cell</th>\n",
       "      <th>cell_type_fraction_CD8 T cell</th>\n",
       "      <th>cell_type_fraction_Epithelial</th>\n",
       "      <th>cell_type_fraction_Immune</th>\n",
       "      <th>cell_type_fraction_Macrophage - M1</th>\n",
       "      <th>cell_type_fraction_Stroma</th>\n",
       "      <th>cell_type_fraction_Unlabeled</th>\n",
       "    </tr>\n",
       "  </thead>\n",
       "  <tbody>\n",
       "    <tr>\n",
       "      <th>1</th>\n",
       "      <td>0.000000</td>\n",
       "      <td>0.000000</td>\n",
       "      <td>1.000000</td>\n",
       "      <td>0.000000</td>\n",
       "      <td>0.0</td>\n",
       "      <td>0.000000</td>\n",
       "      <td>0.000000</td>\n",
       "    </tr>\n",
       "    <tr>\n",
       "      <th>2</th>\n",
       "      <td>0.000000</td>\n",
       "      <td>0.007194</td>\n",
       "      <td>0.971223</td>\n",
       "      <td>0.007194</td>\n",
       "      <td>0.0</td>\n",
       "      <td>0.000000</td>\n",
       "      <td>0.014388</td>\n",
       "    </tr>\n",
       "    <tr>\n",
       "      <th>3</th>\n",
       "      <td>0.000000</td>\n",
       "      <td>0.000000</td>\n",
       "      <td>0.988095</td>\n",
       "      <td>0.000000</td>\n",
       "      <td>0.0</td>\n",
       "      <td>0.000000</td>\n",
       "      <td>0.011905</td>\n",
       "    </tr>\n",
       "    <tr>\n",
       "      <th>4</th>\n",
       "      <td>0.000000</td>\n",
       "      <td>0.000000</td>\n",
       "      <td>0.960784</td>\n",
       "      <td>0.000000</td>\n",
       "      <td>0.0</td>\n",
       "      <td>0.039216</td>\n",
       "      <td>0.000000</td>\n",
       "    </tr>\n",
       "    <tr>\n",
       "      <th>5</th>\n",
       "      <td>0.000000</td>\n",
       "      <td>0.000000</td>\n",
       "      <td>1.000000</td>\n",
       "      <td>0.000000</td>\n",
       "      <td>0.0</td>\n",
       "      <td>0.000000</td>\n",
       "      <td>0.000000</td>\n",
       "    </tr>\n",
       "    <tr>\n",
       "      <th>...</th>\n",
       "      <td>...</td>\n",
       "      <td>...</td>\n",
       "      <td>...</td>\n",
       "      <td>...</td>\n",
       "      <td>...</td>\n",
       "      <td>...</td>\n",
       "      <td>...</td>\n",
       "    </tr>\n",
       "    <tr>\n",
       "      <th>320</th>\n",
       "      <td>0.000000</td>\n",
       "      <td>0.000000</td>\n",
       "      <td>0.972222</td>\n",
       "      <td>0.000000</td>\n",
       "      <td>0.0</td>\n",
       "      <td>0.000000</td>\n",
       "      <td>0.027778</td>\n",
       "    </tr>\n",
       "    <tr>\n",
       "      <th>321</th>\n",
       "      <td>0.034483</td>\n",
       "      <td>0.000000</td>\n",
       "      <td>0.862069</td>\n",
       "      <td>0.000000</td>\n",
       "      <td>0.0</td>\n",
       "      <td>0.034483</td>\n",
       "      <td>0.068966</td>\n",
       "    </tr>\n",
       "    <tr>\n",
       "      <th>322</th>\n",
       "      <td>0.000000</td>\n",
       "      <td>0.071429</td>\n",
       "      <td>0.880952</td>\n",
       "      <td>0.000000</td>\n",
       "      <td>0.0</td>\n",
       "      <td>0.000000</td>\n",
       "      <td>0.047619</td>\n",
       "    </tr>\n",
       "    <tr>\n",
       "      <th>323</th>\n",
       "      <td>0.000000</td>\n",
       "      <td>0.048780</td>\n",
       "      <td>0.853659</td>\n",
       "      <td>0.024390</td>\n",
       "      <td>0.0</td>\n",
       "      <td>0.000000</td>\n",
       "      <td>0.073171</td>\n",
       "    </tr>\n",
       "    <tr>\n",
       "      <th>324</th>\n",
       "      <td>0.000000</td>\n",
       "      <td>0.000000</td>\n",
       "      <td>0.821429</td>\n",
       "      <td>0.000000</td>\n",
       "      <td>0.0</td>\n",
       "      <td>0.125000</td>\n",
       "      <td>0.053571</td>\n",
       "    </tr>\n",
       "  </tbody>\n",
       "</table>\n",
       "<p>324 rows × 7 columns</p>\n",
       "</div>"
      ],
      "text/plain": [
       "     cell_type_fraction_B cell  cell_type_fraction_CD8 T cell  \\\n",
       "1                     0.000000                       0.000000   \n",
       "2                     0.000000                       0.007194   \n",
       "3                     0.000000                       0.000000   \n",
       "4                     0.000000                       0.000000   \n",
       "5                     0.000000                       0.000000   \n",
       "..                         ...                            ...   \n",
       "320                   0.000000                       0.000000   \n",
       "321                   0.034483                       0.000000   \n",
       "322                   0.000000                       0.071429   \n",
       "323                   0.000000                       0.048780   \n",
       "324                   0.000000                       0.000000   \n",
       "\n",
       "     cell_type_fraction_Epithelial  cell_type_fraction_Immune  \\\n",
       "1                         1.000000                   0.000000   \n",
       "2                         0.971223                   0.007194   \n",
       "3                         0.988095                   0.000000   \n",
       "4                         0.960784                   0.000000   \n",
       "5                         1.000000                   0.000000   \n",
       "..                             ...                        ...   \n",
       "320                       0.972222                   0.000000   \n",
       "321                       0.862069                   0.000000   \n",
       "322                       0.880952                   0.000000   \n",
       "323                       0.853659                   0.024390   \n",
       "324                       0.821429                   0.000000   \n",
       "\n",
       "     cell_type_fraction_Macrophage - M1  cell_type_fraction_Stroma  \\\n",
       "1                                   0.0                   0.000000   \n",
       "2                                   0.0                   0.000000   \n",
       "3                                   0.0                   0.000000   \n",
       "4                                   0.0                   0.039216   \n",
       "5                                   0.0                   0.000000   \n",
       "..                                  ...                        ...   \n",
       "320                                 0.0                   0.000000   \n",
       "321                                 0.0                   0.034483   \n",
       "322                                 0.0                   0.000000   \n",
       "323                                 0.0                   0.000000   \n",
       "324                                 0.0                   0.125000   \n",
       "\n",
       "     cell_type_fraction_Unlabeled  \n",
       "1                        0.000000  \n",
       "2                        0.014388  \n",
       "3                        0.011905  \n",
       "4                        0.000000  \n",
       "5                        0.000000  \n",
       "..                            ...  \n",
       "320                      0.027778  \n",
       "321                      0.068966  \n",
       "322                      0.047619  \n",
       "323                      0.073171  \n",
       "324                      0.053571  \n",
       "\n",
       "[324 rows x 7 columns]"
      ]
     },
     "execution_count": 186,
     "metadata": {},
     "output_type": "execute_result"
    }
   ],
   "source": [
    "df_fracs = calculate_annotation_fractions(a, labeled_dict['region'], 'cell_type')\n",
    "df_fracs.columns = [f'cell_type_fraction_{c}' for c in df_fracs.columns]\n",
    "df_fracs"
   ]
  },
  {
   "cell_type": "code",
   "execution_count": 181,
   "id": "c2c3c018",
   "metadata": {
    "hidden": true
   },
   "outputs": [
    {
     "data": {
      "text/html": [
       "<div>\n",
       "<style scoped>\n",
       "    .dataframe tbody tr th:only-of-type {\n",
       "        vertical-align: middle;\n",
       "    }\n",
       "\n",
       "    .dataframe tbody tr th {\n",
       "        vertical-align: top;\n",
       "    }\n",
       "\n",
       "    .dataframe thead th {\n",
       "        text-align: right;\n",
       "    }\n",
       "</style>\n",
       "<table border=\"1\" class=\"dataframe\">\n",
       "  <thead>\n",
       "    <tr style=\"text-align: right;\">\n",
       "      <th></th>\n",
       "      <th>marker_intensity_CD138</th>\n",
       "      <th>marker_intensity_CD163</th>\n",
       "      <th>marker_intensity_CD20</th>\n",
       "      <th>marker_intensity_CD36</th>\n",
       "      <th>marker_intensity_CD3e</th>\n",
       "      <th>marker_intensity_CD4</th>\n",
       "      <th>marker_intensity_CD68</th>\n",
       "      <th>marker_intensity_CD8</th>\n",
       "      <th>marker_intensity_CK14</th>\n",
       "      <th>marker_intensity_CK17</th>\n",
       "      <th>...</th>\n",
       "      <th>marker_intensity_Ki67</th>\n",
       "      <th>marker_intensity_MGP</th>\n",
       "      <th>marker_intensity_P16</th>\n",
       "      <th>marker_intensity_P21</th>\n",
       "      <th>marker_intensity_PR</th>\n",
       "      <th>marker_intensity_Pan-Cytokeratin</th>\n",
       "      <th>marker_intensity_Podoplanin</th>\n",
       "      <th>marker_intensity_SMA</th>\n",
       "      <th>marker_intensity_Vimentin</th>\n",
       "      <th>marker_intensity_cKit</th>\n",
       "    </tr>\n",
       "  </thead>\n",
       "  <tbody>\n",
       "    <tr>\n",
       "      <th>1</th>\n",
       "      <td>2.953542</td>\n",
       "      <td>1.060639</td>\n",
       "      <td>0.288180</td>\n",
       "      <td>0.859150</td>\n",
       "      <td>2.400732</td>\n",
       "      <td>0.646240</td>\n",
       "      <td>1.500898</td>\n",
       "      <td>0.636935</td>\n",
       "      <td>1.690259</td>\n",
       "      <td>2.618391</td>\n",
       "      <td>...</td>\n",
       "      <td>1.521946</td>\n",
       "      <td>5.600231</td>\n",
       "      <td>0.061602</td>\n",
       "      <td>0.093429</td>\n",
       "      <td>1.366979</td>\n",
       "      <td>127.281763</td>\n",
       "      <td>1.561858</td>\n",
       "      <td>0.483958</td>\n",
       "      <td>2.219520</td>\n",
       "      <td>1.924538</td>\n",
       "    </tr>\n",
       "    <tr>\n",
       "      <th>2</th>\n",
       "      <td>2.429666</td>\n",
       "      <td>0.840436</td>\n",
       "      <td>0.316285</td>\n",
       "      <td>2.960137</td>\n",
       "      <td>2.817534</td>\n",
       "      <td>0.580758</td>\n",
       "      <td>0.306729</td>\n",
       "      <td>3.064749</td>\n",
       "      <td>4.858938</td>\n",
       "      <td>4.367840</td>\n",
       "      <td>...</td>\n",
       "      <td>3.087563</td>\n",
       "      <td>160.868053</td>\n",
       "      <td>0.056044</td>\n",
       "      <td>7.167972</td>\n",
       "      <td>20.958828</td>\n",
       "      <td>113.017338</td>\n",
       "      <td>4.110185</td>\n",
       "      <td>5.478475</td>\n",
       "      <td>26.210075</td>\n",
       "      <td>8.830077</td>\n",
       "    </tr>\n",
       "    <tr>\n",
       "      <th>3</th>\n",
       "      <td>4.964553</td>\n",
       "      <td>0.569057</td>\n",
       "      <td>0.471260</td>\n",
       "      <td>2.674086</td>\n",
       "      <td>2.556168</td>\n",
       "      <td>0.429969</td>\n",
       "      <td>0.299329</td>\n",
       "      <td>1.811975</td>\n",
       "      <td>6.855272</td>\n",
       "      <td>4.282262</td>\n",
       "      <td>...</td>\n",
       "      <td>4.779320</td>\n",
       "      <td>128.679950</td>\n",
       "      <td>0.053245</td>\n",
       "      <td>5.260904</td>\n",
       "      <td>14.723565</td>\n",
       "      <td>110.248557</td>\n",
       "      <td>1.110630</td>\n",
       "      <td>1.151829</td>\n",
       "      <td>10.429950</td>\n",
       "      <td>4.571661</td>\n",
       "    </tr>\n",
       "    <tr>\n",
       "      <th>4</th>\n",
       "      <td>7.493180</td>\n",
       "      <td>0.726525</td>\n",
       "      <td>0.529541</td>\n",
       "      <td>3.529074</td>\n",
       "      <td>2.227889</td>\n",
       "      <td>0.361414</td>\n",
       "      <td>0.316332</td>\n",
       "      <td>1.352728</td>\n",
       "      <td>9.072828</td>\n",
       "      <td>3.915757</td>\n",
       "      <td>...</td>\n",
       "      <td>7.024587</td>\n",
       "      <td>74.136432</td>\n",
       "      <td>0.105205</td>\n",
       "      <td>6.089304</td>\n",
       "      <td>16.669849</td>\n",
       "      <td>92.547667</td>\n",
       "      <td>1.387330</td>\n",
       "      <td>4.844078</td>\n",
       "      <td>19.044903</td>\n",
       "      <td>3.973439</td>\n",
       "    </tr>\n",
       "    <tr>\n",
       "      <th>5</th>\n",
       "      <td>0.957363</td>\n",
       "      <td>0.272304</td>\n",
       "      <td>0.109996</td>\n",
       "      <td>0.774095</td>\n",
       "      <td>1.645378</td>\n",
       "      <td>0.136421</td>\n",
       "      <td>0.227338</td>\n",
       "      <td>0.777499</td>\n",
       "      <td>4.302938</td>\n",
       "      <td>2.660874</td>\n",
       "      <td>...</td>\n",
       "      <td>2.736922</td>\n",
       "      <td>80.478681</td>\n",
       "      <td>0.066464</td>\n",
       "      <td>1.580975</td>\n",
       "      <td>5.534934</td>\n",
       "      <td>99.688194</td>\n",
       "      <td>0.831064</td>\n",
       "      <td>0.451989</td>\n",
       "      <td>7.892153</td>\n",
       "      <td>3.456467</td>\n",
       "    </tr>\n",
       "    <tr>\n",
       "      <th>...</th>\n",
       "      <td>...</td>\n",
       "      <td>...</td>\n",
       "      <td>...</td>\n",
       "      <td>...</td>\n",
       "      <td>...</td>\n",
       "      <td>...</td>\n",
       "      <td>...</td>\n",
       "      <td>...</td>\n",
       "      <td>...</td>\n",
       "      <td>...</td>\n",
       "      <td>...</td>\n",
       "      <td>...</td>\n",
       "      <td>...</td>\n",
       "      <td>...</td>\n",
       "      <td>...</td>\n",
       "      <td>...</td>\n",
       "      <td>...</td>\n",
       "      <td>...</td>\n",
       "      <td>...</td>\n",
       "      <td>...</td>\n",
       "      <td>...</td>\n",
       "    </tr>\n",
       "    <tr>\n",
       "      <th>320</th>\n",
       "      <td>3.045362</td>\n",
       "      <td>2.555368</td>\n",
       "      <td>0.425162</td>\n",
       "      <td>0.797931</td>\n",
       "      <td>1.976339</td>\n",
       "      <td>0.204773</td>\n",
       "      <td>0.252366</td>\n",
       "      <td>0.831869</td>\n",
       "      <td>9.506828</td>\n",
       "      <td>3.367158</td>\n",
       "      <td>...</td>\n",
       "      <td>7.728908</td>\n",
       "      <td>168.653259</td>\n",
       "      <td>0.077271</td>\n",
       "      <td>3.347891</td>\n",
       "      <td>8.322539</td>\n",
       "      <td>78.605868</td>\n",
       "      <td>1.310911</td>\n",
       "      <td>1.465049</td>\n",
       "      <td>13.062263</td>\n",
       "      <td>3.304759</td>\n",
       "    </tr>\n",
       "    <tr>\n",
       "      <th>321</th>\n",
       "      <td>4.428962</td>\n",
       "      <td>2.180171</td>\n",
       "      <td>0.356532</td>\n",
       "      <td>0.915165</td>\n",
       "      <td>1.913651</td>\n",
       "      <td>0.207814</td>\n",
       "      <td>0.184860</td>\n",
       "      <td>0.662125</td>\n",
       "      <td>6.652845</td>\n",
       "      <td>3.050452</td>\n",
       "      <td>...</td>\n",
       "      <td>5.173236</td>\n",
       "      <td>85.557460</td>\n",
       "      <td>0.044005</td>\n",
       "      <td>2.639170</td>\n",
       "      <td>11.939292</td>\n",
       "      <td>55.757314</td>\n",
       "      <td>1.461783</td>\n",
       "      <td>1.518584</td>\n",
       "      <td>15.012015</td>\n",
       "      <td>3.012405</td>\n",
       "    </tr>\n",
       "    <tr>\n",
       "      <th>322</th>\n",
       "      <td>2.038330</td>\n",
       "      <td>2.702213</td>\n",
       "      <td>0.526215</td>\n",
       "      <td>0.901757</td>\n",
       "      <td>2.961351</td>\n",
       "      <td>0.235090</td>\n",
       "      <td>0.242437</td>\n",
       "      <td>1.784394</td>\n",
       "      <td>6.136619</td>\n",
       "      <td>3.238786</td>\n",
       "      <td>...</td>\n",
       "      <td>4.519827</td>\n",
       "      <td>162.733698</td>\n",
       "      <td>0.064887</td>\n",
       "      <td>3.283139</td>\n",
       "      <td>8.596121</td>\n",
       "      <td>72.212457</td>\n",
       "      <td>1.289847</td>\n",
       "      <td>1.083322</td>\n",
       "      <td>10.778188</td>\n",
       "      <td>3.309925</td>\n",
       "    </tr>\n",
       "    <tr>\n",
       "      <th>323</th>\n",
       "      <td>1.335416</td>\n",
       "      <td>2.040577</td>\n",
       "      <td>0.524171</td>\n",
       "      <td>2.768606</td>\n",
       "      <td>2.685267</td>\n",
       "      <td>0.159823</td>\n",
       "      <td>0.251168</td>\n",
       "      <td>0.902954</td>\n",
       "      <td>6.924547</td>\n",
       "      <td>2.931219</td>\n",
       "      <td>...</td>\n",
       "      <td>5.389640</td>\n",
       "      <td>159.192940</td>\n",
       "      <td>0.067447</td>\n",
       "      <td>2.682295</td>\n",
       "      <td>6.056226</td>\n",
       "      <td>69.430400</td>\n",
       "      <td>1.149512</td>\n",
       "      <td>1.977133</td>\n",
       "      <td>31.159944</td>\n",
       "      <td>2.862862</td>\n",
       "    </tr>\n",
       "    <tr>\n",
       "      <th>324</th>\n",
       "      <td>1.225532</td>\n",
       "      <td>1.066266</td>\n",
       "      <td>0.231256</td>\n",
       "      <td>5.568026</td>\n",
       "      <td>1.967471</td>\n",
       "      <td>0.129830</td>\n",
       "      <td>0.291016</td>\n",
       "      <td>0.592449</td>\n",
       "      <td>6.791390</td>\n",
       "      <td>2.948949</td>\n",
       "      <td>...</td>\n",
       "      <td>5.433574</td>\n",
       "      <td>158.375662</td>\n",
       "      <td>0.040137</td>\n",
       "      <td>1.679690</td>\n",
       "      <td>4.224644</td>\n",
       "      <td>86.008034</td>\n",
       "      <td>0.877564</td>\n",
       "      <td>8.138078</td>\n",
       "      <td>28.320452</td>\n",
       "      <td>2.414483</td>\n",
       "    </tr>\n",
       "  </tbody>\n",
       "</table>\n",
       "<p>324 rows × 26 columns</p>\n",
       "</div>"
      ],
      "text/plain": [
       "     marker_intensity_CD138  marker_intensity_CD163  marker_intensity_CD20  \\\n",
       "1                  2.953542                1.060639               0.288180   \n",
       "2                  2.429666                0.840436               0.316285   \n",
       "3                  4.964553                0.569057               0.471260   \n",
       "4                  7.493180                0.726525               0.529541   \n",
       "5                  0.957363                0.272304               0.109996   \n",
       "..                      ...                     ...                    ...   \n",
       "320                3.045362                2.555368               0.425162   \n",
       "321                4.428962                2.180171               0.356532   \n",
       "322                2.038330                2.702213               0.526215   \n",
       "323                1.335416                2.040577               0.524171   \n",
       "324                1.225532                1.066266               0.231256   \n",
       "\n",
       "     marker_intensity_CD36  marker_intensity_CD3e  marker_intensity_CD4  \\\n",
       "1                 0.859150               2.400732              0.646240   \n",
       "2                 2.960137               2.817534              0.580758   \n",
       "3                 2.674086               2.556168              0.429969   \n",
       "4                 3.529074               2.227889              0.361414   \n",
       "5                 0.774095               1.645378              0.136421   \n",
       "..                     ...                    ...                   ...   \n",
       "320               0.797931               1.976339              0.204773   \n",
       "321               0.915165               1.913651              0.207814   \n",
       "322               0.901757               2.961351              0.235090   \n",
       "323               2.768606               2.685267              0.159823   \n",
       "324               5.568026               1.967471              0.129830   \n",
       "\n",
       "     marker_intensity_CD68  marker_intensity_CD8  marker_intensity_CK14  \\\n",
       "1                 1.500898              0.636935               1.690259   \n",
       "2                 0.306729              3.064749               4.858938   \n",
       "3                 0.299329              1.811975               6.855272   \n",
       "4                 0.316332              1.352728               9.072828   \n",
       "5                 0.227338              0.777499               4.302938   \n",
       "..                     ...                   ...                    ...   \n",
       "320               0.252366              0.831869               9.506828   \n",
       "321               0.184860              0.662125               6.652845   \n",
       "322               0.242437              1.784394               6.136619   \n",
       "323               0.251168              0.902954               6.924547   \n",
       "324               0.291016              0.592449               6.791390   \n",
       "\n",
       "     marker_intensity_CK17  ...  marker_intensity_Ki67  marker_intensity_MGP  \\\n",
       "1                 2.618391  ...               1.521946              5.600231   \n",
       "2                 4.367840  ...               3.087563            160.868053   \n",
       "3                 4.282262  ...               4.779320            128.679950   \n",
       "4                 3.915757  ...               7.024587             74.136432   \n",
       "5                 2.660874  ...               2.736922             80.478681   \n",
       "..                     ...  ...                    ...                   ...   \n",
       "320               3.367158  ...               7.728908            168.653259   \n",
       "321               3.050452  ...               5.173236             85.557460   \n",
       "322               3.238786  ...               4.519827            162.733698   \n",
       "323               2.931219  ...               5.389640            159.192940   \n",
       "324               2.948949  ...               5.433574            158.375662   \n",
       "\n",
       "     marker_intensity_P16  marker_intensity_P21  marker_intensity_PR  \\\n",
       "1                0.061602              0.093429             1.366979   \n",
       "2                0.056044              7.167972            20.958828   \n",
       "3                0.053245              5.260904            14.723565   \n",
       "4                0.105205              6.089304            16.669849   \n",
       "5                0.066464              1.580975             5.534934   \n",
       "..                    ...                   ...                  ...   \n",
       "320              0.077271              3.347891             8.322539   \n",
       "321              0.044005              2.639170            11.939292   \n",
       "322              0.064887              3.283139             8.596121   \n",
       "323              0.067447              2.682295             6.056226   \n",
       "324              0.040137              1.679690             4.224644   \n",
       "\n",
       "     marker_intensity_Pan-Cytokeratin  marker_intensity_Podoplanin  \\\n",
       "1                          127.281763                     1.561858   \n",
       "2                          113.017338                     4.110185   \n",
       "3                          110.248557                     1.110630   \n",
       "4                           92.547667                     1.387330   \n",
       "5                           99.688194                     0.831064   \n",
       "..                                ...                          ...   \n",
       "320                         78.605868                     1.310911   \n",
       "321                         55.757314                     1.461783   \n",
       "322                         72.212457                     1.289847   \n",
       "323                         69.430400                     1.149512   \n",
       "324                         86.008034                     0.877564   \n",
       "\n",
       "     marker_intensity_SMA  marker_intensity_Vimentin  marker_intensity_cKit  \n",
       "1                0.483958                   2.219520               1.924538  \n",
       "2                5.478475                  26.210075               8.830077  \n",
       "3                1.151829                  10.429950               4.571661  \n",
       "4                4.844078                  19.044903               3.973439  \n",
       "5                0.451989                   7.892153               3.456467  \n",
       "..                    ...                        ...                    ...  \n",
       "320              1.465049                  13.062263               3.304759  \n",
       "321              1.518584                  15.012015               3.012405  \n",
       "322              1.083322                  10.778188               3.309925  \n",
       "323              1.977133                  31.159944               2.862862  \n",
       "324              8.138078                  28.320452               2.414483  \n",
       "\n",
       "[324 rows x 26 columns]"
      ]
     },
     "execution_count": 181,
     "metadata": {},
     "output_type": "execute_result"
    }
   ],
   "source": [
    "df_marker_intensities = calculate_marker_intensities(channel_to_img, labeled_dict['region'])\n",
    "df_marker_intensities.columns = [f'marker_intensity_{c}' for c in df_marker_intensities.columns]\n",
    "df_marker_intensities"
   ]
  },
  {
   "cell_type": "code",
   "execution_count": 182,
   "id": "d1f58354",
   "metadata": {
    "hidden": true
   },
   "outputs": [
    {
     "data": {
      "text/html": [
       "<div>\n",
       "<style scoped>\n",
       "    .dataframe tbody tr th:only-of-type {\n",
       "        vertical-align: middle;\n",
       "    }\n",
       "\n",
       "    .dataframe tbody tr th {\n",
       "        vertical-align: top;\n",
       "    }\n",
       "\n",
       "    .dataframe thead th {\n",
       "        text-align: right;\n",
       "    }\n",
       "</style>\n",
       "<table border=\"1\" class=\"dataframe\">\n",
       "  <thead>\n",
       "    <tr style=\"text-align: right;\">\n",
       "      <th></th>\n",
       "      <th>marker_fraction_CD163</th>\n",
       "      <th>marker_fraction_CD20</th>\n",
       "      <th>marker_fraction_CD3e</th>\n",
       "      <th>marker_fraction_CD8</th>\n",
       "      <th>marker_fraction_CK17</th>\n",
       "      <th>marker_fraction_Pan-Cytokeratin</th>\n",
       "      <th>marker_fraction_Podoplanin</th>\n",
       "      <th>marker_fraction_SMA</th>\n",
       "    </tr>\n",
       "  </thead>\n",
       "  <tbody>\n",
       "    <tr>\n",
       "      <th>1</th>\n",
       "      <td>0.000000</td>\n",
       "      <td>0.000042</td>\n",
       "      <td>0.000000</td>\n",
       "      <td>0.000000</td>\n",
       "      <td>0.0</td>\n",
       "      <td>0.432114</td>\n",
       "      <td>0.000084</td>\n",
       "      <td>0.000000</td>\n",
       "    </tr>\n",
       "    <tr>\n",
       "      <th>2</th>\n",
       "      <td>0.000046</td>\n",
       "      <td>0.000000</td>\n",
       "      <td>0.000587</td>\n",
       "      <td>0.036290</td>\n",
       "      <td>0.0</td>\n",
       "      <td>0.379389</td>\n",
       "      <td>0.083701</td>\n",
       "      <td>0.043055</td>\n",
       "    </tr>\n",
       "    <tr>\n",
       "      <th>3</th>\n",
       "      <td>0.000105</td>\n",
       "      <td>0.000000</td>\n",
       "      <td>0.002052</td>\n",
       "      <td>0.002534</td>\n",
       "      <td>0.0</td>\n",
       "      <td>0.317112</td>\n",
       "      <td>0.000167</td>\n",
       "      <td>0.003911</td>\n",
       "    </tr>\n",
       "    <tr>\n",
       "      <th>4</th>\n",
       "      <td>0.000448</td>\n",
       "      <td>0.000141</td>\n",
       "      <td>0.000047</td>\n",
       "      <td>0.000212</td>\n",
       "      <td>0.0</td>\n",
       "      <td>0.404565</td>\n",
       "      <td>0.000472</td>\n",
       "      <td>0.044734</td>\n",
       "    </tr>\n",
       "    <tr>\n",
       "      <th>5</th>\n",
       "      <td>0.000000</td>\n",
       "      <td>0.000000</td>\n",
       "      <td>0.000000</td>\n",
       "      <td>0.000000</td>\n",
       "      <td>0.0</td>\n",
       "      <td>0.291855</td>\n",
       "      <td>0.000000</td>\n",
       "      <td>0.001832</td>\n",
       "    </tr>\n",
       "    <tr>\n",
       "      <th>...</th>\n",
       "      <td>...</td>\n",
       "      <td>...</td>\n",
       "      <td>...</td>\n",
       "      <td>...</td>\n",
       "      <td>...</td>\n",
       "      <td>...</td>\n",
       "      <td>...</td>\n",
       "      <td>...</td>\n",
       "    </tr>\n",
       "    <tr>\n",
       "      <th>320</th>\n",
       "      <td>0.000349</td>\n",
       "      <td>0.000000</td>\n",
       "      <td>0.000000</td>\n",
       "      <td>0.000000</td>\n",
       "      <td>0.0</td>\n",
       "      <td>0.308991</td>\n",
       "      <td>0.000660</td>\n",
       "      <td>0.006095</td>\n",
       "    </tr>\n",
       "    <tr>\n",
       "      <th>321</th>\n",
       "      <td>0.002148</td>\n",
       "      <td>0.000143</td>\n",
       "      <td>0.000115</td>\n",
       "      <td>0.000000</td>\n",
       "      <td>0.0</td>\n",
       "      <td>0.263976</td>\n",
       "      <td>0.000401</td>\n",
       "      <td>0.008936</td>\n",
       "    </tr>\n",
       "    <tr>\n",
       "      <th>322</th>\n",
       "      <td>0.000141</td>\n",
       "      <td>0.000611</td>\n",
       "      <td>0.012320</td>\n",
       "      <td>0.014507</td>\n",
       "      <td>0.0</td>\n",
       "      <td>0.285526</td>\n",
       "      <td>0.000094</td>\n",
       "      <td>0.005337</td>\n",
       "    </tr>\n",
       "    <tr>\n",
       "      <th>323</th>\n",
       "      <td>0.000662</td>\n",
       "      <td>0.001129</td>\n",
       "      <td>0.011061</td>\n",
       "      <td>0.004868</td>\n",
       "      <td>0.0</td>\n",
       "      <td>0.321039</td>\n",
       "      <td>0.000078</td>\n",
       "      <td>0.011256</td>\n",
       "    </tr>\n",
       "    <tr>\n",
       "      <th>324</th>\n",
       "      <td>0.000251</td>\n",
       "      <td>0.000030</td>\n",
       "      <td>0.000266</td>\n",
       "      <td>0.000413</td>\n",
       "      <td>0.0</td>\n",
       "      <td>0.237370</td>\n",
       "      <td>0.000118</td>\n",
       "      <td>0.043039</td>\n",
       "    </tr>\n",
       "  </tbody>\n",
       "</table>\n",
       "<p>324 rows × 8 columns</p>\n",
       "</div>"
      ],
      "text/plain": [
       "     marker_fraction_CD163  marker_fraction_CD20  marker_fraction_CD3e  \\\n",
       "1                 0.000000              0.000042              0.000000   \n",
       "2                 0.000046              0.000000              0.000587   \n",
       "3                 0.000105              0.000000              0.002052   \n",
       "4                 0.000448              0.000141              0.000047   \n",
       "5                 0.000000              0.000000              0.000000   \n",
       "..                     ...                   ...                   ...   \n",
       "320               0.000349              0.000000              0.000000   \n",
       "321               0.002148              0.000143              0.000115   \n",
       "322               0.000141              0.000611              0.012320   \n",
       "323               0.000662              0.001129              0.011061   \n",
       "324               0.000251              0.000030              0.000266   \n",
       "\n",
       "     marker_fraction_CD8  marker_fraction_CK17  \\\n",
       "1               0.000000                   0.0   \n",
       "2               0.036290                   0.0   \n",
       "3               0.002534                   0.0   \n",
       "4               0.000212                   0.0   \n",
       "5               0.000000                   0.0   \n",
       "..                   ...                   ...   \n",
       "320             0.000000                   0.0   \n",
       "321             0.000000                   0.0   \n",
       "322             0.014507                   0.0   \n",
       "323             0.004868                   0.0   \n",
       "324             0.000413                   0.0   \n",
       "\n",
       "     marker_fraction_Pan-Cytokeratin  marker_fraction_Podoplanin  \\\n",
       "1                           0.432114                    0.000084   \n",
       "2                           0.379389                    0.083701   \n",
       "3                           0.317112                    0.000167   \n",
       "4                           0.404565                    0.000472   \n",
       "5                           0.291855                    0.000000   \n",
       "..                               ...                         ...   \n",
       "320                         0.308991                    0.000660   \n",
       "321                         0.263976                    0.000401   \n",
       "322                         0.285526                    0.000094   \n",
       "323                         0.321039                    0.000078   \n",
       "324                         0.237370                    0.000118   \n",
       "\n",
       "     marker_fraction_SMA  \n",
       "1               0.000000  \n",
       "2               0.043055  \n",
       "3               0.003911  \n",
       "4               0.044734  \n",
       "5               0.001832  \n",
       "..                   ...  \n",
       "320             0.006095  \n",
       "321             0.008936  \n",
       "322             0.005337  \n",
       "323             0.011256  \n",
       "324             0.043039  \n",
       "\n",
       "[324 rows x 8 columns]"
      ]
     },
     "execution_count": 182,
     "metadata": {},
     "output_type": "execute_result"
    }
   ],
   "source": [
    "df_marker_fracs = calculate_marker_fractions(channel_to_img, a, labeled_dict['region'])\n",
    "df_marker_fracs.columns = [f'marker_fraction_{c}' for c in df_marker_fracs.columns]\n",
    "df_marker_fracs"
   ]
  },
  {
   "cell_type": "code",
   "execution_count": 188,
   "id": "d92c8256",
   "metadata": {
    "hidden": true
   },
   "outputs": [
    {
     "data": {
      "text/html": [
       "<div>\n",
       "<style scoped>\n",
       "    .dataframe tbody tr th:only-of-type {\n",
       "        vertical-align: middle;\n",
       "    }\n",
       "\n",
       "    .dataframe tbody tr th {\n",
       "        vertical-align: top;\n",
       "    }\n",
       "\n",
       "    .dataframe thead th {\n",
       "        text-align: right;\n",
       "    }\n",
       "</style>\n",
       "<table border=\"1\" class=\"dataframe\">\n",
       "  <thead>\n",
       "    <tr style=\"text-align: right;\">\n",
       "      <th></th>\n",
       "      <th>r1</th>\n",
       "      <th>c1</th>\n",
       "      <th>r2</th>\n",
       "      <th>c2</th>\n",
       "      <th>area</th>\n",
       "      <th>perimeter</th>\n",
       "      <th>row</th>\n",
       "      <th>col</th>\n",
       "      <th>compactness</th>\n",
       "      <th>cell_type_fraction_B cell</th>\n",
       "      <th>...</th>\n",
       "      <th>marker_intensity_Vimentin</th>\n",
       "      <th>marker_intensity_cKit</th>\n",
       "      <th>marker_fraction_CD163</th>\n",
       "      <th>marker_fraction_CD20</th>\n",
       "      <th>marker_fraction_CD3e</th>\n",
       "      <th>marker_fraction_CD8</th>\n",
       "      <th>marker_fraction_CK17</th>\n",
       "      <th>marker_fraction_Pan-Cytokeratin</th>\n",
       "      <th>marker_fraction_Podoplanin</th>\n",
       "      <th>marker_fraction_SMA</th>\n",
       "    </tr>\n",
       "    <tr>\n",
       "      <th>label</th>\n",
       "      <th></th>\n",
       "      <th></th>\n",
       "      <th></th>\n",
       "      <th></th>\n",
       "      <th></th>\n",
       "      <th></th>\n",
       "      <th></th>\n",
       "      <th></th>\n",
       "      <th></th>\n",
       "      <th></th>\n",
       "      <th></th>\n",
       "      <th></th>\n",
       "      <th></th>\n",
       "      <th></th>\n",
       "      <th></th>\n",
       "      <th></th>\n",
       "      <th></th>\n",
       "      <th></th>\n",
       "      <th></th>\n",
       "      <th></th>\n",
       "      <th></th>\n",
       "    </tr>\n",
       "  </thead>\n",
       "  <tbody>\n",
       "    <tr>\n",
       "      <th>1</th>\n",
       "      <td>13113</td>\n",
       "      <td>4569</td>\n",
       "      <td>13332</td>\n",
       "      <td>4678</td>\n",
       "      <td>15584</td>\n",
       "      <td>579.747258</td>\n",
       "      <td>13219.493134</td>\n",
       "      <td>4626.169725</td>\n",
       "      <td>0.582655</td>\n",
       "      <td>0.000000</td>\n",
       "      <td>...</td>\n",
       "      <td>2.219520</td>\n",
       "      <td>1.924538</td>\n",
       "      <td>0.000000</td>\n",
       "      <td>0.000042</td>\n",
       "      <td>0.000000</td>\n",
       "      <td>0.000000</td>\n",
       "      <td>0.0</td>\n",
       "      <td>0.432114</td>\n",
       "      <td>0.000084</td>\n",
       "      <td>0.000000</td>\n",
       "    </tr>\n",
       "    <tr>\n",
       "      <th>2</th>\n",
       "      <td>15628</td>\n",
       "      <td>5316</td>\n",
       "      <td>16169</td>\n",
       "      <td>5801</td>\n",
       "      <td>124527</td>\n",
       "      <td>2105.349422</td>\n",
       "      <td>15907.752656</td>\n",
       "      <td>5536.435737</td>\n",
       "      <td>0.353041</td>\n",
       "      <td>0.000000</td>\n",
       "      <td>...</td>\n",
       "      <td>26.210075</td>\n",
       "      <td>8.830077</td>\n",
       "      <td>0.000046</td>\n",
       "      <td>0.000000</td>\n",
       "      <td>0.000587</td>\n",
       "      <td>0.036290</td>\n",
       "      <td>0.0</td>\n",
       "      <td>0.379389</td>\n",
       "      <td>0.083701</td>\n",
       "      <td>0.043055</td>\n",
       "    </tr>\n",
       "    <tr>\n",
       "      <th>3</th>\n",
       "      <td>15648</td>\n",
       "      <td>6320</td>\n",
       "      <td>16080</td>\n",
       "      <td>6584</td>\n",
       "      <td>53376</td>\n",
       "      <td>1587.359523</td>\n",
       "      <td>15903.167697</td>\n",
       "      <td>6448.601038</td>\n",
       "      <td>0.266198</td>\n",
       "      <td>0.000000</td>\n",
       "      <td>...</td>\n",
       "      <td>10.429950</td>\n",
       "      <td>4.571661</td>\n",
       "      <td>0.000105</td>\n",
       "      <td>0.000000</td>\n",
       "      <td>0.002052</td>\n",
       "      <td>0.002534</td>\n",
       "      <td>0.0</td>\n",
       "      <td>0.317112</td>\n",
       "      <td>0.000167</td>\n",
       "      <td>0.003911</td>\n",
       "    </tr>\n",
       "    <tr>\n",
       "      <th>4</th>\n",
       "      <td>15910</td>\n",
       "      <td>5989</td>\n",
       "      <td>16143</td>\n",
       "      <td>6171</td>\n",
       "      <td>27860</td>\n",
       "      <td>911.327994</td>\n",
       "      <td>16024.476741</td>\n",
       "      <td>6075.884530</td>\n",
       "      <td>0.421543</td>\n",
       "      <td>0.000000</td>\n",
       "      <td>...</td>\n",
       "      <td>19.044903</td>\n",
       "      <td>3.973439</td>\n",
       "      <td>0.000448</td>\n",
       "      <td>0.000141</td>\n",
       "      <td>0.000047</td>\n",
       "      <td>0.000212</td>\n",
       "      <td>0.0</td>\n",
       "      <td>0.404565</td>\n",
       "      <td>0.000472</td>\n",
       "      <td>0.044734</td>\n",
       "    </tr>\n",
       "    <tr>\n",
       "      <th>5</th>\n",
       "      <td>15929</td>\n",
       "      <td>4968</td>\n",
       "      <td>16133</td>\n",
       "      <td>5059</td>\n",
       "      <td>11164</td>\n",
       "      <td>622.232539</td>\n",
       "      <td>16035.594411</td>\n",
       "      <td>5015.137854</td>\n",
       "      <td>0.362347</td>\n",
       "      <td>0.000000</td>\n",
       "      <td>...</td>\n",
       "      <td>7.892153</td>\n",
       "      <td>3.456467</td>\n",
       "      <td>0.000000</td>\n",
       "      <td>0.000000</td>\n",
       "      <td>0.000000</td>\n",
       "      <td>0.000000</td>\n",
       "      <td>0.0</td>\n",
       "      <td>0.291855</td>\n",
       "      <td>0.000000</td>\n",
       "      <td>0.001832</td>\n",
       "    </tr>\n",
       "    <tr>\n",
       "      <th>...</th>\n",
       "      <td>...</td>\n",
       "      <td>...</td>\n",
       "      <td>...</td>\n",
       "      <td>...</td>\n",
       "      <td>...</td>\n",
       "      <td>...</td>\n",
       "      <td>...</td>\n",
       "      <td>...</td>\n",
       "      <td>...</td>\n",
       "      <td>...</td>\n",
       "      <td>...</td>\n",
       "      <td>...</td>\n",
       "      <td>...</td>\n",
       "      <td>...</td>\n",
       "      <td>...</td>\n",
       "      <td>...</td>\n",
       "      <td>...</td>\n",
       "      <td>...</td>\n",
       "      <td>...</td>\n",
       "      <td>...</td>\n",
       "      <td>...</td>\n",
       "    </tr>\n",
       "    <tr>\n",
       "      <th>320</th>\n",
       "      <td>25056</td>\n",
       "      <td>13465</td>\n",
       "      <td>25218</td>\n",
       "      <td>13624</td>\n",
       "      <td>14792</td>\n",
       "      <td>553.102597</td>\n",
       "      <td>25145.204705</td>\n",
       "      <td>13541.869389</td>\n",
       "      <td>0.607611</td>\n",
       "      <td>0.000000</td>\n",
       "      <td>...</td>\n",
       "      <td>13.062263</td>\n",
       "      <td>3.304759</td>\n",
       "      <td>0.000349</td>\n",
       "      <td>0.000000</td>\n",
       "      <td>0.000000</td>\n",
       "      <td>0.000000</td>\n",
       "      <td>0.0</td>\n",
       "      <td>0.308991</td>\n",
       "      <td>0.000660</td>\n",
       "      <td>0.006095</td>\n",
       "    </tr>\n",
       "    <tr>\n",
       "      <th>321</th>\n",
       "      <td>25087</td>\n",
       "      <td>13223</td>\n",
       "      <td>25259</td>\n",
       "      <td>13426</td>\n",
       "      <td>20475</td>\n",
       "      <td>982.416306</td>\n",
       "      <td>25164.640147</td>\n",
       "      <td>13322.169817</td>\n",
       "      <td>0.266589</td>\n",
       "      <td>0.034483</td>\n",
       "      <td>...</td>\n",
       "      <td>15.012015</td>\n",
       "      <td>3.012405</td>\n",
       "      <td>0.002148</td>\n",
       "      <td>0.000143</td>\n",
       "      <td>0.000115</td>\n",
       "      <td>0.000000</td>\n",
       "      <td>0.0</td>\n",
       "      <td>0.263976</td>\n",
       "      <td>0.000401</td>\n",
       "      <td>0.008936</td>\n",
       "    </tr>\n",
       "    <tr>\n",
       "      <th>322</th>\n",
       "      <td>25147</td>\n",
       "      <td>13664</td>\n",
       "      <td>25343</td>\n",
       "      <td>13881</td>\n",
       "      <td>21915</td>\n",
       "      <td>853.872150</td>\n",
       "      <td>25245.763222</td>\n",
       "      <td>13756.266073</td>\n",
       "      <td>0.377716</td>\n",
       "      <td>0.000000</td>\n",
       "      <td>...</td>\n",
       "      <td>10.778188</td>\n",
       "      <td>3.309925</td>\n",
       "      <td>0.000141</td>\n",
       "      <td>0.000611</td>\n",
       "      <td>0.012320</td>\n",
       "      <td>0.014507</td>\n",
       "      <td>0.0</td>\n",
       "      <td>0.285526</td>\n",
       "      <td>0.000094</td>\n",
       "      <td>0.005337</td>\n",
       "    </tr>\n",
       "    <tr>\n",
       "      <th>323</th>\n",
       "      <td>25176</td>\n",
       "      <td>13844</td>\n",
       "      <td>25274</td>\n",
       "      <td>14106</td>\n",
       "      <td>16487</td>\n",
       "      <td>766.232539</td>\n",
       "      <td>25225.541578</td>\n",
       "      <td>13976.111603</td>\n",
       "      <td>0.352883</td>\n",
       "      <td>0.000000</td>\n",
       "      <td>...</td>\n",
       "      <td>31.159944</td>\n",
       "      <td>2.862862</td>\n",
       "      <td>0.000662</td>\n",
       "      <td>0.001129</td>\n",
       "      <td>0.011061</td>\n",
       "      <td>0.004868</td>\n",
       "      <td>0.0</td>\n",
       "      <td>0.321039</td>\n",
       "      <td>0.000078</td>\n",
       "      <td>0.011256</td>\n",
       "    </tr>\n",
       "    <tr>\n",
       "      <th>324</th>\n",
       "      <td>25394</td>\n",
       "      <td>13359</td>\n",
       "      <td>25586</td>\n",
       "      <td>13712</td>\n",
       "      <td>28129</td>\n",
       "      <td>1104.256926</td>\n",
       "      <td>25483.588965</td>\n",
       "      <td>13561.195777</td>\n",
       "      <td>0.289884</td>\n",
       "      <td>0.000000</td>\n",
       "      <td>...</td>\n",
       "      <td>28.320452</td>\n",
       "      <td>2.414483</td>\n",
       "      <td>0.000251</td>\n",
       "      <td>0.000030</td>\n",
       "      <td>0.000266</td>\n",
       "      <td>0.000413</td>\n",
       "      <td>0.0</td>\n",
       "      <td>0.237370</td>\n",
       "      <td>0.000118</td>\n",
       "      <td>0.043039</td>\n",
       "    </tr>\n",
       "  </tbody>\n",
       "</table>\n",
       "<p>324 rows × 50 columns</p>\n",
       "</div>"
      ],
      "text/plain": [
       "          r1     c1     r2     c2    area    perimeter           row  \\\n",
       "label                                                                  \n",
       "1      13113   4569  13332   4678   15584   579.747258  13219.493134   \n",
       "2      15628   5316  16169   5801  124527  2105.349422  15907.752656   \n",
       "3      15648   6320  16080   6584   53376  1587.359523  15903.167697   \n",
       "4      15910   5989  16143   6171   27860   911.327994  16024.476741   \n",
       "5      15929   4968  16133   5059   11164   622.232539  16035.594411   \n",
       "...      ...    ...    ...    ...     ...          ...           ...   \n",
       "320    25056  13465  25218  13624   14792   553.102597  25145.204705   \n",
       "321    25087  13223  25259  13426   20475   982.416306  25164.640147   \n",
       "322    25147  13664  25343  13881   21915   853.872150  25245.763222   \n",
       "323    25176  13844  25274  14106   16487   766.232539  25225.541578   \n",
       "324    25394  13359  25586  13712   28129  1104.256926  25483.588965   \n",
       "\n",
       "                col  compactness  cell_type_fraction_B cell  ...  \\\n",
       "label                                                        ...   \n",
       "1       4626.169725     0.582655                   0.000000  ...   \n",
       "2       5536.435737     0.353041                   0.000000  ...   \n",
       "3       6448.601038     0.266198                   0.000000  ...   \n",
       "4       6075.884530     0.421543                   0.000000  ...   \n",
       "5       5015.137854     0.362347                   0.000000  ...   \n",
       "...             ...          ...                        ...  ...   \n",
       "320    13541.869389     0.607611                   0.000000  ...   \n",
       "321    13322.169817     0.266589                   0.034483  ...   \n",
       "322    13756.266073     0.377716                   0.000000  ...   \n",
       "323    13976.111603     0.352883                   0.000000  ...   \n",
       "324    13561.195777     0.289884                   0.000000  ...   \n",
       "\n",
       "       marker_intensity_Vimentin  marker_intensity_cKit  \\\n",
       "label                                                     \n",
       "1                       2.219520               1.924538   \n",
       "2                      26.210075               8.830077   \n",
       "3                      10.429950               4.571661   \n",
       "4                      19.044903               3.973439   \n",
       "5                       7.892153               3.456467   \n",
       "...                          ...                    ...   \n",
       "320                    13.062263               3.304759   \n",
       "321                    15.012015               3.012405   \n",
       "322                    10.778188               3.309925   \n",
       "323                    31.159944               2.862862   \n",
       "324                    28.320452               2.414483   \n",
       "\n",
       "       marker_fraction_CD163  marker_fraction_CD20  marker_fraction_CD3e  \\\n",
       "label                                                                      \n",
       "1                   0.000000              0.000042              0.000000   \n",
       "2                   0.000046              0.000000              0.000587   \n",
       "3                   0.000105              0.000000              0.002052   \n",
       "4                   0.000448              0.000141              0.000047   \n",
       "5                   0.000000              0.000000              0.000000   \n",
       "...                      ...                   ...                   ...   \n",
       "320                 0.000349              0.000000              0.000000   \n",
       "321                 0.002148              0.000143              0.000115   \n",
       "322                 0.000141              0.000611              0.012320   \n",
       "323                 0.000662              0.001129              0.011061   \n",
       "324                 0.000251              0.000030              0.000266   \n",
       "\n",
       "       marker_fraction_CD8  marker_fraction_CK17  \\\n",
       "label                                              \n",
       "1                 0.000000                   0.0   \n",
       "2                 0.036290                   0.0   \n",
       "3                 0.002534                   0.0   \n",
       "4                 0.000212                   0.0   \n",
       "5                 0.000000                   0.0   \n",
       "...                    ...                   ...   \n",
       "320               0.000000                   0.0   \n",
       "321               0.000000                   0.0   \n",
       "322               0.014507                   0.0   \n",
       "323               0.004868                   0.0   \n",
       "324               0.000413                   0.0   \n",
       "\n",
       "       marker_fraction_Pan-Cytokeratin  marker_fraction_Podoplanin  \\\n",
       "label                                                                \n",
       "1                             0.432114                    0.000084   \n",
       "2                             0.379389                    0.083701   \n",
       "3                             0.317112                    0.000167   \n",
       "4                             0.404565                    0.000472   \n",
       "5                             0.291855                    0.000000   \n",
       "...                                ...                         ...   \n",
       "320                           0.308991                    0.000660   \n",
       "321                           0.263976                    0.000401   \n",
       "322                           0.285526                    0.000094   \n",
       "323                           0.321039                    0.000078   \n",
       "324                           0.237370                    0.000118   \n",
       "\n",
       "       marker_fraction_SMA  \n",
       "label                       \n",
       "1                 0.000000  \n",
       "2                 0.043055  \n",
       "3                 0.003911  \n",
       "4                 0.044734  \n",
       "5                 0.001832  \n",
       "...                    ...  \n",
       "320               0.006095  \n",
       "321               0.008936  \n",
       "322               0.005337  \n",
       "323               0.011256  \n",
       "324               0.043039  \n",
       "\n",
       "[324 rows x 50 columns]"
      ]
     },
     "execution_count": 188,
     "metadata": {},
     "output_type": "execute_result"
    }
   ],
   "source": [
    "combined = pd.merge(df_meta, df_fracs, left_index=True, right_index=True, how='left')\n",
    "combined = pd.merge(combined, df_marker_intensities, left_index=True, right_index=True, how='left')\n",
    "combined = pd.merge(combined, df_marker_fracs, left_index=True, right_index=True, how='left')\n",
    "combined"
   ]
  },
  {
   "cell_type": "code",
   "execution_count": null,
   "id": "ad3621b5",
   "metadata": {
    "hidden": true
   },
   "outputs": [],
   "source": []
  },
  {
   "cell_type": "code",
   "execution_count": null,
   "id": "b36c3f04",
   "metadata": {
    "hidden": true
   },
   "outputs": [],
   "source": []
  },
  {
   "cell_type": "code",
   "execution_count": null,
   "id": "a776bc9c",
   "metadata": {
    "hidden": true
   },
   "outputs": [],
   "source": []
  },
  {
   "cell_type": "code",
   "execution_count": null,
   "id": "fd6e10b6",
   "metadata": {
    "hidden": true
   },
   "outputs": [],
   "source": []
  },
  {
   "cell_type": "code",
   "execution_count": null,
   "id": "f7ec4c07",
   "metadata": {
    "hidden": true
   },
   "outputs": [],
   "source": []
  },
  {
   "cell_type": "code",
   "execution_count": null,
   "id": "17dc7382",
   "metadata": {
    "hidden": true
   },
   "outputs": [],
   "source": []
  },
  {
   "cell_type": "code",
   "execution_count": 108,
   "id": "2cd12aaa",
   "metadata": {
    "hidden": true
   },
   "outputs": [
    {
     "data": {
      "text/plain": [
       "<matplotlib.image.AxesImage at 0x7ff92dc4fc50>"
      ]
     },
     "execution_count": 108,
     "metadata": {},
     "output_type": "execute_result"
    },
    {
     "data": {
      "image/png": "[encoded data removed]",
      "text/plain": [
       "<Figure size 432x288 with 1 Axes>"
      ]
     },
     "metadata": {
      "needs_background": "light"
     },
     "output_type": "display_data"
    }
   ],
   "source": [
    "plt.imshow(mask_dict['region'])"
   ]
  },
  {
   "cell_type": "code",
   "execution_count": 111,
   "id": "1a4173b9",
   "metadata": {
    "hidden": true
   },
   "outputs": [
    {
     "data": {
      "text/plain": [
       "<matplotlib.image.AxesImage at 0x7ff92db173d0>"
      ]
     },
     "execution_count": 111,
     "metadata": {},
     "output_type": "execute_result"
    },
    {
     "data": {
      "image/png": "[encoded data removed]",
      "text/plain": [
       "<Figure size 432x288 with 1 Axes>"
      ]
     },
     "metadata": {
      "needs_background": "light"
     },
     "output_type": "display_data"
    }
   ],
   "source": [
    "r1, r2, c1, c2 = 20000, 21000, 5000, 6000\n",
    "plt.imshow(mask_dict['ductal'][r1:r2, c1:c2])"
   ]
  },
  {
   "cell_type": "code",
   "execution_count": 109,
   "id": "06e59ae3",
   "metadata": {
    "hidden": true
   },
   "outputs": [
    {
     "data": {
      "text/plain": [
       "<matplotlib.image.AxesImage at 0x7ff92dc19790>"
      ]
     },
     "execution_count": 109,
     "metadata": {},
     "output_type": "execute_result"
    },
    {
     "data": {
      "image/png": "[encoded data removed]",
      "text/plain": [
       "<Figure size 432x288 with 1 Axes>"
      ]
     },
     "metadata": {
      "needs_background": "light"
     },
     "output_type": "display_data"
    }
   ],
   "source": [
    "plt.imshow(mask_dict['myoepi'][r1:r2, c1:c2])"
   ]
  },
  {
   "cell_type": "code",
   "execution_count": 110,
   "id": "f32d5ae3",
   "metadata": {
    "hidden": true
   },
   "outputs": [
    {
     "data": {
      "text/plain": [
       "<matplotlib.image.AxesImage at 0x7ff92dba6190>"
      ]
     },
     "execution_count": 110,
     "metadata": {},
     "output_type": "execute_result"
    },
    {
     "data": {
      "image/png": "[encoded data removed]",
      "text/plain": [
       "<Figure size 432x288 with 1 Axes>"
      ]
     },
     "metadata": {
      "needs_background": "light"
     },
     "output_type": "display_data"
    }
   ],
   "source": [
    "plt.imshow(labeled_dict['boundary'][r1:r2, c1:c2])"
   ]
  },
  {
   "cell_type": "code",
   "execution_count": 113,
   "id": "c30736b1",
   "metadata": {
    "hidden": true
   },
   "outputs": [
    {
     "data": {
      "text/plain": [
       "<matplotlib.image.AxesImage at 0x7ff92da93ed0>"
      ]
     },
     "execution_count": 113,
     "metadata": {},
     "output_type": "execute_result"
    },
    {
     "data": {
      "image/png": "[encoded data removed]",
      "text/plain": [
       "<Figure size 432x288 with 1 Axes>"
      ]
     },
     "metadata": {
      "needs_background": "light"
     },
     "output_type": "display_data"
    }
   ],
   "source": [
    "plt.imshow(labeled_dict['expanded'][r1:r2, c1:c2])"
   ]
  },
  {
   "cell_type": "code",
   "execution_count": 95,
   "id": "a857e730",
   "metadata": {
    "hidden": true
   },
   "outputs": [
    {
     "data": {
      "text/plain": [
       "<matplotlib.image.AxesImage at 0x7ff92ddc3950>"
      ]
     },
     "execution_count": 95,
     "metadata": {},
     "output_type": "execute_result"
    },
    {
     "data": {
      "image/png": "[encoded data removed]",
      "text/plain": [
       "<Figure size 432x288 with 1 Axes>"
      ]
     },
     "metadata": {
      "needs_background": "light"
     },
     "output_type": "display_data"
    }
   ],
   "source": [
    "plt.imshow(labeled_dict['boundary'][r1:r2, c1:c2])"
   ]
  },
  {
   "cell_type": "code",
   "execution_count": 96,
   "id": "1cd2b84f",
   "metadata": {
    "hidden": true
   },
   "outputs": [],
   "source": [
    "shrunk = fast_shrink_labels(labeled, 20)"
   ]
  },
  {
   "cell_type": "code",
   "execution_count": 97,
   "id": "b1be6115",
   "metadata": {
    "hidden": true
   },
   "outputs": [
    {
     "data": {
      "text/plain": [
       "<matplotlib.image.AxesImage at 0x7ff92dd47e90>"
      ]
     },
     "execution_count": 97,
     "metadata": {},
     "output_type": "execute_result"
    },
    {
     "data": {
      "image/png": "[encoded data removed]",
      "text/plain": [
       "<Figure size 432x288 with 1 Axes>"
      ]
     },
     "metadata": {
      "needs_background": "light"
     },
     "output_type": "display_data"
    }
   ],
   "source": [
    "plt.imshow(shrunk)"
   ]
  },
  {
   "cell_type": "code",
   "execution_count": null,
   "id": "442dcafb",
   "metadata": {
    "hidden": true
   },
   "outputs": [],
   "source": []
  },
  {
   "cell_type": "code",
   "execution_count": null,
   "id": "18ce7ecf",
   "metadata": {
    "hidden": true
   },
   "outputs": [],
   "source": []
  },
  {
   "cell_type": "code",
   "execution_count": null,
   "id": "f335719e",
   "metadata": {
    "hidden": true
   },
   "outputs": [],
   "source": []
  },
  {
   "cell_type": "code",
   "execution_count": null,
   "id": "19029046",
   "metadata": {
    "hidden": true
   },
   "outputs": [],
   "source": []
  },
  {
   "cell_type": "code",
   "execution_count": null,
   "id": "59eef628",
   "metadata": {
    "hidden": true
   },
   "outputs": [],
   "source": []
  },
  {
   "cell_type": "code",
   "execution_count": null,
   "id": "4beba115",
   "metadata": {
    "hidden": true
   },
   "outputs": [],
   "source": []
  },
  {
   "cell_type": "code",
   "execution_count": null,
   "id": "9b2f706a",
   "metadata": {
    "hidden": true
   },
   "outputs": [],
   "source": []
  },
  {
   "cell_type": "code",
   "execution_count": null,
   "id": "ff92f636",
   "metadata": {
    "hidden": true
   },
   "outputs": [],
   "source": []
  },
  {
   "cell_type": "code",
   "execution_count": null,
   "id": "3b837357",
   "metadata": {
    "hidden": true
   },
   "outputs": [],
   "source": []
  },
  {
   "cell_type": "code",
   "execution_count": null,
   "id": "a1b33bbd",
   "metadata": {
    "hidden": true
   },
   "outputs": [],
   "source": []
  },
  {
   "cell_type": "code",
   "execution_count": null,
   "id": "b2b55e3e",
   "metadata": {
    "hidden": true
   },
   "outputs": [],
   "source": []
  },
  {
   "cell_type": "code",
   "execution_count": null,
   "id": "695608ac",
   "metadata": {
    "hidden": true
   },
   "outputs": [],
   "source": []
  },
  {
   "cell_type": "code",
   "execution_count": null,
   "id": "62ec320b",
   "metadata": {
    "hidden": true
   },
   "outputs": [],
   "source": []
  },
  {
   "cell_type": "code",
   "execution_count": null,
   "id": "2182e3b4",
   "metadata": {
    "hidden": true
   },
   "outputs": [],
   "source": []
  },
  {
   "cell_type": "code",
   "execution_count": null,
   "id": "148a14a3",
   "metadata": {
    "hidden": true
   },
   "outputs": [],
   "source": []
  },
  {
   "cell_type": "code",
   "execution_count": 58,
   "id": "735c405e",
   "metadata": {
    "hidden": true
   },
   "outputs": [],
   "source": [
    "def get_morphology_masks(labeled_img, myoepi_dist=40, boundary_dist=150):\n",
    "    #expand by ~1 micron to avoid errors\n",
    "    labeled_img = expand_labels(labeled_img, distance=2)\n",
    "    mask = labeled_img > 0\n",
    "\n",
    "    # myoepithelial\n",
    "    outer_labeled = expand_labels(labeled_img, distance=myoepi_dist)\n",
    "    myoepi_labeled = np.zeros_like(labeled_img)\n",
    "    outer_mask = outer_labeled>0\n",
    "    myoepi_mask = outer_mask ^ mask\n",
    "    myoepi_labeled[myoepi_mask] = outer_labeled[myoepi_mask]\n",
    "\n",
    "    # boundary\n",
    "    outer_labeled = expand_labels(labeled_img, distance=boundary_dist)\n",
    "    boundary_labeled = np.zeros_like(labeled_img)\n",
    "    outer_mask = outer_labeled>0\n",
    "    boundary_mask = outer_mask ^ mask\n",
    "    boundary_labeled[boundary_mask] = outer_labeled[boundary_mask]\n",
    "\n",
    "    labeled_dict = {\n",
    "        'region': labeled_img,\n",
    "        'myoepi': myoepi_labeled,\n",
    "        'boundary': boundary_labeled,\n",
    "        'expanded': outer_labeled,\n",
    "    }\n",
    "    mask_dict = {\n",
    "        'region': mask,\n",
    "        'myoepi': myoepi_mask,\n",
    "        'boundary': boundary_mask,\n",
    "        'expanded': outer_mask\n",
    "    }\n",
    "\n",
    "    return labeled_dict, mask_dict"
   ]
  },
  {
   "cell_type": "code",
   "execution_count": 59,
   "id": "e64c8916",
   "metadata": {
    "hidden": true
   },
   "outputs": [
    {
     "name": "stderr",
     "output_type": "stream",
     "text": [
      "ERROR:root:Internal Python error in the inspect module.\n",
      "Below is the traceback from this internal error.\n",
      "\n"
     ]
    },
    {
     "name": "stdout",
     "output_type": "stream",
     "text": [
      "Traceback (most recent call last):\n",
      "  File \"/diskmnt/Projects/Users/estorrs/miniconda3/envs/squidpy/lib/python3.7/site-packages/IPython/core/interactiveshell.py\", line 3552, in run_code\n",
      "    exec(code_obj, self.user_global_ns, self.user_ns)\n",
      "  File \"/tmp/ipykernel_258482/3825775212.py\", line 1, in <module>\n",
      "    labeled_dict, mask_dict = get_morphology_masks(labeled)\n",
      "  File \"/tmp/ipykernel_258482/2355365832.py\", line 14, in get_morphology_masks\n",
      "    outer_labeled = expand_labels(labeled_img, distance=boundary_dist)\n",
      "  File \"/diskmnt/Projects/Users/estorrs/miniconda3/envs/squidpy/lib/python3.7/site-packages/skimage/segmentation/_expand_labels.py\", line 93, in expand_labels\n",
      "    label_image == 0, return_indices=True\n",
      "  File \"/diskmnt/Projects/Users/estorrs/miniconda3/envs/squidpy/lib/python3.7/site-packages/scipy/ndimage/morphology.py\", line 2283, in distance_transform_edt\n",
      "    if sampling is not None:\n",
      "KeyboardInterrupt\n",
      "\n",
      "During handling of the above exception, another exception occurred:\n",
      "\n",
      "Traceback (most recent call last):\n",
      "  File \"/diskmnt/Projects/Users/estorrs/miniconda3/envs/squidpy/lib/python3.7/site-packages/IPython/core/interactiveshell.py\", line 2098, in showtraceback\n",
      "    stb = value._render_traceback_()\n",
      "AttributeError: 'KeyboardInterrupt' object has no attribute '_render_traceback_'\n",
      "\n",
      "During handling of the above exception, another exception occurred:\n",
      "\n",
      "Traceback (most recent call last):\n",
      "  File \"/diskmnt/Projects/Users/estorrs/miniconda3/envs/squidpy/lib/python3.7/site-packages/IPython/core/ultratb.py\", line 1101, in get_records\n",
      "    return _fixed_getinnerframes(etb, number_of_lines_of_context, tb_offset)\n",
      "  File \"/diskmnt/Projects/Users/estorrs/miniconda3/envs/squidpy/lib/python3.7/site-packages/IPython/core/ultratb.py\", line 248, in wrapped\n",
      "    return f(*args, **kwargs)\n",
      "  File \"/diskmnt/Projects/Users/estorrs/miniconda3/envs/squidpy/lib/python3.7/site-packages/IPython/core/ultratb.py\", line 281, in _fixed_getinnerframes\n",
      "    records = fix_frame_records_filenames(inspect.getinnerframes(etb, context))\n",
      "  File \"/diskmnt/Projects/Users/estorrs/miniconda3/envs/squidpy/lib/python3.7/inspect.py\", line 1502, in getinnerframes\n",
      "    frameinfo = (tb.tb_frame,) + getframeinfo(tb, context)\n",
      "  File \"/diskmnt/Projects/Users/estorrs/miniconda3/envs/squidpy/lib/python3.7/inspect.py\", line 1460, in getframeinfo\n",
      "    filename = getsourcefile(frame) or getfile(frame)\n",
      "  File \"/diskmnt/Projects/Users/estorrs/miniconda3/envs/squidpy/lib/python3.7/inspect.py\", line 696, in getsourcefile\n",
      "    if getattr(getmodule(object, filename), '__loader__', None) is not None:\n",
      "  File \"/diskmnt/Projects/Users/estorrs/miniconda3/envs/squidpy/lib/python3.7/inspect.py\", line 739, in getmodule\n",
      "    f = getabsfile(module)\n",
      "  File \"/diskmnt/Projects/Users/estorrs/miniconda3/envs/squidpy/lib/python3.7/inspect.py\", line 708, in getabsfile\n",
      "    _filename = getsourcefile(object) or getfile(object)\n",
      "  File \"/diskmnt/Projects/Users/estorrs/miniconda3/envs/squidpy/lib/python3.7/inspect.py\", line 693, in getsourcefile\n",
      "    if os.path.exists(filename):\n",
      "  File \"/diskmnt/Projects/Users/estorrs/miniconda3/envs/squidpy/lib/python3.7/genericpath.py\", line 19, in exists\n",
      "    os.stat(path)\n",
      "KeyboardInterrupt\n"
     ]
    },
    {
     "ename": "TypeError",
     "evalue": "object of type 'NoneType' has no len()",
     "output_type": "error",
     "traceback": [
      "\u001b[0;31m---------------------------------------------------------------------------\u001b[0m",
      "\u001b[0;31mKeyboardInterrupt\u001b[0m                         Traceback (most recent call last)",
      "    \u001b[0;31m[... skipping hidden 1 frame]\u001b[0m\n",
      "\u001b[0;32m/tmp/ipykernel_258482/3825775212.py\u001b[0m in \u001b[0;36m<module>\u001b[0;34m\u001b[0m\n\u001b[0;32m----> 1\u001b[0;31m \u001b[0mlabeled_dict\u001b[0m\u001b[0;34m,\u001b[0m \u001b[0mmask_dict\u001b[0m \u001b[0;34m=\u001b[0m \u001b[0mget_morphology_masks\u001b[0m\u001b[0;34m(\u001b[0m\u001b[0mlabeled\u001b[0m\u001b[0;34m)\u001b[0m\u001b[0;34m\u001b[0m\u001b[0;34m\u001b[0m\u001b[0m\n\u001b[0m",
      "\u001b[0;32m/tmp/ipykernel_258482/2355365832.py\u001b[0m in \u001b[0;36mget_morphology_masks\u001b[0;34m(labeled_img, myoepi_dist, boundary_dist)\u001b[0m\n\u001b[1;32m     13\u001b[0m     \u001b[0;31m# boundary\u001b[0m\u001b[0;34m\u001b[0m\u001b[0;34m\u001b[0m\u001b[0;34m\u001b[0m\u001b[0m\n\u001b[0;32m---> 14\u001b[0;31m     \u001b[0mouter_labeled\u001b[0m \u001b[0;34m=\u001b[0m \u001b[0mexpand_labels\u001b[0m\u001b[0;34m(\u001b[0m\u001b[0mlabeled_img\u001b[0m\u001b[0;34m,\u001b[0m \u001b[0mdistance\u001b[0m\u001b[0;34m=\u001b[0m\u001b[0mboundary_dist\u001b[0m\u001b[0;34m)\u001b[0m\u001b[0;34m\u001b[0m\u001b[0;34m\u001b[0m\u001b[0m\n\u001b[0m\u001b[1;32m     15\u001b[0m     \u001b[0mboundary_labeled\u001b[0m \u001b[0;34m=\u001b[0m \u001b[0mnp\u001b[0m\u001b[0;34m.\u001b[0m\u001b[0mzeros_like\u001b[0m\u001b[0;34m(\u001b[0m\u001b[0mlabeled_img\u001b[0m\u001b[0;34m)\u001b[0m\u001b[0;34m\u001b[0m\u001b[0;34m\u001b[0m\u001b[0m\n",
      "\u001b[0;32m/diskmnt/Projects/Users/estorrs/miniconda3/envs/squidpy/lib/python3.7/site-packages/skimage/segmentation/_expand_labels.py\u001b[0m in \u001b[0;36mexpand_labels\u001b[0;34m(label_image, distance)\u001b[0m\n\u001b[1;32m     92\u001b[0m     distances, nearest_label_coords = distance_transform_edt(\n\u001b[0;32m---> 93\u001b[0;31m         \u001b[0mlabel_image\u001b[0m \u001b[0;34m==\u001b[0m \u001b[0;36m0\u001b[0m\u001b[0;34m,\u001b[0m \u001b[0mreturn_indices\u001b[0m\u001b[0;34m=\u001b[0m\u001b[0;32mTrue\u001b[0m\u001b[0;34m\u001b[0m\u001b[0;34m\u001b[0m\u001b[0m\n\u001b[0m\u001b[1;32m     94\u001b[0m     )\n",
      "\u001b[0;32m/diskmnt/Projects/Users/estorrs/miniconda3/envs/squidpy/lib/python3.7/site-packages/scipy/ndimage/morphology.py\u001b[0m in \u001b[0;36mdistance_transform_edt\u001b[0;34m(input, sampling, return_distances, return_indices, distances, indices)\u001b[0m\n\u001b[1;32m   2282\u001b[0m         \u001b[0mdt\u001b[0m \u001b[0;34m=\u001b[0m \u001b[0mdt\u001b[0m\u001b[0;34m.\u001b[0m\u001b[0mastype\u001b[0m\u001b[0;34m(\u001b[0m\u001b[0mnumpy\u001b[0m\u001b[0;34m.\u001b[0m\u001b[0mfloat64\u001b[0m\u001b[0;34m)\u001b[0m\u001b[0;34m\u001b[0m\u001b[0;34m\u001b[0m\u001b[0m\n\u001b[0;32m-> 2283\u001b[0;31m         \u001b[0;32mif\u001b[0m \u001b[0msampling\u001b[0m \u001b[0;32mis\u001b[0m \u001b[0;32mnot\u001b[0m \u001b[0;32mNone\u001b[0m\u001b[0;34m:\u001b[0m\u001b[0;34m\u001b[0m\u001b[0;34m\u001b[0m\u001b[0m\n\u001b[0m\u001b[1;32m   2284\u001b[0m             \u001b[0;32mfor\u001b[0m \u001b[0mii\u001b[0m \u001b[0;32min\u001b[0m \u001b[0mrange\u001b[0m\u001b[0;34m(\u001b[0m\u001b[0mlen\u001b[0m\u001b[0;34m(\u001b[0m\u001b[0msampling\u001b[0m\u001b[0;34m)\u001b[0m\u001b[0;34m)\u001b[0m\u001b[0;34m:\u001b[0m\u001b[0;34m\u001b[0m\u001b[0;34m\u001b[0m\u001b[0m\n",
      "\u001b[0;31mKeyboardInterrupt\u001b[0m: ",
      "\nDuring handling of the above exception, another exception occurred:\n",
      "\u001b[0;31mAttributeError\u001b[0m                            Traceback (most recent call last)",
      "\u001b[0;32m/diskmnt/Projects/Users/estorrs/miniconda3/envs/squidpy/lib/python3.7/site-packages/IPython/core/interactiveshell.py\u001b[0m in \u001b[0;36mshowtraceback\u001b[0;34m(self, exc_tuple, filename, tb_offset, exception_only, running_compiled_code)\u001b[0m\n\u001b[1;32m   2097\u001b[0m                         \u001b[0;31m# in the engines. This should return a list of strings.\u001b[0m\u001b[0;34m\u001b[0m\u001b[0;34m\u001b[0m\u001b[0;34m\u001b[0m\u001b[0m\n\u001b[0;32m-> 2098\u001b[0;31m                         \u001b[0mstb\u001b[0m \u001b[0;34m=\u001b[0m \u001b[0mvalue\u001b[0m\u001b[0;34m.\u001b[0m\u001b[0m_render_traceback_\u001b[0m\u001b[0;34m(\u001b[0m\u001b[0;34m)\u001b[0m\u001b[0;34m\u001b[0m\u001b[0;34m\u001b[0m\u001b[0m\n\u001b[0m\u001b[1;32m   2099\u001b[0m                     \u001b[0;32mexcept\u001b[0m \u001b[0mException\u001b[0m\u001b[0;34m:\u001b[0m\u001b[0;34m\u001b[0m\u001b[0;34m\u001b[0m\u001b[0m\n",
      "\u001b[0;31mAttributeError\u001b[0m: 'KeyboardInterrupt' object has no attribute '_render_traceback_'",
      "\nDuring handling of the above exception, another exception occurred:\n",
      "\u001b[0;31mTypeError\u001b[0m                                 Traceback (most recent call last)",
      "    \u001b[0;31m[... skipping hidden 1 frame]\u001b[0m\n",
      "\u001b[0;32m/diskmnt/Projects/Users/estorrs/miniconda3/envs/squidpy/lib/python3.7/site-packages/IPython/core/interactiveshell.py\u001b[0m in \u001b[0;36mshowtraceback\u001b[0;34m(self, exc_tuple, filename, tb_offset, exception_only, running_compiled_code)\u001b[0m\n\u001b[1;32m   2099\u001b[0m                     \u001b[0;32mexcept\u001b[0m \u001b[0mException\u001b[0m\u001b[0;34m:\u001b[0m\u001b[0;34m\u001b[0m\u001b[0;34m\u001b[0m\u001b[0m\n\u001b[1;32m   2100\u001b[0m                         stb = self.InteractiveTB.structured_traceback(etype,\n\u001b[0;32m-> 2101\u001b[0;31m                                             value, tb, tb_offset=tb_offset)\n\u001b[0m\u001b[1;32m   2102\u001b[0m \u001b[0;34m\u001b[0m\u001b[0m\n\u001b[1;32m   2103\u001b[0m                     \u001b[0mself\u001b[0m\u001b[0;34m.\u001b[0m\u001b[0m_showtraceback\u001b[0m\u001b[0;34m(\u001b[0m\u001b[0metype\u001b[0m\u001b[0;34m,\u001b[0m \u001b[0mvalue\u001b[0m\u001b[0;34m,\u001b[0m \u001b[0mstb\u001b[0m\u001b[0;34m)\u001b[0m\u001b[0;34m\u001b[0m\u001b[0;34m\u001b[0m\u001b[0m\n",
      "\u001b[0;32m/diskmnt/Projects/Users/estorrs/miniconda3/envs/squidpy/lib/python3.7/site-packages/IPython/core/ultratb.py\u001b[0m in \u001b[0;36mstructured_traceback\u001b[0;34m(self, etype, value, tb, tb_offset, number_of_lines_of_context)\u001b[0m\n\u001b[1;32m   1366\u001b[0m             \u001b[0mself\u001b[0m\u001b[0;34m.\u001b[0m\u001b[0mtb\u001b[0m \u001b[0;34m=\u001b[0m \u001b[0mtb\u001b[0m\u001b[0;34m\u001b[0m\u001b[0;34m\u001b[0m\u001b[0m\n\u001b[1;32m   1367\u001b[0m         return FormattedTB.structured_traceback(\n\u001b[0;32m-> 1368\u001b[0;31m             self, etype, value, tb, tb_offset, number_of_lines_of_context)\n\u001b[0m\u001b[1;32m   1369\u001b[0m \u001b[0;34m\u001b[0m\u001b[0m\n\u001b[1;32m   1370\u001b[0m \u001b[0;34m\u001b[0m\u001b[0m\n",
      "\u001b[0;32m/diskmnt/Projects/Users/estorrs/miniconda3/envs/squidpy/lib/python3.7/site-packages/IPython/core/ultratb.py\u001b[0m in \u001b[0;36mstructured_traceback\u001b[0;34m(self, etype, value, tb, tb_offset, number_of_lines_of_context)\u001b[0m\n\u001b[1;32m   1266\u001b[0m             \u001b[0;31m# Verbose modes need a full traceback\u001b[0m\u001b[0;34m\u001b[0m\u001b[0;34m\u001b[0m\u001b[0;34m\u001b[0m\u001b[0m\n\u001b[1;32m   1267\u001b[0m             return VerboseTB.structured_traceback(\n\u001b[0;32m-> 1268\u001b[0;31m                 \u001b[0mself\u001b[0m\u001b[0;34m,\u001b[0m \u001b[0metype\u001b[0m\u001b[0;34m,\u001b[0m \u001b[0mvalue\u001b[0m\u001b[0;34m,\u001b[0m \u001b[0mtb\u001b[0m\u001b[0;34m,\u001b[0m \u001b[0mtb_offset\u001b[0m\u001b[0;34m,\u001b[0m \u001b[0mnumber_of_lines_of_context\u001b[0m\u001b[0;34m\u001b[0m\u001b[0;34m\u001b[0m\u001b[0m\n\u001b[0m\u001b[1;32m   1269\u001b[0m             )\n\u001b[1;32m   1270\u001b[0m         \u001b[0;32melif\u001b[0m \u001b[0mmode\u001b[0m \u001b[0;34m==\u001b[0m \u001b[0;34m'Minimal'\u001b[0m\u001b[0;34m:\u001b[0m\u001b[0;34m\u001b[0m\u001b[0;34m\u001b[0m\u001b[0m\n",
      "\u001b[0;32m/diskmnt/Projects/Users/estorrs/miniconda3/envs/squidpy/lib/python3.7/site-packages/IPython/core/ultratb.py\u001b[0m in \u001b[0;36mstructured_traceback\u001b[0;34m(self, etype, evalue, etb, tb_offset, number_of_lines_of_context)\u001b[0m\n\u001b[1;32m   1123\u001b[0m \u001b[0;34m\u001b[0m\u001b[0m\n\u001b[1;32m   1124\u001b[0m         formatted_exception = self.format_exception_as_a_whole(etype, evalue, etb, number_of_lines_of_context,\n\u001b[0;32m-> 1125\u001b[0;31m                                                                tb_offset)\n\u001b[0m\u001b[1;32m   1126\u001b[0m \u001b[0;34m\u001b[0m\u001b[0m\n\u001b[1;32m   1127\u001b[0m         \u001b[0mcolors\u001b[0m \u001b[0;34m=\u001b[0m \u001b[0mself\u001b[0m\u001b[0;34m.\u001b[0m\u001b[0mColors\u001b[0m  \u001b[0;31m# just a shorthand + quicker name lookup\u001b[0m\u001b[0;34m\u001b[0m\u001b[0;34m\u001b[0m\u001b[0m\n",
      "\u001b[0;32m/diskmnt/Projects/Users/estorrs/miniconda3/envs/squidpy/lib/python3.7/site-packages/IPython/core/ultratb.py\u001b[0m in \u001b[0;36mformat_exception_as_a_whole\u001b[0;34m(self, etype, evalue, etb, number_of_lines_of_context, tb_offset)\u001b[0m\n\u001b[1;32m   1080\u001b[0m \u001b[0;34m\u001b[0m\u001b[0m\n\u001b[1;32m   1081\u001b[0m \u001b[0;34m\u001b[0m\u001b[0m\n\u001b[0;32m-> 1082\u001b[0;31m         \u001b[0mlast_unique\u001b[0m\u001b[0;34m,\u001b[0m \u001b[0mrecursion_repeat\u001b[0m \u001b[0;34m=\u001b[0m \u001b[0mfind_recursion\u001b[0m\u001b[0;34m(\u001b[0m\u001b[0morig_etype\u001b[0m\u001b[0;34m,\u001b[0m \u001b[0mevalue\u001b[0m\u001b[0;34m,\u001b[0m \u001b[0mrecords\u001b[0m\u001b[0;34m)\u001b[0m\u001b[0;34m\u001b[0m\u001b[0;34m\u001b[0m\u001b[0m\n\u001b[0m\u001b[1;32m   1083\u001b[0m \u001b[0;34m\u001b[0m\u001b[0m\n\u001b[1;32m   1084\u001b[0m         \u001b[0mframes\u001b[0m \u001b[0;34m=\u001b[0m \u001b[0mself\u001b[0m\u001b[0;34m.\u001b[0m\u001b[0mformat_records\u001b[0m\u001b[0;34m(\u001b[0m\u001b[0mrecords\u001b[0m\u001b[0;34m,\u001b[0m \u001b[0mlast_unique\u001b[0m\u001b[0;34m,\u001b[0m \u001b[0mrecursion_repeat\u001b[0m\u001b[0;34m)\u001b[0m\u001b[0;34m\u001b[0m\u001b[0;34m\u001b[0m\u001b[0m\n",
      "\u001b[0;32m/diskmnt/Projects/Users/estorrs/miniconda3/envs/squidpy/lib/python3.7/site-packages/IPython/core/ultratb.py\u001b[0m in \u001b[0;36mfind_recursion\u001b[0;34m(etype, value, records)\u001b[0m\n\u001b[1;32m    380\u001b[0m     \u001b[0;31m# first frame (from in to out) that looks different.\u001b[0m\u001b[0;34m\u001b[0m\u001b[0;34m\u001b[0m\u001b[0;34m\u001b[0m\u001b[0m\n\u001b[1;32m    381\u001b[0m     \u001b[0;32mif\u001b[0m \u001b[0;32mnot\u001b[0m \u001b[0mis_recursion_error\u001b[0m\u001b[0;34m(\u001b[0m\u001b[0metype\u001b[0m\u001b[0;34m,\u001b[0m \u001b[0mvalue\u001b[0m\u001b[0;34m,\u001b[0m \u001b[0mrecords\u001b[0m\u001b[0;34m)\u001b[0m\u001b[0;34m:\u001b[0m\u001b[0;34m\u001b[0m\u001b[0;34m\u001b[0m\u001b[0m\n\u001b[0;32m--> 382\u001b[0;31m         \u001b[0;32mreturn\u001b[0m \u001b[0mlen\u001b[0m\u001b[0;34m(\u001b[0m\u001b[0mrecords\u001b[0m\u001b[0;34m)\u001b[0m\u001b[0;34m,\u001b[0m \u001b[0;36m0\u001b[0m\u001b[0;34m\u001b[0m\u001b[0;34m\u001b[0m\u001b[0m\n\u001b[0m\u001b[1;32m    383\u001b[0m \u001b[0;34m\u001b[0m\u001b[0m\n\u001b[1;32m    384\u001b[0m     \u001b[0;31m# Select filename, lineno, func_name to track frames with\u001b[0m\u001b[0;34m\u001b[0m\u001b[0;34m\u001b[0m\u001b[0;34m\u001b[0m\u001b[0m\n",
      "\u001b[0;31mTypeError\u001b[0m: object of type 'NoneType' has no len()"
     ]
    }
   ],
   "source": [
    "labeled_dict, mask_dict = get_morphology_masks(labeled)"
   ]
  },
  {
   "cell_type": "code",
   "execution_count": null,
   "id": "37b502c2",
   "metadata": {
    "hidden": true
   },
   "outputs": [],
   "source": []
  },
  {
   "cell_type": "code",
   "execution_count": null,
   "id": "1005672d",
   "metadata": {
    "hidden": true
   },
   "outputs": [],
   "source": []
  },
  {
   "cell_type": "code",
   "execution_count": null,
   "id": "9918b268",
   "metadata": {
    "hidden": true
   },
   "outputs": [],
   "source": []
  },
  {
   "cell_type": "code",
   "execution_count": null,
   "id": "090ac8b8",
   "metadata": {
    "hidden": true
   },
   "outputs": [],
   "source": []
  },
  {
   "cell_type": "code",
   "execution_count": null,
   "id": "31e092b4",
   "metadata": {
    "hidden": true
   },
   "outputs": [],
   "source": []
  },
  {
   "cell_type": "code",
   "execution_count": null,
   "id": "9ce1b94a",
   "metadata": {
    "hidden": true
   },
   "outputs": [],
   "source": []
  },
  {
   "cell_type": "code",
   "execution_count": null,
   "id": "12367d9a",
   "metadata": {
    "hidden": true
   },
   "outputs": [],
   "source": []
  },
  {
   "cell_type": "code",
   "execution_count": null,
   "id": "0472da7d",
   "metadata": {
    "hidden": true
   },
   "outputs": [],
   "source": []
  },
  {
   "cell_type": "code",
   "execution_count": null,
   "id": "37b30c48",
   "metadata": {
    "hidden": true
   },
   "outputs": [],
   "source": []
  },
  {
   "cell_type": "code",
   "execution_count": null,
   "id": "e20e1350",
   "metadata": {
    "hidden": true
   },
   "outputs": [],
   "source": []
  },
  {
   "cell_type": "code",
   "execution_count": null,
   "id": "5f42ed7d",
   "metadata": {
    "hidden": true
   },
   "outputs": [],
   "source": []
  },
  {
   "cell_type": "code",
   "execution_count": null,
   "id": "4327dfdd",
   "metadata": {
    "hidden": true
   },
   "outputs": [],
   "source": []
  },
  {
   "cell_type": "code",
   "execution_count": null,
   "id": "3ff02551",
   "metadata": {
    "hidden": true
   },
   "outputs": [],
   "source": []
  },
  {
   "cell_type": "code",
   "execution_count": null,
   "id": "79010f23",
   "metadata": {
    "hidden": true
   },
   "outputs": [],
   "source": []
  },
  {
   "cell_type": "code",
   "execution_count": null,
   "id": "cfeeeb4e",
   "metadata": {
    "hidden": true
   },
   "outputs": [],
   "source": []
  },
  {
   "cell_type": "code",
   "execution_count": null,
   "id": "87f4536e",
   "metadata": {
    "hidden": true
   },
   "outputs": [],
   "source": []
  },
  {
   "cell_type": "code",
   "execution_count": null,
   "id": "eaeb3c44",
   "metadata": {
    "hidden": true
   },
   "outputs": [],
   "source": []
  },
  {
   "cell_type": "code",
   "execution_count": null,
   "id": "cfc559a3",
   "metadata": {
    "hidden": true
   },
   "outputs": [],
   "source": []
  },
  {
   "cell_type": "code",
   "execution_count": null,
   "id": "3cde202c",
   "metadata": {
    "hidden": true
   },
   "outputs": [],
   "source": []
  },
  {
   "cell_type": "code",
   "execution_count": null,
   "id": "dc1f5d71",
   "metadata": {
    "hidden": true
   },
   "outputs": [],
   "source": []
  },
  {
   "cell_type": "code",
   "execution_count": 29,
   "id": "c0ddf93c",
   "metadata": {
    "hidden": true
   },
   "outputs": [],
   "source": [
    "def generate_thresh_df(d):\n",
    "    channel_df = pd.DataFrame({k:[v] for k, v in d.items()}).transpose()\n",
    "    channel_df.index.name = 'channel'\n",
    "    channel_df.columns = ['threshold']\n",
    "    return channel_df"
   ]
  },
  {
   "cell_type": "code",
   "execution_count": 30,
   "id": "d3dbd7bf",
   "metadata": {
    "hidden": true,
    "scrolled": true
   },
   "outputs": [
    {
     "data": {
      "text/plain": [
       "['HT110B1_S1H4',\n",
       " 'HT171B1-S1H9A1-4_left_05122023',\n",
       " 'HT171B1-S1H9A1-4_right_05122023',\n",
       " 'HT206B1_H1',\n",
       " 'HT206B1_H1_06252022',\n",
       " 'HT206B1_S1H2L4_20221028',\n",
       " 'HT243B1-S1H4A4_04192023',\n",
       " 'HT243B1-S1H4A4_left_05122023',\n",
       " 'HT243B1-S1H4A4_right_05122023',\n",
       " 'HT243B1_S1H4',\n",
       " 'HT271B1-S1H6A5_04192023',\n",
       " 'HT271B1-S1H6A5_left_05122023',\n",
       " 'HT271B1-S1H6A5_right_05122023',\n",
       " 'HT271B1_S1H3A5_02172023',\n",
       " 'HT297B1_H1_08042022',\n",
       " 'HT305B1_S1H1',\n",
       " 'HT308B1-S1H5A4_04192023',\n",
       " 'HT308B1-S1H5A4_left_05122023',\n",
       " 'HT308B1-S1H5A4_right_05122023',\n",
       " 'HT323B1_H1A1',\n",
       " 'HT323B1_H1A4',\n",
       " 'HT323B1_H1_08042022',\n",
       " 'HT323B1_H3',\n",
       " 'HT339B1_H1A1',\n",
       " 'HT339B1_H2A1',\n",
       " 'HT339B1_H4A4',\n",
       " 'HT365B1_S1H1_02132023',\n",
       " 'HT397B1_H2A2',\n",
       " 'HT397B1_H3A1',\n",
       " 'HT397B1_S1H1A3U22_04122023',\n",
       " 'HT397B1_S1H1A3U31_04062023',\n",
       " 'HT397B1_U12_03172023',\n",
       " 'HT397B1_U2_03162023',\n",
       " 'HT480B1_S1H2_R001',\n",
       " 'HT480B1_S1H2_R002',\n",
       " 'HT565B1-H2_04262023']"
      ]
     },
     "execution_count": 30,
     "metadata": {},
     "output_type": "execute_result"
    }
   ],
   "source": [
    "samples"
   ]
  },
  {
   "cell_type": "code",
   "execution_count": 31,
   "id": "5a3bf362",
   "metadata": {
    "hidden": true
   },
   "outputs": [
    {
     "data": {
      "text/plain": [
       "{'HT365B1_S1H1_02132023':                  threshold\n",
       " channel                   \n",
       " CD8                   10.0\n",
       " Pan-Cytokeratin       50.0\n",
       " Podoplanin            10.0\n",
       " CK14                  20.0\n",
       " FOXP3                  7.0\n",
       " CD20                  10.0\n",
       " SMA                   10.0\n",
       " CD68                  45.0\n",
       " CD3e                  19.0\n",
       " CD45                  75.0,\n",
       " 'HT271B1_S1H3A5_02172023':                  threshold\n",
       " channel                   \n",
       " CD8                   10.0\n",
       " Pan-Cytokeratin       15.0\n",
       " Podoplanin           254.0\n",
       " CD68                 254.0\n",
       " CD20                  15.0\n",
       " SMA                   15.0\n",
       " CD3e                  40.0\n",
       " CD45                  40.0\n",
       " CD31                  10.0,\n",
       " 'HT397B1_U2_03162023':                  threshold\n",
       " channel                   \n",
       " CD8                   10.0\n",
       " Pan-Cytokeratin       46.0\n",
       " Podoplanin            10.0\n",
       " CD68                 254.0\n",
       " FOXP3                  8.0\n",
       " CD20                  10.0\n",
       " SMA                   10.0\n",
       " Ki67                  10.0\n",
       " CD45                  20.0\n",
       " CD31                  10.0,\n",
       " 'HT397B1_U12_03172023':                  threshold\n",
       " channel                   \n",
       " CD8                   10.0\n",
       " Pan-Cytokeratin       50.0\n",
       " Podoplanin             8.0\n",
       " CD68                 254.0\n",
       " FOXP3                  8.0\n",
       " CD20                  12.0\n",
       " SMA                   13.0\n",
       " Ki67                  10.0\n",
       " CD45                  20.0\n",
       " CD31                  10.0,\n",
       " 'HT397B1_S1H1A3U31_04062023':                  threshold\n",
       " channel                   \n",
       " CD8                   10.0\n",
       " Pan-Cytokeratin       50.0\n",
       " Podoplanin             8.0\n",
       " CD68                 254.0\n",
       " FOXP3                  8.0\n",
       " SMA                   10.0\n",
       " CD3e                  40.0\n",
       " Ki67                  20.0\n",
       " CD45                  20.0\n",
       " CD31                  10.0,\n",
       " 'HT397B1_S1H1A3U22_04122023':                  threshold\n",
       " channel                   \n",
       " CD8                   10.0\n",
       " Pan-Cytokeratin       18.0\n",
       " Podoplanin             8.0\n",
       " CD68                 254.0\n",
       " FOXP3                  8.0\n",
       " SMA                   10.0\n",
       " CD3e                  15.0\n",
       " Ki67                  10.0\n",
       " CD11b                 10.0\n",
       " CD45                  20.0\n",
       " CD31                  10.0,\n",
       " 'HT243B1-S1H4A4_04192023':                  threshold\n",
       " channel                   \n",
       " CD8                   19.0\n",
       " Pan-Cytokeratin       50.0\n",
       " Podoplanin            12.0\n",
       " CD20                 254.0\n",
       " SMA                   15.0\n",
       " CD3e                  15.0\n",
       " CD68                 254.0\n",
       " CD45                 254.0\n",
       " CD31                  19.0\n",
       " CD4                   50.0,\n",
       " 'HT271B1-S1H6A5_04192023':                  threshold\n",
       " channel                   \n",
       " CD8                   15.0\n",
       " Pan-Cytokeratin       19.0\n",
       " Podoplanin            10.0\n",
       " CD20                 254.0\n",
       " SMA                   15.0\n",
       " CD3e                  19.0\n",
       " CD68                 254.0\n",
       " CD45                 254.0\n",
       " CD31                  10.0\n",
       " CD4                   59.0,\n",
       " 'HT308B1-S1H5A4_04192023':                  threshold\n",
       " channel                   \n",
       " CD8                   10.0\n",
       " Pan-Cytokeratin       20.0\n",
       " Podoplanin            15.0\n",
       " CD20                 254.0\n",
       " SMA                   10.0\n",
       " CD3e                  39.0\n",
       " CD68                  74.0\n",
       " CD45                 254.0\n",
       " CD31                  74.0\n",
       " CD4                   63.0,\n",
       " 'HT565B1-H2_04262023':                  threshold\n",
       " channel                   \n",
       " CD8                   10.0\n",
       " Pan-Cytokeratin       19.0\n",
       " Podoplanin            10.0\n",
       " CD68                 254.0\n",
       " CK14                  10.0\n",
       " SMA                   10.0\n",
       " CD3e                  13.0\n",
       " CD45                 254.0\n",
       " CD31                  10.0\n",
       " CD4                   29.0\n",
       " CK5                   14.0,\n",
       " 'HT171B1-S1H9A1-4_left_05122023':                  threshold\n",
       " channel                   \n",
       " CD8                   10.0\n",
       " Pan-Cytokeratin       25.0\n",
       " Podoplanin            10.0\n",
       " CD68                 254.0\n",
       " CK14                  10.0\n",
       " SMA                   10.0\n",
       " CD3e                  10.0\n",
       " CD45                 254.0\n",
       " CD31                  10.0\n",
       " CK5                    8.0\n",
       " CD4                   14.0\n",
       " CD20                 254.0,\n",
       " 'HT171B1-S1H9A1-4_right_05122023':                  threshold\n",
       " channel                   \n",
       " CD8                   10.0\n",
       " Pan-Cytokeratin       25.0\n",
       " Podoplanin            10.0\n",
       " CD68                 254.0\n",
       " CK14                  10.0\n",
       " SMA                   10.0\n",
       " CD3e                  10.0\n",
       " CD45                 254.0\n",
       " CD31                  10.0\n",
       " CK5                    8.0\n",
       " CD4                   14.0\n",
       " CD20                 254.0,\n",
       " 'HT243B1-S1H4A4_left_05122023':                  threshold\n",
       " channel                   \n",
       " CD8                   10.0\n",
       " Pan-Cytokeratin       15.0\n",
       " Podoplanin            10.0\n",
       " CD68                 254.0\n",
       " CK14                  10.0\n",
       " SMA                   10.0\n",
       " CD3e                  10.0\n",
       " CD45                 254.0\n",
       " CD31                  10.0\n",
       " CK5                    8.0\n",
       " CD4                   14.0\n",
       " CD20                 254.0,\n",
       " 'HT243B1-S1H4A4_right_05122023':                  threshold\n",
       " channel                   \n",
       " CD8                   10.0\n",
       " Pan-Cytokeratin       15.0\n",
       " Podoplanin            10.0\n",
       " CD68                 254.0\n",
       " CK14                  10.0\n",
       " SMA                   10.0\n",
       " CD3e                  10.0\n",
       " CD45                 254.0\n",
       " CD31                  10.0\n",
       " CK5                    8.0\n",
       " CD4                   14.0\n",
       " CD20                 254.0,\n",
       " 'HT271B1-S1H6A5_left_05122023':                  threshold\n",
       " channel                   \n",
       " CD8                   10.0\n",
       " Pan-Cytokeratin       15.0\n",
       " Podoplanin            10.0\n",
       " CD68                 254.0\n",
       " CK14                  10.0\n",
       " SMA                   10.0\n",
       " CD3e                  10.0\n",
       " CD45                 254.0\n",
       " CD31                  10.0\n",
       " CK5                    8.0\n",
       " CD4                   14.0\n",
       " CD20                 254.0,\n",
       " 'HT271B1-S1H6A5_right_05122023':                  threshold\n",
       " channel                   \n",
       " CD8                   10.0\n",
       " Pan-Cytokeratin       15.0\n",
       " Podoplanin            10.0\n",
       " CD68                 254.0\n",
       " CK14                  10.0\n",
       " SMA                   10.0\n",
       " CD3e                  10.0\n",
       " CD45                 254.0\n",
       " CD31                  10.0\n",
       " CK5                    8.0\n",
       " CD4                   14.0\n",
       " CD20                 254.0,\n",
       " 'HT308B1-S1H5A4_left_05122023':                  threshold\n",
       " channel                   \n",
       " CD8                   10.0\n",
       " Pan-Cytokeratin       15.0\n",
       " Podoplanin            10.0\n",
       " CD68                 254.0\n",
       " CK14                  10.0\n",
       " SMA                   10.0\n",
       " CD3e                  10.0\n",
       " CD45                 254.0\n",
       " CD31                  10.0\n",
       " CK5                    8.0\n",
       " CD4                   14.0\n",
       " CD20                 254.0,\n",
       " 'HT308B1-S1H5A4_right_05122023':                  threshold\n",
       " channel                   \n",
       " CD8                   10.0\n",
       " Pan-Cytokeratin       15.0\n",
       " Podoplanin            10.0\n",
       " CD68                 254.0\n",
       " CK14                  10.0\n",
       " SMA                   10.0\n",
       " CD3e                  10.0\n",
       " CD45                 254.0\n",
       " CD31                  10.0\n",
       " CK5                    8.0\n",
       " CD4                   14.0\n",
       " CD20                 254.0,\n",
       " 'HT206B1_H1':                  threshold\n",
       " channel                   \n",
       " CD31                4999.0\n",
       " CD4                 4499.0\n",
       " CD20               65534.0\n",
       " CD68                3640.0\n",
       " Pan-Cytokeratin     5075.0\n",
       " CD8                 4597.0\n",
       " CD163               3162.0\n",
       " Podoplanin          4500.0\n",
       " CD3e                3162.0\n",
       " CD45                5075.0\n",
       " SMA                 2683.0\n",
       " FOXP3              65534.0,\n",
       " 'HT206B1_S1H2L4_20221028':                  threshold\n",
       " channel                   \n",
       " CD31                  10.0\n",
       " CD4                   19.0\n",
       " CD8                   19.0\n",
       " Pan-Cytokeratin       50.0\n",
       " Podoplanin            19.0\n",
       " CD3e                  39.0\n",
       " SMA                   10.0\n",
       " CD68                 254.0\n",
       " CD20                  29.0\n",
       " CD163                 19.0\n",
       " FOXP3                 10.0,\n",
       " 'HT206B1_H1_06252022':                  threshold\n",
       " channel                   \n",
       " CD31                2000.0\n",
       " CD4                 5000.0\n",
       " CD20               65534.0\n",
       " CD68                3645.0\n",
       " Pan-Cytokeratin     1500.0\n",
       " CD8                 7999.0\n",
       " CD163               2000.0\n",
       " Podoplanin          5999.0\n",
       " CD3e                2000.0\n",
       " SMA                 3000.0\n",
       " FOXP3               4999.0\n",
       " CK17                2000.0,\n",
       " 'HT110B1_S1H4':                  threshold\n",
       " channel                   \n",
       " CD8                   10.0\n",
       " CD4                  254.0\n",
       " Pan-Cytokeratin       50.0\n",
       " Podoplanin             9.0\n",
       " CK17                  39.0\n",
       " SMA                   19.0\n",
       " CD68                 254.0\n",
       " CD20                  12.0\n",
       " CD3e                  15.0\n",
       " CD163                 19.0,\n",
       " 'HT243B1_S1H4':                  threshold\n",
       " channel                   \n",
       " CD8                   10.0\n",
       " CD4                  254.0\n",
       " Pan-Cytokeratin       50.0\n",
       " Podoplanin             8.0\n",
       " SMA                   15.0\n",
       " CD68                 254.0\n",
       " CD20                   8.0\n",
       " CD3e                  10.0\n",
       " CD163                 19.0,\n",
       " 'HT305B1_S1H1':                  threshold\n",
       " channel                   \n",
       " CD8                   14.0\n",
       " CD4                  254.0\n",
       " Pan-Cytokeratin       50.0\n",
       " Podoplanin            19.0\n",
       " SMA                   15.0\n",
       " CD68                 254.0\n",
       " CD20                  19.0\n",
       " CD3e                  10.0\n",
       " CD163                 14.0,\n",
       " 'HT297B1_H1_08042022':                  threshold\n",
       " channel                   \n",
       " CD31                2000.0\n",
       " CD4                 4999.0\n",
       " CD20               65534.0\n",
       " CD68                3000.0\n",
       " Pan-Cytokeratin     3000.0\n",
       " CD8                 3000.0\n",
       " CD163               1500.0\n",
       " Podoplanin          4000.0\n",
       " CD3e                2000.0\n",
       " SMA                 2000.0\n",
       " FOXP3              65534.0,\n",
       " 'HT323B1_H1_08042022':                  threshold\n",
       " channel                   \n",
       " CD31                3000.0\n",
       " CD4                 6000.0\n",
       " CD20               65534.0\n",
       " CD68                8000.0\n",
       " Pan-Cytokeratin     2500.0\n",
       " CD8                 6000.0\n",
       " CD163               1500.0\n",
       " Podoplanin          8999.0\n",
       " CD3e                2000.0\n",
       " SMA                 4000.0\n",
       " FOXP3               5700.0,\n",
       " 'HT323B1_H1A1':                  threshold\n",
       " channel                   \n",
       " CD31                2000.0\n",
       " CD4                 2999.0\n",
       " CD20               65534.0\n",
       " CD68                1999.0\n",
       " Pan-Cytokeratin     1999.0\n",
       " CD8                 2000.0\n",
       " CD163               1000.0\n",
       " Podoplanin          3499.0\n",
       " CD3e                1750.0\n",
       " CD45                2000.0\n",
       " SMA                 2999.0\n",
       " FOXP3               2999.0\n",
       " CK14                2000.0,\n",
       " 'HT323B1_H1A4':                  threshold\n",
       " channel                   \n",
       " CD31                2000.0\n",
       " CD4                 2999.0\n",
       " CD20               65534.0\n",
       " CD68                2499.0\n",
       " Pan-Cytokeratin     1999.0\n",
       " CD8                 2999.0\n",
       " CD163               1000.0\n",
       " Podoplanin          3999.0\n",
       " CD3e                1750.0\n",
       " CD45                2000.0\n",
       " SMA                 2999.0\n",
       " FOXP3               2999.0\n",
       " CK14                2000.0,\n",
       " 'HT323B1_H3':                  threshold\n",
       " channel                   \n",
       " CD31                4000.0\n",
       " CD4                 4000.0\n",
       " CD20               65534.0\n",
       " CD68                3000.0\n",
       " Pan-Cytokeratin     3000.0\n",
       " CD8                 3000.0\n",
       " CD163               1200.0\n",
       " Podoplanin          5499.0\n",
       " CD3e                3000.0\n",
       " CD45                3000.0\n",
       " SMA                 2000.0\n",
       " FOXP3              65534.0\n",
       " CK14                3000.0,\n",
       " 'HT339B1_H1A1':                  threshold\n",
       " channel                   \n",
       " CD31                1000.0\n",
       " CD4                 1500.0\n",
       " CD20               65534.0\n",
       " CD68                2000.0\n",
       " Pan-Cytokeratin     1250.0\n",
       " CD8                 2000.0\n",
       " Podoplanin          2000.0\n",
       " CD3e                1500.0\n",
       " SMA                 1500.0\n",
       " FOXP3              65534.0\n",
       " CD163               2000.0\n",
       " CK14                2000.0,\n",
       " 'HT339B1_H2A1':                  threshold\n",
       " channel                   \n",
       " CD31                1000.0\n",
       " CD4                 1500.0\n",
       " CD20               65534.0\n",
       " CD68                2000.0\n",
       " Pan-Cytokeratin     1250.0\n",
       " CD8                 2000.0\n",
       " Podoplanin          2000.0\n",
       " CD3e                1500.0\n",
       " SMA                 1500.0\n",
       " FOXP3              65534.0\n",
       " CD163               2000.0\n",
       " CK14                2000.0,\n",
       " 'HT339B1_H4A4':                  threshold\n",
       " channel                   \n",
       " CD31                1000.0\n",
       " CD4                 1500.0\n",
       " CD20               65534.0\n",
       " CD68                2000.0\n",
       " Pan-Cytokeratin     1250.0\n",
       " CD8                 2000.0\n",
       " Podoplanin          2000.0\n",
       " CD3e                1500.0\n",
       " SMA                 1500.0\n",
       " FOXP3              65534.0\n",
       " CD163               2000.0\n",
       " CK14                2000.0,\n",
       " 'HT397B1_H2A2':                  threshold\n",
       " channel                   \n",
       " CD31                1500.0\n",
       " E-cadherin          5000.0\n",
       " CD4                 4000.0\n",
       " CD20               65534.0\n",
       " CD68                4000.0\n",
       " Pan-Cytokeratin     2500.0\n",
       " CD8                 1500.0\n",
       " CD163               1250.0\n",
       " Podoplanin          4000.0\n",
       " CD3e                1500.0\n",
       " CD45                2500.0\n",
       " SMA                 2000.0\n",
       " FOXP3               2500.0\n",
       " CK14                3000.0,\n",
       " 'HT397B1_H3A1':                  threshold\n",
       " channel                   \n",
       " CD31                1500.0\n",
       " E-cadherin          5000.0\n",
       " CD4                 4000.0\n",
       " CD20               65534.0\n",
       " CD68                4000.0\n",
       " Pan-Cytokeratin     2500.0\n",
       " CD8                 1500.0\n",
       " CD163               1250.0\n",
       " Podoplanin          4000.0\n",
       " CD3e                1500.0\n",
       " CD45                2500.0\n",
       " SMA                 2000.0\n",
       " FOXP3               2500.0\n",
       " CK14                3000.0,\n",
       " 'HT480B1_S1H2_R001':                  threshold\n",
       " channel                   \n",
       " CD31                1999.0\n",
       " CD4                 4000.0\n",
       " Pan-Cytokeratin     6000.0\n",
       " Podoplanin          8000.0\n",
       " CD3e                4000.0\n",
       " SMA                 2000.0\n",
       " CK14                2500.0\n",
       " CD20                4000.0\n",
       " CD8                 3499.0\n",
       " CD68                6000.0\n",
       " FOXP3              65534.0,\n",
       " 'HT480B1_S1H2_R002':                  threshold\n",
       " channel                   \n",
       " CD31                1999.0\n",
       " CD4                 4000.0\n",
       " Pan-Cytokeratin     6000.0\n",
       " Podoplanin          8000.0\n",
       " CD3e                4000.0\n",
       " SMA                 2000.0\n",
       " CK14                2500.0\n",
       " CD20                4000.0\n",
       " CD8                 3499.0\n",
       " CD68                6000.0\n",
       " FOXP3              65534.0}"
      ]
     },
     "execution_count": 31,
     "metadata": {},
     "output_type": "execute_result"
    }
   ],
   "source": [
    "sample_to_channel_thresh_pixel = {}\n",
    "for sample, d in thresholds.items():\n",
    "    sample_to_channel_thresh_pixel[sample] = generate_thresh_df(d)\n",
    "sample_to_channel_thresh_pixel"
   ]
  },
  {
   "cell_type": "code",
   "execution_count": 32,
   "id": "601738af",
   "metadata": {
    "hidden": true
   },
   "outputs": [],
   "source": [
    "sample_to_channel_thresh_grid = sample_to_channel_thresh_pixel.copy()"
   ]
  },
  {
   "cell_type": "code",
   "execution_count": 33,
   "id": "8cbdd468",
   "metadata": {
    "hidden": true
   },
   "outputs": [],
   "source": [
    "# sample_to_channel_thresh_pixel = {\n",
    "#     'HT206B1-H1': generate_thresh_df({'E-cadherin': 4000, 'Pan-CK': 4000, 'SMA': 750, 'Podoplanin': 2000, 'MGP': 6000, 'Ki67': 5000}),\n",
    "#     'HT206B1_H1_06252022': generate_thresh_df({'E-cadherin': 4000, 'Pan-CK': 4000, 'SMA': 750, 'Podoplanin': 2000, 'MGP': 6000, 'Ki67': 5000}),\n",
    "#     'HT323B1-H1A1': generate_thresh_df({'E-cadherin': 4000, 'Pan-CK': 4000, 'SMA': 750, 'Podoplanin': 2000, 'MGP': 6000, 'Ki67': 5000}),\n",
    "#     'HT323B1-H1A4': generate_thresh_df({'E-cadherin': 4000, 'Pan-CK': 4000, 'SMA': 750, 'Podoplanin': 2000, 'MGP': 6000, 'Ki67': 5000}),\n",
    "#     'HT323B1-H3': generate_thresh_df({'E-cadherin': 4000, 'Pan-CK': 4000, 'SMA': 750, 'Podoplanin': 2000, 'MGP': 6000, 'Ki67': 5000}),\n",
    "#     'HT397B1-H2A2': generate_thresh_df({'E-cadherin': 4000, 'Pan-CK': 300, 'SMA': 300, 'Podoplanin': 2000, 'MGP': 1000, 'Ki67': 5000}),\n",
    "#     'HT397B1-H3A1': generate_thresh_df({'E-cadherin': 4000, 'Pan-CK': 300, 'SMA': 300, 'Podoplanin': 2000, 'MGP': 1000, 'Ki67': 5000}),\n",
    "# }"
   ]
  },
  {
   "cell_type": "code",
   "execution_count": 34,
   "id": "40b5c0fd",
   "metadata": {
    "hidden": true
   },
   "outputs": [],
   "source": [
    "# sample_to_channel_thresh_grid = {\n",
    "#     'HT206B1-H1': generate_thresh_df({'E-cadherin': 4000, 'Pan-CK': 4000, 'SMA': 750, 'Podoplanin': 2000, 'MGP': 6000, 'Ki67': 5000}),\n",
    "#     'HT206B1_H1_06252022': generate_thresh_df({'E-cadherin': 4000, 'Pan-CK': 4000, 'SMA': 750, 'Podoplanin': 2000, 'MGP': 6000, 'Ki67': 5000}),\n",
    "#     'HT323B1-H1A1': generate_thresh_df({'E-cadherin': 4000, 'Pan-CK': 4000, 'SMA': 750, 'Podoplanin': 2000, 'MGP': 6000, 'Ki67': 5000}),\n",
    "#     'HT323B1-H1A4': generate_thresh_df({'E-cadherin': 4000, 'Pan-CK': 4000, 'SMA': 750, 'Podoplanin': 2000, 'MGP': 6000, 'Ki67': 5000}),\n",
    "#     'HT323B1-H3': generate_thresh_df({'E-cadherin': 4000, 'Pan-CK': 4000, 'SMA': 750, 'Podoplanin': 2000, 'MGP': 6000, 'Ki67': 5000}),\n",
    "#     'HT397B1-H2A2': generate_thresh_df({'E-cadherin': 4000, 'Pan-CK': 300, 'SMA': 300, 'Podoplanin': 2000, 'MGP': 1000, 'Ki67': 5000}),\n",
    "#     'HT397B1-H3A1': generate_thresh_df({'E-cadherin': 4000, 'Pan-CK': 300, 'SMA': 300, 'Podoplanin': 2000, 'MGP': 1000, 'Ki67': 5000}),\n",
    "# }\n",
    "# # sample_to_channel_thresh_grid = {\n",
    "# #     'HT206B1-H1': generate_thresh_df({'SMA': 1500, 'Podoplanin': 5000}),\n",
    "# #     'HT206B1_H1_06252022': generate_thresh_df({'SMA': 1500, 'Podoplanin': 5000}),\n",
    "# #     'HT323B1-H1A1': generate_thresh_df({'SMA': 1500, 'Podoplanin': 5000}),\n",
    "# #     'HT323B1-H1A4': generate_thresh_df({'SMA': 1500, 'Podoplanin': 5000}),\n",
    "# #     'HT323B1-H3': generate_thresh_df({'SMA': 1500, 'Podoplanin': 5000}),\n",
    "# #     'HT397B1-H2A2': generate_thresh_df({'SMA': 1500, 'Podoplanin': 5000}),\n",
    "# #     'HT397B1-H3A1': generate_thresh_df({'SMA': 1500, 'Podoplanin': 5000}),\n",
    "# # }"
   ]
  },
  {
   "cell_type": "code",
   "execution_count": 35,
   "id": "7ac50d68",
   "metadata": {
    "hidden": true
   },
   "outputs": [],
   "source": [
    "# !rm -rf /diskmnt/Projects/Users/estorrs/multiplex_data/analysis/dcis_region_analysis/htan_v1"
   ]
  },
  {
   "cell_type": "code",
   "execution_count": 36,
   "id": "7f04495a",
   "metadata": {
    "hidden": true
   },
   "outputs": [],
   "source": [
    "run_dir = f'/diskmnt/Projects/Users/estorrs/multiplex_data/analysis/dcis_region_analysis_v2/htan_v1'\n",
    "for s in sample_to_feats:\n",
    "    Path(os.path.join(run_dir, f'{s}')).mkdir(parents=True, exist_ok=True)"
   ]
  },
  {
   "cell_type": "code",
   "execution_count": 37,
   "id": "50fa4c8b",
   "metadata": {
    "hidden": true
   },
   "outputs": [
    {
     "data": {
      "text/plain": [
       "'mip generate-region-features --spatial-features /diskmnt/Projects/Users/estorrs/multiplex_data/analysis/dcis_region_analysis_v2/htan_v1/HT110B1_S1H4/inputs/spatial_features.txt --ome-tiff /diskmnt/Projects/Users/estorrs/multiplex_data/codex/htan/brca/HT243B1-S1H4_HT110B1-S1H4_HT305B1-S1H1/level_2/HT110B1-S1H4.ome.tiff --regions-mask /diskmnt/Projects/Users/estorrs/multiplex_data/analysis/dcis_region_analysis_v2/htan_v1/HT110B1_S1H4/inputs/ductal_mask.tif --channel-thresholds-grid /diskmnt/Projects/Users/estorrs/multiplex_data/analysis/dcis_region_analysis_v2/htan_v1/HT110B1_S1H4/inputs/channel_thresholds_grid.txt --channel-thresholds-pixel /diskmnt/Projects/Users/estorrs/multiplex_data/analysis/dcis_region_analysis_v2/htan_v1/HT110B1_S1H4/inputs/channel_thresholds_pixel.txt --output-dir /diskmnt/Projects/Users/estorrs/multiplex_data/analysis/dcis_region_analysis_v2/htan_v1/HT110B1_S1H4/outputs'"
      ]
     },
     "execution_count": 37,
     "metadata": {},
     "output_type": "execute_result"
    }
   ],
   "source": [
    "commands = []\n",
    "for s in sample_to_feats:\n",
    "    directory = os.path.join(run_dir, s, 'inputs')\n",
    "    Path(directory).mkdir(parents=True, exist_ok=True)\n",
    "    shutil.copy(sample_to_feats[s], os.path.join(directory, 'spatial_features.txt'))\n",
    "    shutil.copy(sample_to_mask[s], os.path.join(directory, 'ductal_mask.tif'))\n",
    "#     shutil.copy(sample_to_ome[s], os.path.join(directory, f'{s}.ome.tiff'))\n",
    "    sample_to_channel_thresh_grid[s].to_csv(os.path.join(directory, 'channel_thresholds_grid.txt'), sep='\\t')\n",
    "    sample_to_channel_thresh_pixel[s].to_csv(os.path.join(directory, 'channel_thresholds_pixel.txt'), sep='\\t')\n",
    "    \n",
    "    pieces = [\n",
    "        'mip', 'generate-region-features',\n",
    "        '--spatial-features', os.path.join(directory, 'spatial_features.txt'),\n",
    "        '--ome-tiff', sample_to_ome[s],\n",
    "        '--regions-mask', os.path.join(directory, 'ductal_mask.tif'),\n",
    "        '--channel-thresholds-grid', os.path.join(directory, 'channel_thresholds_grid.txt'),\n",
    "        '--channel-thresholds-pixel', os.path.join(directory, 'channel_thresholds_pixel.txt'),\n",
    "        '--output-dir', os.path.join(run_dir, s, 'outputs'),\n",
    "    ]\n",
    "    cmd = ' '.join(pieces)\n",
    "    commands.append(cmd)\n",
    "commands[0]"
   ]
  },
  {
   "cell_type": "code",
   "execution_count": 38,
   "id": "ffe453b1",
   "metadata": {
    "hidden": true
   },
   "outputs": [],
   "source": [
    "f = open(os.path.join(run_dir, 'run.sh'), 'w')\n",
    "f.write('\\n'.join(commands))\n",
    "f.close()"
   ]
  },
  {
   "cell_type": "markdown",
   "id": "d249d762",
   "metadata": {
    "hidden": true
   },
   "source": [
    "#### Angelo htan"
   ]
  },
  {
   "cell_type": "code",
   "execution_count": 248,
   "id": "1b2db8cc",
   "metadata": {
    "hidden": true
   },
   "outputs": [
    {
     "data": {
      "text/plain": [
       "['/diskmnt/Projects/Users/estorrs/multiplex_data/analysis/brca_dcis_v1/preprocessing/angelo/ome_tiffs/Point2203_pt1072_31606.ome.tiff',\n",
       " '/diskmnt/Projects/Users/estorrs/multiplex_data/analysis/brca_dcis_v1/preprocessing/angelo/ome_tiffs/Point2204_pt1071_31605.ome.tiff',\n",
       " '/diskmnt/Projects/Users/estorrs/multiplex_data/analysis/brca_dcis_v1/preprocessing/angelo/ome_tiffs/Point2206_pt1116_31620.ome.tiff',\n",
       " '/diskmnt/Projects/Users/estorrs/multiplex_data/analysis/brca_dcis_v1/preprocessing/angelo/ome_tiffs/Point2302_pt1046_20671.ome.tiff',\n",
       " '/diskmnt/Projects/Users/estorrs/multiplex_data/analysis/brca_dcis_v1/preprocessing/angelo/ome_tiffs/Point2303_pt1047_20672.ome.tiff',\n",
       " '/diskmnt/Projects/Users/estorrs/multiplex_data/analysis/brca_dcis_v1/preprocessing/angelo/ome_tiffs/Point2304_pt1089_20677.ome.tiff',\n",
       " '/diskmnt/Projects/Users/estorrs/multiplex_data/analysis/brca_dcis_v1/preprocessing/angelo/ome_tiffs/Point2305_pt2000_20689_Normal.ome.tiff',\n",
       " '/diskmnt/Projects/Users/estorrs/multiplex_data/analysis/brca_dcis_v1/preprocessing/angelo/ome_tiffs/Point2306_pt1092_20691.ome.tiff',\n",
       " '/diskmnt/Projects/Users/estorrs/multiplex_data/analysis/brca_dcis_v1/preprocessing/angelo/ome_tiffs/Point2307_pt2001_20680_Normal.ome.tiff',\n",
       " '/diskmnt/Projects/Users/estorrs/multiplex_data/analysis/brca_dcis_v1/preprocessing/angelo/ome_tiffs/Point2309_pt1039_20694.ome.tiff',\n",
       " '/diskmnt/Projects/Users/estorrs/multiplex_data/analysis/brca_dcis_v1/preprocessing/angelo/ome_tiffs/Point2310_pt1052_20696.ome.tiff',\n",
       " '/diskmnt/Projects/Users/estorrs/multiplex_data/analysis/brca_dcis_v1/preprocessing/angelo/ome_tiffs/Point2311_pt1053_20698.ome.tiff',\n",
       " '/diskmnt/Projects/Users/estorrs/multiplex_data/analysis/brca_dcis_v1/preprocessing/angelo/ome_tiffs/Point2312_pt1064_20700.ome.tiff',\n",
       " '/diskmnt/Projects/Users/estorrs/multiplex_data/analysis/brca_dcis_v1/preprocessing/angelo/ome_tiffs/Point2313_pt1094_20702.ome.tiff',\n",
       " '/diskmnt/Projects/Users/estorrs/multiplex_data/analysis/brca_dcis_v1/preprocessing/angelo/ome_tiffs/Point2314_pt2002_20703_Normal.ome.tiff',\n",
       " '/diskmnt/Projects/Users/estorrs/multiplex_data/analysis/brca_dcis_v1/preprocessing/angelo/ome_tiffs/Point2318_pt1054_20706.ome.tiff',\n",
       " '/diskmnt/Projects/Users/estorrs/multiplex_data/analysis/brca_dcis_v1/preprocessing/angelo/ome_tiffs/Point2319_pt1041_20705.ome.tiff',\n",
       " '/diskmnt/Projects/Users/estorrs/multiplex_data/analysis/brca_dcis_v1/preprocessing/angelo/ome_tiffs/Point2320_pt1042_20716.ome.tiff',\n",
       " '/diskmnt/Projects/Users/estorrs/multiplex_data/analysis/brca_dcis_v1/preprocessing/angelo/ome_tiffs/Point2321_pt1043_20717.ome.tiff',\n",
       " '/diskmnt/Projects/Users/estorrs/multiplex_data/analysis/brca_dcis_v1/preprocessing/angelo/ome_tiffs/Point2322_pt1057_20718.ome.tiff',\n",
       " '/diskmnt/Projects/Users/estorrs/multiplex_data/analysis/brca_dcis_v1/preprocessing/angelo/ome_tiffs/Point2324_pt2003_20721_Normal.ome.tiff',\n",
       " '/diskmnt/Projects/Users/estorrs/multiplex_data/analysis/brca_dcis_v1/preprocessing/angelo/ome_tiffs/Point2325_pt1461_20726.ome.tiff',\n",
       " '/diskmnt/Projects/Users/estorrs/multiplex_data/analysis/brca_dcis_v1/preprocessing/angelo/ome_tiffs/Point2326_pt1101_20736.ome.tiff',\n",
       " '/diskmnt/Projects/Users/estorrs/multiplex_data/analysis/brca_dcis_v1/preprocessing/angelo/ome_tiffs/Point2327_pt1100_20735.ome.tiff',\n",
       " '/diskmnt/Projects/Users/estorrs/multiplex_data/analysis/brca_dcis_v1/preprocessing/angelo/ome_tiffs/Point2328_pt1099_20734.ome.tiff',\n",
       " '/diskmnt/Projects/Users/estorrs/multiplex_data/analysis/brca_dcis_v1/preprocessing/angelo/ome_tiffs/Point2331_pt1105_30985.ome.tiff',\n",
       " '/diskmnt/Projects/Users/estorrs/multiplex_data/analysis/brca_dcis_v1/preprocessing/angelo/ome_tiffs/Point3102_pt1157_31646.ome.tiff',\n",
       " '/diskmnt/Projects/Users/estorrs/multiplex_data/analysis/brca_dcis_v1/preprocessing/angelo/ome_tiffs/Point3104_pt1175_31649.ome.tiff',\n",
       " '/diskmnt/Projects/Users/estorrs/multiplex_data/analysis/brca_dcis_v1/preprocessing/angelo/ome_tiffs/Point3105_pt1173_31661.ome.tiff',\n",
       " '/diskmnt/Projects/Users/estorrs/multiplex_data/analysis/brca_dcis_v1/preprocessing/angelo/ome_tiffs/Point3107_pt1188_31663.ome.tiff',\n",
       " '/diskmnt/Projects/Users/estorrs/multiplex_data/analysis/brca_dcis_v1/preprocessing/angelo/ome_tiffs/Point3108_pt1189_31664.ome.tiff',\n",
       " '/diskmnt/Projects/Users/estorrs/multiplex_data/analysis/brca_dcis_v1/preprocessing/angelo/ome_tiffs/Point3109_pt2004_31653_Normal.ome.tiff',\n",
       " '/diskmnt/Projects/Users/estorrs/multiplex_data/analysis/brca_dcis_v1/preprocessing/angelo/ome_tiffs/Point3110_pt1078_31655.ome.tiff',\n",
       " '/diskmnt/Projects/Users/estorrs/multiplex_data/analysis/brca_dcis_v1/preprocessing/angelo/ome_tiffs/Point3111_pt1119_31659.ome.tiff',\n",
       " '/diskmnt/Projects/Users/estorrs/multiplex_data/analysis/brca_dcis_v1/preprocessing/angelo/ome_tiffs/Point3112_pt1165_31672.ome.tiff',\n",
       " '/diskmnt/Projects/Users/estorrs/multiplex_data/analysis/brca_dcis_v1/preprocessing/angelo/ome_tiffs/Point3114_pt1081_31667.ome.tiff',\n",
       " '/diskmnt/Projects/Users/estorrs/multiplex_data/analysis/brca_dcis_v1/preprocessing/angelo/ome_tiffs/Point3115_pt1080_31666.ome.tiff',\n",
       " '/diskmnt/Projects/Users/estorrs/multiplex_data/analysis/brca_dcis_v1/preprocessing/angelo/ome_tiffs/Point3117_pt1082_31677.ome.tiff',\n",
       " '/diskmnt/Projects/Users/estorrs/multiplex_data/analysis/brca_dcis_v1/preprocessing/angelo/ome_tiffs/Point3119_pt1166_31684.ome.tiff',\n",
       " '/diskmnt/Projects/Users/estorrs/multiplex_data/analysis/brca_dcis_v1/preprocessing/angelo/ome_tiffs/Point3120_pt1177_31685.ome.tiff',\n",
       " '/diskmnt/Projects/Users/estorrs/multiplex_data/analysis/brca_dcis_v1/preprocessing/angelo/ome_tiffs/Point3121_pt1211_31686.ome.tiff',\n",
       " '/diskmnt/Projects/Users/estorrs/multiplex_data/analysis/brca_dcis_v1/preprocessing/angelo/ome_tiffs/Point3123_pt1162_31688.ome.tiff',\n",
       " '/diskmnt/Projects/Users/estorrs/multiplex_data/analysis/brca_dcis_v1/preprocessing/angelo/ome_tiffs/Point3125_pt1167_31695.ome.tiff',\n",
       " '/diskmnt/Projects/Users/estorrs/multiplex_data/analysis/brca_dcis_v1/preprocessing/angelo/ome_tiffs/Point3128_pt1085_31690.ome.tiff',\n",
       " '/diskmnt/Projects/Users/estorrs/multiplex_data/analysis/brca_dcis_v1/preprocessing/angelo/ome_tiffs/Point3129_pt1084_31689.ome.tiff',\n",
       " '/diskmnt/Projects/Users/estorrs/multiplex_data/analysis/brca_dcis_v1/preprocessing/angelo/ome_tiffs/Point3201_31724_Tonsil.ome.tiff',\n",
       " '/diskmnt/Projects/Users/estorrs/multiplex_data/analysis/brca_dcis_v1/preprocessing/angelo/ome_tiffs/Point4102_pt2005_30990_Normal.ome.tiff',\n",
       " '/diskmnt/Projects/Users/estorrs/multiplex_data/analysis/brca_dcis_v1/preprocessing/angelo/ome_tiffs/Point4103_pt1173_30993.ome.tiff',\n",
       " '/diskmnt/Projects/Users/estorrs/multiplex_data/analysis/brca_dcis_v1/preprocessing/angelo/ome_tiffs/Point4106_pt1162_30997.ome.tiff',\n",
       " '/diskmnt/Projects/Users/estorrs/multiplex_data/analysis/brca_dcis_v1/preprocessing/angelo/ome_tiffs/Point4114_pt2006_31801_Normal.ome.tiff',\n",
       " '/diskmnt/Projects/Users/estorrs/multiplex_data/analysis/brca_dcis_v1/preprocessing/angelo/ome_tiffs/Point4115_pt1107_31817.ome.tiff',\n",
       " '/diskmnt/Projects/Users/estorrs/multiplex_data/analysis/brca_dcis_v1/preprocessing/angelo/ome_tiffs/Point4116_pt1065_31821.ome.tiff',\n",
       " '/diskmnt/Projects/Users/estorrs/multiplex_data/analysis/brca_dcis_v1/preprocessing/angelo/ome_tiffs/Point4117_pt1143_31822.ome.tiff',\n",
       " '/diskmnt/Projects/Users/estorrs/multiplex_data/analysis/brca_dcis_v1/preprocessing/angelo/ome_tiffs/Point4118_pt2007_31824_Normal.ome.tiff',\n",
       " '/diskmnt/Projects/Users/estorrs/multiplex_data/analysis/brca_dcis_v1/preprocessing/angelo/ome_tiffs/Point4120_pt1153_31832.ome.tiff',\n",
       " '/diskmnt/Projects/Users/estorrs/multiplex_data/analysis/brca_dcis_v1/preprocessing/angelo/ome_tiffs/Point4127_pt1052_31842.ome.tiff',\n",
       " '/diskmnt/Projects/Users/estorrs/multiplex_data/analysis/brca_dcis_v1/preprocessing/angelo/ome_tiffs/Point4128_pt1064_31843.ome.tiff',\n",
       " '/diskmnt/Projects/Users/estorrs/multiplex_data/analysis/brca_dcis_v1/preprocessing/angelo/ome_tiffs/Point4130_pt1057_31848.ome.tiff',\n",
       " '/diskmnt/Projects/Users/estorrs/multiplex_data/analysis/brca_dcis_v1/preprocessing/angelo/ome_tiffs/Point4132_pt1026_31856.ome.tiff',\n",
       " '/diskmnt/Projects/Users/estorrs/multiplex_data/analysis/brca_dcis_v1/preprocessing/angelo/ome_tiffs/Point4133_pt1027_31855.ome.tiff',\n",
       " '/diskmnt/Projects/Users/estorrs/multiplex_data/analysis/brca_dcis_v1/preprocessing/angelo/ome_tiffs/Point4136_pt1058_31850.ome.tiff',\n",
       " '/diskmnt/Projects/Users/estorrs/multiplex_data/analysis/brca_dcis_v1/preprocessing/angelo/ome_tiffs/Point4142_pt2008_Normal.ome.tiff',\n",
       " '/diskmnt/Projects/Users/estorrs/multiplex_data/analysis/brca_dcis_v1/preprocessing/angelo/ome_tiffs/Point4410_pt1181_31721.ome.tiff',\n",
       " '/diskmnt/Projects/Users/estorrs/multiplex_data/analysis/brca_dcis_v1/preprocessing/angelo/ome_tiffs/Point4411_pt1180_31720.ome.tiff',\n",
       " '/diskmnt/Projects/Users/estorrs/multiplex_data/analysis/brca_dcis_v1/preprocessing/angelo/ome_tiffs/Point5202_pt1279_20662.ome.tiff',\n",
       " '/diskmnt/Projects/Users/estorrs/multiplex_data/analysis/brca_dcis_v1/preprocessing/angelo/ome_tiffs/Point5302_pt1070_31594.ome.tiff',\n",
       " '/diskmnt/Projects/Users/estorrs/multiplex_data/analysis/brca_dcis_v1/preprocessing/angelo/ome_tiffs/Point5303_pt1153_31614.ome.tiff',\n",
       " '/diskmnt/Projects/Users/estorrs/multiplex_data/analysis/brca_dcis_v1/preprocessing/angelo/ome_tiffs/Point5304_pt1152_31613.ome.tiff',\n",
       " '/diskmnt/Projects/Users/estorrs/multiplex_data/analysis/brca_dcis_v1/preprocessing/angelo/ome_tiffs/Point5305_pt1117_31627.ome.tiff',\n",
       " '/diskmnt/Projects/Users/estorrs/multiplex_data/analysis/brca_dcis_v1/preprocessing/angelo/ome_tiffs/Point5306_pt1132_31624.ome.tiff',\n",
       " '/diskmnt/Projects/Users/estorrs/multiplex_data/analysis/brca_dcis_v1/preprocessing/angelo/ome_tiffs/Point5308_pt1074_31629.ome.tiff',\n",
       " '/diskmnt/Projects/Users/estorrs/multiplex_data/analysis/brca_dcis_v1/preprocessing/angelo/ome_tiffs/Point5309_pt1134_31636.ome.tiff',\n",
       " '/diskmnt/Projects/Users/estorrs/multiplex_data/analysis/brca_dcis_v1/preprocessing/angelo/ome_tiffs/Point5310_pt1174_31638.ome.tiff',\n",
       " '/diskmnt/Projects/Users/estorrs/multiplex_data/analysis/brca_dcis_v1/preprocessing/angelo/ome_tiffs/Point5311_31640_Tonsil.ome.tiff',\n",
       " '/diskmnt/Projects/Users/estorrs/multiplex_data/analysis/brca_dcis_v1/preprocessing/angelo/ome_tiffs/Point6102_pt1019_20648.ome.tiff',\n",
       " '/diskmnt/Projects/Users/estorrs/multiplex_data/analysis/brca_dcis_v1/preprocessing/angelo/ome_tiffs/Point6103_pt1008_20624.ome.tiff',\n",
       " '/diskmnt/Projects/Users/estorrs/multiplex_data/analysis/brca_dcis_v1/preprocessing/angelo/ome_tiffs/Point6201_pt1027_20597.ome.tiff',\n",
       " '/diskmnt/Projects/Users/estorrs/multiplex_data/analysis/brca_dcis_v1/preprocessing/angelo/ome_tiffs/Point6202_pt1027_20594.ome.tiff',\n",
       " '/diskmnt/Projects/Users/estorrs/multiplex_data/analysis/brca_dcis_v1/preprocessing/angelo/ome_tiffs/Point6203_pt1107_31568.ome.tiff',\n",
       " '/diskmnt/Projects/Users/estorrs/multiplex_data/analysis/brca_dcis_v1/preprocessing/angelo/ome_tiffs/Point6204_pt1145_31580.ome.tiff',\n",
       " '/diskmnt/Projects/Users/estorrs/multiplex_data/analysis/brca_dcis_v1/preprocessing/angelo/ome_tiffs/Point6206_pt1197_31571.ome.tiff']"
      ]
     },
     "execution_count": 248,
     "metadata": {},
     "output_type": "execute_result"
    }
   ],
   "source": [
    "ome_fps = sorted(listfiles('/diskmnt/Projects/Users/estorrs/multiplex_data/analysis/brca_dcis_v1/preprocessing/angelo/ome_tiffs/',\n",
    "                         regex='ome.tiff$'))\n",
    "ome_fps"
   ]
  },
  {
   "cell_type": "code",
   "execution_count": 249,
   "id": "10d03556",
   "metadata": {
    "hidden": true
   },
   "outputs": [
    {
     "data": {
      "text/plain": [
       "['/diskmnt/Projects/Users/estorrs/multiplex_data/analysis/brca_dcis_v1/preprocessing/angelo/region_mask_final/Point2203_pt1072_31606.tif',\n",
       " '/diskmnt/Projects/Users/estorrs/multiplex_data/analysis/brca_dcis_v1/preprocessing/angelo/region_mask_final/Point2204_pt1071_31605.tif',\n",
       " '/diskmnt/Projects/Users/estorrs/multiplex_data/analysis/brca_dcis_v1/preprocessing/angelo/region_mask_final/Point2206_pt1116_31620.tif',\n",
       " '/diskmnt/Projects/Users/estorrs/multiplex_data/analysis/brca_dcis_v1/preprocessing/angelo/region_mask_final/Point2302_pt1046_20671.tif',\n",
       " '/diskmnt/Projects/Users/estorrs/multiplex_data/analysis/brca_dcis_v1/preprocessing/angelo/region_mask_final/Point2303_pt1047_20672.tif',\n",
       " '/diskmnt/Projects/Users/estorrs/multiplex_data/analysis/brca_dcis_v1/preprocessing/angelo/region_mask_final/Point2304_pt1089_20677.tif',\n",
       " '/diskmnt/Projects/Users/estorrs/multiplex_data/analysis/brca_dcis_v1/preprocessing/angelo/region_mask_final/Point2305_pt2000_20689_Normal.tif',\n",
       " '/diskmnt/Projects/Users/estorrs/multiplex_data/analysis/brca_dcis_v1/preprocessing/angelo/region_mask_final/Point2306_pt1092_20691.tif',\n",
       " '/diskmnt/Projects/Users/estorrs/multiplex_data/analysis/brca_dcis_v1/preprocessing/angelo/region_mask_final/Point2307_pt2001_20680_Normal.tif',\n",
       " '/diskmnt/Projects/Users/estorrs/multiplex_data/analysis/brca_dcis_v1/preprocessing/angelo/region_mask_final/Point2309_pt1039_20694.tif',\n",
       " '/diskmnt/Projects/Users/estorrs/multiplex_data/analysis/brca_dcis_v1/preprocessing/angelo/region_mask_final/Point2310_pt1052_20696.tif',\n",
       " '/diskmnt/Projects/Users/estorrs/multiplex_data/analysis/brca_dcis_v1/preprocessing/angelo/region_mask_final/Point2311_pt1053_20698.tif',\n",
       " '/diskmnt/Projects/Users/estorrs/multiplex_data/analysis/brca_dcis_v1/preprocessing/angelo/region_mask_final/Point2312_pt1064_20700.tif',\n",
       " '/diskmnt/Projects/Users/estorrs/multiplex_data/analysis/brca_dcis_v1/preprocessing/angelo/region_mask_final/Point2313_pt1094_20702.tif',\n",
       " '/diskmnt/Projects/Users/estorrs/multiplex_data/analysis/brca_dcis_v1/preprocessing/angelo/region_mask_final/Point2314_pt2002_20703_Normal.tif',\n",
       " '/diskmnt/Projects/Users/estorrs/multiplex_data/analysis/brca_dcis_v1/preprocessing/angelo/region_mask_final/Point2318_pt1054_20706.tif',\n",
       " '/diskmnt/Projects/Users/estorrs/multiplex_data/analysis/brca_dcis_v1/preprocessing/angelo/region_mask_final/Point2319_pt1041_20705.tif',\n",
       " '/diskmnt/Projects/Users/estorrs/multiplex_data/analysis/brca_dcis_v1/preprocessing/angelo/region_mask_final/Point2320_pt1042_20716.tif',\n",
       " '/diskmnt/Projects/Users/estorrs/multiplex_data/analysis/brca_dcis_v1/preprocessing/angelo/region_mask_final/Point2321_pt1043_20717.tif',\n",
       " '/diskmnt/Projects/Users/estorrs/multiplex_data/analysis/brca_dcis_v1/preprocessing/angelo/region_mask_final/Point2322_pt1057_20718.tif',\n",
       " '/diskmnt/Projects/Users/estorrs/multiplex_data/analysis/brca_dcis_v1/preprocessing/angelo/region_mask_final/Point2324_pt2003_20721_Normal.tif',\n",
       " '/diskmnt/Projects/Users/estorrs/multiplex_data/analysis/brca_dcis_v1/preprocessing/angelo/region_mask_final/Point2325_pt1461_20726.tif',\n",
       " '/diskmnt/Projects/Users/estorrs/multiplex_data/analysis/brca_dcis_v1/preprocessing/angelo/region_mask_final/Point2326_pt1101_20736.tif',\n",
       " '/diskmnt/Projects/Users/estorrs/multiplex_data/analysis/brca_dcis_v1/preprocessing/angelo/region_mask_final/Point2327_pt1100_20735.tif',\n",
       " '/diskmnt/Projects/Users/estorrs/multiplex_data/analysis/brca_dcis_v1/preprocessing/angelo/region_mask_final/Point2328_pt1099_20734.tif',\n",
       " '/diskmnt/Projects/Users/estorrs/multiplex_data/analysis/brca_dcis_v1/preprocessing/angelo/region_mask_final/Point2331_pt1105_30985.tif',\n",
       " '/diskmnt/Projects/Users/estorrs/multiplex_data/analysis/brca_dcis_v1/preprocessing/angelo/region_mask_final/Point3102_pt1157_31646.tif',\n",
       " '/diskmnt/Projects/Users/estorrs/multiplex_data/analysis/brca_dcis_v1/preprocessing/angelo/region_mask_final/Point3104_pt1175_31649.tif',\n",
       " '/diskmnt/Projects/Users/estorrs/multiplex_data/analysis/brca_dcis_v1/preprocessing/angelo/region_mask_final/Point3105_pt1173_31661.tif',\n",
       " '/diskmnt/Projects/Users/estorrs/multiplex_data/analysis/brca_dcis_v1/preprocessing/angelo/region_mask_final/Point3107_pt1188_31663.tif',\n",
       " '/diskmnt/Projects/Users/estorrs/multiplex_data/analysis/brca_dcis_v1/preprocessing/angelo/region_mask_final/Point3108_pt1189_31664.tif',\n",
       " '/diskmnt/Projects/Users/estorrs/multiplex_data/analysis/brca_dcis_v1/preprocessing/angelo/region_mask_final/Point3109_pt2004_31653_Normal.tif',\n",
       " '/diskmnt/Projects/Users/estorrs/multiplex_data/analysis/brca_dcis_v1/preprocessing/angelo/region_mask_final/Point3110_pt1078_31655.tif',\n",
       " '/diskmnt/Projects/Users/estorrs/multiplex_data/analysis/brca_dcis_v1/preprocessing/angelo/region_mask_final/Point3111_pt1119_31659.tif',\n",
       " '/diskmnt/Projects/Users/estorrs/multiplex_data/analysis/brca_dcis_v1/preprocessing/angelo/region_mask_final/Point3112_pt1165_31672.tif',\n",
       " '/diskmnt/Projects/Users/estorrs/multiplex_data/analysis/brca_dcis_v1/preprocessing/angelo/region_mask_final/Point3114_pt1081_31667.tif',\n",
       " '/diskmnt/Projects/Users/estorrs/multiplex_data/analysis/brca_dcis_v1/preprocessing/angelo/region_mask_final/Point3115_pt1080_31666.tif',\n",
       " '/diskmnt/Projects/Users/estorrs/multiplex_data/analysis/brca_dcis_v1/preprocessing/angelo/region_mask_final/Point3117_pt1082_31677.tif',\n",
       " '/diskmnt/Projects/Users/estorrs/multiplex_data/analysis/brca_dcis_v1/preprocessing/angelo/region_mask_final/Point3119_pt1166_31684.tif',\n",
       " '/diskmnt/Projects/Users/estorrs/multiplex_data/analysis/brca_dcis_v1/preprocessing/angelo/region_mask_final/Point3120_pt1177_31685.tif',\n",
       " '/diskmnt/Projects/Users/estorrs/multiplex_data/analysis/brca_dcis_v1/preprocessing/angelo/region_mask_final/Point3121_pt1211_31686.tif',\n",
       " '/diskmnt/Projects/Users/estorrs/multiplex_data/analysis/brca_dcis_v1/preprocessing/angelo/region_mask_final/Point3123_pt1162_31688.tif',\n",
       " '/diskmnt/Projects/Users/estorrs/multiplex_data/analysis/brca_dcis_v1/preprocessing/angelo/region_mask_final/Point3125_pt1167_31695.tif',\n",
       " '/diskmnt/Projects/Users/estorrs/multiplex_data/analysis/brca_dcis_v1/preprocessing/angelo/region_mask_final/Point3128_pt1085_31690.tif',\n",
       " '/diskmnt/Projects/Users/estorrs/multiplex_data/analysis/brca_dcis_v1/preprocessing/angelo/region_mask_final/Point3129_pt1084_31689.tif',\n",
       " '/diskmnt/Projects/Users/estorrs/multiplex_data/analysis/brca_dcis_v1/preprocessing/angelo/region_mask_final/Point3201_31724_Tonsil.tif',\n",
       " '/diskmnt/Projects/Users/estorrs/multiplex_data/analysis/brca_dcis_v1/preprocessing/angelo/region_mask_final/Point4102_pt2005_30990_Normal.tif',\n",
       " '/diskmnt/Projects/Users/estorrs/multiplex_data/analysis/brca_dcis_v1/preprocessing/angelo/region_mask_final/Point4103_pt1173_30993.tif',\n",
       " '/diskmnt/Projects/Users/estorrs/multiplex_data/analysis/brca_dcis_v1/preprocessing/angelo/region_mask_final/Point4106_pt1162_30997.tif',\n",
       " '/diskmnt/Projects/Users/estorrs/multiplex_data/analysis/brca_dcis_v1/preprocessing/angelo/region_mask_final/Point4114_pt2006_31801_Normal.tif',\n",
       " '/diskmnt/Projects/Users/estorrs/multiplex_data/analysis/brca_dcis_v1/preprocessing/angelo/region_mask_final/Point4115_pt1107_31817.tif',\n",
       " '/diskmnt/Projects/Users/estorrs/multiplex_data/analysis/brca_dcis_v1/preprocessing/angelo/region_mask_final/Point4116_pt1065_31821.tif',\n",
       " '/diskmnt/Projects/Users/estorrs/multiplex_data/analysis/brca_dcis_v1/preprocessing/angelo/region_mask_final/Point4117_pt1143_31822.tif',\n",
       " '/diskmnt/Projects/Users/estorrs/multiplex_data/analysis/brca_dcis_v1/preprocessing/angelo/region_mask_final/Point4118_pt2007_31824_Normal.tif',\n",
       " '/diskmnt/Projects/Users/estorrs/multiplex_data/analysis/brca_dcis_v1/preprocessing/angelo/region_mask_final/Point4120_pt1153_31832.tif',\n",
       " '/diskmnt/Projects/Users/estorrs/multiplex_data/analysis/brca_dcis_v1/preprocessing/angelo/region_mask_final/Point4127_pt1052_31842.tif',\n",
       " '/diskmnt/Projects/Users/estorrs/multiplex_data/analysis/brca_dcis_v1/preprocessing/angelo/region_mask_final/Point4128_pt1064_31843.tif',\n",
       " '/diskmnt/Projects/Users/estorrs/multiplex_data/analysis/brca_dcis_v1/preprocessing/angelo/region_mask_final/Point4130_pt1057_31848.tif',\n",
       " '/diskmnt/Projects/Users/estorrs/multiplex_data/analysis/brca_dcis_v1/preprocessing/angelo/region_mask_final/Point4132_pt1026_31856.tif',\n",
       " '/diskmnt/Projects/Users/estorrs/multiplex_data/analysis/brca_dcis_v1/preprocessing/angelo/region_mask_final/Point4133_pt1027_31855.tif',\n",
       " '/diskmnt/Projects/Users/estorrs/multiplex_data/analysis/brca_dcis_v1/preprocessing/angelo/region_mask_final/Point4136_pt1058_31850.tif',\n",
       " '/diskmnt/Projects/Users/estorrs/multiplex_data/analysis/brca_dcis_v1/preprocessing/angelo/region_mask_final/Point4142_pt2008_Normal.tif',\n",
       " '/diskmnt/Projects/Users/estorrs/multiplex_data/analysis/brca_dcis_v1/preprocessing/angelo/region_mask_final/Point4410_pt1181_31721.tif',\n",
       " '/diskmnt/Projects/Users/estorrs/multiplex_data/analysis/brca_dcis_v1/preprocessing/angelo/region_mask_final/Point4411_pt1180_31720.tif',\n",
       " '/diskmnt/Projects/Users/estorrs/multiplex_data/analysis/brca_dcis_v1/preprocessing/angelo/region_mask_final/Point5202_pt1279_20662.tif',\n",
       " '/diskmnt/Projects/Users/estorrs/multiplex_data/analysis/brca_dcis_v1/preprocessing/angelo/region_mask_final/Point5302_pt1070_31594.tif',\n",
       " '/diskmnt/Projects/Users/estorrs/multiplex_data/analysis/brca_dcis_v1/preprocessing/angelo/region_mask_final/Point5303_pt1153_31614.tif',\n",
       " '/diskmnt/Projects/Users/estorrs/multiplex_data/analysis/brca_dcis_v1/preprocessing/angelo/region_mask_final/Point5304_pt1152_31613.tif',\n",
       " '/diskmnt/Projects/Users/estorrs/multiplex_data/analysis/brca_dcis_v1/preprocessing/angelo/region_mask_final/Point5305_pt1117_31627.tif',\n",
       " '/diskmnt/Projects/Users/estorrs/multiplex_data/analysis/brca_dcis_v1/preprocessing/angelo/region_mask_final/Point5306_pt1132_31624.tif',\n",
       " '/diskmnt/Projects/Users/estorrs/multiplex_data/analysis/brca_dcis_v1/preprocessing/angelo/region_mask_final/Point5308_pt1074_31629.tif',\n",
       " '/diskmnt/Projects/Users/estorrs/multiplex_data/analysis/brca_dcis_v1/preprocessing/angelo/region_mask_final/Point5309_pt1134_31636.tif',\n",
       " '/diskmnt/Projects/Users/estorrs/multiplex_data/analysis/brca_dcis_v1/preprocessing/angelo/region_mask_final/Point5310_pt1174_31638.tif',\n",
       " '/diskmnt/Projects/Users/estorrs/multiplex_data/analysis/brca_dcis_v1/preprocessing/angelo/region_mask_final/Point5311_31640_Tonsil.tif',\n",
       " '/diskmnt/Projects/Users/estorrs/multiplex_data/analysis/brca_dcis_v1/preprocessing/angelo/region_mask_final/Point6102_pt1019_20648.tif',\n",
       " '/diskmnt/Projects/Users/estorrs/multiplex_data/analysis/brca_dcis_v1/preprocessing/angelo/region_mask_final/Point6103_pt1008_20624.tif',\n",
       " '/diskmnt/Projects/Users/estorrs/multiplex_data/analysis/brca_dcis_v1/preprocessing/angelo/region_mask_final/Point6201_pt1027_20597.tif',\n",
       " '/diskmnt/Projects/Users/estorrs/multiplex_data/analysis/brca_dcis_v1/preprocessing/angelo/region_mask_final/Point6202_pt1027_20594.tif',\n",
       " '/diskmnt/Projects/Users/estorrs/multiplex_data/analysis/brca_dcis_v1/preprocessing/angelo/region_mask_final/Point6203_pt1107_31568.tif',\n",
       " '/diskmnt/Projects/Users/estorrs/multiplex_data/analysis/brca_dcis_v1/preprocessing/angelo/region_mask_final/Point6204_pt1145_31580.tif',\n",
       " '/diskmnt/Projects/Users/estorrs/multiplex_data/analysis/brca_dcis_v1/preprocessing/angelo/region_mask_final/Point6206_pt1197_31571.tif']"
      ]
     },
     "execution_count": 249,
     "metadata": {},
     "output_type": "execute_result"
    }
   ],
   "source": [
    "mask_fps = sorted(listfiles('/diskmnt/Projects/Users/estorrs/multiplex_data/analysis/brca_dcis_v1/preprocessing/angelo/region_mask_final/',\n",
    "                         regex='tif$'))\n",
    "mask_fps"
   ]
  },
  {
   "cell_type": "code",
   "execution_count": 250,
   "id": "50de9911",
   "metadata": {
    "hidden": true
   },
   "outputs": [
    {
     "data": {
      "text/plain": [
       "['/diskmnt/Projects/Users/estorrs/multiplex_data/analysis/brca_dcis_v1/preprocessing/angelo/spatial_features/Point2203.txt',\n",
       " '/diskmnt/Projects/Users/estorrs/multiplex_data/analysis/brca_dcis_v1/preprocessing/angelo/spatial_features/Point2204.txt',\n",
       " '/diskmnt/Projects/Users/estorrs/multiplex_data/analysis/brca_dcis_v1/preprocessing/angelo/spatial_features/Point2206.txt',\n",
       " '/diskmnt/Projects/Users/estorrs/multiplex_data/analysis/brca_dcis_v1/preprocessing/angelo/spatial_features/Point2302.txt',\n",
       " '/diskmnt/Projects/Users/estorrs/multiplex_data/analysis/brca_dcis_v1/preprocessing/angelo/spatial_features/Point2303.txt',\n",
       " '/diskmnt/Projects/Users/estorrs/multiplex_data/analysis/brca_dcis_v1/preprocessing/angelo/spatial_features/Point2304.txt',\n",
       " '/diskmnt/Projects/Users/estorrs/multiplex_data/analysis/brca_dcis_v1/preprocessing/angelo/spatial_features/Point2305.txt',\n",
       " '/diskmnt/Projects/Users/estorrs/multiplex_data/analysis/brca_dcis_v1/preprocessing/angelo/spatial_features/Point2306.txt',\n",
       " '/diskmnt/Projects/Users/estorrs/multiplex_data/analysis/brca_dcis_v1/preprocessing/angelo/spatial_features/Point2307.txt',\n",
       " '/diskmnt/Projects/Users/estorrs/multiplex_data/analysis/brca_dcis_v1/preprocessing/angelo/spatial_features/Point2309.txt',\n",
       " '/diskmnt/Projects/Users/estorrs/multiplex_data/analysis/brca_dcis_v1/preprocessing/angelo/spatial_features/Point2310.txt',\n",
       " '/diskmnt/Projects/Users/estorrs/multiplex_data/analysis/brca_dcis_v1/preprocessing/angelo/spatial_features/Point2311.txt',\n",
       " '/diskmnt/Projects/Users/estorrs/multiplex_data/analysis/brca_dcis_v1/preprocessing/angelo/spatial_features/Point2312.txt',\n",
       " '/diskmnt/Projects/Users/estorrs/multiplex_data/analysis/brca_dcis_v1/preprocessing/angelo/spatial_features/Point2313.txt',\n",
       " '/diskmnt/Projects/Users/estorrs/multiplex_data/analysis/brca_dcis_v1/preprocessing/angelo/spatial_features/Point2314.txt',\n",
       " '/diskmnt/Projects/Users/estorrs/multiplex_data/analysis/brca_dcis_v1/preprocessing/angelo/spatial_features/Point2318.txt',\n",
       " '/diskmnt/Projects/Users/estorrs/multiplex_data/analysis/brca_dcis_v1/preprocessing/angelo/spatial_features/Point2319.txt',\n",
       " '/diskmnt/Projects/Users/estorrs/multiplex_data/analysis/brca_dcis_v1/preprocessing/angelo/spatial_features/Point2320.txt',\n",
       " '/diskmnt/Projects/Users/estorrs/multiplex_data/analysis/brca_dcis_v1/preprocessing/angelo/spatial_features/Point2321.txt',\n",
       " '/diskmnt/Projects/Users/estorrs/multiplex_data/analysis/brca_dcis_v1/preprocessing/angelo/spatial_features/Point2322.txt',\n",
       " '/diskmnt/Projects/Users/estorrs/multiplex_data/analysis/brca_dcis_v1/preprocessing/angelo/spatial_features/Point2324.txt',\n",
       " '/diskmnt/Projects/Users/estorrs/multiplex_data/analysis/brca_dcis_v1/preprocessing/angelo/spatial_features/Point2325.txt',\n",
       " '/diskmnt/Projects/Users/estorrs/multiplex_data/analysis/brca_dcis_v1/preprocessing/angelo/spatial_features/Point2326.txt',\n",
       " '/diskmnt/Projects/Users/estorrs/multiplex_data/analysis/brca_dcis_v1/preprocessing/angelo/spatial_features/Point2327.txt',\n",
       " '/diskmnt/Projects/Users/estorrs/multiplex_data/analysis/brca_dcis_v1/preprocessing/angelo/spatial_features/Point2328.txt',\n",
       " '/diskmnt/Projects/Users/estorrs/multiplex_data/analysis/brca_dcis_v1/preprocessing/angelo/spatial_features/Point2331.txt',\n",
       " '/diskmnt/Projects/Users/estorrs/multiplex_data/analysis/brca_dcis_v1/preprocessing/angelo/spatial_features/Point3102.txt',\n",
       " '/diskmnt/Projects/Users/estorrs/multiplex_data/analysis/brca_dcis_v1/preprocessing/angelo/spatial_features/Point3104.txt',\n",
       " '/diskmnt/Projects/Users/estorrs/multiplex_data/analysis/brca_dcis_v1/preprocessing/angelo/spatial_features/Point3105.txt',\n",
       " '/diskmnt/Projects/Users/estorrs/multiplex_data/analysis/brca_dcis_v1/preprocessing/angelo/spatial_features/Point3107.txt',\n",
       " '/diskmnt/Projects/Users/estorrs/multiplex_data/analysis/brca_dcis_v1/preprocessing/angelo/spatial_features/Point3108.txt',\n",
       " '/diskmnt/Projects/Users/estorrs/multiplex_data/analysis/brca_dcis_v1/preprocessing/angelo/spatial_features/Point3109.txt',\n",
       " '/diskmnt/Projects/Users/estorrs/multiplex_data/analysis/brca_dcis_v1/preprocessing/angelo/spatial_features/Point3110.txt',\n",
       " '/diskmnt/Projects/Users/estorrs/multiplex_data/analysis/brca_dcis_v1/preprocessing/angelo/spatial_features/Point3111.txt',\n",
       " '/diskmnt/Projects/Users/estorrs/multiplex_data/analysis/brca_dcis_v1/preprocessing/angelo/spatial_features/Point3112.txt',\n",
       " '/diskmnt/Projects/Users/estorrs/multiplex_data/analysis/brca_dcis_v1/preprocessing/angelo/spatial_features/Point3114.txt',\n",
       " '/diskmnt/Projects/Users/estorrs/multiplex_data/analysis/brca_dcis_v1/preprocessing/angelo/spatial_features/Point3115.txt',\n",
       " '/diskmnt/Projects/Users/estorrs/multiplex_data/analysis/brca_dcis_v1/preprocessing/angelo/spatial_features/Point3117.txt',\n",
       " '/diskmnt/Projects/Users/estorrs/multiplex_data/analysis/brca_dcis_v1/preprocessing/angelo/spatial_features/Point3119.txt',\n",
       " '/diskmnt/Projects/Users/estorrs/multiplex_data/analysis/brca_dcis_v1/preprocessing/angelo/spatial_features/Point3120.txt',\n",
       " '/diskmnt/Projects/Users/estorrs/multiplex_data/analysis/brca_dcis_v1/preprocessing/angelo/spatial_features/Point3121.txt',\n",
       " '/diskmnt/Projects/Users/estorrs/multiplex_data/analysis/brca_dcis_v1/preprocessing/angelo/spatial_features/Point3123.txt',\n",
       " '/diskmnt/Projects/Users/estorrs/multiplex_data/analysis/brca_dcis_v1/preprocessing/angelo/spatial_features/Point3125.txt',\n",
       " '/diskmnt/Projects/Users/estorrs/multiplex_data/analysis/brca_dcis_v1/preprocessing/angelo/spatial_features/Point3128.txt',\n",
       " '/diskmnt/Projects/Users/estorrs/multiplex_data/analysis/brca_dcis_v1/preprocessing/angelo/spatial_features/Point3129.txt',\n",
       " '/diskmnt/Projects/Users/estorrs/multiplex_data/analysis/brca_dcis_v1/preprocessing/angelo/spatial_features/Point4102.txt',\n",
       " '/diskmnt/Projects/Users/estorrs/multiplex_data/analysis/brca_dcis_v1/preprocessing/angelo/spatial_features/Point4103.txt',\n",
       " '/diskmnt/Projects/Users/estorrs/multiplex_data/analysis/brca_dcis_v1/preprocessing/angelo/spatial_features/Point4106.txt',\n",
       " '/diskmnt/Projects/Users/estorrs/multiplex_data/analysis/brca_dcis_v1/preprocessing/angelo/spatial_features/Point4114.txt',\n",
       " '/diskmnt/Projects/Users/estorrs/multiplex_data/analysis/brca_dcis_v1/preprocessing/angelo/spatial_features/Point4115.txt',\n",
       " '/diskmnt/Projects/Users/estorrs/multiplex_data/analysis/brca_dcis_v1/preprocessing/angelo/spatial_features/Point4116.txt',\n",
       " '/diskmnt/Projects/Users/estorrs/multiplex_data/analysis/brca_dcis_v1/preprocessing/angelo/spatial_features/Point4117.txt',\n",
       " '/diskmnt/Projects/Users/estorrs/multiplex_data/analysis/brca_dcis_v1/preprocessing/angelo/spatial_features/Point4118.txt',\n",
       " '/diskmnt/Projects/Users/estorrs/multiplex_data/analysis/brca_dcis_v1/preprocessing/angelo/spatial_features/Point4120.txt',\n",
       " '/diskmnt/Projects/Users/estorrs/multiplex_data/analysis/brca_dcis_v1/preprocessing/angelo/spatial_features/Point4127.txt',\n",
       " '/diskmnt/Projects/Users/estorrs/multiplex_data/analysis/brca_dcis_v1/preprocessing/angelo/spatial_features/Point4128.txt',\n",
       " '/diskmnt/Projects/Users/estorrs/multiplex_data/analysis/brca_dcis_v1/preprocessing/angelo/spatial_features/Point4130.txt',\n",
       " '/diskmnt/Projects/Users/estorrs/multiplex_data/analysis/brca_dcis_v1/preprocessing/angelo/spatial_features/Point4132.txt',\n",
       " '/diskmnt/Projects/Users/estorrs/multiplex_data/analysis/brca_dcis_v1/preprocessing/angelo/spatial_features/Point4133.txt',\n",
       " '/diskmnt/Projects/Users/estorrs/multiplex_data/analysis/brca_dcis_v1/preprocessing/angelo/spatial_features/Point4136.txt',\n",
       " '/diskmnt/Projects/Users/estorrs/multiplex_data/analysis/brca_dcis_v1/preprocessing/angelo/spatial_features/Point4142.txt',\n",
       " '/diskmnt/Projects/Users/estorrs/multiplex_data/analysis/brca_dcis_v1/preprocessing/angelo/spatial_features/Point4410.txt',\n",
       " '/diskmnt/Projects/Users/estorrs/multiplex_data/analysis/brca_dcis_v1/preprocessing/angelo/spatial_features/Point4411.txt',\n",
       " '/diskmnt/Projects/Users/estorrs/multiplex_data/analysis/brca_dcis_v1/preprocessing/angelo/spatial_features/Point5202.txt',\n",
       " '/diskmnt/Projects/Users/estorrs/multiplex_data/analysis/brca_dcis_v1/preprocessing/angelo/spatial_features/Point5302.txt',\n",
       " '/diskmnt/Projects/Users/estorrs/multiplex_data/analysis/brca_dcis_v1/preprocessing/angelo/spatial_features/Point5303.txt',\n",
       " '/diskmnt/Projects/Users/estorrs/multiplex_data/analysis/brca_dcis_v1/preprocessing/angelo/spatial_features/Point5304.txt',\n",
       " '/diskmnt/Projects/Users/estorrs/multiplex_data/analysis/brca_dcis_v1/preprocessing/angelo/spatial_features/Point5305.txt',\n",
       " '/diskmnt/Projects/Users/estorrs/multiplex_data/analysis/brca_dcis_v1/preprocessing/angelo/spatial_features/Point5306.txt',\n",
       " '/diskmnt/Projects/Users/estorrs/multiplex_data/analysis/brca_dcis_v1/preprocessing/angelo/spatial_features/Point5308.txt',\n",
       " '/diskmnt/Projects/Users/estorrs/multiplex_data/analysis/brca_dcis_v1/preprocessing/angelo/spatial_features/Point5309.txt',\n",
       " '/diskmnt/Projects/Users/estorrs/multiplex_data/analysis/brca_dcis_v1/preprocessing/angelo/spatial_features/Point5310.txt',\n",
       " '/diskmnt/Projects/Users/estorrs/multiplex_data/analysis/brca_dcis_v1/preprocessing/angelo/spatial_features/Point6102.txt',\n",
       " '/diskmnt/Projects/Users/estorrs/multiplex_data/analysis/brca_dcis_v1/preprocessing/angelo/spatial_features/Point6103.txt',\n",
       " '/diskmnt/Projects/Users/estorrs/multiplex_data/analysis/brca_dcis_v1/preprocessing/angelo/spatial_features/Point6201.txt',\n",
       " '/diskmnt/Projects/Users/estorrs/multiplex_data/analysis/brca_dcis_v1/preprocessing/angelo/spatial_features/Point6202.txt',\n",
       " '/diskmnt/Projects/Users/estorrs/multiplex_data/analysis/brca_dcis_v1/preprocessing/angelo/spatial_features/Point6203.txt',\n",
       " '/diskmnt/Projects/Users/estorrs/multiplex_data/analysis/brca_dcis_v1/preprocessing/angelo/spatial_features/Point6204.txt',\n",
       " '/diskmnt/Projects/Users/estorrs/multiplex_data/analysis/brca_dcis_v1/preprocessing/angelo/spatial_features/Point6206.txt']"
      ]
     },
     "execution_count": 250,
     "metadata": {},
     "output_type": "execute_result"
    }
   ],
   "source": [
    "feats_fps = sorted(listfiles('/diskmnt/Projects/Users/estorrs/multiplex_data/analysis/brca_dcis_v1/preprocessing/angelo/spatial_features/',\n",
    "                         regex='txt$'))\n",
    "feats_fps"
   ]
  },
  {
   "cell_type": "code",
   "execution_count": 251,
   "id": "e875373d",
   "metadata": {
    "hidden": true
   },
   "outputs": [
    {
     "data": {
      "text/plain": [
       "(81, 79, 81)"
      ]
     },
     "execution_count": 251,
     "metadata": {},
     "output_type": "execute_result"
    }
   ],
   "source": [
    "len(mask_fps), len(feats_fps), len(ome_fps)"
   ]
  },
  {
   "cell_type": "code",
   "execution_count": 252,
   "id": "2e81d4f5",
   "metadata": {
    "hidden": true
   },
   "outputs": [],
   "source": [
    "point_to_mask = {}\n",
    "for fp in mask_fps:\n",
    "    pt = fp.split('/')[-1].split('_')[0].replace('Point', '')\n",
    "    point_to_mask[pt] = fp\n",
    "    \n",
    "point_to_feats = {}\n",
    "for fp in feats_fps:\n",
    "    pt = fp.split('/')[-1].split('.')[0].replace('Point', '')\n",
    "    point_to_feats[pt] = fp\n",
    "    \n",
    "point_to_ome = {}\n",
    "for fp in ome_fps:\n",
    "    pt = fp.split('/')[-1].split('_')[0].replace('Point', '')\n",
    "    point_to_ome[pt] = fp"
   ]
  },
  {
   "cell_type": "code",
   "execution_count": 253,
   "id": "fa1c4055",
   "metadata": {
    "hidden": true
   },
   "outputs": [
    {
     "data": {
      "text/plain": [
       "79"
      ]
     },
     "execution_count": 253,
     "metadata": {},
     "output_type": "execute_result"
    }
   ],
   "source": [
    "a = set(point_to_feats.keys())\n",
    "b = set(point_to_mask.keys())\n",
    "c = set(point_to_ome.keys())\n",
    "\n",
    "len(a.intersection(b).intersection(c))"
   ]
  },
  {
   "cell_type": "markdown",
   "id": "2c13d109",
   "metadata": {
    "hidden": true
   },
   "source": [
    "the two missing are tonsil"
   ]
  },
  {
   "cell_type": "code",
   "execution_count": 254,
   "id": "86c4a1b1",
   "metadata": {
    "hidden": true
   },
   "outputs": [
    {
     "data": {
      "text/plain": [
       "{'3201', '5311'}"
      ]
     },
     "execution_count": 254,
     "metadata": {},
     "output_type": "execute_result"
    }
   ],
   "source": [
    "b - a"
   ]
  },
  {
   "cell_type": "code",
   "execution_count": 255,
   "id": "cf1bcadd",
   "metadata": {
    "hidden": true
   },
   "outputs": [
    {
     "data": {
      "text/plain": [
       "['/diskmnt/Projects/Users/estorrs/multiplex_data/analysis/brca_dcis_v1/preprocessing/angelo/region_mask_final/Point5311_31640_Tonsil.tif']"
      ]
     },
     "execution_count": 255,
     "metadata": {},
     "output_type": "execute_result"
    }
   ],
   "source": [
    "[fp for fp in mask_fps if '5311' in fp]"
   ]
  },
  {
   "cell_type": "code",
   "execution_count": 256,
   "id": "97ee7956",
   "metadata": {
    "hidden": true
   },
   "outputs": [
    {
     "data": {
      "text/plain": [
       "'2203'"
      ]
     },
     "execution_count": 256,
     "metadata": {},
     "output_type": "execute_result"
    }
   ],
   "source": [
    "pt = next(iter(point_to_mask.keys()))\n",
    "pt"
   ]
  },
  {
   "cell_type": "code",
   "execution_count": 257,
   "id": "b95caa1a",
   "metadata": {
    "hidden": true
   },
   "outputs": [],
   "source": [
    "pt = '2204'"
   ]
  },
  {
   "cell_type": "code",
   "execution_count": 258,
   "id": "18bf13e7",
   "metadata": {
    "hidden": true
   },
   "outputs": [
    {
     "data": {
      "text/plain": [
       "<matplotlib.image.AxesImage at 0x7f5435a3c750>"
      ]
     },
     "execution_count": 258,
     "metadata": {},
     "output_type": "execute_result"
    },
    {
     "data": {
      "image/png": "[encoded data removed]",
      "text/plain": [
       "<Figure size 432x288 with 1 Axes>"
      ]
     },
     "metadata": {
      "needs_background": "light"
     },
     "output_type": "display_data"
    }
   ],
   "source": [
    "plt.imshow(tifffile.imread(point_to_mask[pt]))"
   ]
  },
  {
   "cell_type": "code",
   "execution_count": 259,
   "id": "ea87c1eb",
   "metadata": {
    "hidden": true
   },
   "outputs": [
    {
     "data": {
      "text/html": [
       "<div>\n",
       "<style scoped>\n",
       "    .dataframe tbody tr th:only-of-type {\n",
       "        vertical-align: middle;\n",
       "    }\n",
       "\n",
       "    .dataframe tbody tr th {\n",
       "        vertical-align: top;\n",
       "    }\n",
       "\n",
       "    .dataframe thead th {\n",
       "        text-align: right;\n",
       "    }\n",
       "</style>\n",
       "<table border=\"1\" class=\"dataframe\">\n",
       "  <thead>\n",
       "    <tr style=\"text-align: right;\">\n",
       "      <th></th>\n",
       "      <th>x</th>\n",
       "      <th>y</th>\n",
       "      <th>cell_type</th>\n",
       "    </tr>\n",
       "    <tr>\n",
       "      <th>label</th>\n",
       "      <th></th>\n",
       "      <th></th>\n",
       "      <th></th>\n",
       "    </tr>\n",
       "  </thead>\n",
       "  <tbody>\n",
       "    <tr>\n",
       "      <th>5</th>\n",
       "      <td>931</td>\n",
       "      <td>1005</td>\n",
       "      <td>OTHER</td>\n",
       "    </tr>\n",
       "    <tr>\n",
       "      <th>6</th>\n",
       "      <td>560</td>\n",
       "      <td>143</td>\n",
       "      <td>TUMOR_ECADCK</td>\n",
       "    </tr>\n",
       "    <tr>\n",
       "      <th>9</th>\n",
       "      <td>564</td>\n",
       "      <td>170</td>\n",
       "      <td>TUMOR_LUMINAL</td>\n",
       "    </tr>\n",
       "    <tr>\n",
       "      <th>10</th>\n",
       "      <td>1015</td>\n",
       "      <td>889</td>\n",
       "      <td>MACS</td>\n",
       "    </tr>\n",
       "    <tr>\n",
       "      <th>11</th>\n",
       "      <td>496</td>\n",
       "      <td>891</td>\n",
       "      <td>TUMOR_LUMINAL</td>\n",
       "    </tr>\n",
       "    <tr>\n",
       "      <th>...</th>\n",
       "      <td>...</td>\n",
       "      <td>...</td>\n",
       "      <td>...</td>\n",
       "    </tr>\n",
       "    <tr>\n",
       "      <th>1423</th>\n",
       "      <td>196</td>\n",
       "      <td>461</td>\n",
       "      <td>CD8T</td>\n",
       "    </tr>\n",
       "    <tr>\n",
       "      <th>1431</th>\n",
       "      <td>67</td>\n",
       "      <td>809</td>\n",
       "      <td>MYOFIBRO</td>\n",
       "    </tr>\n",
       "    <tr>\n",
       "      <th>1435</th>\n",
       "      <td>212</td>\n",
       "      <td>1013</td>\n",
       "      <td>OTHER</td>\n",
       "    </tr>\n",
       "    <tr>\n",
       "      <th>1437</th>\n",
       "      <td>629</td>\n",
       "      <td>888</td>\n",
       "      <td>TUMOR_LUMINAL</td>\n",
       "    </tr>\n",
       "    <tr>\n",
       "      <th>1439</th>\n",
       "      <td>889</td>\n",
       "      <td>903</td>\n",
       "      <td>MACS</td>\n",
       "    </tr>\n",
       "  </tbody>\n",
       "</table>\n",
       "<p>692 rows × 3 columns</p>\n",
       "</div>"
      ],
      "text/plain": [
       "          x     y      cell_type\n",
       "label                           \n",
       "5       931  1005          OTHER\n",
       "6       560   143   TUMOR_ECADCK\n",
       "9       564   170  TUMOR_LUMINAL\n",
       "10     1015   889           MACS\n",
       "11      496   891  TUMOR_LUMINAL\n",
       "...     ...   ...            ...\n",
       "1423    196   461           CD8T\n",
       "1431     67   809       MYOFIBRO\n",
       "1435    212  1013          OTHER\n",
       "1437    629   888  TUMOR_LUMINAL\n",
       "1439    889   903           MACS\n",
       "\n",
       "[692 rows x 3 columns]"
      ]
     },
     "execution_count": 259,
     "metadata": {},
     "output_type": "execute_result"
    }
   ],
   "source": [
    "df = pd.read_csv(point_to_feats[pt], sep='\\t', index_col=0)\n",
    "df"
   ]
  },
  {
   "cell_type": "code",
   "execution_count": 260,
   "id": "37c8442d",
   "metadata": {
    "hidden": true
   },
   "outputs": [
    {
     "data": {
      "text/plain": [
       "<AxesSubplot:xlabel='x', ylabel='y'>"
      ]
     },
     "execution_count": 260,
     "metadata": {},
     "output_type": "execute_result"
    },
    {
     "data": {
      "image/png": "[encoded data removed]",
      "text/plain": [
       "<Figure size 432x288 with 1 Axes>"
      ]
     },
     "metadata": {
      "needs_background": "light"
     },
     "output_type": "display_data"
    }
   ],
   "source": [
    "sns.scatterplot(data=df, x='x', y='y', hue='cell_type')"
   ]
  },
  {
   "cell_type": "code",
   "execution_count": 261,
   "id": "af3da4eb",
   "metadata": {
    "hidden": true
   },
   "outputs": [
    {
     "data": {
      "text/html": [
       "<div>\n",
       "<style scoped>\n",
       "    .dataframe tbody tr th:only-of-type {\n",
       "        vertical-align: middle;\n",
       "    }\n",
       "\n",
       "    .dataframe tbody tr th {\n",
       "        vertical-align: top;\n",
       "    }\n",
       "\n",
       "    .dataframe thead th {\n",
       "        text-align: right;\n",
       "    }\n",
       "</style>\n",
       "<table border=\"1\" class=\"dataframe\">\n",
       "  <thead>\n",
       "    <tr style=\"text-align: right;\">\n",
       "      <th></th>\n",
       "      <th>threshold</th>\n",
       "    </tr>\n",
       "    <tr>\n",
       "      <th>channel</th>\n",
       "      <th></th>\n",
       "    </tr>\n",
       "  </thead>\n",
       "  <tbody>\n",
       "    <tr>\n",
       "      <th>SMA</th>\n",
       "      <td>0.5</td>\n",
       "    </tr>\n",
       "    <tr>\n",
       "      <th>PanKRT</th>\n",
       "      <td>0.5</td>\n",
       "    </tr>\n",
       "    <tr>\n",
       "      <th>ECAD</th>\n",
       "      <td>0.5</td>\n",
       "    </tr>\n",
       "    <tr>\n",
       "      <th>CK5</th>\n",
       "      <td>0.5</td>\n",
       "    </tr>\n",
       "    <tr>\n",
       "      <th>CK7</th>\n",
       "      <td>0.5</td>\n",
       "    </tr>\n",
       "  </tbody>\n",
       "</table>\n",
       "</div>"
      ],
      "text/plain": [
       "         threshold\n",
       "channel           \n",
       "SMA            0.5\n",
       "PanKRT         0.5\n",
       "ECAD           0.5\n",
       "CK5            0.5\n",
       "CK7            0.5"
      ]
     },
     "execution_count": 261,
     "metadata": {},
     "output_type": "execute_result"
    }
   ],
   "source": [
    "channel_dict = {\n",
    "    'SMA': [.5],\n",
    "    'PanKRT': [.5],\n",
    "    'ECAD': [.5],\n",
    "    'CK5': [.5],\n",
    "    'CK7': [.5]\n",
    "}\n",
    "channel_df_grid = pd.DataFrame(channel_dict).transpose()\n",
    "channel_df_grid.index.name = 'channel'\n",
    "channel_df_grid.columns = ['threshold']\n",
    "channel_df_grid"
   ]
  },
  {
   "cell_type": "code",
   "execution_count": 262,
   "id": "740916fb",
   "metadata": {
    "hidden": true
   },
   "outputs": [
    {
     "data": {
      "text/html": [
       "<div>\n",
       "<style scoped>\n",
       "    .dataframe tbody tr th:only-of-type {\n",
       "        vertical-align: middle;\n",
       "    }\n",
       "\n",
       "    .dataframe tbody tr th {\n",
       "        vertical-align: top;\n",
       "    }\n",
       "\n",
       "    .dataframe thead th {\n",
       "        text-align: right;\n",
       "    }\n",
       "</style>\n",
       "<table border=\"1\" class=\"dataframe\">\n",
       "  <thead>\n",
       "    <tr style=\"text-align: right;\">\n",
       "      <th></th>\n",
       "      <th>threshold</th>\n",
       "    </tr>\n",
       "    <tr>\n",
       "      <th>channel</th>\n",
       "      <th></th>\n",
       "    </tr>\n",
       "  </thead>\n",
       "  <tbody>\n",
       "    <tr>\n",
       "      <th>SMA</th>\n",
       "      <td>0.5</td>\n",
       "    </tr>\n",
       "    <tr>\n",
       "      <th>PanKRT</th>\n",
       "      <td>0.5</td>\n",
       "    </tr>\n",
       "    <tr>\n",
       "      <th>ECAD</th>\n",
       "      <td>0.5</td>\n",
       "    </tr>\n",
       "    <tr>\n",
       "      <th>CK5</th>\n",
       "      <td>0.5</td>\n",
       "    </tr>\n",
       "    <tr>\n",
       "      <th>CK7</th>\n",
       "      <td>0.5</td>\n",
       "    </tr>\n",
       "  </tbody>\n",
       "</table>\n",
       "</div>"
      ],
      "text/plain": [
       "         threshold\n",
       "channel           \n",
       "SMA            0.5\n",
       "PanKRT         0.5\n",
       "ECAD           0.5\n",
       "CK5            0.5\n",
       "CK7            0.5"
      ]
     },
     "execution_count": 262,
     "metadata": {},
     "output_type": "execute_result"
    }
   ],
   "source": [
    "channel_dict = {\n",
    "    'SMA': [.5],\n",
    "    'PanKRT': [.5],\n",
    "    'ECAD': [.5],\n",
    "    'CK5': [.5],\n",
    "    'CK7': [.5]\n",
    "}\n",
    "channel_df_pixel = pd.DataFrame(channel_dict).transpose()\n",
    "channel_df_pixel.index.name = 'channel'\n",
    "channel_df_pixel.columns = ['threshold']\n",
    "channel_df_pixel"
   ]
  },
  {
   "cell_type": "code",
   "execution_count": 263,
   "id": "67206473",
   "metadata": {
    "hidden": true
   },
   "outputs": [],
   "source": [
    "run_dir = f'/diskmnt/Projects/Users/estorrs/multiplex_data/analysis/dcis_region_analysis/angelo_v5'\n",
    "for pt in point_to_feats:\n",
    "    Path(os.path.join(run_dir, f'Point{pt}')).mkdir(parents=True, exist_ok=True)"
   ]
  },
  {
   "cell_type": "code",
   "execution_count": 264,
   "id": "c20eef5f",
   "metadata": {
    "hidden": true
   },
   "outputs": [
    {
     "data": {
      "text/plain": [
       "'mip generate-region-features --spatial-features /diskmnt/Projects/Users/estorrs/multiplex_data/analysis/dcis_region_analysis/angelo_v5/Point2203/inputs/spatial_features.txt --ome-tiff /diskmnt/Projects/Users/estorrs/multiplex_data/analysis/dcis_region_analysis/angelo_v5/Point2203/inputs/2203.ome.tiff --regions-mask /diskmnt/Projects/Users/estorrs/multiplex_data/analysis/dcis_region_analysis/angelo_v5/Point2203/inputs/ductal_mask.tif --channel-thresholds-grid /diskmnt/Projects/Users/estorrs/multiplex_data/analysis/dcis_region_analysis/angelo_v5/Point2203/inputs/channel_thresholds_grid.txt --channel-thresholds-pixel /diskmnt/Projects/Users/estorrs/multiplex_data/analysis/dcis_region_analysis/angelo_v5/Point2203/inputs/channel_thresholds_pixel.txt --output-dir /diskmnt/Projects/Users/estorrs/multiplex_data/analysis/dcis_region_analysis/angelo_v5/Point2203/outputs'"
      ]
     },
     "execution_count": 264,
     "metadata": {},
     "output_type": "execute_result"
    }
   ],
   "source": [
    "commands = []\n",
    "for pt in point_to_feats:\n",
    "    directory = os.path.join(run_dir, f'Point{pt}', 'inputs')\n",
    "    Path(directory).mkdir(parents=True, exist_ok=True)\n",
    "    shutil.copy(point_to_feats[pt], os.path.join(directory, 'spatial_features.txt'))\n",
    "    shutil.copy(point_to_mask[pt], os.path.join(directory, 'ductal_mask.tif'))\n",
    "    shutil.copy(point_to_ome[pt], os.path.join(directory, f'{pt}.ome.tiff'))\n",
    "    channel_df_grid.to_csv(os.path.join(directory, 'channel_thresholds_grid.txt'), sep='\\t')\n",
    "    channel_df_pixel.to_csv(os.path.join(directory, 'channel_thresholds_pixel.txt'), sep='\\t')\n",
    "    \n",
    "    pieces = [\n",
    "        'mip', 'generate-region-features',\n",
    "        '--spatial-features', os.path.join(directory, 'spatial_features.txt'),\n",
    "        '--ome-tiff', os.path.join(directory, f'{pt}.ome.tiff'),\n",
    "        '--regions-mask', os.path.join(directory, 'ductal_mask.tif'),\n",
    "        '--channel-thresholds-grid', os.path.join(directory, 'channel_thresholds_grid.txt'),\n",
    "        '--channel-thresholds-pixel', os.path.join(directory, 'channel_thresholds_pixel.txt'),\n",
    "        '--output-dir', os.path.join(run_dir, f'Point{pt}', 'outputs'),\n",
    "    ]\n",
    "    cmd = ' '.join(pieces)\n",
    "    commands.append(cmd)\n",
    "commands[0]"
   ]
  },
  {
   "cell_type": "code",
   "execution_count": 265,
   "id": "0676a452",
   "metadata": {
    "hidden": true
   },
   "outputs": [],
   "source": [
    "f = open(os.path.join(run_dir, 'run.sh'), 'w')\n",
    "f.write('\\n'.join(commands))\n",
    "f.close()"
   ]
  },
  {
   "cell_type": "code",
   "execution_count": 266,
   "id": "bea9e18f",
   "metadata": {
    "hidden": true
   },
   "outputs": [
    {
     "data": {
      "text/plain": [
       "'mip generate-region-features --spatial-features /diskmnt/Projects/Users/estorrs/multiplex_data/analysis/dcis_region_analysis/angelo_v5/Point2203/inputs/spatial_features.txt --ome-tiff /diskmnt/Projects/Users/estorrs/multiplex_data/analysis/dcis_region_analysis/angelo_v5/Point2203/inputs/2203.ome.tiff --regions-mask /diskmnt/Projects/Users/estorrs/multiplex_data/analysis/dcis_region_analysis/angelo_v5/Point2203/inputs/ductal_mask.tif --channel-thresholds-grid /diskmnt/Projects/Users/estorrs/multiplex_data/analysis/dcis_region_analysis/angelo_v5/Point2203/inputs/channel_thresholds_grid.txt --channel-thresholds-pixel /diskmnt/Projects/Users/estorrs/multiplex_data/analysis/dcis_region_analysis/angelo_v5/Point2203/inputs/channel_thresholds_pixel.txt --output-dir /diskmnt/Projects/Users/estorrs/multiplex_data/analysis/dcis_region_analysis/angelo_v5/Point2203/outputs'"
      ]
     },
     "execution_count": 266,
     "metadata": {},
     "output_type": "execute_result"
    }
   ],
   "source": [
    "commands[0]"
   ]
  },
  {
   "cell_type": "markdown",
   "id": "c15341b2",
   "metadata": {
    "hidden": true
   },
   "source": [
    "#### in house"
   ]
  },
  {
   "cell_type": "code",
   "execution_count": 23,
   "id": "a8dac57f",
   "metadata": {
    "hidden": true
   },
   "outputs": [],
   "source": [
    "sample_id = 'HT206B1_H1_06252022'\n",
    "run_dir = f'/diskmnt/Projects/Users/estorrs/multiplex_data/analysis/brca_dcis_v1/region_metrics/{sample_id}'\n",
    "Path(run_dir).mkdir(parents=True, exist_ok=True)"
   ]
  },
  {
   "cell_type": "code",
   "execution_count": 3,
   "id": "2bec37c7",
   "metadata": {
    "hidden": true
   },
   "outputs": [
    {
     "data": {
      "text/html": [
       "<div>\n",
       "<style scoped>\n",
       "    .dataframe tbody tr th:only-of-type {\n",
       "        vertical-align: middle;\n",
       "    }\n",
       "\n",
       "    .dataframe tbody tr th {\n",
       "        vertical-align: top;\n",
       "    }\n",
       "\n",
       "    .dataframe thead th {\n",
       "        text-align: right;\n",
       "    }\n",
       "</style>\n",
       "<table border=\"1\" class=\"dataframe\">\n",
       "  <thead>\n",
       "    <tr style=\"text-align: right;\">\n",
       "      <th></th>\n",
       "      <th>area</th>\n",
       "      <th>perimeter</th>\n",
       "      <th>bbox_row_min</th>\n",
       "      <th>bbox_col_min</th>\n",
       "      <th>bbox_row_max</th>\n",
       "      <th>bbox_col_max</th>\n",
       "      <th>centroid_row</th>\n",
       "      <th>centroid_col</th>\n",
       "      <th>eccentricity</th>\n",
       "      <th>DAPI intensity max</th>\n",
       "      <th>...</th>\n",
       "      <th>topic_1</th>\n",
       "      <th>topic_2</th>\n",
       "      <th>topic_3</th>\n",
       "      <th>topic_4</th>\n",
       "      <th>topic_5</th>\n",
       "      <th>topic_6</th>\n",
       "      <th>topic_7</th>\n",
       "      <th>topic_8</th>\n",
       "      <th>topic_9</th>\n",
       "      <th>metacluster</th>\n",
       "    </tr>\n",
       "  </thead>\n",
       "  <tbody>\n",
       "    <tr>\n",
       "      <th>HT206B1_H1_06252022_1</th>\n",
       "      <td>380</td>\n",
       "      <td>74.041631</td>\n",
       "      <td>0</td>\n",
       "      <td>4821</td>\n",
       "      <td>19</td>\n",
       "      <td>4846</td>\n",
       "      <td>7.505263</td>\n",
       "      <td>4832.971053</td>\n",
       "      <td>0.683004</td>\n",
       "      <td>18790.0</td>\n",
       "      <td>...</td>\n",
       "      <td>0.000000</td>\n",
       "      <td>0.618568</td>\n",
       "      <td>0.019604</td>\n",
       "      <td>0.000000</td>\n",
       "      <td>0.010007</td>\n",
       "      <td>0.000000</td>\n",
       "      <td>0.000000</td>\n",
       "      <td>0.000000</td>\n",
       "      <td>0.303525</td>\n",
       "      <td>Endothelial</td>\n",
       "    </tr>\n",
       "    <tr>\n",
       "      <th>HT206B1_H1_06252022_2</th>\n",
       "      <td>310</td>\n",
       "      <td>70.627417</td>\n",
       "      <td>0</td>\n",
       "      <td>4845</td>\n",
       "      <td>16</td>\n",
       "      <td>4868</td>\n",
       "      <td>6.541935</td>\n",
       "      <td>4856.164516</td>\n",
       "      <td>0.722101</td>\n",
       "      <td>61606.0</td>\n",
       "      <td>...</td>\n",
       "      <td>0.000000</td>\n",
       "      <td>0.743646</td>\n",
       "      <td>0.023065</td>\n",
       "      <td>0.000000</td>\n",
       "      <td>0.011769</td>\n",
       "      <td>0.000000</td>\n",
       "      <td>0.000000</td>\n",
       "      <td>0.010209</td>\n",
       "      <td>0.164716</td>\n",
       "      <td>Endothelial</td>\n",
       "    </tr>\n",
       "    <tr>\n",
       "      <th>HT206B1_H1_06252022_3</th>\n",
       "      <td>278</td>\n",
       "      <td>80.870058</td>\n",
       "      <td>0</td>\n",
       "      <td>4867</td>\n",
       "      <td>14</td>\n",
       "      <td>4897</td>\n",
       "      <td>4.733813</td>\n",
       "      <td>4879.276978</td>\n",
       "      <td>0.931353</td>\n",
       "      <td>24283.0</td>\n",
       "      <td>...</td>\n",
       "      <td>0.000000</td>\n",
       "      <td>0.821627</td>\n",
       "      <td>0.017061</td>\n",
       "      <td>0.000000</td>\n",
       "      <td>0.000000</td>\n",
       "      <td>0.000000</td>\n",
       "      <td>0.000000</td>\n",
       "      <td>0.000000</td>\n",
       "      <td>0.110602</td>\n",
       "      <td>Endothelial</td>\n",
       "    </tr>\n",
       "    <tr>\n",
       "      <th>HT206B1_H1_06252022_4</th>\n",
       "      <td>833</td>\n",
       "      <td>111.941125</td>\n",
       "      <td>0</td>\n",
       "      <td>5634</td>\n",
       "      <td>25</td>\n",
       "      <td>5674</td>\n",
       "      <td>10.346939</td>\n",
       "      <td>5653.015606</td>\n",
       "      <td>0.774127</td>\n",
       "      <td>35152.0</td>\n",
       "      <td>...</td>\n",
       "      <td>0.032994</td>\n",
       "      <td>0.029690</td>\n",
       "      <td>0.078039</td>\n",
       "      <td>0.031300</td>\n",
       "      <td>0.039833</td>\n",
       "      <td>0.031215</td>\n",
       "      <td>0.032178</td>\n",
       "      <td>0.034552</td>\n",
       "      <td>0.660189</td>\n",
       "      <td>Tumor</td>\n",
       "    </tr>\n",
       "    <tr>\n",
       "      <th>HT206B1_H1_06252022_5</th>\n",
       "      <td>592</td>\n",
       "      <td>92.769553</td>\n",
       "      <td>0</td>\n",
       "      <td>5721</td>\n",
       "      <td>24</td>\n",
       "      <td>5753</td>\n",
       "      <td>9.847973</td>\n",
       "      <td>5735.261824</td>\n",
       "      <td>0.674520</td>\n",
       "      <td>51562.0</td>\n",
       "      <td>...</td>\n",
       "      <td>0.000000</td>\n",
       "      <td>0.000000</td>\n",
       "      <td>0.019633</td>\n",
       "      <td>0.556573</td>\n",
       "      <td>0.010007</td>\n",
       "      <td>0.000000</td>\n",
       "      <td>0.000000</td>\n",
       "      <td>0.000000</td>\n",
       "      <td>0.365894</td>\n",
       "      <td>Macrophage M1 enriched</td>\n",
       "    </tr>\n",
       "    <tr>\n",
       "      <th>...</th>\n",
       "      <td>...</td>\n",
       "      <td>...</td>\n",
       "      <td>...</td>\n",
       "      <td>...</td>\n",
       "      <td>...</td>\n",
       "      <td>...</td>\n",
       "      <td>...</td>\n",
       "      <td>...</td>\n",
       "      <td>...</td>\n",
       "      <td>...</td>\n",
       "      <td>...</td>\n",
       "      <td>...</td>\n",
       "      <td>...</td>\n",
       "      <td>...</td>\n",
       "      <td>...</td>\n",
       "      <td>...</td>\n",
       "      <td>...</td>\n",
       "      <td>...</td>\n",
       "      <td>...</td>\n",
       "      <td>...</td>\n",
       "      <td>...</td>\n",
       "    </tr>\n",
       "    <tr>\n",
       "      <th>HT206B1_H1_06252022_136402</th>\n",
       "      <td>48</td>\n",
       "      <td>32.349242</td>\n",
       "      <td>20149</td>\n",
       "      <td>10223</td>\n",
       "      <td>20157</td>\n",
       "      <td>10236</td>\n",
       "      <td>20152.750000</td>\n",
       "      <td>10230.020833</td>\n",
       "      <td>0.877933</td>\n",
       "      <td>6102.0</td>\n",
       "      <td>...</td>\n",
       "      <td>0.000000</td>\n",
       "      <td>0.000000</td>\n",
       "      <td>0.000000</td>\n",
       "      <td>0.000000</td>\n",
       "      <td>0.000000</td>\n",
       "      <td>0.000000</td>\n",
       "      <td>0.000000</td>\n",
       "      <td>0.000000</td>\n",
       "      <td>0.969482</td>\n",
       "      <td>Tumor</td>\n",
       "    </tr>\n",
       "    <tr>\n",
       "      <th>HT206B1_H1_06252022_136403</th>\n",
       "      <td>222</td>\n",
       "      <td>73.627417</td>\n",
       "      <td>20150</td>\n",
       "      <td>10913</td>\n",
       "      <td>20160</td>\n",
       "      <td>10942</td>\n",
       "      <td>20155.333333</td>\n",
       "      <td>10927.900901</td>\n",
       "      <td>0.945689</td>\n",
       "      <td>18912.0</td>\n",
       "      <td>...</td>\n",
       "      <td>0.000000</td>\n",
       "      <td>0.000000</td>\n",
       "      <td>0.010322</td>\n",
       "      <td>0.000000</td>\n",
       "      <td>0.000000</td>\n",
       "      <td>0.000000</td>\n",
       "      <td>0.000000</td>\n",
       "      <td>0.000000</td>\n",
       "      <td>0.955039</td>\n",
       "      <td>Tumor</td>\n",
       "    </tr>\n",
       "    <tr>\n",
       "      <th>HT206B1_H1_06252022_136404</th>\n",
       "      <td>108</td>\n",
       "      <td>59.798990</td>\n",
       "      <td>20152</td>\n",
       "      <td>10212</td>\n",
       "      <td>20160</td>\n",
       "      <td>10236</td>\n",
       "      <td>20156.500000</td>\n",
       "      <td>10223.629630</td>\n",
       "      <td>0.952507</td>\n",
       "      <td>15680.0</td>\n",
       "      <td>...</td>\n",
       "      <td>0.000000</td>\n",
       "      <td>0.000000</td>\n",
       "      <td>0.000000</td>\n",
       "      <td>0.000000</td>\n",
       "      <td>0.000000</td>\n",
       "      <td>0.000000</td>\n",
       "      <td>0.000000</td>\n",
       "      <td>0.000000</td>\n",
       "      <td>0.965823</td>\n",
       "      <td>Tumor</td>\n",
       "    </tr>\n",
       "    <tr>\n",
       "      <th>HT206B1_H1_06252022_136405</th>\n",
       "      <td>56</td>\n",
       "      <td>33.556349</td>\n",
       "      <td>20154</td>\n",
       "      <td>10458</td>\n",
       "      <td>20160</td>\n",
       "      <td>10473</td>\n",
       "      <td>20157.357143</td>\n",
       "      <td>10465.946429</td>\n",
       "      <td>0.931476</td>\n",
       "      <td>14481.0</td>\n",
       "      <td>...</td>\n",
       "      <td>0.000000</td>\n",
       "      <td>0.000000</td>\n",
       "      <td>0.011221</td>\n",
       "      <td>0.000000</td>\n",
       "      <td>0.000000</td>\n",
       "      <td>0.000000</td>\n",
       "      <td>0.000000</td>\n",
       "      <td>0.000000</td>\n",
       "      <td>0.951174</td>\n",
       "      <td>Tumor</td>\n",
       "    </tr>\n",
       "    <tr>\n",
       "      <th>HT206B1_H1_06252022_136406</th>\n",
       "      <td>39</td>\n",
       "      <td>27.556349</td>\n",
       "      <td>20154</td>\n",
       "      <td>10260</td>\n",
       "      <td>20160</td>\n",
       "      <td>10272</td>\n",
       "      <td>20157.102564</td>\n",
       "      <td>10265.794872</td>\n",
       "      <td>0.894411</td>\n",
       "      <td>12111.0</td>\n",
       "      <td>...</td>\n",
       "      <td>0.000000</td>\n",
       "      <td>0.000000</td>\n",
       "      <td>0.000000</td>\n",
       "      <td>0.000000</td>\n",
       "      <td>0.000000</td>\n",
       "      <td>0.000000</td>\n",
       "      <td>0.000000</td>\n",
       "      <td>0.000000</td>\n",
       "      <td>0.963643</td>\n",
       "      <td>Tumor</td>\n",
       "    </tr>\n",
       "  </tbody>\n",
       "</table>\n",
       "<p>125181 rows × 89 columns</p>\n",
       "</div>"
      ],
      "text/plain": [
       "                            area   perimeter  bbox_row_min  bbox_col_min  \\\n",
       "HT206B1_H1_06252022_1        380   74.041631             0          4821   \n",
       "HT206B1_H1_06252022_2        310   70.627417             0          4845   \n",
       "HT206B1_H1_06252022_3        278   80.870058             0          4867   \n",
       "HT206B1_H1_06252022_4        833  111.941125             0          5634   \n",
       "HT206B1_H1_06252022_5        592   92.769553             0          5721   \n",
       "...                          ...         ...           ...           ...   \n",
       "HT206B1_H1_06252022_136402    48   32.349242         20149         10223   \n",
       "HT206B1_H1_06252022_136403   222   73.627417         20150         10913   \n",
       "HT206B1_H1_06252022_136404   108   59.798990         20152         10212   \n",
       "HT206B1_H1_06252022_136405    56   33.556349         20154         10458   \n",
       "HT206B1_H1_06252022_136406    39   27.556349         20154         10260   \n",
       "\n",
       "                            bbox_row_max  bbox_col_max  centroid_row  \\\n",
       "HT206B1_H1_06252022_1                 19          4846      7.505263   \n",
       "HT206B1_H1_06252022_2                 16          4868      6.541935   \n",
       "HT206B1_H1_06252022_3                 14          4897      4.733813   \n",
       "HT206B1_H1_06252022_4                 25          5674     10.346939   \n",
       "HT206B1_H1_06252022_5                 24          5753      9.847973   \n",
       "...                                  ...           ...           ...   \n",
       "HT206B1_H1_06252022_136402         20157         10236  20152.750000   \n",
       "HT206B1_H1_06252022_136403         20160         10942  20155.333333   \n",
       "HT206B1_H1_06252022_136404         20160         10236  20156.500000   \n",
       "HT206B1_H1_06252022_136405         20160         10473  20157.357143   \n",
       "HT206B1_H1_06252022_136406         20160         10272  20157.102564   \n",
       "\n",
       "                            centroid_col  eccentricity  DAPI intensity max  \\\n",
       "HT206B1_H1_06252022_1        4832.971053      0.683004             18790.0   \n",
       "HT206B1_H1_06252022_2        4856.164516      0.722101             61606.0   \n",
       "HT206B1_H1_06252022_3        4879.276978      0.931353             24283.0   \n",
       "HT206B1_H1_06252022_4        5653.015606      0.774127             35152.0   \n",
       "HT206B1_H1_06252022_5        5735.261824      0.674520             51562.0   \n",
       "...                                  ...           ...                 ...   \n",
       "HT206B1_H1_06252022_136402  10230.020833      0.877933              6102.0   \n",
       "HT206B1_H1_06252022_136403  10927.900901      0.945689             18912.0   \n",
       "HT206B1_H1_06252022_136404  10223.629630      0.952507             15680.0   \n",
       "HT206B1_H1_06252022_136405  10465.946429      0.931476             14481.0   \n",
       "HT206B1_H1_06252022_136406  10265.794872      0.894411             12111.0   \n",
       "\n",
       "                            ...   topic_1   topic_2   topic_3   topic_4  \\\n",
       "HT206B1_H1_06252022_1       ...  0.000000  0.618568  0.019604  0.000000   \n",
       "HT206B1_H1_06252022_2       ...  0.000000  0.743646  0.023065  0.000000   \n",
       "HT206B1_H1_06252022_3       ...  0.000000  0.821627  0.017061  0.000000   \n",
       "HT206B1_H1_06252022_4       ...  0.032994  0.029690  0.078039  0.031300   \n",
       "HT206B1_H1_06252022_5       ...  0.000000  0.000000  0.019633  0.556573   \n",
       "...                         ...       ...       ...       ...       ...   \n",
       "HT206B1_H1_06252022_136402  ...  0.000000  0.000000  0.000000  0.000000   \n",
       "HT206B1_H1_06252022_136403  ...  0.000000  0.000000  0.010322  0.000000   \n",
       "HT206B1_H1_06252022_136404  ...  0.000000  0.000000  0.000000  0.000000   \n",
       "HT206B1_H1_06252022_136405  ...  0.000000  0.000000  0.011221  0.000000   \n",
       "HT206B1_H1_06252022_136406  ...  0.000000  0.000000  0.000000  0.000000   \n",
       "\n",
       "                             topic_5   topic_6   topic_7   topic_8   topic_9  \\\n",
       "HT206B1_H1_06252022_1       0.010007  0.000000  0.000000  0.000000  0.303525   \n",
       "HT206B1_H1_06252022_2       0.011769  0.000000  0.000000  0.010209  0.164716   \n",
       "HT206B1_H1_06252022_3       0.000000  0.000000  0.000000  0.000000  0.110602   \n",
       "HT206B1_H1_06252022_4       0.039833  0.031215  0.032178  0.034552  0.660189   \n",
       "HT206B1_H1_06252022_5       0.010007  0.000000  0.000000  0.000000  0.365894   \n",
       "...                              ...       ...       ...       ...       ...   \n",
       "HT206B1_H1_06252022_136402  0.000000  0.000000  0.000000  0.000000  0.969482   \n",
       "HT206B1_H1_06252022_136403  0.000000  0.000000  0.000000  0.000000  0.955039   \n",
       "HT206B1_H1_06252022_136404  0.000000  0.000000  0.000000  0.000000  0.965823   \n",
       "HT206B1_H1_06252022_136405  0.000000  0.000000  0.000000  0.000000  0.951174   \n",
       "HT206B1_H1_06252022_136406  0.000000  0.000000  0.000000  0.000000  0.963643   \n",
       "\n",
       "                                       metacluster  \n",
       "HT206B1_H1_06252022_1                  Endothelial  \n",
       "HT206B1_H1_06252022_2                  Endothelial  \n",
       "HT206B1_H1_06252022_3                  Endothelial  \n",
       "HT206B1_H1_06252022_4                        Tumor  \n",
       "HT206B1_H1_06252022_5       Macrophage M1 enriched  \n",
       "...                                            ...  \n",
       "HT206B1_H1_06252022_136402                   Tumor  \n",
       "HT206B1_H1_06252022_136403                   Tumor  \n",
       "HT206B1_H1_06252022_136404                   Tumor  \n",
       "HT206B1_H1_06252022_136405                   Tumor  \n",
       "HT206B1_H1_06252022_136406                   Tumor  \n",
       "\n",
       "[125181 rows x 89 columns]"
      ]
     },
     "execution_count": 3,
     "metadata": {},
     "output_type": "execute_result"
    }
   ],
   "source": [
    "a = sc.read_h5ad(f'../../multiplex_data/analysis/brca_dcis_v1/metaclustered/{sample_id}.h5ad')\n",
    "a.obs"
   ]
  },
  {
   "cell_type": "code",
   "execution_count": 6,
   "id": "25cedd58",
   "metadata": {
    "hidden": true
   },
   "outputs": [
    {
     "data": {
      "text/html": [
       "<div>\n",
       "<style scoped>\n",
       "    .dataframe tbody tr th:only-of-type {\n",
       "        vertical-align: middle;\n",
       "    }\n",
       "\n",
       "    .dataframe tbody tr th {\n",
       "        vertical-align: top;\n",
       "    }\n",
       "\n",
       "    .dataframe thead th {\n",
       "        text-align: right;\n",
       "    }\n",
       "</style>\n",
       "<table border=\"1\" class=\"dataframe\">\n",
       "  <thead>\n",
       "    <tr style=\"text-align: right;\">\n",
       "      <th></th>\n",
       "      <th>X</th>\n",
       "      <th>Y</th>\n",
       "      <th>cell_type</th>\n",
       "      <th>metacluster</th>\n",
       "    </tr>\n",
       "    <tr>\n",
       "      <th>cell_id</th>\n",
       "      <th></th>\n",
       "      <th></th>\n",
       "      <th></th>\n",
       "      <th></th>\n",
       "    </tr>\n",
       "  </thead>\n",
       "  <tbody>\n",
       "    <tr>\n",
       "      <th>HT206B1_H1_06252022_1</th>\n",
       "      <td>4832.971053</td>\n",
       "      <td>7.505263</td>\n",
       "      <td>Fibroblast</td>\n",
       "      <td>Endothelial</td>\n",
       "    </tr>\n",
       "    <tr>\n",
       "      <th>HT206B1_H1_06252022_2</th>\n",
       "      <td>4856.164516</td>\n",
       "      <td>6.541935</td>\n",
       "      <td>Endothelial</td>\n",
       "      <td>Endothelial</td>\n",
       "    </tr>\n",
       "    <tr>\n",
       "      <th>HT206B1_H1_06252022_3</th>\n",
       "      <td>4879.276978</td>\n",
       "      <td>4.733813</td>\n",
       "      <td>Endothelial</td>\n",
       "      <td>Endothelial</td>\n",
       "    </tr>\n",
       "    <tr>\n",
       "      <th>HT206B1_H1_06252022_4</th>\n",
       "      <td>5653.015606</td>\n",
       "      <td>10.346939</td>\n",
       "      <td>Tumor</td>\n",
       "      <td>Tumor</td>\n",
       "    </tr>\n",
       "    <tr>\n",
       "      <th>HT206B1_H1_06252022_5</th>\n",
       "      <td>5735.261824</td>\n",
       "      <td>9.847973</td>\n",
       "      <td>Tumor</td>\n",
       "      <td>Macrophage M1 enriched</td>\n",
       "    </tr>\n",
       "    <tr>\n",
       "      <th>...</th>\n",
       "      <td>...</td>\n",
       "      <td>...</td>\n",
       "      <td>...</td>\n",
       "      <td>...</td>\n",
       "    </tr>\n",
       "    <tr>\n",
       "      <th>HT206B1_H1_06252022_136402</th>\n",
       "      <td>10230.020833</td>\n",
       "      <td>20152.750000</td>\n",
       "      <td>Tumor</td>\n",
       "      <td>Tumor</td>\n",
       "    </tr>\n",
       "    <tr>\n",
       "      <th>HT206B1_H1_06252022_136403</th>\n",
       "      <td>10927.900901</td>\n",
       "      <td>20155.333333</td>\n",
       "      <td>Tumor</td>\n",
       "      <td>Tumor</td>\n",
       "    </tr>\n",
       "    <tr>\n",
       "      <th>HT206B1_H1_06252022_136404</th>\n",
       "      <td>10223.629630</td>\n",
       "      <td>20156.500000</td>\n",
       "      <td>Tumor</td>\n",
       "      <td>Tumor</td>\n",
       "    </tr>\n",
       "    <tr>\n",
       "      <th>HT206B1_H1_06252022_136405</th>\n",
       "      <td>10465.946429</td>\n",
       "      <td>20157.357143</td>\n",
       "      <td>Tumor</td>\n",
       "      <td>Tumor</td>\n",
       "    </tr>\n",
       "    <tr>\n",
       "      <th>HT206B1_H1_06252022_136406</th>\n",
       "      <td>10265.794872</td>\n",
       "      <td>20157.102564</td>\n",
       "      <td>Tumor</td>\n",
       "      <td>Tumor</td>\n",
       "    </tr>\n",
       "  </tbody>\n",
       "</table>\n",
       "<p>125181 rows × 4 columns</p>\n",
       "</div>"
      ],
      "text/plain": [
       "                                       X             Y    cell_type  \\\n",
       "cell_id                                                               \n",
       "HT206B1_H1_06252022_1        4832.971053      7.505263   Fibroblast   \n",
       "HT206B1_H1_06252022_2        4856.164516      6.541935  Endothelial   \n",
       "HT206B1_H1_06252022_3        4879.276978      4.733813  Endothelial   \n",
       "HT206B1_H1_06252022_4        5653.015606     10.346939        Tumor   \n",
       "HT206B1_H1_06252022_5        5735.261824      9.847973        Tumor   \n",
       "...                                  ...           ...          ...   \n",
       "HT206B1_H1_06252022_136402  10230.020833  20152.750000        Tumor   \n",
       "HT206B1_H1_06252022_136403  10927.900901  20155.333333        Tumor   \n",
       "HT206B1_H1_06252022_136404  10223.629630  20156.500000        Tumor   \n",
       "HT206B1_H1_06252022_136405  10465.946429  20157.357143        Tumor   \n",
       "HT206B1_H1_06252022_136406  10265.794872  20157.102564        Tumor   \n",
       "\n",
       "                                       metacluster  \n",
       "cell_id                                             \n",
       "HT206B1_H1_06252022_1                  Endothelial  \n",
       "HT206B1_H1_06252022_2                  Endothelial  \n",
       "HT206B1_H1_06252022_3                  Endothelial  \n",
       "HT206B1_H1_06252022_4                        Tumor  \n",
       "HT206B1_H1_06252022_5       Macrophage M1 enriched  \n",
       "...                                            ...  \n",
       "HT206B1_H1_06252022_136402                   Tumor  \n",
       "HT206B1_H1_06252022_136403                   Tumor  \n",
       "HT206B1_H1_06252022_136404                   Tumor  \n",
       "HT206B1_H1_06252022_136405                   Tumor  \n",
       "HT206B1_H1_06252022_136406                   Tumor  \n",
       "\n",
       "[125181 rows x 4 columns]"
      ]
     },
     "execution_count": 6,
     "metadata": {},
     "output_type": "execute_result"
    }
   ],
   "source": [
    "feats = a.obs[['centroid_col', 'centroid_row', 'harmonized_cell_type', 'metacluster']]\n",
    "feats.columns = ['X', 'Y', 'cell_type', 'metacluster']\n",
    "feats.index.name = 'cell_id'\n",
    "feats"
   ]
  },
  {
   "cell_type": "code",
   "execution_count": 24,
   "id": "128a4844",
   "metadata": {
    "hidden": true
   },
   "outputs": [
    {
     "data": {
      "text/plain": [
       "<matplotlib.image.AxesImage at 0x7f9b3bdf1c50>"
      ]
     },
     "execution_count": 24,
     "metadata": {},
     "output_type": "execute_result"
    },
    {
     "data": {
      "image/png": "[encoded data removed]",
      "text/plain": [
       "<Figure size 432x288 with 1 Axes>"
      ]
     },
     "metadata": {
      "needs_background": "light"
     },
     "output_type": "display_data"
    }
   ],
   "source": [
    "tumor_regions_tif = f'/diskmnt/Projects/Users/estorrs/multiplex_data/codex/htan/brca/{sample_id}/level_3/annotations/tumor_mask_10_alpha.tif'\n",
    "tumor_regions = tifffile.imread(tumor_regions_tif)\n",
    "plt.imshow(tumor_regions)"
   ]
  },
  {
   "cell_type": "code",
   "execution_count": 15,
   "id": "4d709695",
   "metadata": {
    "hidden": true
   },
   "outputs": [
    {
     "data": {
      "text/html": [
       "<div>\n",
       "<style scoped>\n",
       "    .dataframe tbody tr th:only-of-type {\n",
       "        vertical-align: middle;\n",
       "    }\n",
       "\n",
       "    .dataframe tbody tr th {\n",
       "        vertical-align: top;\n",
       "    }\n",
       "\n",
       "    .dataframe thead th {\n",
       "        text-align: right;\n",
       "    }\n",
       "</style>\n",
       "<table border=\"1\" class=\"dataframe\">\n",
       "  <thead>\n",
       "    <tr style=\"text-align: right;\">\n",
       "      <th></th>\n",
       "      <th>threshold</th>\n",
       "    </tr>\n",
       "    <tr>\n",
       "      <th>channel</th>\n",
       "      <th></th>\n",
       "    </tr>\n",
       "  </thead>\n",
       "  <tbody>\n",
       "    <tr>\n",
       "      <th>SMA</th>\n",
       "      <td>1500</td>\n",
       "    </tr>\n",
       "    <tr>\n",
       "      <th>Podoplanin</th>\n",
       "      <td>5000</td>\n",
       "    </tr>\n",
       "  </tbody>\n",
       "</table>\n",
       "</div>"
      ],
      "text/plain": [
       "            threshold\n",
       "channel              \n",
       "SMA              1500\n",
       "Podoplanin       5000"
      ]
     },
     "execution_count": 15,
     "metadata": {},
     "output_type": "execute_result"
    }
   ],
   "source": [
    "channel_dict = {\n",
    "    'SMA': [1500],\n",
    "    'Podoplanin': [5000]\n",
    "}\n",
    "channel_df = pd.DataFrame(channel_dict).transpose()\n",
    "channel_df.index.name = 'channel'\n",
    "channel_df.columns = ['threshold']\n",
    "channel_df"
   ]
  },
  {
   "cell_type": "code",
   "execution_count": null,
   "id": "2782934d",
   "metadata": {
    "hidden": true
   },
   "outputs": [],
   "source": []
  },
  {
   "cell_type": "code",
   "execution_count": null,
   "id": "fd1c2cb2",
   "metadata": {
    "hidden": true
   },
   "outputs": [],
   "source": []
  },
  {
   "cell_type": "code",
   "execution_count": null,
   "id": "92da1d50",
   "metadata": {
    "hidden": true
   },
   "outputs": [],
   "source": []
  },
  {
   "cell_type": "code",
   "execution_count": 25,
   "id": "78bd6c64",
   "metadata": {
    "hidden": true
   },
   "outputs": [],
   "source": [
    "input_dir = os.path.join(run_dir, 'inputs')\n",
    "Path(input_dir).mkdir(parents=True, exist_ok=True)"
   ]
  },
  {
   "cell_type": "code",
   "execution_count": 26,
   "id": "ab0607a7",
   "metadata": {
    "hidden": true
   },
   "outputs": [],
   "source": [
    "feats_fp = os.path.join(input_dir, 'spatial_features.txt')\n",
    "feats.to_csv(feats_fp, sep='\\t')"
   ]
  },
  {
   "cell_type": "code",
   "execution_count": 27,
   "id": "942db6a5",
   "metadata": {
    "hidden": true
   },
   "outputs": [],
   "source": [
    "channel_fp = os.path.join(input_dir, 'channel_thresholds.txt')\n",
    "channel_df.to_csv(channel_fp, sep='\\t')"
   ]
  },
  {
   "cell_type": "code",
   "execution_count": 31,
   "id": "9354de08",
   "metadata": {
    "hidden": true
   },
   "outputs": [],
   "source": [
    "ome_tiff_fp = '/diskmnt/Projects/Users/estorrs/multiplex_data/codex/htan/brca/HT206B1_H1_06252022/level_2/HT206B1_H1_06252022.ome.tiff'"
   ]
  },
  {
   "cell_type": "code",
   "execution_count": 29,
   "id": "98a4f5f1",
   "metadata": {
    "hidden": true
   },
   "outputs": [],
   "source": [
    "out_dir = os.path.join(run_dir, 'outputs')\n",
    "Path(input_dir).mkdir(parents=True, exist_ok=True)"
   ]
  },
  {
   "cell_type": "code",
   "execution_count": 32,
   "id": "a9722128",
   "metadata": {
    "hidden": true
   },
   "outputs": [
    {
     "data": {
      "text/plain": [
       "'mip generate-region-features --spatial-features /diskmnt/Projects/Users/estorrs/multiplex_data/analysis/brca_dcis_v1/region_metrics/HT206B1_H1_06252022/inputs/spatial_features.txt --ome-tiff /diskmnt/Projects/Users/estorrs/multiplex_data/codex/htan/brca/HT206B1_H1_06252022/level_2/HT206B1_H1_06252022.ome.tiff --regions-mask /diskmnt/Projects/Users/estorrs/multiplex_data/codex/htan/brca/HT206B1_H1_06252022/level_3/annotations/tumor_mask_10_alpha.tif --channel-thresholds /diskmnt/Projects/Users/estorrs/multiplex_data/analysis/brca_dcis_v1/region_metrics/HT206B1_H1_06252022/inputs/channel_thresholds.txt --output-dir /diskmnt/Projects/Users/estorrs/multiplex_data/analysis/brca_dcis_v1/region_metrics/HT206B1_H1_06252022/outputs --max-region-size 50000'"
      ]
     },
     "execution_count": 32,
     "metadata": {},
     "output_type": "execute_result"
    }
   ],
   "source": [
    "command = f'mip generate-region-features --spatial-features {feats_fp} \\\n",
    "--ome-tiff {ome_tiff_fp} --regions-mask {tumor_regions_tif} --channel-thresholds {channel_fp} \\\n",
    "--output-dir {out_dir} --max-region-size 50000'\n",
    "\n",
    "command"
   ]
  },
  {
   "cell_type": "code",
   "execution_count": null,
   "id": "333ca4e8",
   "metadata": {
    "hidden": true
   },
   "outputs": [],
   "source": []
  },
  {
   "cell_type": "code",
   "execution_count": null,
   "id": "f0765715",
   "metadata": {
    "hidden": true
   },
   "outputs": [],
   "source": []
  }
 ],
 "metadata": {
  "kernelspec": {
   "display_name": "Python 3 (ipykernel)",
   "language": "python",
   "name": "python3"
  },
  "language_info": {
   "codemirror_mode": {
    "name": "ipython",
    "version": 3
   },
   "file_extension": ".py",
   "mimetype": "text/x-python",
   "name": "python",
   "nbconvert_exporter": "python",
   "pygments_lexer": "ipython3",
   "version": "3.8.0"
  }
 },
 "nbformat": 4,
 "nbformat_minor": 5
}
