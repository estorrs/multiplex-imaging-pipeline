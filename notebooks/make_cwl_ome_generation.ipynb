{
 "cells": [
  {
   "cell_type": "code",
   "execution_count": 1,
   "id": "d24f105a",
   "metadata": {},
   "outputs": [],
   "source": [
    "import os\n",
    "import yaml\n",
    "import json\n",
    "import pandas as pd\n",
    "from pathlib import Path"
   ]
  },
  {
   "cell_type": "code",
   "execution_count": 2,
   "id": "4a2d1218",
   "metadata": {},
   "outputs": [],
   "source": [
    "# parser.add_argument('mode', type=str,\n",
    "#     choices=['make-ome', 'segment-ome', 'generate-spatial-features', 'show-channels'],\n",
    "#     help='Which task mip is to execute.')\n",
    "\n",
    "# ##############\n",
    "# ## make-ome ##\n",
    "# ##############\n",
    "# parser.add_argument('--input-tif', type=str,\n",
    "#     help='Used in make-ome mode. Either directory of stitched tif files that will be combined into a single ome.tiff file, a multichannel .tif (for original codex platform), or a .qptiff (phenocycler platform).')\n",
    "\n",
    "# parser.add_argument('--output-filepath', type=str,\n",
    "#     help='Location to write ome.tiff file')\n",
    "\n",
    "# parser.add_argument('--platform', type=str,\n",
    "#     choices=['codex', 'phenocycler', 'raw'], default='phenocycler',\n",
    "#     help='Which platform produced the input images. phenocycler assumes a .qptiff from the akoya phenocycler platform. codex assumes a multichannel .tif output by the original akoya codex platform. raw will save a directory of .tifs together into a multiplex image.')\n",
    "\n",
    "# parser.add_argument('--bbox', type=str,\n",
    "#     help='If desired, bbox in to crop image with. Must be the following format: \"top,bottom,left,right\"')"
   ]
  },
  {
   "cell_type": "code",
   "execution_count": 3,
   "id": "04ae4257",
   "metadata": {},
   "outputs": [],
   "source": [
    "cwl_dir = '/diskmnt/Projects/Users/estorrs/multiplex-imaging-pipeline/cwl'\n",
    "Path(cwl_dir).mkdir(parents=True, exist_ok=True)"
   ]
  },
  {
   "cell_type": "code",
   "execution_count": 4,
   "id": "6e91a8a1",
   "metadata": {},
   "outputs": [],
   "source": [
    "template = {\n",
    "    'bbox': 'a_string',\n",
    "    'platform': 'a_string',\n",
    "    'output_filepath': 'a_string',\n",
    "    'input_tif': {\n",
    "        'class': 'File',\n",
    "        'path': 'a/file/path',\n",
    "    },\n",
    "}"
   ]
  },
  {
   "cell_type": "code",
   "execution_count": 5,
   "id": "bb67f8de",
   "metadata": {},
   "outputs": [],
   "source": [
    "yaml.safe_dump(template, open(os.path.join(cwl_dir, 'template.ome_generation.yaml'), 'w'))"
   ]
  },
  {
   "cell_type": "code",
   "execution_count": 6,
   "id": "3f77b741",
   "metadata": {},
   "outputs": [],
   "source": [
    "cwl = {\n",
    "    'class': 'CommandLineTool',\n",
    "    'cwlVersion': 'v1.0',\n",
    "    '$namespaces': {'sbg': 'https://www.sevenbridges.com/'},\n",
    "    'id': 'ome_generation',\n",
    "    'label': 'ome_generation',\n",
    "    'baseCommand': ['mip'],\n",
    "    'inputs': [\n",
    "        {\n",
    "            'id': 'input_tif',\n",
    "            'type': 'File',\n",
    "            'inputBinding': {\n",
    "                'position': '0',\n",
    "                'prefix': '--input-tif',\n",
    "            }\n",
    "        },\n",
    "        {\n",
    "            'id': 'output_filepath',\n",
    "            'type': 'string?',\n",
    "            'default': 'output.ome.tiff',\n",
    "            'inputBinding': {\n",
    "                'prefix': '--output-filepath',\n",
    "                'position': '0'\n",
    "            }\n",
    "        },\n",
    "        {\n",
    "            'id': 'platform',\n",
    "            'type': 'string?',\n",
    "            'default': 'phenocycler',\n",
    "            'inputBinding': {\n",
    "                'prefix': '--platform',\n",
    "                'position': '0'\n",
    "            }\n",
    "        },\n",
    "        {\n",
    "            'id': 'bbox',\n",
    "            'type': 'string?',\n",
    "            'inputBinding': {\n",
    "                'prefix': '--bbox',\n",
    "                'position': '0'\n",
    "            }\n",
    "        },\n",
    "        \n",
    "        # needs path to be set so it works on compute1\n",
    "        {\n",
    "            'id': 'environ_PATH',\n",
    "            'type': 'string?',\n",
    "            'default': '/miniconda/envs/mip/bin:$PATH'\n",
    "        },\n",
    "    ],\n",
    "    'arguments': [\n",
    "        {\n",
    "            'position': 1,\n",
    "            'valueFrom': 'make-ome'\n",
    "        },\n",
    "    ],\n",
    "    'outputs': [\n",
    "        {\n",
    "            'id': 'output_ome_tiff',\n",
    "            'type': 'File',\n",
    "            'outputBinding': {'glob': '*.ome.tiff'}\n",
    "        },\n",
    "    ],\n",
    "    'requirements': [\n",
    "        {\n",
    "            'class': 'DockerRequirement',\n",
    "            'dockerPull': 'estorrs/multiplex-imaging-pipeline:0.0.1'\n",
    "        },\n",
    "        {\n",
    "            'class': 'ResourceRequirement',\n",
    "            'ramMin': 60000\n",
    "        },\n",
    "        {\n",
    "            'class': 'EnvVarRequirement',\n",
    "            'envDef': {\n",
    "                'PATH': '$(inputs.environ_PATH)',\n",
    "            }\n",
    "        }\n",
    "    ]\n",
    "}"
   ]
  },
  {
   "cell_type": "code",
   "execution_count": 7,
   "id": "ccb6eb58",
   "metadata": {},
   "outputs": [],
   "source": [
    "yaml.safe_dump(cwl, open(os.path.join(cwl_dir, 'ome_generation.cwl'), 'w'))"
   ]
  },
  {
   "cell_type": "code",
   "execution_count": null,
   "id": "f2df833e",
   "metadata": {},
   "outputs": [],
   "source": []
  }
 ],
 "metadata": {
  "kernelspec": {
   "display_name": "Python 3 (ipykernel)",
   "language": "python",
   "name": "python3"
  },
  "language_info": {
   "codemirror_mode": {
    "name": "ipython",
    "version": 3
   },
   "file_extension": ".py",
   "mimetype": "text/x-python",
   "name": "python",
   "nbconvert_exporter": "python",
   "pygments_lexer": "ipython3",
   "version": "3.8.0"
  }
 },
 "nbformat": 4,
 "nbformat_minor": 5
}
