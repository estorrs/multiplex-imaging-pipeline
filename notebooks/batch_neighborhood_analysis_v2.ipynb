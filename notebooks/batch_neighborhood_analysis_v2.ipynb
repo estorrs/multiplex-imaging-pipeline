{
 "cells": [
  {
   "cell_type": "code",
   "execution_count": null,
   "id": "4ac4b584",
   "metadata": {},
   "outputs": [],
   "source": [
    "import logging\n",
    "import os\n",
    "from pathlib import Path\n",
    "\n",
    "import scanpy as sc\n",
    "import numpy as np\n",
    "import pandas as pd\n",
    "import scipy\n",
    "import anndata\n",
    "import squidpy as sq\n",
    "import matplotlib.pyplot as plt\n",
    "import tifffile\n",
    "from sklearn.neighbors import NearestNeighbors\n",
    "from sklearn.cluster import KMeans\n",
    "from gensim.corpora import Dictionary\n",
    "from gensim.models import LdaModel\n",
    "from umap import UMAP"
   ]
  },
  {
   "cell_type": "code",
   "execution_count": null,
   "id": "f503d20e",
   "metadata": {},
   "outputs": [],
   "source": [
    "from mgitools.os_helpers import listfiles"
   ]
  },
  {
   "cell_type": "code",
   "execution_count": null,
   "id": "344d9813",
   "metadata": {},
   "outputs": [],
   "source": [
    "%load_ext autoreload"
   ]
  },
  {
   "cell_type": "code",
   "execution_count": null,
   "id": "3dda7ffb",
   "metadata": {},
   "outputs": [],
   "source": [
    "%autoreload 2"
   ]
  },
  {
   "cell_type": "code",
   "execution_count": null,
   "id": "16d05eec",
   "metadata": {},
   "outputs": [],
   "source": [
    "from mip.gating import get_ideal_window"
   ]
  },
  {
   "cell_type": "code",
   "execution_count": null,
   "id": "5d144be0",
   "metadata": {},
   "outputs": [],
   "source": [
    "logging.basicConfig(format='%(asctime)s : %(levelname)s : %(message)s', level=logging.DEBUG)"
   ]
  },
  {
   "cell_type": "code",
   "execution_count": null,
   "id": "c79af57a",
   "metadata": {},
   "outputs": [],
   "source": [
    "analysis_dir = '/diskmnt/Projects/Users/estorrs/multiplex_data/analysis/brca_dcis_v1'\n",
    "sc.settings.figdir = os.path.join(analysis_dir, 'figures')\n",
    "Path(os.path.join(analysis_dir, 'figures')).mkdir(parents=True, exist_ok=True)"
   ]
  },
  {
   "cell_type": "code",
   "execution_count": null,
   "id": "3f0588da",
   "metadata": {},
   "outputs": [],
   "source": [
    "fps = sorted(listfiles('/diskmnt/Projects/Users/estorrs/multiplex_data/codex/htan/brca',\n",
    "                       regex=r'dcis_neighborhood_analysis/preprocessed_adata.h5ad$'))\n",
    "fps"
   ]
  },
  {
   "cell_type": "code",
   "execution_count": null,
   "id": "a1647b49",
   "metadata": {},
   "outputs": [],
   "source": [
    "def cell_to_neighbors(adata, radius=50):\n",
    "    X = adata.obs[['centroid_row', 'centroid_col']].values\n",
    "    nbrs = NearestNeighbors(algorithm='ball_tree').fit(X)\n",
    "    \n",
    "    g = nbrs.radius_neighbors_graph(X, radius=radius)\n",
    "    rows, cols, _ = scipy.sparse.find(g)\n",
    "    \n",
    "    cell_to_neighbhors = {}\n",
    "    for r, c in zip(rows, cols):\n",
    "        cid = adata.obs.index[r]\n",
    "        if cid not in cell_to_neighbhors:\n",
    "            cell_to_neighbhors[cid] = []\n",
    "        else:\n",
    "            cell_to_neighbhors[cid].append(adata.obs.index[c])\n",
    "            \n",
    "    return cell_to_neighbhors"
   ]
  },
  {
   "cell_type": "code",
   "execution_count": null,
   "id": "9f1a81d3",
   "metadata": {},
   "outputs": [],
   "source": [
    "sample_to_adata = {fp.split('/')[-4]:sc.read_h5ad(fp) for fp in fps}\n",
    "sample_to_adata.keys()"
   ]
  },
  {
   "cell_type": "code",
   "execution_count": null,
   "id": "dc4061c9",
   "metadata": {},
   "outputs": [],
   "source": [
    "cell_to_nbhrs = {}\n",
    "for sample, a in sample_to_adata.items():\n",
    "    a = a[a.obs['passes_qc']]\n",
    "    a.obs.index = [f'{sample}_{x}' for x in a.obs.index.to_list()]\n",
    "    cell_to_nbhrs.update(cell_to_neighbors(a, radius=100))"
   ]
  },
  {
   "cell_type": "code",
   "execution_count": null,
   "id": "624b1f05",
   "metadata": {},
   "outputs": [],
   "source": [
    "# fps = sorted(listfiles('/diskmnt/Projects/Users/estorrs/multiplex_data/codex/htan/', regex=r'pseudo.tiff$'))\n",
    "# fps"
   ]
  },
  {
   "cell_type": "code",
   "execution_count": null,
   "id": "0315e859",
   "metadata": {},
   "outputs": [],
   "source": [
    "# sample_to_pseudo = {fp.split('/')[-3]:tifffile.imread(fp) for fp in fps}"
   ]
  },
  {
   "cell_type": "code",
   "execution_count": null,
   "id": "48b46da0",
   "metadata": {},
   "outputs": [],
   "source": [
    "# sample_to_adata.keys()"
   ]
  },
  {
   "cell_type": "code",
   "execution_count": null,
   "id": "d17fb0b9",
   "metadata": {
    "scrolled": true
   },
   "outputs": [],
   "source": [
    "cells = []\n",
    "docs = []\n",
    "for s, a in sample_to_adata.items():\n",
    "    cell_to_cell_type = {c:ct for c, ct in zip(a.obs.index, a.obs['harmonized_cell_type'])}\n",
    "    docs += [[cell_to_cell_type[neighbor] for neighbor in cell_to_nbhrs[cell_id]]\n",
    "            for cell_id in a.obs.index.to_list()]\n",
    "    print(s, len(docs))\n",
    "    cells += a.obs.index.to_list()"
   ]
  },
  {
   "cell_type": "code",
   "execution_count": null,
   "id": "ea772427",
   "metadata": {
    "scrolled": true
   },
   "outputs": [],
   "source": [
    "dictionary = Dictionary(docs)\n",
    "corpus = [dictionary.doc2bow(doc) for doc in docs]"
   ]
  },
  {
   "cell_type": "code",
   "execution_count": null,
   "id": "ee31f972",
   "metadata": {},
   "outputs": [],
   "source": [
    "len(dictionary), len(corpus), len(cells)"
   ]
  },
  {
   "cell_type": "code",
   "execution_count": null,
   "id": "3e9a0d25",
   "metadata": {},
   "outputs": [],
   "source": [
    "num_topics = 10\n",
    "chunksize = len(corpus)\n",
    "passes = 2\n",
    "iterations = 100\n",
    "eval_every = 10 # turn this on to see how well everything is converging. off by default bc is takes time"
   ]
  },
  {
   "cell_type": "code",
   "execution_count": null,
   "id": "5d26582c",
   "metadata": {
    "scrolled": true
   },
   "outputs": [],
   "source": [
    "temp = dictionary[0]\n",
    "id2word = dictionary.id2token\n",
    "\n",
    "model = LdaModel(\n",
    "    corpus=corpus,\n",
    "    id2word=id2word,\n",
    "    chunksize=chunksize,\n",
    "    alpha='auto',\n",
    "    eta='auto',\n",
    "    iterations=iterations,\n",
    "    num_topics=num_topics,\n",
    "    passes=passes,\n",
    "    eval_every=eval_every\n",
    ")"
   ]
  },
  {
   "cell_type": "code",
   "execution_count": null,
   "id": "8b509d3a",
   "metadata": {},
   "outputs": [],
   "source": [
    "top_topics = model.top_topics(corpus)\n",
    "avg_topic_coherence = sum([t[1] for t in top_topics]) / num_topics"
   ]
  },
  {
   "cell_type": "code",
   "execution_count": null,
   "id": "0fa81d39",
   "metadata": {},
   "outputs": [],
   "source": [
    "def transformed_corpus_to_emb(tc, n_topics):\n",
    "    embs = []\n",
    "    for entity in tc:\n",
    "        default = [0] * n_topics\n",
    "        for topic, value in entity:\n",
    "            default[topic] = value\n",
    "        embs.append(default)\n",
    "    return np.asarray(embs)\n",
    "    "
   ]
  },
  {
   "cell_type": "code",
   "execution_count": null,
   "id": "e13d79ae",
   "metadata": {},
   "outputs": [],
   "source": [
    "transformed = model[corpus]\n",
    "embs = transformed_corpus_to_emb(transformed, num_topics)\n",
    "embs.shape"
   ]
  },
  {
   "cell_type": "code",
   "execution_count": null,
   "id": "e8e2c4ff",
   "metadata": {},
   "outputs": [],
   "source": [
    "logger = logging.getLogger()\n",
    "logger.setLevel(logging.CRITICAL)"
   ]
  },
  {
   "cell_type": "code",
   "execution_count": null,
   "id": "aa91d1bd",
   "metadata": {},
   "outputs": [],
   "source": [
    "kmeans = KMeans(n_clusters=20, random_state=0).fit(embs)\n",
    "set(kmeans.labels_)"
   ]
  },
  {
   "cell_type": "code",
   "execution_count": null,
   "id": "d8ca3571",
   "metadata": {},
   "outputs": [],
   "source": [
    "df = pd.DataFrame(data=embs, columns=np.arange(num_topics), index=cells)\n",
    "lda_adata = anndata.AnnData(df)\n",
    "lda_adata"
   ]
  },
  {
   "cell_type": "code",
   "execution_count": null,
   "id": "4ce8d9b9",
   "metadata": {},
   "outputs": [],
   "source": [
    "lda_adata.obs['LDA_kmeans_cluster'] = [str(x) for x in kmeans.labels_]"
   ]
  },
  {
   "cell_type": "code",
   "execution_count": null,
   "id": "d68546d5",
   "metadata": {},
   "outputs": [],
   "source": [
    "lda_adata.write_h5ad(os.path.join(analysis_dir, 'lda.h5ad'))"
   ]
  },
  {
   "cell_type": "code",
   "execution_count": null,
   "id": "f5774276",
   "metadata": {},
   "outputs": [],
   "source": []
  },
  {
   "cell_type": "code",
   "execution_count": null,
   "id": "4fbd0f54",
   "metadata": {},
   "outputs": [],
   "source": [
    "sc.pl.matrixplot(lda_adata, var_names=lda_adata.var.index, groupby='LDA_kmeans_cluster', dendrogram=True,\n",
    "                 save='lda_kmeans_cluster.pdf')"
   ]
  },
  {
   "cell_type": "code",
   "execution_count": null,
   "id": "938c129f",
   "metadata": {},
   "outputs": [],
   "source": [
    "topic_df = pd.DataFrame(data=model.get_topics(), columns=[dictionary.get(i) for i in range(len(dictionary))],\n",
    "                        index=np.arange(num_topics))\n",
    "import seaborn as sns\n",
    "sns.clustermap(topic_df, cmap='Blues')\n",
    "plt.tight_layout()\n",
    "plt.savefig(os.path.join(analysis_dir, 'figures', 'topic_heatmap.pdf'))"
   ]
  },
  {
   "cell_type": "code",
   "execution_count": null,
   "id": "149e77aa",
   "metadata": {},
   "outputs": [],
   "source": [
    "topic_map = {\n",
    "    0: 'Immune - M1/M2 macrophage',\n",
    "    1: 'Normalish Duct - center',\n",
    "    2: 'Stroma - Fibroblast',\n",
    "    3: 'Noise',\n",
    "    4: 'Tumor - boundary',\n",
    "    5: 'Immune - Mixed T cell',\n",
    "    6: 'Normalish Duct - boundary',\n",
    "    7: 'Tumor - center',\n",
    "    8: 'Vasculature',\n",
    "    9: 'Immune - CD8 T cell dominant'\n",
    "}\n"
   ]
  },
  {
   "cell_type": "code",
   "execution_count": null,
   "id": "b5b1c07f",
   "metadata": {},
   "outputs": [],
   "source": [
    "for sample, a in sample_to_adata.items():\n",
    "    for t in lda_adata.var.index:\n",
    "        a.obs[f'topic_{t}'] = lda_adata[a.obs.index, t].X.flatten()\n",
    "        a.obs['LDA_kmeans_cluster'] = lda_adata[a.obs.index].obs['LDA_kmeans_cluster'].to_list()\n",
    "    a.uns['topic_map'] = topic_map"
   ]
  },
  {
   "cell_type": "code",
   "execution_count": null,
   "id": "4392d022",
   "metadata": {},
   "outputs": [],
   "source": [
    "def visualize_roi(adata, scale=1000, size=10, color='harmonized_cell_type'):\n",
    "    fig, ax = plt.subplots(\n",
    "        figsize=(int(max(adata.obs['centroid_col']) / scale), int(max(adata.obs['centroid_row']) / scale)))\n",
    "    sc.pl.scatter(adata, x='centroid_col', y='centroid_row_inverted',\n",
    "                  color=color, size=size, ax=ax)\n",
    "    \n",
    "def visualize_topics(adata, size=2, n_cols=5, scale=3):\n",
    "    ratio = max(adata.obs['centroid_row']) / max(adata.obs['centroid_col'])\n",
    "    n_topics = len([c for c in adata.obs.columns if 'topic' in c])\n",
    "    n_rows = (n_topics // n_cols) + 1\n",
    "    fig, axs = plt.subplots(nrows=n_rows, ncols=n_cols,\n",
    "        figsize=(n_cols * scale, n_rows * (ratio * scale)))\n",
    "    i = 0\n",
    "    for r in range(n_rows):\n",
    "        for c in range(n_cols):\n",
    "            if i < n_topics:\n",
    "                ax = axs[r, c]\n",
    "                ax.scatter(adata.obs['centroid_col'], adata.obs['centroid_row_inverted'],\n",
    "                           s=size, c=adata.obs[f'topic_{i}'])\n",
    "                ax.set_xticks([])\n",
    "                ax.set_yticks([])\n",
    "#                 ax.set_title(f'topic_{i}')\n",
    "                ax.set_title(topic_map[i])\n",
    "            i += 1"
   ]
  },
  {
   "cell_type": "code",
   "execution_count": null,
   "id": "1cab7950",
   "metadata": {},
   "outputs": [],
   "source": [
    "visualize_topics(next(iter(sample_to_adata.values())))"
   ]
  },
  {
   "cell_type": "code",
   "execution_count": null,
   "id": "312714f3",
   "metadata": {},
   "outputs": [],
   "source": [
    "for s, a in sample_to_adata.items():\n",
    "    print(s)\n",
    "    visualize_roi(a)"
   ]
  },
  {
   "cell_type": "code",
   "execution_count": null,
   "id": "7e70dfc1",
   "metadata": {},
   "outputs": [],
   "source": [
    "for s, a in sample_to_adata.items():\n",
    "    print(s)\n",
    "    visualize_roi(a, color='LDA_kmeans_cluster')"
   ]
  },
  {
   "cell_type": "code",
   "execution_count": null,
   "id": "545ed338",
   "metadata": {},
   "outputs": [],
   "source": [
    "metacluster_to_cluster = {\n",
    "    'Tumor - Pure': [3, 17],\n",
    "    'Tumor - Vasculature': [2],\n",
    "    'Tumor - Immune Cold': [14, 1],\n",
    "    'Macrophage - Mixed': [0],\n",
    "    'Macrophage - TAM': [8],\n",
    "    'Endothelial': [16],\n",
    "    'Fibroblast - Deserted': []\n",
    "    'Noise': [12],\n",
    "    \n",
    "}\n",
    "cluster_to_metacluster = {str(v):k for k, vs in metacluster_to_cluster.items() for v in vs}\n",
    "sorted(cluster_to_metacluster.items())"
   ]
  },
  {
   "cell_type": "code",
   "execution_count": null,
   "id": "508ac89c",
   "metadata": {},
   "outputs": [],
   "source": [
    "cell_to_kmeans = {c:str(k) for c, k in zip(cells, kmeans.labels_)}\n",
    "cell_to_metacluster = {c:cluster_to_metacluster[cell_to_kmeans[c]]\n",
    "                      for c in cells}\n",
    "for s, a in sample_to_adata.items():\n",
    "    f = df.loc[a.obs.index.to_list()]\n",
    "    a.obsm['X_lda'] = f.values\n",
    "    a.obs['LDA_kmeans_cluster'] = [cell_to_kmeans[c] for c in a.obs.index.to_list()]\n",
    "    a.obs['metacluster'] = [cell_to_metacluster[c] for c in a.obs.index.to_list()]"
   ]
  },
  {
   "cell_type": "code",
   "execution_count": null,
   "id": "237a1e3f",
   "metadata": {},
   "outputs": [],
   "source": [
    "plt.rcParams[\"figure.figsize\"] = (8, 8)\n",
    "plt.rcParams[\"figure.dpi\"] = 120"
   ]
  },
  {
   "cell_type": "code",
   "execution_count": null,
   "id": "f5eb1d0c",
   "metadata": {},
   "outputs": [],
   "source": [
    "a.uns['metacluster_colors']"
   ]
  },
  {
   "cell_type": "code",
   "execution_count": null,
   "id": "4f8aa7d2",
   "metadata": {},
   "outputs": [],
   "source": [
    "def show_cluster(adata, cluster, cluster_col='metacluster', radius=300):\n",
    "    r1, r2, c1, c2 = get_ideal_window(\n",
    "        adata, radius=radius, cell_type=cluster, cell_type_col=cluster_col,\n",
    "        return_filtered=False)\n",
    "    sc.pl.spatial(adata, color=cluster_col, crop_coord=[c1, c2, r1, r2], size=1.)\n",
    "    return r1, r2, c1, c2\n",
    "    \n",
    "def display_on_img(adata, img, cluster, cluster_col='metacluster', radius=300, show_all=False,\n",
    "                  pallete=sns.color_palette('tab20'), s=5, edgecolors='black', ax=None, legend=True,\n",
    "                  pallete_map=None):\n",
    "    f, (r1, r2, c1, c2) = get_ideal_window(\n",
    "        adata, radius=radius, cell_type=cluster, cell_type_col=cluster_col,\n",
    "        return_filtered=True)\n",
    "    \n",
    "    if ax is None:\n",
    "        fig, ax = plt.subplots()\n",
    "    im = ax.imshow(img[r1:r2, c1:c2])\n",
    "    \n",
    "    if show_all:\n",
    "        f = adata[((adata.obs['centroid_row']>r1)&(adata.obs['centroid_row']<r2))]\n",
    "        f = f[((f.obs['centroid_col']>c1)&(f.obs['centroid_col']<c2))]\n",
    "        \n",
    "        for ct, color in zip(sorted(set(f.obs[cluster_col])), pallete):\n",
    "            fx = f[f.obs[cluster_col]==ct]\n",
    "            if pallete_map is not None:\n",
    "                color = pallete_map[ct]\n",
    "            ax.scatter(fx.obs['centroid_col'] - c1, fx.obs['centroid_row'] - r1, c=color, label=ct, s=s,\n",
    "                      edgecolors=edgecolors)\n",
    "            \n",
    "        if legend:\n",
    "            ax.legend(loc='center left', bbox_to_anchor=(1, 0.5))\n",
    "    else:\n",
    "        ax.scatter(f.obs['centroid_col'] - c1, f.obs['centroid_row'] - r1, c='red', s=s,\n",
    "                  edgecolors=edgecolors)\n",
    "    return r1, r2, c1, c2"
   ]
  },
  {
   "cell_type": "code",
   "execution_count": null,
   "id": "96e57cb3",
   "metadata": {},
   "outputs": [],
   "source": [
    "s = 'HT206B1-H1'\n",
    "a = sample_to_adata[s]\n",
    "a.shape"
   ]
  },
  {
   "cell_type": "code",
   "execution_count": null,
   "id": "ed22d2d5",
   "metadata": {},
   "outputs": [],
   "source": [
    "display_on_img(a, sample_to_pseudo[s], 'Tumor - Infiltrating T cell', cluster_col='metacluster', radius=1000,\n",
    "               show_all=True, s=1, edgecolors=None)"
   ]
  },
  {
   "cell_type": "code",
   "execution_count": null,
   "id": "2bd10f0d",
   "metadata": {},
   "outputs": [],
   "source": [
    "for s, a in sample_to_adata.items():\n",
    "    print(s)\n",
    "    display_on_img(a, sample_to_pseudo[s], metacluster, cluster_col='metacluster', radius=300)\n",
    "    \n",
    "    plt.show()"
   ]
  },
  {
   "cell_type": "code",
   "execution_count": null,
   "id": "df2ce521",
   "metadata": {},
   "outputs": [],
   "source": [
    "metacluster = 'Tumor - Infiltrating T cell'\n",
    "\n",
    "fig, axs = plt.subplots(ncols=len(sample_to_adata), figsize=(20, 5))\n",
    "m = {}\n",
    "for s, a in sample_to_adata.items():\n",
    "    m.update({ct:c for ct, c in zip(sorted(set(a.obs['metacluster'])), sns.color_palette('tab20'))})\n",
    "for i, (s, a) in enumerate(sample_to_adata.items()):\n",
    "    print(s)\n",
    "    ax = axs[i]\n",
    "    display_on_img(a, sample_to_pseudo[s], metacluster, cluster_col='metacluster', radius=300, show_all=False,\n",
    "                   s=5, ax=ax, edgecolors=None)\n",
    "    ax.set_xticks([])\n",
    "    ax.set_yticks([])\n",
    "plt.show()"
   ]
  },
  {
   "cell_type": "code",
   "execution_count": null,
   "id": "12036672",
   "metadata": {},
   "outputs": [],
   "source": [
    "metacluster = 'Tumor - Pure'\n",
    "\n",
    "fig, axs = plt.subplots(ncols=len(sample_to_adata), figsize=(20, 5))\n",
    "m = {}\n",
    "for s, a in sample_to_adata.items():\n",
    "    m.update({ct:c for ct, c in zip(sorted(set(a.obs['metacluster'])), sns.color_palette('tab20'))})\n",
    "for i, (s, a) in enumerate(sample_to_adata.items()):\n",
    "    print(s)\n",
    "    ax = axs[i]\n",
    "    display_on_img(a, sample_to_pseudo[s], metacluster, cluster_col='metacluster', radius=500, show_all=False,\n",
    "                   s=5, ax=ax, edgecolors=None)\n",
    "    ax.set_xticks([])\n",
    "    ax.set_yticks([])\n",
    "plt.show()"
   ]
  },
  {
   "cell_type": "code",
   "execution_count": null,
   "id": "b184ac80",
   "metadata": {},
   "outputs": [],
   "source": [
    "metacluster = 'Tumor - Infiltrating T cell'\n",
    "for s, a in sample_to_adata.items():\n",
    "    print(s)\n",
    "    display_on_img(a, sample_to_pseudo[s], metacluster, cluster_col='metacluster', radius=300, show_all=True,\n",
    "                   s=20, pallete_map=m)\n",
    "    plt.show()"
   ]
  },
  {
   "cell_type": "code",
   "execution_count": null,
   "id": "981fa234",
   "metadata": {},
   "outputs": [],
   "source": [
    "metacluster = 'Noise'\n",
    "for s, a in sample_to_adata.items():\n",
    "    print(s)\n",
    "    display_on_img(a, sample_to_pseudo[s], metacluster, cluster_col='metacluster', radius=300, show_all=True,\n",
    "                   s=20)\n",
    "    plt.show()"
   ]
  },
  {
   "cell_type": "code",
   "execution_count": null,
   "id": "e6fd3935",
   "metadata": {},
   "outputs": [],
   "source": []
  },
  {
   "cell_type": "code",
   "execution_count": null,
   "id": "85b4a722",
   "metadata": {},
   "outputs": [],
   "source": [
    "for s, a in sample_to_adata.items():\n",
    "    fp = f'/diskmnt/Projects/Users/estorrs/multiplex_data/codex/htan/{s}/level_4/metacluster_lda.h5ad'\n",
    "    a.write_h5ad(fp)"
   ]
  },
  {
   "cell_type": "code",
   "execution_count": null,
   "id": "0edca12d",
   "metadata": {},
   "outputs": [],
   "source": [
    "from collections import Counter\n",
    "data, idxs = [], []\n",
    "cols = sorted(set(cell_to_metacluster.values()))\n",
    "for s, a in sample_to_adata.items():\n",
    "    counts = Counter(a.obs['metacluster'])\n",
    "    data.append([counts.get(c, 0) for c in cols])\n",
    "    idxs.append(s)\n",
    "df = pd.DataFrame(data=data, index=idxs, columns=cols)\n",
    "df"
   ]
  },
  {
   "cell_type": "code",
   "execution_count": null,
   "id": "88a80ff1",
   "metadata": {},
   "outputs": [],
   "source": [
    "ax = df.plot(kind='bar', stacked=True, color=sns.color_palette('tab20'))\n",
    "ax.legend(loc='upper left', bbox_to_anchor=(1, 1))"
   ]
  },
  {
   "cell_type": "code",
   "execution_count": null,
   "id": "6cdc4e6b",
   "metadata": {},
   "outputs": [],
   "source": [
    "ax = (df / df.sum(axis=1).values.reshape(-1, 1)).plot(kind='bar', stacked=True, color=sns.color_palette('tab20'))\n",
    "ax.legend(loc='upper left', bbox_to_anchor=(1, 1))"
   ]
  },
  {
   "cell_type": "code",
   "execution_count": null,
   "id": "7d0a9b4a",
   "metadata": {},
   "outputs": [],
   "source": [
    "data, idxs = [], []\n",
    "cols = sorted(set(a.obs['cell_type']))\n",
    "for s, a in sample_to_adata.items():\n",
    "    counts = Counter(a.obs['cell_type'])\n",
    "    data.append([counts.get(c, 0) for c in cols])\n",
    "    idxs.append(s)\n",
    "df = pd.DataFrame(data=data, index=idxs, columns=cols)\n",
    "df"
   ]
  },
  {
   "cell_type": "code",
   "execution_count": null,
   "id": "1ad126cb",
   "metadata": {},
   "outputs": [],
   "source": [
    "ax = df.plot(kind='bar', stacked=True, color=sns.color_palette('tab20'))\n",
    "ax.legend(loc='upper left', bbox_to_anchor=(1, 1))"
   ]
  },
  {
   "cell_type": "code",
   "execution_count": null,
   "id": "c7a24cd7",
   "metadata": {},
   "outputs": [],
   "source": [
    "ax = (df / df.sum(axis=1).values.reshape(-1, 1)).plot(kind='bar', stacked=True, color=sns.color_palette('tab20'))\n",
    "ax.legend(loc='upper left', bbox_to_anchor=(1, 1))"
   ]
  },
  {
   "cell_type": "code",
   "execution_count": null,
   "id": "81d2b86b",
   "metadata": {},
   "outputs": [],
   "source": []
  },
  {
   "cell_type": "code",
   "execution_count": null,
   "id": "e4cb9759",
   "metadata": {},
   "outputs": [],
   "source": [
    "sq.gr.spatial_neighbors(a, key_added='spatial')"
   ]
  },
  {
   "cell_type": "code",
   "execution_count": null,
   "id": "49b4fd09",
   "metadata": {},
   "outputs": [],
   "source": [
    "sq.gr.interaction_matrix(a, cluster_key=\"metacluster\")"
   ]
  },
  {
   "cell_type": "code",
   "execution_count": null,
   "id": "726cf02a",
   "metadata": {},
   "outputs": [],
   "source": [
    "sq.pl.interaction_matrix(a, cluster_key=\"metacluster\", vmax=10000)"
   ]
  },
  {
   "cell_type": "code",
   "execution_count": null,
   "id": "89e2a7bb",
   "metadata": {},
   "outputs": [],
   "source": [
    "sq.gr.co_occurrence(a, cluster_key=\"metacluster\", n_splits=1, n_jobs=40,\n",
    "                    interval=[32, 64, 128, 256, 512, 1028])"
   ]
  },
  {
   "cell_type": "code",
   "execution_count": null,
   "id": "afe1908c",
   "metadata": {},
   "outputs": [],
   "source": [
    "sq.pl.co_occurrence(\n",
    "    a,\n",
    "    cluster_key=\"metacluster\",\n",
    "    clusters=[\"Myoepithelium\"],\n",
    "    figsize=(15, 4),\n",
    ")"
   ]
  },
  {
   "cell_type": "code",
   "execution_count": null,
   "id": "3ceb2e1d",
   "metadata": {},
   "outputs": [],
   "source": [
    "sq.pl.co_occurrence(\n",
    "    a,\n",
    "    cluster_key=\"metacluster\",\n",
    "    clusters=[\"Immune - T cell\"],\n",
    "    figsize=(15, 4),\n",
    ")"
   ]
  },
  {
   "cell_type": "code",
   "execution_count": null,
   "id": "74ae13aa",
   "metadata": {},
   "outputs": [],
   "source": [
    "for c in sorted(set(a.obs['metacluster'])):\n",
    "    sq.pl.co_occurrence(\n",
    "        a,\n",
    "        cluster_key=\"metacluster\",\n",
    "        clusters=[c],\n",
    "#         dpi=220\n",
    "        figsize=(15, 4),\n",
    "    )"
   ]
  },
  {
   "cell_type": "code",
   "execution_count": null,
   "id": "2a091e09",
   "metadata": {},
   "outputs": [],
   "source": [
    "fps = sorted(listfiles('/diskmnt/Projects/Users/estorrs/multiplex_data/codex/htan/', regex=r'metacluster_lda.h5ad$'))\n",
    "fps"
   ]
  },
  {
   "cell_type": "code",
   "execution_count": null,
   "id": "958751a3",
   "metadata": {},
   "outputs": [],
   "source": [
    "sample_to_adata = {fp.split('/')[-3]:sc.read_h5ad(fp) for fp in fps}"
   ]
  },
  {
   "cell_type": "code",
   "execution_count": null,
   "id": "7337a6a6",
   "metadata": {},
   "outputs": [],
   "source": [
    "for s, a in sample_to_adata.items():\n",
    "    print(s)\n",
    "    sq.gr.spatial_neighbors(a, key_added='spatial')\n",
    "    sq.gr.interaction_matrix(a, cluster_key=\"metacluster\")\n",
    "    sq.gr.co_occurrence(a, cluster_key=\"metacluster\", n_splits=1, n_jobs=40, interval=[50, 100, 200, 500, 1000])\n",
    "    sq.gr.interaction_matrix(a, cluster_key=\"cell_type\")\n",
    "    sq.gr.co_occurrence(a, cluster_key=\"cell_type\", n_splits=1, n_jobs=40, interval=[50, 100, 200, 500, 1000])\n",
    "    a.write_h5ad(f'/diskmnt/Projects/Users/estorrs/multiplex_data/codex/htan/{s}/level_4/metacluster_spatial_analysis.h5ad')\n",
    "    "
   ]
  },
  {
   "cell_type": "code",
   "execution_count": null,
   "id": "66bcbfb8",
   "metadata": {},
   "outputs": [],
   "source": []
  },
  {
   "cell_type": "code",
   "execution_count": null,
   "id": "e1e7da87",
   "metadata": {},
   "outputs": [],
   "source": []
  },
  {
   "cell_type": "code",
   "execution_count": null,
   "id": "09a2e7f8",
   "metadata": {},
   "outputs": [],
   "source": []
  },
  {
   "cell_type": "code",
   "execution_count": null,
   "id": "f0d28380",
   "metadata": {},
   "outputs": [],
   "source": []
  }
 ],
 "metadata": {
  "kernelspec": {
   "display_name": "Python 3 (ipykernel)",
   "language": "python",
   "name": "python3"
  },
  "language_info": {
   "codemirror_mode": {
    "name": "ipython",
    "version": 3
   },
   "file_extension": ".py",
   "mimetype": "text/x-python",
   "name": "python",
   "nbconvert_exporter": "python",
   "pygments_lexer": "ipython3",
   "version": "3.7.12"
  }
 },
 "nbformat": 4,
 "nbformat_minor": 5
}
