{
 "cells": [
  {
   "cell_type": "code",
   "execution_count": null,
   "id": "4ac4b584",
   "metadata": {},
   "outputs": [],
   "source": [
    "import logging\n",
    "import os\n",
    "from pathlib import Path\n",
    "\n",
    "import scanpy as sc\n",
    "import numpy as np\n",
    "import pandas as pd\n",
    "import scipy\n",
    "import anndata\n",
    "import squidpy as sq\n",
    "import matplotlib.pyplot as plt\n",
    "import tifffile\n",
    "from sklearn.neighbors import NearestNeighbors\n",
    "from sklearn.cluster import KMeans\n",
    "from sklearn.metrics import roc_auc_score, roc_curve\n",
    "from gensim.corpora import Dictionary\n",
    "from gensim.models import LdaModel\n",
    "from umap import UMAP"
   ]
  },
  {
   "cell_type": "code",
   "execution_count": null,
   "id": "f503d20e",
   "metadata": {},
   "outputs": [],
   "source": [
    "from mgitools.os_helpers import listfiles"
   ]
  },
  {
   "cell_type": "code",
   "execution_count": null,
   "id": "344d9813",
   "metadata": {},
   "outputs": [],
   "source": [
    "%load_ext autoreload"
   ]
  },
  {
   "cell_type": "code",
   "execution_count": null,
   "id": "3dda7ffb",
   "metadata": {},
   "outputs": [],
   "source": [
    "%autoreload 2"
   ]
  },
  {
   "cell_type": "code",
   "execution_count": null,
   "id": "16d05eec",
   "metadata": {},
   "outputs": [],
   "source": [
    "from mip.gating import get_ideal_window"
   ]
  },
  {
   "cell_type": "code",
   "execution_count": null,
   "id": "5d144be0",
   "metadata": {},
   "outputs": [],
   "source": [
    "logging.basicConfig(format='%(asctime)s : %(levelname)s : %(message)s', level=logging.DEBUG)"
   ]
  },
  {
   "cell_type": "code",
   "execution_count": null,
   "id": "f44dfb12",
   "metadata": {},
   "outputs": [],
   "source": [
    "analysis_dir = '/diskmnt/Projects/Users/estorrs/multiplex_data/analysis/brca_dcis_v1'\n",
    "sc.settings.figdir = os.path.join(analysis_dir, 'figures')\n",
    "Path(os.path.join(analysis_dir, 'figures')).mkdir(parents=True, exist_ok=True)"
   ]
  },
  {
   "cell_type": "code",
   "execution_count": null,
   "id": "3f0588da",
   "metadata": {},
   "outputs": [],
   "source": [
    "fps = sorted(listfiles('/diskmnt/Projects/Users/estorrs/multiplex_data/codex/htan/brca',\n",
    "                       regex=r'dcis_neighborhood_analysis/preprocessed_adata.h5ad$'))\n",
    "fps"
   ]
  },
  {
   "cell_type": "code",
   "execution_count": null,
   "id": "a1647b49",
   "metadata": {},
   "outputs": [],
   "source": [
    "def cell_to_neighbors(adata, radius=50):\n",
    "    X = adata.obs[['centroid_row', 'centroid_col']].values\n",
    "    nbrs = NearestNeighbors(algorithm='ball_tree').fit(X)\n",
    "    \n",
    "    g = nbrs.radius_neighbors_graph(X, radius=radius)\n",
    "    rows, cols, _ = scipy.sparse.find(g)\n",
    "    \n",
    "    cell_to_neighbhors = {}\n",
    "    for r, c in zip(rows, cols):\n",
    "        cid = adata.obs.index[r]\n",
    "        if cid not in cell_to_neighbhors:\n",
    "            cell_to_neighbhors[cid] = []\n",
    "        else:\n",
    "            cell_to_neighbhors[cid].append(adata.obs.index[c])\n",
    "            \n",
    "    return cell_to_neighbhors"
   ]
  },
  {
   "cell_type": "code",
   "execution_count": null,
   "id": "dc4061c9",
   "metadata": {},
   "outputs": [],
   "source": [
    "sample_to_adata = {}\n",
    "cell_to_nbhrs = {}\n",
    "for fp in fps:\n",
    "    sample = fp.split('/')[-4]\n",
    "    a = sc.read_h5ad(fp)\n",
    "    print(sample, a.shape)\n",
    "    \n",
    "    if 'passes_qc' in a.obs.columns:\n",
    "        a = a[a.obs['passes_qc']]\n",
    "        \n",
    "    a = a[a.obs['harmonized_cell_type']!='Noise']\n",
    "        \n",
    "    a.obs['cell_id'] = a.obs.index.to_list()\n",
    "    a.obs.index = [f'{sample}_{x}' for x in a.obs.index.to_list()]\n",
    "    cell_to_nbhrs.update(cell_to_neighbors(a, radius=100))\n",
    "    sample_to_adata[sample] = a"
   ]
  },
  {
   "cell_type": "code",
   "execution_count": null,
   "id": "624b1f05",
   "metadata": {},
   "outputs": [],
   "source": [
    "# fps = sorted(listfiles('/diskmnt/Projects/Users/estorrs/multiplex_data/codex/htan/', regex=r'pseudo.tiff$'))\n",
    "# fps"
   ]
  },
  {
   "cell_type": "code",
   "execution_count": null,
   "id": "0315e859",
   "metadata": {},
   "outputs": [],
   "source": [
    "# sample_to_pseudo = {fp.split('/')[-3]:tifffile.imread(fp) for fp in fps}"
   ]
  },
  {
   "cell_type": "code",
   "execution_count": null,
   "id": "48b46da0",
   "metadata": {},
   "outputs": [],
   "source": [
    "# sample_to_adata.keys()"
   ]
  },
  {
   "cell_type": "code",
   "execution_count": null,
   "id": "d17fb0b9",
   "metadata": {
    "scrolled": true
   },
   "outputs": [],
   "source": [
    "cells = []\n",
    "docs = []\n",
    "for s, a in sample_to_adata.items():\n",
    "    cell_to_cell_type = {c:ct for c, ct in zip(a.obs.index.to_list(), a.obs['harmonized_cell_type'].to_list())}\n",
    "    docs += [[cell_to_cell_type[neighbor] for neighbor in cell_to_nbhrs[cell_id]]\n",
    "            for cell_id in a.obs.index.to_list()]\n",
    "    print(s, len(docs))\n",
    "    cells += a.obs.index.to_list()"
   ]
  },
  {
   "cell_type": "code",
   "execution_count": null,
   "id": "ea772427",
   "metadata": {
    "scrolled": true
   },
   "outputs": [],
   "source": [
    "dictionary = Dictionary(docs)\n",
    "corpus = [dictionary.doc2bow(doc) for doc in docs]"
   ]
  },
  {
   "cell_type": "code",
   "execution_count": null,
   "id": "ee31f972",
   "metadata": {},
   "outputs": [],
   "source": [
    "len(dictionary), len(corpus), len(cells)"
   ]
  },
  {
   "cell_type": "code",
   "execution_count": null,
   "id": "3e9a0d25",
   "metadata": {},
   "outputs": [],
   "source": [
    "num_topics = 10\n",
    "chunksize = len(corpus)\n",
    "passes = 2\n",
    "iterations = 100\n",
    "eval_every = 10 # turn this on to see how well everything is converging. off by default bc is takes time"
   ]
  },
  {
   "cell_type": "code",
   "execution_count": null,
   "id": "5d26582c",
   "metadata": {
    "scrolled": true
   },
   "outputs": [],
   "source": [
    "temp = dictionary[0]\n",
    "id2word = dictionary.id2token\n",
    "\n",
    "model = LdaModel(\n",
    "    corpus=corpus,\n",
    "    id2word=id2word,\n",
    "    chunksize=chunksize,\n",
    "    alpha='auto',\n",
    "    eta='auto',\n",
    "    iterations=iterations,\n",
    "    num_topics=num_topics,\n",
    "    passes=passes,\n",
    "    eval_every=eval_every\n",
    ")"
   ]
  },
  {
   "cell_type": "code",
   "execution_count": null,
   "id": "8b509d3a",
   "metadata": {},
   "outputs": [],
   "source": [
    "top_topics = model.top_topics(corpus)\n",
    "avg_topic_coherence = sum([t[1] for t in top_topics]) / num_topics"
   ]
  },
  {
   "cell_type": "code",
   "execution_count": null,
   "id": "0fa81d39",
   "metadata": {},
   "outputs": [],
   "source": [
    "def transformed_corpus_to_emb(tc, n_topics):\n",
    "    embs = []\n",
    "    for entity in tc:\n",
    "        default = [0] * n_topics\n",
    "        for topic, value in entity:\n",
    "            default[topic] = value\n",
    "        embs.append(default)\n",
    "    return np.asarray(embs)\n",
    "    "
   ]
  },
  {
   "cell_type": "code",
   "execution_count": null,
   "id": "e13d79ae",
   "metadata": {},
   "outputs": [],
   "source": [
    "transformed = model[corpus]\n",
    "embs = transformed_corpus_to_emb(transformed, num_topics)\n",
    "embs.shape"
   ]
  },
  {
   "cell_type": "code",
   "execution_count": null,
   "id": "e8e2c4ff",
   "metadata": {},
   "outputs": [],
   "source": [
    "logger = logging.getLogger()\n",
    "logger.setLevel(logging.CRITICAL)"
   ]
  },
  {
   "cell_type": "code",
   "execution_count": null,
   "id": "aa91d1bd",
   "metadata": {},
   "outputs": [],
   "source": [
    "kmeans = KMeans(n_clusters=20, random_state=0).fit(embs)\n",
    "set(kmeans.labels_)"
   ]
  },
  {
   "cell_type": "code",
   "execution_count": null,
   "id": "d8ca3571",
   "metadata": {},
   "outputs": [],
   "source": [
    "df = pd.DataFrame(data=embs, columns=np.arange(num_topics), index=cells)\n",
    "lda_adata = anndata.AnnData(df)\n",
    "lda_adata"
   ]
  },
  {
   "cell_type": "code",
   "execution_count": null,
   "id": "4ce8d9b9",
   "metadata": {},
   "outputs": [],
   "source": [
    "lda_adata.obs['LDA_kmeans_cluster'] = [str(x) for x in kmeans.labels_]"
   ]
  },
  {
   "cell_type": "code",
   "execution_count": null,
   "id": "0e821476",
   "metadata": {},
   "outputs": [],
   "source": [
    "lda_adata.write_h5ad(os.path.join(analysis_dir, 'lda.h5ad'))"
   ]
  },
  {
   "cell_type": "code",
   "execution_count": null,
   "id": "98927281",
   "metadata": {},
   "outputs": [],
   "source": []
  },
  {
   "cell_type": "code",
   "execution_count": null,
   "id": "4fbd0f54",
   "metadata": {},
   "outputs": [],
   "source": [
    "sc.pl.matrixplot(lda_adata, var_names=lda_adata.var.index, groupby='LDA_kmeans_cluster', dendrogram=True,\n",
    "                 save='lda_kmeans_cluster.pdf')"
   ]
  },
  {
   "cell_type": "code",
   "execution_count": null,
   "id": "938c129f",
   "metadata": {},
   "outputs": [],
   "source": [
    "topic_df = pd.DataFrame(data=model.get_topics(), columns=[dictionary.get(i) for i in range(len(dictionary))],\n",
    "                        index=np.arange(num_topics))\n",
    "import seaborn as sns\n",
    "sns.clustermap(topic_df, cmap='Blues')\n",
    "plt.tight_layout()\n",
    "plt.savefig(os.path.join(analysis_dir, 'figures', 'topic_heatmap.pdf'))"
   ]
  },
  {
   "cell_type": "code",
   "execution_count": null,
   "id": "e71d4d94",
   "metadata": {},
   "outputs": [],
   "source": [
    "topic_map = {\n",
    "    0: 'Immune - M2 macrophage dominant',\n",
    "    1: 'Mixed Stroma/Immune',\n",
    "    2: 'Endothelial',\n",
    "    3: 'Tumor boundary - Immune Low',\n",
    "    4: 'Immune - M1 macrophage dominant',\n",
    "    5: 'Tumor boundary - Immune High',\n",
    "    6: 'Normal Duct',\n",
    "    7: 'Immune - T cell High',\n",
    "    8: 'Stroma',\n",
    "    9: 'Tumor'\n",
    "}\n"
   ]
  },
  {
   "cell_type": "code",
   "execution_count": null,
   "id": "394349c4",
   "metadata": {},
   "outputs": [],
   "source": [
    "for sample, a in sample_to_adata.items():\n",
    "    for t in lda_adata.var.index:\n",
    "        a.obsm[f'LDA_topics'] = lda_adata[a.obs.index].X\n",
    "        a.obs['LDA_kmeans_cluster'] = lda_adata[a.obs.index].obs['LDA_kmeans_cluster'].to_list()\n",
    "        a.obsm['LDA_topics_named'] = pd.DataFrame(data=lda_adata[a.obs.index].X,\n",
    "                                                  columns=[topic_map[c] for c in range(lda_adata.shape[1])],\n",
    "                                                  index=a.obs.index.to_list())\n",
    "    a.uns['topic_map'] = topic_map"
   ]
  },
  {
   "cell_type": "code",
   "execution_count": null,
   "id": "25a9ad60",
   "metadata": {},
   "outputs": [],
   "source": [
    "def visualize_roi(adata, scale=1000, size=10, color='harmonized_cell_type'):\n",
    "    fig, ax = plt.subplots(\n",
    "        figsize=(int(max(adata.obs['centroid_col']) / scale), int(max(adata.obs['centroid_row']) / scale)))\n",
    "    sc.pl.scatter(adata, x='centroid_col', y='centroid_row_inverted',\n",
    "                  color=color, size=size, ax=ax)\n",
    "    \n",
    "def visualize_topics(adata, size=2, n_cols=5, scale=3):\n",
    "    ratio = max(adata.obs['centroid_row']) / max(adata.obs['centroid_col'])\n",
    "    n_topics = len([c for c in adata.obs.columns if 'topic' in c])\n",
    "    n_rows = (n_topics // n_cols) + 1\n",
    "    fig, axs = plt.subplots(nrows=n_rows, ncols=n_cols,\n",
    "        figsize=(n_cols * scale, n_rows * (ratio * scale)))\n",
    "    i = 0\n",
    "    for r in range(n_rows):\n",
    "        for c in range(n_cols):\n",
    "            if i < n_topics:\n",
    "                ax = axs[r, c]\n",
    "                ax.scatter(adata.obs['centroid_col'], adata.obs['centroid_row_inverted'],\n",
    "                           s=size, c=adata.obsm['LDA_topics_named'][topic_map[i]])\n",
    "                ax.set_xticks([])\n",
    "                ax.set_yticks([])\n",
    "#                 ax.set_title(f'topic_{i}')\n",
    "                ax.set_title(topic_map[i])\n",
    "            i += 1"
   ]
  },
  {
   "cell_type": "code",
   "execution_count": null,
   "id": "89c3f62f",
   "metadata": {},
   "outputs": [],
   "source": [
    "visualize_topics(next(iter(sample_to_adata.values())))"
   ]
  },
  {
   "cell_type": "code",
   "execution_count": null,
   "id": "0f9f1b00",
   "metadata": {
    "scrolled": true
   },
   "outputs": [],
   "source": [
    "for s, a in sample_to_adata.items():\n",
    "    print(s)\n",
    "    visualize_roi(a)"
   ]
  },
  {
   "cell_type": "code",
   "execution_count": null,
   "id": "877cca8b",
   "metadata": {
    "scrolled": true
   },
   "outputs": [],
   "source": [
    "for s, a in sample_to_adata.items():\n",
    "    print(s)\n",
    "    visualize_roi(a, color='LDA_kmeans_cluster')"
   ]
  },
  {
   "cell_type": "markdown",
   "id": "92e65b90",
   "metadata": {},
   "source": [
    "exporting to qitissue cluster file"
   ]
  },
  {
   "cell_type": "code",
   "execution_count": null,
   "id": "7b7b8fb3",
   "metadata": {},
   "outputs": [],
   "source": [
    "for sample, a in sample_to_adata.items():\n",
    "    df = a.obs[['LDA_kmeans_cluster', 'cell_id']]\n",
    "    df = df.set_index('cell_id')\n",
    "    df.index.name = 'CellID'\n",
    "    df.columns = ['Cluster']\n",
    "    directory = os.path.join(analysis_dir, 'qitissue')\n",
    "    Path(directory).mkdir(parents=True, exist_ok=True)\n",
    "    df.to_csv(os.path.join(directory, f'kmeans_cluster_file_{sample}.csv'))"
   ]
  },
  {
   "cell_type": "code",
   "execution_count": null,
   "id": "60cde1b9",
   "metadata": {},
   "outputs": [],
   "source": [
    "topic_map"
   ]
  },
  {
   "cell_type": "code",
   "execution_count": null,
   "id": "2fb93ef7",
   "metadata": {},
   "outputs": [],
   "source": [
    "p = lda_adata.copy()\n",
    "p.var.index = [topic_map[int(i)] for i in lda_adata.var.index]\n",
    "sc.pl.matrixplot(p, var_names=p.var.index, groupby='LDA_kmeans_cluster', dendrogram=True,\n",
    "                 save='lda_kmeans_cluster_named.pdf')"
   ]
  },
  {
   "cell_type": "code",
   "execution_count": null,
   "id": "5dd60c6c",
   "metadata": {},
   "outputs": [],
   "source": [
    "topic_df = pd.DataFrame(data=model.get_topics(), columns=[dictionary.get(i) for i in range(len(dictionary))],\n",
    "                        index=[topic_map[i] for i in np.arange(num_topics)])\n",
    "import seaborn as sns\n",
    "sns.clustermap(topic_df, cmap='Blues')\n",
    "plt.tight_layout()\n",
    "plt.savefig(os.path.join(analysis_dir, 'figures', 'topic_heatmap_named.pdf'))"
   ]
  },
  {
   "cell_type": "code",
   "execution_count": null,
   "id": "545ed338",
   "metadata": {
    "scrolled": false
   },
   "outputs": [],
   "source": [
    "metacluster_to_cluster = {\n",
    "    'Tumor Boundary - Stroma Enriched 1': [13],\n",
    "    'Tumor': [1, 14],\n",
    "    'Myoepithelial': [4, 10, 17],\n",
    "    'Tumor Boundary - M2 Macrophage Enriched': [0],\n",
    "    'Tumor Boundary - Mixed Immune Enriched': [16],\n",
    "    'Tumor Boundary - Stroma Enriched 2': [8, 3],\n",
    "    'Macrophage M1 enriched': [2, 15],\n",
    "    'Tumor Boundary - Mixed': [9],\n",
    "    'Mixed Immune/Stroma': [18, 6, 5],\n",
    "    'Stroma': [7],\n",
    "    'T cell Enriched': [11],\n",
    "    'Endothelial': [19],\n",
    "    'Macrophage M2 - enriched': [12],\n",
    "    \n",
    "}\n",
    "cluster_to_metacluster = {str(v):k for k, vs in metacluster_to_cluster.items() for v in vs}\n",
    "sorted(cluster_to_metacluster.items())"
   ]
  },
  {
   "cell_type": "code",
   "execution_count": null,
   "id": "508ac89c",
   "metadata": {
    "scrolled": true
   },
   "outputs": [],
   "source": [
    "cell_to_kmeans = {c:str(k) for c, k in zip(cells, kmeans.labels_)}\n",
    "cell_to_metacluster = {c:cluster_to_metacluster[cell_to_kmeans[c]]\n",
    "                      for c in cells}\n",
    "for s, a in sample_to_adata.items():\n",
    "    a.obsm['X_lda'] = lda_adata[a.obs.index.to_list()].X\n",
    "    a.obs['metacluster'] = [cell_to_metacluster[c] for c in a.obs.index.to_list()]"
   ]
  },
  {
   "cell_type": "code",
   "execution_count": null,
   "id": "ff4fb70a",
   "metadata": {},
   "outputs": [],
   "source": [
    "for s, a in sample_to_adata.items():\n",
    "    print(s)\n",
    "    visualize_roi(a, color='metacluster')"
   ]
  },
  {
   "cell_type": "code",
   "execution_count": null,
   "id": "4b39e8a5",
   "metadata": {},
   "outputs": [],
   "source": [
    "order = sorted(set(next(iter(sample_to_adata.values())).obs['metacluster']))\n",
    "[(i + 1, o) for i, o in enumerate(order)]"
   ]
  },
  {
   "cell_type": "code",
   "execution_count": null,
   "id": "c17fe68e",
   "metadata": {},
   "outputs": [],
   "source": [
    "for sample, a in sample_to_adata.items():\n",
    "    df = a.obs[['metacluster', 'cell_id']]\n",
    "    df = df.set_index('cell_id')\n",
    "    df.index.name = 'CellID'\n",
    "    df.columns = ['Cluster']\n",
    "    df['Cluster'] = [order.index(x) + 1 for x in df['Cluster']]\n",
    "    directory = os.path.join(analysis_dir, 'qitissue')\n",
    "    Path(directory).mkdir(parents=True, exist_ok=True)\n",
    "    df.to_csv(os.path.join(directory, f'metacluster_{sample}.csv'))"
   ]
  },
  {
   "cell_type": "code",
   "execution_count": null,
   "id": "85b4a722",
   "metadata": {},
   "outputs": [],
   "source": [
    "for s, a in sample_to_adata.items():\n",
    "    # topic map wont save with int\n",
    "    a.uns['topic_map'] = {str(k):v for k, v in a.uns['topic_map'].items()}\n",
    "    directory = os.path.join(analysis_dir, 'metaclustered')\n",
    "    Path(directory).mkdir(parents=True, exist_ok=True)\n",
    "    a.write_h5ad(os.path.join(directory, f'{s}.h5ad'))"
   ]
  },
  {
   "cell_type": "code",
   "execution_count": null,
   "id": "0edca12d",
   "metadata": {},
   "outputs": [],
   "source": [
    "from collections import Counter\n",
    "data, idxs = [], []\n",
    "cols = sorted(set(cell_to_metacluster.values()))\n",
    "for s, a in sample_to_adata.items():\n",
    "    counts = Counter(a.obs['metacluster'])\n",
    "    data.append([counts.get(c, 0) for c in cols])\n",
    "    idxs.append(s)\n",
    "df = pd.DataFrame(data=data, index=idxs, columns=cols)\n",
    "df"
   ]
  },
  {
   "cell_type": "code",
   "execution_count": null,
   "id": "88a80ff1",
   "metadata": {},
   "outputs": [],
   "source": [
    "ax = df.plot(kind='bar', stacked=True, color=sns.color_palette('tab20'))\n",
    "ax.legend(loc='upper left', bbox_to_anchor=(1, 1))"
   ]
  },
  {
   "cell_type": "code",
   "execution_count": null,
   "id": "6cdc4e6b",
   "metadata": {},
   "outputs": [],
   "source": [
    "ax = (df / df.sum(axis=1).values.reshape(-1, 1)).plot(kind='bar', stacked=True, color=sns.color_palette('tab20'))\n",
    "ax.legend(loc='upper left', bbox_to_anchor=(1, 1))"
   ]
  },
  {
   "cell_type": "code",
   "execution_count": null,
   "id": "7d0a9b4a",
   "metadata": {},
   "outputs": [],
   "source": [
    "data, idxs = [], []\n",
    "cols = sorted(set(a.obs['harmonized_cell_type']))\n",
    "for s, a in sample_to_adata.items():\n",
    "    counts = Counter(a.obs['harmonized_cell_type'])\n",
    "    data.append([counts.get(c, 0) for c in cols])\n",
    "    idxs.append(s)\n",
    "df = pd.DataFrame(data=data, index=idxs, columns=cols)\n",
    "df"
   ]
  },
  {
   "cell_type": "code",
   "execution_count": null,
   "id": "1ad126cb",
   "metadata": {},
   "outputs": [],
   "source": [
    "ax = df.plot(kind='bar', stacked=True, color=sns.color_palette('tab20'))\n",
    "ax.legend(loc='upper left', bbox_to_anchor=(1, 1))"
   ]
  },
  {
   "cell_type": "code",
   "execution_count": null,
   "id": "c7a24cd7",
   "metadata": {},
   "outputs": [],
   "source": [
    "ax = (df / df.sum(axis=1).values.reshape(-1, 1)).plot(kind='bar', stacked=True, color=sns.color_palette('tab20'))\n",
    "ax.legend(loc='upper left', bbox_to_anchor=(1, 1))"
   ]
  },
  {
   "cell_type": "markdown",
   "id": "8c08ea75",
   "metadata": {},
   "source": [
    "for spatial analyses to work we need to format the anndata object how squidpy expects"
   ]
  },
  {
   "cell_type": "code",
   "execution_count": null,
   "id": "9717fe31",
   "metadata": {},
   "outputs": [],
   "source": [
    "for s, a in sample_to_adata.items():\n",
    "    a.obsm['spatial'] = a.obs[['centroid_col', 'centroid_row']].values"
   ]
  },
  {
   "cell_type": "code",
   "execution_count": null,
   "id": "e60c2a21",
   "metadata": {},
   "outputs": [],
   "source": []
  },
  {
   "cell_type": "code",
   "execution_count": null,
   "id": "ee6fd4c6",
   "metadata": {},
   "outputs": [],
   "source": [
    "directory = os.path.join(analysis_dir, 'distance_metrics')\n",
    "Path(directory).mkdir(parents=True, exist_ok=True)\n",
    "for s, a in sample_to_adata.items():\n",
    "    print(s)\n",
    "    sq.gr.spatial_neighbors(a, key_added='spatial')\n",
    "    sq.gr.interaction_matrix(a, cluster_key=\"metacluster\")\n",
    "    sq.gr.co_occurrence(a, cluster_key=\"metacluster\", n_splits=1, n_jobs=40,\n",
    "                        interval=[32, 64, 128, 256])\n",
    "    sq.gr.interaction_matrix(a, cluster_key=\"harmonized_cell_type\")\n",
    "    sq.gr.co_occurrence(a, cluster_key=\"harmonized_cell_type\", n_splits=1, n_jobs=40,\n",
    "                        interval=[32, 64, 128, 256])\n",
    "    a.write_h5ad(os.path.join(directory, f'{s}.h5ad'))"
   ]
  },
  {
   "cell_type": "code",
   "execution_count": null,
   "id": "726cf02a",
   "metadata": {
    "scrolled": false
   },
   "outputs": [],
   "source": [
    "# sq.pl.interaction_matrix(a, cluster_key=\"metacluster\", vmax=10000)"
   ]
  },
  {
   "cell_type": "code",
   "execution_count": null,
   "id": "afe1908c",
   "metadata": {},
   "outputs": [],
   "source": [
    "for s, a in sample_to_adata.items():\n",
    "    sq.pl.co_occurrence(\n",
    "        a,\n",
    "        cluster_key=\"metacluster\",\n",
    "        clusters=[\"Tumor\"],\n",
    "        figsize=(15, 4),\n",
    "    )\n",
    "    plt.title(s)\n",
    "    plt.show()"
   ]
  },
  {
   "cell_type": "code",
   "execution_count": null,
   "id": "3ceb2e1d",
   "metadata": {},
   "outputs": [],
   "source": [
    "for s, a in sample_to_adata.items():\n",
    "    sq.pl.co_occurrence(\n",
    "        a,\n",
    "        cluster_key=\"harmonized_cell_type\",\n",
    "        clusters=[\"Tumor\"],\n",
    "        figsize=(15, 4),\n",
    "    )\n",
    "    plt.title(s)\n",
    "    plt.show()"
   ]
  },
  {
   "cell_type": "code",
   "execution_count": null,
   "id": "b51d0dfa",
   "metadata": {},
   "outputs": [],
   "source": [
    "for s, a in sample_to_adata.items():\n",
    "    f = a[a.obs['harmonized_cell_type']=='Tumor']\n",
    "    scores = f.raw[:, 'MGP'].X.flatten()\n",
    "    for i, metacluster in enumerate(order):\n",
    "        y_true = [1 if m==metacluster else 0\n",
    "                  for m in f.obs['metacluster']]\n",
    "        fpr, tpr, thresholds = roc_curve(y_true, scores)\n",
    "        plt.plot(fpr, tpr, label=metacluster, c=sns.color_palette('tab20')[i])\n",
    "    plt.title(s)\n",
    "    plt.legend(bbox_to_anchor=(1,1), loc=\"upper left\")\n",
    "    plt.show()"
   ]
  },
  {
   "cell_type": "code",
   "execution_count": null,
   "id": "550c3d4d",
   "metadata": {},
   "outputs": [],
   "source": []
  },
  {
   "cell_type": "code",
   "execution_count": null,
   "id": "83772e58",
   "metadata": {},
   "outputs": [],
   "source": [
    "data = None\n",
    "for s, a in sample_to_adata.items():\n",
    "    f = a[a.obs['harmonized_cell_type']=='Tumor'].copy()\n",
    "    scores = f.raw[:, 'MGP'].X.flatten()\n",
    "    f.obs['tumor_MGP'] = scores\n",
    "    df = f.obs[['sample_id', 'tumor_MGP', 'harmonized_cell_type', 'metacluster']]\n",
    "    \n",
    "    if data is None:\n",
    "        data = df\n",
    "    else:\n",
    "        data = pd.concat((data, df), axis=0)\n",
    "\n",
    "    \n",
    "fig, ax = plt.subplots(figsize=(14, 8))\n",
    "sns.boxplot(data=data, x='sample_id', y='tumor_MGP', hue='metacluster', ax=ax, palette=sns.color_palette('tab20'))\n",
    "plt.xticks(rotation=90)\n",
    "plt.legend(bbox_to_anchor=(1,1), loc=\"upper left\")\n",
    "plt.show()"
   ]
  },
  {
   "cell_type": "code",
   "execution_count": null,
   "id": "7569542f",
   "metadata": {},
   "outputs": [],
   "source": [
    "for s, a in sample_to_adata.items():\n",
    "    ls = a.raw[a.obs['harmonized_cell_type']=='Tumor', 'MGP'].X.flatten()\n",
    "    ls = np.random.choice(ls, size=5000)\n",
    "    sns.distplot(ls, label=s)\n",
    "    plt.legend()"
   ]
  },
  {
   "cell_type": "code",
   "execution_count": null,
   "id": "9f1d00f0",
   "metadata": {},
   "outputs": [],
   "source": [
    "from skimage.segmentation import find_boundaries\n",
    "import mip.utils as utils\n",
    "from mip.gating import gate_region\n",
    "base_dir = '/diskmnt/Projects/Users/estorrs/multiplex_data/codex/htan/brca'\n",
    "sample_to_mgp_img = {}\n",
    "sample_to_boundary_img = {}\n",
    "for sample, a in sample_to_adata.items():\n",
    "    print(sample)\n",
    "    channel_to_img = utils.extract_ome_tiff(os.path.join(base_dir, sample, 'level_2', f'{sample}.ome.tiff'))\n",
    "    seg_img = tifffile.imread(os.path.join(base_dir, sample, 'level_3', 'segmentation', 'cell_segmentation.tif'))\n",
    "    boundary_img = find_boundaries(seg_img)\n",
    "    \n",
    "    sample_to_mgp_img[sample] = channel_to_img['MGP'].copy()\n",
    "    sample_to_boundary_img[sample] = boundary_img\n",
    "    \n",
    "    del channel_to_img        "
   ]
  },
  {
   "cell_type": "code",
   "execution_count": null,
   "id": "fb865190",
   "metadata": {},
   "outputs": [],
   "source": [
    "sample = 'HT323B1-H3'\n",
    "gate_region(sample_to_adata[sample], 'MGP', channel_img=sample_to_mgp_img[sample],\n",
    "            boundary_img=sample_to_boundary_img[sample],\n",
    "            cell_type='Tumor', cell_type_col='harmonized_cell_type',\n",
    "            default_value=7., radius=2000)"
   ]
  },
  {
   "cell_type": "code",
   "execution_count": null,
   "id": "09a2e7f8",
   "metadata": {},
   "outputs": [],
   "source": [
    "mgp_thresholds = {\n",
    "    'HT206B1-H1': 8.57,\n",
    "    'HT206B1_H1_06252022': 8.3,\n",
    "    'HT323B1-H1A1': 8.36,\n",
    "    'HT323B1-H1A4': 8.36,\n",
    "    'HT323B1-H3': 8.75,\n",
    "    'HT397B1-H2A2': 7.8,\n",
    "    'HT397B1-H3A1': 7.25\n",
    "}"
   ]
  },
  {
   "cell_type": "code",
   "execution_count": null,
   "id": "b4a0d621",
   "metadata": {},
   "outputs": [],
   "source": [
    "for sample, val in mgp_thresholds.items():\n",
    "    a = sample_to_adata[sample]\n",
    "    a.obs['is_mgp_positive'] = [True if x >= mgp_thresholds[sample] and ct == 'Tumor' else False\n",
    "                                for ct, x in zip(a.obs['harmonized_cell_type'], a.raw[:, 'MGP'].X.flatten())]"
   ]
  },
  {
   "cell_type": "code",
   "execution_count": null,
   "id": "f0d28380",
   "metadata": {},
   "outputs": [],
   "source": [
    "visualize_roi(sample_to_adata['HT206B1-H1'], color='is_mgp_positive')"
   ]
  },
  {
   "cell_type": "code",
   "execution_count": null,
   "id": "8ef9bbe6",
   "metadata": {},
   "outputs": [],
   "source": [
    "def call_mgp_cell(is_mgp, ct, m):\n",
    "    if ct == 'Tumor' and is_mgp:\n",
    "        return 'Tumor - MGP positive'\n",
    "    elif ct == 'Tumor' and not is_mgp:\n",
    "        return 'Tumor - MGP negative'\n",
    "    return m\n",
    "    \n",
    "for s, a in sample_to_adata.items():\n",
    "    a.obs['metacluster_with_mgp'] = pd.Categorical(\n",
    "        [call_mgp_cell(is_mgp, ct, m)\n",
    "         for is_mgp, m, ct in zip(a.obs['is_mgp_positive'], a.obs['metacluster'], a.obs['harmonized_cell_type'])])\n",
    "    \n",
    "    a.obs['harmonized_cell_type_with_mgp'] = pd.Categorical(\n",
    "        [call_mgp_cell(is_mgp, ct, m)\n",
    "         for is_mgp, m, ct in zip(a.obs['is_mgp_positive'], a.obs['harmonized_cell_type'], a.obs['harmonized_cell_type'])])\n",
    "    "
   ]
  },
  {
   "cell_type": "code",
   "execution_count": null,
   "id": "a544c684",
   "metadata": {},
   "outputs": [],
   "source": [
    "visualize_roi(sample_to_adata['HT206B1-H1'], color='metacluster_with_mgp')"
   ]
  },
  {
   "cell_type": "code",
   "execution_count": null,
   "id": "7a1306c7",
   "metadata": {},
   "outputs": [],
   "source": [
    "visualize_roi(sample_to_adata['HT206B1-H1'], color='harmonized_cell_type_with_mgp')"
   ]
  },
  {
   "cell_type": "code",
   "execution_count": null,
   "id": "47405ba4",
   "metadata": {},
   "outputs": [],
   "source": [
    "directory = os.path.join(analysis_dir, 'distance_metrics')\n",
    "for s, a in sample_to_adata.items():\n",
    "    print(s)\n",
    "    sq.gr.interaction_matrix(a, cluster_key=\"metacluster_with_mgp\")\n",
    "    sq.gr.co_occurrence(a, cluster_key=\"metacluster_with_mgp\", n_splits=1, n_jobs=40,\n",
    "                        interval=[32, 64, 128, 256])\n",
    "    sq.gr.interaction_matrix(a, cluster_key=\"harmonized_cell_type_with_mgp\")\n",
    "    sq.gr.co_occurrence(a, cluster_key=\"harmonized_cell_type_with_mgp\", n_splits=1, n_jobs=40,\n",
    "                        interval=[32, 64, 128, 256])\n",
    "    a.write_h5ad(os.path.join(directory, f'{s}.h5ad'))"
   ]
  },
  {
   "cell_type": "code",
   "execution_count": null,
   "id": "4e26b29d",
   "metadata": {},
   "outputs": [],
   "source": [
    "a = sample_to_adata['HT206B1-H1']\n",
    "a"
   ]
  },
  {
   "cell_type": "code",
   "execution_count": null,
   "id": "d5736796",
   "metadata": {},
   "outputs": [],
   "source": [
    "sq.pl.interaction_matrix(a, cluster_key=\"metacluster_with_mgp\", vmax=10000)"
   ]
  },
  {
   "cell_type": "code",
   "execution_count": null,
   "id": "47869415",
   "metadata": {},
   "outputs": [],
   "source": [
    "for sample, a in sample_to_adata.items():\n",
    "    sq.pl.interaction_matrix(a, cluster_key=\"metacluster_with_mgp\", vmax=50000)\n",
    "    plt.title(sample)\n",
    "    plt.show()"
   ]
  },
  {
   "cell_type": "code",
   "execution_count": null,
   "id": "b4d7fef4",
   "metadata": {},
   "outputs": [],
   "source": []
  }
 ],
 "metadata": {
  "kernelspec": {
   "display_name": "Python 3 (ipykernel)",
   "language": "python",
   "name": "python3"
  },
  "language_info": {
   "codemirror_mode": {
    "name": "ipython",
    "version": 3
   },
   "file_extension": ".py",
   "mimetype": "text/x-python",
   "name": "python",
   "nbconvert_exporter": "python",
   "pygments_lexer": "ipython3",
   "version": "3.7.12"
  }
 },
 "nbformat": 4,
 "nbformat_minor": 5
}
