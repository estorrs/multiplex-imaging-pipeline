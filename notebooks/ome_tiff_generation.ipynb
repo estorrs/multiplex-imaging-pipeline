{
 "cells": [
  {
   "cell_type": "code",
   "execution_count": 1,
   "id": "d1f12e38",
   "metadata": {},
   "outputs": [],
   "source": [
    "import logging\n",
    "import re\n",
    "import os\n",
    "\n",
    "import numpy as np\n",
    "import tifffile\n",
    "from ome_types import from_tiff, from_xml, to_xml, model, to_dict\n",
    "from ome_types.model.simple_types import UnitsLength\n",
    "\n",
    "from mip.utils import listfiles"
   ]
  },
  {
   "cell_type": "code",
   "execution_count": 2,
   "id": "4ca8e4cd",
   "metadata": {},
   "outputs": [],
   "source": [
    "%load_ext autoreload"
   ]
  },
  {
   "cell_type": "code",
   "execution_count": 3,
   "id": "bdb3e6d6",
   "metadata": {},
   "outputs": [],
   "source": [
    "%autoreload 2"
   ]
  },
  {
   "cell_type": "code",
   "execution_count": 4,
   "id": "9c83bf57",
   "metadata": {},
   "outputs": [],
   "source": [
    "from mip.ome import generate_ome_from_qptiff, generate_ome_from_codex_imagej_tif"
   ]
  },
  {
   "cell_type": "code",
   "execution_count": null,
   "id": "676a97ea",
   "metadata": {},
   "outputs": [],
   "source": []
  },
  {
   "cell_type": "code",
   "execution_count": 15,
   "id": "baaa814b",
   "metadata": {},
   "outputs": [],
   "source": [
    "codex_multiplexed_tif = '/diskmnt/Projects/Users/estorrs/multiplex_data/codex/htan/brca/HT206B1-H1/level_2/20220106_HT206B1_H1_A1 and A4_reg001.tif'\n",
    "output_fp = '/diskmnt/Projects/Users/estorrs/sandbox/test_old_codex.ome.tiff'"
   ]
  },
  {
   "cell_type": "code",
   "execution_count": 16,
   "id": "1b5cdddb",
   "metadata": {},
   "outputs": [],
   "source": [
    "bbox = (5000, 6000, 5000, 6000)"
   ]
  },
  {
   "cell_type": "code",
   "execution_count": 34,
   "id": "0aa7caa2",
   "metadata": {},
   "outputs": [],
   "source": [
    "generate_ome_from_codex_imagej_tif(codex_multiplexed_tif, output_fp, bbox=bbox)\n",
    "# generate_ome_from_codex_imagej_tif(codex_multiplexed_tif, output_fp)"
   ]
  },
  {
   "cell_type": "code",
   "execution_count": null,
   "id": "458fd6a0",
   "metadata": {},
   "outputs": [],
   "source": []
  },
  {
   "cell_type": "code",
   "execution_count": null,
   "id": "895091ce",
   "metadata": {},
   "outputs": [],
   "source": []
  },
  {
   "cell_type": "code",
   "execution_count": 29,
   "id": "2b9fc6e3",
   "metadata": {},
   "outputs": [
    {
     "data": {
      "text/plain": [
       "'TZC'"
      ]
     },
     "execution_count": 29,
     "metadata": {},
     "output_type": "execute_result"
    }
   ],
   "source": [
    "x = 'XYCZT'\n",
    "x[:1:-1]"
   ]
  },
  {
   "cell_type": "code",
   "execution_count": null,
   "id": "e19c4efd",
   "metadata": {},
   "outputs": [],
   "source": [
    "[:1:-1]"
   ]
  },
  {
   "cell_type": "code",
   "execution_count": null,
   "id": "9181264f",
   "metadata": {},
   "outputs": [],
   "source": []
  },
  {
   "cell_type": "code",
   "execution_count": null,
   "id": "8c04f376",
   "metadata": {},
   "outputs": [],
   "source": []
  },
  {
   "cell_type": "code",
   "execution_count": 18,
   "id": "2aaad75a",
   "metadata": {},
   "outputs": [],
   "source": [
    "??tifffile.TiffWriter"
   ]
  },
  {
   "cell_type": "code",
   "execution_count": 19,
   "id": "45d84278",
   "metadata": {},
   "outputs": [],
   "source": [
    "out_tif = tifffile.TiffWriter(output_fp, ome=True)"
   ]
  },
  {
   "cell_type": "code",
   "execution_count": 20,
   "id": "05d2d0c6",
   "metadata": {},
   "outputs": [],
   "source": [
    "??out_tif.write"
   ]
  },
  {
   "cell_type": "code",
   "execution_count": 12,
   "id": "e95119a7",
   "metadata": {},
   "outputs": [
    {
     "name": "stdout",
     "output_type": "stream",
     "text": [
      "/diskmnt/Projects/Users/estorrs/miniconda3/envs/multiplex-imaging-pipeline/bin/python\r\n"
     ]
    }
   ],
   "source": [
    "!which python"
   ]
  },
  {
   "cell_type": "code",
   "execution_count": null,
   "id": "8db3ef39",
   "metadata": {},
   "outputs": [],
   "source": []
  },
  {
   "cell_type": "code",
   "execution_count": 26,
   "id": "f8566a93",
   "metadata": {},
   "outputs": [
    {
     "data": {
      "text/plain": [
       "(13, 4, 15120, 13440)"
      ]
     },
     "execution_count": 26,
     "metadata": {},
     "output_type": "execute_result"
    }
   ],
   "source": [
    "img = tifffile.imread(codex_multiplexed_tif).astype(np.float32)\n",
    "img /= img.max()\n",
    "img.shape"
   ]
  },
  {
   "cell_type": "code",
   "execution_count": 22,
   "id": "a3997c00",
   "metadata": {},
   "outputs": [
    {
     "data": {
      "text/plain": [
       "52"
      ]
     },
     "execution_count": 22,
     "metadata": {},
     "output_type": "execute_result"
    }
   ],
   "source": [
    "13 * 4"
   ]
  },
  {
   "cell_type": "code",
   "execution_count": 7,
   "id": "751f5bd9",
   "metadata": {},
   "outputs": [],
   "source": [
    "tf = tifffile.TiffFile(codex_multiplexed_tif)"
   ]
  },
  {
   "cell_type": "code",
   "execution_count": 11,
   "id": "50b81f79",
   "metadata": {},
   "outputs": [
    {
     "data": {
      "text/plain": [
       "<tifffile.TiffPageSeries 0>"
      ]
     },
     "execution_count": 11,
     "metadata": {},
     "output_type": "execute_result"
    }
   ],
   "source": [
    "s = tf.series[0]\n",
    "s"
   ]
  },
  {
   "cell_type": "code",
   "execution_count": 13,
   "id": "834d5b75",
   "metadata": {},
   "outputs": [
    {
     "data": {
      "text/plain": [
       "1"
      ]
     },
     "execution_count": 13,
     "metadata": {},
     "output_type": "execute_result"
    }
   ],
   "source": [
    "len(s.pages)"
   ]
  },
  {
   "cell_type": "code",
   "execution_count": 15,
   "id": "d1cba1f1",
   "metadata": {},
   "outputs": [],
   "source": [
    "p = s.pages[0]"
   ]
  },
  {
   "cell_type": "code",
   "execution_count": 16,
   "id": "51d4edb5",
   "metadata": {},
   "outputs": [
    {
     "data": {
      "text/plain": [
       "'ImageJ=1.52i\\nimages=52\\nchannels=4\\nframes=13\\nhyperstack=true\\nmode=composite\\nunit=mm\\nloop=false\\nmin=511.0\\nmax=52991.0'"
      ]
     },
     "execution_count": 16,
     "metadata": {},
     "output_type": "execute_result"
    }
   ],
   "source": [
    "p.description"
   ]
  },
  {
   "cell_type": "code",
   "execution_count": 17,
   "id": "25c44fa3",
   "metadata": {},
   "outputs": [
    {
     "data": {
      "text/plain": [
       "''"
      ]
     },
     "execution_count": 17,
     "metadata": {},
     "output_type": "execute_result"
    }
   ],
   "source": [
    "p.description1"
   ]
  },
  {
   "cell_type": "code",
   "execution_count": 18,
   "id": "ab4c6975",
   "metadata": {},
   "outputs": [],
   "source": [
    "x = p.asarray()"
   ]
  },
  {
   "cell_type": "code",
   "execution_count": 23,
   "id": "3205b2bc",
   "metadata": {},
   "outputs": [
    {
     "data": {
      "text/plain": [
       "{'ImageJ': '1.52i',\n",
       " 'images': 52,\n",
       " 'channels': 4,\n",
       " 'frames': 13,\n",
       " 'hyperstack': True,\n",
       " 'mode': 'composite',\n",
       " 'unit': 'mm',\n",
       " 'loop': False,\n",
       " 'min': 511.0,\n",
       " 'max': 52991.0,\n",
       " 'Labels': ['DAPI-01',\n",
       "  'Blank',\n",
       "  'Blank',\n",
       "  'Blank',\n",
       "  'DAPI-02',\n",
       "  'CD31',\n",
       "  'E-cadherin',\n",
       "  'CD4',\n",
       "  'DAPI-03',\n",
       "  'CD20',\n",
       "  'Ki67',\n",
       "  'CD68',\n",
       "  'DAPI-04',\n",
       "  'Pan-CK',\n",
       "  'CD8',\n",
       "  'Histone H3 Pho',\n",
       "  'DAPI-05',\n",
       "  'CD163',\n",
       "  'Podoplanin',\n",
       "  'CD3e',\n",
       "  'DAPI-06',\n",
       "  'CD36',\n",
       "  'HIF1a',\n",
       "  'GLUT1',\n",
       "  'DAPI-07',\n",
       "  'GATA3',\n",
       "  'CD45RO',\n",
       "  'CD45RA',\n",
       "  'DAPI-08',\n",
       "  'SMA',\n",
       "  'CK19',\n",
       "  'MGP',\n",
       "  'DAPI-09',\n",
       "  'Vimentin',\n",
       "  'Maspin',\n",
       "  'Foxp3',\n",
       "  'DAPI-10',\n",
       "  'Empty',\n",
       "  'MMP9',\n",
       "  'HLA-DR',\n",
       "  'DAPI-11',\n",
       "  'Empty',\n",
       "  'CK14',\n",
       "  'CD11c',\n",
       "  'DAPI-12',\n",
       "  'Empty',\n",
       "  'CD44',\n",
       "  'Empty',\n",
       "  'DAPI-13',\n",
       "  'Blank',\n",
       "  'Blank',\n",
       "  'Blank'],\n",
       " 'Ranges': (0.0,\n",
       "  57599.12109375,\n",
       "  0.0,\n",
       "  24575.625,\n",
       "  0.0,\n",
       "  58111.11328125,\n",
       "  0.0,\n",
       "  49663.2421875),\n",
       " 'LUTs': [array([[  0,   1,   2,   3,   4,   5,   6,   7,   8,   9,  10,  11,  12,\n",
       "           13,  14,  15,  16,  17,  18,  19,  20,  21,  22,  23,  24,  25,\n",
       "           26,  27,  28,  29,  30,  31,  32,  33,  34,  35,  36,  37,  38,\n",
       "           39,  40,  41,  42,  43,  44,  45,  46,  47,  48,  49,  50,  51,\n",
       "           52,  53,  54,  55,  56,  57,  58,  59,  60,  61,  62,  63,  64,\n",
       "           65,  66,  67,  68,  69,  70,  71,  72,  73,  74,  75,  76,  77,\n",
       "           78,  79,  80,  81,  82,  83,  84,  85,  86,  87,  88,  89,  90,\n",
       "           91,  92,  93,  94,  95,  96,  97,  98,  99, 100, 101, 102, 103,\n",
       "          104, 105, 106, 107, 108, 109, 110, 111, 112, 113, 114, 115, 116,\n",
       "          117, 118, 119, 120, 121, 122, 123, 124, 125, 126, 127, 128, 129,\n",
       "          130, 131, 132, 133, 134, 135, 136, 137, 138, 139, 140, 141, 142,\n",
       "          143, 144, 145, 146, 147, 148, 149, 150, 151, 152, 153, 154, 155,\n",
       "          156, 157, 158, 159, 160, 161, 162, 163, 164, 165, 166, 167, 168,\n",
       "          169, 170, 171, 172, 173, 174, 175, 176, 177, 178, 179, 180, 181,\n",
       "          182, 183, 184, 185, 186, 187, 188, 189, 190, 191, 192, 193, 194,\n",
       "          195, 196, 197, 198, 199, 200, 201, 202, 203, 204, 205, 206, 207,\n",
       "          208, 209, 210, 211, 212, 213, 214, 215, 216, 217, 218, 219, 220,\n",
       "          221, 222, 223, 224, 225, 226, 227, 228, 229, 230, 231, 232, 233,\n",
       "          234, 235, 236, 237, 238, 239, 240, 241, 242, 243, 244, 245, 246,\n",
       "          247, 248, 249, 250, 251, 252, 253, 254, 255],\n",
       "         [  0,   1,   2,   3,   4,   5,   6,   7,   8,   9,  10,  11,  12,\n",
       "           13,  14,  15,  16,  17,  18,  19,  20,  21,  22,  23,  24,  25,\n",
       "           26,  27,  28,  29,  30,  31,  32,  33,  34,  35,  36,  37,  38,\n",
       "           39,  40,  41,  42,  43,  44,  45,  46,  47,  48,  49,  50,  51,\n",
       "           52,  53,  54,  55,  56,  57,  58,  59,  60,  61,  62,  63,  64,\n",
       "           65,  66,  67,  68,  69,  70,  71,  72,  73,  74,  75,  76,  77,\n",
       "           78,  79,  80,  81,  82,  83,  84,  85,  86,  87,  88,  89,  90,\n",
       "           91,  92,  93,  94,  95,  96,  97,  98,  99, 100, 101, 102, 103,\n",
       "          104, 105, 106, 107, 108, 109, 110, 111, 112, 113, 114, 115, 116,\n",
       "          117, 118, 119, 120, 121, 122, 123, 124, 125, 126, 127, 128, 129,\n",
       "          130, 131, 132, 133, 134, 135, 136, 137, 138, 139, 140, 141, 142,\n",
       "          143, 144, 145, 146, 147, 148, 149, 150, 151, 152, 153, 154, 155,\n",
       "          156, 157, 158, 159, 160, 161, 162, 163, 164, 165, 166, 167, 168,\n",
       "          169, 170, 171, 172, 173, 174, 175, 176, 177, 178, 179, 180, 181,\n",
       "          182, 183, 184, 185, 186, 187, 188, 189, 190, 191, 192, 193, 194,\n",
       "          195, 196, 197, 198, 199, 200, 201, 202, 203, 204, 205, 206, 207,\n",
       "          208, 209, 210, 211, 212, 213, 214, 215, 216, 217, 218, 219, 220,\n",
       "          221, 222, 223, 224, 225, 226, 227, 228, 229, 230, 231, 232, 233,\n",
       "          234, 235, 236, 237, 238, 239, 240, 241, 242, 243, 244, 245, 246,\n",
       "          247, 248, 249, 250, 251, 252, 253, 254, 255],\n",
       "         [  0,   1,   2,   3,   4,   5,   6,   7,   8,   9,  10,  11,  12,\n",
       "           13,  14,  15,  16,  17,  18,  19,  20,  21,  22,  23,  24,  25,\n",
       "           26,  27,  28,  29,  30,  31,  32,  33,  34,  35,  36,  37,  38,\n",
       "           39,  40,  41,  42,  43,  44,  45,  46,  47,  48,  49,  50,  51,\n",
       "           52,  53,  54,  55,  56,  57,  58,  59,  60,  61,  62,  63,  64,\n",
       "           65,  66,  67,  68,  69,  70,  71,  72,  73,  74,  75,  76,  77,\n",
       "           78,  79,  80,  81,  82,  83,  84,  85,  86,  87,  88,  89,  90,\n",
       "           91,  92,  93,  94,  95,  96,  97,  98,  99, 100, 101, 102, 103,\n",
       "          104, 105, 106, 107, 108, 109, 110, 111, 112, 113, 114, 115, 116,\n",
       "          117, 118, 119, 120, 121, 122, 123, 124, 125, 126, 127, 128, 129,\n",
       "          130, 131, 132, 133, 134, 135, 136, 137, 138, 139, 140, 141, 142,\n",
       "          143, 144, 145, 146, 147, 148, 149, 150, 151, 152, 153, 154, 155,\n",
       "          156, 157, 158, 159, 160, 161, 162, 163, 164, 165, 166, 167, 168,\n",
       "          169, 170, 171, 172, 173, 174, 175, 176, 177, 178, 179, 180, 181,\n",
       "          182, 183, 184, 185, 186, 187, 188, 189, 190, 191, 192, 193, 194,\n",
       "          195, 196, 197, 198, 199, 200, 201, 202, 203, 204, 205, 206, 207,\n",
       "          208, 209, 210, 211, 212, 213, 214, 215, 216, 217, 218, 219, 220,\n",
       "          221, 222, 223, 224, 225, 226, 227, 228, 229, 230, 231, 232, 233,\n",
       "          234, 235, 236, 237, 238, 239, 240, 241, 242, 243, 244, 245, 246,\n",
       "          247, 248, 249, 250, 251, 252, 253, 254, 255]], dtype=uint8),\n",
       "  array([[  0,   0,   0,   0,   0,   0,   0,   0,   0,   0,   0,   0,   0,\n",
       "            0,   0,   0,   0,   0,   0,   0,   0,   0,   0,   0,   0,   0,\n",
       "            0,   0,   0,   0,   0,   0,   0,   0,   0,   0,   0,   0,   0,\n",
       "            0,   0,   0,   0,   0,   0,   0,   0,   0,   0,   0,   0,   0,\n",
       "            0,   0,   0,   0,   0,   0,   0,   0,   0,   0,   0,   0,   0,\n",
       "            0,   0,   0,   0,   0,   0,   0,   0,   0,   0,   0,   0,   0,\n",
       "            0,   0,   0,   0,   0,   0,   0,   0,   0,   0,   0,   0,   0,\n",
       "            0,   0,   0,   0,   0,   0,   0,   0,   0,   0,   0,   0,   0,\n",
       "            0,   0,   0,   0,   0,   0,   0,   0,   0,   0,   0,   0,   0,\n",
       "            0,   0,   0,   0,   0,   0,   0,   0,   0,   0,   0,   0,   0,\n",
       "            0,   0,   0,   0,   0,   0,   0,   0,   0,   0,   0,   0,   0,\n",
       "            0,   0,   0,   0,   0,   0,   0,   0,   0,   0,   0,   0,   0,\n",
       "            0,   0,   0,   0,   0,   0,   0,   0,   0,   0,   0,   0,   0,\n",
       "            0,   0,   0,   0,   0,   0,   0,   0,   0,   0,   0,   0,   0,\n",
       "            0,   0,   0,   0,   0,   0,   0,   0,   0,   0,   0,   0,   0,\n",
       "            0,   0,   0,   0,   0,   0,   0,   0,   0,   0,   0,   0,   0,\n",
       "            0,   0,   0,   0,   0,   0,   0,   0,   0,   0,   0,   0,   0,\n",
       "            0,   0,   0,   0,   0,   0,   0,   0,   0,   0,   0,   0,   0,\n",
       "            0,   0,   0,   0,   0,   0,   0,   0,   0,   0,   0,   0,   0,\n",
       "            0,   0,   0,   0,   0,   0,   0,   0,   0],\n",
       "         [  0,   0,   0,   0,   0,   0,   0,   0,   0,   0,   0,   0,   0,\n",
       "            0,   0,   0,   0,   0,   0,   0,   0,   0,   0,   0,   0,   0,\n",
       "            0,   0,   0,   0,   0,   0,   0,   0,   0,   0,   0,   0,   0,\n",
       "            0,   0,   0,   0,   0,   0,   0,   0,   0,   0,   0,   0,   0,\n",
       "            0,   0,   0,   0,   0,   0,   0,   0,   0,   0,   0,   0,   0,\n",
       "            0,   0,   0,   0,   0,   0,   0,   0,   0,   0,   0,   0,   0,\n",
       "            0,   0,   0,   0,   0,   0,   0,   0,   0,   0,   0,   0,   0,\n",
       "            0,   0,   0,   0,   0,   0,   0,   0,   0,   0,   0,   0,   0,\n",
       "            0,   0,   0,   0,   0,   0,   0,   0,   0,   0,   0,   0,   0,\n",
       "            0,   0,   0,   0,   0,   0,   0,   0,   0,   0,   0,   0,   0,\n",
       "            0,   0,   0,   0,   0,   0,   0,   0,   0,   0,   0,   0,   0,\n",
       "            0,   0,   0,   0,   0,   0,   0,   0,   0,   0,   0,   0,   0,\n",
       "            0,   0,   0,   0,   0,   0,   0,   0,   0,   0,   0,   0,   0,\n",
       "            0,   0,   0,   0,   0,   0,   0,   0,   0,   0,   0,   0,   0,\n",
       "            0,   0,   0,   0,   0,   0,   0,   0,   0,   0,   0,   0,   0,\n",
       "            0,   0,   0,   0,   0,   0,   0,   0,   0,   0,   0,   0,   0,\n",
       "            0,   0,   0,   0,   0,   0,   0,   0,   0,   0,   0,   0,   0,\n",
       "            0,   0,   0,   0,   0,   0,   0,   0,   0,   0,   0,   0,   0,\n",
       "            0,   0,   0,   0,   0,   0,   0,   0,   0,   0,   0,   0,   0,\n",
       "            0,   0,   0,   0,   0,   0,   0,   0,   0],\n",
       "         [  0,   1,   2,   3,   4,   5,   6,   7,   8,   9,  10,  11,  12,\n",
       "           13,  14,  15,  16,  17,  18,  19,  20,  21,  22,  23,  24,  25,\n",
       "           26,  27,  28,  29,  30,  31,  32,  33,  34,  35,  36,  37,  38,\n",
       "           39,  40,  41,  42,  43,  44,  45,  46,  47,  48,  49,  50,  51,\n",
       "           52,  53,  54,  55,  56,  57,  58,  59,  60,  61,  62,  63,  64,\n",
       "           65,  66,  67,  68,  69,  70,  71,  72,  73,  74,  75,  76,  77,\n",
       "           78,  79,  80,  81,  82,  83,  84,  85,  86,  87,  88,  89,  90,\n",
       "           91,  92,  93,  94,  95,  96,  97,  98,  99, 100, 101, 102, 103,\n",
       "          104, 105, 106, 107, 108, 109, 110, 111, 112, 113, 114, 115, 116,\n",
       "          117, 118, 119, 120, 121, 122, 123, 124, 125, 126, 127, 128, 129,\n",
       "          130, 131, 132, 133, 134, 135, 136, 137, 138, 139, 140, 141, 142,\n",
       "          143, 144, 145, 146, 147, 148, 149, 150, 151, 152, 153, 154, 155,\n",
       "          156, 157, 158, 159, 160, 161, 162, 163, 164, 165, 166, 167, 168,\n",
       "          169, 170, 171, 172, 173, 174, 175, 176, 177, 178, 179, 180, 181,\n",
       "          182, 183, 184, 185, 186, 187, 188, 189, 190, 191, 192, 193, 194,\n",
       "          195, 196, 197, 198, 199, 200, 201, 202, 203, 204, 205, 206, 207,\n",
       "          208, 209, 210, 211, 212, 213, 214, 215, 216, 217, 218, 219, 220,\n",
       "          221, 222, 223, 224, 225, 226, 227, 228, 229, 230, 231, 232, 233,\n",
       "          234, 235, 236, 237, 238, 239, 240, 241, 242, 243, 244, 245, 246,\n",
       "          247, 248, 249, 250, 251, 252, 253, 254, 255]], dtype=uint8),\n",
       "  array([[  0,   0,   0,   0,   0,   0,   0,   0,   0,   0,   0,   0,   0,\n",
       "            0,   0,   0,   0,   0,   0,   0,   0,   0,   0,   0,   0,   0,\n",
       "            0,   0,   0,   0,   0,   0,   0,   0,   0,   0,   0,   0,   0,\n",
       "            0,   0,   0,   0,   0,   0,   0,   0,   0,   0,   0,   0,   0,\n",
       "            0,   0,   0,   0,   0,   0,   0,   0,   0,   0,   0,   0,   0,\n",
       "            0,   0,   0,   0,   0,   0,   0,   0,   0,   0,   0,   0,   0,\n",
       "            0,   0,   0,   0,   0,   0,   0,   0,   0,   0,   0,   0,   0,\n",
       "            0,   0,   0,   0,   0,   0,   0,   0,   0,   0,   0,   0,   0,\n",
       "            0,   0,   0,   0,   0,   0,   0,   0,   0,   0,   0,   0,   0,\n",
       "            0,   0,   0,   0,   0,   0,   0,   0,   0,   0,   0,   0,   0,\n",
       "            0,   0,   0,   0,   0,   0,   0,   0,   0,   0,   0,   0,   0,\n",
       "            0,   0,   0,   0,   0,   0,   0,   0,   0,   0,   0,   0,   0,\n",
       "            0,   0,   0,   0,   0,   0,   0,   0,   0,   0,   0,   0,   0,\n",
       "            0,   0,   0,   0,   0,   0,   0,   0,   0,   0,   0,   0,   0,\n",
       "            0,   0,   0,   0,   0,   0,   0,   0,   0,   0,   0,   0,   0,\n",
       "            0,   0,   0,   0,   0,   0,   0,   0,   0,   0,   0,   0,   0,\n",
       "            0,   0,   0,   0,   0,   0,   0,   0,   0,   0,   0,   0,   0,\n",
       "            0,   0,   0,   0,   0,   0,   0,   0,   0,   0,   0,   0,   0,\n",
       "            0,   0,   0,   0,   0,   0,   0,   0,   0,   0,   0,   0,   0,\n",
       "            0,   0,   0,   0,   0,   0,   0,   0,   0],\n",
       "         [  0,   1,   2,   3,   4,   5,   6,   7,   8,   9,  10,  11,  12,\n",
       "           13,  14,  15,  16,  17,  18,  19,  20,  21,  22,  23,  24,  25,\n",
       "           26,  27,  28,  29,  30,  31,  32,  33,  34,  35,  36,  37,  38,\n",
       "           39,  40,  41,  42,  43,  44,  45,  46,  47,  48,  49,  50,  51,\n",
       "           52,  53,  54,  55,  56,  57,  58,  59,  60,  61,  62,  63,  64,\n",
       "           65,  66,  67,  68,  69,  70,  71,  72,  73,  74,  75,  76,  77,\n",
       "           78,  79,  80,  81,  82,  83,  84,  85,  86,  87,  88,  89,  90,\n",
       "           91,  92,  93,  94,  95,  96,  97,  98,  99, 100, 101, 102, 103,\n",
       "          104, 105, 106, 107, 108, 109, 110, 111, 112, 113, 114, 115, 116,\n",
       "          117, 118, 119, 120, 121, 122, 123, 124, 125, 126, 127, 128, 129,\n",
       "          130, 131, 132, 133, 134, 135, 136, 137, 138, 139, 140, 141, 142,\n",
       "          143, 144, 145, 146, 147, 148, 149, 150, 151, 152, 153, 154, 155,\n",
       "          156, 157, 158, 159, 160, 161, 162, 163, 164, 165, 166, 167, 168,\n",
       "          169, 170, 171, 172, 173, 174, 175, 176, 177, 178, 179, 180, 181,\n",
       "          182, 183, 184, 185, 186, 187, 188, 189, 190, 191, 192, 193, 194,\n",
       "          195, 196, 197, 198, 199, 200, 201, 202, 203, 204, 205, 206, 207,\n",
       "          208, 209, 210, 211, 212, 213, 214, 215, 216, 217, 218, 219, 220,\n",
       "          221, 222, 223, 224, 225, 226, 227, 228, 229, 230, 231, 232, 233,\n",
       "          234, 235, 236, 237, 238, 239, 240, 241, 242, 243, 244, 245, 246,\n",
       "          247, 248, 249, 250, 251, 252, 253, 254, 255],\n",
       "         [  0,   0,   0,   0,   0,   0,   0,   0,   0,   0,   0,   0,   0,\n",
       "            0,   0,   0,   0,   0,   0,   0,   0,   0,   0,   0,   0,   0,\n",
       "            0,   0,   0,   0,   0,   0,   0,   0,   0,   0,   0,   0,   0,\n",
       "            0,   0,   0,   0,   0,   0,   0,   0,   0,   0,   0,   0,   0,\n",
       "            0,   0,   0,   0,   0,   0,   0,   0,   0,   0,   0,   0,   0,\n",
       "            0,   0,   0,   0,   0,   0,   0,   0,   0,   0,   0,   0,   0,\n",
       "            0,   0,   0,   0,   0,   0,   0,   0,   0,   0,   0,   0,   0,\n",
       "            0,   0,   0,   0,   0,   0,   0,   0,   0,   0,   0,   0,   0,\n",
       "            0,   0,   0,   0,   0,   0,   0,   0,   0,   0,   0,   0,   0,\n",
       "            0,   0,   0,   0,   0,   0,   0,   0,   0,   0,   0,   0,   0,\n",
       "            0,   0,   0,   0,   0,   0,   0,   0,   0,   0,   0,   0,   0,\n",
       "            0,   0,   0,   0,   0,   0,   0,   0,   0,   0,   0,   0,   0,\n",
       "            0,   0,   0,   0,   0,   0,   0,   0,   0,   0,   0,   0,   0,\n",
       "            0,   0,   0,   0,   0,   0,   0,   0,   0,   0,   0,   0,   0,\n",
       "            0,   0,   0,   0,   0,   0,   0,   0,   0,   0,   0,   0,   0,\n",
       "            0,   0,   0,   0,   0,   0,   0,   0,   0,   0,   0,   0,   0,\n",
       "            0,   0,   0,   0,   0,   0,   0,   0,   0,   0,   0,   0,   0,\n",
       "            0,   0,   0,   0,   0,   0,   0,   0,   0,   0,   0,   0,   0,\n",
       "            0,   0,   0,   0,   0,   0,   0,   0,   0,   0,   0,   0,   0,\n",
       "            0,   0,   0,   0,   0,   0,   0,   0,   0]], dtype=uint8),\n",
       "  array([[  0,   1,   2,   3,   4,   5,   6,   7,   8,   9,  10,  11,  12,\n",
       "           13,  14,  15,  16,  17,  18,  19,  20,  21,  22,  23,  24,  25,\n",
       "           26,  27,  28,  29,  30,  31,  32,  33,  34,  35,  36,  37,  38,\n",
       "           39,  40,  41,  42,  43,  44,  45,  46,  47,  48,  49,  50,  51,\n",
       "           52,  53,  54,  55,  56,  57,  58,  59,  60,  61,  62,  63,  64,\n",
       "           65,  66,  67,  68,  69,  70,  71,  72,  73,  74,  75,  76,  77,\n",
       "           78,  79,  80,  81,  82,  83,  84,  85,  86,  87,  88,  89,  90,\n",
       "           91,  92,  93,  94,  95,  96,  97,  98,  99, 100, 101, 102, 103,\n",
       "          104, 105, 106, 107, 108, 109, 110, 111, 112, 113, 114, 115, 116,\n",
       "          117, 118, 119, 120, 121, 122, 123, 124, 125, 126, 127, 128, 129,\n",
       "          130, 131, 132, 133, 134, 135, 136, 137, 138, 139, 140, 141, 142,\n",
       "          143, 144, 145, 146, 147, 148, 149, 150, 151, 152, 153, 154, 155,\n",
       "          156, 157, 158, 159, 160, 161, 162, 163, 164, 165, 166, 167, 168,\n",
       "          169, 170, 171, 172, 173, 174, 175, 176, 177, 178, 179, 180, 181,\n",
       "          182, 183, 184, 185, 186, 187, 188, 189, 190, 191, 192, 193, 194,\n",
       "          195, 196, 197, 198, 199, 200, 201, 202, 203, 204, 205, 206, 207,\n",
       "          208, 209, 210, 211, 212, 213, 214, 215, 216, 217, 218, 219, 220,\n",
       "          221, 222, 223, 224, 225, 226, 227, 228, 229, 230, 231, 232, 233,\n",
       "          234, 235, 236, 237, 238, 239, 240, 241, 242, 243, 244, 245, 246,\n",
       "          247, 248, 249, 250, 251, 252, 253, 254, 255],\n",
       "         [  0,   0,   0,   0,   0,   0,   0,   0,   0,   0,   0,   0,   0,\n",
       "            0,   0,   0,   0,   0,   0,   0,   0,   0,   0,   0,   0,   0,\n",
       "            0,   0,   0,   0,   0,   0,   0,   0,   0,   0,   0,   0,   0,\n",
       "            0,   0,   0,   0,   0,   0,   0,   0,   0,   0,   0,   0,   0,\n",
       "            0,   0,   0,   0,   0,   0,   0,   0,   0,   0,   0,   0,   0,\n",
       "            0,   0,   0,   0,   0,   0,   0,   0,   0,   0,   0,   0,   0,\n",
       "            0,   0,   0,   0,   0,   0,   0,   0,   0,   0,   0,   0,   0,\n",
       "            0,   0,   0,   0,   0,   0,   0,   0,   0,   0,   0,   0,   0,\n",
       "            0,   0,   0,   0,   0,   0,   0,   0,   0,   0,   0,   0,   0,\n",
       "            0,   0,   0,   0,   0,   0,   0,   0,   0,   0,   0,   0,   0,\n",
       "            0,   0,   0,   0,   0,   0,   0,   0,   0,   0,   0,   0,   0,\n",
       "            0,   0,   0,   0,   0,   0,   0,   0,   0,   0,   0,   0,   0,\n",
       "            0,   0,   0,   0,   0,   0,   0,   0,   0,   0,   0,   0,   0,\n",
       "            0,   0,   0,   0,   0,   0,   0,   0,   0,   0,   0,   0,   0,\n",
       "            0,   0,   0,   0,   0,   0,   0,   0,   0,   0,   0,   0,   0,\n",
       "            0,   0,   0,   0,   0,   0,   0,   0,   0,   0,   0,   0,   0,\n",
       "            0,   0,   0,   0,   0,   0,   0,   0,   0,   0,   0,   0,   0,\n",
       "            0,   0,   0,   0,   0,   0,   0,   0,   0,   0,   0,   0,   0,\n",
       "            0,   0,   0,   0,   0,   0,   0,   0,   0,   0,   0,   0,   0,\n",
       "            0,   0,   0,   0,   0,   0,   0,   0,   0],\n",
       "         [  0,   0,   0,   0,   0,   0,   0,   0,   0,   0,   0,   0,   0,\n",
       "            0,   0,   0,   0,   0,   0,   0,   0,   0,   0,   0,   0,   0,\n",
       "            0,   0,   0,   0,   0,   0,   0,   0,   0,   0,   0,   0,   0,\n",
       "            0,   0,   0,   0,   0,   0,   0,   0,   0,   0,   0,   0,   0,\n",
       "            0,   0,   0,   0,   0,   0,   0,   0,   0,   0,   0,   0,   0,\n",
       "            0,   0,   0,   0,   0,   0,   0,   0,   0,   0,   0,   0,   0,\n",
       "            0,   0,   0,   0,   0,   0,   0,   0,   0,   0,   0,   0,   0,\n",
       "            0,   0,   0,   0,   0,   0,   0,   0,   0,   0,   0,   0,   0,\n",
       "            0,   0,   0,   0,   0,   0,   0,   0,   0,   0,   0,   0,   0,\n",
       "            0,   0,   0,   0,   0,   0,   0,   0,   0,   0,   0,   0,   0,\n",
       "            0,   0,   0,   0,   0,   0,   0,   0,   0,   0,   0,   0,   0,\n",
       "            0,   0,   0,   0,   0,   0,   0,   0,   0,   0,   0,   0,   0,\n",
       "            0,   0,   0,   0,   0,   0,   0,   0,   0,   0,   0,   0,   0,\n",
       "            0,   0,   0,   0,   0,   0,   0,   0,   0,   0,   0,   0,   0,\n",
       "            0,   0,   0,   0,   0,   0,   0,   0,   0,   0,   0,   0,   0,\n",
       "            0,   0,   0,   0,   0,   0,   0,   0,   0,   0,   0,   0,   0,\n",
       "            0,   0,   0,   0,   0,   0,   0,   0,   0,   0,   0,   0,   0,\n",
       "            0,   0,   0,   0,   0,   0,   0,   0,   0,   0,   0,   0,   0,\n",
       "            0,   0,   0,   0,   0,   0,   0,   0,   0,   0,   0,   0,   0,\n",
       "            0,   0,   0,   0,   0,   0,   0,   0,   0]], dtype=uint8)]}"
      ]
     },
     "execution_count": 23,
     "metadata": {},
     "output_type": "execute_result"
    }
   ],
   "source": [
    "tf.imagej_metadata"
   ]
  },
  {
   "cell_type": "code",
   "execution_count": 27,
   "id": "41c12b5b",
   "metadata": {},
   "outputs": [
    {
     "data": {
      "text/plain": [
       "array([[[1.1444266e-03, 9.7657740e-04, 1.1139086e-03, ...,\n",
       "         3.2043946e-04, 6.5613794e-04, 1.2207218e-04],\n",
       "        [2.1972992e-03, 7.2632944e-03, 8.2398718e-04, ...,\n",
       "         6.4087892e-04, 3.2043946e-04, 1.6784924e-04],\n",
       "        [1.7242695e-03, 1.4038300e-03, 3.0518044e-04, ...,\n",
       "         1.8310826e-04, 3.2043946e-04, 1.8310826e-04],\n",
       "        ...,\n",
       "        [0.0000000e+00, 6.1036088e-05, 3.0518044e-05, ...,\n",
       "         1.3733120e-04, 1.6479744e-03, 6.9733732e-03],\n",
       "        [7.6295109e-04, 1.1291676e-03, 6.1036088e-05, ...,\n",
       "         5.9510185e-04, 9.2011904e-03, 1.3763638e-02],\n",
       "        [1.6021973e-03, 8.2398718e-04, 1.8005646e-03, ...,\n",
       "         1.9684138e-03, 7.7210651e-03, 5.9510185e-03]],\n",
       "\n",
       "       [[2.2583352e-03, 2.1972992e-03, 4.1199359e-04, ...,\n",
       "         1.8310826e-04, 2.1362631e-04, 2.5787747e-03],\n",
       "        [9.6131838e-04, 7.9346914e-04, 1.0070954e-03, ...,\n",
       "         4.8828870e-04, 1.3733120e-04, 4.2725261e-04],\n",
       "        [5.3406577e-04, 4.5777066e-04, 1.3885710e-03, ...,\n",
       "         1.7090105e-03, 4.2114900e-03, 3.9673457e-04],\n",
       "        ...,\n",
       "        [4.5777066e-04, 4.2725261e-04, 6.2561990e-04, ...,\n",
       "         1.6784924e-04, 3.3569848e-04, 1.5259022e-04],\n",
       "        [1.3580529e-03, 5.4932479e-04, 2.1972992e-03, ...,\n",
       "         2.1362631e-04, 1.0528725e-03, 5.9510185e-04],\n",
       "        [6.1036088e-04, 1.0833906e-03, 2.0141909e-03, ...,\n",
       "         1.1291676e-03, 6.4087892e-04, 6.5003433e-03]],\n",
       "\n",
       "       [[4.2572673e-03, 3.5858701e-03, 3.8605325e-03, ...,\n",
       "         2.0904860e-03, 3.9215689e-03, 3.6774243e-03],\n",
       "        [2.7466239e-03, 3.4943160e-03, 7.4616619e-03, ...,\n",
       "         2.3804074e-03, 9.6131838e-04, 2.5482567e-03],\n",
       "        [3.3875029e-03, 2.5024796e-03, 6.1341268e-03, ...,\n",
       "         2.1820401e-03, 3.6011292e-03, 5.6153201e-03],\n",
       "        ...,\n",
       "        [4.1351952e-03, 3.3112078e-03, 4.9134050e-03, ...,\n",
       "         2.6703288e-03, 6.1341268e-03, 1.9226368e-03],\n",
       "        [3.5095750e-03, 3.5553521e-03, 4.1962313e-03, ...,\n",
       "         1.0833906e-03, 3.4332799e-03, 3.9215689e-03],\n",
       "        [2.8686961e-03, 5.4016938e-03, 4.9439231e-03, ...,\n",
       "         2.5940337e-03, 2.4109255e-03, 4.5624478e-03]],\n",
       "\n",
       "       [[1.0650798e-02, 3.8452735e-03, 8.5297935e-03, ...,\n",
       "         2.0752270e-03, 2.1515221e-03, 7.7821012e-04],\n",
       "        [6.8665599e-04, 2.5177386e-03, 3.6011292e-03, ...,\n",
       "         4.9286643e-03, 5.1270314e-03, 5.7221334e-03],\n",
       "        [1.6327153e-03, 2.3041123e-03, 6.1188680e-03, ...,\n",
       "         2.3651484e-03, 6.8207830e-03, 9.0485997e-03],\n",
       "        ...,\n",
       "        [6.4087892e-04, 1.9226368e-03, 2.7618830e-03, ...,\n",
       "         2.6092927e-03, 2.9449912e-03, 9.3080034e-04],\n",
       "        [8.0872816e-04, 2.1667811e-03, 6.2714582e-03, ...,\n",
       "         2.7466239e-03, 3.0670634e-03, 1.8616007e-03],\n",
       "        [3.0975814e-03, 1.5259022e-03, 5.4779891e-03, ...,\n",
       "         2.1972992e-03, 1.3122759e-03, 1.4953841e-03]]], dtype=float32)"
      ]
     },
     "execution_count": 27,
     "metadata": {},
     "output_type": "execute_result"
    }
   ],
   "source": [
    "img[0]"
   ]
  },
  {
   "cell_type": "code",
   "execution_count": 29,
   "id": "53bbc72b",
   "metadata": {},
   "outputs": [],
   "source": [
    "import matplotlib.pyplot as plt"
   ]
  },
  {
   "cell_type": "code",
   "execution_count": 30,
   "id": "53ed8d06",
   "metadata": {},
   "outputs": [
    {
     "data": {
      "text/plain": [
       "<matplotlib.image.AxesImage at 0x7fed9a3ea290>"
      ]
     },
     "execution_count": 30,
     "metadata": {},
     "output_type": "execute_result"
    },
    {
     "data": {
      "image/png": "[encoded data removed]",
      "text/plain": [
       "<Figure size 432x288 with 1 Axes>"
      ]
     },
     "metadata": {
      "needs_background": "light"
     },
     "output_type": "display_data"
    }
   ],
   "source": [
    "plt.imshow(img[0][0])"
   ]
  },
  {
   "cell_type": "code",
   "execution_count": 31,
   "id": "8e6b5514",
   "metadata": {},
   "outputs": [
    {
     "data": {
      "text/plain": [
       "<matplotlib.image.AxesImage at 0x7fed9918bed0>"
      ]
     },
     "execution_count": 31,
     "metadata": {},
     "output_type": "execute_result"
    },
    {
     "data": {
      "image/png": "[encoded data removed]",
      "text/plain": [
       "<Figure size 432x288 with 1 Axes>"
      ]
     },
     "metadata": {
      "needs_background": "light"
     },
     "output_type": "display_data"
    }
   ],
   "source": [
    "plt.imshow(img[5][0])"
   ]
  },
  {
   "cell_type": "code",
   "execution_count": 35,
   "id": "c9d2ec6d",
   "metadata": {},
   "outputs": [
    {
     "data": {
      "text/plain": [
       "<matplotlib.image.AxesImage at 0x7fed9c3d7c90>"
      ]
     },
     "execution_count": 35,
     "metadata": {},
     "output_type": "execute_result"
    },
    {
     "data": {
      "image/png": "[encoded data removed]",
      "text/plain": [
       "<Figure size 432x288 with 1 Axes>"
      ]
     },
     "metadata": {
      "needs_background": "light"
     },
     "output_type": "display_data"
    }
   ],
   "source": [
    "plt.imshow(img[10, 3])"
   ]
  },
  {
   "cell_type": "code",
   "execution_count": 24,
   "id": "81d5c5cd",
   "metadata": {},
   "outputs": [
    {
     "data": {
      "text/plain": [
       "['DAPI-01',\n",
       " 'Blank',\n",
       " 'Blank',\n",
       " 'Blank',\n",
       " 'DAPI-02',\n",
       " 'CD31',\n",
       " 'E-cadherin',\n",
       " 'CD4',\n",
       " 'DAPI-03',\n",
       " 'CD20',\n",
       " 'Ki67',\n",
       " 'CD68',\n",
       " 'DAPI-04',\n",
       " 'Pan-CK',\n",
       " 'CD8',\n",
       " 'Histone H3 Pho',\n",
       " 'DAPI-05',\n",
       " 'CD163',\n",
       " 'Podoplanin',\n",
       " 'CD3e',\n",
       " 'DAPI-06',\n",
       " 'CD36',\n",
       " 'HIF1a',\n",
       " 'GLUT1',\n",
       " 'DAPI-07',\n",
       " 'GATA3',\n",
       " 'CD45RO',\n",
       " 'CD45RA',\n",
       " 'DAPI-08',\n",
       " 'SMA',\n",
       " 'CK19',\n",
       " 'MGP',\n",
       " 'DAPI-09',\n",
       " 'Vimentin',\n",
       " 'Maspin',\n",
       " 'Foxp3',\n",
       " 'DAPI-10',\n",
       " 'Empty',\n",
       " 'MMP9',\n",
       " 'HLA-DR',\n",
       " 'DAPI-11',\n",
       " 'Empty',\n",
       " 'CK14',\n",
       " 'CD11c',\n",
       " 'DAPI-12',\n",
       " 'Empty',\n",
       " 'CD44',\n",
       " 'Empty',\n",
       " 'DAPI-13',\n",
       " 'Blank',\n",
       " 'Blank',\n",
       " 'Blank']"
      ]
     },
     "execution_count": 24,
     "metadata": {},
     "output_type": "execute_result"
    }
   ],
   "source": [
    "channels = tf.imagej_metadata['Labels']\n",
    "channels"
   ]
  },
  {
   "cell_type": "code",
   "execution_count": 67,
   "id": "f6345c72",
   "metadata": {},
   "outputs": [
    {
     "data": {
      "text/plain": [
       "[(5, 'CD31'),\n",
       " (6, 'E-cadherin'),\n",
       " (7, 'CD4'),\n",
       " (9, 'CD20'),\n",
       " (10, 'Ki67'),\n",
       " (11, 'CD68'),\n",
       " (13, 'Pan-CK'),\n",
       " (14, 'CD8'),\n",
       " (15, 'Histone H3 Pho'),\n",
       " (17, 'CD163'),\n",
       " (18, 'Podoplanin'),\n",
       " (19, 'CD3e'),\n",
       " (21, 'CD36'),\n",
       " (22, 'HIF1a'),\n",
       " (23, 'GLUT1'),\n",
       " (25, 'GATA3'),\n",
       " (26, 'CD45RO'),\n",
       " (27, 'CD45RA'),\n",
       " (29, 'SMA'),\n",
       " (30, 'CK19'),\n",
       " (31, 'MGP'),\n",
       " (33, 'Vimentin'),\n",
       " (34, 'Maspin'),\n",
       " (35, 'Foxp3'),\n",
       " (38, 'MMP9'),\n",
       " (39, 'HLA-DR'),\n",
       " (42, 'CK14'),\n",
       " (43, 'CD11c'),\n",
       " (46, 'CD44')]"
      ]
     },
     "execution_count": 67,
     "metadata": {},
     "output_type": "execute_result"
    }
   ],
   "source": [
    "keep_idxs, keep_channels = zip(*[(i, c) for i, c in enumerate(channels)\n",
    "                     if c.lower()!='blank'\n",
    "                     if c.lower()!='empty'\n",
    "                     if c[:4]!='DAPI'])\n",
    "keep_idxs = list(keep_idxs)\n",
    "list(zip(keep_idxs, keep_channels))"
   ]
  },
  {
   "cell_type": "code",
   "execution_count": 64,
   "id": "ee09a355",
   "metadata": {},
   "outputs": [
    {
     "data": {
      "text/plain": [
       "(52, 15120, 13440)"
      ]
     },
     "execution_count": 64,
     "metadata": {},
     "output_type": "execute_result"
    }
   ],
   "source": [
    "data = rearrange(img, 'n_cycles n_per_cycle h w -> (n_cycles n_per_cycle) h w')\n",
    "data.shape"
   ]
  },
  {
   "cell_type": "code",
   "execution_count": 66,
   "id": "8b2e3e3b",
   "metadata": {},
   "outputs": [
    {
     "data": {
      "text/plain": [
       "(5,\n",
       " 6,\n",
       " 7,\n",
       " 9,\n",
       " 10,\n",
       " 11,\n",
       " 13,\n",
       " 14,\n",
       " 15,\n",
       " 17,\n",
       " 18,\n",
       " 19,\n",
       " 21,\n",
       " 22,\n",
       " 23,\n",
       " 25,\n",
       " 26,\n",
       " 27,\n",
       " 29,\n",
       " 30,\n",
       " 31,\n",
       " 33,\n",
       " 34,\n",
       " 35,\n",
       " 38,\n",
       " 39,\n",
       " 42,\n",
       " 43,\n",
       " 46)"
      ]
     },
     "execution_count": 66,
     "metadata": {},
     "output_type": "execute_result"
    }
   ],
   "source": [
    "keep_idxs"
   ]
  },
  {
   "cell_type": "code",
   "execution_count": 68,
   "id": "998edaaf",
   "metadata": {},
   "outputs": [
    {
     "data": {
      "text/plain": [
       "(29, 15120, 13440)"
      ]
     },
     "execution_count": 68,
     "metadata": {},
     "output_type": "execute_result"
    }
   ],
   "source": [
    "data = data[keep_idxs]\n",
    "data.shape"
   ]
  },
  {
   "cell_type": "code",
   "execution_count": 72,
   "id": "c32e9c6c",
   "metadata": {},
   "outputs": [
    {
     "data": {
      "text/plain": [
       "(1, 15120, 13440)"
      ]
     },
     "execution_count": 72,
     "metadata": {},
     "output_type": "execute_result"
    }
   ],
   "source": [
    "np.expand_dims(img[0, 0], 0).shape"
   ]
  },
  {
   "cell_type": "code",
   "execution_count": 73,
   "id": "eaf6c23b",
   "metadata": {},
   "outputs": [
    {
     "data": {
      "text/plain": [
       "((30, 15120, 13440), 30)"
      ]
     },
     "execution_count": 73,
     "metadata": {},
     "output_type": "execute_result"
    }
   ],
   "source": [
    "data = np.concatenate((np.expand_dims(img[0, 0], 0), data))\n",
    "keep_idxs.insert(0, 'DAPI')\n",
    "data.shape, len(keep_idxs)"
   ]
  },
  {
   "cell_type": "code",
   "execution_count": null,
   "id": "b17cfa2e",
   "metadata": {},
   "outputs": [],
   "source": []
  },
  {
   "cell_type": "code",
   "execution_count": null,
   "id": "c9a6333d",
   "metadata": {},
   "outputs": [],
   "source": []
  },
  {
   "cell_type": "code",
   "execution_count": null,
   "id": "56759bab",
   "metadata": {},
   "outputs": [],
   "source": []
  },
  {
   "cell_type": "code",
   "execution_count": 62,
   "id": "b3e915a8",
   "metadata": {},
   "outputs": [
    {
     "data": {
      "text/plain": [
       "array([[[0.00225834, 0.0021973 , 0.00041199, ..., 0.00018311,\n",
       "         0.00021363, 0.00257877],\n",
       "        [0.00096132, 0.00079347, 0.0010071 , ..., 0.00048829,\n",
       "         0.00013733, 0.00042725],\n",
       "        [0.00053407, 0.00045777, 0.00138857, ..., 0.00170901,\n",
       "         0.00421149, 0.00039673],\n",
       "        ...,\n",
       "        [0.00045777, 0.00042725, 0.00062562, ..., 0.00016785,\n",
       "         0.0003357 , 0.00015259],\n",
       "        [0.00135805, 0.00054932, 0.0021973 , ..., 0.00021363,\n",
       "         0.00105287, 0.0005951 ],\n",
       "        [0.00061036, 0.00108339, 0.00201419, ..., 0.00112917,\n",
       "         0.00064088, 0.00650034]]], dtype=float32)"
      ]
     },
     "execution_count": 62,
     "metadata": {},
     "output_type": "execute_result"
    }
   ],
   "source": [
    "data[[1]]"
   ]
  },
  {
   "cell_type": "code",
   "execution_count": 61,
   "id": "d6c10d74",
   "metadata": {},
   "outputs": [
    {
     "ename": "KeyboardInterrupt",
     "evalue": "",
     "output_type": "error",
     "traceback": [
      "\u001b[0;31m---------------------------------------------------------------------------\u001b[0m",
      "\u001b[0;31mKeyboardInterrupt\u001b[0m                         Traceback (most recent call last)",
      "\u001b[0;32m/tmp/ipykernel_180933/2452873927.py\u001b[0m in \u001b[0;36m<module>\u001b[0;34m\u001b[0m\n\u001b[0;32m----> 1\u001b[0;31m \u001b[0mdata\u001b[0m\u001b[0;34m[\u001b[0m\u001b[0mkeep_idxs\u001b[0m\u001b[0;34m]\u001b[0m\u001b[0;34m\u001b[0m\u001b[0;34m\u001b[0m\u001b[0m\n\u001b[0m",
      "\u001b[0;31mKeyboardInterrupt\u001b[0m: "
     ]
    }
   ],
   "source": [
    "data[keep_idxs]"
   ]
  },
  {
   "cell_type": "code",
   "execution_count": 58,
   "id": "6c5c1ddb",
   "metadata": {},
   "outputs": [
    {
     "ename": "KeyboardInterrupt",
     "evalue": "",
     "output_type": "error",
     "traceback": [
      "\u001b[0;31m---------------------------------------------------------------------------\u001b[0m",
      "\u001b[0;31mKeyboardInterrupt\u001b[0m                         Traceback (most recent call last)",
      "    \u001b[0;31m[... skipping hidden 1 frame]\u001b[0m\n",
      "\u001b[0;32m/tmp/ipykernel_180933/865474229.py\u001b[0m in \u001b[0;36m<module>\u001b[0;34m\u001b[0m\n\u001b[1;32m      1\u001b[0m \u001b[0mdata\u001b[0m \u001b[0;34m=\u001b[0m \u001b[0mrearrange\u001b[0m\u001b[0;34m(\u001b[0m\u001b[0mimg\u001b[0m\u001b[0;34m,\u001b[0m \u001b[0;34m'n_cycles n_per_cycle h w -> (n_cycles n_per_cycle) h w'\u001b[0m\u001b[0;34m)\u001b[0m\u001b[0;34m\u001b[0m\u001b[0;34m\u001b[0m\u001b[0m\n\u001b[0;32m----> 2\u001b[0;31m \u001b[0mdata\u001b[0m \u001b[0;34m=\u001b[0m \u001b[0mdata\u001b[0m\u001b[0;34m[\u001b[0m\u001b[0mnp\u001b[0m\u001b[0;34m.\u001b[0m\u001b[0masarray\u001b[0m\u001b[0;34m(\u001b[0m\u001b[0mkeep_idxs\u001b[0m\u001b[0;34m)\u001b[0m\u001b[0;34m]\u001b[0m\u001b[0;34m\u001b[0m\u001b[0;34m\u001b[0m\u001b[0m\n\u001b[0m\u001b[1;32m      3\u001b[0m \u001b[0;34m\u001b[0m\u001b[0m\n",
      "\u001b[0;31mKeyboardInterrupt\u001b[0m: ",
      "\nDuring handling of the above exception, another exception occurred:\n",
      "\u001b[0;31mKeyboardInterrupt\u001b[0m                         Traceback (most recent call last)",
      "\u001b[0;31mKeyboardInterrupt\u001b[0m: "
     ]
    }
   ],
   "source": [
    "data = rearrange(img, 'n_cycles n_per_cycle h w -> (n_cycles n_per_cycle) h w')\n",
    "data = data[np.asarray(keep_idxs)]\n",
    "\n",
    "data.shape"
   ]
  },
  {
   "cell_type": "code",
   "execution_count": null,
   "id": "ae6070be",
   "metadata": {},
   "outputs": [],
   "source": [
    "pixel_type = 'uint8'\n",
    "tf = tifffile.TiffFile(qptiff_fp)\n",
    "s = tf.series[0] # full res tiffs are in the first series\n",
    "n_channels = s.get_shape()[0]\n",
    "shape = s.pages[0].shape\n",
    "subresolutions = 5\n",
    "\n",
    "bbox = (5000, 6000, 5000, 6000)\n",
    "# bbox = None\n",
    "shape"
   ]
  },
  {
   "cell_type": "code",
   "execution_count": 57,
   "id": "cff1a460",
   "metadata": {},
   "outputs": [
    {
     "data": {
      "text/plain": [
       "(52, 15120, 13440)"
      ]
     },
     "execution_count": 57,
     "metadata": {},
     "output_type": "execute_result"
    }
   ],
   "source": [
    "data.shape"
   ]
  },
  {
   "cell_type": "code",
   "execution_count": null,
   "id": "80643191",
   "metadata": {},
   "outputs": [],
   "source": []
  },
  {
   "cell_type": "code",
   "execution_count": null,
   "id": "891f99c5",
   "metadata": {},
   "outputs": [],
   "source": []
  },
  {
   "cell_type": "code",
   "execution_count": null,
   "id": "df750a42",
   "metadata": {},
   "outputs": [],
   "source": []
  },
  {
   "cell_type": "code",
   "execution_count": null,
   "id": "b1e63084",
   "metadata": {},
   "outputs": [],
   "source": []
  },
  {
   "cell_type": "code",
   "execution_count": null,
   "id": "53d0a66c",
   "metadata": {},
   "outputs": [],
   "source": []
  },
  {
   "cell_type": "code",
   "execution_count": null,
   "id": "d5aaa28d",
   "metadata": {},
   "outputs": [],
   "source": []
  },
  {
   "cell_type": "code",
   "execution_count": null,
   "id": "fa1a8854",
   "metadata": {},
   "outputs": [],
   "source": []
  },
  {
   "cell_type": "code",
   "execution_count": null,
   "id": "c3d9ede4",
   "metadata": {},
   "outputs": [],
   "source": []
  },
  {
   "cell_type": "code",
   "execution_count": null,
   "id": "ca3d839a",
   "metadata": {},
   "outputs": [],
   "source": []
  },
  {
   "cell_type": "code",
   "execution_count": null,
   "id": "0f6420d4",
   "metadata": {},
   "outputs": [],
   "source": []
  },
  {
   "cell_type": "code",
   "execution_count": null,
   "id": "3b441359",
   "metadata": {},
   "outputs": [],
   "source": []
  },
  {
   "cell_type": "code",
   "execution_count": null,
   "id": "de4887ab",
   "metadata": {},
   "outputs": [],
   "source": []
  },
  {
   "cell_type": "code",
   "execution_count": 13,
   "id": "5aed723a",
   "metadata": {},
   "outputs": [],
   "source": [
    "qptiff_fp = '/diskmnt/Projects/Users/estorrs/multiplex_data/codex/htan/brca/03172023_BRCA_HT397B1-U12/level_2/HT397B1-U12_Scan1.qptiff'\n",
    "output_fp = '/diskmnt/Projects/Users/estorrs/sandbox/test_pyramidal.ome.tiff'\n",
    "bbox = (5000, 6000, 5000, 6000)"
   ]
  },
  {
   "cell_type": "code",
   "execution_count": 14,
   "id": "b6d7e91f",
   "metadata": {},
   "outputs": [],
   "source": [
    "generate_ome_from_qptiff(qptiff_fp, output_fp, bbox=bbox)"
   ]
  },
  {
   "cell_type": "code",
   "execution_count": 7,
   "id": "c5b3a7bf",
   "metadata": {},
   "outputs": [],
   "source": [
    "??generate_ome_from_qptiff"
   ]
  },
  {
   "cell_type": "code",
   "execution_count": null,
   "id": "08ede307",
   "metadata": {},
   "outputs": [],
   "source": []
  },
  {
   "cell_type": "code",
   "execution_count": null,
   "id": "a036b581",
   "metadata": {},
   "outputs": [],
   "source": []
  },
  {
   "cell_type": "code",
   "execution_count": null,
   "id": "3b9e0562",
   "metadata": {},
   "outputs": [],
   "source": []
  },
  {
   "cell_type": "code",
   "execution_count": null,
   "id": "88742717",
   "metadata": {},
   "outputs": [],
   "source": []
  },
  {
   "cell_type": "code",
   "execution_count": null,
   "id": "c0b2cbb6",
   "metadata": {},
   "outputs": [],
   "source": []
  },
  {
   "cell_type": "code",
   "execution_count": null,
   "id": "c7909663",
   "metadata": {},
   "outputs": [],
   "source": []
  },
  {
   "cell_type": "code",
   "execution_count": null,
   "id": "966900d8",
   "metadata": {},
   "outputs": [],
   "source": []
  },
  {
   "cell_type": "code",
   "execution_count": 2,
   "id": "e95192c1",
   "metadata": {},
   "outputs": [],
   "source": [
    "qptiff_fp = '/diskmnt/Projects/Users/estorrs/multiplex_data/codex/htan/brca/03172023_BRCA_HT397B1-U12/level_2/HT397B1-U12_Scan1.qptiff'\n",
    "# qptiff_fp = '/diskmnt/Projects/Users/estorrs/multiplex_data/codex/htan/brca/040623_BRCA_HT397B1-U31/level_2/HT397B1-S1H1A3U31_Scan2.qptiff'\n",
    "\n",
    "output_fp = '/diskmnt/Projects/Users/estorrs/sandbox/test_pyramidal.ome.tiff'\n",
    "PHENOCYCLER_PIXELS_PER_MICRON = 1.9604911906033102\n"
   ]
  },
  {
   "cell_type": "code",
   "execution_count": 3,
   "id": "6da01e60",
   "metadata": {},
   "outputs": [
    {
     "data": {
      "text/plain": [
       "(18720, 19200)"
      ]
     },
     "execution_count": 3,
     "metadata": {},
     "output_type": "execute_result"
    }
   ],
   "source": [
    "pixel_type = 'uint8'\n",
    "tf = tifffile.TiffFile(qptiff_fp)\n",
    "s = tf.series[0] # full res tiffs are in the first series\n",
    "n_channels = s.get_shape()[0]\n",
    "shape = s.pages[0].shape\n",
    "subresolutions = 5\n",
    "\n",
    "bbox = (5000, 6000, 5000, 6000)\n",
    "# bbox = None\n",
    "shape"
   ]
  },
  {
   "cell_type": "code",
   "execution_count": 4,
   "id": "8af1e450",
   "metadata": {},
   "outputs": [
    {
     "data": {
      "text/plain": [
       "(1000, 1000, 25, 1, 1)"
      ]
     },
     "execution_count": 4,
     "metadata": {},
     "output_type": "execute_result"
    }
   ],
   "source": [
    "if bbox is None:\n",
    "    data = np.zeros((shape[1], shape[0], n_channels, 1, 1),\n",
    "                    dtype=np.uint8 if pixel_type=='uint8' else np.uint16)\n",
    "else:\n",
    "    data = np.zeros((bbox[3] - bbox[2], bbox[1] - bbox[0], n_channels, 1, 1),\n",
    "                    dtype=np.uint8 if pixel_type=='uint8' else np.uint16)\n",
    "biomarkers = []\n",
    "for i, p in enumerate(s.pages):\n",
    "    img = p.asarray()\n",
    "    d = tifffile.xml2dict(p.description)['PerkinElmer-QPI-ImageDescription']\n",
    "    biomarker = d['Biomarker']\n",
    "    biomarkers.append(biomarker)\n",
    "    if bbox is not None:\n",
    "        r1, r2, c1, c2 = bbox\n",
    "        y = r2 - r1\n",
    "        x = c2 - c1\n",
    "        img = img[r1:r2, c1:c2]\n",
    "    img = img.astype(np.float32)\n",
    "    img -= img.min()\n",
    "    img /= img.max()\n",
    "    if pixel_type == 'uint8':\n",
    "        img *= 255\n",
    "        img = img.astype(np.uint8)\n",
    "    else:\n",
    "        img *= 65535\n",
    "        img = img.astype(np.uint16) \n",
    "\n",
    "    data[..., i, 0, 0] = np.swapaxes(img, 0, 1)\n",
    "data.shape"
   ]
  },
  {
   "cell_type": "code",
   "execution_count": 5,
   "id": "79af99a0",
   "metadata": {},
   "outputs": [
    {
     "name": "stderr",
     "output_type": "stream",
     "text": [
      "/tmp/ipykernel_107137/2295163470.py:28: FutureWarning: The default XML parser will be changing from 'xmlschema' to 'lxml' in version 0.4.0.  To silence this warning, please provide the `parser` argument, specifying either 'lxml' (to opt into the new behavior), or'xmlschema' (to retain the old behavior).\n",
      "  metadata = to_dict(to_xml(o))\n"
     ]
    }
   ],
   "source": [
    "o = model.OME()\n",
    "o.images.append(\n",
    "    model.Image(\n",
    "        id='Image:0',\n",
    "        pixels=model.Pixels(\n",
    "            dimension_order='XYCZT',\n",
    "            size_c=n_channels,\n",
    "            size_t=1,\n",
    "            size_x=data.shape[0],\n",
    "            size_y=data.shape[1],\n",
    "            size_z=data.shape[3],\n",
    "            type=pixel_type,\n",
    "            big_endian=False,\n",
    "            channels=[model.Channel(id=f'Channel:{i}', name=c) for i, c in enumerate(biomarkers)],\n",
    "            physical_size_x=1 / PHENOCYCLER_PIXELS_PER_MICRON,\n",
    "            physical_size_y=1 / PHENOCYCLER_PIXELS_PER_MICRON,\n",
    "            physical_size_x_unit='µm',\n",
    "            physical_size_y_unit='µm'\n",
    "        )\n",
    "    )\n",
    ")\n",
    "\n",
    "im = o.images[0]\n",
    "for i in range(len(im.pixels.channels)):\n",
    "    im.pixels.planes.append(model.Plane(the_c=i, the_t=0, the_z=0))\n",
    "im.pixels.tiff_data_blocks.append(model.TiffData(plane_count=len(im.pixels.channels)))\n",
    "# xml_str = to_xml(o)\n",
    "metadata = to_dict(to_xml(o))"
   ]
  },
  {
   "cell_type": "code",
   "execution_count": 8,
   "id": "572ee8d4",
   "metadata": {},
   "outputs": [],
   "source": [
    "from einops import rearrange\n",
    "from skimage.transform import rescale"
   ]
  },
  {
   "cell_type": "code",
   "execution_count": 164,
   "id": "1dbb6e70",
   "metadata": {},
   "outputs": [
    {
     "data": {
      "text/plain": [
       "<COMPRESSION.LZW: 5>"
      ]
     },
     "execution_count": 164,
     "metadata": {},
     "output_type": "execute_result"
    }
   ],
   "source": [
    "p = tf.pages[0]\n",
    "p.compression"
   ]
  },
  {
   "cell_type": "code",
   "execution_count": null,
   "id": "10c9f3aa",
   "metadata": {},
   "outputs": [],
   "source": [
    "# !pip install imagecodecs==2023.3.16"
   ]
  },
  {
   "cell_type": "code",
   "execution_count": 9,
   "id": "96fc8659",
   "metadata": {},
   "outputs": [],
   "source": [
    "with tifffile.TiffWriter(output_fp, ome=True, bigtiff=True) as out_tif:\n",
    "    opts = {\n",
    "        'compression': 'LZW',\n",
    "    }\n",
    "    out_tif.write(\n",
    "        rearrange(data, 'x y c z t -> t c y x z'),\n",
    "        subifds=subresolutions,\n",
    "        **opts\n",
    "    )\n",
    "    for level in range(subresolutions):\n",
    "        mag = 2**(level + 1)\n",
    "        sampled = rescale(data[..., 0, 0], 1 / mag, preserve_range=True, channel_axis=-1)\n",
    "        sampled = sampled.astype(np.uint8)\n",
    "        sampled = np.expand_dims(sampled, (-2, -1))\n",
    "        out_tif.write(\n",
    "            rearrange(sampled, 'x y c z t -> t c y x z'),\n",
    "            subfiletype=1,\n",
    "            **opts\n",
    "        )\n",
    "    xml_str = to_xml(o)\n",
    "    out_tif.overwrite_description(xml_str.encode())"
   ]
  },
  {
   "cell_type": "code",
   "execution_count": 129,
   "id": "5275dea5",
   "metadata": {},
   "outputs": [
    {
     "data": {
      "text/plain": [
       "{'xmlns': 'http://www.openmicroscopy.org/Schemas/OME/2016-06',\n",
       " 'xmlns:xsi': 'http://www.w3.org/2001/XMLSchema-instance',\n",
       " 'xsi:schemaLocation': 'http://www.openmicroscopy.org/Schemas/OME/2016-06 http://www.openmicroscopy.org/Schemas/OME/2016-06/ome.xsd',\n",
       " 'images': [{'id': 'Image:0',\n",
       "   'pixels': {'big_endian': False,\n",
       "    'dimension_order': 'XYCZT',\n",
       "    'id': 'Pixels:8',\n",
       "    'physical_size_x': 0.5100762527233116,\n",
       "    'physical_size_y': 0.5100762527233116,\n",
       "    'size_c': 25,\n",
       "    'size_t': 1,\n",
       "    'size_x': 1000,\n",
       "    'size_y': 1000,\n",
       "    'size_z': 1,\n",
       "    'type': 'uint8',\n",
       "    'physical_size_x_unit': 'µm',\n",
       "    'physical_size_y_unit': 'µm',\n",
       "    'physical_size_z_unit': 'µm',\n",
       "    'time_increment_unit': 's',\n",
       "    'channels': [{'color': -1,\n",
       "      'id': 'Channel:0',\n",
       "      'name': 'DAPI',\n",
       "      'pinhole_size_unit': 'µm',\n",
       "      'excitation_wavelength_unit': 'nm',\n",
       "      'emission_wavelength_unit': 'nm'},\n",
       "     {'color': -1,\n",
       "      'id': 'Channel:1',\n",
       "      'name': 'CD8',\n",
       "      'pinhole_size_unit': 'µm',\n",
       "      'excitation_wavelength_unit': 'nm',\n",
       "      'emission_wavelength_unit': 'nm'},\n",
       "     {'color': -1,\n",
       "      'id': 'Channel:2',\n",
       "      'name': 'Her2 (D)',\n",
       "      'pinhole_size_unit': 'µm',\n",
       "      'excitation_wavelength_unit': 'nm',\n",
       "      'emission_wavelength_unit': 'nm'},\n",
       "     {'color': -1,\n",
       "      'id': 'Channel:3',\n",
       "      'name': 'GATA3 (D)',\n",
       "      'pinhole_size_unit': 'µm',\n",
       "      'excitation_wavelength_unit': 'nm',\n",
       "      'emission_wavelength_unit': 'nm'},\n",
       "     {'color': -1,\n",
       "      'id': 'Channel:4',\n",
       "      'name': 'cKIT-(D)',\n",
       "      'pinhole_size_unit': 'µm',\n",
       "      'excitation_wavelength_unit': 'nm',\n",
       "      'emission_wavelength_unit': 'nm'},\n",
       "     {'color': -1,\n",
       "      'id': 'Channel:5',\n",
       "      'name': 'Pan-Cytokeratin',\n",
       "      'pinhole_size_unit': 'µm',\n",
       "      'excitation_wavelength_unit': 'nm',\n",
       "      'emission_wavelength_unit': 'nm'},\n",
       "     {'color': -1,\n",
       "      'id': 'Channel:6',\n",
       "      'name': 'GLUT1-(D)',\n",
       "      'pinhole_size_unit': 'µm',\n",
       "      'excitation_wavelength_unit': 'nm',\n",
       "      'emission_wavelength_unit': 'nm'},\n",
       "     {'color': -1,\n",
       "      'id': 'Channel:7',\n",
       "      'name': 'Podoplanin',\n",
       "      'pinhole_size_unit': 'µm',\n",
       "      'excitation_wavelength_unit': 'nm',\n",
       "      'emission_wavelength_unit': 'nm'},\n",
       "     {'color': -1,\n",
       "      'id': 'Channel:8',\n",
       "      'name': 'CD68 (D)',\n",
       "      'pinhole_size_unit': 'µm',\n",
       "      'excitation_wavelength_unit': 'nm',\n",
       "      'emission_wavelength_unit': 'nm'},\n",
       "     {'color': -1,\n",
       "      'id': 'Channel:9',\n",
       "      'name': 'HLA-DR',\n",
       "      'pinhole_size_unit': 'µm',\n",
       "      'excitation_wavelength_unit': 'nm',\n",
       "      'emission_wavelength_unit': 'nm'},\n",
       "     {'color': -1,\n",
       "      'id': 'Channel:10',\n",
       "      'name': 'Keratin 14',\n",
       "      'pinhole_size_unit': 'µm',\n",
       "      'excitation_wavelength_unit': 'nm',\n",
       "      'emission_wavelength_unit': 'nm'},\n",
       "     {'color': -1,\n",
       "      'id': 'Channel:11',\n",
       "      'name': 'FoxP3',\n",
       "      'pinhole_size_unit': 'µm',\n",
       "      'excitation_wavelength_unit': 'nm',\n",
       "      'emission_wavelength_unit': 'nm'},\n",
       "     {'color': -1,\n",
       "      'id': 'Channel:12',\n",
       "      'name': 'MGP-(D)',\n",
       "      'pinhole_size_unit': 'µm',\n",
       "      'excitation_wavelength_unit': 'nm',\n",
       "      'emission_wavelength_unit': 'nm'},\n",
       "     {'color': -1,\n",
       "      'id': 'Channel:13',\n",
       "      'name': 'CD20-(D)',\n",
       "      'pinhole_size_unit': 'µm',\n",
       "      'excitation_wavelength_unit': 'nm',\n",
       "      'emission_wavelength_unit': 'nm'},\n",
       "     {'color': -1,\n",
       "      'id': 'Channel:14',\n",
       "      'name': 'SMA-(D)',\n",
       "      'pinhole_size_unit': 'µm',\n",
       "      'excitation_wavelength_unit': 'nm',\n",
       "      'emission_wavelength_unit': 'nm'},\n",
       "     {'color': -1,\n",
       "      'id': 'Channel:15',\n",
       "      'name': 'Ki67',\n",
       "      'pinhole_size_unit': 'µm',\n",
       "      'excitation_wavelength_unit': 'nm',\n",
       "      'emission_wavelength_unit': 'nm'},\n",
       "     {'color': -1,\n",
       "      'id': 'Channel:16',\n",
       "      'name': 'Vimentin-(D)',\n",
       "      'pinhole_size_unit': 'µm',\n",
       "      'excitation_wavelength_unit': 'nm',\n",
       "      'emission_wavelength_unit': 'nm'},\n",
       "     {'color': -1,\n",
       "      'id': 'Channel:17',\n",
       "      'name': 'PR-(D)',\n",
       "      'pinhole_size_unit': 'µm',\n",
       "      'excitation_wavelength_unit': 'nm',\n",
       "      'emission_wavelength_unit': 'nm'},\n",
       "     {'color': -1,\n",
       "      'id': 'Channel:18',\n",
       "      'name': 'Bap1 (D)',\n",
       "      'pinhole_size_unit': 'µm',\n",
       "      'excitation_wavelength_unit': 'nm',\n",
       "      'emission_wavelength_unit': 'nm'},\n",
       "     {'color': -1,\n",
       "      'id': 'Channel:19',\n",
       "      'name': 'CD45 (D)',\n",
       "      'pinhole_size_unit': 'µm',\n",
       "      'excitation_wavelength_unit': 'nm',\n",
       "      'emission_wavelength_unit': 'nm'},\n",
       "     {'color': -1,\n",
       "      'id': 'Channel:20',\n",
       "      'name': 'ER',\n",
       "      'pinhole_size_unit': 'µm',\n",
       "      'excitation_wavelength_unit': 'nm',\n",
       "      'emission_wavelength_unit': 'nm'},\n",
       "     {'color': -1,\n",
       "      'id': 'Channel:21',\n",
       "      'name': 'CD31',\n",
       "      'pinhole_size_unit': 'µm',\n",
       "      'excitation_wavelength_unit': 'nm',\n",
       "      'emission_wavelength_unit': 'nm'},\n",
       "     {'color': -1,\n",
       "      'id': 'Channel:22',\n",
       "      'name': 'COX6c (D)',\n",
       "      'pinhole_size_unit': 'µm',\n",
       "      'excitation_wavelength_unit': 'nm',\n",
       "      'emission_wavelength_unit': 'nm'},\n",
       "     {'color': -1,\n",
       "      'id': 'Channel:23',\n",
       "      'name': 'CK19',\n",
       "      'pinhole_size_unit': 'µm',\n",
       "      'excitation_wavelength_unit': 'nm',\n",
       "      'emission_wavelength_unit': 'nm'},\n",
       "     {'color': -1,\n",
       "      'id': 'Channel:24',\n",
       "      'name': 'PLAT/tPA (D)',\n",
       "      'pinhole_size_unit': 'µm',\n",
       "      'excitation_wavelength_unit': 'nm',\n",
       "      'emission_wavelength_unit': 'nm'}],\n",
       "    'tiff_data_blocks': [{'plane_count': 25,\n",
       "      'ifd': 0,\n",
       "      'first_z': 0,\n",
       "      'first_t': 0,\n",
       "      'first_c': 0}],\n",
       "    'planes': [{'the_c': 0,\n",
       "      'the_t': 0,\n",
       "      'the_z': 0,\n",
       "      'delta_t_unit': 's',\n",
       "      'exposure_time_unit': 's',\n",
       "      'position_x_unit': 'reference frame',\n",
       "      'position_y_unit': 'reference frame',\n",
       "      'position_z_unit': 'reference frame'},\n",
       "     {'the_c': 1,\n",
       "      'the_t': 0,\n",
       "      'the_z': 0,\n",
       "      'delta_t_unit': 's',\n",
       "      'exposure_time_unit': 's',\n",
       "      'position_x_unit': 'reference frame',\n",
       "      'position_y_unit': 'reference frame',\n",
       "      'position_z_unit': 'reference frame'},\n",
       "     {'the_c': 2,\n",
       "      'the_t': 0,\n",
       "      'the_z': 0,\n",
       "      'delta_t_unit': 's',\n",
       "      'exposure_time_unit': 's',\n",
       "      'position_x_unit': 'reference frame',\n",
       "      'position_y_unit': 'reference frame',\n",
       "      'position_z_unit': 'reference frame'},\n",
       "     {'the_c': 3,\n",
       "      'the_t': 0,\n",
       "      'the_z': 0,\n",
       "      'delta_t_unit': 's',\n",
       "      'exposure_time_unit': 's',\n",
       "      'position_x_unit': 'reference frame',\n",
       "      'position_y_unit': 'reference frame',\n",
       "      'position_z_unit': 'reference frame'},\n",
       "     {'the_c': 4,\n",
       "      'the_t': 0,\n",
       "      'the_z': 0,\n",
       "      'delta_t_unit': 's',\n",
       "      'exposure_time_unit': 's',\n",
       "      'position_x_unit': 'reference frame',\n",
       "      'position_y_unit': 'reference frame',\n",
       "      'position_z_unit': 'reference frame'},\n",
       "     {'the_c': 5,\n",
       "      'the_t': 0,\n",
       "      'the_z': 0,\n",
       "      'delta_t_unit': 's',\n",
       "      'exposure_time_unit': 's',\n",
       "      'position_x_unit': 'reference frame',\n",
       "      'position_y_unit': 'reference frame',\n",
       "      'position_z_unit': 'reference frame'},\n",
       "     {'the_c': 6,\n",
       "      'the_t': 0,\n",
       "      'the_z': 0,\n",
       "      'delta_t_unit': 's',\n",
       "      'exposure_time_unit': 's',\n",
       "      'position_x_unit': 'reference frame',\n",
       "      'position_y_unit': 'reference frame',\n",
       "      'position_z_unit': 'reference frame'},\n",
       "     {'the_c': 7,\n",
       "      'the_t': 0,\n",
       "      'the_z': 0,\n",
       "      'delta_t_unit': 's',\n",
       "      'exposure_time_unit': 's',\n",
       "      'position_x_unit': 'reference frame',\n",
       "      'position_y_unit': 'reference frame',\n",
       "      'position_z_unit': 'reference frame'},\n",
       "     {'the_c': 8,\n",
       "      'the_t': 0,\n",
       "      'the_z': 0,\n",
       "      'delta_t_unit': 's',\n",
       "      'exposure_time_unit': 's',\n",
       "      'position_x_unit': 'reference frame',\n",
       "      'position_y_unit': 'reference frame',\n",
       "      'position_z_unit': 'reference frame'},\n",
       "     {'the_c': 9,\n",
       "      'the_t': 0,\n",
       "      'the_z': 0,\n",
       "      'delta_t_unit': 's',\n",
       "      'exposure_time_unit': 's',\n",
       "      'position_x_unit': 'reference frame',\n",
       "      'position_y_unit': 'reference frame',\n",
       "      'position_z_unit': 'reference frame'},\n",
       "     {'the_c': 10,\n",
       "      'the_t': 0,\n",
       "      'the_z': 0,\n",
       "      'delta_t_unit': 's',\n",
       "      'exposure_time_unit': 's',\n",
       "      'position_x_unit': 'reference frame',\n",
       "      'position_y_unit': 'reference frame',\n",
       "      'position_z_unit': 'reference frame'},\n",
       "     {'the_c': 11,\n",
       "      'the_t': 0,\n",
       "      'the_z': 0,\n",
       "      'delta_t_unit': 's',\n",
       "      'exposure_time_unit': 's',\n",
       "      'position_x_unit': 'reference frame',\n",
       "      'position_y_unit': 'reference frame',\n",
       "      'position_z_unit': 'reference frame'},\n",
       "     {'the_c': 12,\n",
       "      'the_t': 0,\n",
       "      'the_z': 0,\n",
       "      'delta_t_unit': 's',\n",
       "      'exposure_time_unit': 's',\n",
       "      'position_x_unit': 'reference frame',\n",
       "      'position_y_unit': 'reference frame',\n",
       "      'position_z_unit': 'reference frame'},\n",
       "     {'the_c': 13,\n",
       "      'the_t': 0,\n",
       "      'the_z': 0,\n",
       "      'delta_t_unit': 's',\n",
       "      'exposure_time_unit': 's',\n",
       "      'position_x_unit': 'reference frame',\n",
       "      'position_y_unit': 'reference frame',\n",
       "      'position_z_unit': 'reference frame'},\n",
       "     {'the_c': 14,\n",
       "      'the_t': 0,\n",
       "      'the_z': 0,\n",
       "      'delta_t_unit': 's',\n",
       "      'exposure_time_unit': 's',\n",
       "      'position_x_unit': 'reference frame',\n",
       "      'position_y_unit': 'reference frame',\n",
       "      'position_z_unit': 'reference frame'},\n",
       "     {'the_c': 15,\n",
       "      'the_t': 0,\n",
       "      'the_z': 0,\n",
       "      'delta_t_unit': 's',\n",
       "      'exposure_time_unit': 's',\n",
       "      'position_x_unit': 'reference frame',\n",
       "      'position_y_unit': 'reference frame',\n",
       "      'position_z_unit': 'reference frame'},\n",
       "     {'the_c': 16,\n",
       "      'the_t': 0,\n",
       "      'the_z': 0,\n",
       "      'delta_t_unit': 's',\n",
       "      'exposure_time_unit': 's',\n",
       "      'position_x_unit': 'reference frame',\n",
       "      'position_y_unit': 'reference frame',\n",
       "      'position_z_unit': 'reference frame'},\n",
       "     {'the_c': 17,\n",
       "      'the_t': 0,\n",
       "      'the_z': 0,\n",
       "      'delta_t_unit': 's',\n",
       "      'exposure_time_unit': 's',\n",
       "      'position_x_unit': 'reference frame',\n",
       "      'position_y_unit': 'reference frame',\n",
       "      'position_z_unit': 'reference frame'},\n",
       "     {'the_c': 18,\n",
       "      'the_t': 0,\n",
       "      'the_z': 0,\n",
       "      'delta_t_unit': 's',\n",
       "      'exposure_time_unit': 's',\n",
       "      'position_x_unit': 'reference frame',\n",
       "      'position_y_unit': 'reference frame',\n",
       "      'position_z_unit': 'reference frame'},\n",
       "     {'the_c': 19,\n",
       "      'the_t': 0,\n",
       "      'the_z': 0,\n",
       "      'delta_t_unit': 's',\n",
       "      'exposure_time_unit': 's',\n",
       "      'position_x_unit': 'reference frame',\n",
       "      'position_y_unit': 'reference frame',\n",
       "      'position_z_unit': 'reference frame'},\n",
       "     {'the_c': 20,\n",
       "      'the_t': 0,\n",
       "      'the_z': 0,\n",
       "      'delta_t_unit': 's',\n",
       "      'exposure_time_unit': 's',\n",
       "      'position_x_unit': 'reference frame',\n",
       "      'position_y_unit': 'reference frame',\n",
       "      'position_z_unit': 'reference frame'},\n",
       "     {'the_c': 21,\n",
       "      'the_t': 0,\n",
       "      'the_z': 0,\n",
       "      'delta_t_unit': 's',\n",
       "      'exposure_time_unit': 's',\n",
       "      'position_x_unit': 'reference frame',\n",
       "      'position_y_unit': 'reference frame',\n",
       "      'position_z_unit': 'reference frame'},\n",
       "     {'the_c': 22,\n",
       "      'the_t': 0,\n",
       "      'the_z': 0,\n",
       "      'delta_t_unit': 's',\n",
       "      'exposure_time_unit': 's',\n",
       "      'position_x_unit': 'reference frame',\n",
       "      'position_y_unit': 'reference frame',\n",
       "      'position_z_unit': 'reference frame'},\n",
       "     {'the_c': 23,\n",
       "      'the_t': 0,\n",
       "      'the_z': 0,\n",
       "      'delta_t_unit': 's',\n",
       "      'exposure_time_unit': 's',\n",
       "      'position_x_unit': 'reference frame',\n",
       "      'position_y_unit': 'reference frame',\n",
       "      'position_z_unit': 'reference frame'},\n",
       "     {'the_c': 24,\n",
       "      'the_t': 0,\n",
       "      'the_z': 0,\n",
       "      'delta_t_unit': 's',\n",
       "      'exposure_time_unit': 's',\n",
       "      'position_x_unit': 'reference frame',\n",
       "      'position_y_unit': 'reference frame',\n",
       "      'position_z_unit': 'reference frame'}]}}]}"
      ]
     },
     "execution_count": 129,
     "metadata": {},
     "output_type": "execute_result"
    }
   ],
   "source": [
    "to_dict(to_xml(o))"
   ]
  },
  {
   "cell_type": "code",
   "execution_count": 32,
   "id": "9b7ba511",
   "metadata": {},
   "outputs": [],
   "source": [
    "f = open(qptiff_fp, 'rb')\n",
    "import struct\n"
   ]
  },
  {
   "cell_type": "code",
   "execution_count": 43,
   "id": "b8242d53",
   "metadata": {},
   "outputs": [
    {
     "data": {
      "text/plain": [
       "0"
      ]
     },
     "execution_count": 43,
     "metadata": {},
     "output_type": "execute_result"
    }
   ],
   "source": [
    "f.seek(0)"
   ]
  },
  {
   "cell_type": "code",
   "execution_count": 44,
   "id": "d70c8573",
   "metadata": {},
   "outputs": [
    {
     "data": {
      "text/plain": [
       "(b'II+\\x00', '<')"
      ]
     },
     "execution_count": 44,
     "metadata": {},
     "output_type": "execute_result"
    }
   ],
   "source": [
    "header = f.read(4)\n",
    "byteorder = {b'II': '<', b'MM': '>', b'EP': '<'}[header[:2]]\n",
    "header, byteorder"
   ]
  },
  {
   "cell_type": "code",
   "execution_count": 45,
   "id": "19a5e34f",
   "metadata": {},
   "outputs": [
    {
     "data": {
      "text/plain": [
       "43"
      ]
     },
     "execution_count": 45,
     "metadata": {},
     "output_type": "execute_result"
    }
   ],
   "source": [
    "version = struct.unpack(byteorder + 'H', header[2:4])[0]\n",
    "version"
   ]
  },
  {
   "cell_type": "code",
   "execution_count": 46,
   "id": "4012fc02",
   "metadata": {},
   "outputs": [
    {
     "data": {
      "text/plain": [
       "(8, 0)"
      ]
     },
     "execution_count": 46,
     "metadata": {},
     "output_type": "execute_result"
    }
   ],
   "source": [
    "offsetsize, zero = struct.unpack(byteorder + 'HH', f.read(4))\n",
    "offsetsize, zero"
   ]
  },
  {
   "cell_type": "code",
   "execution_count": 56,
   "id": "a3cc6b03",
   "metadata": {},
   "outputs": [],
   "source": [
    "from tifffile import TIFF, TiffPages, TiffPage"
   ]
  },
  {
   "cell_type": "code",
   "execution_count": 48,
   "id": "1ea8a1a7",
   "metadata": {},
   "outputs": [
    {
     "data": {
      "text/plain": [
       "<tifffile.TiffFormat 64-bit little-endian>"
      ]
     },
     "execution_count": 48,
     "metadata": {},
     "output_type": "execute_result"
    }
   ],
   "source": [
    "TIFF.BIG_LE"
   ]
  },
  {
   "cell_type": "code",
   "execution_count": null,
   "id": "23d72574",
   "metadata": {},
   "outputs": [],
   "source": [
    "pages = TiffPages(self)"
   ]
  },
  {
   "cell_type": "code",
   "execution_count": 57,
   "id": "21cfac04",
   "metadata": {},
   "outputs": [],
   "source": [
    "??TiffPage"
   ]
  },
  {
   "cell_type": "code",
   "execution_count": 53,
   "id": "cdc5b91d",
   "metadata": {},
   "outputs": [
    {
     "data": {
      "text/plain": [
       "8"
      ]
     },
     "execution_count": 53,
     "metadata": {},
     "output_type": "execute_result"
    }
   ],
   "source": [
    "f.seek(offsetsize)"
   ]
  },
  {
   "cell_type": "code",
   "execution_count": null,
   "id": "49fcfa38",
   "metadata": {},
   "outputs": [],
   "source": []
  },
  {
   "cell_type": "code",
   "execution_count": 58,
   "id": "dbceb090",
   "metadata": {},
   "outputs": [],
   "source": [
    "from mip.ome import generate_ome_from_qptiff"
   ]
  },
  {
   "cell_type": "code",
   "execution_count": 60,
   "id": "9e94d46f",
   "metadata": {},
   "outputs": [],
   "source": [
    "generate_ome_from_qptiff(qptiff_fp, output_fp, bbox=bbox)"
   ]
  },
  {
   "cell_type": "code",
   "execution_count": null,
   "id": "13ca6a45",
   "metadata": {},
   "outputs": [],
   "source": []
  },
  {
   "cell_type": "code",
   "execution_count": 54,
   "id": "7ce8f462",
   "metadata": {},
   "outputs": [
    {
     "name": "stdout",
     "output_type": "stream",
     "text": [
      "Object `TiffPage` not found.\n"
     ]
    }
   ],
   "source": [
    "??TiffPage"
   ]
  },
  {
   "cell_type": "code",
   "execution_count": 20,
   "id": "bb366b45",
   "metadata": {},
   "outputs": [],
   "source": [
    "tif = TiffFile(qptiff_fp)\n",
    "# ome = from_xml(tif.ome_metadata)\n",
    "# im = ome.images[0]"
   ]
  },
  {
   "cell_type": "code",
   "execution_count": 23,
   "id": "d087d290",
   "metadata": {
    "scrolled": true
   },
   "outputs": [
    {
     "ename": "XMLSyntaxError",
     "evalue": "Document labelled UTF-16 but has UTF-8 content, line 1, column 38 (<string>, line 1)",
     "output_type": "error",
     "traceback": [
      "Traceback \u001b[0;36m(most recent call last)\u001b[0m:\n",
      "\u001b[0m  File \u001b[1;32m/diskmnt/Projects/Users/estorrs/miniconda3/envs/multiplex-imaging-pipeline/lib/python3.9/site-packages/IPython/core/interactiveshell.py:3505\u001b[0m in \u001b[1;35mrun_code\u001b[0m\n    exec(code_obj, self.user_global_ns, self.user_ns)\u001b[0m\n",
      "\u001b[0m  Cell \u001b[1;32mIn[23], line 1\u001b[0m\n    ome = from_tiff(qptiff_fp, parser='lxml')\u001b[0m\n",
      "\u001b[0m  File \u001b[1;32m/diskmnt/Projects/Users/estorrs/miniconda3/envs/multiplex-imaging-pipeline/lib/python3.9/site-packages/ome_types/_convenience.py:142\u001b[0m in \u001b[1;35mfrom_tiff\u001b[0m\n    return from_xml(_tiff2xml(path), parser=parser, validate=validate)\u001b[0m\n",
      "\u001b[0m  File \u001b[1;32m/diskmnt/Projects/Users/estorrs/miniconda3/envs/multiplex-imaging-pipeline/lib/python3.9/site-packages/ome_types/_convenience.py:105\u001b[0m in \u001b[1;35mfrom_xml\u001b[0m\n    d = to_dict(os.fspath(xml), parser=parser, validate=validate)\u001b[0m\n",
      "\u001b[0m  File \u001b[1;32m/diskmnt/Projects/Users/estorrs/miniconda3/envs/multiplex-imaging-pipeline/lib/python3.9/site-packages/ome_types/_convenience.py:72\u001b[0m in \u001b[1;35mto_dict\u001b[0m\n    d = parser(xml) if validate is None else parser(xml, validate=validate)\u001b[0m\n",
      "\u001b[0m  File \u001b[1;32m/diskmnt/Projects/Users/estorrs/miniconda3/envs/multiplex-imaging-pipeline/lib/python3.9/site-packages/ome_types/_lxml.py:173\u001b[0m in \u001b[1;35mlxml2dict\u001b[0m\n    result = lxml.etree.XML(_ensure_xml_bytes(path_or_str))\u001b[0m\n",
      "\u001b[0m  File \u001b[1;32msrc/lxml/etree.pyx:3236\u001b[0m in \u001b[1;35mlxml.etree.XML\u001b[0m\n",
      "\u001b[0m  File \u001b[1;32msrc/lxml/parser.pxi:1916\u001b[0m in \u001b[1;35mlxml.etree._parseMemoryDocument\u001b[0m\n",
      "\u001b[0m  File \u001b[1;32msrc/lxml/parser.pxi:1803\u001b[0m in \u001b[1;35mlxml.etree._parseDoc\u001b[0m\n",
      "\u001b[0m  File \u001b[1;32msrc/lxml/parser.pxi:1144\u001b[0m in \u001b[1;35mlxml.etree._BaseParser._parseDoc\u001b[0m\n",
      "\u001b[0m  File \u001b[1;32msrc/lxml/parser.pxi:618\u001b[0m in \u001b[1;35mlxml.etree._ParserContext._handleParseResultDoc\u001b[0m\n",
      "\u001b[0m  File \u001b[1;32msrc/lxml/parser.pxi:728\u001b[0m in \u001b[1;35mlxml.etree._handleParseResult\u001b[0m\n",
      "\u001b[0;36m  File \u001b[0;32msrc/lxml/parser.pxi:657\u001b[0;36m in \u001b[0;35mlxml.etree._raiseParseError\u001b[0;36m\n",
      "\u001b[0;36m  File \u001b[0;32m<string>:1\u001b[0;36m\u001b[0m\n\u001b[0;31mXMLSyntaxError\u001b[0m\u001b[0;31m:\u001b[0m Document labelled UTF-16 but has UTF-8 content, line 1, column 38\n"
     ]
    }
   ],
   "source": [
    "ome = from_tiff(qptiff_fp, parser='lxml')"
   ]
  },
  {
   "cell_type": "code",
   "execution_count": null,
   "id": "606e1a97",
   "metadata": {},
   "outputs": [],
   "source": []
  },
  {
   "cell_type": "code",
   "execution_count": null,
   "id": "721d66ff",
   "metadata": {},
   "outputs": [],
   "source": []
  },
  {
   "cell_type": "code",
   "execution_count": 18,
   "id": "3215ee45",
   "metadata": {},
   "outputs": [],
   "source": [
    "from tifffile import TiffFile\n",
    "from ome_types import from_tiff, from_xml"
   ]
  },
  {
   "cell_type": "code",
   "execution_count": null,
   "id": "359b828d",
   "metadata": {},
   "outputs": [],
   "source": [
    "tif = TiffFile(output_fp)\n",
    "ome = from_xml(tif.ome_metadata)\n",
    "im = ome.images[0]"
   ]
  },
  {
   "cell_type": "code",
   "execution_count": null,
   "id": "f3010a91",
   "metadata": {},
   "outputs": [],
   "source": [
    "im"
   ]
  },
  {
   "cell_type": "code",
   "execution_count": null,
   "id": "8c8f1c44",
   "metadata": {},
   "outputs": [],
   "source": [
    "im.pixels.channels"
   ]
  },
  {
   "cell_type": "code",
   "execution_count": 10,
   "id": "5641de26",
   "metadata": {},
   "outputs": [],
   "source": [
    "from mip.utils import extract_ome_tiff"
   ]
  },
  {
   "cell_type": "code",
   "execution_count": 11,
   "id": "0e0d11da",
   "metadata": {},
   "outputs": [
    {
     "name": "stderr",
     "output_type": "stream",
     "text": [
      "/diskmnt/Projects/Users/estorrs/miniconda3/envs/multiplex-imaging-pipeline/lib/python3.9/site-packages/ome_types/_convenience.py:105: FutureWarning: The default XML parser will be changing from 'xmlschema' to 'lxml' in version 0.4.0.  To silence this warning, please provide the `parser` argument, specifying either 'lxml' (to opt into the new behavior), or'xmlschema' (to retain the old behavior).\n",
      "  d = to_dict(os.fspath(xml), parser=parser, validate=validate)\n"
     ]
    }
   ],
   "source": [
    "d = extract_ome_tiff(output_fp)"
   ]
  },
  {
   "cell_type": "code",
   "execution_count": 12,
   "id": "191ce374",
   "metadata": {},
   "outputs": [
    {
     "data": {
      "text/plain": [
       "dict_keys(['DAPI', 'CD8', 'Her2 (D)', 'GATA3 (D)', 'cKIT-(D)', 'Pan-Cytokeratin', 'GLUT1-(D)', 'Podoplanin', 'CD68 (D)', 'HLA-DR', 'Keratin 14', 'FoxP3', 'MGP-(D)', 'CD20-(D)', 'SMA-(D)', 'Ki67', 'Vimentin-(D)', 'PR-(D)', 'Bap1 (D)', 'CD45 (D)', 'ER', 'CD31', 'COX6c (D)', 'CK19', 'PLAT/tPA (D)'])"
      ]
     },
     "execution_count": 12,
     "metadata": {},
     "output_type": "execute_result"
    }
   ],
   "source": [
    "d.keys()"
   ]
  },
  {
   "cell_type": "code",
   "execution_count": null,
   "id": "bb05cb7b",
   "metadata": {},
   "outputs": [],
   "source": []
  },
  {
   "cell_type": "code",
   "execution_count": null,
   "id": "f9da6ae2",
   "metadata": {},
   "outputs": [],
   "source": []
  }
 ],
 "metadata": {
  "kernelspec": {
   "display_name": "Python 3 (ipykernel)",
   "language": "python",
   "name": "python3"
  },
  "language_info": {
   "codemirror_mode": {
    "name": "ipython",
    "version": 3
   },
   "file_extension": ".py",
   "mimetype": "text/x-python",
   "name": "python",
   "nbconvert_exporter": "python",
   "pygments_lexer": "ipython3",
   "version": "3.9.15"
  }
 },
 "nbformat": 4,
 "nbformat_minor": 5
}
