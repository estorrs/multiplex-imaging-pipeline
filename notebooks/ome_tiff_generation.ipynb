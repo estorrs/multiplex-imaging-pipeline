{
 "cells": [
  {
   "cell_type": "code",
   "execution_count": 1,
   "id": "d1f12e38",
   "metadata": {},
   "outputs": [],
   "source": [
    "import logging\n",
    "import re\n",
    "import os\n",
    "\n",
    "import numpy as np\n",
    "import tifffile\n",
    "from ome_types import from_tiff, from_xml, to_xml, model, to_dict\n",
    "from ome_types.model.simple_types import UnitsLength\n",
    "\n",
    "from mip.utils import listfiles"
   ]
  },
  {
   "cell_type": "code",
   "execution_count": 2,
   "id": "ff4c7934",
   "metadata": {},
   "outputs": [],
   "source": [
    "%load_ext autoreload"
   ]
  },
  {
   "cell_type": "code",
   "execution_count": 3,
   "id": "139e8c35",
   "metadata": {},
   "outputs": [],
   "source": [
    "%autoreload 2"
   ]
  },
  {
   "cell_type": "code",
   "execution_count": 4,
   "id": "fecf3247",
   "metadata": {},
   "outputs": [],
   "source": [
    "from mip.ome import generate_ome_from_qptiff"
   ]
  },
  {
   "cell_type": "code",
   "execution_count": null,
   "id": "093e557e",
   "metadata": {},
   "outputs": [],
   "source": []
  },
  {
   "cell_type": "code",
   "execution_count": null,
   "id": "f71164a9",
   "metadata": {},
   "outputs": [],
   "source": []
  },
  {
   "cell_type": "code",
   "execution_count": 5,
   "id": "2f42b6d7",
   "metadata": {},
   "outputs": [],
   "source": [
    "qptiff_fp = '/diskmnt/Projects/Users/estorrs/multiplex_data/codex/htan/brca/03172023_BRCA_HT397B1-U12/level_2/HT397B1-U12_Scan1.qptiff'\n",
    "output_fp = '/diskmnt/Projects/Users/estorrs/sandbox/test_pyramidal.ome.tiff'\n",
    "bbox = (5000, 6000, 5000, 6000)"
   ]
  },
  {
   "cell_type": "code",
   "execution_count": 6,
   "id": "66c17a06",
   "metadata": {},
   "outputs": [],
   "source": [
    "generate_ome_from_qptiff(qptiff_fp, output_fp, bbox=bbox)"
   ]
  },
  {
   "cell_type": "code",
   "execution_count": 7,
   "id": "233674a7",
   "metadata": {},
   "outputs": [],
   "source": [
    "??generate_ome_from_qptiff"
   ]
  },
  {
   "cell_type": "code",
   "execution_count": null,
   "id": "7a2affa3",
   "metadata": {},
   "outputs": [],
   "source": []
  },
  {
   "cell_type": "code",
   "execution_count": null,
   "id": "69a6589f",
   "metadata": {},
   "outputs": [],
   "source": []
  },
  {
   "cell_type": "code",
   "execution_count": null,
   "id": "ceedcf47",
   "metadata": {},
   "outputs": [],
   "source": []
  },
  {
   "cell_type": "code",
   "execution_count": null,
   "id": "7e8f8859",
   "metadata": {},
   "outputs": [],
   "source": []
  },
  {
   "cell_type": "code",
   "execution_count": null,
   "id": "9e365fdd",
   "metadata": {},
   "outputs": [],
   "source": []
  },
  {
   "cell_type": "code",
   "execution_count": null,
   "id": "151cf8ef",
   "metadata": {},
   "outputs": [],
   "source": []
  },
  {
   "cell_type": "code",
   "execution_count": null,
   "id": "2b5909b0",
   "metadata": {},
   "outputs": [],
   "source": []
  },
  {
   "cell_type": "code",
   "execution_count": 2,
   "id": "e95192c1",
   "metadata": {},
   "outputs": [],
   "source": [
    "qptiff_fp = '/diskmnt/Projects/Users/estorrs/multiplex_data/codex/htan/brca/03172023_BRCA_HT397B1-U12/level_2/HT397B1-U12_Scan1.qptiff'\n",
    "# qptiff_fp = '/diskmnt/Projects/Users/estorrs/multiplex_data/codex/htan/brca/040623_BRCA_HT397B1-U31/level_2/HT397B1-S1H1A3U31_Scan2.qptiff'\n",
    "\n",
    "output_fp = '/diskmnt/Projects/Users/estorrs/sandbox/test_pyramidal.ome.tiff'\n",
    "PHENOCYCLER_PIXELS_PER_MICRON = 1.9604911906033102\n"
   ]
  },
  {
   "cell_type": "code",
   "execution_count": 3,
   "id": "6da01e60",
   "metadata": {},
   "outputs": [
    {
     "data": {
      "text/plain": [
       "(18720, 19200)"
      ]
     },
     "execution_count": 3,
     "metadata": {},
     "output_type": "execute_result"
    }
   ],
   "source": [
    "pixel_type = 'uint8'\n",
    "tf = tifffile.TiffFile(qptiff_fp)\n",
    "s = tf.series[0] # full res tiffs are in the first series\n",
    "n_channels = s.get_shape()[0]\n",
    "shape = s.pages[0].shape\n",
    "subresolutions = 5\n",
    "\n",
    "bbox = (5000, 6000, 5000, 6000)\n",
    "# bbox = None\n",
    "shape"
   ]
  },
  {
   "cell_type": "code",
   "execution_count": 4,
   "id": "8af1e450",
   "metadata": {},
   "outputs": [
    {
     "data": {
      "text/plain": [
       "(1000, 1000, 25, 1, 1)"
      ]
     },
     "execution_count": 4,
     "metadata": {},
     "output_type": "execute_result"
    }
   ],
   "source": [
    "if bbox is None:\n",
    "    data = np.zeros((shape[1], shape[0], n_channels, 1, 1),\n",
    "                    dtype=np.uint8 if pixel_type=='uint8' else np.uint16)\n",
    "else:\n",
    "    data = np.zeros((bbox[3] - bbox[2], bbox[1] - bbox[0], n_channels, 1, 1),\n",
    "                    dtype=np.uint8 if pixel_type=='uint8' else np.uint16)\n",
    "biomarkers = []\n",
    "for i, p in enumerate(s.pages):\n",
    "    img = p.asarray()\n",
    "    d = tifffile.xml2dict(p.description)['PerkinElmer-QPI-ImageDescription']\n",
    "    biomarker = d['Biomarker']\n",
    "    biomarkers.append(biomarker)\n",
    "    if bbox is not None:\n",
    "        r1, r2, c1, c2 = bbox\n",
    "        y = r2 - r1\n",
    "        x = c2 - c1\n",
    "        img = img[r1:r2, c1:c2]\n",
    "    img = img.astype(np.float32)\n",
    "    img -= img.min()\n",
    "    img /= img.max()\n",
    "    if pixel_type == 'uint8':\n",
    "        img *= 255\n",
    "        img = img.astype(np.uint8)\n",
    "    else:\n",
    "        img *= 65535\n",
    "        img = img.astype(np.uint16) \n",
    "\n",
    "    data[..., i, 0, 0] = np.swapaxes(img, 0, 1)\n",
    "data.shape"
   ]
  },
  {
   "cell_type": "code",
   "execution_count": 5,
   "id": "79af99a0",
   "metadata": {},
   "outputs": [
    {
     "name": "stderr",
     "output_type": "stream",
     "text": [
      "/tmp/ipykernel_107137/2295163470.py:28: FutureWarning: The default XML parser will be changing from 'xmlschema' to 'lxml' in version 0.4.0.  To silence this warning, please provide the `parser` argument, specifying either 'lxml' (to opt into the new behavior), or'xmlschema' (to retain the old behavior).\n",
      "  metadata = to_dict(to_xml(o))\n"
     ]
    }
   ],
   "source": [
    "o = model.OME()\n",
    "o.images.append(\n",
    "    model.Image(\n",
    "        id='Image:0',\n",
    "        pixels=model.Pixels(\n",
    "            dimension_order='XYCZT',\n",
    "            size_c=n_channels,\n",
    "            size_t=1,\n",
    "            size_x=data.shape[0],\n",
    "            size_y=data.shape[1],\n",
    "            size_z=data.shape[3],\n",
    "            type=pixel_type,\n",
    "            big_endian=False,\n",
    "            channels=[model.Channel(id=f'Channel:{i}', name=c) for i, c in enumerate(biomarkers)],\n",
    "            physical_size_x=1 / PHENOCYCLER_PIXELS_PER_MICRON,\n",
    "            physical_size_y=1 / PHENOCYCLER_PIXELS_PER_MICRON,\n",
    "            physical_size_x_unit='µm',\n",
    "            physical_size_y_unit='µm'\n",
    "        )\n",
    "    )\n",
    ")\n",
    "\n",
    "im = o.images[0]\n",
    "for i in range(len(im.pixels.channels)):\n",
    "    im.pixels.planes.append(model.Plane(the_c=i, the_t=0, the_z=0))\n",
    "im.pixels.tiff_data_blocks.append(model.TiffData(plane_count=len(im.pixels.channels)))\n",
    "# xml_str = to_xml(o)\n",
    "metadata = to_dict(to_xml(o))"
   ]
  },
  {
   "cell_type": "code",
   "execution_count": 8,
   "id": "572ee8d4",
   "metadata": {},
   "outputs": [],
   "source": [
    "from einops import rearrange\n",
    "from skimage.transform import rescale"
   ]
  },
  {
   "cell_type": "code",
   "execution_count": 164,
   "id": "1dbb6e70",
   "metadata": {},
   "outputs": [
    {
     "data": {
      "text/plain": [
       "<COMPRESSION.LZW: 5>"
      ]
     },
     "execution_count": 164,
     "metadata": {},
     "output_type": "execute_result"
    }
   ],
   "source": [
    "p = tf.pages[0]\n",
    "p.compression"
   ]
  },
  {
   "cell_type": "code",
   "execution_count": null,
   "id": "10c9f3aa",
   "metadata": {},
   "outputs": [],
   "source": [
    "# !pip install imagecodecs==2023.3.16"
   ]
  },
  {
   "cell_type": "code",
   "execution_count": 9,
   "id": "96fc8659",
   "metadata": {},
   "outputs": [],
   "source": [
    "with tifffile.TiffWriter(output_fp, ome=True, bigtiff=True) as out_tif:\n",
    "    opts = {\n",
    "        'compression': 'LZW',\n",
    "    }\n",
    "    out_tif.write(\n",
    "        rearrange(data, 'x y c z t -> t c y x z'),\n",
    "        subifds=subresolutions,\n",
    "        **opts\n",
    "    )\n",
    "    for level in range(subresolutions):\n",
    "        mag = 2**(level + 1)\n",
    "        sampled = rescale(data[..., 0, 0], 1 / mag, preserve_range=True, channel_axis=-1)\n",
    "        sampled = sampled.astype(np.uint8)\n",
    "        sampled = np.expand_dims(sampled, (-2, -1))\n",
    "        out_tif.write(\n",
    "            rearrange(sampled, 'x y c z t -> t c y x z'),\n",
    "            subfiletype=1,\n",
    "            **opts\n",
    "        )\n",
    "    xml_str = to_xml(o)\n",
    "    out_tif.overwrite_description(xml_str.encode())"
   ]
  },
  {
   "cell_type": "code",
   "execution_count": 129,
   "id": "5275dea5",
   "metadata": {},
   "outputs": [
    {
     "data": {
      "text/plain": [
       "{'xmlns': 'http://www.openmicroscopy.org/Schemas/OME/2016-06',\n",
       " 'xmlns:xsi': 'http://www.w3.org/2001/XMLSchema-instance',\n",
       " 'xsi:schemaLocation': 'http://www.openmicroscopy.org/Schemas/OME/2016-06 http://www.openmicroscopy.org/Schemas/OME/2016-06/ome.xsd',\n",
       " 'images': [{'id': 'Image:0',\n",
       "   'pixels': {'big_endian': False,\n",
       "    'dimension_order': 'XYCZT',\n",
       "    'id': 'Pixels:8',\n",
       "    'physical_size_x': 0.5100762527233116,\n",
       "    'physical_size_y': 0.5100762527233116,\n",
       "    'size_c': 25,\n",
       "    'size_t': 1,\n",
       "    'size_x': 1000,\n",
       "    'size_y': 1000,\n",
       "    'size_z': 1,\n",
       "    'type': 'uint8',\n",
       "    'physical_size_x_unit': 'µm',\n",
       "    'physical_size_y_unit': 'µm',\n",
       "    'physical_size_z_unit': 'µm',\n",
       "    'time_increment_unit': 's',\n",
       "    'channels': [{'color': -1,\n",
       "      'id': 'Channel:0',\n",
       "      'name': 'DAPI',\n",
       "      'pinhole_size_unit': 'µm',\n",
       "      'excitation_wavelength_unit': 'nm',\n",
       "      'emission_wavelength_unit': 'nm'},\n",
       "     {'color': -1,\n",
       "      'id': 'Channel:1',\n",
       "      'name': 'CD8',\n",
       "      'pinhole_size_unit': 'µm',\n",
       "      'excitation_wavelength_unit': 'nm',\n",
       "      'emission_wavelength_unit': 'nm'},\n",
       "     {'color': -1,\n",
       "      'id': 'Channel:2',\n",
       "      'name': 'Her2 (D)',\n",
       "      'pinhole_size_unit': 'µm',\n",
       "      'excitation_wavelength_unit': 'nm',\n",
       "      'emission_wavelength_unit': 'nm'},\n",
       "     {'color': -1,\n",
       "      'id': 'Channel:3',\n",
       "      'name': 'GATA3 (D)',\n",
       "      'pinhole_size_unit': 'µm',\n",
       "      'excitation_wavelength_unit': 'nm',\n",
       "      'emission_wavelength_unit': 'nm'},\n",
       "     {'color': -1,\n",
       "      'id': 'Channel:4',\n",
       "      'name': 'cKIT-(D)',\n",
       "      'pinhole_size_unit': 'µm',\n",
       "      'excitation_wavelength_unit': 'nm',\n",
       "      'emission_wavelength_unit': 'nm'},\n",
       "     {'color': -1,\n",
       "      'id': 'Channel:5',\n",
       "      'name': 'Pan-Cytokeratin',\n",
       "      'pinhole_size_unit': 'µm',\n",
       "      'excitation_wavelength_unit': 'nm',\n",
       "      'emission_wavelength_unit': 'nm'},\n",
       "     {'color': -1,\n",
       "      'id': 'Channel:6',\n",
       "      'name': 'GLUT1-(D)',\n",
       "      'pinhole_size_unit': 'µm',\n",
       "      'excitation_wavelength_unit': 'nm',\n",
       "      'emission_wavelength_unit': 'nm'},\n",
       "     {'color': -1,\n",
       "      'id': 'Channel:7',\n",
       "      'name': 'Podoplanin',\n",
       "      'pinhole_size_unit': 'µm',\n",
       "      'excitation_wavelength_unit': 'nm',\n",
       "      'emission_wavelength_unit': 'nm'},\n",
       "     {'color': -1,\n",
       "      'id': 'Channel:8',\n",
       "      'name': 'CD68 (D)',\n",
       "      'pinhole_size_unit': 'µm',\n",
       "      'excitation_wavelength_unit': 'nm',\n",
       "      'emission_wavelength_unit': 'nm'},\n",
       "     {'color': -1,\n",
       "      'id': 'Channel:9',\n",
       "      'name': 'HLA-DR',\n",
       "      'pinhole_size_unit': 'µm',\n",
       "      'excitation_wavelength_unit': 'nm',\n",
       "      'emission_wavelength_unit': 'nm'},\n",
       "     {'color': -1,\n",
       "      'id': 'Channel:10',\n",
       "      'name': 'Keratin 14',\n",
       "      'pinhole_size_unit': 'µm',\n",
       "      'excitation_wavelength_unit': 'nm',\n",
       "      'emission_wavelength_unit': 'nm'},\n",
       "     {'color': -1,\n",
       "      'id': 'Channel:11',\n",
       "      'name': 'FoxP3',\n",
       "      'pinhole_size_unit': 'µm',\n",
       "      'excitation_wavelength_unit': 'nm',\n",
       "      'emission_wavelength_unit': 'nm'},\n",
       "     {'color': -1,\n",
       "      'id': 'Channel:12',\n",
       "      'name': 'MGP-(D)',\n",
       "      'pinhole_size_unit': 'µm',\n",
       "      'excitation_wavelength_unit': 'nm',\n",
       "      'emission_wavelength_unit': 'nm'},\n",
       "     {'color': -1,\n",
       "      'id': 'Channel:13',\n",
       "      'name': 'CD20-(D)',\n",
       "      'pinhole_size_unit': 'µm',\n",
       "      'excitation_wavelength_unit': 'nm',\n",
       "      'emission_wavelength_unit': 'nm'},\n",
       "     {'color': -1,\n",
       "      'id': 'Channel:14',\n",
       "      'name': 'SMA-(D)',\n",
       "      'pinhole_size_unit': 'µm',\n",
       "      'excitation_wavelength_unit': 'nm',\n",
       "      'emission_wavelength_unit': 'nm'},\n",
       "     {'color': -1,\n",
       "      'id': 'Channel:15',\n",
       "      'name': 'Ki67',\n",
       "      'pinhole_size_unit': 'µm',\n",
       "      'excitation_wavelength_unit': 'nm',\n",
       "      'emission_wavelength_unit': 'nm'},\n",
       "     {'color': -1,\n",
       "      'id': 'Channel:16',\n",
       "      'name': 'Vimentin-(D)',\n",
       "      'pinhole_size_unit': 'µm',\n",
       "      'excitation_wavelength_unit': 'nm',\n",
       "      'emission_wavelength_unit': 'nm'},\n",
       "     {'color': -1,\n",
       "      'id': 'Channel:17',\n",
       "      'name': 'PR-(D)',\n",
       "      'pinhole_size_unit': 'µm',\n",
       "      'excitation_wavelength_unit': 'nm',\n",
       "      'emission_wavelength_unit': 'nm'},\n",
       "     {'color': -1,\n",
       "      'id': 'Channel:18',\n",
       "      'name': 'Bap1 (D)',\n",
       "      'pinhole_size_unit': 'µm',\n",
       "      'excitation_wavelength_unit': 'nm',\n",
       "      'emission_wavelength_unit': 'nm'},\n",
       "     {'color': -1,\n",
       "      'id': 'Channel:19',\n",
       "      'name': 'CD45 (D)',\n",
       "      'pinhole_size_unit': 'µm',\n",
       "      'excitation_wavelength_unit': 'nm',\n",
       "      'emission_wavelength_unit': 'nm'},\n",
       "     {'color': -1,\n",
       "      'id': 'Channel:20',\n",
       "      'name': 'ER',\n",
       "      'pinhole_size_unit': 'µm',\n",
       "      'excitation_wavelength_unit': 'nm',\n",
       "      'emission_wavelength_unit': 'nm'},\n",
       "     {'color': -1,\n",
       "      'id': 'Channel:21',\n",
       "      'name': 'CD31',\n",
       "      'pinhole_size_unit': 'µm',\n",
       "      'excitation_wavelength_unit': 'nm',\n",
       "      'emission_wavelength_unit': 'nm'},\n",
       "     {'color': -1,\n",
       "      'id': 'Channel:22',\n",
       "      'name': 'COX6c (D)',\n",
       "      'pinhole_size_unit': 'µm',\n",
       "      'excitation_wavelength_unit': 'nm',\n",
       "      'emission_wavelength_unit': 'nm'},\n",
       "     {'color': -1,\n",
       "      'id': 'Channel:23',\n",
       "      'name': 'CK19',\n",
       "      'pinhole_size_unit': 'µm',\n",
       "      'excitation_wavelength_unit': 'nm',\n",
       "      'emission_wavelength_unit': 'nm'},\n",
       "     {'color': -1,\n",
       "      'id': 'Channel:24',\n",
       "      'name': 'PLAT/tPA (D)',\n",
       "      'pinhole_size_unit': 'µm',\n",
       "      'excitation_wavelength_unit': 'nm',\n",
       "      'emission_wavelength_unit': 'nm'}],\n",
       "    'tiff_data_blocks': [{'plane_count': 25,\n",
       "      'ifd': 0,\n",
       "      'first_z': 0,\n",
       "      'first_t': 0,\n",
       "      'first_c': 0}],\n",
       "    'planes': [{'the_c': 0,\n",
       "      'the_t': 0,\n",
       "      'the_z': 0,\n",
       "      'delta_t_unit': 's',\n",
       "      'exposure_time_unit': 's',\n",
       "      'position_x_unit': 'reference frame',\n",
       "      'position_y_unit': 'reference frame',\n",
       "      'position_z_unit': 'reference frame'},\n",
       "     {'the_c': 1,\n",
       "      'the_t': 0,\n",
       "      'the_z': 0,\n",
       "      'delta_t_unit': 's',\n",
       "      'exposure_time_unit': 's',\n",
       "      'position_x_unit': 'reference frame',\n",
       "      'position_y_unit': 'reference frame',\n",
       "      'position_z_unit': 'reference frame'},\n",
       "     {'the_c': 2,\n",
       "      'the_t': 0,\n",
       "      'the_z': 0,\n",
       "      'delta_t_unit': 's',\n",
       "      'exposure_time_unit': 's',\n",
       "      'position_x_unit': 'reference frame',\n",
       "      'position_y_unit': 'reference frame',\n",
       "      'position_z_unit': 'reference frame'},\n",
       "     {'the_c': 3,\n",
       "      'the_t': 0,\n",
       "      'the_z': 0,\n",
       "      'delta_t_unit': 's',\n",
       "      'exposure_time_unit': 's',\n",
       "      'position_x_unit': 'reference frame',\n",
       "      'position_y_unit': 'reference frame',\n",
       "      'position_z_unit': 'reference frame'},\n",
       "     {'the_c': 4,\n",
       "      'the_t': 0,\n",
       "      'the_z': 0,\n",
       "      'delta_t_unit': 's',\n",
       "      'exposure_time_unit': 's',\n",
       "      'position_x_unit': 'reference frame',\n",
       "      'position_y_unit': 'reference frame',\n",
       "      'position_z_unit': 'reference frame'},\n",
       "     {'the_c': 5,\n",
       "      'the_t': 0,\n",
       "      'the_z': 0,\n",
       "      'delta_t_unit': 's',\n",
       "      'exposure_time_unit': 's',\n",
       "      'position_x_unit': 'reference frame',\n",
       "      'position_y_unit': 'reference frame',\n",
       "      'position_z_unit': 'reference frame'},\n",
       "     {'the_c': 6,\n",
       "      'the_t': 0,\n",
       "      'the_z': 0,\n",
       "      'delta_t_unit': 's',\n",
       "      'exposure_time_unit': 's',\n",
       "      'position_x_unit': 'reference frame',\n",
       "      'position_y_unit': 'reference frame',\n",
       "      'position_z_unit': 'reference frame'},\n",
       "     {'the_c': 7,\n",
       "      'the_t': 0,\n",
       "      'the_z': 0,\n",
       "      'delta_t_unit': 's',\n",
       "      'exposure_time_unit': 's',\n",
       "      'position_x_unit': 'reference frame',\n",
       "      'position_y_unit': 'reference frame',\n",
       "      'position_z_unit': 'reference frame'},\n",
       "     {'the_c': 8,\n",
       "      'the_t': 0,\n",
       "      'the_z': 0,\n",
       "      'delta_t_unit': 's',\n",
       "      'exposure_time_unit': 's',\n",
       "      'position_x_unit': 'reference frame',\n",
       "      'position_y_unit': 'reference frame',\n",
       "      'position_z_unit': 'reference frame'},\n",
       "     {'the_c': 9,\n",
       "      'the_t': 0,\n",
       "      'the_z': 0,\n",
       "      'delta_t_unit': 's',\n",
       "      'exposure_time_unit': 's',\n",
       "      'position_x_unit': 'reference frame',\n",
       "      'position_y_unit': 'reference frame',\n",
       "      'position_z_unit': 'reference frame'},\n",
       "     {'the_c': 10,\n",
       "      'the_t': 0,\n",
       "      'the_z': 0,\n",
       "      'delta_t_unit': 's',\n",
       "      'exposure_time_unit': 's',\n",
       "      'position_x_unit': 'reference frame',\n",
       "      'position_y_unit': 'reference frame',\n",
       "      'position_z_unit': 'reference frame'},\n",
       "     {'the_c': 11,\n",
       "      'the_t': 0,\n",
       "      'the_z': 0,\n",
       "      'delta_t_unit': 's',\n",
       "      'exposure_time_unit': 's',\n",
       "      'position_x_unit': 'reference frame',\n",
       "      'position_y_unit': 'reference frame',\n",
       "      'position_z_unit': 'reference frame'},\n",
       "     {'the_c': 12,\n",
       "      'the_t': 0,\n",
       "      'the_z': 0,\n",
       "      'delta_t_unit': 's',\n",
       "      'exposure_time_unit': 's',\n",
       "      'position_x_unit': 'reference frame',\n",
       "      'position_y_unit': 'reference frame',\n",
       "      'position_z_unit': 'reference frame'},\n",
       "     {'the_c': 13,\n",
       "      'the_t': 0,\n",
       "      'the_z': 0,\n",
       "      'delta_t_unit': 's',\n",
       "      'exposure_time_unit': 's',\n",
       "      'position_x_unit': 'reference frame',\n",
       "      'position_y_unit': 'reference frame',\n",
       "      'position_z_unit': 'reference frame'},\n",
       "     {'the_c': 14,\n",
       "      'the_t': 0,\n",
       "      'the_z': 0,\n",
       "      'delta_t_unit': 's',\n",
       "      'exposure_time_unit': 's',\n",
       "      'position_x_unit': 'reference frame',\n",
       "      'position_y_unit': 'reference frame',\n",
       "      'position_z_unit': 'reference frame'},\n",
       "     {'the_c': 15,\n",
       "      'the_t': 0,\n",
       "      'the_z': 0,\n",
       "      'delta_t_unit': 's',\n",
       "      'exposure_time_unit': 's',\n",
       "      'position_x_unit': 'reference frame',\n",
       "      'position_y_unit': 'reference frame',\n",
       "      'position_z_unit': 'reference frame'},\n",
       "     {'the_c': 16,\n",
       "      'the_t': 0,\n",
       "      'the_z': 0,\n",
       "      'delta_t_unit': 's',\n",
       "      'exposure_time_unit': 's',\n",
       "      'position_x_unit': 'reference frame',\n",
       "      'position_y_unit': 'reference frame',\n",
       "      'position_z_unit': 'reference frame'},\n",
       "     {'the_c': 17,\n",
       "      'the_t': 0,\n",
       "      'the_z': 0,\n",
       "      'delta_t_unit': 's',\n",
       "      'exposure_time_unit': 's',\n",
       "      'position_x_unit': 'reference frame',\n",
       "      'position_y_unit': 'reference frame',\n",
       "      'position_z_unit': 'reference frame'},\n",
       "     {'the_c': 18,\n",
       "      'the_t': 0,\n",
       "      'the_z': 0,\n",
       "      'delta_t_unit': 's',\n",
       "      'exposure_time_unit': 's',\n",
       "      'position_x_unit': 'reference frame',\n",
       "      'position_y_unit': 'reference frame',\n",
       "      'position_z_unit': 'reference frame'},\n",
       "     {'the_c': 19,\n",
       "      'the_t': 0,\n",
       "      'the_z': 0,\n",
       "      'delta_t_unit': 's',\n",
       "      'exposure_time_unit': 's',\n",
       "      'position_x_unit': 'reference frame',\n",
       "      'position_y_unit': 'reference frame',\n",
       "      'position_z_unit': 'reference frame'},\n",
       "     {'the_c': 20,\n",
       "      'the_t': 0,\n",
       "      'the_z': 0,\n",
       "      'delta_t_unit': 's',\n",
       "      'exposure_time_unit': 's',\n",
       "      'position_x_unit': 'reference frame',\n",
       "      'position_y_unit': 'reference frame',\n",
       "      'position_z_unit': 'reference frame'},\n",
       "     {'the_c': 21,\n",
       "      'the_t': 0,\n",
       "      'the_z': 0,\n",
       "      'delta_t_unit': 's',\n",
       "      'exposure_time_unit': 's',\n",
       "      'position_x_unit': 'reference frame',\n",
       "      'position_y_unit': 'reference frame',\n",
       "      'position_z_unit': 'reference frame'},\n",
       "     {'the_c': 22,\n",
       "      'the_t': 0,\n",
       "      'the_z': 0,\n",
       "      'delta_t_unit': 's',\n",
       "      'exposure_time_unit': 's',\n",
       "      'position_x_unit': 'reference frame',\n",
       "      'position_y_unit': 'reference frame',\n",
       "      'position_z_unit': 'reference frame'},\n",
       "     {'the_c': 23,\n",
       "      'the_t': 0,\n",
       "      'the_z': 0,\n",
       "      'delta_t_unit': 's',\n",
       "      'exposure_time_unit': 's',\n",
       "      'position_x_unit': 'reference frame',\n",
       "      'position_y_unit': 'reference frame',\n",
       "      'position_z_unit': 'reference frame'},\n",
       "     {'the_c': 24,\n",
       "      'the_t': 0,\n",
       "      'the_z': 0,\n",
       "      'delta_t_unit': 's',\n",
       "      'exposure_time_unit': 's',\n",
       "      'position_x_unit': 'reference frame',\n",
       "      'position_y_unit': 'reference frame',\n",
       "      'position_z_unit': 'reference frame'}]}}]}"
      ]
     },
     "execution_count": 129,
     "metadata": {},
     "output_type": "execute_result"
    }
   ],
   "source": [
    "to_dict(to_xml(o))"
   ]
  },
  {
   "cell_type": "code",
   "execution_count": 32,
   "id": "b97767e5",
   "metadata": {},
   "outputs": [],
   "source": [
    "f = open(qptiff_fp, 'rb')\n",
    "import struct\n"
   ]
  },
  {
   "cell_type": "code",
   "execution_count": 43,
   "id": "3ba44494",
   "metadata": {},
   "outputs": [
    {
     "data": {
      "text/plain": [
       "0"
      ]
     },
     "execution_count": 43,
     "metadata": {},
     "output_type": "execute_result"
    }
   ],
   "source": [
    "f.seek(0)"
   ]
  },
  {
   "cell_type": "code",
   "execution_count": 44,
   "id": "3d496543",
   "metadata": {},
   "outputs": [
    {
     "data": {
      "text/plain": [
       "(b'II+\\x00', '<')"
      ]
     },
     "execution_count": 44,
     "metadata": {},
     "output_type": "execute_result"
    }
   ],
   "source": [
    "header = f.read(4)\n",
    "byteorder = {b'II': '<', b'MM': '>', b'EP': '<'}[header[:2]]\n",
    "header, byteorder"
   ]
  },
  {
   "cell_type": "code",
   "execution_count": 45,
   "id": "b3edf351",
   "metadata": {},
   "outputs": [
    {
     "data": {
      "text/plain": [
       "43"
      ]
     },
     "execution_count": 45,
     "metadata": {},
     "output_type": "execute_result"
    }
   ],
   "source": [
    "version = struct.unpack(byteorder + 'H', header[2:4])[0]\n",
    "version"
   ]
  },
  {
   "cell_type": "code",
   "execution_count": 46,
   "id": "1991b3ef",
   "metadata": {},
   "outputs": [
    {
     "data": {
      "text/plain": [
       "(8, 0)"
      ]
     },
     "execution_count": 46,
     "metadata": {},
     "output_type": "execute_result"
    }
   ],
   "source": [
    "offsetsize, zero = struct.unpack(byteorder + 'HH', f.read(4))\n",
    "offsetsize, zero"
   ]
  },
  {
   "cell_type": "code",
   "execution_count": 56,
   "id": "a38f2a82",
   "metadata": {},
   "outputs": [],
   "source": [
    "from tifffile import TIFF, TiffPages, TiffPage"
   ]
  },
  {
   "cell_type": "code",
   "execution_count": 48,
   "id": "501f7478",
   "metadata": {},
   "outputs": [
    {
     "data": {
      "text/plain": [
       "<tifffile.TiffFormat 64-bit little-endian>"
      ]
     },
     "execution_count": 48,
     "metadata": {},
     "output_type": "execute_result"
    }
   ],
   "source": [
    "TIFF.BIG_LE"
   ]
  },
  {
   "cell_type": "code",
   "execution_count": null,
   "id": "fa1a0fd3",
   "metadata": {},
   "outputs": [],
   "source": [
    "pages = TiffPages(self)"
   ]
  },
  {
   "cell_type": "code",
   "execution_count": 57,
   "id": "4dbb0e72",
   "metadata": {},
   "outputs": [],
   "source": [
    "??TiffPage"
   ]
  },
  {
   "cell_type": "code",
   "execution_count": 53,
   "id": "41d2ae60",
   "metadata": {},
   "outputs": [
    {
     "data": {
      "text/plain": [
       "8"
      ]
     },
     "execution_count": 53,
     "metadata": {},
     "output_type": "execute_result"
    }
   ],
   "source": [
    "f.seek(offsetsize)"
   ]
  },
  {
   "cell_type": "code",
   "execution_count": null,
   "id": "21c90887",
   "metadata": {},
   "outputs": [],
   "source": []
  },
  {
   "cell_type": "code",
   "execution_count": 58,
   "id": "ea558d8d",
   "metadata": {},
   "outputs": [],
   "source": [
    "from mip.ome import generate_ome_from_qptiff"
   ]
  },
  {
   "cell_type": "code",
   "execution_count": 60,
   "id": "d979e7bf",
   "metadata": {},
   "outputs": [],
   "source": [
    "generate_ome_from_qptiff(qptiff_fp, output_fp, bbox=bbox)"
   ]
  },
  {
   "cell_type": "code",
   "execution_count": null,
   "id": "82e20296",
   "metadata": {},
   "outputs": [],
   "source": []
  },
  {
   "cell_type": "code",
   "execution_count": 54,
   "id": "667380aa",
   "metadata": {},
   "outputs": [
    {
     "name": "stdout",
     "output_type": "stream",
     "text": [
      "Object `TiffPage` not found.\n"
     ]
    }
   ],
   "source": [
    "??TiffPage"
   ]
  },
  {
   "cell_type": "code",
   "execution_count": 20,
   "id": "681ddd27",
   "metadata": {},
   "outputs": [],
   "source": [
    "tif = TiffFile(qptiff_fp)\n",
    "# ome = from_xml(tif.ome_metadata)\n",
    "# im = ome.images[0]"
   ]
  },
  {
   "cell_type": "code",
   "execution_count": 23,
   "id": "4915fea8",
   "metadata": {
    "scrolled": true
   },
   "outputs": [
    {
     "ename": "XMLSyntaxError",
     "evalue": "Document labelled UTF-16 but has UTF-8 content, line 1, column 38 (<string>, line 1)",
     "output_type": "error",
     "traceback": [
      "Traceback \u001b[0;36m(most recent call last)\u001b[0m:\n",
      "\u001b[0m  File \u001b[1;32m/diskmnt/Projects/Users/estorrs/miniconda3/envs/multiplex-imaging-pipeline/lib/python3.9/site-packages/IPython/core/interactiveshell.py:3505\u001b[0m in \u001b[1;35mrun_code\u001b[0m\n    exec(code_obj, self.user_global_ns, self.user_ns)\u001b[0m\n",
      "\u001b[0m  Cell \u001b[1;32mIn[23], line 1\u001b[0m\n    ome = from_tiff(qptiff_fp, parser='lxml')\u001b[0m\n",
      "\u001b[0m  File \u001b[1;32m/diskmnt/Projects/Users/estorrs/miniconda3/envs/multiplex-imaging-pipeline/lib/python3.9/site-packages/ome_types/_convenience.py:142\u001b[0m in \u001b[1;35mfrom_tiff\u001b[0m\n    return from_xml(_tiff2xml(path), parser=parser, validate=validate)\u001b[0m\n",
      "\u001b[0m  File \u001b[1;32m/diskmnt/Projects/Users/estorrs/miniconda3/envs/multiplex-imaging-pipeline/lib/python3.9/site-packages/ome_types/_convenience.py:105\u001b[0m in \u001b[1;35mfrom_xml\u001b[0m\n    d = to_dict(os.fspath(xml), parser=parser, validate=validate)\u001b[0m\n",
      "\u001b[0m  File \u001b[1;32m/diskmnt/Projects/Users/estorrs/miniconda3/envs/multiplex-imaging-pipeline/lib/python3.9/site-packages/ome_types/_convenience.py:72\u001b[0m in \u001b[1;35mto_dict\u001b[0m\n    d = parser(xml) if validate is None else parser(xml, validate=validate)\u001b[0m\n",
      "\u001b[0m  File \u001b[1;32m/diskmnt/Projects/Users/estorrs/miniconda3/envs/multiplex-imaging-pipeline/lib/python3.9/site-packages/ome_types/_lxml.py:173\u001b[0m in \u001b[1;35mlxml2dict\u001b[0m\n    result = lxml.etree.XML(_ensure_xml_bytes(path_or_str))\u001b[0m\n",
      "\u001b[0m  File \u001b[1;32msrc/lxml/etree.pyx:3236\u001b[0m in \u001b[1;35mlxml.etree.XML\u001b[0m\n",
      "\u001b[0m  File \u001b[1;32msrc/lxml/parser.pxi:1916\u001b[0m in \u001b[1;35mlxml.etree._parseMemoryDocument\u001b[0m\n",
      "\u001b[0m  File \u001b[1;32msrc/lxml/parser.pxi:1803\u001b[0m in \u001b[1;35mlxml.etree._parseDoc\u001b[0m\n",
      "\u001b[0m  File \u001b[1;32msrc/lxml/parser.pxi:1144\u001b[0m in \u001b[1;35mlxml.etree._BaseParser._parseDoc\u001b[0m\n",
      "\u001b[0m  File \u001b[1;32msrc/lxml/parser.pxi:618\u001b[0m in \u001b[1;35mlxml.etree._ParserContext._handleParseResultDoc\u001b[0m\n",
      "\u001b[0m  File \u001b[1;32msrc/lxml/parser.pxi:728\u001b[0m in \u001b[1;35mlxml.etree._handleParseResult\u001b[0m\n",
      "\u001b[0;36m  File \u001b[0;32msrc/lxml/parser.pxi:657\u001b[0;36m in \u001b[0;35mlxml.etree._raiseParseError\u001b[0;36m\n",
      "\u001b[0;36m  File \u001b[0;32m<string>:1\u001b[0;36m\u001b[0m\n\u001b[0;31mXMLSyntaxError\u001b[0m\u001b[0;31m:\u001b[0m Document labelled UTF-16 but has UTF-8 content, line 1, column 38\n"
     ]
    }
   ],
   "source": [
    "ome = from_tiff(qptiff_fp, parser='lxml')"
   ]
  },
  {
   "cell_type": "code",
   "execution_count": null,
   "id": "223ea167",
   "metadata": {},
   "outputs": [],
   "source": []
  },
  {
   "cell_type": "code",
   "execution_count": null,
   "id": "9ca813aa",
   "metadata": {},
   "outputs": [],
   "source": []
  },
  {
   "cell_type": "code",
   "execution_count": 18,
   "id": "f0b19377",
   "metadata": {},
   "outputs": [],
   "source": [
    "from tifffile import TiffFile\n",
    "from ome_types import from_tiff, from_xml"
   ]
  },
  {
   "cell_type": "code",
   "execution_count": null,
   "id": "317bb96f",
   "metadata": {},
   "outputs": [],
   "source": [
    "tif = TiffFile(output_fp)\n",
    "ome = from_xml(tif.ome_metadata)\n",
    "im = ome.images[0]"
   ]
  },
  {
   "cell_type": "code",
   "execution_count": null,
   "id": "8ffc82ba",
   "metadata": {},
   "outputs": [],
   "source": [
    "im"
   ]
  },
  {
   "cell_type": "code",
   "execution_count": null,
   "id": "43ee340c",
   "metadata": {},
   "outputs": [],
   "source": [
    "im.pixels.channels"
   ]
  },
  {
   "cell_type": "code",
   "execution_count": 10,
   "id": "5641de26",
   "metadata": {},
   "outputs": [],
   "source": [
    "from mip.utils import extract_ome_tiff"
   ]
  },
  {
   "cell_type": "code",
   "execution_count": 11,
   "id": "0e0d11da",
   "metadata": {},
   "outputs": [
    {
     "name": "stderr",
     "output_type": "stream",
     "text": [
      "/diskmnt/Projects/Users/estorrs/miniconda3/envs/multiplex-imaging-pipeline/lib/python3.9/site-packages/ome_types/_convenience.py:105: FutureWarning: The default XML parser will be changing from 'xmlschema' to 'lxml' in version 0.4.0.  To silence this warning, please provide the `parser` argument, specifying either 'lxml' (to opt into the new behavior), or'xmlschema' (to retain the old behavior).\n",
      "  d = to_dict(os.fspath(xml), parser=parser, validate=validate)\n"
     ]
    }
   ],
   "source": [
    "d = extract_ome_tiff(output_fp)"
   ]
  },
  {
   "cell_type": "code",
   "execution_count": 12,
   "id": "191ce374",
   "metadata": {},
   "outputs": [
    {
     "data": {
      "text/plain": [
       "dict_keys(['DAPI', 'CD8', 'Her2 (D)', 'GATA3 (D)', 'cKIT-(D)', 'Pan-Cytokeratin', 'GLUT1-(D)', 'Podoplanin', 'CD68 (D)', 'HLA-DR', 'Keratin 14', 'FoxP3', 'MGP-(D)', 'CD20-(D)', 'SMA-(D)', 'Ki67', 'Vimentin-(D)', 'PR-(D)', 'Bap1 (D)', 'CD45 (D)', 'ER', 'CD31', 'COX6c (D)', 'CK19', 'PLAT/tPA (D)'])"
      ]
     },
     "execution_count": 12,
     "metadata": {},
     "output_type": "execute_result"
    }
   ],
   "source": [
    "d.keys()"
   ]
  },
  {
   "cell_type": "code",
   "execution_count": null,
   "id": "bb05cb7b",
   "metadata": {},
   "outputs": [],
   "source": []
  },
  {
   "cell_type": "code",
   "execution_count": null,
   "id": "f9da6ae2",
   "metadata": {},
   "outputs": [],
   "source": []
  }
 ],
 "metadata": {
  "kernelspec": {
   "display_name": "Python 3 (ipykernel)",
   "language": "python",
   "name": "python3"
  },
  "language_info": {
   "codemirror_mode": {
    "name": "ipython",
    "version": 3
   },
   "file_extension": ".py",
   "mimetype": "text/x-python",
   "name": "python",
   "nbconvert_exporter": "python",
   "pygments_lexer": "ipython3",
   "version": "3.9.15"
  }
 },
 "nbformat": 4,
 "nbformat_minor": 5
}
