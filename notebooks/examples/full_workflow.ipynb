{
 "cells": [
  {
   "cell_type": "code",
   "execution_count": 1,
   "id": "a244b2ad",
   "metadata": {},
   "outputs": [
    {
     "ename": "ImportError",
     "evalue": "/diskmnt/Projects/Users/estorrs/miniconda3/envs/mip/lib/python3.8/site-packages/IcePy.cpython-38-x86_64-linux-gnu.so: undefined symbol: libiconv_open",
     "output_type": "error",
     "traceback": [
      "\u001b[0;31m---------------------------------------------------------------------------\u001b[0m",
      "\u001b[0;31mImportError\u001b[0m                               Traceback (most recent call last)",
      "Cell \u001b[0;32mIn[1], line 9\u001b[0m\n\u001b[1;32m      7\u001b[0m \u001b[38;5;28;01mimport\u001b[39;00m \u001b[38;5;21;01mnumpy\u001b[39;00m \u001b[38;5;28;01mas\u001b[39;00m \u001b[38;5;21;01mnp\u001b[39;00m\n\u001b[1;32m      8\u001b[0m \u001b[38;5;28;01mimport\u001b[39;00m \u001b[38;5;21;01mpandas\u001b[39;00m \u001b[38;5;28;01mas\u001b[39;00m \u001b[38;5;21;01mpd\u001b[39;00m\n\u001b[0;32m----> 9\u001b[0m \u001b[38;5;28;01mimport\u001b[39;00m \u001b[38;5;21;01momero\u001b[39;00m\u001b[38;5;21;01m.\u001b[39;00m\u001b[38;5;21;01mclients\u001b[39;00m\n\u001b[1;32m     10\u001b[0m \u001b[38;5;28;01mimport\u001b[39;00m \u001b[38;5;21;01mseaborn\u001b[39;00m \u001b[38;5;28;01mas\u001b[39;00m \u001b[38;5;21;01msns\u001b[39;00m\n\u001b[1;32m     11\u001b[0m \u001b[38;5;28;01mimport\u001b[39;00m \u001b[38;5;21;01mscanpy\u001b[39;00m \u001b[38;5;28;01mas\u001b[39;00m \u001b[38;5;21;01msc\u001b[39;00m\n",
      "File \u001b[0;32m/diskmnt/Projects/Users/estorrs/miniconda3/envs/mip/lib/python3.8/site-packages/omero/__init__.py:15\u001b[0m\n\u001b[1;32m     13\u001b[0m \u001b[38;5;28;01mfrom\u001b[39;00m \u001b[38;5;21;01momero_version\u001b[39;00m \u001b[38;5;28;01mimport\u001b[39;00m omero_version\n\u001b[1;32m     14\u001b[0m \u001b[38;5;28;01mfrom\u001b[39;00m \u001b[38;5;21;01momero_version\u001b[39;00m \u001b[38;5;28;01mimport\u001b[39;00m ice_compatibility \u001b[38;5;28;01mas\u001b[39;00m compat\n\u001b[0;32m---> 15\u001b[0m \u001b[38;5;28;01mimport\u001b[39;00m \u001b[38;5;21;01mIce\u001b[39;00m\n\u001b[1;32m     16\u001b[0m \u001b[38;5;28;01mimport\u001b[39;00m \u001b[38;5;21;01mos\u001b[39;00m\n\u001b[1;32m     17\u001b[0m _sys \u001b[38;5;241m=\u001b[39m \u001b[38;5;28m__import__\u001b[39m(\u001b[38;5;124m\"\u001b[39m\u001b[38;5;124msys\u001b[39m\u001b[38;5;124m\"\u001b[39m)\n",
      "File \u001b[0;32m/diskmnt/Projects/Users/estorrs/miniconda3/envs/mip/lib/python3.8/site-packages/Ice.py:47\u001b[0m\n\u001b[1;32m     42\u001b[0m     \u001b[38;5;28;01mpass\u001b[39;00m\n\u001b[1;32m     44\u001b[0m \u001b[38;5;66;03m#\u001b[39;00m\n\u001b[1;32m     45\u001b[0m \u001b[38;5;66;03m# Import the Python extension.\u001b[39;00m\n\u001b[1;32m     46\u001b[0m \u001b[38;5;66;03m#\u001b[39;00m\n\u001b[0;32m---> 47\u001b[0m \u001b[38;5;28;01mimport\u001b[39;00m \u001b[38;5;21;01mIcePy\u001b[39;00m\n\u001b[1;32m     49\u001b[0m \u001b[38;5;66;03m#\u001b[39;00m\n\u001b[1;32m     50\u001b[0m \u001b[38;5;66;03m# Restore the dlopen flags.\u001b[39;00m\n\u001b[1;32m     51\u001b[0m \u001b[38;5;66;03m#\u001b[39;00m\n\u001b[1;32m     52\u001b[0m \u001b[38;5;28;01mif\u001b[39;00m _dlopenflags \u001b[38;5;241m>\u001b[39m\u001b[38;5;241m=\u001b[39m \u001b[38;5;241m0\u001b[39m:\n",
      "\u001b[0;31mImportError\u001b[0m: /diskmnt/Projects/Users/estorrs/miniconda3/envs/mip/lib/python3.8/site-packages/IcePy.cpython-38-x86_64-linux-gnu.so: undefined symbol: libiconv_open"
     ]
    }
   ],
   "source": [
    "import json\n",
    "import os\n",
    "from pathlib import Path\n",
    "\n",
    "import anndata\n",
    "import matplotlib.pyplot as plt\n",
    "import numpy as np\n",
    "import pandas as pd\n",
    "import omero.clients\n",
    "import seaborn as sns\n",
    "import scanpy as sc\n",
    "import tifffile\n",
    "from einops import rearrange\n",
    "from omero.gateway import BlitzGateway"
   ]
  },
  {
   "cell_type": "code",
   "execution_count": null,
   "id": "eb584dfd",
   "metadata": {},
   "outputs": [],
   "source": []
  },
  {
   "cell_type": "code",
   "execution_count": null,
   "id": "ef62ee1d",
   "metadata": {},
   "outputs": [],
   "source": []
  },
  {
   "cell_type": "code",
   "execution_count": null,
   "id": "05e2157c",
   "metadata": {},
   "outputs": [],
   "source": []
  },
  {
   "cell_type": "code",
   "execution_count": null,
   "id": "cf26fdc5",
   "metadata": {},
   "outputs": [],
   "source": []
  },
  {
   "cell_type": "code",
   "execution_count": null,
   "id": "91130cbc",
   "metadata": {},
   "outputs": [],
   "source": []
  },
  {
   "cell_type": "code",
   "execution_count": null,
   "id": "b8b3f431",
   "metadata": {},
   "outputs": [],
   "source": []
  }
 ],
 "metadata": {
  "kernelspec": {
   "display_name": "Python 3 (ipykernel)",
   "language": "python",
   "name": "python3"
  },
  "language_info": {
   "codemirror_mode": {
    "name": "ipython",
    "version": 3
   },
   "file_extension": ".py",
   "mimetype": "text/x-python",
   "name": "python",
   "nbconvert_exporter": "python",
   "pygments_lexer": "ipython3",
   "version": "3.8.0"
  }
 },
 "nbformat": 4,
 "nbformat_minor": 5
}
