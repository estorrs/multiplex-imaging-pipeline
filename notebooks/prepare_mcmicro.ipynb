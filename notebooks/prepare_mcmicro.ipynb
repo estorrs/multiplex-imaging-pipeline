{
 "cells": [
  {
   "cell_type": "code",
   "execution_count": 10,
   "id": "fe0afae8",
   "metadata": {},
   "outputs": [],
   "source": [
    "import os\n",
    "import re\n",
    "import shutil\n",
    "from pathlib import Path\n",
    "\n",
    "import pandas as pd\n",
    "import numpy as np\n",
    "\n",
    "from mgitools.os_helpers import listfiles\n",
    "from mip.utils import extract_ome_tiff"
   ]
  },
  {
   "cell_type": "code",
   "execution_count": null,
   "id": "205c4f44",
   "metadata": {},
   "outputs": [],
   "source": [
    "sample = 'HT206B1-H1'"
   ]
  },
  {
   "cell_type": "code",
   "execution_count": 8,
   "id": "b199fc84",
   "metadata": {},
   "outputs": [],
   "source": [
    "data_dir = f'../../multiplex_data/codex/htan/brca/{sample}'\n",
    "out_dir = f'../../multiplex_data/codex/htan/brca/{sample}/level_3/mcmicro'\n",
    "\n",
    "Path(out_dir).mkdir(parents=True, exist_ok=True)"
   ]
  },
  {
   "cell_type": "markdown",
   "id": "3db68ea3",
   "metadata": {},
   "source": [
    "#### make markers.csv"
   ]
  },
  {
   "cell_type": "code",
   "execution_count": 4,
   "id": "e8f57aee",
   "metadata": {},
   "outputs": [
    {
     "data": {
      "text/plain": [
       "dict_keys(['DAPI', 'CD31', 'E-cadherin', 'CD4', 'CD20', 'Ki67', 'CD68', 'Pan-CK', 'CD8', 'Histone H3 Pho', 'CD163', 'Podoplanin', 'CD3', 'CD36', 'HIF1a', 'GLUT1', 'GATA3', 'CD45RO', 'CD45RA', 'SMA', 'CK19', 'MGP', 'Vimentin', 'Maspin', 'Foxp3', 'MMP9', 'HLA-DR', 'CK14', 'CD11c', 'CD44'])"
      ]
     },
     "execution_count": 4,
     "metadata": {},
     "output_type": "execute_result"
    }
   ],
   "source": [
    "channel_to_img = extract_ome_tiff(os.path.join(data_dir, 'level_2', f'{sample}.ome.tiff'))\n",
    "channel_to_img.keys()"
   ]
  },
  {
   "cell_type": "code",
   "execution_count": 6,
   "id": "1557166f",
   "metadata": {
    "scrolled": true
   },
   "outputs": [
    {
     "data": {
      "text/html": [
       "<div>\n",
       "<style scoped>\n",
       "    .dataframe tbody tr th:only-of-type {\n",
       "        vertical-align: middle;\n",
       "    }\n",
       "\n",
       "    .dataframe tbody tr th {\n",
       "        vertical-align: top;\n",
       "    }\n",
       "\n",
       "    .dataframe thead th {\n",
       "        text-align: right;\n",
       "    }\n",
       "</style>\n",
       "<table border=\"1\" class=\"dataframe\">\n",
       "  <thead>\n",
       "    <tr style=\"text-align: right;\">\n",
       "      <th></th>\n",
       "      <th>channel_number</th>\n",
       "      <th>marker_name</th>\n",
       "    </tr>\n",
       "  </thead>\n",
       "  <tbody>\n",
       "    <tr>\n",
       "      <th>0</th>\n",
       "      <td>1</td>\n",
       "      <td>DAPI</td>\n",
       "    </tr>\n",
       "    <tr>\n",
       "      <th>1</th>\n",
       "      <td>2</td>\n",
       "      <td>CD31</td>\n",
       "    </tr>\n",
       "    <tr>\n",
       "      <th>2</th>\n",
       "      <td>3</td>\n",
       "      <td>E-cadherin</td>\n",
       "    </tr>\n",
       "    <tr>\n",
       "      <th>3</th>\n",
       "      <td>4</td>\n",
       "      <td>CD4</td>\n",
       "    </tr>\n",
       "    <tr>\n",
       "      <th>4</th>\n",
       "      <td>5</td>\n",
       "      <td>CD20</td>\n",
       "    </tr>\n",
       "    <tr>\n",
       "      <th>5</th>\n",
       "      <td>6</td>\n",
       "      <td>Ki67</td>\n",
       "    </tr>\n",
       "    <tr>\n",
       "      <th>6</th>\n",
       "      <td>7</td>\n",
       "      <td>CD68</td>\n",
       "    </tr>\n",
       "    <tr>\n",
       "      <th>7</th>\n",
       "      <td>8</td>\n",
       "      <td>Pan-CK</td>\n",
       "    </tr>\n",
       "    <tr>\n",
       "      <th>8</th>\n",
       "      <td>9</td>\n",
       "      <td>CD8</td>\n",
       "    </tr>\n",
       "    <tr>\n",
       "      <th>9</th>\n",
       "      <td>10</td>\n",
       "      <td>Histone H3 Pho</td>\n",
       "    </tr>\n",
       "    <tr>\n",
       "      <th>10</th>\n",
       "      <td>11</td>\n",
       "      <td>CD163</td>\n",
       "    </tr>\n",
       "    <tr>\n",
       "      <th>11</th>\n",
       "      <td>12</td>\n",
       "      <td>Podoplanin</td>\n",
       "    </tr>\n",
       "    <tr>\n",
       "      <th>12</th>\n",
       "      <td>13</td>\n",
       "      <td>CD3</td>\n",
       "    </tr>\n",
       "    <tr>\n",
       "      <th>13</th>\n",
       "      <td>14</td>\n",
       "      <td>CD36</td>\n",
       "    </tr>\n",
       "    <tr>\n",
       "      <th>14</th>\n",
       "      <td>15</td>\n",
       "      <td>HIF1a</td>\n",
       "    </tr>\n",
       "    <tr>\n",
       "      <th>15</th>\n",
       "      <td>16</td>\n",
       "      <td>GLUT1</td>\n",
       "    </tr>\n",
       "    <tr>\n",
       "      <th>16</th>\n",
       "      <td>17</td>\n",
       "      <td>GATA3</td>\n",
       "    </tr>\n",
       "    <tr>\n",
       "      <th>17</th>\n",
       "      <td>18</td>\n",
       "      <td>CD45RO</td>\n",
       "    </tr>\n",
       "    <tr>\n",
       "      <th>18</th>\n",
       "      <td>19</td>\n",
       "      <td>CD45RA</td>\n",
       "    </tr>\n",
       "    <tr>\n",
       "      <th>19</th>\n",
       "      <td>20</td>\n",
       "      <td>SMA</td>\n",
       "    </tr>\n",
       "    <tr>\n",
       "      <th>20</th>\n",
       "      <td>21</td>\n",
       "      <td>CK19</td>\n",
       "    </tr>\n",
       "    <tr>\n",
       "      <th>21</th>\n",
       "      <td>22</td>\n",
       "      <td>MGP</td>\n",
       "    </tr>\n",
       "    <tr>\n",
       "      <th>22</th>\n",
       "      <td>23</td>\n",
       "      <td>Vimentin</td>\n",
       "    </tr>\n",
       "    <tr>\n",
       "      <th>23</th>\n",
       "      <td>24</td>\n",
       "      <td>Maspin</td>\n",
       "    </tr>\n",
       "    <tr>\n",
       "      <th>24</th>\n",
       "      <td>25</td>\n",
       "      <td>Foxp3</td>\n",
       "    </tr>\n",
       "    <tr>\n",
       "      <th>25</th>\n",
       "      <td>26</td>\n",
       "      <td>MMP9</td>\n",
       "    </tr>\n",
       "    <tr>\n",
       "      <th>26</th>\n",
       "      <td>27</td>\n",
       "      <td>HLA-DR</td>\n",
       "    </tr>\n",
       "    <tr>\n",
       "      <th>27</th>\n",
       "      <td>28</td>\n",
       "      <td>CK14</td>\n",
       "    </tr>\n",
       "    <tr>\n",
       "      <th>28</th>\n",
       "      <td>29</td>\n",
       "      <td>CD11c</td>\n",
       "    </tr>\n",
       "    <tr>\n",
       "      <th>29</th>\n",
       "      <td>30</td>\n",
       "      <td>CD44</td>\n",
       "    </tr>\n",
       "  </tbody>\n",
       "</table>\n",
       "</div>"
      ],
      "text/plain": [
       "    channel_number     marker_name\n",
       "0                1            DAPI\n",
       "1                2            CD31\n",
       "2                3      E-cadherin\n",
       "3                4             CD4\n",
       "4                5            CD20\n",
       "5                6            Ki67\n",
       "6                7            CD68\n",
       "7                8          Pan-CK\n",
       "8                9             CD8\n",
       "9               10  Histone H3 Pho\n",
       "10              11           CD163\n",
       "11              12      Podoplanin\n",
       "12              13             CD3\n",
       "13              14            CD36\n",
       "14              15           HIF1a\n",
       "15              16           GLUT1\n",
       "16              17           GATA3\n",
       "17              18          CD45RO\n",
       "18              19          CD45RA\n",
       "19              20             SMA\n",
       "20              21            CK19\n",
       "21              22             MGP\n",
       "22              23        Vimentin\n",
       "23              24          Maspin\n",
       "24              25           Foxp3\n",
       "25              26            MMP9\n",
       "26              27          HLA-DR\n",
       "27              28            CK14\n",
       "28              29           CD11c\n",
       "29              30            CD44"
      ]
     },
     "execution_count": 6,
     "metadata": {},
     "output_type": "execute_result"
    }
   ],
   "source": [
    "df = pd.DataFrame.from_dict({\n",
    "    'channel_number': np.arange(len(channel_to_img)) + 1,\n",
    "    'marker_name': list(channel_to_img.keys())\n",
    "})\n",
    "df"
   ]
  },
  {
   "cell_type": "code",
   "execution_count": 9,
   "id": "ad990706",
   "metadata": {},
   "outputs": [],
   "source": [
    "df.to_csv(os.path.join(out_dir, 'markers.csv'), sep=',', index=False)"
   ]
  },
  {
   "cell_type": "markdown",
   "id": "a9ce6abd",
   "metadata": {},
   "source": [
    "#### copy ome.tiff to working dir"
   ]
  },
  {
   "cell_type": "code",
   "execution_count": 11,
   "id": "7cc9b7f6",
   "metadata": {},
   "outputs": [],
   "source": [
    "Path(os.path.join(out_dir, 'registration')).mkdir(parents=True, exist_ok=True)"
   ]
  },
  {
   "cell_type": "code",
   "execution_count": 12,
   "id": "14b7972b",
   "metadata": {},
   "outputs": [
    {
     "data": {
      "text/plain": [
       "'../../multiplex_data/codex/htan/brca/HT206B1-H1/level_3/mcmicro/registration/HT206B1-H1.ome.tiff'"
      ]
     },
     "execution_count": 12,
     "metadata": {},
     "output_type": "execute_result"
    }
   ],
   "source": [
    "shutil.copy(os.path.join(data_dir, 'level_2', f'{sample}.ome.tiff'),\n",
    "            os.path.join(out_dir, 'registration', f'{sample}.ome.tiff'))"
   ]
  },
  {
   "cell_type": "code",
   "execution_count": null,
   "id": "ab5ba8ea",
   "metadata": {},
   "outputs": [],
   "source": []
  }
 ],
 "metadata": {
  "kernelspec": {
   "display_name": "Python 3 (ipykernel)",
   "language": "python",
   "name": "python3"
  },
  "language_info": {
   "codemirror_mode": {
    "name": "ipython",
    "version": 3
   },
   "file_extension": ".py",
   "mimetype": "text/x-python",
   "name": "python",
   "nbconvert_exporter": "python",
   "pygments_lexer": "ipython3",
   "version": "3.7.12"
  }
 },
 "nbformat": 4,
 "nbformat_minor": 5
}
