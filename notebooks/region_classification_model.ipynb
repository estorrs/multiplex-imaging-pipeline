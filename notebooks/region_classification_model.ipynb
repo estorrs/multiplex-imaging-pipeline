{
 "cells": [
  {
   "cell_type": "code",
   "execution_count": 30,
   "id": "971e0960",
   "metadata": {},
   "outputs": [],
   "source": [
    "import os\n",
    "import re\n",
    "from pathlib import Path\n",
    "\n",
    "import numpy as np\n",
    "import pandas as pd\n",
    "import matplotlib.pyplot as plt\n",
    "import torch\n",
    "import torch.nn as nn\n",
    "import pytorch_lightning as pl\n",
    "import wandb\n",
    "from timm import create_model\n",
    "from einops import rearrange, reduce\n",
    "from sklearn.metrics import accuracy_score, f1_score\n",
    "from pytorch_lightning.callbacks import ModelCheckpoint"
   ]
  },
  {
   "cell_type": "code",
   "execution_count": 2,
   "id": "a6222b51",
   "metadata": {},
   "outputs": [],
   "source": [
    "from torch.utils.data import Dataset, DataLoader\n",
    "import torchvision.transforms.functional as TF\n",
    "from torchvision.transforms import ColorJitter, Normalize, RandomHorizontalFlip, RandomVerticalFlip, RandomAdjustSharpness"
   ]
  },
  {
   "cell_type": "code",
   "execution_count": 3,
   "id": "1e861fae",
   "metadata": {},
   "outputs": [
    {
     "data": {
      "text/plain": [
       "True"
      ]
     },
     "execution_count": 3,
     "metadata": {},
     "output_type": "execute_result"
    }
   ],
   "source": [
    "torch.cuda.is_available()"
   ]
  },
  {
   "cell_type": "markdown",
   "id": "b33af8c2",
   "metadata": {},
   "source": [
    "## load datasets"
   ]
  },
  {
   "cell_type": "code",
   "execution_count": 4,
   "id": "ad0be015",
   "metadata": {},
   "outputs": [],
   "source": [
    "def convert_rgb(img):\n",
    "    if img.shape[-1] == 3:\n",
    "        img = rearrange(img, 'h w c -> c h w')\n",
    "        \n",
    "    if not isinstance(img, torch.Tensor):\n",
    "        img = torch.tensor(img)\n",
    "        \n",
    "    if torch.max(img)>1.1:\n",
    "        img = TF.convert_image_dtype(img, dtype=torch.float32)\n",
    "            \n",
    "    return img\n",
    "\n",
    "class RegionImgTransform(object):\n",
    "    def __init__(self, p=.8, brightness=.1, contrast=.1, saturation=.1, hue=.1, sharpness=.3, normalize=True):\n",
    "        self.brightness = brightness\n",
    "        self.contrast = contrast\n",
    "        self.saturation = saturation\n",
    "        self.hue = hue\n",
    "        self.sharpness = sharpness\n",
    "        \n",
    "        self.affine_transforms = Compose([\n",
    "            RandomAffine(180),\n",
    "            RandomResizedCrop((256, 256), scale=(.6, 1.)),\n",
    "        ])\n",
    "        \n",
    "        if normalize:\n",
    "            self.normalize = Normalize((0.219, 0.223, 0.250), (0.223, 0.227, 0.251)) # from HT397B1-H2 ffpe H&E image\n",
    "        else:\n",
    "            self.normalize = nn.Identity()\n",
    " \n",
    "        self.p = p\n",
    "    \n",
    "    def apply_color_transforms(self, x, brightness, contrast, saturation, hue, sharpness):\n",
    "        x = TF.adjust_brightness(x, brightness)\n",
    "        x = TF.adjust_contrast(x, contrast)\n",
    "        x = TF.adjust_saturation(x, saturation)\n",
    "        x = TF.adjust_hue(x, hue)\n",
    "        x = TF.adjust_sharpness(x, sharpness)\n",
    "        return x\n",
    "        \n",
    "    def __call__(self, he, mask):\n",
    "        \"\"\"\n",
    "        \"\"\"\n",
    "        if isinstance(he, torch.Tensor):\n",
    "            hes = [he]\n",
    "            masks = [mask]\n",
    "            return_type = 'image'\n",
    "        elif isinstance(he, dict):\n",
    "            keys = list(he.keys())\n",
    "            hes = [he[k] for k in keys]\n",
    "            masks = [mask[k] for k in keys]\n",
    "            return_type = 'dict'\n",
    "        else:\n",
    "            return_type = 'list'\n",
    "                                \n",
    "        # we apply transforms with probability p\n",
    "        if torch.rand(size=(1,)) < self.p:\n",
    "            brightness, contrast, saturation, hue, sharpness = (\n",
    "                np.random.uniform(max(0, 1 - self.brightness), 1 + self.brightness, size=1)[0],\n",
    "                np.random.uniform(max(0, 1 - self.contrast), 1 + self.contrast, size=1)[0],\n",
    "                np.random.uniform(max(0, 1 - self.saturation), 1 + self.saturation, size=1)[0],\n",
    "                np.random.uniform(-self.hue, self.hue, size=1)[0],\n",
    "                np.random.uniform(max(0, 1 - self.sharpness), 1 + self.sharpness, size=1)[0],\n",
    "            )\n",
    "            # apply color jitter and sharpness\n",
    "            hes = [self.apply_color_transforms(x, brightness, contrast, saturation, hue, sharpness)\n",
    "                   for x in hes]\n",
    "            xs = [torch.concat((rgb, m.unsqueeze(0)), dim=0) for rgb, m in zip(hes, masks)]\n",
    "            xs = [self.affine_transforms(x) for x in xs]\n",
    "            hes, masks = zip(*[(x[:-1], x[-1]) for x in xs])\n",
    "        \n",
    "        hes = [self.normalize(x) for x in hes]\n",
    "                    \n",
    "        if return_type == 'image':\n",
    "            return hes[0], masks[0]\n",
    "        elif return_type == 'dict':\n",
    "            return {k:v for k, v in zip(keys, hes)}, {k:v for k, v in zip(keys, masks)}\n",
    "        return hes, masks"
   ]
  },
  {
   "cell_type": "code",
   "execution_count": 6,
   "id": "25138e26",
   "metadata": {},
   "outputs": [],
   "source": [
    "class RegionDataset(Dataset):\n",
    "    def __init__(self, region_to_cls_imgs, feat_df, y_col, transform=None, normalize_feats=True):\n",
    "        self.region_to_cls_imgs = region_to_cls_imgs\n",
    "        self.transform = transform\n",
    "        self.idx_to_region = feat_df.index.to_list()\n",
    "        \n",
    "        \n",
    "        self.X = torch.tensor(feat_df[[c for c in feat_df.columns if c != y_col]].values, dtype=torch.float32)\n",
    "        \n",
    "        ys = [val if not pd.isnull(val) else 'unknown' for val in feat_df[y_col]]\n",
    "        self.idx_to_label = sorted(set(ys))\n",
    "\n",
    "        self.label_to_idx = {l:i for i, l in enumerate(self.idx_to_label)}\n",
    "\n",
    "        self.y = torch.nn.functional.one_hot(torch.tensor(\n",
    "            [self.label_to_idx[l] for l in ys])).to(torch.float32)\n",
    "\n",
    "\n",
    "    def __len__(self):\n",
    "        return self.X.shape[0]\n",
    "\n",
    "    def __getitem__(self, idx):\n",
    "        region_id = self.idx_to_region[idx]\n",
    "\n",
    "        rgb = self.region_to_cls_imgs[region_id]['rgb']\n",
    "        rgb = convert_rgb(rgb)\n",
    "        mask = self.region_to_cls_imgs[region_id]['mask']\n",
    "        mask = torch.tensor(mask).to(torch.float32)\n",
    "        \n",
    "\n",
    "        if self.transform:\n",
    "            rgb, mask = self.transform(rgb, mask)\n",
    "\n",
    "        return {\n",
    "            'mask': mask.unsqueeze(0),\n",
    "            'rgb': rgb,\n",
    "            'y': self.y[idx],\n",
    "            'X': self.X[idx]\n",
    "        }"
   ]
  },
  {
   "cell_type": "code",
   "execution_count": 7,
   "id": "c5ecaf28",
   "metadata": {},
   "outputs": [],
   "source": [
    "train_ds = torch.load('/data/estorrs/multiplex_data/analysis/dcis_region_analysis/classifier_v1/data/train_ds.pt')\n",
    "val_ds = torch.load('/data/estorrs/multiplex_data/analysis/dcis_region_analysis/classifier_v1/data/val_ds.pt')\n",
    "pred_ds = torch.load('/data/estorrs/multiplex_data/analysis/dcis_region_analysis/classifier_v1/data/pred_ds.pt')"
   ]
  },
  {
   "cell_type": "code",
   "execution_count": 8,
   "id": "17048e23",
   "metadata": {},
   "outputs": [],
   "source": [
    "batch_size = 16\n",
    "train_dl = DataLoader(train_ds, batch_size=batch_size, shuffle=True, num_workers=10)\n",
    "val_dl = DataLoader(val_ds, batch_size=batch_size, num_workers=10)\n",
    "pred_dl = DataLoader(pred_ds, batch_size=batch_size, num_workers=20)"
   ]
  },
  {
   "cell_type": "code",
   "execution_count": 9,
   "id": "d7d40def",
   "metadata": {},
   "outputs": [
    {
     "data": {
      "text/plain": [
       "dict_keys(['mask', 'rgb', 'y', 'X'])"
      ]
     },
     "execution_count": 9,
     "metadata": {},
     "output_type": "execute_result"
    }
   ],
   "source": [
    "d = train_ds[0]\n",
    "d.keys()"
   ]
  },
  {
   "cell_type": "code",
   "execution_count": 10,
   "id": "2d9b06d2",
   "metadata": {},
   "outputs": [
    {
     "data": {
      "text/plain": [
       "(torch.float32, torch.float32, torch.Size([3]), torch.Size([9]))"
      ]
     },
     "execution_count": 10,
     "metadata": {},
     "output_type": "execute_result"
    }
   ],
   "source": [
    "d['rgb'].dtype, d['mask'].dtype, d['y'].shape, d['X'].shape"
   ]
  },
  {
   "cell_type": "code",
   "execution_count": 11,
   "id": "3ab70732",
   "metadata": {
    "scrolled": true
   },
   "outputs": [
    {
     "data": {
      "text/plain": [
       "<matplotlib.image.AxesImage at 0x7f890c7a76d0>"
      ]
     },
     "execution_count": 11,
     "metadata": {},
     "output_type": "execute_result"
    },
    {
     "data": {
      "image/png": "[encoded data removed]",
      "text/plain": [
       "<Figure size 640x480 with 1 Axes>"
      ]
     },
     "metadata": {},
     "output_type": "display_data"
    }
   ],
   "source": [
    "plt.imshow(d['mask'][0])"
   ]
  },
  {
   "cell_type": "code",
   "execution_count": 12,
   "id": "8ed4fee2",
   "metadata": {},
   "outputs": [
    {
     "data": {
      "text/plain": [
       "tensor([0., 0., 1.])"
      ]
     },
     "execution_count": 12,
     "metadata": {},
     "output_type": "execute_result"
    }
   ],
   "source": [
    "d['y']"
   ]
  },
  {
   "cell_type": "code",
   "execution_count": 13,
   "id": "54214eca",
   "metadata": {},
   "outputs": [
    {
     "data": {
      "text/plain": [
       "tensor([-1.3452, -0.1065,  2.1844,  1.3373,  2.9199,  0.9769,  3.5555,  0.1285,\n",
       "         3.0484])"
      ]
     },
     "execution_count": 13,
     "metadata": {},
     "output_type": "execute_result"
    }
   ],
   "source": [
    "d['X']"
   ]
  },
  {
   "cell_type": "code",
   "execution_count": 14,
   "id": "1d6ddce5",
   "metadata": {},
   "outputs": [
    {
     "data": {
      "text/plain": [
       "dict_keys(['mask', 'rgb', 'y', 'X'])"
      ]
     },
     "execution_count": 14,
     "metadata": {},
     "output_type": "execute_result"
    }
   ],
   "source": [
    "b = next(iter(train_dl))\n",
    "b.keys()"
   ]
  },
  {
   "cell_type": "code",
   "execution_count": 15,
   "id": "306b897f",
   "metadata": {},
   "outputs": [
    {
     "data": {
      "text/plain": [
       "(torch.float32, torch.float32)"
      ]
     },
     "execution_count": 15,
     "metadata": {},
     "output_type": "execute_result"
    }
   ],
   "source": [
    "b['rgb'].dtype, b['mask'].dtype"
   ]
  },
  {
   "cell_type": "code",
   "execution_count": 16,
   "id": "3a40b0ec",
   "metadata": {},
   "outputs": [
    {
     "data": {
      "text/plain": [
       "dict_keys(['mask', 'rgb', 'y', 'X'])"
      ]
     },
     "execution_count": 16,
     "metadata": {},
     "output_type": "execute_result"
    }
   ],
   "source": [
    "b = next(iter(pred_dl))\n",
    "b.keys()"
   ]
  },
  {
   "cell_type": "code",
   "execution_count": 17,
   "id": "d05e1a9a",
   "metadata": {},
   "outputs": [
    {
     "data": {
      "text/plain": [
       "(torch.Size([16, 3, 256, 256]),\n",
       " torch.Size([16, 1, 256, 256]),\n",
       " torch.Size([16, 4]),\n",
       " torch.Size([16, 9]))"
      ]
     },
     "execution_count": 17,
     "metadata": {},
     "output_type": "execute_result"
    }
   ],
   "source": [
    "b['rgb'].shape, b['mask'].shape, b['y'].shape, b['X'].shape"
   ]
  },
  {
   "cell_type": "markdown",
   "id": "cb0e606d",
   "metadata": {},
   "source": [
    "## model"
   ]
  },
  {
   "cell_type": "code",
   "execution_count": 18,
   "id": "5b12d0ea",
   "metadata": {},
   "outputs": [],
   "source": [
    "class RegionClassifier(nn.Module):\n",
    "    def __init__(\n",
    "            self,\n",
    "            n_features,\n",
    "            n_classes,\n",
    "            backbone='resnet34',\n",
    "    ):\n",
    "        super().__init__()\n",
    "        self.rgb_encoder = create_model(backbone, in_chans=3)\n",
    "        self.mask_encoder = create_model(backbone, in_chans=1)\n",
    "        \n",
    "        self.encoded_downsample = nn.Linear(1000, n_features)\n",
    "        \n",
    "        self.tabular_encoder = nn.Sequential(\n",
    "            nn.Linear(n_features, n_features),\n",
    "            nn.BatchNorm1d(n_features),\n",
    "            nn.ReLU(),\n",
    "            nn.Dropout(.2),\n",
    "            nn.Linear(n_features, n_features),\n",
    "            nn.BatchNorm1d(n_features),\n",
    "            nn.ReLU(),\n",
    "            nn.Dropout(.2),\n",
    "        )\n",
    "        \n",
    "        self.head = nn.Sequential(\n",
    "            nn.Linear(n_features, n_features),\n",
    "            nn.BatchNorm1d(n_features),\n",
    "            nn.ReLU(),\n",
    "            nn.Dropout(.2),\n",
    "            nn.Linear(n_features, n_features),\n",
    "            nn.BatchNorm1d(n_features),\n",
    "            nn.ReLU(),\n",
    "            nn.Dropout(.2),\n",
    "            nn.Linear(n_features, n_classes),\n",
    "            nn.Softmax(dim=-1)\n",
    "        )\n",
    "        \n",
    "        self.loss = nn.CrossEntropyLoss()   \n",
    "        \n",
    "    def calculate_loss(self, y_pred, y_true):\n",
    "        return self.loss(y_pred, y_true)\n",
    "\n",
    "    def forward(self, rgb, mask, feats):\n",
    "        rgb_encoded = self.rgb_encoder(rgb)\n",
    "        mask_encoded = self.mask_encoder(mask)\n",
    "        encoded = rgb_encoded + mask_encoded\n",
    "        encoded = self.encoded_downsample(encoded)\n",
    "        \n",
    "        tabular_encoded = self.tabular_encoder(feats)\n",
    "        encoded += tabular_encoded\n",
    "        \n",
    "        probs = self.head(encoded)\n",
    "        \n",
    "        return probs\n"
   ]
  },
  {
   "cell_type": "code",
   "execution_count": 19,
   "id": "ec8ef600",
   "metadata": {},
   "outputs": [
    {
     "data": {
      "text/plain": [
       "torch.Size([8, 4])"
      ]
     },
     "execution_count": 19,
     "metadata": {},
     "output_type": "execute_result"
    }
   ],
   "source": [
    "n_features, n_classes = b['X'].shape[1], b['y'].shape[1]\n",
    "rgb, mask, feats = torch.rand(8, 3, 256, 256), torch.rand(8, 1, 256, 256), torch.rand(8, n_features)\n",
    "\n",
    "model = RegionClassifier(n_features, n_classes)\n",
    "out = model(rgb, mask, feats)\n",
    "out.shape"
   ]
  },
  {
   "cell_type": "code",
   "execution_count": 20,
   "id": "7382d357",
   "metadata": {},
   "outputs": [
    {
     "data": {
      "text/plain": [
       "tensor(3.0831, grad_fn=<DivBackward1>)"
      ]
     },
     "execution_count": 20,
     "metadata": {},
     "output_type": "execute_result"
    }
   ],
   "source": [
    "model.calculate_loss(out, torch.rand(8, n_classes))"
   ]
  },
  {
   "cell_type": "code",
   "execution_count": 21,
   "id": "69c57cf1",
   "metadata": {},
   "outputs": [
    {
     "data": {
      "text/plain": [
       "torch.Size([16, 4])"
      ]
     },
     "execution_count": 21,
     "metadata": {},
     "output_type": "execute_result"
    }
   ],
   "source": [
    "out = model(b['rgb'], b['mask'], b['X'])\n",
    "out.shape"
   ]
  },
  {
   "cell_type": "code",
   "execution_count": 46,
   "id": "262819ab",
   "metadata": {},
   "outputs": [],
   "source": [
    "class ModelLightning(pl.LightningModule):\n",
    "    def __init__(self, model, lr=1e-4):\n",
    "        super().__init__()\n",
    "        \n",
    "        self.model = model\n",
    "        self.lr = lr\n",
    "        \n",
    "#         self.save_hyperparameters(ignore=['model'])\n",
    "        self.save_hyperparameters()\n",
    "\n",
    "    def training_step(self, batch, batch_idx):\n",
    "        rgb, mask, y, X = batch['rgb'], batch['mask'], batch['y'], batch['X']\n",
    "        probs = self.model(rgb, mask, X)\n",
    "        loss = self.model.calculate_loss(probs, y)\n",
    "        acc = accuracy_score(y.argmax(dim=-1).clone().detach().cpu().numpy(),\n",
    "                             probs.argmax(dim=-1).clone().detach().cpu().numpy())\n",
    "        f1 = f1_score(y.argmax(dim=-1).clone().detach().cpu().numpy(),\n",
    "                      probs.argmax(dim=-1).clone().detach().cpu().numpy(), average='weighted')\n",
    "        \n",
    "        self.log_dict({'train/loss': loss, 'train/acc': acc, 'train/f1': f1},\n",
    "                      on_step=False, on_epoch=True, prog_bar=True)\n",
    "        \n",
    "        \n",
    "        result = {'loss': loss, 'probs': probs, 'y': y}\n",
    "        return result\n",
    "    \n",
    "    def validation_step(self, batch, batch_idx):\n",
    "        rgb, mask, y, X = batch['rgb'], batch['mask'], batch['y'], batch['X']\n",
    "        probs = self.model(rgb, mask, X)\n",
    "        loss = self.model.calculate_loss(probs, y)\n",
    "        acc = accuracy_score(y.argmax(dim=-1).clone().detach().cpu().numpy(),\n",
    "                             probs.argmax(dim=-1).clone().detach().cpu().numpy())\n",
    "        f1 = f1_score(y.argmax(dim=-1).clone().detach().cpu().numpy(),\n",
    "                      probs.argmax(dim=-1).clone().detach().cpu().numpy(), average='weighted')\n",
    "        \n",
    "        self.log_dict({'val/loss': loss, 'val/acc': acc, 'val/f1': f1},\n",
    "                      on_step=False, on_epoch=True, prog_bar=True)\n",
    "        \n",
    "        \n",
    "        result = {'loss': loss, 'probs': probs, 'y': y}\n",
    "        return result\n",
    "    \n",
    "    def prediction_step(self, batch, batch_idx):\n",
    "        rgb, mask, y, X = batch['rgb'], batch['mask'], batch['y'], batch['X']\n",
    "        probs = self.model(rgb, mask, X)\n",
    "\n",
    "        result = {'y_pred': probs.argmax(dim=-1), 'probs': probs, 'y_true': y}\n",
    "        return result\n",
    "\n",
    "    def configure_optimizers(self):\n",
    "        optimizer = torch.optim.Adam(self.parameters(), lr=self.lr)\n",
    "        return optimizer\n",
    "    \n",
    "    def forward(self, batch):\n",
    "        rgb, mask, y, X = batch['rgb'], batch['mask'], batch['y'], batch['X']\n",
    "        return self.model(rgb, mask, X)"
   ]
  },
  {
   "cell_type": "code",
   "execution_count": 23,
   "id": "6aed5eb0",
   "metadata": {},
   "outputs": [],
   "source": [
    "class LoggingCallback(pl.Callback):\n",
    "    def __init__(self, log_every=10, log_n_samples=8):\n",
    "        self.log_every = log_every\n",
    "        self.log_n_samples = log_n_samples\n",
    "    \n",
    "    def on_train_batch_end(self, trainer, pl_module, outputs, batch, batch_idx):\n",
    "        if trainer.current_epoch % self.log_every == 0 and batch_idx==0:\n",
    "            img = batch['rgb'][:self.log_n_samples].clone().detach().cpu()\n",
    "            img -= img.min()\n",
    "            img /= img.max()\n",
    "            logger.log_image(\n",
    "                key=f\"train/rgb\",\n",
    "                images=[i for i in img],\n",
    "                caption=list(outputs['probs'][:self.log_n_samples].argmax(dim=-1).clone().detach().cpu().numpy())\n",
    "            )\n",
    "    def on_validation_batch_end(self, trainer, pl_module, outputs, batch, batch_idx, dataloader_idx):\n",
    "        if trainer.current_epoch % self.log_every == 0 and batch_idx==0:\n",
    "            img = batch['rgb'][:self.log_n_samples].clone().detach().cpu()\n",
    "            img -= img.min()\n",
    "            img /= img.max()\n",
    "            logger.log_image(\n",
    "                key=f\"val/rgb\",\n",
    "                images=[i for i in img],\n",
    "                caption=list(outputs['probs'][:self.log_n_samples].argmax(dim=-1).clone().detach().cpu().numpy())\n",
    "            )\n"
   ]
  },
  {
   "cell_type": "markdown",
   "id": "3dae71b9",
   "metadata": {},
   "source": [
    "## training model"
   ]
  },
  {
   "cell_type": "code",
   "execution_count": 48,
   "id": "06ffc6c5",
   "metadata": {},
   "outputs": [],
   "source": [
    "project = 'region_classifier'\n",
    "log_dir = '/data/estorrs/multiplex_data/analysis/dcis_region_analysis/classifier_v1/logs'"
   ]
  },
  {
   "cell_type": "code",
   "execution_count": 59,
   "id": "3ed5d1eb",
   "metadata": {},
   "outputs": [
    {
     "data": {
      "text/html": [
       "Tracking run with wandb version 0.13.9"
      ],
      "text/plain": [
       "<IPython.core.display.HTML object>"
      ]
     },
     "metadata": {},
     "output_type": "display_data"
    },
    {
     "data": {
      "text/html": [
       "Run data is saved locally in <code>/data/estorrs/multiplex_data/analysis/dcis_region_analysis/classifier_v1/logs/wandb/run-20230207_183646-quaydiuo</code>"
      ],
      "text/plain": [
       "<IPython.core.display.HTML object>"
      ]
     },
     "metadata": {},
     "output_type": "display_data"
    },
    {
     "data": {
      "text/html": [
       "Syncing run <strong><a href=\"https://wandb.ai/tme-st/region_classifier/runs/quaydiuo\" target=\"_blank\">amber-flower-21</a></strong> to <a href=\"https://wandb.ai/tme-st/region_classifier\" target=\"_blank\">Weights & Biases</a> (<a href=\"https://wandb.me/run\" target=\"_blank\">docs</a>)<br/>"
      ],
      "text/plain": [
       "<IPython.core.display.HTML object>"
      ]
     },
     "metadata": {},
     "output_type": "display_data"
    },
    {
     "data": {
      "text/html": [
       " View project at <a href=\"https://wandb.ai/tme-st/region_classifier\" target=\"_blank\">https://wandb.ai/tme-st/region_classifier</a>"
      ],
      "text/plain": [
       "<IPython.core.display.HTML object>"
      ]
     },
     "metadata": {},
     "output_type": "display_data"
    },
    {
     "data": {
      "text/html": [
       " View run at <a href=\"https://wandb.ai/tme-st/region_classifier/runs/quaydiuo\" target=\"_blank\">https://wandb.ai/tme-st/region_classifier/runs/quaydiuo</a>"
      ],
      "text/plain": [
       "<IPython.core.display.HTML object>"
      ]
     },
     "metadata": {},
     "output_type": "display_data"
    }
   ],
   "source": [
    "from pytorch_lightning.loggers import WandbLogger\n",
    "logger = WandbLogger(project=project, save_dir=log_dir)"
   ]
  },
  {
   "cell_type": "code",
   "execution_count": 60,
   "id": "a1ad7c30",
   "metadata": {},
   "outputs": [],
   "source": [
    "# wandb.finish()"
   ]
  },
  {
   "cell_type": "code",
   "execution_count": 61,
   "id": "50521ad5",
   "metadata": {},
   "outputs": [],
   "source": [
    "config = {\n",
    "    'n_classes': train_ds.y.shape[1],\n",
    "    'n_features': train_ds.X.shape[1],\n",
    "    'backbone': 'resnet34',\n",
    "    'training': {\n",
    "        'train_samples': len(train_ds),\n",
    "        'val_samples': len(val_ds),\n",
    "        'log_n_samples': 16,\n",
    "        'max_epochs': 300,\n",
    "        'check_val_every_n_epoch': 2,\n",
    "        'log_every': 5,\n",
    "        'accelerator': 'gpu',\n",
    "        'devices': 1,\n",
    "        'lr': 2e-4,\n",
    "        'batch_size': batch_size,\n",
    "        'precision': 32\n",
    "    },\n",
    "}\n",
    "logger.experiment.config.update(config)"
   ]
  },
  {
   "cell_type": "code",
   "execution_count": 62,
   "id": "d3ec080a",
   "metadata": {},
   "outputs": [
    {
     "name": "stderr",
     "output_type": "stream",
     "text": [
      "/data/estorrs/miniconda3/envs/mip/lib/python3.9/site-packages/pytorch_lightning/utilities/parsing.py:262: UserWarning: Attribute 'model' is an instance of `nn.Module` and is already saved during checkpointing. It is recommended to ignore them using `self.save_hyperparameters(ignore=['model'])`.\n",
      "  rank_zero_warn(\n"
     ]
    }
   ],
   "source": [
    "m = RegionClassifier(\n",
    "    config['n_features'],\n",
    "    config['n_classes'],\n",
    "    backbone=config['backbone']\n",
    ")\n",
    "model = ModelLightning(m, lr=config['training']['lr'])"
   ]
  },
  {
   "cell_type": "code",
   "execution_count": 63,
   "id": "0c3ec4c2",
   "metadata": {},
   "outputs": [
    {
     "name": "stderr",
     "output_type": "stream",
     "text": [
      "GPU available: True (cuda), used: True\n",
      "TPU available: False, using: 0 TPU cores\n",
      "IPU available: False, using: 0 IPUs\n",
      "HPU available: False, using: 0 HPUs\n"
     ]
    }
   ],
   "source": [
    "trainer = pl.Trainer(\n",
    "    callbacks=[\n",
    "        LoggingCallback(\n",
    "            log_every=config['training']['log_every'],\n",
    "            log_n_samples=config['training']['log_n_samples']\n",
    "        ),\n",
    "        ModelCheckpoint(\n",
    "            dirpath=\"/data/estorrs/multiplex_data/analysis/dcis_region_analysis/classifier_v1/ckpts\",\n",
    "            save_top_k=5, monitor=\"val/loss\"\n",
    "        )\n",
    "    ],\n",
    "    devices=config['training']['devices'],\n",
    "    accelerator=config['training']['accelerator'],\n",
    "    check_val_every_n_epoch=config['training']['check_val_every_n_epoch'],\n",
    "    enable_checkpointing=True,\n",
    "    max_epochs=config['training']['max_epochs'],\n",
    "    precision=config['training']['precision'],\n",
    "    logger=logger\n",
    ")"
   ]
  },
  {
   "cell_type": "code",
   "execution_count": 64,
   "id": "f16bb731",
   "metadata": {},
   "outputs": [
    {
     "name": "stderr",
     "output_type": "stream",
     "text": [
      "/data/estorrs/miniconda3/envs/mip/lib/python3.9/site-packages/pytorch_lightning/callbacks/model_checkpoint.py:612: UserWarning: Checkpoint directory /data/estorrs/multiplex_data/analysis/dcis_region_analysis/classifier_v1/ckpts exists and is not empty.\n",
      "  rank_zero_warn(f\"Checkpoint directory {dirpath} exists and is not empty.\")\n",
      "LOCAL_RANK: 0 - CUDA_VISIBLE_DEVICES: [0,1,2,3]\n",
      "\n",
      "  | Name  | Type             | Params\n",
      "-------------------------------------------\n",
      "0 | model | RegionClassifier | 43.6 M\n",
      "-------------------------------------------\n",
      "43.6 M    Trainable params\n",
      "0         Non-trainable params\n",
      "43.6 M    Total params\n",
      "174.394   Total estimated model params size (MB)\n"
     ]
    },
    {
     "data": {
      "application/vnd.jupyter.widget-view+json": {
       "model_id": "",
       "version_major": 2,
       "version_minor": 0
      },
      "text/plain": [
       "Sanity Checking: 0it [00:00, ?it/s]"
      ]
     },
     "metadata": {},
     "output_type": "display_data"
    },
    {
     "name": "stderr",
     "output_type": "stream",
     "text": [
      "/data/estorrs/miniconda3/envs/mip/lib/python3.9/site-packages/pytorch_lightning/trainer/trainer.py:1600: PossibleUserWarning: The number of training batches (27) is smaller than the logging interval Trainer(log_every_n_steps=50). Set a lower value for log_every_n_steps if you want to see logs for the training epoch.\n",
      "  rank_zero_warn(\n"
     ]
    },
    {
     "data": {
      "application/vnd.jupyter.widget-view+json": {
       "model_id": "e00384b803934cf3980ca48f8ed83191",
       "version_major": 2,
       "version_minor": 0
      },
      "text/plain": [
       "Training: 0it [00:00, ?it/s]"
      ]
     },
     "metadata": {},
     "output_type": "display_data"
    },
    {
     "data": {
      "application/vnd.jupyter.widget-view+json": {
       "model_id": "",
       "version_major": 2,
       "version_minor": 0
      },
      "text/plain": [
       "Validation: 0it [00:00, ?it/s]"
      ]
     },
     "metadata": {},
     "output_type": "display_data"
    },
    {
     "data": {
      "application/vnd.jupyter.widget-view+json": {
       "model_id": "",
       "version_major": 2,
       "version_minor": 0
      },
      "text/plain": [
       "Validation: 0it [00:00, ?it/s]"
      ]
     },
     "metadata": {},
     "output_type": "display_data"
    },
    {
     "data": {
      "application/vnd.jupyter.widget-view+json": {
       "model_id": "",
       "version_major": 2,
       "version_minor": 0
      },
      "text/plain": [
       "Validation: 0it [00:00, ?it/s]"
      ]
     },
     "metadata": {},
     "output_type": "display_data"
    },
    {
     "data": {
      "application/vnd.jupyter.widget-view+json": {
       "model_id": "",
       "version_major": 2,
       "version_minor": 0
      },
      "text/plain": [
       "Validation: 0it [00:00, ?it/s]"
      ]
     },
     "metadata": {},
     "output_type": "display_data"
    },
    {
     "data": {
      "application/vnd.jupyter.widget-view+json": {
       "model_id": "",
       "version_major": 2,
       "version_minor": 0
      },
      "text/plain": [
       "Validation: 0it [00:00, ?it/s]"
      ]
     },
     "metadata": {},
     "output_type": "display_data"
    },
    {
     "data": {
      "application/vnd.jupyter.widget-view+json": {
       "model_id": "",
       "version_major": 2,
       "version_minor": 0
      },
      "text/plain": [
       "Validation: 0it [00:00, ?it/s]"
      ]
     },
     "metadata": {},
     "output_type": "display_data"
    },
    {
     "data": {
      "application/vnd.jupyter.widget-view+json": {
       "model_id": "",
       "version_major": 2,
       "version_minor": 0
      },
      "text/plain": [
       "Validation: 0it [00:00, ?it/s]"
      ]
     },
     "metadata": {},
     "output_type": "display_data"
    },
    {
     "data": {
      "application/vnd.jupyter.widget-view+json": {
       "model_id": "",
       "version_major": 2,
       "version_minor": 0
      },
      "text/plain": [
       "Validation: 0it [00:00, ?it/s]"
      ]
     },
     "metadata": {},
     "output_type": "display_data"
    },
    {
     "data": {
      "application/vnd.jupyter.widget-view+json": {
       "model_id": "",
       "version_major": 2,
       "version_minor": 0
      },
      "text/plain": [
       "Validation: 0it [00:00, ?it/s]"
      ]
     },
     "metadata": {},
     "output_type": "display_data"
    },
    {
     "data": {
      "application/vnd.jupyter.widget-view+json": {
       "model_id": "",
       "version_major": 2,
       "version_minor": 0
      },
      "text/plain": [
       "Validation: 0it [00:00, ?it/s]"
      ]
     },
     "metadata": {},
     "output_type": "display_data"
    },
    {
     "data": {
      "application/vnd.jupyter.widget-view+json": {
       "model_id": "",
       "version_major": 2,
       "version_minor": 0
      },
      "text/plain": [
       "Validation: 0it [00:00, ?it/s]"
      ]
     },
     "metadata": {},
     "output_type": "display_data"
    },
    {
     "data": {
      "application/vnd.jupyter.widget-view+json": {
       "model_id": "",
       "version_major": 2,
       "version_minor": 0
      },
      "text/plain": [
       "Validation: 0it [00:00, ?it/s]"
      ]
     },
     "metadata": {},
     "output_type": "display_data"
    },
    {
     "data": {
      "application/vnd.jupyter.widget-view+json": {
       "model_id": "",
       "version_major": 2,
       "version_minor": 0
      },
      "text/plain": [
       "Validation: 0it [00:00, ?it/s]"
      ]
     },
     "metadata": {},
     "output_type": "display_data"
    },
    {
     "data": {
      "application/vnd.jupyter.widget-view+json": {
       "model_id": "",
       "version_major": 2,
       "version_minor": 0
      },
      "text/plain": [
       "Validation: 0it [00:00, ?it/s]"
      ]
     },
     "metadata": {},
     "output_type": "display_data"
    },
    {
     "data": {
      "application/vnd.jupyter.widget-view+json": {
       "model_id": "",
       "version_major": 2,
       "version_minor": 0
      },
      "text/plain": [
       "Validation: 0it [00:00, ?it/s]"
      ]
     },
     "metadata": {},
     "output_type": "display_data"
    },
    {
     "data": {
      "application/vnd.jupyter.widget-view+json": {
       "model_id": "",
       "version_major": 2,
       "version_minor": 0
      },
      "text/plain": [
       "Validation: 0it [00:00, ?it/s]"
      ]
     },
     "metadata": {},
     "output_type": "display_data"
    },
    {
     "data": {
      "application/vnd.jupyter.widget-view+json": {
       "model_id": "",
       "version_major": 2,
       "version_minor": 0
      },
      "text/plain": [
       "Validation: 0it [00:00, ?it/s]"
      ]
     },
     "metadata": {},
     "output_type": "display_data"
    },
    {
     "data": {
      "application/vnd.jupyter.widget-view+json": {
       "model_id": "",
       "version_major": 2,
       "version_minor": 0
      },
      "text/plain": [
       "Validation: 0it [00:00, ?it/s]"
      ]
     },
     "metadata": {},
     "output_type": "display_data"
    },
    {
     "data": {
      "application/vnd.jupyter.widget-view+json": {
       "model_id": "",
       "version_major": 2,
       "version_minor": 0
      },
      "text/plain": [
       "Validation: 0it [00:00, ?it/s]"
      ]
     },
     "metadata": {},
     "output_type": "display_data"
    },
    {
     "data": {
      "application/vnd.jupyter.widget-view+json": {
       "model_id": "",
       "version_major": 2,
       "version_minor": 0
      },
      "text/plain": [
       "Validation: 0it [00:00, ?it/s]"
      ]
     },
     "metadata": {},
     "output_type": "display_data"
    },
    {
     "data": {
      "application/vnd.jupyter.widget-view+json": {
       "model_id": "",
       "version_major": 2,
       "version_minor": 0
      },
      "text/plain": [
       "Validation: 0it [00:00, ?it/s]"
      ]
     },
     "metadata": {},
     "output_type": "display_data"
    },
    {
     "data": {
      "application/vnd.jupyter.widget-view+json": {
       "model_id": "",
       "version_major": 2,
       "version_minor": 0
      },
      "text/plain": [
       "Validation: 0it [00:00, ?it/s]"
      ]
     },
     "metadata": {},
     "output_type": "display_data"
    },
    {
     "data": {
      "application/vnd.jupyter.widget-view+json": {
       "model_id": "",
       "version_major": 2,
       "version_minor": 0
      },
      "text/plain": [
       "Validation: 0it [00:00, ?it/s]"
      ]
     },
     "metadata": {},
     "output_type": "display_data"
    },
    {
     "data": {
      "application/vnd.jupyter.widget-view+json": {
       "model_id": "",
       "version_major": 2,
       "version_minor": 0
      },
      "text/plain": [
       "Validation: 0it [00:00, ?it/s]"
      ]
     },
     "metadata": {},
     "output_type": "display_data"
    },
    {
     "data": {
      "application/vnd.jupyter.widget-view+json": {
       "model_id": "",
       "version_major": 2,
       "version_minor": 0
      },
      "text/plain": [
       "Validation: 0it [00:00, ?it/s]"
      ]
     },
     "metadata": {},
     "output_type": "display_data"
    },
    {
     "data": {
      "application/vnd.jupyter.widget-view+json": {
       "model_id": "",
       "version_major": 2,
       "version_minor": 0
      },
      "text/plain": [
       "Validation: 0it [00:00, ?it/s]"
      ]
     },
     "metadata": {},
     "output_type": "display_data"
    },
    {
     "data": {
      "application/vnd.jupyter.widget-view+json": {
       "model_id": "",
       "version_major": 2,
       "version_minor": 0
      },
      "text/plain": [
       "Validation: 0it [00:00, ?it/s]"
      ]
     },
     "metadata": {},
     "output_type": "display_data"
    },
    {
     "data": {
      "application/vnd.jupyter.widget-view+json": {
       "model_id": "",
       "version_major": 2,
       "version_minor": 0
      },
      "text/plain": [
       "Validation: 0it [00:00, ?it/s]"
      ]
     },
     "metadata": {},
     "output_type": "display_data"
    },
    {
     "data": {
      "application/vnd.jupyter.widget-view+json": {
       "model_id": "",
       "version_major": 2,
       "version_minor": 0
      },
      "text/plain": [
       "Validation: 0it [00:00, ?it/s]"
      ]
     },
     "metadata": {},
     "output_type": "display_data"
    },
    {
     "data": {
      "application/vnd.jupyter.widget-view+json": {
       "model_id": "",
       "version_major": 2,
       "version_minor": 0
      },
      "text/plain": [
       "Validation: 0it [00:00, ?it/s]"
      ]
     },
     "metadata": {},
     "output_type": "display_data"
    },
    {
     "data": {
      "application/vnd.jupyter.widget-view+json": {
       "model_id": "",
       "version_major": 2,
       "version_minor": 0
      },
      "text/plain": [
       "Validation: 0it [00:00, ?it/s]"
      ]
     },
     "metadata": {},
     "output_type": "display_data"
    },
    {
     "data": {
      "application/vnd.jupyter.widget-view+json": {
       "model_id": "",
       "version_major": 2,
       "version_minor": 0
      },
      "text/plain": [
       "Validation: 0it [00:00, ?it/s]"
      ]
     },
     "metadata": {},
     "output_type": "display_data"
    },
    {
     "data": {
      "application/vnd.jupyter.widget-view+json": {
       "model_id": "",
       "version_major": 2,
       "version_minor": 0
      },
      "text/plain": [
       "Validation: 0it [00:00, ?it/s]"
      ]
     },
     "metadata": {},
     "output_type": "display_data"
    },
    {
     "data": {
      "application/vnd.jupyter.widget-view+json": {
       "model_id": "",
       "version_major": 2,
       "version_minor": 0
      },
      "text/plain": [
       "Validation: 0it [00:00, ?it/s]"
      ]
     },
     "metadata": {},
     "output_type": "display_data"
    },
    {
     "data": {
      "application/vnd.jupyter.widget-view+json": {
       "model_id": "",
       "version_major": 2,
       "version_minor": 0
      },
      "text/plain": [
       "Validation: 0it [00:00, ?it/s]"
      ]
     },
     "metadata": {},
     "output_type": "display_data"
    },
    {
     "data": {
      "application/vnd.jupyter.widget-view+json": {
       "model_id": "",
       "version_major": 2,
       "version_minor": 0
      },
      "text/plain": [
       "Validation: 0it [00:00, ?it/s]"
      ]
     },
     "metadata": {},
     "output_type": "display_data"
    },
    {
     "data": {
      "application/vnd.jupyter.widget-view+json": {
       "model_id": "",
       "version_major": 2,
       "version_minor": 0
      },
      "text/plain": [
       "Validation: 0it [00:00, ?it/s]"
      ]
     },
     "metadata": {},
     "output_type": "display_data"
    },
    {
     "data": {
      "application/vnd.jupyter.widget-view+json": {
       "model_id": "",
       "version_major": 2,
       "version_minor": 0
      },
      "text/plain": [
       "Validation: 0it [00:00, ?it/s]"
      ]
     },
     "metadata": {},
     "output_type": "display_data"
    },
    {
     "data": {
      "application/vnd.jupyter.widget-view+json": {
       "model_id": "",
       "version_major": 2,
       "version_minor": 0
      },
      "text/plain": [
       "Validation: 0it [00:00, ?it/s]"
      ]
     },
     "metadata": {},
     "output_type": "display_data"
    },
    {
     "data": {
      "application/vnd.jupyter.widget-view+json": {
       "model_id": "",
       "version_major": 2,
       "version_minor": 0
      },
      "text/plain": [
       "Validation: 0it [00:00, ?it/s]"
      ]
     },
     "metadata": {},
     "output_type": "display_data"
    },
    {
     "data": {
      "application/vnd.jupyter.widget-view+json": {
       "model_id": "",
       "version_major": 2,
       "version_minor": 0
      },
      "text/plain": [
       "Validation: 0it [00:00, ?it/s]"
      ]
     },
     "metadata": {},
     "output_type": "display_data"
    },
    {
     "data": {
      "application/vnd.jupyter.widget-view+json": {
       "model_id": "",
       "version_major": 2,
       "version_minor": 0
      },
      "text/plain": [
       "Validation: 0it [00:00, ?it/s]"
      ]
     },
     "metadata": {},
     "output_type": "display_data"
    },
    {
     "data": {
      "application/vnd.jupyter.widget-view+json": {
       "model_id": "",
       "version_major": 2,
       "version_minor": 0
      },
      "text/plain": [
       "Validation: 0it [00:00, ?it/s]"
      ]
     },
     "metadata": {},
     "output_type": "display_data"
    },
    {
     "data": {
      "application/vnd.jupyter.widget-view+json": {
       "model_id": "",
       "version_major": 2,
       "version_minor": 0
      },
      "text/plain": [
       "Validation: 0it [00:00, ?it/s]"
      ]
     },
     "metadata": {},
     "output_type": "display_data"
    },
    {
     "data": {
      "application/vnd.jupyter.widget-view+json": {
       "model_id": "",
       "version_major": 2,
       "version_minor": 0
      },
      "text/plain": [
       "Validation: 0it [00:00, ?it/s]"
      ]
     },
     "metadata": {},
     "output_type": "display_data"
    },
    {
     "data": {
      "application/vnd.jupyter.widget-view+json": {
       "model_id": "",
       "version_major": 2,
       "version_minor": 0
      },
      "text/plain": [
       "Validation: 0it [00:00, ?it/s]"
      ]
     },
     "metadata": {},
     "output_type": "display_data"
    },
    {
     "data": {
      "application/vnd.jupyter.widget-view+json": {
       "model_id": "",
       "version_major": 2,
       "version_minor": 0
      },
      "text/plain": [
       "Validation: 0it [00:00, ?it/s]"
      ]
     },
     "metadata": {},
     "output_type": "display_data"
    },
    {
     "data": {
      "application/vnd.jupyter.widget-view+json": {
       "model_id": "",
       "version_major": 2,
       "version_minor": 0
      },
      "text/plain": [
       "Validation: 0it [00:00, ?it/s]"
      ]
     },
     "metadata": {},
     "output_type": "display_data"
    },
    {
     "data": {
      "application/vnd.jupyter.widget-view+json": {
       "model_id": "",
       "version_major": 2,
       "version_minor": 0
      },
      "text/plain": [
       "Validation: 0it [00:00, ?it/s]"
      ]
     },
     "metadata": {},
     "output_type": "display_data"
    },
    {
     "data": {
      "application/vnd.jupyter.widget-view+json": {
       "model_id": "",
       "version_major": 2,
       "version_minor": 0
      },
      "text/plain": [
       "Validation: 0it [00:00, ?it/s]"
      ]
     },
     "metadata": {},
     "output_type": "display_data"
    },
    {
     "data": {
      "application/vnd.jupyter.widget-view+json": {
       "model_id": "",
       "version_major": 2,
       "version_minor": 0
      },
      "text/plain": [
       "Validation: 0it [00:00, ?it/s]"
      ]
     },
     "metadata": {},
     "output_type": "display_data"
    },
    {
     "data": {
      "application/vnd.jupyter.widget-view+json": {
       "model_id": "",
       "version_major": 2,
       "version_minor": 0
      },
      "text/plain": [
       "Validation: 0it [00:00, ?it/s]"
      ]
     },
     "metadata": {},
     "output_type": "display_data"
    },
    {
     "data": {
      "application/vnd.jupyter.widget-view+json": {
       "model_id": "",
       "version_major": 2,
       "version_minor": 0
      },
      "text/plain": [
       "Validation: 0it [00:00, ?it/s]"
      ]
     },
     "metadata": {},
     "output_type": "display_data"
    },
    {
     "data": {
      "application/vnd.jupyter.widget-view+json": {
       "model_id": "",
       "version_major": 2,
       "version_minor": 0
      },
      "text/plain": [
       "Validation: 0it [00:00, ?it/s]"
      ]
     },
     "metadata": {},
     "output_type": "display_data"
    },
    {
     "data": {
      "application/vnd.jupyter.widget-view+json": {
       "model_id": "",
       "version_major": 2,
       "version_minor": 0
      },
      "text/plain": [
       "Validation: 0it [00:00, ?it/s]"
      ]
     },
     "metadata": {},
     "output_type": "display_data"
    },
    {
     "data": {
      "application/vnd.jupyter.widget-view+json": {
       "model_id": "",
       "version_major": 2,
       "version_minor": 0
      },
      "text/plain": [
       "Validation: 0it [00:00, ?it/s]"
      ]
     },
     "metadata": {},
     "output_type": "display_data"
    },
    {
     "data": {
      "application/vnd.jupyter.widget-view+json": {
       "model_id": "",
       "version_major": 2,
       "version_minor": 0
      },
      "text/plain": [
       "Validation: 0it [00:00, ?it/s]"
      ]
     },
     "metadata": {},
     "output_type": "display_data"
    },
    {
     "data": {
      "application/vnd.jupyter.widget-view+json": {
       "model_id": "",
       "version_major": 2,
       "version_minor": 0
      },
      "text/plain": [
       "Validation: 0it [00:00, ?it/s]"
      ]
     },
     "metadata": {},
     "output_type": "display_data"
    },
    {
     "name": "stderr",
     "output_type": "stream",
     "text": [
      "IOPub message rate exceeded.\n",
      "The notebook server will temporarily stop sending output\n",
      "to the client in order to avoid crashing it.\n",
      "To change this limit, set the config variable\n",
      "`--NotebookApp.iopub_msg_rate_limit`.\n",
      "\n",
      "Current values:\n",
      "NotebookApp.iopub_msg_rate_limit=1000.0 (msgs/sec)\n",
      "NotebookApp.rate_limit_window=3.0 (secs)\n",
      "\n"
     ]
    }
   ],
   "source": [
    "trainer.fit(model=model, train_dataloaders=train_dl, val_dataloaders=val_dl)"
   ]
  },
  {
   "cell_type": "code",
   "execution_count": 65,
   "id": "512cc7b0",
   "metadata": {},
   "outputs": [
    {
     "data": {
      "text/plain": [
       "'/data/estorrs/multiplex_data/analysis/dcis_region_analysis/classifier_v1/ckpts/epoch=277-step=7506.ckpt'"
      ]
     },
     "execution_count": 65,
     "metadata": {},
     "output_type": "execute_result"
    }
   ],
   "source": [
    "cb = [c for c in trainer.callbacks if 'ModelCheckpoint' in str(type(c))][0]\n",
    "cb.best_model_path"
   ]
  },
  {
   "cell_type": "code",
   "execution_count": 66,
   "id": "1f02cd8c",
   "metadata": {},
   "outputs": [
    {
     "name": "stderr",
     "output_type": "stream",
     "text": [
      "/data/estorrs/miniconda3/envs/mip/lib/python3.9/site-packages/pytorch_lightning/utilities/parsing.py:262: UserWarning: Attribute 'model' is an instance of `nn.Module` and is already saved during checkpointing. It is recommended to ignore them using `self.save_hyperparameters(ignore=['model'])`.\n",
      "  rank_zero_warn(\n"
     ]
    }
   ],
   "source": [
    "best = ModelLightning.load_from_checkpoint(cb.best_model_path)"
   ]
  },
  {
   "cell_type": "code",
   "execution_count": 67,
   "id": "b5343217",
   "metadata": {},
   "outputs": [
    {
     "name": "stderr",
     "output_type": "stream",
     "text": [
      "LOCAL_RANK: 0 - CUDA_VISIBLE_DEVICES: [0,1,2,3]\n"
     ]
    },
    {
     "data": {
      "application/vnd.jupyter.widget-view+json": {
       "model_id": "c43e6527ca91492bb767d801b1491fb3",
       "version_major": 2,
       "version_minor": 0
      },
      "text/plain": [
       "Predicting: 27it [00:00, ?it/s]"
      ]
     },
     "metadata": {},
     "output_type": "display_data"
    }
   ],
   "source": [
    "result = trainer.predict(best, dataloaders=pred_dl)"
   ]
  },
  {
   "cell_type": "code",
   "execution_count": 68,
   "id": "5cafc2e8",
   "metadata": {},
   "outputs": [
    {
     "data": {
      "text/plain": [
       "torch.Size([8299, 3])"
      ]
     },
     "execution_count": 68,
     "metadata": {},
     "output_type": "execute_result"
    }
   ],
   "source": [
    "probs = result[0]\n",
    "for x in result[1:]:\n",
    "    probs = torch.concat((probs, x), dim=0)\n",
    "probs.shape"
   ]
  },
  {
   "cell_type": "code",
   "execution_count": 69,
   "id": "fa3b15cd",
   "metadata": {},
   "outputs": [
    {
     "data": {
      "text/html": [
       "<div>\n",
       "<style scoped>\n",
       "    .dataframe tbody tr th:only-of-type {\n",
       "        vertical-align: middle;\n",
       "    }\n",
       "\n",
       "    .dataframe tbody tr th {\n",
       "        vertical-align: top;\n",
       "    }\n",
       "\n",
       "    .dataframe thead th {\n",
       "        text-align: right;\n",
       "    }\n",
       "</style>\n",
       "<table border=\"1\" class=\"dataframe\">\n",
       "  <thead>\n",
       "    <tr style=\"text-align: right;\">\n",
       "      <th></th>\n",
       "      <th>dcis</th>\n",
       "      <th>idc</th>\n",
       "      <th>normal</th>\n",
       "    </tr>\n",
       "    <tr>\n",
       "      <th>region_id</th>\n",
       "      <th></th>\n",
       "      <th></th>\n",
       "      <th></th>\n",
       "    </tr>\n",
       "  </thead>\n",
       "  <tbody>\n",
       "    <tr>\n",
       "      <th>HT397B1-H3A1_516</th>\n",
       "      <td>0.000235</td>\n",
       "      <td>0.000154</td>\n",
       "      <td>0.999610</td>\n",
       "    </tr>\n",
       "    <tr>\n",
       "      <th>HT206B1-H1_85</th>\n",
       "      <td>0.000054</td>\n",
       "      <td>0.999938</td>\n",
       "      <td>0.000008</td>\n",
       "    </tr>\n",
       "    <tr>\n",
       "      <th>HT323B1-H1A4_1341</th>\n",
       "      <td>0.008480</td>\n",
       "      <td>0.988422</td>\n",
       "      <td>0.003098</td>\n",
       "    </tr>\n",
       "    <tr>\n",
       "      <th>HT323B1-H1A4_938</th>\n",
       "      <td>0.000278</td>\n",
       "      <td>0.000183</td>\n",
       "      <td>0.999539</td>\n",
       "    </tr>\n",
       "    <tr>\n",
       "      <th>HT323B1-H1A1_803</th>\n",
       "      <td>0.050103</td>\n",
       "      <td>0.935101</td>\n",
       "      <td>0.014795</td>\n",
       "    </tr>\n",
       "    <tr>\n",
       "      <th>...</th>\n",
       "      <td>...</td>\n",
       "      <td>...</td>\n",
       "      <td>...</td>\n",
       "    </tr>\n",
       "    <tr>\n",
       "      <th>HT206B1_H1_06252022_317</th>\n",
       "      <td>0.001995</td>\n",
       "      <td>0.997492</td>\n",
       "      <td>0.000512</td>\n",
       "    </tr>\n",
       "    <tr>\n",
       "      <th>HT323B1-H1A1_1781</th>\n",
       "      <td>0.003362</td>\n",
       "      <td>0.995732</td>\n",
       "      <td>0.000905</td>\n",
       "    </tr>\n",
       "    <tr>\n",
       "      <th>HT323B1-H1A1_1585</th>\n",
       "      <td>0.052838</td>\n",
       "      <td>0.041085</td>\n",
       "      <td>0.906077</td>\n",
       "    </tr>\n",
       "    <tr>\n",
       "      <th>HT397B1-H3A1_132</th>\n",
       "      <td>0.807532</td>\n",
       "      <td>0.173619</td>\n",
       "      <td>0.018849</td>\n",
       "    </tr>\n",
       "    <tr>\n",
       "      <th>HT397B1-H3A1_809</th>\n",
       "      <td>0.001205</td>\n",
       "      <td>0.998515</td>\n",
       "      <td>0.000280</td>\n",
       "    </tr>\n",
       "  </tbody>\n",
       "</table>\n",
       "<p>8299 rows × 3 columns</p>\n",
       "</div>"
      ],
      "text/plain": [
       "                             dcis       idc    normal\n",
       "region_id                                            \n",
       "HT397B1-H3A1_516         0.000235  0.000154  0.999610\n",
       "HT206B1-H1_85            0.000054  0.999938  0.000008\n",
       "HT323B1-H1A4_1341        0.008480  0.988422  0.003098\n",
       "HT323B1-H1A4_938         0.000278  0.000183  0.999539\n",
       "HT323B1-H1A1_803         0.050103  0.935101  0.014795\n",
       "...                           ...       ...       ...\n",
       "HT206B1_H1_06252022_317  0.001995  0.997492  0.000512\n",
       "HT323B1-H1A1_1781        0.003362  0.995732  0.000905\n",
       "HT323B1-H1A1_1585        0.052838  0.041085  0.906077\n",
       "HT397B1-H3A1_132         0.807532  0.173619  0.018849\n",
       "HT397B1-H3A1_809         0.001205  0.998515  0.000280\n",
       "\n",
       "[8299 rows x 3 columns]"
      ]
     },
     "execution_count": 69,
     "metadata": {},
     "output_type": "execute_result"
    }
   ],
   "source": [
    "df = pd.DataFrame(data=probs.detach().cpu().numpy(), columns=train_ds.idx_to_label, index=pred_ds.idx_to_region)\n",
    "df.index.name = 'region_id'\n",
    "df"
   ]
  },
  {
   "cell_type": "code",
   "execution_count": 70,
   "id": "99f2297d",
   "metadata": {},
   "outputs": [],
   "source": [
    "df.to_csv('/data/estorrs/multiplex_data/analysis/dcis_region_analysis/classifier_v1/results/probs.txt', sep='\\t')"
   ]
  },
  {
   "cell_type": "code",
   "execution_count": null,
   "id": "1d16c888",
   "metadata": {},
   "outputs": [],
   "source": []
  }
 ],
 "metadata": {
  "kernelspec": {
   "display_name": "Python 3 (ipykernel)",
   "language": "python",
   "name": "python3"
  },
  "language_info": {
   "codemirror_mode": {
    "name": "ipython",
    "version": 3
   },
   "file_extension": ".py",
   "mimetype": "text/x-python",
   "name": "python",
   "nbconvert_exporter": "python",
   "pygments_lexer": "ipython3",
   "version": "3.9.16"
  }
 },
 "nbformat": 4,
 "nbformat_minor": 5
}
