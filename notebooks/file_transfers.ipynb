{
 "cells": [
  {
   "cell_type": "code",
   "execution_count": 1,
   "id": "80fa4259",
   "metadata": {},
   "outputs": [],
   "source": [
    "import os\n",
    "import re\n",
    "import subprocess\n",
    "\n",
    "import pandas as pd\n",
    "\n",
    "from mgitools.os_helpers import listfiles"
   ]
  },
  {
   "cell_type": "code",
   "execution_count": 2,
   "id": "b612cb82",
   "metadata": {
    "scrolled": true
   },
   "outputs": [
    {
     "data": {
      "text/plain": [
       "['/diskmnt/Projects/Users/estorrs/multiplex_data/codex/htan/brca/021323_BRCA_HT365B1_S1H1/level_2/HT365B1_S1H1.ome.tiff',\n",
       " '/diskmnt/Projects/Users/estorrs/multiplex_data/codex/htan/brca/021723_BCRA_HT271B1_S1H3A5/level_2/HT271B1_S1H3A5.ome.tiff',\n",
       " '/diskmnt/Projects/Users/estorrs/multiplex_data/codex/htan/brca/031623_BRCA_HT397B1-U2/level_2/HT397B1_U2_03162023.ome.tiff',\n",
       " '/diskmnt/Projects/Users/estorrs/multiplex_data/codex/htan/brca/03172023_BRCA_HT397B1-U12/level_2/HT397B1_U12_03172023.ome.tiff',\n",
       " '/diskmnt/Projects/Users/estorrs/multiplex_data/codex/htan/brca/040623_BRCA_HT397B1-U31/level_2/HT397B1_S1H1A3U31_04062023.ome.tiff',\n",
       " '/diskmnt/Projects/Users/estorrs/multiplex_data/codex/htan/brca/041223_BRCA_HT397B1-S1H3A1-U22/level_2/HT397B1_S1H1A3U22_04122023.ome.tiff',\n",
       " '/diskmnt/Projects/Users/estorrs/multiplex_data/codex/htan/brca/041923_BRCA_HT171B1-S1H9A1-4_top_HT243B1-S1H4A4_HT271B1-S1H6A5_HT308B1-S1H5A4_btm/level_2/HT171B1-S1H9A1-4_04192023.ome.tiff',\n",
       " '/diskmnt/Projects/Users/estorrs/multiplex_data/codex/htan/brca/041923_BRCA_HT171B1-S1H9A1-4_top_HT243B1-S1H4A4_HT271B1-S1H6A5_HT308B1-S1H5A4_btm/level_2/HT243B1-S1H4A4_04192023.ome.tiff',\n",
       " '/diskmnt/Projects/Users/estorrs/multiplex_data/codex/htan/brca/041923_BRCA_HT171B1-S1H9A1-4_top_HT243B1-S1H4A4_HT271B1-S1H6A5_HT308B1-S1H5A4_btm/level_2/HT271B1-S1H6A5_04192023.ome.tiff',\n",
       " '/diskmnt/Projects/Users/estorrs/multiplex_data/codex/htan/brca/041923_BRCA_HT171B1-S1H9A1-4_top_HT243B1-S1H4A4_HT271B1-S1H6A5_HT308B1-S1H5A4_btm/level_2/HT308B1-S1H5A4_04192023.ome.tiff',\n",
       " '/diskmnt/Projects/Users/estorrs/multiplex_data/codex/htan/brca/042623_MULTIPLE_HTAN_HT413C1-K2_TOP_HT339B2-H1_HT553P1-H2_HT565B1-H2_BTM/level_2/HT339B2-H1_04262023.ome.tiff',\n",
       " '/diskmnt/Projects/Users/estorrs/multiplex_data/codex/htan/brca/042623_MULTIPLE_HTAN_HT413C1-K2_TOP_HT339B2-H1_HT553P1-H2_HT565B1-H2_BTM/level_2/HT413C1-K2_04262023.ome.tiff',\n",
       " '/diskmnt/Projects/Users/estorrs/multiplex_data/codex/htan/brca/042623_MULTIPLE_HTAN_HT413C1-K2_TOP_HT339B2-H1_HT553P1-H2_HT565B1-H2_BTM/level_2/HT553P1-H2_04262023.ome.tiff',\n",
       " '/diskmnt/Projects/Users/estorrs/multiplex_data/codex/htan/brca/042623_MULTIPLE_HTAN_HT413C1-K2_TOP_HT339B2-H1_HT553P1-H2_HT565B1-H2_BTM/level_2/HT565B1-H2_04262023.ome.tiff',\n",
       " '/diskmnt/Projects/Users/estorrs/multiplex_data/codex/htan/brca/051223_BRCA_HT171B1-S1H9A1-4_TOP_HT243B1-S1H4A4_HT271B1-S1H6A5_HT308B1-S1H5A4/level_2/HT171B1-S1H9A1-4_left_05122023.ome.tiff',\n",
       " '/diskmnt/Projects/Users/estorrs/multiplex_data/codex/htan/brca/051223_BRCA_HT171B1-S1H9A1-4_TOP_HT243B1-S1H4A4_HT271B1-S1H6A5_HT308B1-S1H5A4/level_2/HT171B1-S1H9A1-4_right_05122023.ome.tiff',\n",
       " '/diskmnt/Projects/Users/estorrs/multiplex_data/codex/htan/brca/051223_BRCA_HT171B1-S1H9A1-4_TOP_HT243B1-S1H4A4_HT271B1-S1H6A5_HT308B1-S1H5A4/level_2/HT243B1-S1H4A4_left_05122023.ome.tiff',\n",
       " '/diskmnt/Projects/Users/estorrs/multiplex_data/codex/htan/brca/051223_BRCA_HT171B1-S1H9A1-4_TOP_HT243B1-S1H4A4_HT271B1-S1H6A5_HT308B1-S1H5A4/level_2/HT243B1-S1H4A4_right_05122023.ome.tiff',\n",
       " '/diskmnt/Projects/Users/estorrs/multiplex_data/codex/htan/brca/051223_BRCA_HT171B1-S1H9A1-4_TOP_HT243B1-S1H4A4_HT271B1-S1H6A5_HT308B1-S1H5A4/level_2/HT271B1-S1H6A5_left_05122023.ome.tiff',\n",
       " '/diskmnt/Projects/Users/estorrs/multiplex_data/codex/htan/brca/051223_BRCA_HT171B1-S1H9A1-4_TOP_HT243B1-S1H4A4_HT271B1-S1H6A5_HT308B1-S1H5A4/level_2/HT271B1-S1H6A5_right_05122023.ome.tiff',\n",
       " '/diskmnt/Projects/Users/estorrs/multiplex_data/codex/htan/brca/051223_BRCA_HT171B1-S1H9A1-4_TOP_HT243B1-S1H4A4_HT271B1-S1H6A5_HT308B1-S1H5A4/level_2/HT308B1-S1H5A4_left_05122023.ome.tiff',\n",
       " '/diskmnt/Projects/Users/estorrs/multiplex_data/codex/htan/brca/051223_BRCA_HT171B1-S1H9A1-4_TOP_HT243B1-S1H4A4_HT271B1-S1H6A5_HT308B1-S1H5A4/level_2/HT308B1-S1H5A4_right_05122023.ome.tiff',\n",
       " '/diskmnt/Projects/Users/estorrs/multiplex_data/codex/htan/brca/052623_HT171B1-S1H9A1-A4_top_HT243B1-S1H4A4_HT271B1-S1H6A5_HT308B1-S1H5A4_btm/level_2/HT171B1-S1H9A1-A4_left_05262023.ome.tiff',\n",
       " '/diskmnt/Projects/Users/estorrs/multiplex_data/codex/htan/brca/052623_HT171B1-S1H9A1-A4_top_HT243B1-S1H4A4_HT271B1-S1H6A5_HT308B1-S1H5A4_btm/level_2/HT171B1-S1H9A1-A4_right_05262023.ome.tiff',\n",
       " '/diskmnt/Projects/Users/estorrs/multiplex_data/codex/htan/brca/052623_HT171B1-S1H9A1-A4_top_HT243B1-S1H4A4_HT271B1-S1H6A5_HT308B1-S1H5A4_btm/level_2/HT243B1-S1H4A4_left_05262023.ome.tiff',\n",
       " '/diskmnt/Projects/Users/estorrs/multiplex_data/codex/htan/brca/052623_HT171B1-S1H9A1-A4_top_HT243B1-S1H4A4_HT271B1-S1H6A5_HT308B1-S1H5A4_btm/level_2/HT243B1-S1H4A4_right_05262023.ome.tiff',\n",
       " '/diskmnt/Projects/Users/estorrs/multiplex_data/codex/htan/brca/052623_HT171B1-S1H9A1-A4_top_HT243B1-S1H4A4_HT271B1-S1H6A5_HT308B1-S1H5A4_btm/level_2/HT271B1-S1H6A5_left_05262023.ome.tiff',\n",
       " '/diskmnt/Projects/Users/estorrs/multiplex_data/codex/htan/brca/052623_HT171B1-S1H9A1-A4_top_HT243B1-S1H4A4_HT271B1-S1H6A5_HT308B1-S1H5A4_btm/level_2/HT271B1-S1H6A5_mid_05262023.ome.tiff',\n",
       " '/diskmnt/Projects/Users/estorrs/multiplex_data/codex/htan/brca/052623_HT171B1-S1H9A1-A4_top_HT243B1-S1H4A4_HT271B1-S1H6A5_HT308B1-S1H5A4_btm/level_2/HT271B1-S1H6A5_right_05262023.ome.tiff',\n",
       " '/diskmnt/Projects/Users/estorrs/multiplex_data/codex/htan/brca/052623_HT171B1-S1H9A1-A4_top_HT243B1-S1H4A4_HT271B1-S1H6A5_HT308B1-S1H5A4_btm/level_2/HT308B1-S1H5A4_left_05262023.ome.tiff',\n",
       " '/diskmnt/Projects/Users/estorrs/multiplex_data/codex/htan/brca/052623_HT171B1-S1H9A1-A4_top_HT243B1-S1H4A4_HT271B1-S1H6A5_HT308B1-S1H5A4_btm/level_2/HT308B1-S1H5A4_right_05262023.ome.tiff',\n",
       " '/diskmnt/Projects/Users/estorrs/multiplex_data/codex/htan/brca/06052023_MMTV/level_2/MMTV_PYV1_12wk_06052023.ome.tiff',\n",
       " '/diskmnt/Projects/Users/estorrs/multiplex_data/codex/htan/brca/06052023_MMTV/level_2/MMTV_PYV1_15wk_06052023.ome.tiff',\n",
       " '/diskmnt/Projects/Users/estorrs/multiplex_data/codex/htan/brca/06052023_MMTV/level_2/MMTV_PYV1_3wk_06052023.ome.tiff',\n",
       " '/diskmnt/Projects/Users/estorrs/multiplex_data/codex/htan/brca/06052023_MMTV/level_2/MMTV_PYV1_6wk_06052023.ome.tiff',\n",
       " '/diskmnt/Projects/Users/estorrs/multiplex_data/codex/htan/brca/06062023_GBM_HS-18-6934-2A_TOP_HS-19-14816-1J_BTM/level_2/HS-18-6934-2A_06062023.ome.tiff',\n",
       " '/diskmnt/Projects/Users/estorrs/multiplex_data/codex/htan/brca/06062023_GBM_HS-18-6934-2A_TOP_HS-19-14816-1J_BTM/level_2/HS-19-14816-1J_06062023.ome.tiff',\n",
       " '/diskmnt/Projects/Users/estorrs/multiplex_data/codex/htan/brca/06102023_HS-18-11250-1B_TOP_HS-19-6647-1B_BTM/level_2/HS-18-11250-1B_06102023.ome.tiff',\n",
       " '/diskmnt/Projects/Users/estorrs/multiplex_data/codex/htan/brca/06102023_HS-18-11250-1B_TOP_HS-19-6647-1B_BTM/level_2/HS-19-6647-1B_06102023.ome.tiff',\n",
       " '/diskmnt/Projects/Users/estorrs/multiplex_data/codex/htan/brca/20221118_BRCA_HT271B1_S1H3A5_HT171B1_S1H1A1-A4/level_2/HT171B1-S1H1A1.ome.tiff',\n",
       " '/diskmnt/Projects/Users/estorrs/multiplex_data/codex/htan/brca/20221118_BRCA_HT271B1_S1H3A5_HT171B1_S1H1A1-A4/level_2/HT171B1-S1H1A4.ome.tiff',\n",
       " '/diskmnt/Projects/Users/estorrs/multiplex_data/codex/htan/brca/20221118_BRCA_HT271B1_S1H3A5_HT171B1_S1H1A1-A4/level_2/HT271B1-S1H3A5.ome.tiff',\n",
       " '/diskmnt/Projects/Users/estorrs/multiplex_data/codex/htan/brca/20221122_BRCA_HT171B1_S1H1A1/level_2/HT171B1_S1H8A1_20221122.ome.tiff',\n",
       " '/diskmnt/Projects/Users/estorrs/multiplex_data/codex/htan/brca/20221202_BRCA_HT271B1_S1H3A5_HT171B1_S1H1A1-A4/level_2/HT171B1_S1H1A1.ome.tiff',\n",
       " '/diskmnt/Projects/Users/estorrs/multiplex_data/codex/htan/brca/20221202_BRCA_HT271B1_S1H3A5_HT171B1_S1H1A1-A4/level_2/HT171B1_S1H1A4.ome.tiff',\n",
       " '/diskmnt/Projects/Users/estorrs/multiplex_data/codex/htan/brca/20221202_BRCA_HT271B1_S1H3A5_HT171B1_S1H1A1-A4/level_2/HT271B1_S1H3A5.ome.tiff',\n",
       " '/diskmnt/Projects/Users/estorrs/multiplex_data/codex/htan/brca/20221205_BRCA_HT171B1_S1H1A4/level_2/HT171B1_20221205.ome.tiff',\n",
       " '/diskmnt/Projects/Users/estorrs/multiplex_data/codex/htan/brca/HT206B1-H1/level_2/HT206B1-H1.ome.tiff',\n",
       " '/diskmnt/Projects/Users/estorrs/multiplex_data/codex/htan/brca/HT206B1-S1H2L4_LRG_HT427P1_S1H1A3_SML_20221028/level_2/HT206B1_S1H2L4.ome.tiff',\n",
       " '/diskmnt/Projects/Users/estorrs/multiplex_data/codex/htan/brca/HT206B1-S1H2L4_LRG_HT427P1_S1H1A3_SML_20221028/level_2/HT427P1_S1H1A3.ome.tiff',\n",
       " '/diskmnt/Projects/Users/estorrs/multiplex_data/codex/htan/brca/HT206B1-S1H2L4_and_HT427P1_S1H1A3/level_2/HT206B1_S1H2L4.ome.tiff',\n",
       " '/diskmnt/Projects/Users/estorrs/multiplex_data/codex/htan/brca/HT206B1-S1H2L4_and_HT427P1_S1H1A3/level_2/HT427P1_S1H1A3.ome.tiff',\n",
       " '/diskmnt/Projects/Users/estorrs/multiplex_data/codex/htan/brca/HT206B1-S1H2L4_and_HT427P1_S1H1A3/level_2/stitched/HT206B1-S1H2L4_and_HT427P1_S1H1A3.ome.tiff',\n",
       " '/diskmnt/Projects/Users/estorrs/multiplex_data/codex/htan/brca/HT206B1_H1_06252022/level_2/HT206B1_H1_06252022.ome.tiff',\n",
       " '/diskmnt/Projects/Users/estorrs/multiplex_data/codex/htan/brca/HT243B1-S1H4_HT110B1-S1H4_HT305B1-S1H1/level_2/HT110B1-S1H4.ome.tiff',\n",
       " '/diskmnt/Projects/Users/estorrs/multiplex_data/codex/htan/brca/HT243B1-S1H4_HT110B1-S1H4_HT305B1-S1H1/level_2/HT243B1-S1H4.ome.tiff',\n",
       " '/diskmnt/Projects/Users/estorrs/multiplex_data/codex/htan/brca/HT243B1-S1H4_HT110B1-S1H4_HT305B1-S1H1/level_2/HT305B1-S1H1.ome.tiff',\n",
       " '/diskmnt/Projects/Users/estorrs/multiplex_data/codex/htan/brca/HT297B1-H1-08042022/level_2/HT297B1-H1-08042022.ome.tiff',\n",
       " '/diskmnt/Projects/Users/estorrs/multiplex_data/codex/htan/brca/HT323B1-H1-08042022/level_2/HT323B1-H1-08042022.ome.tiff',\n",
       " '/diskmnt/Projects/Users/estorrs/multiplex_data/codex/htan/brca/HT323B1-H1A1/level_2/HT323B1-H1A1.ome.tiff',\n",
       " '/diskmnt/Projects/Users/estorrs/multiplex_data/codex/htan/brca/HT323B1-H1A4/level_2/HT323B1-H1A4.ome.tiff',\n",
       " '/diskmnt/Projects/Users/estorrs/multiplex_data/codex/htan/brca/HT323B1-H3/level_2/HT323B1-H3.ome.tiff',\n",
       " '/diskmnt/Projects/Users/estorrs/multiplex_data/codex/htan/brca/HT339B1-H1A1/level_2/HT339B1-H1A1.ome.tiff',\n",
       " '/diskmnt/Projects/Users/estorrs/multiplex_data/codex/htan/brca/HT339B1-H2A1/level_2/HT339B1-H2A1.ome.tiff',\n",
       " '/diskmnt/Projects/Users/estorrs/multiplex_data/codex/htan/brca/HT339B1-H4A4/level_2/HT339B1-H4A4.ome.tiff',\n",
       " '/diskmnt/Projects/Users/estorrs/multiplex_data/codex/htan/brca/HT397B1-H2A2/level_2/HT397B1-H2A2.ome.tiff',\n",
       " '/diskmnt/Projects/Users/estorrs/multiplex_data/codex/htan/brca/HT397B1-H3A1/level_2/HT397B1-H3A1.ome.tiff',\n",
       " '/diskmnt/Projects/Users/estorrs/multiplex_data/codex/htan/brca/HT480B1-S1H2_reg001/level_2/HT480B1-S1H2-R001.ome.tiff',\n",
       " '/diskmnt/Projects/Users/estorrs/multiplex_data/codex/htan/brca/HT480B1-S1H2_reg002/level_2/HT480B1-S1H2-R002.ome.tiff',\n",
       " '/diskmnt/Projects/Users/estorrs/multiplex_data/codex/htan/brca/Marrow_179_FormicAcid_EDTA_HT206B1_Ctrl/level_2/HT206B1_Ctrl.ome.tiff',\n",
       " '/diskmnt/Projects/Users/estorrs/multiplex_data/codex/htan/brca/MouseMarrow-179_BRCA-HT308B1/level_2/HT308B1.ome.tiff',\n",
       " '/diskmnt/Projects/Users/estorrs/multiplex_data/codex/htan/brca/test/level_2/test.ome.tiff']"
      ]
     },
     "execution_count": 2,
     "metadata": {},
     "output_type": "execute_result"
    }
   ],
   "source": [
    "fps = sorted(listfiles('/diskmnt/Projects/Users/estorrs/multiplex_data/codex/htan/', regex=r'brca/.*level_2/[^/]+.*ome.tiff$'))\n",
    "fps"
   ]
  },
  {
   "cell_type": "code",
   "execution_count": 3,
   "id": "f8ece8fe",
   "metadata": {},
   "outputs": [],
   "source": [
    "fps = [\n",
    " '/diskmnt/Projects/Users/estorrs/multiplex_data/codex/htan/brca/052623_HT171B1-S1H9A1-A4_top_HT243B1-S1H4A4_HT271B1-S1H6A5_HT308B1-S1H5A4_btm/level_2/HT171B1-S1H9A1-A4_left_05262023.ome.tiff',\n",
    " '/diskmnt/Projects/Users/estorrs/multiplex_data/codex/htan/brca/052623_HT171B1-S1H9A1-A4_top_HT243B1-S1H4A4_HT271B1-S1H6A5_HT308B1-S1H5A4_btm/level_2/HT171B1-S1H9A1-A4_right_05262023.ome.tiff',\n",
    " '/diskmnt/Projects/Users/estorrs/multiplex_data/codex/htan/brca/052623_HT171B1-S1H9A1-A4_top_HT243B1-S1H4A4_HT271B1-S1H6A5_HT308B1-S1H5A4_btm/level_2/HT243B1-S1H4A4_left_05262023.ome.tiff',\n",
    " '/diskmnt/Projects/Users/estorrs/multiplex_data/codex/htan/brca/052623_HT171B1-S1H9A1-A4_top_HT243B1-S1H4A4_HT271B1-S1H6A5_HT308B1-S1H5A4_btm/level_2/HT243B1-S1H4A4_right_05262023.ome.tiff',\n",
    " '/diskmnt/Projects/Users/estorrs/multiplex_data/codex/htan/brca/052623_HT171B1-S1H9A1-A4_top_HT243B1-S1H4A4_HT271B1-S1H6A5_HT308B1-S1H5A4_btm/level_2/HT271B1-S1H6A5_left_05262023.ome.tiff',\n",
    " '/diskmnt/Projects/Users/estorrs/multiplex_data/codex/htan/brca/052623_HT171B1-S1H9A1-A4_top_HT243B1-S1H4A4_HT271B1-S1H6A5_HT308B1-S1H5A4_btm/level_2/HT271B1-S1H6A5_mid_05262023.ome.tiff',\n",
    " '/diskmnt/Projects/Users/estorrs/multiplex_data/codex/htan/brca/052623_HT171B1-S1H9A1-A4_top_HT243B1-S1H4A4_HT271B1-S1H6A5_HT308B1-S1H5A4_btm/level_2/HT271B1-S1H6A5_right_05262023.ome.tiff',\n",
    " '/diskmnt/Projects/Users/estorrs/multiplex_data/codex/htan/brca/052623_HT171B1-S1H9A1-A4_top_HT243B1-S1H4A4_HT271B1-S1H6A5_HT308B1-S1H5A4_btm/level_2/HT308B1-S1H5A4_left_05262023.ome.tiff',\n",
    " '/diskmnt/Projects/Users/estorrs/multiplex_data/codex/htan/brca/052623_HT171B1-S1H9A1-A4_top_HT243B1-S1H4A4_HT271B1-S1H6A5_HT308B1-S1H5A4_btm/level_2/HT308B1-S1H5A4_right_05262023.ome.tiff',\n",
    " '/diskmnt/Projects/Users/estorrs/multiplex_data/codex/htan/brca/06062023_GBM_HS-18-6934-2A_TOP_HS-19-14816-1J_BTM/level_2/HS-18-6934-2A_06062023.ome.tiff',\n",
    " '/diskmnt/Projects/Users/estorrs/multiplex_data/codex/htan/brca/06062023_GBM_HS-18-6934-2A_TOP_HS-19-14816-1J_BTM/level_2/HS-19-14816-1J_06062023.ome.tiff',\n",
    " '/diskmnt/Projects/Users/estorrs/multiplex_data/codex/htan/brca/06102023_HS-18-11250-1B_TOP_HS-19-6647-1B_BTM/level_2/HS-18-11250-1B_06102023.ome.tiff',\n",
    " '/diskmnt/Projects/Users/estorrs/multiplex_data/codex/htan/brca/06102023_HS-18-11250-1B_TOP_HS-19-6647-1B_BTM/level_2/HS-19-6647-1B_06102023.ome.tiff',\n",
    "]"
   ]
  },
  {
   "cell_type": "code",
   "execution_count": 53,
   "id": "f111d4e5",
   "metadata": {},
   "outputs": [
    {
     "data": {
      "text/plain": [
       "['/diskmnt/Projects/Users/estorrs/multiplex_data/codex/htan/bm/041523_BM_SN002_SN056_SN024/level_2/SN002_left_04152023.ome.tiff',\n",
       " '/diskmnt/Projects/Users/estorrs/multiplex_data/codex/htan/bm/041523_BM_SN002_SN056_SN024/level_2/SN002_right_04152023.ome.tiff',\n",
       " '/diskmnt/Projects/Users/estorrs/multiplex_data/codex/htan/bm/041523_BM_SN002_SN056_SN024/level_2/SN024_left_04152023.ome.tiff',\n",
       " '/diskmnt/Projects/Users/estorrs/multiplex_data/codex/htan/bm/041523_BM_SN002_SN056_SN024/level_2/SN024_right_04152023.ome.tiff',\n",
       " '/diskmnt/Projects/Users/estorrs/multiplex_data/codex/htan/bm/041523_BM_SN002_SN056_SN024/level_2/SN056_left_04152023.ome.tiff',\n",
       " '/diskmnt/Projects/Users/estorrs/multiplex_data/codex/htan/bm/041523_BM_SN002_SN056_SN024/level_2/SN056_right_04152023.ome.tiff',\n",
       " '/diskmnt/Projects/Users/estorrs/multiplex_data/codex/htan/bm/20230114_BoneMarrow_SN002_SN050/level_2/SN002_SN050.ome.tiff',\n",
       " '/diskmnt/Projects/Users/estorrs/multiplex_data/codex/htan/brca/021323_BRCA_HT365B1_S1H1/level_2/HT365B1_S1H1.ome.tiff',\n",
       " '/diskmnt/Projects/Users/estorrs/multiplex_data/codex/htan/brca/021723_BCRA_HT271B1_S1H3A5/level_2/HT271B1_S1H3A5.ome.tiff',\n",
       " '/diskmnt/Projects/Users/estorrs/multiplex_data/codex/htan/brca/031623_BRCA_HT397B1-U2/level_2/HT397B1_U2_03162023.ome.tiff',\n",
       " '/diskmnt/Projects/Users/estorrs/multiplex_data/codex/htan/brca/03172023_BRCA_HT397B1-U12/level_2/HT397B1_U12_03172023.ome.tiff',\n",
       " '/diskmnt/Projects/Users/estorrs/multiplex_data/codex/htan/brca/040623_BRCA_HT397B1-U31/level_2/HT397B1_S1H1A3U31_04062023.ome.tiff',\n",
       " '/diskmnt/Projects/Users/estorrs/multiplex_data/codex/htan/brca/041223_BRCA_HT397B1-S1H3A1-U22/level_2/HT397B1_S1H1A3U22_04122023.ome.tiff',\n",
       " '/diskmnt/Projects/Users/estorrs/multiplex_data/codex/htan/brca/041923_BRCA_HT171B1-S1H9A1-4_top_HT243B1-S1H4A4_HT271B1-S1H6A5_HT308B1-S1H5A4_btm/level_2/HT171B1-S1H9A1-4_04192023.ome.tiff',\n",
       " '/diskmnt/Projects/Users/estorrs/multiplex_data/codex/htan/brca/041923_BRCA_HT171B1-S1H9A1-4_top_HT243B1-S1H4A4_HT271B1-S1H6A5_HT308B1-S1H5A4_btm/level_2/HT243B1-S1H4A4_04192023.ome.tiff',\n",
       " '/diskmnt/Projects/Users/estorrs/multiplex_data/codex/htan/brca/041923_BRCA_HT171B1-S1H9A1-4_top_HT243B1-S1H4A4_HT271B1-S1H6A5_HT308B1-S1H5A4_btm/level_2/HT271B1-S1H6A5_04192023.ome.tiff',\n",
       " '/diskmnt/Projects/Users/estorrs/multiplex_data/codex/htan/brca/041923_BRCA_HT171B1-S1H9A1-4_top_HT243B1-S1H4A4_HT271B1-S1H6A5_HT308B1-S1H5A4_btm/level_2/HT308B1-S1H5A4_04192023.ome.tiff',\n",
       " '/diskmnt/Projects/Users/estorrs/multiplex_data/codex/htan/brca/042623_MULTIPLE_HTAN_HT413C1-K2_TOP_HT339B2-H1_HT553P1-H2_HT565B1-H2_BTM/level_2/HT339B2-H1_04262023.ome.tiff',\n",
       " '/diskmnt/Projects/Users/estorrs/multiplex_data/codex/htan/brca/042623_MULTIPLE_HTAN_HT413C1-K2_TOP_HT339B2-H1_HT553P1-H2_HT565B1-H2_BTM/level_2/HT413C1-K2_04262023.ome.tiff',\n",
       " '/diskmnt/Projects/Users/estorrs/multiplex_data/codex/htan/brca/042623_MULTIPLE_HTAN_HT413C1-K2_TOP_HT339B2-H1_HT553P1-H2_HT565B1-H2_BTM/level_2/HT553P1-H2_04262023.ome.tiff',\n",
       " '/diskmnt/Projects/Users/estorrs/multiplex_data/codex/htan/brca/042623_MULTIPLE_HTAN_HT413C1-K2_TOP_HT339B2-H1_HT553P1-H2_HT565B1-H2_BTM/level_2/HT565B1-H2_04262023.ome.tiff',\n",
       " '/diskmnt/Projects/Users/estorrs/multiplex_data/codex/htan/brca/051223_BRCA_HT171B1-S1H9A1-4_TOP_HT243B1-S1H4A4_HT271B1-S1H6A5_HT308B1-S1H5A4/level_2/HT171B1-S1H9A1-4_left_05122023.ome.tiff',\n",
       " '/diskmnt/Projects/Users/estorrs/multiplex_data/codex/htan/brca/051223_BRCA_HT171B1-S1H9A1-4_TOP_HT243B1-S1H4A4_HT271B1-S1H6A5_HT308B1-S1H5A4/level_2/HT171B1-S1H9A1-4_right_05122023.ome.tiff',\n",
       " '/diskmnt/Projects/Users/estorrs/multiplex_data/codex/htan/brca/051223_BRCA_HT171B1-S1H9A1-4_TOP_HT243B1-S1H4A4_HT271B1-S1H6A5_HT308B1-S1H5A4/level_2/HT243B1-S1H4A4_left_05122023.ome.tiff',\n",
       " '/diskmnt/Projects/Users/estorrs/multiplex_data/codex/htan/brca/051223_BRCA_HT171B1-S1H9A1-4_TOP_HT243B1-S1H4A4_HT271B1-S1H6A5_HT308B1-S1H5A4/level_2/HT243B1-S1H4A4_right_05122023.ome.tiff',\n",
       " '/diskmnt/Projects/Users/estorrs/multiplex_data/codex/htan/brca/051223_BRCA_HT171B1-S1H9A1-4_TOP_HT243B1-S1H4A4_HT271B1-S1H6A5_HT308B1-S1H5A4/level_2/HT271B1-S1H6A5_left_05122023.ome.tiff',\n",
       " '/diskmnt/Projects/Users/estorrs/multiplex_data/codex/htan/brca/051223_BRCA_HT171B1-S1H9A1-4_TOP_HT243B1-S1H4A4_HT271B1-S1H6A5_HT308B1-S1H5A4/level_2/HT271B1-S1H6A5_right_05122023.ome.tiff',\n",
       " '/diskmnt/Projects/Users/estorrs/multiplex_data/codex/htan/brca/051223_BRCA_HT171B1-S1H9A1-4_TOP_HT243B1-S1H4A4_HT271B1-S1H6A5_HT308B1-S1H5A4/level_2/HT308B1-S1H5A4_left_05122023.ome.tiff',\n",
       " '/diskmnt/Projects/Users/estorrs/multiplex_data/codex/htan/brca/051223_BRCA_HT171B1-S1H9A1-4_TOP_HT243B1-S1H4A4_HT271B1-S1H6A5_HT308B1-S1H5A4/level_2/HT308B1-S1H5A4_right_05122023.ome.tiff',\n",
       " '/diskmnt/Projects/Users/estorrs/multiplex_data/codex/htan/brca/20221118_BRCA_HT271B1_S1H3A5_HT171B1_S1H1A1-A4/level_2/HT171B1-S1H1A1.ome.tiff',\n",
       " '/diskmnt/Projects/Users/estorrs/multiplex_data/codex/htan/brca/20221118_BRCA_HT271B1_S1H3A5_HT171B1_S1H1A1-A4/level_2/HT171B1-S1H1A4.ome.tiff',\n",
       " '/diskmnt/Projects/Users/estorrs/multiplex_data/codex/htan/brca/20221118_BRCA_HT271B1_S1H3A5_HT171B1_S1H1A1-A4/level_2/HT271B1-S1H3A5.ome.tiff',\n",
       " '/diskmnt/Projects/Users/estorrs/multiplex_data/codex/htan/brca/20221122_BRCA_HT171B1_S1H1A1/level_2/HT171B1_S1H8A1_20221122.ome.tiff',\n",
       " '/diskmnt/Projects/Users/estorrs/multiplex_data/codex/htan/brca/20221202_BRCA_HT271B1_S1H3A5_HT171B1_S1H1A1-A4/level_2/HT171B1_S1H1A1.ome.tiff',\n",
       " '/diskmnt/Projects/Users/estorrs/multiplex_data/codex/htan/brca/20221202_BRCA_HT271B1_S1H3A5_HT171B1_S1H1A1-A4/level_2/HT171B1_S1H1A4.ome.tiff',\n",
       " '/diskmnt/Projects/Users/estorrs/multiplex_data/codex/htan/brca/20221202_BRCA_HT271B1_S1H3A5_HT171B1_S1H1A1-A4/level_2/HT271B1_S1H3A5.ome.tiff',\n",
       " '/diskmnt/Projects/Users/estorrs/multiplex_data/codex/htan/brca/20221205_BRCA_HT171B1_S1H1A4/level_2/HT171B1_20221205.ome.tiff',\n",
       " '/diskmnt/Projects/Users/estorrs/multiplex_data/codex/htan/brca/HT206B1-H1/level_2/HT206B1-H1.ome.tiff',\n",
       " '/diskmnt/Projects/Users/estorrs/multiplex_data/codex/htan/brca/HT206B1-S1H2L4_LRG_HT427P1_S1H1A3_SML_20221028/level_2/HT206B1_S1H2L4.ome.tiff',\n",
       " '/diskmnt/Projects/Users/estorrs/multiplex_data/codex/htan/brca/HT206B1-S1H2L4_LRG_HT427P1_S1H1A3_SML_20221028/level_2/HT427P1_S1H1A3.ome.tiff',\n",
       " '/diskmnt/Projects/Users/estorrs/multiplex_data/codex/htan/brca/HT206B1-S1H2L4_and_HT427P1_S1H1A3/level_2/HT206B1_S1H2L4.ome.tiff',\n",
       " '/diskmnt/Projects/Users/estorrs/multiplex_data/codex/htan/brca/HT206B1-S1H2L4_and_HT427P1_S1H1A3/level_2/HT427P1_S1H1A3.ome.tiff',\n",
       " '/diskmnt/Projects/Users/estorrs/multiplex_data/codex/htan/brca/HT206B1-S1H2L4_and_HT427P1_S1H1A3/level_2/stitched/HT206B1-S1H2L4_and_HT427P1_S1H1A3.ome.tiff',\n",
       " '/diskmnt/Projects/Users/estorrs/multiplex_data/codex/htan/brca/HT206B1_H1_06252022/level_2/HT206B1_H1_06252022.ome.tiff',\n",
       " '/diskmnt/Projects/Users/estorrs/multiplex_data/codex/htan/brca/HT243B1-S1H4_HT110B1-S1H4_HT305B1-S1H1/level_2/HT110B1-S1H4.ome.tiff',\n",
       " '/diskmnt/Projects/Users/estorrs/multiplex_data/codex/htan/brca/HT243B1-S1H4_HT110B1-S1H4_HT305B1-S1H1/level_2/HT243B1-S1H4.ome.tiff',\n",
       " '/diskmnt/Projects/Users/estorrs/multiplex_data/codex/htan/brca/HT243B1-S1H4_HT110B1-S1H4_HT305B1-S1H1/level_2/HT305B1-S1H1.ome.tiff',\n",
       " '/diskmnt/Projects/Users/estorrs/multiplex_data/codex/htan/brca/HT297B1-H1-08042022/level_2/HT297B1-H1-08042022.ome.tiff',\n",
       " '/diskmnt/Projects/Users/estorrs/multiplex_data/codex/htan/brca/HT323B1-H1-08042022/level_2/HT323B1-H1-08042022.ome.tiff',\n",
       " '/diskmnt/Projects/Users/estorrs/multiplex_data/codex/htan/brca/HT323B1-H1A1/level_2/HT323B1-H1A1.ome.tiff',\n",
       " '/diskmnt/Projects/Users/estorrs/multiplex_data/codex/htan/brca/HT323B1-H1A4/level_2/HT323B1-H1A4.ome.tiff',\n",
       " '/diskmnt/Projects/Users/estorrs/multiplex_data/codex/htan/brca/HT323B1-H3/level_2/HT323B1-H3.ome.tiff',\n",
       " '/diskmnt/Projects/Users/estorrs/multiplex_data/codex/htan/brca/HT339B1-H1A1/level_2/HT339B1-H1A1.ome.tiff',\n",
       " '/diskmnt/Projects/Users/estorrs/multiplex_data/codex/htan/brca/HT339B1-H2A1/level_2/HT339B1-H2A1.ome.tiff',\n",
       " '/diskmnt/Projects/Users/estorrs/multiplex_data/codex/htan/brca/HT339B1-H4A4/level_2/HT339B1-H4A4.ome.tiff',\n",
       " '/diskmnt/Projects/Users/estorrs/multiplex_data/codex/htan/brca/HT397B1-H2A2/level_2/HT397B1-H2A2.ome.tiff',\n",
       " '/diskmnt/Projects/Users/estorrs/multiplex_data/codex/htan/brca/HT397B1-H3A1/level_2/HT397B1-H3A1.ome.tiff',\n",
       " '/diskmnt/Projects/Users/estorrs/multiplex_data/codex/htan/brca/HT480B1-S1H2_reg001/level_2/HT480B1-S1H2-R001.ome.tiff',\n",
       " '/diskmnt/Projects/Users/estorrs/multiplex_data/codex/htan/brca/HT480B1-S1H2_reg002/level_2/HT480B1-S1H2-R002.ome.tiff',\n",
       " '/diskmnt/Projects/Users/estorrs/multiplex_data/codex/htan/brca/Marrow_179_FormicAcid_EDTA_HT206B1_Ctrl/level_2/HT206B1_Ctrl.ome.tiff',\n",
       " '/diskmnt/Projects/Users/estorrs/multiplex_data/codex/htan/brca/MouseMarrow-179_BRCA-HT308B1/level_2/HT308B1.ome.tiff',\n",
       " '/diskmnt/Projects/Users/estorrs/multiplex_data/codex/htan/brca/test/level_2/test.ome.tiff',\n",
       " '/diskmnt/Projects/Users/estorrs/multiplex_data/codex/htan/crc/041323_CRC_HT488C1-Th1K1Fp1-U2/level_2/HT488C1-Th1K1Fp1-U2_041323.ome.tiff',\n",
       " '/diskmnt/Projects/Users/estorrs/multiplex_data/codex/htan/crc/041823_CRC_HT488C1-Th1K1Fp1-U14/level_2/HT488C1-Th1K1Fp1-U14_041823.ome.tiff',\n",
       " '/diskmnt/Projects/Users/estorrs/multiplex_data/codex/htan/crc/20230304_Liver_mCRC_SenNet_HT342C1_HT347C1/level_2/HT342C1_Th1K4A1_section1_03042022.ome.tiff',\n",
       " '/diskmnt/Projects/Users/estorrs/multiplex_data/codex/htan/crc/20230304_Liver_mCRC_SenNet_HT342C1_HT347C1/level_2/HT342C1_Th1K4A1_section2_03042022.ome.tiff',\n",
       " '/diskmnt/Projects/Users/estorrs/multiplex_data/codex/htan/crc/20230304_Liver_mCRC_SenNet_HT342C1_HT347C1/level_2/HT347C1_Th1K2A1_section1_03042022.ome.tiff',\n",
       " '/diskmnt/Projects/Users/estorrs/multiplex_data/codex/htan/crc/20230304_Liver_mCRC_SenNet_HT342C1_HT347C1/level_2/HT347C1_Th1K2A1_section2_03042022.ome.tiff',\n",
       " '/diskmnt/Projects/Users/estorrs/multiplex_data/codex/htan/crc/20230308_CRC_Primary_S15_1909_A3_Section3/level_2/S15_1909_A3_Section3_03082023.ome.tiff',\n",
       " '/diskmnt/Projects/Users/estorrs/multiplex_data/codex/htan/crc/20230309_CRC_Met_S15_1909_C2_Section3/level_2/S15_1909_C2_Section3_03092023.ome.tiff',\n",
       " '/diskmnt/Projects/Users/estorrs/multiplex_data/codex/htan/crc/CRC112/level_2/CRC112.ome.tiff',\n",
       " '/diskmnt/Projects/Users/estorrs/multiplex_data/codex/htan/liver/20230107_Liver_SN001H1/level_2/SN001H1.ome.tiff',\n",
       " '/diskmnt/Projects/Users/estorrs/multiplex_data/codex/htan/pdac/HT434P1-H1/level_2/HT434P1-H1.ome.tiff',\n",
       " '/diskmnt/Projects/Users/estorrs/multiplex_data/codex/htan/pdac/codex_processed_hu_pancreas_TrisEDTA/level_2/codex_processed_hu_pancreas_TrisEDTA_2020-10-08.ome.tiff',\n",
       " '/diskmnt/Projects/Users/estorrs/multiplex_data/codex/htan/pkd/01262023_PKD_K1301459/level_2/K1301459_3.ome.tiff',\n",
       " '/diskmnt/Projects/Users/estorrs/multiplex_data/codex/htan/pkd/01282023_PKD_K2200446_3PB/level_2/K2200446_3PB.ome.tiff',\n",
       " '/diskmnt/Projects/Users/estorrs/multiplex_data/codex/htan/pkd/02022023_PKD_K2200452_2PB/level_2/K2200452_2PB.ome.tiff',\n",
       " '/diskmnt/Projects/Users/estorrs/multiplex_data/codex/htan/pkd/02032023_PKD_K2200444_2PB/level_2/K2200444_2PB.ome.tiff',\n",
       " '/diskmnt/Projects/Users/estorrs/multiplex_data/codex/htan/pkd/02232023_PKD_mice_2_21d_2x38d/level_2/pkd_14519_38d_02232023.ome.tiff',\n",
       " '/diskmnt/Projects/Users/estorrs/multiplex_data/codex/htan/pkd/02232023_PKD_mice_2_21d_2x38d/level_2/pkd_14801_38d_02232023.ome.tiff',\n",
       " '/diskmnt/Projects/Users/estorrs/multiplex_data/codex/htan/pkd/02232023_PKD_mice_2_21d_2x38d/level_2/pkd_738_21d_02232023.ome.tiff',\n",
       " '/diskmnt/Projects/Users/estorrs/multiplex_data/codex/htan/pkd/02232023_PKD_mice_2_21d_2x38d/level_2/pkd_743_21d_02232023.ome.tiff',\n",
       " '/diskmnt/Projects/Users/estorrs/multiplex_data/codex/htan/pkd/031023_PKD_K2200487-2_TOP_K2200493-2_MID_K2200453-2_BTTM/level_2/K2200453_2_03012023.ome.tiff',\n",
       " '/diskmnt/Projects/Users/estorrs/multiplex_data/codex/htan/pkd/031023_PKD_K2200487-2_TOP_K2200493-2_MID_K2200453-2_BTTM/level_2/K2200487_2_03012023.ome.tiff',\n",
       " '/diskmnt/Projects/Users/estorrs/multiplex_data/codex/htan/pkd/031023_PKD_K2200487-2_TOP_K2200493-2_MID_K2200453-2_BTTM/level_2/K2200493_2_03012023.ome.tiff',\n",
       " '/diskmnt/Projects/Users/estorrs/multiplex_data/codex/htan/pkd/042023_PKD_K2200581-3_top_K2200591-2_mid_K2200609-2_btm/level_2/K2200581-3_04202023.ome.tiff',\n",
       " '/diskmnt/Projects/Users/estorrs/multiplex_data/codex/htan/pkd/042023_PKD_K2200581-3_top_K2200591-2_mid_K2200609-2_btm/level_2/K2200591-2_04202023.ome.tiff',\n",
       " '/diskmnt/Projects/Users/estorrs/multiplex_data/codex/htan/pkd/042023_PKD_K2200581-3_top_K2200591-2_mid_K2200609-2_btm/level_2/K2200609-2_04202023.ome.tiff',\n",
       " '/diskmnt/Projects/Users/estorrs/multiplex_data/codex/htan/pkd/042123_MousePKD_21d_TOP_28d_38d_38d_BTM/level_2/pkd_21d_04212023.ome.tiff',\n",
       " '/diskmnt/Projects/Users/estorrs/multiplex_data/codex/htan/pkd/042123_MousePKD_21d_TOP_28d_38d_38d_BTM/level_2/pkd_28d_04212023.ome.tiff',\n",
       " '/diskmnt/Projects/Users/estorrs/multiplex_data/codex/htan/pkd/042123_MousePKD_21d_TOP_28d_38d_38d_BTM/level_2/pkd_38d_s1_04212023.ome.tiff',\n",
       " '/diskmnt/Projects/Users/estorrs/multiplex_data/codex/htan/pkd/042123_MousePKD_21d_TOP_28d_38d_38d_BTM/level_2/pkd_38d_s2_04212023.ome.tiff',\n",
       " '/diskmnt/Projects/Users/estorrs/multiplex_data/codex/htan/pkd/042723_GUDMAP_E16.5_TOP_P1_P21_BTTM_MALE_LEFT_FEMALE_RIGHT/level_2/E16.5_female_section1_04272023.ome.tiff',\n",
       " '/diskmnt/Projects/Users/estorrs/multiplex_data/codex/htan/pkd/042723_GUDMAP_E16.5_TOP_P1_P21_BTTM_MALE_LEFT_FEMALE_RIGHT/level_2/E16.5_female_section2_04272023.ome.tiff',\n",
       " '/diskmnt/Projects/Users/estorrs/multiplex_data/codex/htan/pkd/042723_GUDMAP_E16.5_TOP_P1_P21_BTTM_MALE_LEFT_FEMALE_RIGHT/level_2/E16.5_male_section1_04272023.ome.tiff',\n",
       " '/diskmnt/Projects/Users/estorrs/multiplex_data/codex/htan/pkd/042723_GUDMAP_E16.5_TOP_P1_P21_BTTM_MALE_LEFT_FEMALE_RIGHT/level_2/E16.5_male_section2_04272023.ome.tiff',\n",
       " '/diskmnt/Projects/Users/estorrs/multiplex_data/codex/htan/pkd/042723_GUDMAP_E16.5_TOP_P1_P21_BTTM_MALE_LEFT_FEMALE_RIGHT/level_2/P1_female_section1_04272023.ome.tiff',\n",
       " '/diskmnt/Projects/Users/estorrs/multiplex_data/codex/htan/pkd/042723_GUDMAP_E16.5_TOP_P1_P21_BTTM_MALE_LEFT_FEMALE_RIGHT/level_2/P1_female_section2_04272023.ome.tiff',\n",
       " '/diskmnt/Projects/Users/estorrs/multiplex_data/codex/htan/pkd/042723_GUDMAP_E16.5_TOP_P1_P21_BTTM_MALE_LEFT_FEMALE_RIGHT/level_2/P1_male_section1_04272023.ome.tiff',\n",
       " '/diskmnt/Projects/Users/estorrs/multiplex_data/codex/htan/pkd/042723_GUDMAP_E16.5_TOP_P1_P21_BTTM_MALE_LEFT_FEMALE_RIGHT/level_2/P1_male_section2_04272023.ome.tiff',\n",
       " '/diskmnt/Projects/Users/estorrs/multiplex_data/codex/htan/pkd/042723_GUDMAP_E16.5_TOP_P1_P21_BTTM_MALE_LEFT_FEMALE_RIGHT/level_2/P21_male_04272023.ome.tiff',\n",
       " '/diskmnt/Projects/Users/estorrs/multiplex_data/codex/htan/pkd/042723_GUDMAP_E16.5_TOP_P1_P21_BTTM_MALE_LEFT_FEMALE_RIGHT/level_2/p21_female_04272023.ome.tiff',\n",
       " '/diskmnt/Projects/Users/estorrs/multiplex_data/codex/htan/pkd/20230120_PKD_K1301459_K200452_2PB_K2200446_4PB/level_2/20230120_PKD_K1301459.ome.tiff',\n",
       " '/diskmnt/Projects/Users/estorrs/multiplex_data/codex/htan/pkd/20230120_PKD_K1301459_K200452_2PB_K2200446_4PB/level_2/20230120_PKD_K200452_2PB.ome.tiff',\n",
       " '/diskmnt/Projects/Users/estorrs/multiplex_data/codex/htan/pkd/20230120_PKD_K1301459_K200452_2PB_K2200446_4PB/level_2/20230120_PKD_K2200446_4PB.ome.tiff',\n",
       " '/diskmnt/Projects/Users/estorrs/multiplex_data/codex/htan/pkd/K1301459_K2200452_2PB_K2200110-6/level_2/K1301459.ome.tiff',\n",
       " '/diskmnt/Projects/Users/estorrs/multiplex_data/codex/htan/pkd/K1301459_K2200452_2PB_K2200110-6/level_2/K2200110-6.ome.tiff',\n",
       " '/diskmnt/Projects/Users/estorrs/multiplex_data/codex/htan/pkd/K1301459_K2200452_2PB_K2200110-6/level_2/K2200452_2PB.ome.tiff',\n",
       " '/diskmnt/Projects/Users/estorrs/multiplex_data/codex/htan/pkd/Mouse_PKD_741/level_2/Mouse_PKD_741.ome.tiff']"
      ]
     },
     "execution_count": 53,
     "metadata": {},
     "output_type": "execute_result"
    }
   ],
   "source": [
    "fps = sorted(listfiles('/diskmnt/Projects/Users/estorrs/multiplex_data/codex/htan/', regex=r'.*/level_2/[^/]+.*ome.tiff$'))\n",
    "fps"
   ]
  },
  {
   "cell_type": "code",
   "execution_count": 54,
   "id": "d94a20fc",
   "metadata": {},
   "outputs": [],
   "source": [
    "fps = [\n",
    "    '/diskmnt/Projects/Users/estorrs/multiplex_data/codex/htan/brca/042623_MULTIPLE_HTAN_HT413C1-K2_TOP_HT339B2-H1_HT553P1-H2_HT565B1-H2_BTM/level_2/HT413C1-K2_04262023.ome.tiff',\n",
    "    '/diskmnt/Projects/Users/estorrs/multiplex_data/codex/htan/brca/042623_MULTIPLE_HTAN_HT413C1-K2_TOP_HT339B2-H1_HT553P1-H2_HT565B1-H2_BTM/level_2/HT553P1-H2_04262023.ome.tiff',\n",
    "    '/diskmnt/Projects/Users/estorrs/multiplex_data/codex/htan/brca/HT206B1-S1H2L4_and_HT427P1_S1H1A3/level_2/HT427P1_S1H1A3.ome.tiff',\n",
    "    '/diskmnt/Projects/Users/estorrs/multiplex_data/codex/htan/crc/041323_CRC_HT488C1-Th1K1Fp1-U2/level_2/HT488C1-Th1K1Fp1-U2_041323.ome.tiff',\n",
    "    '/diskmnt/Projects/Users/estorrs/multiplex_data/codex/htan/crc/041823_CRC_HT488C1-Th1K1Fp1-U14/level_2/HT488C1-Th1K1Fp1-U14_041823.ome.tiff',\n",
    "    '/diskmnt/Projects/Users/estorrs/multiplex_data/codex/htan/crc/20230304_Liver_mCRC_SenNet_HT342C1_HT347C1/level_2/HT342C1_Th1K4A1_section1_03042022.ome.tiff',\n",
    "    '/diskmnt/Projects/Users/estorrs/multiplex_data/codex/htan/crc/20230304_Liver_mCRC_SenNet_HT342C1_HT347C1/level_2/HT342C1_Th1K4A1_section2_03042022.ome.tiff',\n",
    "    '/diskmnt/Projects/Users/estorrs/multiplex_data/codex/htan/crc/20230304_Liver_mCRC_SenNet_HT342C1_HT347C1/level_2/HT347C1_Th1K2A1_section1_03042022.ome.tiff',\n",
    "    '/diskmnt/Projects/Users/estorrs/multiplex_data/codex/htan/crc/20230304_Liver_mCRC_SenNet_HT342C1_HT347C1/level_2/HT347C1_Th1K2A1_section2_03042022.ome.tiff',\n",
    "    '/diskmnt/Projects/Users/estorrs/multiplex_data/codex/htan/crc/20230308_CRC_Primary_S15_1909_A3_Section3/level_2/S15_1909_A3_Section3_03082023.ome.tiff',\n",
    "    '/diskmnt/Projects/Users/estorrs/multiplex_data/codex/htan/crc/20230309_CRC_Met_S15_1909_C2_Section3/level_2/S15_1909_C2_Section3_03092023.ome.tiff',\n",
    "    '/diskmnt/Projects/Users/estorrs/multiplex_data/codex/htan/pdac/HT434P1-H1/level_2/HT434P1-H1.ome.tiff'\n",
    "]"
   ]
  },
  {
   "cell_type": "code",
   "execution_count": 4,
   "id": "916e896d",
   "metadata": {
    "scrolled": true
   },
   "outputs": [
    {
     "name": "stdout",
     "output_type": "stream",
     "text": [
      "0 brca/052623_HT171B1-S1H9A1-A4_top_HT243B1-S1H4A4_HT271B1-S1H6A5_HT308B1-S1H5A4_btm/level_2/HT171B1-S1H9A1-A4_left_05262023.ome.tiff\n",
      "0 brca/052623_HT171B1-S1H9A1-A4_top_HT243B1-S1H4A4_HT271B1-S1H6A5_HT308B1-S1H5A4_btm/level_2/HT171B1-S1H9A1-A4_right_05262023.ome.tiff\n",
      "1 brca/052623_HT171B1-S1H9A1-A4_top_HT243B1-S1H4A4_HT271B1-S1H6A5_HT308B1-S1H5A4_btm/level_2/HT243B1-S1H4A4_left_05262023.ome.tiff\n",
      "0 brca/052623_HT171B1-S1H9A1-A4_top_HT243B1-S1H4A4_HT271B1-S1H6A5_HT308B1-S1H5A4_btm/level_2/HT243B1-S1H4A4_right_05262023.ome.tiff\n",
      "0 brca/052623_HT171B1-S1H9A1-A4_top_HT243B1-S1H4A4_HT271B1-S1H6A5_HT308B1-S1H5A4_btm/level_2/HT271B1-S1H6A5_left_05262023.ome.tiff\n",
      "0 brca/052623_HT171B1-S1H9A1-A4_top_HT243B1-S1H4A4_HT271B1-S1H6A5_HT308B1-S1H5A4_btm/level_2/HT271B1-S1H6A5_mid_05262023.ome.tiff\n",
      "0 brca/052623_HT171B1-S1H9A1-A4_top_HT243B1-S1H4A4_HT271B1-S1H6A5_HT308B1-S1H5A4_btm/level_2/HT271B1-S1H6A5_right_05262023.ome.tiff\n",
      "0 brca/052623_HT171B1-S1H9A1-A4_top_HT243B1-S1H4A4_HT271B1-S1H6A5_HT308B1-S1H5A4_btm/level_2/HT308B1-S1H5A4_left_05262023.ome.tiff\n",
      "0 brca/052623_HT171B1-S1H9A1-A4_top_HT243B1-S1H4A4_HT271B1-S1H6A5_HT308B1-S1H5A4_btm/level_2/HT308B1-S1H5A4_right_05262023.ome.tiff\n",
      "3 brca/06062023_GBM_HS-18-6934-2A_TOP_HS-19-14816-1J_BTM/level_2/HS-18-6934-2A_06062023.ome.tiff\n",
      "4 brca/06062023_GBM_HS-18-6934-2A_TOP_HS-19-14816-1J_BTM/level_2/HS-19-14816-1J_06062023.ome.tiff\n",
      "10 brca/06102023_HS-18-11250-1B_TOP_HS-19-6647-1B_BTM/level_2/HS-18-11250-1B_06102023.ome.tiff\n",
      "3 brca/06102023_HS-18-11250-1B_TOP_HS-19-6647-1B_BTM/level_2/HS-19-6647-1B_06102023.ome.tiff\n"
     ]
    }
   ],
   "source": [
    "sizes = []\n",
    "for fp in fps:\n",
    "    size = os.path.getsize(fp)\n",
    "    print(int(size / 1000000000), fp.split('/htan/')[-1])\n",
    "    sizes.append(size / 1000000000)"
   ]
  },
  {
   "cell_type": "code",
   "execution_count": 5,
   "id": "5bf0a697",
   "metadata": {},
   "outputs": [
    {
     "data": {
      "text/plain": [
       "28.610301944"
      ]
     },
     "execution_count": 5,
     "metadata": {},
     "output_type": "execute_result"
    }
   ],
   "source": [
    "sum(sizes)"
   ]
  },
  {
   "cell_type": "code",
   "execution_count": null,
   "id": "eb7d3853",
   "metadata": {},
   "outputs": [],
   "source": []
  },
  {
   "cell_type": "code",
   "execution_count": 6,
   "id": "d3072de4",
   "metadata": {},
   "outputs": [],
   "source": [
    "node = 'glacier'\n",
    "directory = '/data/multiplex_imaging/codex/htan'"
   ]
  },
  {
   "cell_type": "code",
   "execution_count": 7,
   "id": "9eb35fa8",
   "metadata": {},
   "outputs": [
    {
     "data": {
      "text/plain": [
       "(['scp /diskmnt/Projects/Users/estorrs/multiplex_data/codex/htan/brca/052623_HT171B1-S1H9A1-A4_top_HT243B1-S1H4A4_HT271B1-S1H6A5_HT308B1-S1H5A4_btm/level_2/HT171B1-S1H9A1-A4_left_05262023.ome.tiff glacier:/data/multiplex_imaging/codex/htan/brca/052623_HT171B1-S1H9A1-A4_top_HT243B1-S1H4A4_HT271B1-S1H6A5_HT308B1-S1H5A4_btm/level_2/HT171B1-S1H9A1-A4_left_05262023.ome.tiff',\n",
       "  'scp /diskmnt/Projects/Users/estorrs/multiplex_data/codex/htan/brca/052623_HT171B1-S1H9A1-A4_top_HT243B1-S1H4A4_HT271B1-S1H6A5_HT308B1-S1H5A4_btm/level_2/HT171B1-S1H9A1-A4_right_05262023.ome.tiff glacier:/data/multiplex_imaging/codex/htan/brca/052623_HT171B1-S1H9A1-A4_top_HT243B1-S1H4A4_HT271B1-S1H6A5_HT308B1-S1H5A4_btm/level_2/HT171B1-S1H9A1-A4_right_05262023.ome.tiff',\n",
       "  'scp /diskmnt/Projects/Users/estorrs/multiplex_data/codex/htan/brca/052623_HT171B1-S1H9A1-A4_top_HT243B1-S1H4A4_HT271B1-S1H6A5_HT308B1-S1H5A4_btm/level_2/HT243B1-S1H4A4_left_05262023.ome.tiff glacier:/data/multiplex_imaging/codex/htan/brca/052623_HT171B1-S1H9A1-A4_top_HT243B1-S1H4A4_HT271B1-S1H6A5_HT308B1-S1H5A4_btm/level_2/HT243B1-S1H4A4_left_05262023.ome.tiff',\n",
       "  'scp /diskmnt/Projects/Users/estorrs/multiplex_data/codex/htan/brca/052623_HT171B1-S1H9A1-A4_top_HT243B1-S1H4A4_HT271B1-S1H6A5_HT308B1-S1H5A4_btm/level_2/HT243B1-S1H4A4_right_05262023.ome.tiff glacier:/data/multiplex_imaging/codex/htan/brca/052623_HT171B1-S1H9A1-A4_top_HT243B1-S1H4A4_HT271B1-S1H6A5_HT308B1-S1H5A4_btm/level_2/HT243B1-S1H4A4_right_05262023.ome.tiff',\n",
       "  'scp /diskmnt/Projects/Users/estorrs/multiplex_data/codex/htan/brca/052623_HT171B1-S1H9A1-A4_top_HT243B1-S1H4A4_HT271B1-S1H6A5_HT308B1-S1H5A4_btm/level_2/HT271B1-S1H6A5_left_05262023.ome.tiff glacier:/data/multiplex_imaging/codex/htan/brca/052623_HT171B1-S1H9A1-A4_top_HT243B1-S1H4A4_HT271B1-S1H6A5_HT308B1-S1H5A4_btm/level_2/HT271B1-S1H6A5_left_05262023.ome.tiff'],\n",
       " ['mkdir -p /data/multiplex_imaging/codex/htan/brca/052623_HT171B1-S1H9A1-A4_top_HT243B1-S1H4A4_HT271B1-S1H6A5_HT308B1-S1H5A4_btm/level_2',\n",
       "  'mkdir -p /data/multiplex_imaging/codex/htan/brca/052623_HT171B1-S1H9A1-A4_top_HT243B1-S1H4A4_HT271B1-S1H6A5_HT308B1-S1H5A4_btm/level_2',\n",
       "  'mkdir -p /data/multiplex_imaging/codex/htan/brca/052623_HT171B1-S1H9A1-A4_top_HT243B1-S1H4A4_HT271B1-S1H6A5_HT308B1-S1H5A4_btm/level_2',\n",
       "  'mkdir -p /data/multiplex_imaging/codex/htan/brca/052623_HT171B1-S1H9A1-A4_top_HT243B1-S1H4A4_HT271B1-S1H6A5_HT308B1-S1H5A4_btm/level_2',\n",
       "  'mkdir -p /data/multiplex_imaging/codex/htan/brca/052623_HT171B1-S1H9A1-A4_top_HT243B1-S1H4A4_HT271B1-S1H6A5_HT308B1-S1H5A4_btm/level_2'])"
      ]
     },
     "execution_count": 7,
     "metadata": {},
     "output_type": "execute_result"
    }
   ],
   "source": [
    "transfer_cmds, mkdir_cmds = [], []\n",
    "for fp in fps:\n",
    "    root, post = fp.split('/htan/')\n",
    "    target_directory = os.path.join(directory, '/'.join(post.split('/')[:-1]))\n",
    "    target_fp = os.path.join(directory, post)\n",
    "    transfer_cmds.append(f'scp {fp} {node}:{target_fp}')\n",
    "    mkdir_cmds.append(f'mkdir -p {target_directory}')\n",
    "transfer_cmds[:5], mkdir_cmds[:5]"
   ]
  },
  {
   "cell_type": "code",
   "execution_count": 8,
   "id": "c1713763",
   "metadata": {
    "scrolled": true
   },
   "outputs": [
    {
     "name": "stdout",
     "output_type": "stream",
     "text": [
      "mkdir -p /data/multiplex_imaging/codex/htan/brca/052623_HT171B1-S1H9A1-A4_top_HT243B1-S1H4A4_HT271B1-S1H6A5_HT308B1-S1H5A4_btm/level_2\n",
      "mkdir -p /data/multiplex_imaging/codex/htan/brca/052623_HT171B1-S1H9A1-A4_top_HT243B1-S1H4A4_HT271B1-S1H6A5_HT308B1-S1H5A4_btm/level_2\n",
      "mkdir -p /data/multiplex_imaging/codex/htan/brca/052623_HT171B1-S1H9A1-A4_top_HT243B1-S1H4A4_HT271B1-S1H6A5_HT308B1-S1H5A4_btm/level_2\n",
      "mkdir -p /data/multiplex_imaging/codex/htan/brca/052623_HT171B1-S1H9A1-A4_top_HT243B1-S1H4A4_HT271B1-S1H6A5_HT308B1-S1H5A4_btm/level_2\n",
      "mkdir -p /data/multiplex_imaging/codex/htan/brca/052623_HT171B1-S1H9A1-A4_top_HT243B1-S1H4A4_HT271B1-S1H6A5_HT308B1-S1H5A4_btm/level_2\n",
      "mkdir -p /data/multiplex_imaging/codex/htan/brca/052623_HT171B1-S1H9A1-A4_top_HT243B1-S1H4A4_HT271B1-S1H6A5_HT308B1-S1H5A4_btm/level_2\n",
      "mkdir -p /data/multiplex_imaging/codex/htan/brca/052623_HT171B1-S1H9A1-A4_top_HT243B1-S1H4A4_HT271B1-S1H6A5_HT308B1-S1H5A4_btm/level_2\n",
      "mkdir -p /data/multiplex_imaging/codex/htan/brca/052623_HT171B1-S1H9A1-A4_top_HT243B1-S1H4A4_HT271B1-S1H6A5_HT308B1-S1H5A4_btm/level_2\n",
      "mkdir -p /data/multiplex_imaging/codex/htan/brca/052623_HT171B1-S1H9A1-A4_top_HT243B1-S1H4A4_HT271B1-S1H6A5_HT308B1-S1H5A4_btm/level_2\n",
      "mkdir -p /data/multiplex_imaging/codex/htan/brca/06062023_GBM_HS-18-6934-2A_TOP_HS-19-14816-1J_BTM/level_2\n",
      "mkdir -p /data/multiplex_imaging/codex/htan/brca/06062023_GBM_HS-18-6934-2A_TOP_HS-19-14816-1J_BTM/level_2\n",
      "mkdir -p /data/multiplex_imaging/codex/htan/brca/06102023_HS-18-11250-1B_TOP_HS-19-6647-1B_BTM/level_2\n",
      "mkdir -p /data/multiplex_imaging/codex/htan/brca/06102023_HS-18-11250-1B_TOP_HS-19-6647-1B_BTM/level_2\n"
     ]
    }
   ],
   "source": [
    "for cmd in mkdir_cmds:\n",
    "    print(cmd)"
   ]
  },
  {
   "cell_type": "code",
   "execution_count": 9,
   "id": "86dbdb2c",
   "metadata": {},
   "outputs": [
    {
     "name": "stdout",
     "output_type": "stream",
     "text": [
      "scp /diskmnt/Projects/Users/estorrs/multiplex_data/codex/htan/brca/052623_HT171B1-S1H9A1-A4_top_HT243B1-S1H4A4_HT271B1-S1H6A5_HT308B1-S1H5A4_btm/level_2/HT171B1-S1H9A1-A4_left_05262023.ome.tiff glacier:/data/multiplex_imaging/codex/htan/brca/052623_HT171B1-S1H9A1-A4_top_HT243B1-S1H4A4_HT271B1-S1H6A5_HT308B1-S1H5A4_btm/level_2/HT171B1-S1H9A1-A4_left_05262023.ome.tiff\n",
      "scp /diskmnt/Projects/Users/estorrs/multiplex_data/codex/htan/brca/052623_HT171B1-S1H9A1-A4_top_HT243B1-S1H4A4_HT271B1-S1H6A5_HT308B1-S1H5A4_btm/level_2/HT171B1-S1H9A1-A4_right_05262023.ome.tiff glacier:/data/multiplex_imaging/codex/htan/brca/052623_HT171B1-S1H9A1-A4_top_HT243B1-S1H4A4_HT271B1-S1H6A5_HT308B1-S1H5A4_btm/level_2/HT171B1-S1H9A1-A4_right_05262023.ome.tiff\n",
      "scp /diskmnt/Projects/Users/estorrs/multiplex_data/codex/htan/brca/052623_HT171B1-S1H9A1-A4_top_HT243B1-S1H4A4_HT271B1-S1H6A5_HT308B1-S1H5A4_btm/level_2/HT243B1-S1H4A4_left_05262023.ome.tiff glacier:/data/multiplex_imaging/codex/htan/brca/052623_HT171B1-S1H9A1-A4_top_HT243B1-S1H4A4_HT271B1-S1H6A5_HT308B1-S1H5A4_btm/level_2/HT243B1-S1H4A4_left_05262023.ome.tiff\n",
      "scp /diskmnt/Projects/Users/estorrs/multiplex_data/codex/htan/brca/052623_HT171B1-S1H9A1-A4_top_HT243B1-S1H4A4_HT271B1-S1H6A5_HT308B1-S1H5A4_btm/level_2/HT243B1-S1H4A4_right_05262023.ome.tiff glacier:/data/multiplex_imaging/codex/htan/brca/052623_HT171B1-S1H9A1-A4_top_HT243B1-S1H4A4_HT271B1-S1H6A5_HT308B1-S1H5A4_btm/level_2/HT243B1-S1H4A4_right_05262023.ome.tiff\n",
      "scp /diskmnt/Projects/Users/estorrs/multiplex_data/codex/htan/brca/052623_HT171B1-S1H9A1-A4_top_HT243B1-S1H4A4_HT271B1-S1H6A5_HT308B1-S1H5A4_btm/level_2/HT271B1-S1H6A5_left_05262023.ome.tiff glacier:/data/multiplex_imaging/codex/htan/brca/052623_HT171B1-S1H9A1-A4_top_HT243B1-S1H4A4_HT271B1-S1H6A5_HT308B1-S1H5A4_btm/level_2/HT271B1-S1H6A5_left_05262023.ome.tiff\n",
      "scp /diskmnt/Projects/Users/estorrs/multiplex_data/codex/htan/brca/052623_HT171B1-S1H9A1-A4_top_HT243B1-S1H4A4_HT271B1-S1H6A5_HT308B1-S1H5A4_btm/level_2/HT271B1-S1H6A5_mid_05262023.ome.tiff glacier:/data/multiplex_imaging/codex/htan/brca/052623_HT171B1-S1H9A1-A4_top_HT243B1-S1H4A4_HT271B1-S1H6A5_HT308B1-S1H5A4_btm/level_2/HT271B1-S1H6A5_mid_05262023.ome.tiff\n",
      "scp /diskmnt/Projects/Users/estorrs/multiplex_data/codex/htan/brca/052623_HT171B1-S1H9A1-A4_top_HT243B1-S1H4A4_HT271B1-S1H6A5_HT308B1-S1H5A4_btm/level_2/HT271B1-S1H6A5_right_05262023.ome.tiff glacier:/data/multiplex_imaging/codex/htan/brca/052623_HT171B1-S1H9A1-A4_top_HT243B1-S1H4A4_HT271B1-S1H6A5_HT308B1-S1H5A4_btm/level_2/HT271B1-S1H6A5_right_05262023.ome.tiff\n",
      "scp /diskmnt/Projects/Users/estorrs/multiplex_data/codex/htan/brca/052623_HT171B1-S1H9A1-A4_top_HT243B1-S1H4A4_HT271B1-S1H6A5_HT308B1-S1H5A4_btm/level_2/HT308B1-S1H5A4_left_05262023.ome.tiff glacier:/data/multiplex_imaging/codex/htan/brca/052623_HT171B1-S1H9A1-A4_top_HT243B1-S1H4A4_HT271B1-S1H6A5_HT308B1-S1H5A4_btm/level_2/HT308B1-S1H5A4_left_05262023.ome.tiff\n",
      "scp /diskmnt/Projects/Users/estorrs/multiplex_data/codex/htan/brca/052623_HT171B1-S1H9A1-A4_top_HT243B1-S1H4A4_HT271B1-S1H6A5_HT308B1-S1H5A4_btm/level_2/HT308B1-S1H5A4_right_05262023.ome.tiff glacier:/data/multiplex_imaging/codex/htan/brca/052623_HT171B1-S1H9A1-A4_top_HT243B1-S1H4A4_HT271B1-S1H6A5_HT308B1-S1H5A4_btm/level_2/HT308B1-S1H5A4_right_05262023.ome.tiff\n",
      "scp /diskmnt/Projects/Users/estorrs/multiplex_data/codex/htan/brca/06062023_GBM_HS-18-6934-2A_TOP_HS-19-14816-1J_BTM/level_2/HS-18-6934-2A_06062023.ome.tiff glacier:/data/multiplex_imaging/codex/htan/brca/06062023_GBM_HS-18-6934-2A_TOP_HS-19-14816-1J_BTM/level_2/HS-18-6934-2A_06062023.ome.tiff\n",
      "scp /diskmnt/Projects/Users/estorrs/multiplex_data/codex/htan/brca/06062023_GBM_HS-18-6934-2A_TOP_HS-19-14816-1J_BTM/level_2/HS-19-14816-1J_06062023.ome.tiff glacier:/data/multiplex_imaging/codex/htan/brca/06062023_GBM_HS-18-6934-2A_TOP_HS-19-14816-1J_BTM/level_2/HS-19-14816-1J_06062023.ome.tiff\n",
      "scp /diskmnt/Projects/Users/estorrs/multiplex_data/codex/htan/brca/06102023_HS-18-11250-1B_TOP_HS-19-6647-1B_BTM/level_2/HS-18-11250-1B_06102023.ome.tiff glacier:/data/multiplex_imaging/codex/htan/brca/06102023_HS-18-11250-1B_TOP_HS-19-6647-1B_BTM/level_2/HS-18-11250-1B_06102023.ome.tiff\n",
      "scp /diskmnt/Projects/Users/estorrs/multiplex_data/codex/htan/brca/06102023_HS-18-11250-1B_TOP_HS-19-6647-1B_BTM/level_2/HS-19-6647-1B_06102023.ome.tiff glacier:/data/multiplex_imaging/codex/htan/brca/06102023_HS-18-11250-1B_TOP_HS-19-6647-1B_BTM/level_2/HS-19-6647-1B_06102023.ome.tiff\n"
     ]
    }
   ],
   "source": [
    "for cmd in transfer_cmds:\n",
    "    print(cmd)"
   ]
  },
  {
   "cell_type": "code",
   "execution_count": null,
   "id": "5881f44e",
   "metadata": {},
   "outputs": [],
   "source": []
  }
 ],
 "metadata": {
  "kernelspec": {
   "display_name": "Python 3 (ipykernel)",
   "language": "python",
   "name": "python3"
  },
  "language_info": {
   "codemirror_mode": {
    "name": "ipython",
    "version": 3
   },
   "file_extension": ".py",
   "mimetype": "text/x-python",
   "name": "python",
   "nbconvert_exporter": "python",
   "pygments_lexer": "ipython3",
   "version": "3.7.12"
  }
 },
 "nbformat": 4,
 "nbformat_minor": 5
}
