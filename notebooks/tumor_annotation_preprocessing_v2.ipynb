{
 "cells": [
  {
   "cell_type": "code",
   "execution_count": 1,
   "id": "50c9760c",
   "metadata": {},
   "outputs": [],
   "source": [
    "import os\n",
    "import subprocess\n",
    "import tifffile\n",
    "import scanpy as sc\n",
    "import pandas as pd\n",
    "import numpy as np\n",
    "from skimage.morphology import binary_erosion, remove_small_objects, binary_dilation, label\n",
    "from skimage.measure import regionprops_table, regionprops\n",
    "from scipy.ndimage import binary_fill_holes\n",
    "from pathlib import Path\n",
    "\n",
    "import matplotlib.pyplot as plt\n",
    "from mip.utils import listfiles, extract_ome_tiff, R_CHANNEL_MAPPING"
   ]
  },
  {
   "cell_type": "code",
   "execution_count": 2,
   "id": "5cd6a98d",
   "metadata": {},
   "outputs": [],
   "source": [
    "from skimage.filters import gaussian"
   ]
  },
  {
   "cell_type": "markdown",
   "id": "6a33851f",
   "metadata": {},
   "source": [
    "## inhouse codex"
   ]
  },
  {
   "cell_type": "code",
   "execution_count": 3,
   "id": "a4940008",
   "metadata": {},
   "outputs": [],
   "source": [
    "out_dir = '/diskmnt/Projects/Users/estorrs/multiplex_data/analysis/brca_dcis_v2/preprocessing/htan/'\n",
    "Path(out_dir).mkdir(parents=True, exist_ok=True)"
   ]
  },
  {
   "cell_type": "markdown",
   "id": "a4ce13b2",
   "metadata": {},
   "source": [
    "#### make spatial features"
   ]
  },
  {
   "cell_type": "code",
   "execution_count": 4,
   "id": "67ecd9b5",
   "metadata": {},
   "outputs": [],
   "source": [
    "adata_fps = sorted(listfiles('/diskmnt/Projects/Users/estorrs/multiplex_data/codex/htan',\n",
    "                         regex='level_4/.*h5ad$'))"
   ]
  },
  {
   "cell_type": "code",
   "execution_count": 5,
   "id": "7a8ac38b",
   "metadata": {
    "scrolled": true
   },
   "outputs": [
    {
     "data": {
      "text/plain": [
       "['/diskmnt/Projects/Users/estorrs/multiplex_data/codex/htan/brca/021323_BRCA_HT365B1_S1H1/level_4/HT365B1_S1H1_02132023.h5ad',\n",
       " '/diskmnt/Projects/Users/estorrs/multiplex_data/codex/htan/brca/021723_BCRA_HT271B1_S1H3A5/level_4/HT271B1_S1H3A5_02172023.h5ad',\n",
       " '/diskmnt/Projects/Users/estorrs/multiplex_data/codex/htan/brca/031623_BRCA_HT397B1-U2/level_4/HT397B1_U2_03162023.h5ad',\n",
       " '/diskmnt/Projects/Users/estorrs/multiplex_data/codex/htan/brca/03172023_BRCA_HT397B1-U12/level_4/HT397B1_U12_03172023.h5ad',\n",
       " '/diskmnt/Projects/Users/estorrs/multiplex_data/codex/htan/brca/040623_BRCA_HT397B1-U31/level_4/HT397B1_S1H1A3U31_04062023.h5ad',\n",
       " '/diskmnt/Projects/Users/estorrs/multiplex_data/codex/htan/brca/041223_BRCA_HT397B1-S1H3A1-U22/level_4/HT397B1_S1H1A3U22_04122023.h5ad',\n",
       " '/diskmnt/Projects/Users/estorrs/multiplex_data/codex/htan/brca/041923_BRCA_HT171B1-S1H9A1-4_top_HT243B1-S1H4A4_HT271B1-S1H6A5_HT308B1-S1H5A4_btm/level_4/HT243B1-S1H4A4_04192023.h5ad',\n",
       " '/diskmnt/Projects/Users/estorrs/multiplex_data/codex/htan/brca/041923_BRCA_HT171B1-S1H9A1-4_top_HT243B1-S1H4A4_HT271B1-S1H6A5_HT308B1-S1H5A4_btm/level_4/HT271B1-S1H6A5_04192023.h5ad',\n",
       " '/diskmnt/Projects/Users/estorrs/multiplex_data/codex/htan/brca/041923_BRCA_HT171B1-S1H9A1-4_top_HT243B1-S1H4A4_HT271B1-S1H6A5_HT308B1-S1H5A4_btm/level_4/HT308B1-S1H5A4_04192023.h5ad',\n",
       " '/diskmnt/Projects/Users/estorrs/multiplex_data/codex/htan/brca/042623_MULTIPLE_HTAN_HT413C1-K2_TOP_HT339B2-H1_HT553P1-H2_HT565B1-H2_BTM/level_4/HT413C1-K2_04262023.h5ad',\n",
       " '/diskmnt/Projects/Users/estorrs/multiplex_data/codex/htan/brca/042623_MULTIPLE_HTAN_HT413C1-K2_TOP_HT339B2-H1_HT553P1-H2_HT565B1-H2_BTM/level_4/HT553P1-H2_04262023.h5ad',\n",
       " '/diskmnt/Projects/Users/estorrs/multiplex_data/codex/htan/brca/042623_MULTIPLE_HTAN_HT413C1-K2_TOP_HT339B2-H1_HT553P1-H2_HT565B1-H2_BTM/level_4/HT565B1-H2_04262023.h5ad',\n",
       " '/diskmnt/Projects/Users/estorrs/multiplex_data/codex/htan/brca/051223_BRCA_HT171B1-S1H9A1-4_TOP_HT243B1-S1H4A4_HT271B1-S1H6A5_HT308B1-S1H5A4/level_4/HT171B1-S1H9A1-4_left_05122023.h5ad',\n",
       " '/diskmnt/Projects/Users/estorrs/multiplex_data/codex/htan/brca/051223_BRCA_HT171B1-S1H9A1-4_TOP_HT243B1-S1H4A4_HT271B1-S1H6A5_HT308B1-S1H5A4/level_4/HT171B1-S1H9A1-4_right_05122023.h5ad',\n",
       " '/diskmnt/Projects/Users/estorrs/multiplex_data/codex/htan/brca/051223_BRCA_HT171B1-S1H9A1-4_TOP_HT243B1-S1H4A4_HT271B1-S1H6A5_HT308B1-S1H5A4/level_4/HT243B1-S1H4A4_left_05122023.h5ad',\n",
       " '/diskmnt/Projects/Users/estorrs/multiplex_data/codex/htan/brca/051223_BRCA_HT171B1-S1H9A1-4_TOP_HT243B1-S1H4A4_HT271B1-S1H6A5_HT308B1-S1H5A4/level_4/HT243B1-S1H4A4_right_05122023.h5ad',\n",
       " '/diskmnt/Projects/Users/estorrs/multiplex_data/codex/htan/brca/051223_BRCA_HT171B1-S1H9A1-4_TOP_HT243B1-S1H4A4_HT271B1-S1H6A5_HT308B1-S1H5A4/level_4/HT271B1-S1H6A5_left_05122023.h5ad',\n",
       " '/diskmnt/Projects/Users/estorrs/multiplex_data/codex/htan/brca/051223_BRCA_HT171B1-S1H9A1-4_TOP_HT243B1-S1H4A4_HT271B1-S1H6A5_HT308B1-S1H5A4/level_4/HT271B1-S1H6A5_right_05122023.h5ad',\n",
       " '/diskmnt/Projects/Users/estorrs/multiplex_data/codex/htan/brca/051223_BRCA_HT171B1-S1H9A1-4_TOP_HT243B1-S1H4A4_HT271B1-S1H6A5_HT308B1-S1H5A4/level_4/HT308B1-S1H5A4_left_05122023.h5ad',\n",
       " '/diskmnt/Projects/Users/estorrs/multiplex_data/codex/htan/brca/051223_BRCA_HT171B1-S1H9A1-4_TOP_HT243B1-S1H4A4_HT271B1-S1H6A5_HT308B1-S1H5A4/level_4/HT308B1-S1H5A4_right_05122023.h5ad',\n",
       " '/diskmnt/Projects/Users/estorrs/multiplex_data/codex/htan/brca/HT206B1-H1/level_4/HT206B1_H1.h5ad',\n",
       " '/diskmnt/Projects/Users/estorrs/multiplex_data/codex/htan/brca/HT206B1-S1H2L4_LRG_HT427P1_S1H1A3_SML_20221028/level_4/HT206B1_S1H2L4_20221028.h5ad',\n",
       " '/diskmnt/Projects/Users/estorrs/multiplex_data/codex/htan/brca/HT206B1-S1H2L4_and_HT427P1_S1H1A3/level_4/HT427P1_S1H1A3_20221020.h5ad',\n",
       " '/diskmnt/Projects/Users/estorrs/multiplex_data/codex/htan/brca/HT206B1_H1_06252022/level_4/HT206B1_H1_06252022.h5ad',\n",
       " '/diskmnt/Projects/Users/estorrs/multiplex_data/codex/htan/brca/HT243B1-S1H4_HT110B1-S1H4_HT305B1-S1H1/level_4/HT110B1_S1H4.h5ad',\n",
       " '/diskmnt/Projects/Users/estorrs/multiplex_data/codex/htan/brca/HT243B1-S1H4_HT110B1-S1H4_HT305B1-S1H1/level_4/HT243B1_S1H4.h5ad',\n",
       " '/diskmnt/Projects/Users/estorrs/multiplex_data/codex/htan/brca/HT243B1-S1H4_HT110B1-S1H4_HT305B1-S1H1/level_4/HT305B1_S1H1.h5ad',\n",
       " '/diskmnt/Projects/Users/estorrs/multiplex_data/codex/htan/brca/HT297B1-H1-08042022/level_4/HT297B1_H1_08042022.h5ad',\n",
       " '/diskmnt/Projects/Users/estorrs/multiplex_data/codex/htan/brca/HT323B1-H1-08042022/level_4/HT323B1_H1_08042022.h5ad',\n",
       " '/diskmnt/Projects/Users/estorrs/multiplex_data/codex/htan/brca/HT323B1-H1A1/level_4/HT323B1_H1A1.h5ad',\n",
       " '/diskmnt/Projects/Users/estorrs/multiplex_data/codex/htan/brca/HT323B1-H1A4/level_4/HT323B1_H1A4.h5ad',\n",
       " '/diskmnt/Projects/Users/estorrs/multiplex_data/codex/htan/brca/HT323B1-H3/level_4/HT323B1_H3.h5ad',\n",
       " '/diskmnt/Projects/Users/estorrs/multiplex_data/codex/htan/brca/HT339B1-H1A1/level_4/HT339B1_H1A1.h5ad',\n",
       " '/diskmnt/Projects/Users/estorrs/multiplex_data/codex/htan/brca/HT339B1-H2A1/level_4/HT339B1_H2A1.h5ad',\n",
       " '/diskmnt/Projects/Users/estorrs/multiplex_data/codex/htan/brca/HT339B1-H4A4/level_4/HT339B1_H4A4.h5ad',\n",
       " '/diskmnt/Projects/Users/estorrs/multiplex_data/codex/htan/brca/HT397B1-H2A2/level_4/HT397B1_H2A2.h5ad',\n",
       " '/diskmnt/Projects/Users/estorrs/multiplex_data/codex/htan/brca/HT397B1-H3A1/level_4/HT397B1_H3A1.h5ad',\n",
       " '/diskmnt/Projects/Users/estorrs/multiplex_data/codex/htan/brca/HT480B1-S1H2_reg001/level_4/HT480B1_S1H2_R001.h5ad',\n",
       " '/diskmnt/Projects/Users/estorrs/multiplex_data/codex/htan/brca/HT480B1-S1H2_reg002/level_4/HT480B1_S1H2_R002.h5ad',\n",
       " '/diskmnt/Projects/Users/estorrs/multiplex_data/codex/htan/crc/041323_CRC_HT488C1-Th1K1Fp1-U2/level_4/HT488C1-Th1K1Fp1-U2_041323.h5ad',\n",
       " '/diskmnt/Projects/Users/estorrs/multiplex_data/codex/htan/crc/041823_CRC_HT488C1-Th1K1Fp1-U14/level_4/HT488C1-Th1K1Fp1-U14_041823.h5ad',\n",
       " '/diskmnt/Projects/Users/estorrs/multiplex_data/codex/htan/crc/20230304_Liver_mCRC_SenNet_HT342C1_HT347C1/level_4/HT342C1_Th1K4A1_section1_03042022.h5ad',\n",
       " '/diskmnt/Projects/Users/estorrs/multiplex_data/codex/htan/crc/20230304_Liver_mCRC_SenNet_HT342C1_HT347C1/level_4/HT342C1_Th1K4A1_section2_03042022.h5ad',\n",
       " '/diskmnt/Projects/Users/estorrs/multiplex_data/codex/htan/crc/20230304_Liver_mCRC_SenNet_HT342C1_HT347C1/level_4/HT347C1_Th1K2A1_section1_03042022.h5ad',\n",
       " '/diskmnt/Projects/Users/estorrs/multiplex_data/codex/htan/crc/20230304_Liver_mCRC_SenNet_HT342C1_HT347C1/level_4/HT347C1_Th1K2A1_section2_03042022.h5ad']"
      ]
     },
     "execution_count": 5,
     "metadata": {},
     "output_type": "execute_result"
    }
   ],
   "source": [
    "\n",
    "adata_fps = [fp for fp in adata_fps\n",
    "             if '.ome.tiff' not in fp\n",
    "             if 'cell_annotation' not in fp\n",
    "             if 'metacluster' not in fp\n",
    "             if 'spatial_features' not in fp]\n",
    "adata_fps"
   ]
  },
  {
   "cell_type": "code",
   "execution_count": 6,
   "id": "6f2f7839",
   "metadata": {},
   "outputs": [
    {
     "data": {
      "text/plain": [
       "45"
      ]
     },
     "execution_count": 6,
     "metadata": {},
     "output_type": "execute_result"
    }
   ],
   "source": [
    "len(adata_fps)"
   ]
  },
  {
   "cell_type": "code",
   "execution_count": 7,
   "id": "900bfbdc",
   "metadata": {},
   "outputs": [],
   "source": [
    "adata_fps = [\n",
    "    '/diskmnt/Projects/Users/estorrs/multiplex_data/codex/htan/brca/042623_MULTIPLE_HTAN_HT413C1-K2_TOP_HT339B2-H1_HT553P1-H2_HT565B1-H2_BTM/level_4/HT413C1-K2_04262023.h5ad',\n",
    "    '/diskmnt/Projects/Users/estorrs/multiplex_data/codex/htan/brca/042623_MULTIPLE_HTAN_HT413C1-K2_TOP_HT339B2-H1_HT553P1-H2_HT565B1-H2_BTM/level_4/HT553P1-H2_04262023.h5ad',\n",
    "    '/diskmnt/Projects/Users/estorrs/multiplex_data/codex/htan/brca/HT206B1-S1H2L4_and_HT427P1_S1H1A3/level_4/HT427P1_S1H1A3_20221020.h5ad',\n",
    "    '/diskmnt/Projects/Users/estorrs/multiplex_data/codex/htan/crc/041323_CRC_HT488C1-Th1K1Fp1-U2/level_4/HT488C1-Th1K1Fp1-U2_041323.h5ad',\n",
    "    '/diskmnt/Projects/Users/estorrs/multiplex_data/codex/htan/crc/041823_CRC_HT488C1-Th1K1Fp1-U14/level_4/HT488C1-Th1K1Fp1-U14_041823.h5ad',\n",
    "    '/diskmnt/Projects/Users/estorrs/multiplex_data/codex/htan/crc/20230304_Liver_mCRC_SenNet_HT342C1_HT347C1/level_4/HT342C1_Th1K4A1_section1_03042022.h5ad',\n",
    "    '/diskmnt/Projects/Users/estorrs/multiplex_data/codex/htan/crc/20230304_Liver_mCRC_SenNet_HT342C1_HT347C1/level_4/HT342C1_Th1K4A1_section2_03042022.h5ad',\n",
    "    '/diskmnt/Projects/Users/estorrs/multiplex_data/codex/htan/crc/20230304_Liver_mCRC_SenNet_HT342C1_HT347C1/level_4/HT347C1_Th1K2A1_section1_03042022.h5ad',\n",
    "    '/diskmnt/Projects/Users/estorrs/multiplex_data/codex/htan/crc/20230304_Liver_mCRC_SenNet_HT342C1_HT347C1/level_4/HT347C1_Th1K2A1_section2_03042022.h5ad'\n",
    "]"
   ]
  },
  {
   "cell_type": "code",
   "execution_count": null,
   "id": "ceb8de50",
   "metadata": {},
   "outputs": [],
   "source": []
  },
  {
   "cell_type": "code",
   "execution_count": null,
   "id": "28de7b50",
   "metadata": {},
   "outputs": [],
   "source": []
  },
  {
   "cell_type": "code",
   "execution_count": 8,
   "id": "9f9429b3",
   "metadata": {},
   "outputs": [
    {
     "data": {
      "text/plain": [
       "AnnData object with n_obs × n_vars = 128858 × 33\n",
       "    obs: 'row', 'col', 'bbox-r1', 'bbox-c1', 'bbox-r2', 'bbox-c2', 'area', 'DAPI_intensity', 'CD8_intensity', 'Her2_intensity', 'GATA3 (D)_intensity', 'cKit_intensity', 'Pan-Cytokeratin_intensity', 'GLUT1_intensity', 'Podoplanin_intensity', 'CD68_intensity', 'HLA-DR_intensity', 'CK14_intensity', 'TFF1 (D)_intensity', 'MGP_intensity', 'a-Amylase_intensity', 'SMA_intensity', 'CD3e_intensity', 'Ki67_intensity', 'Vimentin_intensity', 'CD11b_intensity', 'PR_intensity', 'Bap1_intensity', 'CD45_intensity', 'ER_intensity', 'CD31_intensity', 'COX6c_intensity', 'CK19_intensity', 'CK17_intensity', 'PLAT/tPA_intensity', 'CTLA4_intensity', 'Hep-Par-1 (D)_intensity', 'CD4_intensity', 'SLC39A6_intensity', 'CK5_intensity', 'cell_type'\n",
       "    uns: 'gating_strategy', 'thresholds'\n",
       "    obsm: 'spatial'"
      ]
     },
     "execution_count": 8,
     "metadata": {},
     "output_type": "execute_result"
    }
   ],
   "source": [
    "a = sc.read_h5ad(adata_fps[0])\n",
    "a"
   ]
  },
  {
   "cell_type": "code",
   "execution_count": null,
   "id": "dbf8566c",
   "metadata": {},
   "outputs": [],
   "source": []
  },
  {
   "cell_type": "code",
   "execution_count": 14,
   "id": "c46b77df",
   "metadata": {},
   "outputs": [],
   "source": [
    "sample_to_feats = {}\n",
    "sample_to_adata = {}\n",
    "for fp in adata_fps:\n",
    "    sample_id = fp.split('/')[-1].replace('.h5ad', '')\n",
    "    sample_to_adata[sample_id] = fp\n",
    "    a = sc.read_h5ad(fp)\n",
    "    feats = a.obs[['col', 'row', 'cell_type']]\n",
    "    feats.columns = ['x', 'y', 'cell_type']\n",
    "    feats.index.name = 'cell_id'\n",
    "    sample_to_feats[sample_id] = feats"
   ]
  },
  {
   "cell_type": "code",
   "execution_count": 15,
   "id": "c8886ca2",
   "metadata": {},
   "outputs": [
    {
     "name": "stdout",
     "output_type": "stream",
     "text": [
      "HT413C1-K2_04262023\n",
      "HT553P1-H2_04262023\n",
      "HT427P1_S1H1A3_20221020\n",
      "HT488C1-Th1K1Fp1-U2_041323\n",
      "HT488C1-Th1K1Fp1-U14_041823\n",
      "HT342C1_Th1K4A1_section1_03042022\n",
      "HT342C1_Th1K4A1_section2_03042022\n",
      "HT347C1_Th1K2A1_section1_03042022\n",
      "HT347C1_Th1K2A1_section2_03042022\n"
     ]
    }
   ],
   "source": [
    "for s in sample_to_feats.keys(): print(s)"
   ]
  },
  {
   "cell_type": "code",
   "execution_count": 16,
   "id": "8ed25446",
   "metadata": {},
   "outputs": [
    {
     "data": {
      "text/plain": [
       "9"
      ]
     },
     "execution_count": 16,
     "metadata": {},
     "output_type": "execute_result"
    }
   ],
   "source": [
    "len(sample_to_feats)"
   ]
  },
  {
   "cell_type": "code",
   "execution_count": 17,
   "id": "4fac9501",
   "metadata": {},
   "outputs": [],
   "source": [
    "out = os.path.join(out_dir, 'spatial_features')\n",
    "Path(out).mkdir(parents=True, exist_ok=True)\n",
    "for s, feats in sample_to_feats.items():\n",
    "    feats.to_csv(os.path.join(out, f'{s}.txt'), sep='\\t')"
   ]
  },
  {
   "cell_type": "code",
   "execution_count": null,
   "id": "8b9f3c8e",
   "metadata": {},
   "outputs": [],
   "source": []
  },
  {
   "cell_type": "code",
   "execution_count": 18,
   "id": "b223c659",
   "metadata": {},
   "outputs": [],
   "source": [
    "sample_to_thresholds = {}\n",
    "for s, a in sample_to_adata.items():\n",
    "    a = sc.read_h5ad(a)\n",
    "    markers = [x.replace('_fraction', '') for x in a.var.index.to_list()]\n",
    "    thresholds = a.uns['thresholds']\n",
    "    d = {k:v for k, v in zip(markers, thresholds) if v > 0}\n",
    "    sample_to_thresholds[s] = d"
   ]
  },
  {
   "cell_type": "code",
   "execution_count": 19,
   "id": "4ab9b653",
   "metadata": {
    "scrolled": true
   },
   "outputs": [
    {
     "data": {
      "text/plain": [
       "{'HT413C1-K2_04262023': {'CD8': 12.0,\n",
       "  'Pan-Cytokeratin': 15.0,\n",
       "  'Podoplanin': 14.0,\n",
       "  'CD68': 254.0,\n",
       "  'HLA-DR': 21.0,\n",
       "  'SMA': 10.0,\n",
       "  'CD3e': 39.0,\n",
       "  'CD11b': 254.0,\n",
       "  'CD45': 254.0,\n",
       "  'CD31': 10.0,\n",
       "  'CD4': 19.0},\n",
       " 'HT553P1-H2_04262023': {'CD8': 10.0,\n",
       "  'Pan-Cytokeratin': 11.0,\n",
       "  'Podoplanin': 13.0,\n",
       "  'CD68': 254.0,\n",
       "  'HLA-DR': 29.0,\n",
       "  'SMA': 19.0,\n",
       "  'CD3e': 10.0,\n",
       "  'CD11b': 254.0,\n",
       "  'CD45': 10.0,\n",
       "  'CD31': 10.0,\n",
       "  'CD4': 24.0},\n",
       " 'HT427P1_S1H1A3_20221020': {'CD31': 19.0,\n",
       "  'CD4': 39.0,\n",
       "  'CD8': 39.0,\n",
       "  'Pan-Cytokeratin': 20.0,\n",
       "  'Podoplanin': 20.0,\n",
       "  'CD3e': 39.0,\n",
       "  'SMA': 15.0,\n",
       "  'CD68': 254.0,\n",
       "  'CD20': 254.0,\n",
       "  'CD11c': 254.0,\n",
       "  'HLA-DR': 20.0,\n",
       "  'CD163': 15.0,\n",
       "  'FOXP3': 254.0},\n",
       " 'HT488C1-Th1K1Fp1-U2_041323': {'Podoplanin': 19.0,\n",
       "  'Pan-Cytokeratin': 20.0,\n",
       "  'HLA-DR': 20.0,\n",
       "  'CD8': 10.0,\n",
       "  'SMA': 14.0,\n",
       "  'CD45': 254.0,\n",
       "  'CD3e': 39.0,\n",
       "  'E-cadherin': 20.0,\n",
       "  'CD11b': 20.0,\n",
       "  'CD68': 254.0,\n",
       "  'CD31': 15.0,\n",
       "  'FOXP3': 15.0},\n",
       " 'HT488C1-Th1K1Fp1-U14_041823': {'Podoplanin': 24.0,\n",
       "  'Pan-Cytokeratin': 15.0,\n",
       "  'HLA-DR': 20.0,\n",
       "  'CD8': 15.0,\n",
       "  'SMA': 20.0,\n",
       "  'CD45': 254.0,\n",
       "  'CD3e': 20.0,\n",
       "  'E-cadherin': 20.0,\n",
       "  'CD11b': 254.0,\n",
       "  'CD31': 10.0,\n",
       "  'CD4': 254.0,\n",
       "  'CD68': 254.0},\n",
       " 'HT342C1_Th1K4A1_section1_03042022': {'Podoplanin': 12.0,\n",
       "  'Pan-Cytokeratin': 30.0,\n",
       "  'HLA-DR': 29.0,\n",
       "  'CD8': 10.0,\n",
       "  'SMA': 15.0,\n",
       "  'CD68': 254.0,\n",
       "  'CD20': 10.0},\n",
       " 'HT342C1_Th1K4A1_section2_03042022': {'Podoplanin': 12.0,\n",
       "  'Pan-Cytokeratin': 25.0,\n",
       "  'HLA-DR': 29.0,\n",
       "  'CD8': 10.0,\n",
       "  'SMA': 19.0,\n",
       "  'CD68': 254.0,\n",
       "  'CD20': 10.0},\n",
       " 'HT347C1_Th1K2A1_section1_03042022': {'Podoplanin': 12.0,\n",
       "  'Pan-Cytokeratin': 25.0,\n",
       "  'HLA-DR': 29.0,\n",
       "  'CD8': 10.0,\n",
       "  'SMA': 19.0,\n",
       "  'CD68': 254.0,\n",
       "  'CD20': 10.0},\n",
       " 'HT347C1_Th1K2A1_section2_03042022': {'Podoplanin': 12.0,\n",
       "  'Pan-Cytokeratin': 25.0,\n",
       "  'HLA-DR': 29.0,\n",
       "  'CD8': 10.0,\n",
       "  'SMA': 19.0,\n",
       "  'CD68': 254.0,\n",
       "  'CD20': 10.0}}"
      ]
     },
     "execution_count": 19,
     "metadata": {},
     "output_type": "execute_result"
    }
   ],
   "source": [
    "sample_to_thresholds"
   ]
  },
  {
   "cell_type": "code",
   "execution_count": 20,
   "id": "04d618fe",
   "metadata": {},
   "outputs": [],
   "source": [
    "json.dump(sample_to_thresholds, open(os.path.join(out_dir, 'thresholds.json'), 'w'))"
   ]
  },
  {
   "cell_type": "code",
   "execution_count": null,
   "id": "2eb322b5",
   "metadata": {},
   "outputs": [],
   "source": []
  },
  {
   "cell_type": "markdown",
   "id": "c106e919",
   "metadata": {},
   "source": [
    "#### make initial region masks"
   ]
  },
  {
   "cell_type": "code",
   "execution_count": 21,
   "id": "b50d5738",
   "metadata": {
    "scrolled": true
   },
   "outputs": [],
   "source": [
    "# ome_fps = sorted(listfiles('/diskmnt/Projects/Users/estorrs/multiplex_data/codex/htan/brca/',\n",
    "#                          regex='/level_2/[^/]+.ome.tiff$'))\n",
    "ome_fps = sorted(listfiles('/diskmnt/Projects/Users/estorrs/multiplex_data/codex/htan',\n",
    "                         regex='/level_2/[^/]+.ome.tiff$'))\n",
    "# ome_fps = [fp for fp in ome_fps if any([s in fp for s in sample_to_feats.keys()])]\n",
    "sample_to_ome = {fp.split('/')[-1].replace('.ome.tiff', ''):fp for fp in ome_fps}"
   ]
  },
  {
   "cell_type": "code",
   "execution_count": 22,
   "id": "5b3fb2b2",
   "metadata": {
    "scrolled": true
   },
   "outputs": [],
   "source": [
    "# adata_fps = sorted(listfiles('/diskmnt/Projects/Users/estorrs/multiplex_data/codex/htan',\n",
    "#                          regex='level_4/.*h5ad$'))\n",
    "# adata_fps = [fp for fp in adata_fps\n",
    "#              if '.ome.tiff' not in fp\n",
    "#              if 'cell_annotation' not in fp\n",
    "#              if 'metacluster' not in fp\n",
    "#              if 'spatial_features' not in fp]\n",
    "\n",
    "# sample_to_adata = {fp.split('/')[-1].replace('.h5ad', ''):fp for fp in adata_fps}"
   ]
  },
  {
   "cell_type": "code",
   "execution_count": 23,
   "id": "0fddef91",
   "metadata": {
    "scrolled": true
   },
   "outputs": [
    {
     "data": {
      "text/plain": [
       "['20230120_PKD_K1301459',\n",
       " '20230120_PKD_K200452_2PB',\n",
       " '20230120_PKD_K2200446_4PB',\n",
       " 'CRC112',\n",
       " 'E16.5_female_section1_04272023',\n",
       " 'E16.5_female_section2_04272023',\n",
       " 'E16.5_male_section1_04272023',\n",
       " 'E16.5_male_section2_04272023',\n",
       " 'HT110B1-S1H4',\n",
       " 'HT171B1-S1H1A1',\n",
       " 'HT171B1-S1H1A4',\n",
       " 'HT171B1-S1H9A1-4_04192023',\n",
       " 'HT171B1-S1H9A1-4_left_05122023',\n",
       " 'HT171B1-S1H9A1-4_right_05122023',\n",
       " 'HT171B1_20221205',\n",
       " 'HT171B1_S1H1A1',\n",
       " 'HT171B1_S1H1A4',\n",
       " 'HT171B1_S1H8A1_20221122',\n",
       " 'HT206B1-H1',\n",
       " 'HT206B1_Ctrl',\n",
       " 'HT206B1_H1_06252022',\n",
       " 'HT206B1_S1H2L4',\n",
       " 'HT243B1-S1H4',\n",
       " 'HT243B1-S1H4A4_04192023',\n",
       " 'HT243B1-S1H4A4_left_05122023',\n",
       " 'HT243B1-S1H4A4_right_05122023',\n",
       " 'HT271B1-S1H3A5',\n",
       " 'HT271B1-S1H6A5_04192023',\n",
       " 'HT271B1-S1H6A5_left_05122023',\n",
       " 'HT271B1-S1H6A5_right_05122023',\n",
       " 'HT271B1_S1H3A5',\n",
       " 'HT297B1-H1-08042022',\n",
       " 'HT305B1-S1H1',\n",
       " 'HT308B1',\n",
       " 'HT308B1-S1H5A4_04192023',\n",
       " 'HT308B1-S1H5A4_left_05122023',\n",
       " 'HT308B1-S1H5A4_right_05122023',\n",
       " 'HT323B1-H1-08042022',\n",
       " 'HT323B1-H1A1',\n",
       " 'HT323B1-H1A4',\n",
       " 'HT323B1-H3',\n",
       " 'HT339B1-H1A1',\n",
       " 'HT339B1-H2A1',\n",
       " 'HT339B1-H4A4',\n",
       " 'HT339B2-H1_04262023',\n",
       " 'HT342C1_Th1K4A1_section1_03042022',\n",
       " 'HT342C1_Th1K4A1_section2_03042022',\n",
       " 'HT347C1_Th1K2A1_section1_03042022',\n",
       " 'HT347C1_Th1K2A1_section2_03042022',\n",
       " 'HT365B1_S1H1',\n",
       " 'HT397B1-H2A2',\n",
       " 'HT397B1-H3A1',\n",
       " 'HT397B1_S1H1A3U22_04122023',\n",
       " 'HT397B1_S1H1A3U31_04062023',\n",
       " 'HT397B1_U12_03172023',\n",
       " 'HT397B1_U2_03162023',\n",
       " 'HT413C1-K2_04262023',\n",
       " 'HT427P1_S1H1A3',\n",
       " 'HT434P1-H1',\n",
       " 'HT480B1-S1H2-R001',\n",
       " 'HT480B1-S1H2-R002',\n",
       " 'HT488C1-Th1K1Fp1-U14_041823',\n",
       " 'HT488C1-Th1K1Fp1-U2_041323',\n",
       " 'HT553P1-H2_04262023',\n",
       " 'HT565B1-H2_04262023',\n",
       " 'K1301459',\n",
       " 'K1301459_3',\n",
       " 'K2200110-6',\n",
       " 'K2200444_2PB',\n",
       " 'K2200446_3PB',\n",
       " 'K2200452_2PB',\n",
       " 'K2200453_2_03012023',\n",
       " 'K2200487_2_03012023',\n",
       " 'K2200493_2_03012023',\n",
       " 'K2200581-3_04202023',\n",
       " 'K2200591-2_04202023',\n",
       " 'K2200609-2_04202023',\n",
       " 'Mouse_PKD_741',\n",
       " 'P1_female_section1_04272023',\n",
       " 'P1_female_section2_04272023',\n",
       " 'P1_male_section1_04272023',\n",
       " 'P1_male_section2_04272023',\n",
       " 'P21_male_04272023',\n",
       " 'S15_1909_A3_Section3_03082023',\n",
       " 'S15_1909_C2_Section3_03092023',\n",
       " 'SN001H1',\n",
       " 'SN002_SN050',\n",
       " 'SN002_left_04152023',\n",
       " 'SN002_right_04152023',\n",
       " 'SN024_left_04152023',\n",
       " 'SN024_right_04152023',\n",
       " 'SN056_left_04152023',\n",
       " 'SN056_right_04152023',\n",
       " 'codex_processed_hu_pancreas_TrisEDTA_2020-10-08',\n",
       " 'p21_female_04272023',\n",
       " 'pkd_14519_38d_02232023',\n",
       " 'pkd_14801_38d_02232023',\n",
       " 'pkd_21d_04212023',\n",
       " 'pkd_28d_04212023',\n",
       " 'pkd_38d_s1_04212023',\n",
       " 'pkd_38d_s2_04212023',\n",
       " 'pkd_738_21d_02232023',\n",
       " 'pkd_743_21d_02232023',\n",
       " 'test']"
      ]
     },
     "execution_count": 23,
     "metadata": {},
     "output_type": "execute_result"
    }
   ],
   "source": [
    "sorted(sample_to_ome.keys())"
   ]
  },
  {
   "cell_type": "code",
   "execution_count": 24,
   "id": "4cf83fca",
   "metadata": {
    "scrolled": true
   },
   "outputs": [
    {
     "data": {
      "text/plain": [
       "['HT342C1_Th1K4A1_section1_03042022',\n",
       " 'HT342C1_Th1K4A1_section2_03042022',\n",
       " 'HT347C1_Th1K2A1_section1_03042022',\n",
       " 'HT347C1_Th1K2A1_section2_03042022',\n",
       " 'HT413C1-K2_04262023',\n",
       " 'HT427P1_S1H1A3_20221020',\n",
       " 'HT488C1-Th1K1Fp1-U14_041823',\n",
       " 'HT488C1-Th1K1Fp1-U2_041323',\n",
       " 'HT553P1-H2_04262023']"
      ]
     },
     "execution_count": 24,
     "metadata": {},
     "output_type": "execute_result"
    }
   ],
   "source": [
    "sorted(sample_to_adata.keys())"
   ]
  },
  {
   "cell_type": "code",
   "execution_count": 30,
   "id": "d1f6c892",
   "metadata": {},
   "outputs": [],
   "source": [
    "name_map = {\n",
    "    'HT342C1_Th1K4A1_section1_03042022': 'HT342C1_Th1K4A1_section1_03042022',\n",
    "    'HT342C1_Th1K4A1_section2_03042022': 'HT342C1_Th1K4A1_section2_03042022',\n",
    "    'HT347C1_Th1K2A1_section1_03042022': 'HT347C1_Th1K2A1_section1_03042022',\n",
    "    'HT347C1_Th1K2A1_section2_03042022': 'HT347C1_Th1K2A1_section2_03042022',\n",
    "    'HT413C1-K2_04262023': 'HT413C1-K2_04262023',\n",
    "    'HT488C1-Th1K1Fp1-U14_041823': 'HT488C1-Th1K1Fp1-U14_041823',\n",
    "    'HT488C1-Th1K1Fp1-U2_041323': 'HT488C1-Th1K1Fp1-U2_041323',\n",
    "    'HT553P1-H2_04262023': 'HT553P1-H2_04262023',\n",
    "    'HT427P1_S1H1A3_20221020': 'HT427P1_S1H1A3',\n",
    "}\n",
    "r_name_map = {v:k for k, v in name_map.items()}\n",
    "\n",
    "sample_to_ome = {r_name_map.get(k, k):v for k, v in sample_to_ome.items()}"
   ]
  },
  {
   "cell_type": "code",
   "execution_count": 31,
   "id": "73124e55",
   "metadata": {},
   "outputs": [],
   "source": [
    "# name_map = {\n",
    "#     'HT110B1_S1H4': 'HT110B1-S1H4',\n",
    "#     'HT171B1-S1H9A1-4_left_05122023': 'HT171B1-S1H9A1-4_left_05122023',\n",
    "#     'HT171B1-S1H9A1-4_right_05122023': 'HT171B1-S1H9A1-4_right_05122023',\n",
    "#     'HT206B1_H1': 'HT206B1-H1',\n",
    "#     'HT206B1_H1_06252022': 'HT206B1_H1_06252022',\n",
    "#     'HT206B1_S1H2L4_20221028': 'HT206B1_S1H2L4',\n",
    "#     'HT243B1-S1H4A4_04192023': 'HT243B1-S1H4A4_04192023',\n",
    "#     'HT243B1-S1H4A4_left_05122023': 'HT243B1-S1H4A4_left_05122023',\n",
    "#     'HT243B1-S1H4A4_right_05122023': 'HT243B1-S1H4A4_right_05122023',\n",
    "#     'HT243B1_S1H4': 'HT243B1-S1H4',\n",
    "#     'HT271B1-S1H6A5_04192023': 'HT271B1-S1H6A5_04192023',\n",
    "#     'HT271B1-S1H6A5_left_05122023': 'HT271B1-S1H6A5_left_05122023',\n",
    "#     'HT271B1-S1H6A5_right_05122023': 'HT271B1-S1H6A5_right_05122023',\n",
    "#     'HT271B1_S1H3A5_02172023': 'HT271B1_S1H3A5',\n",
    "#     'HT297B1_H1_08042022': 'HT297B1-H1-08042022',\n",
    "#     'HT305B1_S1H1': 'HT305B1-S1H1',\n",
    "#     'HT308B1-S1H5A4_04192023': 'HT308B1-S1H5A4_04192023',\n",
    "#     'HT308B1-S1H5A4_left_05122023': 'HT308B1-S1H5A4_left_05122023',\n",
    "#     'HT308B1-S1H5A4_right_05122023': 'HT308B1-S1H5A4_right_05122023',\n",
    "#     'HT323B1_H1A1': 'HT323B1-H1A1',\n",
    "#     'HT323B1_H1A4': 'HT323B1-H1A4',\n",
    "#     'HT323B1_H1_08042022': 'HT323B1-H1-08042022',\n",
    "#     'HT323B1_H3': 'HT323B1-H3',\n",
    "#     'HT339B1_H1A1': 'HT339B1-H1A1',\n",
    "#     'HT339B1_H2A1': 'HT339B1-H2A1',\n",
    "#     'HT339B1_H4A4': 'HT339B1-H4A4',\n",
    "#     'HT365B1_S1H1_02132023': 'HT365B1_S1H1',\n",
    "#     'HT397B1_H2A2': 'HT397B1-H2A2',\n",
    "#     'HT397B1_H3A1': 'HT397B1-H3A1',\n",
    "#     'HT397B1_S1H1A3U22_04122023': 'HT397B1_S1H1A3U22_04122023',\n",
    "#     'HT397B1_S1H1A3U31_04062023': 'HT397B1_S1H1A3U31_04062023',\n",
    "#     'HT397B1_U12_03172023': 'HT397B1_U12_03172023',\n",
    "#     'HT397B1_U2_03162023': 'HT397B1_U2_03162023',\n",
    "#     'HT480B1_S1H2_R001': 'HT480B1-S1H2-R001',\n",
    "#     'HT480B1_S1H2_R002': 'HT480B1-S1H2-R002',\n",
    "#     'HT565B1-H2_04262023': 'HT565B1-H2_04262023'\n",
    "# }\n",
    "# r_name_map = {v:k for k, v in name_map.items()}\n",
    "\n",
    "# sample_to_ome = {r_name_map.get(k, k):v for k, v in sample_to_ome.items()}"
   ]
  },
  {
   "cell_type": "code",
   "execution_count": 32,
   "id": "b434b12a",
   "metadata": {},
   "outputs": [],
   "source": [
    "def generate_mask(mask, sigma=1., min_area=10000):\n",
    "    mask = gaussian(mask, sigma=sigma)\n",
    "    mask = binary_fill_holes(mask)\n",
    "    \n",
    "    labeled = label(mask)\n",
    "    props = regionprops(labeled)\n",
    "    \n",
    "    mask = labeled > 0\n",
    "    for prop in props:\n",
    "        if prop.area < min_area:\n",
    "            r1, c1, r2, c2 = prop.bbox\n",
    "            r1, c1 = max(r1 - 10, 0), max(c1 - 10, 0)\n",
    "            r2, c2, = r2 + 10, c2 + 10\n",
    "            mask[r1:r2, c1:c2][labeled[r1:r2, c1:c2]==prop.label] = 0\n",
    "            \n",
    "    return mask"
   ]
  },
  {
   "cell_type": "code",
   "execution_count": 33,
   "id": "356a22c0",
   "metadata": {},
   "outputs": [],
   "source": [
    "out = os.path.join(out_dir, 'region_mask')\n",
    "Path(out).mkdir(parents=True, exist_ok=True)"
   ]
  },
  {
   "cell_type": "code",
   "execution_count": 34,
   "id": "8462c44e",
   "metadata": {},
   "outputs": [
    {
     "name": "stdout",
     "output_type": "stream",
     "text": [
      "HT342C1_Th1K4A1_section1_03042022\n",
      "HT342C1_Th1K4A1_section2_03042022\n",
      "HT347C1_Th1K2A1_section1_03042022\n",
      "HT347C1_Th1K2A1_section2_03042022\n",
      "HT413C1-K2_04262023\n",
      "HT488C1-Th1K1Fp1-U14_041823\n",
      "HT488C1-Th1K1Fp1-U2_041323\n",
      "HT553P1-H2_04262023\n",
      "HT427P1_S1H1A3_20221020\n"
     ]
    }
   ],
   "source": [
    "keep = ['Pan-Cytokeratin', 'E-cadherin']\n",
    "sample_to_mask = {}\n",
    "for sample in name_map.keys():\n",
    "    print(sample)\n",
    "    channel_to_img = extract_ome_tiff(sample_to_ome[sample])\n",
    "    channel_to_img = {R_CHANNEL_MAPPING.get(k, k):img for k, img in channel_to_img.items()}\n",
    "\n",
    "    a = sc.read_h5ad(sample_to_adata[sample])\n",
    "    \n",
    "    markers = [x.replace('_fraction', '') for x in a.var.index.to_list()]\n",
    "    thresholds = a.uns['thresholds']\n",
    "    mask = np.zeros_like(next(iter(channel_to_img.values())), dtype=bool)\n",
    "    for c in keep:\n",
    "        if c in markers:\n",
    "            val = thresholds[markers.index(c)]\n",
    "            if val > 0:\n",
    "                m = channel_to_img[c] >= val\n",
    "                mask |= m\n",
    "        \n",
    "    mask = generate_mask(mask, sigma=1., min_area=10000)\n",
    "    sample_to_mask[sample] = mask\n",
    "    \n",
    "    tifffile.imsave(os.path.join(out, f'{sample}.tif'), mask)    "
   ]
  },
  {
   "cell_type": "code",
   "execution_count": null,
   "id": "a1d7107c",
   "metadata": {},
   "outputs": [],
   "source": []
  }
 ],
 "metadata": {
  "kernelspec": {
   "display_name": "Python 3 (ipykernel)",
   "language": "python",
   "name": "python3"
  },
  "language_info": {
   "codemirror_mode": {
    "name": "ipython",
    "version": 3
   },
   "file_extension": ".py",
   "mimetype": "text/x-python",
   "name": "python",
   "nbconvert_exporter": "python",
   "pygments_lexer": "ipython3",
   "version": "3.7.12"
  }
 },
 "nbformat": 4,
 "nbformat_minor": 5
}
