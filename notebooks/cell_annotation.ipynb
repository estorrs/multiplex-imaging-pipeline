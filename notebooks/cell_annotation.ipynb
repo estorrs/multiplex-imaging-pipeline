{
 "cells": [
  {
   "cell_type": "code",
   "execution_count": null,
   "id": "c4d9498e",
   "metadata": {},
   "outputs": [],
   "source": [
    "import anndata\n",
    "import pandas as pd\n",
    "import numpy as np\n",
    "import matplotlib.pyplot as plt\n",
    "import scanpy as sc\n",
    "import tifffile\n",
    "from skimage.segmentation import find_boundaries\n",
    "from skimage.transform import resize"
   ]
  },
  {
   "cell_type": "code",
   "execution_count": null,
   "id": "56ed86b7",
   "metadata": {},
   "outputs": [],
   "source": [
    "%load_ext autoreload"
   ]
  },
  {
   "cell_type": "code",
   "execution_count": null,
   "id": "82fae100",
   "metadata": {},
   "outputs": [],
   "source": [
    "%autoreload 2"
   ]
  },
  {
   "cell_type": "code",
   "execution_count": null,
   "id": "1df2c663",
   "metadata": {},
   "outputs": [],
   "source": [
    "import mip.utils as utils\n",
    "from mip.gating import gate_region"
   ]
  },
  {
   "cell_type": "markdown",
   "id": "8b0491a7",
   "metadata": {},
   "source": [
    "## load in data"
   ]
  },
  {
   "cell_type": "code",
   "execution_count": null,
   "id": "b36ce8cb",
   "metadata": {},
   "outputs": [],
   "source": [
    "# sample = 'HT323B1-H3'\n",
    "sample = 'HT339B1-H4A4'\n",
    "# sample = 'HT397B1-H3A1'\n",
    "# sample = 'HT206B1-H1'\n",
    "fp = f'/diskmnt/Projects/Users/estorrs/multiplex_data/codex/htan/{sample}/level_4/spatial_features.h5ad'"
   ]
  },
  {
   "cell_type": "code",
   "execution_count": null,
   "id": "7e00bb66",
   "metadata": {},
   "outputs": [],
   "source": [
    "adata = sc.read_h5ad(fp)\n",
    "adata"
   ]
  },
  {
   "cell_type": "code",
   "execution_count": null,
   "id": "62e5d62a",
   "metadata": {},
   "outputs": [],
   "source": [
    "sc.pl.highest_expr_genes(adata, n_top=20, )"
   ]
  },
  {
   "cell_type": "code",
   "execution_count": null,
   "id": "a93ad684",
   "metadata": {},
   "outputs": [],
   "source": [
    "sc.pp.log1p(adata)"
   ]
  },
  {
   "cell_type": "code",
   "execution_count": null,
   "id": "f50395d6",
   "metadata": {
    "scrolled": true
   },
   "outputs": [],
   "source": [
    "adata.var.index.to_list()"
   ]
  },
  {
   "cell_type": "code",
   "execution_count": null,
   "id": "59b15264",
   "metadata": {},
   "outputs": [],
   "source": [
    "adata.raw = adata"
   ]
  },
  {
   "cell_type": "code",
   "execution_count": null,
   "id": "8dc5daca",
   "metadata": {},
   "outputs": [],
   "source": [
    "annotation_marker_map = {\n",
    "    'Endothelial': ['CD31'],\n",
    "    'Epithelial': ['E-cadherin', 'Pan-CK'],\n",
    "    'B cell': ['CD20'],\n",
    "    'Macrophage': ['CD68', 'CD163'],\n",
    "#     'DC': ['CD11c'],\n",
    "#     'T cell': ['CD3e', 'CD4', 'CD8', 'CD45RO'],\n",
    "    'T cell': ['CD3e', 'CD4', 'CD8'],\n",
    "    'Fibroblast/Myo': ['Podoplanin', 'SMA', 'Vimentin'],\n",
    "}\n",
    "annotation_markers = [v for k, vs in annotation_marker_map.items() for v in vs]"
   ]
  },
  {
   "cell_type": "code",
   "execution_count": null,
   "id": "32746147",
   "metadata": {},
   "outputs": [],
   "source": [
    "# I've found it helpful to limit to markers only used in annotation\n",
    "# This helps keep the clusters cleaner\n",
    "adata = adata[:, annotation_markers]\n",
    "adata"
   ]
  },
  {
   "cell_type": "code",
   "execution_count": null,
   "id": "d8677f6f",
   "metadata": {},
   "outputs": [],
   "source": [
    "sc.pp.neighbors(adata, n_neighbors=15)"
   ]
  },
  {
   "cell_type": "code",
   "execution_count": null,
   "id": "71d68c1f",
   "metadata": {},
   "outputs": [],
   "source": [
    "sc.tl.umap(adata)"
   ]
  },
  {
   "cell_type": "code",
   "execution_count": null,
   "id": "14bd698a",
   "metadata": {},
   "outputs": [],
   "source": [
    "sc.tl.leiden(adata, resolution=1.)"
   ]
  },
  {
   "cell_type": "code",
   "execution_count": null,
   "id": "8196793f",
   "metadata": {},
   "outputs": [],
   "source": [
    "sc.pl.umap(adata, color=['leiden'], legend_loc='on data')"
   ]
  },
  {
   "cell_type": "code",
   "execution_count": null,
   "id": "582104d7",
   "metadata": {
    "scrolled": true
   },
   "outputs": [],
   "source": [
    "sc.pl.umap(adata, color=annotation_markers)"
   ]
  },
  {
   "cell_type": "code",
   "execution_count": null,
   "id": "b7cf2d42",
   "metadata": {},
   "outputs": [],
   "source": [
    "cluster_map = {\n",
    "    'Immune': [17, 7, 21, 8, 1, 16, 13],\n",
    "    'Stroma': [6, 0, 12, 18, 4, 9, 15, 14],\n",
    "    'Epithelial': [10, 3, 2, 19, 5, 11]\n",
    "}\n",
    "\n",
    "r = {str(v):k for k, vs in cluster_map.items() for v in vs}\n",
    "adata.obs['cell_type_general'] = [r.get(l, l)\n",
    "                          for l in adata.obs['leiden']]"
   ]
  },
  {
   "cell_type": "code",
   "execution_count": null,
   "id": "c18be5a2",
   "metadata": {},
   "outputs": [],
   "source": [
    "sc.pl.umap(adata, color=['cell_type_general'], ncols=1)"
   ]
  },
  {
   "cell_type": "code",
   "execution_count": null,
   "id": "03baa218",
   "metadata": {},
   "outputs": [],
   "source": [
    "adata.obs['centroid_row_inverted'] = [-x for x in adata.obs['centroid_row']]\n",
    "sc.pl.scatter(adata, x='centroid_col', y='centroid_row_inverted', color='cell_type_general')"
   ]
  },
  {
   "cell_type": "code",
   "execution_count": null,
   "id": "165ccccb",
   "metadata": {},
   "outputs": [],
   "source": [
    "adata.write_h5ad(f'/diskmnt/Projects/Users/estorrs/multiplex_data/codex/htan/{sample}/level_4/cell_annotation_macro.h5ad')"
   ]
  },
  {
   "cell_type": "markdown",
   "id": "bb692f89",
   "metadata": {},
   "source": [
    "#### gating"
   ]
  },
  {
   "cell_type": "code",
   "execution_count": null,
   "id": "c710e69a",
   "metadata": {
    "scrolled": false
   },
   "outputs": [],
   "source": [
    "adata = sc.read_h5ad(f'/diskmnt/Projects/Users/estorrs/multiplex_data/codex/htan/{sample}/level_4/cell_annotation_macro.h5ad')\n",
    "adata"
   ]
  },
  {
   "cell_type": "code",
   "execution_count": null,
   "id": "4cd37b21",
   "metadata": {},
   "outputs": [],
   "source": [
    "channel_to_img = utils.extract_ome_tiff(f'/diskmnt/Projects/Users/estorrs/multiplex_data/codex/htan/{sample}/level_2/{sample}.ome.tiff')\n",
    "channel_to_img.keys()"
   ]
  },
  {
   "cell_type": "code",
   "execution_count": null,
   "id": "1dce979d",
   "metadata": {},
   "outputs": [],
   "source": [
    "seg_img = tifffile.imread(f'/diskmnt/Projects/Users/estorrs/multiplex_data/codex/htan/{sample}/level_3/segmentation/cell_segmentation.tif')\n",
    "boundary_img = find_boundaries(seg_img)\n",
    "seg_img.shape"
   ]
  },
  {
   "cell_type": "code",
   "execution_count": null,
   "id": "f3ac9f1f",
   "metadata": {},
   "outputs": [],
   "source": [
    "pseudo = tifffile.imread(f'/diskmnt/Projects/Users/estorrs/multiplex_data/codex/htan/{sample}/level_2/pseudo.tiff')\n",
    "pseudo.shape"
   ]
  },
  {
   "cell_type": "code",
   "execution_count": null,
   "id": "7994c910",
   "metadata": {},
   "outputs": [],
   "source": [
    "## defaults\n",
    "gating_map = {\n",
    "    'Immune': {\n",
    "        'CD8_T_cell': {'CD8': 8.38, 'CD3e': 6.66},\n",
    "        'CD4_T_cell': {'CD4': 7.17, 'CD3e': 6.66},\n",
    "        'Macrophage': {'CD68': 7.53},\n",
    "        'B_cell': {'CD20': 7.69},\n",
    "#         'DC': {('CD11c', 'HLA-DR'): 6.52},\n",
    "        'Fibroblast': {('Vimentin', 'Podoplanin', 'SMA'): 5.76}\n",
    "    },\n",
    "    'Stroma': {\n",
    "        'Endothelial': {'CD31': 7.35},\n",
    "        'Fibroblast': {('Vimentin', 'Podoplanin', 'SMA'): 5.76}\n",
    "    },\n",
    "    'Epithelial': {\n",
    "        'Epithelial': {('Pan-CK', 'E-cadherin'): 6.05},\n",
    "        'Myoepithelial': {('Podoplanin', 'SMA'): 7.88},\n",
    "        'Fibroblast': {('Vimentin', 'Podoplanin', 'SMA'): 5.76}\n",
    "    }\n",
    "}"
   ]
  },
  {
   "cell_type": "code",
   "execution_count": null,
   "id": "b66c2bce",
   "metadata": {},
   "outputs": [],
   "source": [
    "# # in case of different marker names\n",
    "# gating_map = {\n",
    "#     'Immune': {\n",
    "#         'CD8_T_cell': {'CD8': 8.38, 'CD3': 6.66},\n",
    "#         'CD4_T_cell': {'CD4': 7.17, 'CD3': 6.66},\n",
    "#         'Macrophage': {'CD68': 7.53},\n",
    "#         'B_cell': {'CD20': 7.69},\n",
    "#         'DC': {('CD11c', 'HLA-DR'): 6.52},\n",
    "#         'Fibroblast': {('Vimentin', 'Podoplanin', 'SMA'): 5.76}\n",
    "#     },\n",
    "#     'Stroma': {\n",
    "#         'Endothelial': {'CD31': 7.35},\n",
    "#         'Fibroblast': {('Vimentin', 'Podoplanin', 'SMA'): 5.76}\n",
    "#     },\n",
    "#     'Epithelial': {\n",
    "#         'Epithelial': {('Pan-CK', 'E-cadherin'): 6.05},\n",
    "#         'Myoepithelial': {('Podoplanin', 'SMA'): 7.88},\n",
    "#         'Fibroblast': {('Vimentin', 'Podoplanin', 'SMA'): 5.76}\n",
    "#     }\n",
    "# }"
   ]
  },
  {
   "cell_type": "markdown",
   "id": "afb936c6",
   "metadata": {
    "heading_collapsed": true
   },
   "source": [
    "###### cd8 t cell"
   ]
  },
  {
   "cell_type": "code",
   "execution_count": null,
   "id": "bd13f3ab",
   "metadata": {
    "hidden": true
   },
   "outputs": [],
   "source": [
    "channel = 'CD8'\n",
    "gate_region(adata, channel, channel_img=channel_to_img[channel], boundary_img=boundary_img,\n",
    "            cell_type='Immune', cell_type_col='cell_type_general',\n",
    "            default_value=gating_map['Immune']['CD8_T_cell'][channel], radius=500)"
   ]
  },
  {
   "cell_type": "code",
   "execution_count": null,
   "id": "7dd96b44",
   "metadata": {
    "hidden": true
   },
   "outputs": [],
   "source": [
    "channel = 'CD8'\n",
    "gate_region(adata, channel, channel_img=channel_to_img[channel], boundary_img=boundary_img,\n",
    "            cell_type='15', cell_type_col='leiden',\n",
    "            default_value=gating_map['Immune']['CD8_T_cell'][channel])"
   ]
  },
  {
   "cell_type": "code",
   "execution_count": null,
   "id": "61f49e8e",
   "metadata": {
    "hidden": true
   },
   "outputs": [],
   "source": [
    "channel = 'CD3e'\n",
    "gate_region(adata, channel, channel_img=channel_to_img[channel], boundary_img=boundary_img,\n",
    "            cell_type='Immune', cell_type_col='cell_type_general',\n",
    "            default_value=gating_map['Immune']['CD8_T_cell'][channel])"
   ]
  },
  {
   "cell_type": "code",
   "execution_count": null,
   "id": "46382f67",
   "metadata": {
    "hidden": true
   },
   "outputs": [],
   "source": [
    "gating_map['Immune']['CD8_T_cell'] = {\n",
    "    'CD8': 6.88,\n",
    "    'CD3e': 6.66\n",
    "}"
   ]
  },
  {
   "cell_type": "markdown",
   "id": "16b43c8e",
   "metadata": {
    "heading_collapsed": true
   },
   "source": [
    "###### cd4 t cell"
   ]
  },
  {
   "cell_type": "code",
   "execution_count": null,
   "id": "b63abbaf",
   "metadata": {
    "hidden": true
   },
   "outputs": [],
   "source": [
    "channel = 'CD4'\n",
    "gate_region(adata, channel, channel_img=channel_to_img[channel], boundary_img=boundary_img,\n",
    "            cell_type='Immune', cell_type_col='cell_type_general',\n",
    "            default_value=gating_map['Immune']['CD4_T_cell'][channel])"
   ]
  },
  {
   "cell_type": "code",
   "execution_count": null,
   "id": "8fe500c1",
   "metadata": {
    "hidden": true
   },
   "outputs": [],
   "source": [
    "gate_region(adata, channel, channel_img=channel_to_img[channel], boundary_img=boundary_img,\n",
    "            cell_type='11', cell_type_col='leiden',\n",
    "            default_value=gating_map['Immune']['CD4_T_cell'][channel])"
   ]
  },
  {
   "cell_type": "code",
   "execution_count": null,
   "id": "558734c0",
   "metadata": {
    "hidden": true
   },
   "outputs": [],
   "source": [
    "channel = 'CD3e'\n",
    "gate_region(adata, channel, channel_img=channel_to_img[channel], boundary_img=boundary_img,\n",
    "            cell_type='Immune', cell_type_col='cell_type_general',\n",
    "            default_value=gating_map['Immune']['CD4_T_cell'][channel])"
   ]
  },
  {
   "cell_type": "code",
   "execution_count": null,
   "id": "8dbfd24c",
   "metadata": {
    "hidden": true
   },
   "outputs": [],
   "source": [
    "gating_map['Immune']['CD4_T_cell'] = {\n",
    "    'CD4': 6.13,\n",
    "    'CD3e': 6.66\n",
    "}"
   ]
  },
  {
   "cell_type": "markdown",
   "id": "c6046100",
   "metadata": {
    "heading_collapsed": true
   },
   "source": [
    "###### macrophage"
   ]
  },
  {
   "cell_type": "code",
   "execution_count": null,
   "id": "6a8b251e",
   "metadata": {
    "hidden": true
   },
   "outputs": [],
   "source": [
    "channel = 'CD68'\n",
    "gate_region(adata, channel, channel_img=channel_to_img[channel], boundary_img=boundary_img,\n",
    "            cell_type='Immune', cell_type_col='cell_type_general',\n",
    "            default_value=gating_map['Immune']['Macrophage'][channel])"
   ]
  },
  {
   "cell_type": "code",
   "execution_count": null,
   "id": "0e896e69",
   "metadata": {
    "hidden": true
   },
   "outputs": [],
   "source": [
    "gate_region(adata, channel, channel_img=channel_to_img[channel], boundary_img=boundary_img,\n",
    "            cell_type='8', cell_type_col='leiden',\n",
    "            default_value=gating_map['Immune']['Macrophage'][channel], radius=500)"
   ]
  },
  {
   "cell_type": "code",
   "execution_count": null,
   "id": "7717b48d",
   "metadata": {
    "hidden": true
   },
   "outputs": [],
   "source": [
    "gating_map['Immune']['Macrophage'] = {\n",
    "    'CD68': 7.53\n",
    "}"
   ]
  },
  {
   "cell_type": "markdown",
   "id": "e2a1e9ed",
   "metadata": {
    "heading_collapsed": true
   },
   "source": [
    "###### B cell"
   ]
  },
  {
   "cell_type": "code",
   "execution_count": null,
   "id": "7b55860a",
   "metadata": {
    "hidden": true
   },
   "outputs": [],
   "source": [
    "channel = 'CD20'\n",
    "r1, r2, c1, c2 = gate_region(\n",
    "    adata, channel, channel_img=channel_to_img[channel], boundary_img=boundary_img,\n",
    "    cell_type='Immune', cell_type_col='cell_type_general',\n",
    "    default_value=gating_map['Immune']['B_cell'][channel]\n",
    ")"
   ]
  },
  {
   "cell_type": "code",
   "execution_count": null,
   "id": "4a4c5dd0",
   "metadata": {
    "hidden": true
   },
   "outputs": [],
   "source": [
    "gate_region(adata, channel, channel_img=channel_to_img[channel], boundary_img=boundary_img,\n",
    "            cell_type='13', cell_type_col='leiden',\n",
    "            default_value=gating_map['Immune']['B_cell'][channel])"
   ]
  },
  {
   "cell_type": "code",
   "execution_count": null,
   "id": "8094c9bf",
   "metadata": {
    "hidden": true
   },
   "outputs": [],
   "source": [
    "gating_map['Immune']['B_cell'] = {\n",
    "    'CD20': 6.68\n",
    "}"
   ]
  },
  {
   "cell_type": "code",
   "execution_count": null,
   "id": "062ec28d",
   "metadata": {
    "hidden": true
   },
   "outputs": [],
   "source": [
    "# plt.imshow(pseudo[r1:r2, c1:c2])"
   ]
  },
  {
   "cell_type": "markdown",
   "id": "18c45083",
   "metadata": {
    "heading_collapsed": true
   },
   "source": [
    "###### DC"
   ]
  },
  {
   "cell_type": "code",
   "execution_count": null,
   "id": "b797404e",
   "metadata": {
    "hidden": true
   },
   "outputs": [],
   "source": [
    "channel = ('CD11c', 'HLA-DR')\n",
    "img = channel_to_img['CD11c'] + channel_to_img['HLA-DR']\n",
    "r1, r2, c1, c2 = gate_region(\n",
    "    adata, channel, channel_img=img, boundary_img=boundary_img,\n",
    "    cell_type='16', cell_type_col='leiden',\n",
    "    default_value=gating_map['Immune']['DC'].get(channel, 0.)\n",
    ")"
   ]
  },
  {
   "cell_type": "code",
   "execution_count": null,
   "id": "0476f619",
   "metadata": {
    "hidden": true
   },
   "outputs": [],
   "source": [
    "gate_region(adata, channel, channel_img=img, boundary_img=boundary_img,\n",
    "            cell_type='3', cell_type_col='leiden',\n",
    "            default_value=gating_map['Immune']['DC'].get(channel, 0.))"
   ]
  },
  {
   "cell_type": "code",
   "execution_count": null,
   "id": "60714fba",
   "metadata": {
    "hidden": true
   },
   "outputs": [],
   "source": [
    "gating_map['Immune']['DC'] = {\n",
    "    ('CD11c', 'HLA-DR'): 6.52\n",
    "}"
   ]
  },
  {
   "cell_type": "code",
   "execution_count": null,
   "id": "c1b95490",
   "metadata": {
    "hidden": true
   },
   "outputs": [],
   "source": [
    "r1, c1"
   ]
  },
  {
   "cell_type": "markdown",
   "id": "dbccc4cf",
   "metadata": {
    "heading_collapsed": true
   },
   "source": [
    "###### Endothelial"
   ]
  },
  {
   "cell_type": "code",
   "execution_count": null,
   "id": "44c9f2de",
   "metadata": {
    "hidden": true
   },
   "outputs": [],
   "source": [
    "channel = 'CD31'\n",
    "r1, r2, c1, c2 = gate_region(\n",
    "    adata, channel, channel_img=channel_to_img[channel], boundary_img=boundary_img,\n",
    "    cell_type='Stroma', cell_type_col='cell_type_general',\n",
    "    default_value=gating_map['Stroma']['Endothelial'][channel]\n",
    ")"
   ]
  },
  {
   "cell_type": "code",
   "execution_count": null,
   "id": "fe990456",
   "metadata": {
    "hidden": true
   },
   "outputs": [],
   "source": [
    "r1, r2, c1, c2 = gate_region(\n",
    "    adata, channel, channel_img=channel_to_img[channel], boundary_img=boundary_img,\n",
    "    cell_type='4', cell_type_col='leiden',\n",
    "    default_value=gating_map['Stroma']['Endothelial'][channel], radius=500\n",
    ")"
   ]
  },
  {
   "cell_type": "code",
   "execution_count": null,
   "id": "62a125e7",
   "metadata": {
    "hidden": true
   },
   "outputs": [],
   "source": [
    "gating_map['Stroma']['Endothelial'] = {\n",
    "    'CD31': 6.17\n",
    "}"
   ]
  },
  {
   "cell_type": "markdown",
   "id": "7ff29689",
   "metadata": {
    "heading_collapsed": true
   },
   "source": [
    "###### Fibroblast"
   ]
  },
  {
   "cell_type": "code",
   "execution_count": null,
   "id": "2ed4618b",
   "metadata": {
    "hidden": true
   },
   "outputs": [],
   "source": [
    "channel = ('Vimentin', 'Podoplanin', 'SMA')\n",
    "img = channel_to_img['Vimentin'] + channel_to_img['Podoplanin'] + channel_to_img['SMA']\n",
    "r1, r2, c1, c2 = gate_region(\n",
    "    adata, channel, channel_img=img, boundary_img=boundary_img,\n",
    "    cell_type='Stroma', cell_type_col='cell_type_general',\n",
    "    default_value=gating_map['Stroma']['Fibroblast'][channel]\n",
    ")"
   ]
  },
  {
   "cell_type": "code",
   "execution_count": null,
   "id": "cf309634",
   "metadata": {
    "hidden": true
   },
   "outputs": [],
   "source": [
    "r1, r2, c1, c2 = gate_region(\n",
    "    adata, channel, channel_img=img, boundary_img=boundary_img,\n",
    "    cell_type='6', cell_type_col='leiden',\n",
    "    default_value=gating_map['Stroma']['Fibroblast'][channel]\n",
    ")"
   ]
  },
  {
   "cell_type": "code",
   "execution_count": null,
   "id": "96c50bc3",
   "metadata": {
    "hidden": true
   },
   "outputs": [],
   "source": [
    "gating_map['Stroma']['Fibroblast'] = {\n",
    "    ('Vimentin', 'Podoplanin', 'SMA'): 5.07\n",
    "}\n",
    "gating_map['Immune']['Fibroblast'] = {\n",
    "    ('Vimentin', 'Podoplanin', 'SMA'): 5.07\n",
    "}\n",
    "gating_map['Epithelial']['Fibroblast'] = {\n",
    "    ('Vimentin', 'Podoplanin', 'SMA'): 5.07\n",
    "}"
   ]
  },
  {
   "cell_type": "markdown",
   "id": "e309ea9b",
   "metadata": {
    "heading_collapsed": true
   },
   "source": [
    "###### Epithelial"
   ]
  },
  {
   "cell_type": "code",
   "execution_count": null,
   "id": "0fbc7577",
   "metadata": {
    "hidden": true
   },
   "outputs": [],
   "source": [
    "channel = ('Pan-CK', 'E-cadherin')\n",
    "img = channel_to_img['Pan-CK'] + channel_to_img['E-cadherin']\n",
    "r1, r2, c1, c2 = gate_region(\n",
    "    adata, channel, channel_img=img, boundary_img=boundary_img,\n",
    "    cell_type='Epithelial', cell_type_col='cell_type_general',\n",
    "    default_value=gating_map['Epithelial']['Epithelial'].get(channel, 0.)\n",
    ")"
   ]
  },
  {
   "cell_type": "code",
   "execution_count": null,
   "id": "96bb6c53",
   "metadata": {
    "hidden": true
   },
   "outputs": [],
   "source": [
    "r1, r2, c1, c2 = gate_region(\n",
    "    adata, channel, channel_img=img, boundary_img=boundary_img,\n",
    "    cell_type='3', cell_type_col='leiden',\n",
    "    default_value=gating_map['Epithelial']['Epithelial'][channel]\n",
    ")"
   ]
  },
  {
   "cell_type": "code",
   "execution_count": null,
   "id": "d476bfd8",
   "metadata": {
    "hidden": true
   },
   "outputs": [],
   "source": [
    "gating_map['Epithelial']['Epithelial'] = {\n",
    "    ('Pan-CK', 'E-cadherin'): 6.05\n",
    "}"
   ]
  },
  {
   "cell_type": "code",
   "execution_count": null,
   "id": "5dce8846",
   "metadata": {
    "hidden": true
   },
   "outputs": [],
   "source": [
    "# plt.imshow(pseudo[r1:r2, c1:c2])"
   ]
  },
  {
   "cell_type": "markdown",
   "id": "08a47bc6",
   "metadata": {},
   "source": [
    "###### Myoepithelial"
   ]
  },
  {
   "cell_type": "code",
   "execution_count": null,
   "id": "c961420c",
   "metadata": {},
   "outputs": [],
   "source": [
    "channel = ('Podoplanin', 'SMA')\n",
    "img = channel_to_img['Podoplanin'] + channel_to_img['SMA']\n",
    "r1, r2, c1, c2 = gate_region(\n",
    "    adata, channel, channel_img=img, boundary_img=boundary_img,\n",
    "    cell_type='Epithelial', cell_type_col='cell_type_general',\n",
    "    default_value=gating_map['Epithelial']['Myoepithelial'][channel]\n",
    ")"
   ]
  },
  {
   "cell_type": "code",
   "execution_count": null,
   "id": "39bab158",
   "metadata": {},
   "outputs": [],
   "source": [
    "r1, r2, c1, c2 = gate_region(\n",
    "    adata, channel, channel_img=img, boundary_img=boundary_img,\n",
    "    cell_type='2', cell_type_col='leiden',\n",
    "    default_value=gating_map['Epithelial']['Myoepithelial'][channel],\n",
    "    radius=500\n",
    ")"
   ]
  },
  {
   "cell_type": "code",
   "execution_count": null,
   "id": "c9fc4947",
   "metadata": {},
   "outputs": [],
   "source": [
    "plt.imshow(pseudo[r1:r2, c1:c2])"
   ]
  },
  {
   "cell_type": "code",
   "execution_count": null,
   "id": "14d0b7c8",
   "metadata": {},
   "outputs": [],
   "source": [
    "gating_map['Epithelial']['Myoepithelial'] = {\n",
    "    ('Podoplanin', 'SMA'): 6.38\n",
    "}"
   ]
  },
  {
   "cell_type": "markdown",
   "id": "7af629f2",
   "metadata": {},
   "source": [
    "###### call cell types"
   ]
  },
  {
   "cell_type": "code",
   "execution_count": null,
   "id": "939d03ad",
   "metadata": {},
   "outputs": [],
   "source": [
    "gating_map"
   ]
  },
  {
   "cell_type": "code",
   "execution_count": null,
   "id": "7507fd24",
   "metadata": {},
   "outputs": [],
   "source": [
    "def bin_cells(adata, marker_dict, valid_mask=None):\n",
    "    keep = []\n",
    "    for k, v in marker_dict.items():\n",
    "        keep.append([True if x >= v else False\n",
    "                    for i, x in enumerate(adata.raw[:, k].X.mean(axis=1).flatten())])\n",
    "    keep = np.asarray(keep)\n",
    "    bools = keep.sum(axis=0) == len(marker_dict)\n",
    "    \n",
    "    if valid_mask is not None:\n",
    "        bools = bools & valid_mask\n",
    "    \n",
    "    return bools"
   ]
  },
  {
   "cell_type": "code",
   "execution_count": null,
   "id": "ea6b25e9",
   "metadata": {
    "scrolled": true
   },
   "outputs": [],
   "source": [
    "cell_type = np.asarray(['Other'] * adata.shape[0], dtype=object)\n",
    "order_of_operations = [\n",
    "    'Fibroblast',\n",
    "    'Endothelial',\n",
    "    'CD4_T_cell',\n",
    "    'CD8_T_cell',\n",
    "    'Macrophage',\n",
    "    'B_cell',\n",
    "    'DC',\n",
    "    'Epithelial',\n",
    "    'Myoepithelial'\n",
    "]\n",
    "for general, d1 in gating_map.items():\n",
    "    order = [ct for ct in order_of_operations if ct in d1.keys()]\n",
    "    for ct in order:\n",
    "        bools = bin_cells(adata, d1[ct], valid_mask=adata.obs['cell_type_general']==general)\n",
    "        cell_type[bools] = ct\n",
    "adata.obs['cell_type'] = list(cell_type)"
   ]
  },
  {
   "cell_type": "code",
   "execution_count": null,
   "id": "4f2ae3cf",
   "metadata": {},
   "outputs": [],
   "source": [
    "sc.pl.umap(adata, color=['cell_type'], ncols=1)"
   ]
  },
  {
   "cell_type": "code",
   "execution_count": null,
   "id": "b85fa838",
   "metadata": {},
   "outputs": [],
   "source": [
    "sc.pl.umap(adata, color=['cell_type_general'], ncols=1)"
   ]
  },
  {
   "cell_type": "code",
   "execution_count": null,
   "id": "1ece572f",
   "metadata": {},
   "outputs": [],
   "source": [
    "sc.pl.scatter(adata, x='centroid_col', y='centroid_row_inverted', color='cell_type')"
   ]
  },
  {
   "cell_type": "markdown",
   "id": "50fe24ef",
   "metadata": {},
   "source": [
    "#### other cell types"
   ]
  },
  {
   "cell_type": "code",
   "execution_count": null,
   "id": "10330a77",
   "metadata": {},
   "outputs": [],
   "source": [
    "adata.obs['cell_type_specific'] = adata.obs['cell_type'].to_list()"
   ]
  },
  {
   "cell_type": "markdown",
   "id": "08986f41",
   "metadata": {
    "heading_collapsed": true
   },
   "source": [
    "###### proliferating cells"
   ]
  },
  {
   "cell_type": "code",
   "execution_count": null,
   "id": "4e3a9b03",
   "metadata": {
    "hidden": true
   },
   "outputs": [],
   "source": [
    "default_value = 8.73\n",
    "# default_value = 7.84"
   ]
  },
  {
   "cell_type": "code",
   "execution_count": null,
   "id": "a273cedb",
   "metadata": {
    "hidden": true
   },
   "outputs": [],
   "source": [
    "channel = 'Ki67'\n",
    "r1, r2, c1, c2 = gate_region(\n",
    "    adata, channel, channel_img=channel_to_img[channel], boundary_img=boundary_img,\n",
    "    cell_type='Epithelial', cell_type_col='cell_type_general',\n",
    "    default_value=default_value, radius=500\n",
    ")"
   ]
  },
  {
   "cell_type": "code",
   "execution_count": null,
   "id": "e1e08394",
   "metadata": {
    "hidden": true
   },
   "outputs": [],
   "source": [
    "channel = 'Ki67'\n",
    "r1, r2, c1, c2 = gate_region(\n",
    "    adata, channel, channel_img=channel_to_img[channel], boundary_img=boundary_img,\n",
    "    cell_type='Immune', cell_type_col='cell_type_general',\n",
    "    default_value=default_value\n",
    ")"
   ]
  },
  {
   "cell_type": "code",
   "execution_count": null,
   "id": "b08aa1ff",
   "metadata": {
    "hidden": true
   },
   "outputs": [],
   "source": [
    "r1, r2, c1, c2 = gate_region(\n",
    "    adata, channel, channel_img=channel_to_img[channel], boundary_img=boundary_img,\n",
    "    cell_type='0', cell_type_col='leiden',\n",
    "    default_value=default_value\n",
    ")"
   ]
  },
  {
   "cell_type": "code",
   "execution_count": null,
   "id": "d233b297",
   "metadata": {
    "hidden": true
   },
   "outputs": [],
   "source": [
    "adata.obs['is_proliferating'] = ['Yes' if m > default_value else 'False'\n",
    "                                 for m in adata.raw[:, channel].X.flatten()]"
   ]
  },
  {
   "cell_type": "code",
   "execution_count": null,
   "id": "dcf35f4d",
   "metadata": {
    "hidden": true
   },
   "outputs": [],
   "source": [
    "adata.obs['centroid_row_inverted'] = [-x for x in adata.obs['centroid_row']]\n",
    "sc.pl.scatter(adata, x='centroid_col', y='centroid_row_inverted', color='is_proliferating')"
   ]
  },
  {
   "cell_type": "code",
   "execution_count": null,
   "id": "b058bf8e",
   "metadata": {
    "hidden": true
   },
   "outputs": [],
   "source": [
    "gating_map['is_proliferating'] = {'Ki67': default_value}"
   ]
  },
  {
   "cell_type": "markdown",
   "id": "c41b8114",
   "metadata": {
    "heading_collapsed": true
   },
   "source": [
    "###### m1 vs m2 macrophage"
   ]
  },
  {
   "cell_type": "code",
   "execution_count": null,
   "id": "78564edb",
   "metadata": {
    "hidden": true
   },
   "outputs": [],
   "source": [
    "default_value = 7.17\n",
    "# default_value = 5.81"
   ]
  },
  {
   "cell_type": "code",
   "execution_count": null,
   "id": "39db5f17",
   "metadata": {
    "hidden": true
   },
   "outputs": [],
   "source": [
    "channel = 'CD163'\n",
    "r1, r2, c1, c2 = gate_region(\n",
    "    adata, channel, channel_img=channel_to_img[channel], boundary_img=boundary_img,\n",
    "    cell_type='Macrophage', cell_type_col='cell_type',\n",
    "    default_value=default_value, radius=500\n",
    ")"
   ]
  },
  {
   "cell_type": "code",
   "execution_count": null,
   "id": "9c9d4ae8",
   "metadata": {
    "hidden": true
   },
   "outputs": [],
   "source": [
    "def call_cell(ct, x):\n",
    "    if ct == 'Macrophage':\n",
    "        if x >= default_value:\n",
    "            return 'Macrophage - M1'\n",
    "        else:\n",
    "            return 'Macrophage - M2'\n",
    "    return ct\n",
    "    \n",
    "adata.obs['cell_type_specific'] = [call_cell(ct, x)\n",
    "                                   for ct, x in zip(adata.obs['cell_type'], adata.raw[:, channel].X.flatten())]"
   ]
  },
  {
   "cell_type": "code",
   "execution_count": null,
   "id": "919ae43d",
   "metadata": {
    "hidden": true
   },
   "outputs": [],
   "source": [
    "sc.pl.scatter(adata, x='centroid_col', y='centroid_row_inverted', color='cell_type_specific')"
   ]
  },
  {
   "cell_type": "code",
   "execution_count": null,
   "id": "a959d799",
   "metadata": {
    "hidden": true
   },
   "outputs": [],
   "source": [
    "gating_map['M1_v2_M2_Macrophage'] = {'CD163': default_value}"
   ]
  },
  {
   "cell_type": "markdown",
   "id": "76a2408e",
   "metadata": {},
   "source": [
    "#### add low-res spatial tifs"
   ]
  },
  {
   "cell_type": "code",
   "execution_count": null,
   "id": "4f3bef85",
   "metadata": {},
   "outputs": [],
   "source": [
    "scale_factor = .2\n",
    "pseudo_small = resize(pseudo, (pseudo.shape[0] * scale_factor, pseudo.shape[1] * scale_factor),\n",
    "                      anti_aliasing=False)\n",
    "pseudo_small.shape"
   ]
  },
  {
   "cell_type": "code",
   "execution_count": null,
   "id": "fef5aec7",
   "metadata": {
    "scrolled": true
   },
   "outputs": [],
   "source": [
    "adata.obsm['spatial'] = adata.obs[['centroid_col', 'centroid_row']].values\n",
    "spatial_key = \"spatial\"\n",
    "library_id = sample\n",
    "adata.uns[spatial_key] = {library_id: {}}\n",
    "adata.uns[spatial_key][library_id][\"images\"] = {\"hires\": pseudo_small}\n",
    "adata.uns[spatial_key][library_id][\"scalefactors\"] = {\n",
    "    \"tissue_hires_scalef\": scale_factor, \"spot_diameter_fullres\": 10}\n",
    "\n",
    "for channel, img in channel_to_img.items():\n",
    "    print(channel)\n",
    "    adata.uns[spatial_key][library_id][\"images\"][channel] = resize(\n",
    "        img, (img.shape[0] * scale_factor, img.shape[1] * scale_factor), anti_aliasing=True)\n",
    "    adata.uns[spatial_key][library_id][\"scalefactors\"][f\"tissue_{channel}_scalef\"] = scale_factor\n"
   ]
  },
  {
   "cell_type": "code",
   "execution_count": null,
   "id": "67ab9915",
   "metadata": {},
   "outputs": [],
   "source": [
    "sc.pl.spatial(adata, color='cell_type_specific', crop_coord=[5000, 6000, 5000, 6000])"
   ]
  },
  {
   "cell_type": "markdown",
   "id": "3ea0927b",
   "metadata": {},
   "source": [
    "#### save object"
   ]
  },
  {
   "cell_type": "code",
   "execution_count": null,
   "id": "34e87cf1",
   "metadata": {},
   "outputs": [],
   "source": [
    "# this looks horrible\n",
    "ks = []\n",
    "for k, d1 in gating_map.items():\n",
    "    for k2, d2 in d1.items():\n",
    "        if isinstance(d2, dict):\n",
    "            for k3 in d2.keys():\n",
    "                v = d2[k3]\n",
    "                if isinstance(k3, tuple):\n",
    "                    d2['_'.join(k3)] = v\n",
    "                    ks.append(k3)\n",
    "                    d2.pop(k3)         \n",
    "    \n",
    "adata.uns['gates'] = gating_map\n",
    "adata.uns['cell_typing_order'] = order_of_operations"
   ]
  },
  {
   "cell_type": "code",
   "execution_count": null,
   "id": "0f983300",
   "metadata": {},
   "outputs": [],
   "source": [
    "adata.write_h5ad(f'/diskmnt/Projects/Users/estorrs/multiplex_data/codex/htan/{sample}/level_4/cell_annotation_full.h5ad')\n"
   ]
  },
  {
   "cell_type": "code",
   "execution_count": null,
   "id": "3f595aa2",
   "metadata": {},
   "outputs": [],
   "source": []
  },
  {
   "cell_type": "code",
   "execution_count": null,
   "id": "d9b86d60",
   "metadata": {},
   "outputs": [],
   "source": [
    "sample = 'HT323B1-H1A1'\n",
    "adata = sc.read_h5ad(f'/diskmnt/Projects/Users/estorrs/multiplex_data/codex/htan/{sample}/level_4/cell_annotation_full.h5ad')\n"
   ]
  },
  {
   "cell_type": "markdown",
   "id": "d2889c4a",
   "metadata": {
    "heading_collapsed": true
   },
   "source": [
    "#### qitissue cluster file"
   ]
  },
  {
   "cell_type": "code",
   "execution_count": null,
   "id": "1b15fa34",
   "metadata": {
    "hidden": true
   },
   "outputs": [],
   "source": [
    "df = adata.obs[['cell_type']]\n",
    "df.index.name = 'CellID'\n",
    "df.columns = ['Cluster']\n",
    "\n",
    "m = {\n",
    "    'Epithelial': '1',\n",
    "    'Endothelial': '2',\n",
    "    'Immune': '3'\n",
    "}\n",
    "\n",
    "df['label'] = df['Cluster'].to_list()\n",
    "df['Cluster'] = [m[x] for x in df['Cluster']]\n",
    "\n",
    "df.to_csv(f'/diskmnt/Projects/Users/estorrs/multiplex_data/codex/htan/{sample}/level_4/cell_annotation_macro.csv')"
   ]
  },
  {
   "cell_type": "code",
   "execution_count": null,
   "id": "bf6204c3",
   "metadata": {
    "hidden": true
   },
   "outputs": [],
   "source": []
  }
 ],
 "metadata": {
  "kernelspec": {
   "display_name": "Python 3 (ipykernel)",
   "language": "python",
   "name": "python3"
  },
  "language_info": {
   "codemirror_mode": {
    "name": "ipython",
    "version": 3
   },
   "file_extension": ".py",
   "mimetype": "text/x-python",
   "name": "python",
   "nbconvert_exporter": "python",
   "pygments_lexer": "ipython3",
   "version": "3.7.12"
  }
 },
 "nbformat": 4,
 "nbformat_minor": 5
}
